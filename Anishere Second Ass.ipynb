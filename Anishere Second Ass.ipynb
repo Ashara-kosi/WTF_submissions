{
 "cells": [
  {
   "cell_type": "markdown",
   "id": "285cb17a",
   "metadata": {},
   "source": [
    "Write a function called showNumbers that takes a parameter called limit. It should print\n",
    "all the numbers between 0 and limit with a label to identify the even and odd numbers.\n",
    "For example, if the limit is 3, it should print:0 EVEN 1 ODD 2 EVEN 3 ODD"
   ]
  },
  {
   "cell_type": "code",
   "execution_count": null,
   "id": "85c5a907",
   "metadata": {},
   "outputs": [],
   "source": [
    "def showNumbers(limit):\n",
    "    for i in range (limit):\n",
    "        if i % 2 == 0:\n",
    "            print(i, \"EVEN\")\n",
    "        else:\n",
    "            print(i, \"ODD\")\n",
    "\n",
    "showNumbers(4)"
   ]
  },
  {
   "cell_type": "markdown",
   "id": "5abe2881",
   "metadata": {},
   "source": [
    "Write a function that returns the sum of multiples of 3 and 5 between 0\n",
    "and limit (parameter). For example, if limit is 20, it should return the sum of 3, 5, 6, 9, 10,\n",
    "12, 15, 18, 20"
   ]
  },
  {
   "cell_type": "code",
   "execution_count": 37,
   "id": "06a15f43",
   "metadata": {},
   "outputs": [
    {
     "data": {
      "text/plain": [
       "98"
      ]
     },
     "execution_count": 37,
     "metadata": {},
     "output_type": "execute_result"
    }
   ],
   "source": [
    "def sum_of_multiples(parameter):\n",
    "    add = []\n",
    "    for i in range (parameter):\n",
    "        if i % 3 == 0:\n",
    "            add.append(i)\n",
    "        elif i % 5 == 0:\n",
    "            add.append(i)\n",
    "        total = sum(add)\n",
    "    return total\n",
    "\n",
    "sum_of_multiples(21)"
   ]
  },
  {
   "cell_type": "markdown",
   "id": "99f9caa9",
   "metadata": {},
   "source": [
    "Write a function called show_stars(rows). If rows is 5, it should print the\n",
    "following:***************"
   ]
  },
  {
   "cell_type": "code",
   "execution_count": 54,
   "id": "28f65de2",
   "metadata": {},
   "outputs": [
    {
     "name": "stdout",
     "output_type": "stream",
     "text": [
      "Enter the number of rows: 5\n",
      "*  \n",
      "*  *  \n",
      "*  *  *  \n",
      "*  *  *  *  \n",
      "*  *  *  *  *  \n"
     ]
    }
   ],
   "source": [
    "r = 1\n",
    "def show_stars(num)\n",
    "    for i in range(0, show_stars):\n",
    "        for j in range(0, r):\n",
    "            print(\"* \", end= \" \")\n",
    "        r = r + 1\n",
    "        print()"
   ]
  },
  {
   "cell_type": "markdown",
   "id": "9dde8c4d",
   "metadata": {},
   "source": [
    "Write a function that prints all the prime numbers between 0 and limit where limit is a\n",
    "parameter"
   ]
  },
  {
   "cell_type": "code",
   "execution_count": 91,
   "id": "7bf452c4",
   "metadata": {},
   "outputs": [
    {
     "ename": "TypeError",
     "evalue": "prime_num() takes 1 positional argument but 2 were given",
     "output_type": "error",
     "traceback": [
      "\u001b[1;31m---------------------------------------------------------------------------\u001b[0m",
      "\u001b[1;31mTypeError\u001b[0m                                 Traceback (most recent call last)",
      "Cell \u001b[1;32mIn [91], line 10\u001b[0m\n\u001b[0;32m      7\u001b[0m             \u001b[38;5;28;01melse\u001b[39;00m:\n\u001b[0;32m      8\u001b[0m                 primes\u001b[38;5;241m.\u001b[39mappend(i)\n\u001b[1;32m---> 10\u001b[0m prime_num(\u001b[38;5;241m0\u001b[39m,\u001b[38;5;241m4\u001b[39m)\n",
      "\u001b[1;31mTypeError\u001b[0m: prime_num() takes 1 positional argument but 2 were given"
     ]
    }
   ],
   "source": [
    "def prime_num(limit):\n",
    "    for i in range (2, limit):\n",
    "        primes = []\n",
    "        for j in range(2, i):\n",
    "            if i%j == 0:\n",
    "                break\n",
    "            else:\n",
    "                primes.append(i)\n",
    "\n",
    "prime_num(0,4)"
   ]
  },
  {
   "cell_type": "markdown",
   "id": "2ebd6408",
   "metadata": {},
   "source": [
    "Write a program (function!) that takes a list and returns a new list that contains all the\n",
    "elements of the first list minus all the duplicates."
   ]
  },
  {
   "cell_type": "code",
   "execution_count": 66,
   "id": "8f66d864",
   "metadata": {},
   "outputs": [
    {
     "data": {
      "text/plain": [
       "[1, 2, 3, 4, 6, 7]"
      ]
     },
     "execution_count": 66,
     "metadata": {},
     "output_type": "execute_result"
    }
   ],
   "source": [
    "def new_list(list):\n",
    "    x = []\n",
    "    for i in list:\n",
    "        if i not in x:\n",
    "            x.append(i)\n",
    "    return x\n",
    "\n",
    "list = [1,2,2,3,4,6,3,7]\n",
    "new_list(list)"
   ]
  },
  {
   "cell_type": "markdown",
   "id": "b6029d2b",
   "metadata": {},
   "source": [
    "Write a function to ask the user for a number and determine whether the number is\n",
    "prime or not."
   ]
  },
  {
   "cell_type": "code",
   "execution_count": null,
   "id": "17728aa1",
   "metadata": {},
   "outputs": [],
   "source": [
    "ask = int(input('Enter a Number: '))\n",
    "def prime_or_not(ask):\n",
    "    if ask > 1\n",
    "        for "
   ]
  },
  {
   "cell_type": "markdown",
   "id": "f7db59cd",
   "metadata": {},
   "source": [
    "Write a program that asks the user how many Fibonnaci numbers to generate and then\n",
    "generates them"
   ]
  },
  {
   "cell_type": "code",
   "execution_count": null,
   "id": "06c5da47",
   "metadata": {},
   "outputs": [],
   "source": []
  },
  {
   "cell_type": "markdown",
   "id": "1bc9cf31",
   "metadata": {},
   "source": [
    "Write a function that ask the user for a string and print out whether this string is a\n",
    "palindrome or not"
   ]
  },
  {
   "cell_type": "code",
   "execution_count": 74,
   "id": "92509091",
   "metadata": {},
   "outputs": [
    {
     "name": "stdout",
     "output_type": "stream",
     "text": [
      "Enter a String: madam\n",
      "madam is a palindrome string\n"
     ]
    }
   ],
   "source": [
    "string = input(\"Enter a String: \")\n",
    "def palindrome_str(string):\n",
    "    a= string[: :]\n",
    "    b= string[: : -1]\n",
    "    if a==b:\n",
    "        print (f'{string} is a palindrome string')\n",
    "    else:\n",
    "        print (f'{string} is not a palindrome string' )\n",
    "        \n",
    "palindrome_str(string)"
   ]
  },
  {
   "cell_type": "markdown",
   "id": "787d5ece",
   "metadata": {},
   "source": [
    "Write a function that takes an ordered list of numbers (a list where the elements are in order from smallest to largest) and another number."
   ]
  },
  {
   "cell_type": "code",
   "execution_count": 81,
   "id": "78222ae9",
   "metadata": {},
   "outputs": [
    {
     "data": {
      "text/plain": [
       "[1, 2, 3, 4, 9]"
      ]
     },
     "execution_count": 81,
     "metadata": {},
     "output_type": "execute_result"
    }
   ],
   "source": [
    "def sort_list(list):\n",
    "    for i in list:\n",
    "        list.sort()\n",
    "    return list\n",
    "        \n",
    "list = [2,4,9,3,1]\n",
    "sort_list(list)"
   ]
  },
  {
   "cell_type": "markdown",
   "id": "2543e156",
   "metadata": {},
   "source": [
    "Create a program that asks the user to enter their name and their age. Print out a message addressed to them that tells them the year that they will turn 100 years old."
   ]
  },
  {
   "cell_type": "code",
   "execution_count": 88,
   "id": "35f83235",
   "metadata": {},
   "outputs": [
    {
     "name": "stdout",
     "output_type": "stream",
     "text": [
      "Enter your name: Farhan\n",
      "Enter your age: 12\n"
     ]
    },
    {
     "data": {
      "text/plain": [
       "('You will be 100 years by ', 2110)"
      ]
     },
     "execution_count": 88,
     "metadata": {},
     "output_type": "execute_result"
    }
   ],
   "source": [
    "name = input(\"Enter your name: \")\n",
    "age = int(input(\"Enter your age: \"))\n",
    "def age_calc(age):\n",
    "    year_to_100 = 2022+(100-age)\n",
    "    return \"You will be 100 years by \", year_to_100\n",
    "\n",
    "\n",
    "age_calc(age)"
   ]
  },
  {
   "cell_type": "code",
   "execution_count": null,
   "id": "26494c9c",
   "metadata": {},
   "outputs": [],
   "source": []
  }
 ],
 "metadata": {
  "kernelspec": {
   "display_name": "Python 3 (ipykernel)",
   "language": "python",
   "name": "python3"
  },
  "language_info": {
   "codemirror_mode": {
    "name": "ipython",
    "version": 3
   },
   "file_extension": ".py",
   "mimetype": "text/x-python",
   "name": "python",
   "nbconvert_exporter": "python",
   "pygments_lexer": "ipython3",
   "version": "3.10.7"
  }
 },
 "nbformat": 4,
 "nbformat_minor": 5
}
