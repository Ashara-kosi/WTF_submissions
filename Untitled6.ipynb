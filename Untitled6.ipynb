{
  "nbformat": 4,
  "nbformat_minor": 0,
  "metadata": {
    "colab": {
      "provenance": []
    },
    "kernelspec": {
      "name": "python3",
      "display_name": "Python 3"
    },
    "language_info": {
      "name": "python"
    }
  },
  "cells": [
    {
      "cell_type": "code",
      "execution_count": null,
      "metadata": {
        "colab": {
          "base_uri": "https://localhost:8080/"
        },
        "id": "WIkYdPBi-Tah",
        "outputId": "c63f0a13-c109-4808-ce2e-5889bc592cb8"
      },
      "outputs": [
        {
          "output_type": "stream",
          "name": "stdout",
          "text": [
            "0 EVEN\n",
            "1 ODD\n",
            "2 EVEN\n",
            "3 ODD\n",
            "4 EVEN\n",
            "None\n"
          ]
        }
      ],
      "source": [
        "#1 Write a function called showNumbers that takes a parameter called limit. It should print\n",
        "#all the numbers between 0 and limit with a label to identify the even and odd numbers.\n",
        "#For example, if the limit is 3, it should print:0 EVEN 1 ODD 2 EVEN 3 ODD\n",
        "def ShowNumbers(limit):\n",
        "  for x in range(0, limit):\n",
        "    if x==0:\n",
        "      print(x, end=\" \")\n",
        "      print(\"EVEN\")\n",
        "    elif x % 2==0:\n",
        "      print(x, end=\" \")\n",
        "      print(\"EVEN\")\n",
        "    else:\n",
        "      print(x, end=\" \")\n",
        "      print(\"ODD\")\n",
        "\n",
        "print(ShowNumbers(5))"
      ]
    },
    {
      "cell_type": "code",
      "source": [
        "#2 Write a function that returns the sum of multiples of 3 and 5 between 0\n",
        "#and limit (parameter). For example, if limit is 20, it should return the sum of 3, 5, 6, 9, 10,\n",
        "#12, 15, 18, 20.\n",
        "limit= range(0, 20)\n",
        "def sum_multiples(limit):\n",
        "  for a in limit:\n",
        "    if a % 3 ==0:\n",
        "      print(a)\n",
        "    if a % 5 ==0:\n",
        "      print(a)\n",
        "\n",
        "sum_multiples(limit)\n"
      ],
      "metadata": {
        "colab": {
          "base_uri": "https://localhost:8080/"
        },
        "id": "zWk19pv2CW84",
        "outputId": "24688c94-d48c-422c-cc83-a2a055ccb8ce"
      },
      "execution_count": null,
      "outputs": [
        {
          "output_type": "stream",
          "name": "stdout",
          "text": [
            "0\n",
            "0\n",
            "3\n",
            "5\n",
            "6\n",
            "9\n",
            "10\n",
            "12\n",
            "15\n",
            "15\n",
            "18\n"
          ]
        }
      ]
    },
    {
      "cell_type": "code",
      "source": [
        "#3 Write a function called show_stars(rows). If rows is 5, it should print the\n",
        "# following:***************\n",
        "rows = 5\n",
        "def show_stars(rows):\n",
        "  for a in range(0, rows+1):\n",
        "    for b in range(0, a):\n",
        "      print(\"*\", end=\" \" )\n",
        "    print(\"\\n\")\n",
        "\n",
        "show_stars(rows)\n"
      ],
      "metadata": {
        "colab": {
          "base_uri": "https://localhost:8080/"
        },
        "id": "nqlYJkRWHTLO",
        "outputId": "f5442426-125f-4e54-9ef1-2ce43b999fce"
      },
      "execution_count": null,
      "outputs": [
        {
          "output_type": "stream",
          "name": "stdout",
          "text": [
            "\n",
            "\n",
            "* \n",
            "\n",
            "* * \n",
            "\n",
            "* * * \n",
            "\n",
            "* * * * \n",
            "\n",
            "* * * * * \n",
            "\n"
          ]
        }
      ]
    },
    {
      "cell_type": "code",
      "source": [
        "# 4. Write a function that prints all the prime numbers between 0 and limit where limit is a parameter\n",
        "numbers = range(10, 50)\n",
        "def prime_numbers(limit):\n",
        "  for num in numbers:\n",
        "    if num > 5:\n",
        "      for i in range(2, num):\n",
        "        if num !=0:\n",
        "          return prime_numbers\n",
        "        else:\n",
        "          print(num)\n",
        "\n",
        "prime_numbers(limit)\n"
      ],
      "metadata": {
        "colab": {
          "base_uri": "https://localhost:8080/"
        },
        "id": "rYmiYJ3uJz9Y",
        "outputId": "0d353485-f88f-4e68-cbc4-dbf6232c78c3"
      },
      "execution_count": 29,
      "outputs": [
        {
          "output_type": "execute_result",
          "data": {
            "text/plain": [
              "<function __main__.prime_numbers(limit)>"
            ]
          },
          "metadata": {},
          "execution_count": 29
        }
      ]
    },
    {
      "cell_type": "code",
      "source": [
        "#5 Write a program (function!) that takes a list and returns a new list that contains all the\n",
        "#elements of the first list minus all the duplicates\n",
        "list = [1,2,9,3,2,4,5,3,6,7,8,6,9,10]\n",
        "def duplicate_listRemove(list):\n",
        "  new_list = []\n",
        "  for i in list:\n",
        "    if i not in new_list:\n",
        "      new_list.append(i)\n",
        "  return new_list\n",
        "\n",
        "print(duplicate_listRemove(list))"
      ],
      "metadata": {
        "colab": {
          "base_uri": "https://localhost:8080/"
        },
        "id": "V-yCAk0hQprY",
        "outputId": "ab7b99b0-6099-47d5-e4ab-73efed31459e"
      },
      "execution_count": 12,
      "outputs": [
        {
          "output_type": "stream",
          "name": "stdout",
          "text": [
            "[1, 2, 9, 3, 4, 5, 6, 7, 8, 10]\n"
          ]
        }
      ]
    },
    {
      "cell_type": "code",
      "source": [
        "#6 Write a function to ask the user for a number and determine whether the number is\n",
        "#prime or not.\n",
        "\n",
        "num = range(1,6)\n",
        "def checkWhether_primeornot(num):\n",
        "  for i in num:\n",
        "    if i % 2==0:\n",
        "      print(True)\n",
        "    else:\n",
        "      print(False)\n",
        "\n",
        "checkWhether_primeornot(num)\n"
      ],
      "metadata": {
        "colab": {
          "base_uri": "https://localhost:8080/"
        },
        "id": "s7CHbfqfaI8f",
        "outputId": "a6adc844-53a1-4f68-d7cd-63cfa31491ce"
      },
      "execution_count": 14,
      "outputs": [
        {
          "output_type": "stream",
          "name": "stdout",
          "text": [
            "False\n",
            "True\n",
            "False\n",
            "True\n",
            "False\n"
          ]
        }
      ]
    },
    {
      "cell_type": "code",
      "source": [
        "# Write a program that asks the user how many Fibonnaci numbers to generate and then generates them\n",
        "# I did not do this question because the more i try to understand it the more i got confuse."
      ],
      "metadata": {
        "id": "y7593cjjqKWm"
      },
      "execution_count": null,
      "outputs": []
    },
    {
      "cell_type": "code",
      "source": [
        "#8 Write a function that ask the user for a string and print out whether this string is a\n",
        "# palindrome or not\n",
        "def palindromeornot():\n",
        "  user = input(\"Enter a word: \")\n",
        "  left = 0\n",
        "  right = len(user)-1\n",
        "  while right >= left:\n",
        "    if user[left] == user[right]:\n",
        "      return True\n",
        "    else:\n",
        "      return False\n",
        "      left +=1\n",
        "      right -=1\n",
        "\n",
        "palindromeornot()\n"
      ],
      "metadata": {
        "colab": {
          "base_uri": "https://localhost:8080/"
        },
        "id": "ecNm_3evc_AB",
        "outputId": "a6df1457-1172-445a-f6a4-0eff646e3728"
      },
      "execution_count": 17,
      "outputs": [
        {
          "name": "stdout",
          "output_type": "stream",
          "text": [
            "Enter a word: arrange\n"
          ]
        },
        {
          "output_type": "execute_result",
          "data": {
            "text/plain": [
              "False"
            ]
          },
          "metadata": {},
          "execution_count": 17
        }
      ]
    },
    {
      "cell_type": "code",
      "source": [
        "#9 Write a function that takes an ordered list of numbers (a list where the elements are in order \n",
        "#from smallest to largest) and another number\n",
        "list = [30,10,20,50,40,70,60]\n",
        "def smallesttolargest(list):\n",
        "  new_list = []\n",
        "  for x in list:\n",
        "    if x not in new_list:\n",
        "      new_list.append(x)\n",
        "      new_list.sort()\n",
        "  return new_list\n",
        "\n",
        "smallesttolargest(list)"
      ],
      "metadata": {
        "colab": {
          "base_uri": "https://localhost:8080/"
        },
        "id": "ZSYRVTg3jH8R",
        "outputId": "b5d32a52-ae9c-4ea2-dc4f-145fec63f4fd"
      },
      "execution_count": 23,
      "outputs": [
        {
          "output_type": "execute_result",
          "data": {
            "text/plain": [
              "[10, 20, 30, 40, 50, 60, 70]"
            ]
          },
          "metadata": {},
          "execution_count": 23
        }
      ]
    },
    {
      "cell_type": "code",
      "source": [
        "# 10. Create a program that asks the user to enter their name and their age. Print out a\n",
        "# message addressed to them that tells them the year that they will turn 100 years old.\n",
        "user_name = input(\"Enter your name\")\n",
        "user_age = int(input(\"Enter your age\"))\n",
        "user_age_100years = (100 - user_age) + 2022\n",
        "print (user_name,\"is\", user_age ,\"she will turn 100 years old.\", user_age_100years)\n"
      ],
      "metadata": {
        "colab": {
          "base_uri": "https://localhost:8080/"
        },
        "id": "Q6tkCZMHlKF9",
        "outputId": "9665e7ec-0c13-4b1d-d8df-eac5abe12901"
      },
      "execution_count": 28,
      "outputs": [
        {
          "output_type": "stream",
          "name": "stdout",
          "text": [
            "Enter your nameNimah\n",
            "Enter your age20\n",
            "Nimah is 20 she will turn 100 years old. 2102\n"
          ]
        }
      ]
    },
    {
      "cell_type": "code",
      "source": [],
      "metadata": {
        "id": "0bpSbWb7oqYR"
      },
      "execution_count": null,
      "outputs": []
    },
    {
      "cell_type": "code",
      "source": [],
      "metadata": {
        "id": "s-w1428okW54"
      },
      "execution_count": null,
      "outputs": []
    },
    {
      "cell_type": "code",
      "source": [],
      "metadata": {
        "id": "lUy_WbqtlmGe"
      },
      "execution_count": null,
      "outputs": []
    },
    {
      "cell_type": "code",
      "source": [],
      "metadata": {
        "id": "LQTKuYWXrowl"
      },
      "execution_count": null,
      "outputs": []
    }
  ]
}