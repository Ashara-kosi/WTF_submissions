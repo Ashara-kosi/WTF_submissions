{
 "cells": [
  {
   "cell_type": "markdown",
   "id": "c46fc896",
   "metadata": {},
   "source": [
    "1.\tWrite a function to calculate the multiplication and sum of two numbers."
   ]
  },
  {
   "cell_type": "code",
   "execution_count": 5,
   "id": "7b104b08",
   "metadata": {},
   "outputs": [
    {
     "data": {
      "text/plain": [
       "(12, 7)"
      ]
     },
     "execution_count": 5,
     "metadata": {},
     "output_type": "execute_result"
    }
   ],
   "source": [
    "def multiply_and_sum(x,y):\n",
    "    '''a function that multiply and sum two numbers'''\n",
    "    product = x * y\n",
    "    sum = x + y\n",
    "    return product, sum\n",
    "#print ('The multiplication and sum of the number is' multiply_and_sum(x,y))\n",
    "\n",
    "multiply_and_sum(3,4)\n"
   ]
  },
  {
   "cell_type": "markdown",
   "id": "1f76ef39",
   "metadata": {},
   "source": [
    "2.\tWrite a function to print the sum of the current number and the previous number"
   ]
  },
  {
   "cell_type": "code",
   "execution_count": 6,
   "id": "e3373024",
   "metadata": {},
   "outputs": [
    {
     "name": "stdout",
     "output_type": "stream",
     "text": [
      "2\n",
      "6\n",
      "10\n",
      "14\n",
      "11\n",
      "8\n",
      "12\n",
      "16\n"
     ]
    }
   ],
   "source": [
    "def sum_prev_n_curr_nums(*num):\n",
    "    '''A function that sum the current and previous numbers in a list'''\n",
    "    for i in range(len(num)):\n",
    "        if i == 0:\n",
    "            print (num[i])\n",
    "        else:\n",
    "            print(num[i-1] + num[i])\n",
    "\n",
    "sum_prev_n_curr_nums(2,4,6,8,3,5,7,9)    "
   ]
  },
  {
   "cell_type": "markdown",
   "id": "2d439a8d",
   "metadata": {},
   "source": [
    "3.\tWrite a function to print characters from a string that are present at an even index number."
   ]
  },
  {
   "cell_type": "code",
   "execution_count": 29,
   "id": "3a9a861d",
   "metadata": {},
   "outputs": [
    {
     "name": "stdout",
     "output_type": "stream",
     "text": [
      "['F']\n",
      "['F']\n",
      "['F', 'o']\n",
      "['F', 'o']\n",
      "['F', 'o', 'a']\n"
     ]
    }
   ],
   "source": [
    "even_char=[]\n",
    "def even_index(string):\n",
    "    '''Function that print the even index of characters in a string'''\n",
    "\n",
    "    for i in range(len(string)):\n",
    "        if i % 2 == 0:\n",
    "            even_char.append(string[i])\n",
    "        print(even_char)\n",
    "even_index('Flora')\n",
    "                            \n",
    "\n",
    "\n",
    "            "
   ]
  },
  {
   "cell_type": "markdown",
   "id": "7d66306e",
   "metadata": {},
   "source": [
    "\n",
    "4.\tWrite a function to remove first characters from a string\n"
   ]
  },
  {
   "cell_type": "code",
   "execution_count": 15,
   "id": "849725e1",
   "metadata": {},
   "outputs": [
    {
     "name": "stdout",
     "output_type": "stream",
     "text": [
      "evenge\n"
     ]
    }
   ],
   "source": [
    "def del_first_char(string):\n",
    "    '''Function deletes the first character of the string'''\n",
    "    result = string[1:]\n",
    "    print (result)\n",
    "del_first_char('revenge')\n",
    "    "
   ]
  },
  {
   "cell_type": "markdown",
   "id": "da5ad50f",
   "metadata": {},
   "source": [
    "5.\tWrite a function to check if the first and last number of a list is the same"
   ]
  },
  {
   "cell_type": "code",
   "execution_count": 17,
   "id": "6822da94",
   "metadata": {},
   "outputs": [
    {
     "name": "stdout",
     "output_type": "stream",
     "text": [
      "Yes\n"
     ]
    }
   ],
   "source": [
    "def check_list(*num):\n",
    "    '''The function checks if the first and last number in a list are the same'''\n",
    "    if num[0] == num[-1]:\n",
    "        print('Yes')\n",
    "    else:\n",
    "        print('No')\n",
    "check_list(3,4,5,6,7,8,3)"
   ]
  },
  {
   "cell_type": "markdown",
   "id": "13913725",
   "metadata": {},
   "source": [
    "6. Write a function to print multiplication table from 1 to 10"
   ]
  },
  {
   "cell_type": "code",
   "execution_count": 19,
   "id": "b55f7a17",
   "metadata": {},
   "outputs": [
    {
     "name": "stdout",
     "output_type": "stream",
     "text": [
      "\n",
      "\n",
      "MULTIPLICATION TABLE 1\n",
      "\n",
      "1     X     1 =     1\n",
      "1     X     2 =     2\n",
      "1     X     3 =     3\n",
      "1     X     4 =     4\n",
      "1     X     5 =     5\n",
      "1     X     6 =     6\n",
      "1     X     7 =     7\n",
      "1     X     8 =     8\n",
      "1     X     9 =     9\n",
      "1     X    10 =    10\n",
      "\n",
      "\n",
      "MULTIPLICATION TABLE 2\n",
      "\n",
      "2     X     1 =     2\n",
      "2     X     2 =     4\n",
      "2     X     3 =     6\n",
      "2     X     4 =     8\n",
      "2     X     5 =    10\n",
      "2     X     6 =    12\n",
      "2     X     7 =    14\n",
      "2     X     8 =    16\n",
      "2     X     9 =    18\n",
      "2     X    10 =    20\n",
      "\n",
      "\n",
      "MULTIPLICATION TABLE 3\n",
      "\n",
      "3     X     1 =     3\n",
      "3     X     2 =     6\n",
      "3     X     3 =     9\n",
      "3     X     4 =    12\n",
      "3     X     5 =    15\n",
      "3     X     6 =    18\n",
      "3     X     7 =    21\n",
      "3     X     8 =    24\n",
      "3     X     9 =    27\n",
      "3     X    10 =    30\n",
      "\n",
      "\n",
      "MULTIPLICATION TABLE 4\n",
      "\n",
      "4     X     1 =     4\n",
      "4     X     2 =     8\n",
      "4     X     3 =    12\n",
      "4     X     4 =    16\n",
      "4     X     5 =    20\n",
      "4     X     6 =    24\n",
      "4     X     7 =    28\n",
      "4     X     8 =    32\n",
      "4     X     9 =    36\n",
      "4     X    10 =    40\n",
      "\n",
      "\n",
      "MULTIPLICATION TABLE 5\n",
      "\n",
      "5     X     1 =     5\n",
      "5     X     2 =    10\n",
      "5     X     3 =    15\n",
      "5     X     4 =    20\n",
      "5     X     5 =    25\n",
      "5     X     6 =    30\n",
      "5     X     7 =    35\n",
      "5     X     8 =    40\n",
      "5     X     9 =    45\n",
      "5     X    10 =    50\n",
      "\n",
      "\n",
      "MULTIPLICATION TABLE 6\n",
      "\n",
      "6     X     1 =     6\n",
      "6     X     2 =    12\n",
      "6     X     3 =    18\n",
      "6     X     4 =    24\n",
      "6     X     5 =    30\n",
      "6     X     6 =    36\n",
      "6     X     7 =    42\n",
      "6     X     8 =    48\n",
      "6     X     9 =    54\n",
      "6     X    10 =    60\n",
      "\n",
      "\n",
      "MULTIPLICATION TABLE 7\n",
      "\n",
      "7     X     1 =     7\n",
      "7     X     2 =    14\n",
      "7     X     3 =    21\n",
      "7     X     4 =    28\n",
      "7     X     5 =    35\n",
      "7     X     6 =    42\n",
      "7     X     7 =    49\n",
      "7     X     8 =    56\n",
      "7     X     9 =    63\n",
      "7     X    10 =    70\n",
      "\n",
      "\n",
      "MULTIPLICATION TABLE 8\n",
      "\n",
      "8     X     1 =     8\n",
      "8     X     2 =    16\n",
      "8     X     3 =    24\n",
      "8     X     4 =    32\n",
      "8     X     5 =    40\n",
      "8     X     6 =    48\n",
      "8     X     7 =    56\n",
      "8     X     8 =    64\n",
      "8     X     9 =    72\n",
      "8     X    10 =    80\n",
      "\n",
      "\n",
      "MULTIPLICATION TABLE 9\n",
      "\n",
      "9     X     1 =     9\n",
      "9     X     2 =    18\n",
      "9     X     3 =    27\n",
      "9     X     4 =    36\n",
      "9     X     5 =    45\n",
      "9     X     6 =    54\n",
      "9     X     7 =    63\n",
      "9     X     8 =    72\n",
      "9     X     9 =    81\n",
      "9     X    10 =    90\n",
      "\n",
      "\n",
      "MULTIPLICATION TABLE 10\n",
      "\n",
      "10    X     1 =    10\n",
      "10    X     2 =    20\n",
      "10    X     3 =    30\n",
      "10    X     4 =    40\n",
      "10    X     5 =    50\n",
      "10    X     6 =    60\n",
      "10    X     7 =    70\n",
      "10    X     8 =    80\n",
      "10    X     9 =    90\n",
      "10    X    10 =   100\n"
     ]
    }
   ],
   "source": [
    "def multiplication_table(num):\n",
    "    '''Function that print the multiplication table of numbers'''\n",
    "    for i in range(1, num + 1):\n",
    "        print ('\\n\\nMULTIPLICATION TABLE %d\\n' % (i))\n",
    "        for n in range (1, num +1):\n",
    "            print(\"%-5d X %5d = %5d\" % (i, n, i*n))\n",
    "multiplication_table(10)\n",
    "    "
   ]
  },
  {
   "cell_type": "markdown",
   "id": "e1ce6e3d",
   "metadata": {},
   "source": [
    "7.\tGiven a two list of numbers, write a function to create a new list such that the new list should contain odd numbers from the first list and even numbers from the second list."
   ]
  },
  {
   "cell_type": "code",
   "execution_count": 30,
   "id": "ed202640",
   "metadata": {},
   "outputs": [
    {
     "name": "stdout",
     "output_type": "stream",
     "text": [
      "[5, 87, 65, 6, 90, 4, 32, 4]\n"
     ]
    }
   ],
   "source": [
    "list1 = [2,5,8,12,4,6,87,32,65]\n",
    "list2 = [1,6,3,90,4,5,32,4]\n",
    "def new_list(num1, num2):\n",
    "    '''Function that print the odd numbers from first list and even number from second list'''\n",
    "    result = [n for n in num1 if n%2]+[n for n in num2 if not n%2]\n",
    "    print(result)\n",
    "new_list(list1,list2)\n",
    "\n"
   ]
  },
  {
   "cell_type": "code",
   "execution_count": null,
   "id": "25785f0f",
   "metadata": {},
   "outputs": [],
   "source": []
  }
 ],
 "metadata": {
  "kernelspec": {
   "display_name": "Python 3 (ipykernel)",
   "language": "python",
   "name": "python3"
  },
  "language_info": {
   "codemirror_mode": {
    "name": "ipython",
    "version": 3
   },
   "file_extension": ".py",
   "mimetype": "text/x-python",
   "name": "python",
   "nbconvert_exporter": "python",
   "pygments_lexer": "ipython3",
   "version": "3.9.7"
  }
 },
 "nbformat": 4,
 "nbformat_minor": 5
}
