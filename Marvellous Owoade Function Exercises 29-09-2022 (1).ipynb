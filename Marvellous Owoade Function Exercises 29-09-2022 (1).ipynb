{
 "cells": [
  {
   "cell_type": "markdown",
   "id": "d1d2e65c",
   "metadata": {},
   "source": [
    "### 1. Write a function called show Numbers that takes a parameter called limit. It should print all the numbers between 0 and limit with a label to identify the even and odd numbers."
   ]
  },
  {
   "cell_type": "code",
   "execution_count": 76,
   "id": "5af21522",
   "metadata": {},
   "outputs": [
    {
     "name": "stdout",
     "output_type": "stream",
     "text": [
      "enter no: 12\n",
      "   \n",
      "0 even\n",
      "1 odd\n",
      "2 even\n",
      "3 odd\n",
      "4 even\n",
      "5 odd\n",
      "6 even\n",
      "7 odd\n",
      "8 even\n",
      "9 odd\n",
      "10 even\n",
      "11 odd\n",
      "12 even\n"
     ]
    }
   ],
   "source": [
    "def shownumber(limit):\n",
    "    i=0\n",
    "    while i<=a:\n",
    "        if i%2==0:\n",
    "            print(i,\"even\")\n",
    "        else:\n",
    "            print(i,\"odd\")\n",
    "        i+=1\n",
    "a=int(input(\"enter no: \"))\n",
    "print('   ')\n",
    "shownumber(a)"
   ]
  },
  {
   "cell_type": "markdown",
   "id": "83e408e7",
   "metadata": {},
   "source": [
    "### 2. Write a function that returns the sum of multiples of 3 and 5 between 0 and limit (parameter). For example, if limit is 20, it should return the sum of 3, 5, 6, 9, 10, 12, 15, 18, 20."
   ]
  },
  {
   "cell_type": "code",
   "execution_count": 1,
   "id": "2dcb29aa",
   "metadata": {},
   "outputs": [
    {
     "name": "stdout",
     "output_type": "stream",
     "text": [
      "enter the limit:  15\n",
      "[]\n",
      "[]\n",
      "[3]\n",
      "[3]\n",
      "[3, 5]\n",
      "[3, 5, 6]\n",
      "[3, 5, 6]\n",
      "[3, 5, 6]\n",
      "[3, 5, 6, 9]\n",
      "[3, 5, 6, 9, 10]\n",
      "[3, 5, 6, 9, 10]\n",
      "[3, 5, 6, 9, 10, 12]\n",
      "[3, 5, 6, 9, 10, 12]\n",
      "[3, 5, 6, 9, 10, 12]\n"
     ]
    }
   ],
   "source": [
    "def sum_of_multiples(limit):\n",
    "    sum=[]\n",
    "    for number in range(1, limit):\n",
    "        if number%3 == 0:\n",
    "            sum.append(number)\n",
    "        if number%5 == 0:\n",
    "            sum.append(number)\n",
    "        print(sum)\n",
    "\n",
    "sum_of_multiples(int(input(\"enter the limit:  \")))"
   ]
  },
  {
   "cell_type": "markdown",
   "id": "118012c0",
   "metadata": {},
   "source": [
    "### 3. Write a function called show_stars(rows). If rows is 5, it should print the following:***************"
   ]
  },
  {
   "cell_type": "code",
   "execution_count": 23,
   "id": "e845ab62",
   "metadata": {},
   "outputs": [
    {
     "name": "stdout",
     "output_type": "stream",
     "text": [
      "\n",
      "1 \n",
      "2 2 \n",
      "3 3 3 \n",
      "4 4 4 4 \n",
      "5 5 5 5 5 \n"
     ]
    }
   ],
   "source": [
    "def show_stars(rows):\n",
    "    rows = 0\n",
    "for i in range(rows):\n",
    "    for j in range(i):\n",
    "        print(i, end=' ')\n",
    "    \n",
    "    print('')"
   ]
  },
  {
   "cell_type": "markdown",
   "id": "2429db0c",
   "metadata": {},
   "source": [
    "### 4. Write a function that prints all the prime numbers between 0 and limit where limit is a parameter."
   ]
  },
  {
   "cell_type": "code",
   "execution_count": 50,
   "id": "b151f2cd",
   "metadata": {},
   "outputs": [
    {
     "name": "stdout",
     "output_type": "stream",
     "text": [
      "[2, 3, 5, 7, 11, 13, 17, 19, 23]\n"
     ]
    }
   ],
   "source": [
    "def primenum(primes):\n",
    "    n=int(input(\"Enter the number till you want to check: \"))\n",
    "primes = []\n",
    "for i in range (2, n+1):\n",
    "    for j in range(2, i):\n",
    "        if i%j == 0:\n",
    "            break\n",
    "    else:\n",
    "        primes.append(i)\n",
    "print(primes)"
   ]
  },
  {
   "cell_type": "markdown",
   "id": "ed61b47d",
   "metadata": {},
   "source": [
    "### 5. Write a program (function!) that takes a list and returns a new list that contains all the elements of the first list minus all the duplicates"
   ]
  },
  {
   "cell_type": "code",
   "execution_count": 84,
   "id": "658570ee",
   "metadata": {},
   "outputs": [
    {
     "name": "stdout",
     "output_type": "stream",
     "text": [
      "[1, 2, 3, 4]\n"
     ]
    }
   ],
   "source": [
    "def removeDuplicates(l): return list(set(l))\n",
    "\n",
    "mylist = [1, 2, 3, 4, 2, 3, 4, 2, 3, 4]\n",
    "\n",
    "newList = removeDuplicates(mylist)\n",
    "\n",
    "print(newList)"
   ]
  },
  {
   "cell_type": "markdown",
   "id": "6a5ce6c6",
   "metadata": {},
   "source": [
    "### 6. Write a function to ask the user for a number and determine whether the number is prime or not"
   ]
  },
  {
   "cell_type": "code",
   "execution_count": 23,
   "id": "299b343b",
   "metadata": {},
   "outputs": [
    {
     "name": "stdout",
     "output_type": "stream",
     "text": [
      "13 is a Prime number\n"
     ]
    }
   ],
   "source": [
    "def prime_num(number):\n",
    "    number = int(input(\"Enter The Number\"))\n",
    "\n",
    "if number > 1:\n",
    "    for i in range(2,int(number/2)+1):\n",
    "        if (number % i == 0):\n",
    "            print(number, \"is not a Prime Number\")\n",
    "            break\n",
    "    else:\n",
    "        print(number,\"is a Prime number\")\n",
    "else:\n",
    "    print(number,\"is not a Prime number\")"
   ]
  },
  {
   "cell_type": "markdown",
   "id": "5baccf91",
   "metadata": {},
   "source": [
    "### 7. Write a program that asks the user how many Fibonnaci numbers to generate and then generates them"
   ]
  },
  {
   "cell_type": "code",
   "execution_count": 4,
   "id": "ad46af43",
   "metadata": {},
   "outputs": [
    {
     "name": "stdout",
     "output_type": "stream",
     "text": [
      "Please enter how many numbers would you like in your Fibonacci sequence: 8\n",
      "[1, 1, 2, 3, 5, 8, 13, 21]\n"
     ]
    }
   ],
   "source": [
    "def fibonacci():\n",
    "    num = int(input(\"Please enter how many numbers would you like in your Fibonacci sequence: \"))\n",
    "    i = 1\n",
    "    if num == 0:\n",
    "        fib = []\n",
    "    elif num == 1:\n",
    "        fib = [1]\n",
    "    elif num == 2:\n",
    "        fib = [1,1]\n",
    "    elif num > 2:\n",
    "        fib = [1,1]\n",
    "        while i < (num - 1):\n",
    "            fib.append(fib[i] + fib[i-1])\n",
    "            i += 1\n",
    "    return fib\n",
    "print (fibonacci())"
   ]
  },
  {
   "cell_type": "markdown",
   "id": "55e96b3f",
   "metadata": {},
   "source": [
    "### 8. Write a function that ask the user for a string and print out whether this string is a palindrome or not"
   ]
  },
  {
   "cell_type": "code",
   "execution_count": 12,
   "id": "1acbfd6b",
   "metadata": {},
   "outputs": [
    {
     "name": "stdout",
     "output_type": "stream",
     "text": [
      "Please input a string: trindent\n",
      "No\n",
      "No\n",
      "No\n",
      "No\n",
      "No\n"
     ]
    }
   ],
   "source": [
    "def palindrome(p):\n",
    "  t = str(input(\"Please input a string: \"))\n",
    "  for a in range(len(p)):\n",
    "    if t == p[::-1]:\n",
    "      print(\"Yes\")\n",
    "    else:\n",
    "      print(\"No\")\n",
    "m = \"Masam\"\n",
    "palindrome(m)"
   ]
  },
  {
   "cell_type": "markdown",
   "id": "20354529",
   "metadata": {},
   "source": [
    "### 9. Write a function that takes an ordered list of numbers (a list where the elements are in order from smallest to largest) and another number"
   ]
  },
  {
   "cell_type": "code",
   "execution_count": 9,
   "id": "a7789d93",
   "metadata": {},
   "outputs": [
    {
     "name": "stdout",
     "output_type": "stream",
     "text": [
      "[23, 50, 65, 82, 100]\n"
     ]
    }
   ],
   "source": [
    "def order(lists):\n",
    "  newlist = []\n",
    "  for b in lists:\n",
    "    if b not in newlist:\n",
    "      newlist.append(b)\n",
    "      newlist.sort()\n",
    "  print(newlist)\n",
    "lists = [100, 50, 65, 82, 23]\n",
    "order(lists)"
   ]
  },
  {
   "cell_type": "markdown",
   "id": "290706c4",
   "metadata": {},
   "source": [
    "### 10. Create a program that asks the user to enter their name and their age. Print out a message addressed to them that tells them the year that they will turn 100 years old."
   ]
  },
  {
   "cell_type": "code",
   "execution_count": 72,
   "id": "ba956b48",
   "metadata": {},
   "outputs": [
    {
     "name": "stdout",
     "output_type": "stream",
     "text": [
      "Enter your name: Marvellous\n",
      "Enter your age: 24\n",
      "Marvellous you will be 100 years in  2098\n"
     ]
    }
   ],
   "source": [
    "name = str(input(\"Enter your name: \"))\n",
    "age = int(input(\"Enter your age: \"))\n",
    "future = 2022 + (100 - age)\n",
    "print(name, \"you will be 100 years in \", future)"
   ]
  }
 ],
 "metadata": {
  "kernelspec": {
   "display_name": "Python 3 (ipykernel)",
   "language": "python",
   "name": "python3"
  },
  "language_info": {
   "codemirror_mode": {
    "name": "ipython",
    "version": 3
   },
   "file_extension": ".py",
   "mimetype": "text/x-python",
   "name": "python",
   "nbconvert_exporter": "python",
   "pygments_lexer": "ipython3",
   "version": "3.9.12"
  }
 },
 "nbformat": 4,
 "nbformat_minor": 5
}
