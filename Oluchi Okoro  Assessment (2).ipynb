{
 "cells": [
  {
   "cell_type": "markdown",
   "id": "b2c32048",
   "metadata": {},
   "source": [
    "# 1.\tWrite a function to calculate the multiplication and sum of two numbers."
   ]
  },
  {
   "cell_type": "code",
   "execution_count": 1,
   "id": "f89eccb6",
   "metadata": {},
   "outputs": [
    {
     "name": "stdout",
     "output_type": "stream",
     "text": [
      "Enter value of first number: 10\n",
      "Enter value of second number: 20\n",
      "multiplication and sum of 10 and 20 is (200, 30)\n"
     ]
    }
   ],
   "source": [
    "def multiply_sum(x,y):\n",
    "    return x*y,x+y\n",
    "\n",
    "a=int(input(\"Enter value of first number: \"))\n",
    "b=int(input(\"Enter value of second number: \"))\n",
    "c=multiply_sum(a,b)\n",
    "print(\"multiplication and sum of\", a,\"and\",b, \"is\",c)"
   ]
  },
  {
   "cell_type": "markdown",
   "id": "1ce99ca6",
   "metadata": {},
   "source": [
    "# 2.\tWrite a function to print the sum of the current number and the previous number"
   ]
  },
  {
   "cell_type": "code",
   "execution_count": 16,
   "id": "739d2133",
   "metadata": {},
   "outputs": [
    {
     "name": "stdout",
     "output_type": "stream",
     "text": [
      "Enter 1st number:32\n",
      "528\n"
     ]
    }
   ],
   "source": [
    "def sum_num(p):\n",
    "    if p <= 0:\n",
    "        return p\n",
    "    return sum_num(p-1)+ p\n",
    "p=int(input(\"Enter 1st number:\"))\n",
    "\n",
    "print(sum_num(p))"
   ]
  },
  {
   "cell_type": "markdown",
   "id": "ea724af6",
   "metadata": {},
   "source": [
    "# 3.\tWrite a function to print characters from a string that are present at an even index number"
   ]
  },
  {
   "cell_type": "code",
   "execution_count": 15,
   "id": "7db91aa3",
   "metadata": {},
   "outputs": [
    {
     "name": "stdout",
     "output_type": "stream",
     "text": [
      "present chareacter T position at 0\n",
      "present chareacter c position at 2\n",
      "present chareacter n position at 4\n",
      "present chareacter l position at 6\n",
      "present chareacter g position at 8\n"
     ]
    }
   ],
   "source": [
    "a=[]\n",
    "def even_chars(str1):\n",
    "    for index, chars in enumerate(str1):\n",
    "        if index %2==0:\n",
    "            a.append(index)\n",
    "            print(\"present chareacter\", chars,\"position at\", index)\n",
    "even_chars(\"Technology\")         "
   ]
  },
  {
   "cell_type": "markdown",
   "id": "ff17b36d",
   "metadata": {},
   "source": [
    "# 4.\tWrite a function to remove first characters from a string"
   ]
  },
  {
   "cell_type": "code",
   "execution_count": 5,
   "id": "55308497",
   "metadata": {},
   "outputs": [],
   "source": [
    "def first_character(object):\n",
    "    string = object\n",
    "    remove_string = object[1:]\n",
    "    print(remove_string)"
   ]
  },
  {
   "cell_type": "code",
   "execution_count": 4,
   "id": "6e173de2",
   "metadata": {},
   "outputs": [
    {
     "name": "stdout",
     "output_type": "stream",
     "text": [
      "upyter\n"
     ]
    }
   ],
   "source": [
    "first_character(\"jupyter\")"
   ]
  },
  {
   "cell_type": "markdown",
   "id": "87bb3dfb",
   "metadata": {},
   "source": [
    "# 5.\tWrite a function to check if the first and last number of a list is the same"
   ]
  },
  {
   "cell_type": "code",
   "execution_count": null,
   "id": "80161ac6",
   "metadata": {},
   "outputs": [],
   "source": [
    "def check_FirstLast(num):\n",
    "    if nums[0]==num[-1]:\n",
    "        print (\"Result is True\")\n",
    "    else:\n",
    "        print (\"Result is False\")\n",
    "        \n",
    "num=[]\n",
    "nums = int(input(\"Enter the number size of a list::\"))\n",
    "print(\"Enter the items of list::\")\n",
    "for p in range (int(nums)):\n",
    "    i=int(input(\"\"))\n",
    "    num.append(i)\n",
    "check(num)"
   ]
  },
  {
   "cell_type": "code",
   "execution_count": null,
   "id": "2d7a6a88",
   "metadata": {},
   "outputs": [],
   "source": []
  },
  {
   "cell_type": "markdown",
   "id": "749bbfba",
   "metadata": {},
   "source": [
    "# 6.Write a function to print multiplication table from 1 to 10"
   ]
  },
  {
   "cell_type": "code",
   "execution_count": null,
   "id": "68a2ec80",
   "metadata": {},
   "outputs": [],
   "source": [
    "def multiple_table (num, num1):\n",
    "    for i in range (start,end+1):\n",
    "        for j in range (1,num1):\n",
    "            p= i*j\n",
    "            print(\"{:2d}\".format(p),end ='')\n",
    "        print('/n')\n",
    "num1=int(input(\"desired number\" ))\n",
    "start=int(input(\"start at:\" ))\n",
    "end=int(input(\"end at:\" ))\n",
    "print()\n",
    "\n",
    "multiple_table(1,num1)"
   ]
  },
  {
   "cell_type": "code",
   "execution_count": null,
   "id": "d11c544c",
   "metadata": {},
   "outputs": [],
   "source": []
  },
  {
   "cell_type": "code",
   "execution_count": null,
   "id": "6222113f",
   "metadata": {},
   "outputs": [],
   "source": []
  },
  {
   "cell_type": "markdown",
   "id": "50c5f35f",
   "metadata": {},
   "source": [
    "# 7.\tGiven a two list of numbers, write a function to create a new list such that the new list should contain odd numbers from the first list and even numbers from the second list."
   ]
  },
  {
   "cell_type": "code",
   "execution_count": null,
   "id": "84a97622",
   "metadata": {},
   "outputs": [],
   "source": [
    "odd=[]\n",
    "even=[]\n",
    "def odd_even(a,b):\n",
    "    for i in a:\n",
    "        for i in b:\n",
    "            if (i % 2==0):\n",
    "                odd.append(i)\n",
    "            else:\n",
    "                even.append(i)\n",
    "    print (\"odd list:\", odd)\n",
    "    print(\"even list:\", even)\n",
    "    \n",
    "a=[]\n",
    "x=int(input(\"enter number size of first list:\"))\n",
    "print(\"enter the items of first list:\")\n",
    "for i in range(int(x)):\n",
    "    n=int(input(\"\"))\n",
    "    a.append(n)\n",
    "    \n",
    "b=[]\n",
    "y=int(input(\"enter number size of second list:\"))\n",
    "print(\"enter the items of second list:\")\n",
    "for i in range(int(x)):\n",
    "    m=int(input(\"\"))\n",
    "    a.append(m)\n",
    "    \n",
    "odd_even(a,b)\n"
   ]
  },
  {
   "cell_type": "code",
   "execution_count": null,
   "id": "56cc7bad",
   "metadata": {},
   "outputs": [],
   "source": []
  }
 ],
 "metadata": {
  "kernelspec": {
   "display_name": "Python 3 (ipykernel)",
   "language": "python",
   "name": "python3"
  },
  "language_info": {
   "codemirror_mode": {
    "name": "ipython",
    "version": 3
   },
   "file_extension": ".py",
   "mimetype": "text/x-python",
   "name": "python",
   "nbconvert_exporter": "python",
   "pygments_lexer": "ipython3",
   "version": "3.9.12"
  }
 },
 "nbformat": 4,
 "nbformat_minor": 5
}
