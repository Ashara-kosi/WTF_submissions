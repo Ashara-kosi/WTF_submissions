{
 "cells": [
  {
   "cell_type": "markdown",
   "id": "65292cdf",
   "metadata": {},
   "source": [
    "# Mary Akinwola (Group 7)"
   ]
  },
  {
   "cell_type": "markdown",
   "id": "5888d4f9",
   "metadata": {},
   "source": [
    "# Question 1"
   ]
  },
  {
   "cell_type": "code",
   "execution_count": 58,
   "id": "ebfa640a",
   "metadata": {},
   "outputs": [
    {
     "name": "stdout",
     "output_type": "stream",
     "text": [
      "8 15\n"
     ]
    }
   ],
   "source": [
    "#Write a function to calculate the multiplication and sum of two numbers.\n",
    "\n",
    "#Call the function \n",
    "def multi_sum(x,y):\n",
    "    sum_two=x+y\n",
    "    multiply=x*y\n",
    "    print(sum_two, multiply)\n",
    "\n",
    "multi_sum(3,5)"
   ]
  },
  {
   "cell_type": "markdown",
   "id": "56dbc425",
   "metadata": {},
   "source": [
    "# Question 2"
   ]
  },
  {
   "cell_type": "code",
   "execution_count": 11,
   "id": "1b9b908e",
   "metadata": {},
   "outputs": [
    {
     "name": "stdout",
     "output_type": "stream",
     "text": [
      "9\n"
     ]
    }
   ],
   "source": [
    "#Write a function to print the sum of the current number and the previous number\n",
    "def my_function(current_num):\n",
    "    previous_num=current_num-1\n",
    "    sum_num2=current_num+previous_num\n",
    "    print(sum_num2)\n",
    "    \n",
    "my_function(5)"
   ]
  },
  {
   "cell_type": "markdown",
   "id": "6c6d3a7c",
   "metadata": {},
   "source": [
    "# Question 3"
   ]
  },
  {
   "cell_type": "code",
   "execution_count": 75,
   "id": "c719e6e7",
   "metadata": {},
   "outputs": [
    {
     "name": "stdout",
     "output_type": "stream",
     "text": [
      "['S', 'm', 'u', 'g']\n"
     ]
    }
   ],
   "source": [
    "#Write a function to print characters from a string that are present at an even index number\n",
    "def my_even_string(word):\n",
    "    new_word=[]\n",
    "    for i in range(len(word)): #First, look for the length of the word, then range for iteration\n",
    "        if i%2==0:\n",
    "            new_word.append(word[i]) #This means print the exact letters in the even index\n",
    "    print(new_word)\n",
    "my_even_string('Samsung')"
   ]
  },
  {
   "cell_type": "code",
   "execution_count": 79,
   "id": "b2daba9e",
   "metadata": {},
   "outputs": [
    {
     "name": "stdout",
     "output_type": "stream",
     "text": [
      "ltf"
     ]
    }
   ],
   "source": [
    "def string(x):\n",
    "    for i in range(len(str)):\n",
    "        if i%2==0:\n",
    "            print(str[i], end='')\n",
    "str=\"latifa\"\n",
    "string(str)"
   ]
  },
  {
   "cell_type": "markdown",
   "id": "f4b08100",
   "metadata": {},
   "source": [
    "# Question 4"
   ]
  },
  {
   "cell_type": "code",
   "execution_count": 23,
   "id": "1e684bf6",
   "metadata": {},
   "outputs": [
    {
     "name": "stdout",
     "output_type": "stream",
     "text": [
      "onkey\n"
     ]
    }
   ],
   "source": [
    "#Write a function to remove first characters from a string\n",
    "def del_string(text):\n",
    "    final_text=''\n",
    "    for i in range(len(text)):\n",
    "        if i!=0:\n",
    "            final_text=final_text+text[i]\n",
    "    print(final_text)\n",
    "    \n",
    "del_string('monkey')\n",
    "\n"
   ]
  },
  {
   "cell_type": "code",
   "execution_count": 89,
   "id": "c196615c",
   "metadata": {},
   "outputs": [
    {
     "name": "stdout",
     "output_type": "stream",
     "text": [
      "anana"
     ]
    }
   ],
   "source": [
    "def first_character(x):\n",
    "    \n",
    "    for i in range(len(x)):\n",
    "        if i!=0:\n",
    "            print(x[i], end='')\n",
    "x=\"manana\"\n",
    "first_character(x)"
   ]
  },
  {
   "cell_type": "markdown",
   "id": "b3d3c833",
   "metadata": {},
   "source": [
    "# Question 5"
   ]
  },
  {
   "cell_type": "code",
   "execution_count": 98,
   "id": "65dda815",
   "metadata": {},
   "outputs": [
    {
     "data": {
      "text/plain": [
       "True"
      ]
     },
     "execution_count": 98,
     "metadata": {},
     "output_type": "execute_result"
    }
   ],
   "source": [
    "#Write a function to check if the first and last number of a list is the same\n",
    "def check_list(l):\n",
    "    for i in l:\n",
    "        if l[0]==l[-1]:\n",
    "            return True\n",
    "        else:\n",
    "            return False            \n",
    "check_list ([1,2,3,4,1])"
   ]
  },
  {
   "cell_type": "code",
   "execution_count": 96,
   "id": "34d13e0d",
   "metadata": {},
   "outputs": [
    {
     "data": {
      "text/plain": [
       "'They are the same'"
      ]
     },
     "execution_count": 96,
     "metadata": {},
     "output_type": "execute_result"
    }
   ],
   "source": [
    "def check_list(list):\n",
    "    if list[0] == list[-1]:\n",
    "        return ('They are the same')\n",
    "    else:\n",
    "        return ('They are not the same')\n",
    "\n",
    "check_list([1,2,3,1])"
   ]
  },
  {
   "cell_type": "markdown",
   "id": "e0ab5ea1",
   "metadata": {},
   "source": [
    "# Question 6"
   ]
  },
  {
   "cell_type": "code",
   "execution_count": 111,
   "id": "6de12810",
   "metadata": {},
   "outputs": [
    {
     "name": "stdout",
     "output_type": "stream",
     "text": [
      "Multiplication table of 1\n",
      "1\n",
      "2\n",
      "3\n",
      "4\n",
      "5\n",
      "6\n",
      "7\n",
      "8\n",
      "9\n",
      "10\n",
      "11\n",
      "12\n",
      "Multiplication table of 2\n",
      "2\n",
      "4\n",
      "6\n",
      "8\n",
      "10\n",
      "12\n",
      "14\n",
      "16\n",
      "18\n",
      "20\n",
      "22\n",
      "24\n",
      "Multiplication table of 3\n",
      "3\n",
      "6\n",
      "9\n",
      "12\n",
      "15\n",
      "18\n",
      "21\n",
      "24\n",
      "27\n",
      "30\n",
      "33\n",
      "36\n",
      "Multiplication table of 4\n",
      "4\n",
      "8\n",
      "12\n",
      "16\n",
      "20\n",
      "24\n",
      "28\n",
      "32\n",
      "36\n",
      "40\n",
      "44\n",
      "48\n",
      "Multiplication table of 5\n",
      "5\n",
      "10\n",
      "15\n",
      "20\n",
      "25\n",
      "30\n",
      "35\n",
      "40\n",
      "45\n",
      "50\n",
      "55\n",
      "60\n",
      "Multiplication table of 6\n",
      "6\n",
      "12\n",
      "18\n",
      "24\n",
      "30\n",
      "36\n",
      "42\n",
      "48\n",
      "54\n",
      "60\n",
      "66\n",
      "72\n",
      "Multiplication table of 7\n",
      "7\n",
      "14\n",
      "21\n",
      "28\n",
      "35\n",
      "42\n",
      "49\n",
      "56\n",
      "63\n",
      "70\n",
      "77\n",
      "84\n",
      "Multiplication table of 8\n",
      "8\n",
      "16\n",
      "24\n",
      "32\n",
      "40\n",
      "48\n",
      "56\n",
      "64\n",
      "72\n",
      "80\n",
      "88\n",
      "96\n",
      "Multiplication table of 9\n",
      "9\n",
      "18\n",
      "27\n",
      "36\n",
      "45\n",
      "54\n",
      "63\n",
      "72\n",
      "81\n",
      "90\n",
      "99\n",
      "108\n",
      "Multiplication table of 10\n",
      "10\n",
      "20\n",
      "30\n",
      "40\n",
      "50\n",
      "60\n",
      "70\n",
      "80\n",
      "90\n",
      "100\n",
      "110\n",
      "120\n"
     ]
    }
   ],
   "source": [
    "#Write a function to print multiplication table from 1 to 10\n",
    "\n",
    "def multi_table(x,y):\n",
    "    for i in range(x,(y+1)):\n",
    "        print('Multiplication table of', i)\n",
    "        for item in range (1,13):\n",
    "            multi=i*item\n",
    "            print(multi)\n",
    "        \n",
    "multi_table(1,10)\n",
    "        \n"
   ]
  },
  {
   "cell_type": "code",
   "execution_count": 112,
   "id": "3879759c",
   "metadata": {},
   "outputs": [
    {
     "name": "stdout",
     "output_type": "stream",
     "text": [
      "Multiplication table for  1\n",
      "0 * 1 = 0\n",
      "1 * 1 = 1\n",
      "2 * 1 = 2\n",
      "3 * 1 = 3\n",
      "4 * 1 = 4\n",
      "5 * 1 = 5\n",
      "6 * 1 = 6\n",
      "7 * 1 = 7\n",
      "8 * 1 = 8\n",
      "9 * 1 = 9\n",
      "10 * 1 = 10\n",
      "11 * 1 = 11\n",
      "12 * 1 = 12\n",
      "Multiplication table for  2\n",
      "0 * 2 = 0\n",
      "1 * 2 = 2\n",
      "2 * 2 = 4\n",
      "3 * 2 = 6\n",
      "4 * 2 = 8\n",
      "5 * 2 = 10\n",
      "6 * 2 = 12\n",
      "7 * 2 = 14\n",
      "8 * 2 = 16\n",
      "9 * 2 = 18\n",
      "10 * 2 = 20\n",
      "11 * 2 = 22\n",
      "12 * 2 = 24\n",
      "Multiplication table for  3\n",
      "0 * 3 = 0\n",
      "1 * 3 = 3\n",
      "2 * 3 = 6\n",
      "3 * 3 = 9\n",
      "4 * 3 = 12\n",
      "5 * 3 = 15\n",
      "6 * 3 = 18\n",
      "7 * 3 = 21\n",
      "8 * 3 = 24\n",
      "9 * 3 = 27\n",
      "10 * 3 = 30\n",
      "11 * 3 = 33\n",
      "12 * 3 = 36\n",
      "Multiplication table for  4\n",
      "0 * 4 = 0\n",
      "1 * 4 = 4\n",
      "2 * 4 = 8\n",
      "3 * 4 = 12\n",
      "4 * 4 = 16\n",
      "5 * 4 = 20\n",
      "6 * 4 = 24\n",
      "7 * 4 = 28\n",
      "8 * 4 = 32\n",
      "9 * 4 = 36\n",
      "10 * 4 = 40\n",
      "11 * 4 = 44\n",
      "12 * 4 = 48\n",
      "Multiplication table for  5\n",
      "0 * 5 = 0\n",
      "1 * 5 = 5\n",
      "2 * 5 = 10\n",
      "3 * 5 = 15\n",
      "4 * 5 = 20\n",
      "5 * 5 = 25\n",
      "6 * 5 = 30\n",
      "7 * 5 = 35\n",
      "8 * 5 = 40\n",
      "9 * 5 = 45\n",
      "10 * 5 = 50\n",
      "11 * 5 = 55\n",
      "12 * 5 = 60\n",
      "Multiplication table for  6\n",
      "0 * 6 = 0\n",
      "1 * 6 = 6\n",
      "2 * 6 = 12\n",
      "3 * 6 = 18\n",
      "4 * 6 = 24\n",
      "5 * 6 = 30\n",
      "6 * 6 = 36\n",
      "7 * 6 = 42\n",
      "8 * 6 = 48\n",
      "9 * 6 = 54\n",
      "10 * 6 = 60\n",
      "11 * 6 = 66\n",
      "12 * 6 = 72\n",
      "Multiplication table for  7\n",
      "0 * 7 = 0\n",
      "1 * 7 = 7\n",
      "2 * 7 = 14\n",
      "3 * 7 = 21\n",
      "4 * 7 = 28\n",
      "5 * 7 = 35\n",
      "6 * 7 = 42\n",
      "7 * 7 = 49\n",
      "8 * 7 = 56\n",
      "9 * 7 = 63\n",
      "10 * 7 = 70\n",
      "11 * 7 = 77\n",
      "12 * 7 = 84\n",
      "Multiplication table for  8\n",
      "0 * 8 = 0\n",
      "1 * 8 = 8\n",
      "2 * 8 = 16\n",
      "3 * 8 = 24\n",
      "4 * 8 = 32\n",
      "5 * 8 = 40\n",
      "6 * 8 = 48\n",
      "7 * 8 = 56\n",
      "8 * 8 = 64\n",
      "9 * 8 = 72\n",
      "10 * 8 = 80\n",
      "11 * 8 = 88\n",
      "12 * 8 = 96\n",
      "Multiplication table for  9\n",
      "0 * 9 = 0\n",
      "1 * 9 = 9\n",
      "2 * 9 = 18\n",
      "3 * 9 = 27\n",
      "4 * 9 = 36\n",
      "5 * 9 = 45\n",
      "6 * 9 = 54\n",
      "7 * 9 = 63\n",
      "8 * 9 = 72\n",
      "9 * 9 = 81\n",
      "10 * 9 = 90\n",
      "11 * 9 = 99\n",
      "12 * 9 = 108\n",
      "Multiplication table for  10\n",
      "0 * 10 = 0\n",
      "1 * 10 = 10\n",
      "2 * 10 = 20\n",
      "3 * 10 = 30\n",
      "4 * 10 = 40\n",
      "5 * 10 = 50\n",
      "6 * 10 = 60\n",
      "7 * 10 = 70\n",
      "8 * 10 = 80\n",
      "9 * 10 = 90\n",
      "10 * 10 = 100\n",
      "11 * 10 = 110\n",
      "12 * 10 = 120\n"
     ]
    }
   ],
   "source": [
    "def multip_table(start, end):\n",
    "    for item in range(start, (end+1)):\n",
    "        print ('Multiplication table for ', item)\n",
    "        for i in range (13):\n",
    "            multi = i * item\n",
    "            print( i, '*', item, '=', multi)\n",
    "multip_table(1,10)"
   ]
  },
  {
   "cell_type": "markdown",
   "id": "87493833",
   "metadata": {},
   "source": [
    "# Question 7"
   ]
  },
  {
   "cell_type": "code",
   "execution_count": 124,
   "id": "54b4b53d",
   "metadata": {},
   "outputs": [
    {
     "name": "stdout",
     "output_type": "stream",
     "text": [
      "[2, 4, 3, 7]\n"
     ]
    }
   ],
   "source": [
    "def my_function(list1,list2):\n",
    "    new_list=[]\n",
    "    for i in (list1):\n",
    "        if i%2==0:\n",
    "            new_list.append(i)\n",
    "    for i in list2: \n",
    "        if i%2==1:\n",
    "            new_list.append(i)\n",
    "    print(new_list)\n",
    "my_function([2,3,4,5],[3,4,6,7])"
   ]
  }
 ],
 "metadata": {
  "kernelspec": {
   "display_name": "Python 3 (ipykernel)",
   "language": "python",
   "name": "python3"
  },
  "language_info": {
   "codemirror_mode": {
    "name": "ipython",
    "version": 3
   },
   "file_extension": ".py",
   "mimetype": "text/x-python",
   "name": "python",
   "nbconvert_exporter": "python",
   "pygments_lexer": "ipython3",
   "version": "3.9.7"
  }
 },
 "nbformat": 4,
 "nbformat_minor": 5
}
