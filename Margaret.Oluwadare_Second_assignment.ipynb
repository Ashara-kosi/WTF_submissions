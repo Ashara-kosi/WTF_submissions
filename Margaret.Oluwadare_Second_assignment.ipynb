{
 "cells": [
  {
   "cell_type": "markdown",
   "id": "431eff86",
   "metadata": {},
   "source": [
    "# WTFC2023 DATA SCIENCE AND AI GROUP C SUB GROUP1\n",
    "# PYTHON EXERCISE CLASS WORK 3\n",
    "## MARGARET OLUWADARE(WTF/23/DS/C/030)"
   ]
  },
  {
   "cell_type": "markdown",
   "id": "20d18608",
   "metadata": {},
   "source": [
    "###### QUESTION 1: Write a function called showNumbers that takes a parameter called limit. It should print all the numbers between 0 and limit with a label to identify the even and odd numbers. For example, if the limit is 3, it should print:0 EVEN 1 ODD 2 EVEN 3 ODD"
   ]
  },
  {
   "cell_type": "code",
   "execution_count": 2,
   "id": "6ded0512",
   "metadata": {},
   "outputs": [
    {
     "name": "stdout",
     "output_type": "stream",
     "text": [
      "Start at:0\n",
      "End at:45\n",
      "0  EVEN\n",
      "1  ODD\n",
      "2  EVEN\n",
      "3  ODD\n",
      "4  EVEN\n",
      "5  ODD\n",
      "6  EVEN\n",
      "7  ODD\n",
      "8  EVEN\n",
      "9  ODD\n",
      "10  EVEN\n",
      "11  ODD\n",
      "12  EVEN\n",
      "13  ODD\n",
      "14  EVEN\n",
      "15  ODD\n",
      "16  EVEN\n",
      "17  ODD\n",
      "18  EVEN\n",
      "19  ODD\n",
      "20  EVEN\n",
      "21  ODD\n",
      "22  EVEN\n",
      "23  ODD\n",
      "24  EVEN\n",
      "25  ODD\n",
      "26  EVEN\n",
      "27  ODD\n",
      "28  EVEN\n",
      "29  ODD\n",
      "30  EVEN\n",
      "31  ODD\n",
      "32  EVEN\n",
      "33  ODD\n",
      "34  EVEN\n",
      "35  ODD\n",
      "36  EVEN\n",
      "37  ODD\n",
      "38  EVEN\n",
      "39  ODD\n",
      "40  EVEN\n",
      "41  ODD\n",
      "42  EVEN\n",
      "43  ODD\n",
      "44  EVEN\n",
      "45  ODD\n"
     ]
    }
   ],
   "source": [
    "##Q1 SOLUTION\n",
    "def showNumber(limit):\n",
    "    for i in range(start, end+1):\n",
    "        if(i%2==0):\n",
    "            print(i,' EVEN')\n",
    "        else:\n",
    "            print(i,' ODD')\n",
    "                  \n",
    "start = int(input('Start at:'))\n",
    "end= int(input('End at:'))\n",
    "showNumber(22)"
   ]
  },
  {
   "cell_type": "markdown",
   "id": "c7751ec6",
   "metadata": {},
   "source": [
    "###### QUESTION 2: Write a function that returns the sum of multiples of 3 and 5 between 0 and limit (parameter). For example, if limit is 20, it should return the sum of 3, 5, 6, 9, 10, 12, 15, 18, 20."
   ]
  },
  {
   "cell_type": "code",
   "execution_count": 3,
   "id": "66b6d7e1",
   "metadata": {},
   "outputs": [
    {
     "name": "stdout",
     "output_type": "stream",
     "text": [
      "Start at:0\n",
      "End at:45\n",
      "0  Multiple of 3\n",
      "0  Multiple of 5\n",
      "Sum is : 0\n",
      "3  Multiple of 3\n",
      "Sum is : 3\n",
      "5  Multiple of 5\n",
      "Sum is : 8\n",
      "6  Multiple of 3\n",
      "Sum is : 14\n",
      "9  Multiple of 3\n",
      "Sum is : 23\n",
      "10  Multiple of 5\n",
      "Sum is : 33\n",
      "12  Multiple of 3\n",
      "Sum is : 45\n",
      "15  Multiple of 3\n",
      "15  Multiple of 5\n",
      "Sum is : 60\n",
      "18  Multiple of 3\n",
      "Sum is : 78\n",
      "20  Multiple of 5\n",
      "Sum is : 98\n",
      "21  Multiple of 3\n",
      "Sum is : 119\n",
      "24  Multiple of 3\n",
      "Sum is : 143\n",
      "25  Multiple of 5\n",
      "Sum is : 168\n",
      "27  Multiple of 3\n",
      "Sum is : 195\n",
      "30  Multiple of 3\n",
      "30  Multiple of 5\n",
      "Sum is : 225\n",
      "33  Multiple of 3\n",
      "Sum is : 258\n",
      "35  Multiple of 5\n",
      "Sum is : 293\n",
      "36  Multiple of 3\n",
      "Sum is : 329\n",
      "39  Multiple of 3\n",
      "Sum is : 368\n",
      "40  Multiple of 5\n",
      "Sum is : 408\n",
      "42  Multiple of 3\n",
      "Sum is : 450\n"
     ]
    }
   ],
   "source": [
    "## Q2 SOLUTION\n",
    "def mult3_5(limit):\n",
    "    tsum = 0\n",
    "    for i in range(tsum, limit):\n",
    "        if (i%3==0):\n",
    "            print(i,' Multiple of 3')\n",
    "        if(i%5==0):\n",
    "            print(i,' Multiple of 5')\n",
    "        if (i%3 == 0 or i%5 == 0):\n",
    "            tsum = tsum+i\n",
    "            print (\"Sum is :\",tsum)\n",
    "            \n",
    "start = int(input('Start at:'))\n",
    "end= int(input('End at:'))\n",
    "mult3_5(end)"
   ]
  },
  {
   "cell_type": "markdown",
   "id": "033f84cd",
   "metadata": {},
   "source": [
    "###### QUESTION 3: Write a function called show_stars(rows). If rows is 5, it should print the following:***************"
   ]
  },
  {
   "cell_type": "code",
   "execution_count": 4,
   "id": "66dd4ede",
   "metadata": {},
   "outputs": [
    {
     "name": "stdout",
     "output_type": "stream",
     "text": [
      "Start at:1\n",
      "End at:10\n",
      "*\n",
      "**\n",
      "***\n",
      "****\n",
      "*****\n",
      "******\n",
      "*******\n",
      "********\n",
      "*********\n",
      "**********\n"
     ]
    }
   ],
   "source": [
    "## q3 solution\n",
    "def show_stars(rows):\n",
    "    for i in range(start, end+1):\n",
    "        print(\"*\" *i)\n",
    "        \n",
    "start = int(input('Start at:'))\n",
    "end= int(input('End at:'))\n",
    "show_stars(end)"
   ]
  },
  {
   "cell_type": "markdown",
   "id": "dfdc4af6",
   "metadata": {},
   "source": [
    "###### QUESTION 4:Write a function that prints all the prime numbers between 0 and limit where limit is a parameter.\n"
   ]
  },
  {
   "cell_type": "code",
   "execution_count": 5,
   "id": "64e2c932",
   "metadata": {},
   "outputs": [
    {
     "name": "stdout",
     "output_type": "stream",
     "text": [
      "Start at:0\n",
      "End at:45\n",
      "Prime numbers between 0 and 45 are:\n",
      "2\n",
      "3\n",
      "5\n",
      "7\n",
      "11\n",
      "13\n",
      "17\n",
      "19\n",
      "23\n",
      "29\n",
      "31\n",
      "37\n",
      "41\n",
      "43\n"
     ]
    }
   ],
   "source": [
    "##Q4 SOLUTION\n",
    "def prime(limit):\n",
    "    for x in range(start, end + 1):\n",
    "        if x > 1:\n",
    "            for i in range(2, x):\n",
    "                if (x % i) == 0:\n",
    "                    break\n",
    "            else:\n",
    "                print(x)\n",
    "\n",
    "start = int(input('Start at:'))\n",
    "end= int(input('End at:'))\n",
    "print(\"Prime numbers between\", start, \"and\", end, \"are:\")\n",
    "prime(end)"
   ]
  },
  {
   "cell_type": "markdown",
   "id": "79db2413",
   "metadata": {},
   "source": [
    "###### QUESTION 5: Write a program (function!) that takes a list and returns a new list that contains all the elements of the first list minus all the duplicates."
   ]
  },
  {
   "cell_type": "code",
   "execution_count": 6,
   "id": "f565639d",
   "metadata": {},
   "outputs": [
    {
     "name": "stdout",
     "output_type": "stream",
     "text": [
      "Desired list:: [1, 2, 3, 2, 5, 3, 3, 5, 6, 3, 4, 5, 7]\n",
      "[1, 2, 3, 2, 5, 3, 3, 5, 6, 3, 4, 5, 7]\n",
      "[\n"
     ]
    }
   ],
   "source": [
    "## Q5 SOLUTION\n",
    "def duplx(x):\n",
    "    y = []\n",
    "    for i in x:\n",
    "        if i not in y:\n",
    "            y.append(i)\n",
    "            return y\n",
    "\n",
    "a=list(input('Desired list:: '))   \n",
    "print (''.join(a))\n",
    "print(' '.join(duplx(a)))"
   ]
  },
  {
   "cell_type": "markdown",
   "id": "30906e56",
   "metadata": {},
   "source": [
    "###### QUESTION 6: Write a function to ask the user for a number and determine whether the number is prime or not.\n"
   ]
  },
  {
   "cell_type": "code",
   "execution_count": 7,
   "id": "dee63718",
   "metadata": {},
   "outputs": [
    {
     "name": "stdout",
     "output_type": "stream",
     "text": [
      "Number requires: 7891\n"
     ]
    },
    {
     "data": {
      "text/plain": [
       "True"
      ]
     },
     "execution_count": 7,
     "metadata": {},
     "output_type": "execute_result"
    }
   ],
   "source": [
    "## Q6 SOLUTION\n",
    "def prime(num):\n",
    "    for x in range (2, num):\n",
    "        if num > 1:\n",
    "            if (num % x) == 0:\n",
    "                return False\n",
    "            else:\n",
    "                return True\n",
    "            print(\"Prime numbers are:\", (x))\n",
    "            \n",
    "num= int(input('Number requires: '))\n",
    "prime(num)"
   ]
  },
  {
   "cell_type": "markdown",
   "id": "eee3afa8",
   "metadata": {},
   "source": [
    "###### QUESTION 7:Write a program that asks the user how many Fibonnaci numbers to generate and then generates them.\n"
   ]
  },
  {
   "cell_type": "code",
   "execution_count": 8,
   "id": "77d6b378",
   "metadata": {},
   "outputs": [
    {
     "name": "stdout",
     "output_type": "stream",
     "text": [
      "How many numbers that generates?:20\n",
      "[19, 19, 38, 57, 95, 152, 247, 399, 646, 1045, 1691, 2736, 4427, 7163, 11590, 18753, 30343, 49096, 79439, 128535]\n"
     ]
    }
   ],
   "source": [
    "#Q7 SOLUTION\n",
    "def fibseries():\n",
    "    i = 1\n",
    "    if x == 0:\n",
    "        fibnum = []\n",
    "    elif x == 1:\n",
    "        fibnum = x\n",
    "    elif x == 2:\n",
    "        fibnum = [x, x]\n",
    "    elif x > 2:\n",
    "        fibnum = [x-1, x-1]\n",
    "        while i < (x - 1):\n",
    "            fibnum.append(fibnum[i] + fibnum[i-1])\n",
    "            i += 1\n",
    "    return fibnum\n",
    "\n",
    "x = int(input(\"How many numbers that generates?:\"))\n",
    "print(fibseries())"
   ]
  },
  {
   "cell_type": "markdown",
   "id": "1cab6a9f",
   "metadata": {},
   "source": [
    "###### QUESTION 8: Write a function that ask the user for a string and print out whether this string is a palindrome or not."
   ]
  },
  {
   "cell_type": "code",
   "execution_count": 9,
   "id": "f687e624",
   "metadata": {},
   "outputs": [
    {
     "name": "stdout",
     "output_type": "stream",
     "text": [
      "Enter the string: OMODOLAPO\n",
      "It is not a palindrome\n"
     ]
    }
   ],
   "source": [
    "##Q8 SOLUTION\n",
    "def palindrome(p):\n",
    "    \"\"\"function checks and print a passed string as palindrome or not\"\"\"\n",
    "    lenp = len(p) #length of word\n",
    "    p1 = 0   #first letter of word     \n",
    "    pn = lenp -1 \n",
    "    status = 1\n",
    "    while(p1<pn):\n",
    "           if(p[p1]==p[pn]):\n",
    "               p1=p1+1\n",
    "               pn=pn-1\n",
    "           else:\n",
    "               status = 0\n",
    "               break\n",
    "    return int(status)  \n",
    "p = input(\"Enter the string: \")\n",
    "status= palindrome(p)\n",
    "if(status):\n",
    "    print(\"It is a palindrome \")\n",
    "else:\n",
    "    print(\"It is not a palindrome\")\n"
   ]
  },
  {
   "cell_type": "markdown",
   "id": "4ca57532",
   "metadata": {},
   "source": [
    "###### QUESTION 9: Write a function that takes an ordered list of numbers (a list where the elements are in order from smallest to largest) and another number.\n"
   ]
  },
  {
   "cell_type": "code",
   "execution_count": 10,
   "id": "b6e8b254",
   "metadata": {},
   "outputs": [
    {
     "name": "stdout",
     "output_type": "stream",
     "text": [
      "[0, 1, 3, 4, 5, 6, 7, 8, 9]\n",
      "Find:67\n",
      "67 is out of list range.\n"
     ]
    }
   ],
   "source": [
    "### QUESTIN 9 SOLUTION\n",
    "def listnumb(x, i):\n",
    "    check = x\n",
    "    check.sort()\n",
    "    first = check[0]\n",
    "    last = check[-1]\n",
    "\n",
    "    while i >= first and i <= last:\n",
    "        midpt = (len(check)-1)//2\n",
    "        midelm = check[midpt]\n",
    "\n",
    "        if len(check) <= 2:\n",
    "            if i in check:\n",
    "                print(f\"{i} is in the list\")\n",
    "                break\n",
    "            else:\n",
    "                print(f\"{i} is not in the list\")\n",
    "                break\n",
    "\n",
    "        if i == midelm:\n",
    "            print(f\"{i} is in the list\")\n",
    "            break\n",
    "\n",
    "        elif i > midelm:\n",
    "            check = check[midpt:]     \n",
    "\n",
    "        elif i < midelm:\n",
    "            check = check[:midpt+1]\n",
    "\n",
    "    if i < first or i > last:\n",
    "        print(f'{i} is out of list range.')\n",
    "        \n",
    "\n",
    "a = [0, 1, 3, 4, 5, 6, 7, 8, 9]\n",
    "print(sorted(a))\n",
    "listnumb(a, int(input('Find:')))"
   ]
  },
  {
   "cell_type": "markdown",
   "id": "40b331dd",
   "metadata": {},
   "source": [
    "###### QUESTION 10:  Create a program that asks the user to enter their name and their age. Print out a message addressed to them that tells them the year that they will turn 100 years old"
   ]
  },
  {
   "cell_type": "code",
   "execution_count": 11,
   "id": "dc40c5e8",
   "metadata": {},
   "outputs": [
    {
     "name": "stdout",
     "output_type": "stream",
     "text": [
      "Enter your name: DOLAPO\n",
      "Enter your age: 17\n",
      "Hello DOLAPO you are 17 years old now. You'll be 100 in the year 2105!\n"
     ]
    }
   ],
   "source": [
    "###USED THIS\n",
    "def nameage(name, age):\n",
    "    if age > 100:\n",
    "        print('Sorry, you are overaged for this test')\n",
    "    else:\n",
    "        Centinary = 2022 - age + 100\n",
    "        print(f\"Hello {name} you are {age} years old now. You'll be 100 in the year {Centinary}!\")\n",
    "        \n",
    "name = str(input(\"Enter your name: \"))\n",
    "age =int(input(\"Enter your age: \"))  \n",
    "nameage(name, age)"
   ]
  },
  {
   "cell_type": "code",
   "execution_count": null,
   "id": "ef3033dd",
   "metadata": {},
   "outputs": [],
   "source": []
  }
 ],
 "metadata": {
  "kernelspec": {
   "display_name": "Python 3 (ipykernel)",
   "language": "python",
   "name": "python3"
  },
  "language_info": {
   "codemirror_mode": {
    "name": "ipython",
    "version": 3
   },
   "file_extension": ".py",
   "mimetype": "text/x-python",
   "name": "python",
   "nbconvert_exporter": "python",
   "pygments_lexer": "ipython3",
   "version": "3.9.12"
  }
 },
 "nbformat": 4,
 "nbformat_minor": 5
}
