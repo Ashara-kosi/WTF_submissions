{
 "cells": [
  {
   "cell_type": "markdown",
   "id": "431eff86",
   "metadata": {},
   "source": [
    "## WTFC2023 DATA SCIENCE AND AI GROUP C SUB GROUP1\n",
    "## PYTHON EXERCISE CLASS WORK 3\n",
    "### MARGARET OLUWADARE(WTF/23/DS/C/030)"
   ]
  },
  {
   "cell_type": "markdown",
   "id": "20d18608",
   "metadata": {},
   "source": [
    "###### QUESTION 1: Write a function called showNumbers that takes a parameter called limit. It should print all the numbers between 0 and limit with a label to identify the even and odd numbers. For example, if the limit is 3, it should print:0 EVEN 1 ODD 2 EVEN 3 ODD"
   ]
  },
  {
   "cell_type": "code",
   "execution_count": null,
   "id": "6ded0512",
   "metadata": {},
   "outputs": [],
   "source": [
    "##Q1 SOLUTION\n",
    "def showNumber(limit):\n",
    "    for i in range(start, end+1):\n",
    "        if(i%2==0):\n",
    "            print(i,' EVEN')\n",
    "        else:\n",
    "            print(i,' ODD')\n",
    "                  \n",
    "start = int(input('Start at:'))\n",
    "end= int(input('End at:'))\n",
    "showNumber(22)"
   ]
  },
  {
   "cell_type": "markdown",
   "id": "c7751ec6",
   "metadata": {},
   "source": [
    "###### QUESTION 2: Write a function that returns the sum of multiples of 3 and 5 between 0 and limit (parameter). For example, if limit is 20, it should return the sum of 3, 5, 6, 9, 10,\n",
    "12, 15, 18, 20."
   ]
  },
  {
   "cell_type": "code",
   "execution_count": null,
   "id": "66b6d7e1",
   "metadata": {},
   "outputs": [],
   "source": [
    "## Q2 SOLUTION\n",
    "def mult3_5(limit):\n",
    "    tsum = 0\n",
    "    for i in range(tsum, limit):\n",
    "        if (i%3==0):\n",
    "            print(i,' Multiple of 3')\n",
    "        if(i%5==0):\n",
    "            print(i,' Multiple of 5')\n",
    "        if (i%3 == 0 or i%5 == 0):\n",
    "            tsum = tsum+i\n",
    "            print (\"Sum is :\",tsum)\n",
    "            \n",
    "start = int(input('Start at:'))\n",
    "end= int(input('End at:'))\n",
    "mult3_5(end)"
   ]
  },
  {
   "cell_type": "markdown",
   "id": "033f84cd",
   "metadata": {},
   "source": [
    "###### QUESTION 3: Write a function called show_stars(rows). If rows is 5, it should print the following:***************"
   ]
  },
  {
   "cell_type": "code",
   "execution_count": null,
   "id": "66dd4ede",
   "metadata": {},
   "outputs": [],
   "source": [
    "## q3 solution\n",
    "def show_stars(rows):\n",
    "    for i in range(start, end+1):\n",
    "        print(\"*\" *i)\n",
    "        \n",
    "start = int(input('Start at:'))\n",
    "end= int(input('End at:'))\n",
    "show_stars(end)"
   ]
  },
  {
   "cell_type": "markdown",
   "id": "dfdc4af6",
   "metadata": {},
   "source": [
    "###### QUESTION 4:Write a function that prints all the prime numbers between 0 and limit where limit is a parameter.\n"
   ]
  },
  {
   "cell_type": "code",
   "execution_count": null,
   "id": "64e2c932",
   "metadata": {},
   "outputs": [],
   "source": [
    "##Q4 SOLUTION\n",
    "def prime(limit):\n",
    "    for x in range(start, end + 1):\n",
    "        if x > 1:\n",
    "            for i in range(2, x):\n",
    "                if (x % i) == 0:\n",
    "                    break\n",
    "            else:\n",
    "                print(x)\n",
    "\n",
    "start = int(input('Start at:'))\n",
    "end= int(input('End at:'))\n",
    "print(\"Prime numbers between\", start, \"and\", end, \"are:\")\n",
    "prime(end)"
   ]
  },
  {
   "cell_type": "markdown",
   "id": "79db2413",
   "metadata": {},
   "source": [
    "###### QUESTION 5: Write a program (function!) that takes a list and returns a new list that contains all the elements of the first list minus all the duplicates."
   ]
  },
  {
   "cell_type": "code",
   "execution_count": null,
   "id": "f565639d",
   "metadata": {},
   "outputs": [],
   "source": [
    "## Q5 SOLUTION\n"
   ]
  },
  {
   "cell_type": "markdown",
   "id": "30906e56",
   "metadata": {},
   "source": [
    "###### QUESTION 6: Write a function to ask the user for a number and determine whether the number is prime or not.\n"
   ]
  },
  {
   "cell_type": "code",
   "execution_count": null,
   "id": "dee63718",
   "metadata": {},
   "outputs": [],
   "source": [
    "## Q6 SOLUTION"
   ]
  },
  {
   "cell_type": "markdown",
   "id": "eee3afa8",
   "metadata": {},
   "source": [
    "###### QUESTION 7:Write a program that asks the user how many Fibonnaci numbers to generate and then generates them.\n"
   ]
  },
  {
   "cell_type": "code",
   "execution_count": null,
   "id": "77d6b378",
   "metadata": {},
   "outputs": [],
   "source": [
    "#Q7 SOLUTION"
   ]
  },
  {
   "cell_type": "code",
   "execution_count": null,
   "id": "4359f5f9",
   "metadata": {},
   "outputs": [],
   "source": [
    "QUESTION 8: Write a function that ask the user for a string and print out whether this string is a palindrome or not.\n"
   ]
  },
  {
   "cell_type": "code",
   "execution_count": null,
   "id": "f687e624",
   "metadata": {},
   "outputs": [],
   "source": [
    "##Q8 SOLUTION\n"
   ]
  },
  {
   "cell_type": "markdown",
   "id": "4ca57532",
   "metadata": {},
   "source": [
    "###### QUESTION 9: Write a function that takes an ordered list of numbers (a list where the elements are in order from smallest to largest) and another number.\n"
   ]
  },
  {
   "cell_type": "code",
   "execution_count": null,
   "id": "b6e8b254",
   "metadata": {},
   "outputs": [],
   "source": []
  },
  {
   "cell_type": "markdown",
   "id": "40b331dd",
   "metadata": {},
   "source": [
    "###### QUESTION 10:  Create a program that asks the user to enter their name and their age. Print out a message addressed to them that tells them the year that they will turn 100 years old"
   ]
  },
  {
   "cell_type": "code",
   "execution_count": null,
   "id": "dc40c5e8",
   "metadata": {},
   "outputs": [],
   "source": [
    "###USED THIS\n",
    "def nameage(name, age):\n",
    "    if age > 100:\n",
    "        print('Sorry, you are overaged for this test')\n",
    "    else:\n",
    "        Centinary = 2022 - age + 100\n",
    "        print(f\"Hello {name} you are {age} years old now. You'll be 100 in the year {Centinary}!\")\n",
    "        \n",
    "name = str(input(\"Enter your name: \"))\n",
    "age =int(input(\"Enter your age: \"))  \n",
    "nameage(name, age)"
   ]
  },
  {
   "cell_type": "code",
   "execution_count": null,
   "id": "ef3033dd",
   "metadata": {},
   "outputs": [],
   "source": []
  }
 ],
 "metadata": {
  "kernelspec": {
   "display_name": "Python 3 (ipykernel)",
   "language": "python",
   "name": "python3"
  },
  "language_info": {
   "codemirror_mode": {
    "name": "ipython",
    "version": 3
   },
   "file_extension": ".py",
   "mimetype": "text/x-python",
   "name": "python",
   "nbconvert_exporter": "python",
   "pygments_lexer": "ipython3",
   "version": "3.9.12"
  }
 },
 "nbformat": 4,
 "nbformat_minor": 5
}
