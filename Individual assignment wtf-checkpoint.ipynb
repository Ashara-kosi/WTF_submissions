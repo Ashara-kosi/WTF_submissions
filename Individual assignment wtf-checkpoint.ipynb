{
 "cells": [
  {
   "cell_type": "code",
   "execution_count": 1,
   "id": "fe9f341c",
   "metadata": {},
   "outputs": [
    {
     "name": "stdout",
     "output_type": "stream",
     "text": [
      "3*5 is: 15\n"
     ]
    }
   ],
   "source": [
    " # 1. write a function to calculate the multiplication  of two numbers\n",
    "def multiply(a,b):\n",
    "    c=a*b\n",
    "    return c\n",
    "first_num =3\n",
    "second_num = 5\n",
    "    \n",
    "print(\"3*5 is:\",multiply(first_num,second_num))"
   ]
  },
  {
   "cell_type": "code",
   "execution_count": 2,
   "id": "1fdc9d98",
   "metadata": {},
   "outputs": [
    {
     "name": "stdout",
     "output_type": "stream",
     "text": [
      "3+5 is: 8\n"
     ]
    }
   ],
   "source": [
    "#write a function to calculate the sum of two numbers\n",
    "def adding(a,b):\n",
    "    c=a+b\n",
    "    return c\n",
    "first_num =3\n",
    "second_num = 5\n",
    "    \n",
    "print(\"3+5 is:\",adding(first_num,second_num))"
   ]
  },
  {
   "cell_type": "code",
   "execution_count": 3,
   "id": "cbe66d3d",
   "metadata": {},
   "outputs": [
    {
     "name": "stdout",
     "output_type": "stream",
     "text": [
      "first number:3\n",
      "second number:3\n",
      "the multiplication is: 9\n"
     ]
    }
   ],
   "source": [
    "def multiply(a,b):\n",
    "    c=a*b\n",
    "    return c\n",
    "first_num =int(input(\"first number:\"))\n",
    "second_num = int(input(\"second number:\"))\n",
    "\n",
    "answer= multiply(first_num,second_num)\n",
    "    \n",
    "print(\"the multiplication is:\",answer)"
   ]
  },
  {
   "cell_type": "code",
   "execution_count": 4,
   "id": "7eb358bc",
   "metadata": {},
   "outputs": [
    {
     "name": "stdout",
     "output_type": "stream",
     "text": [
      "2\n",
      "5\n",
      "7\n",
      "9\n",
      "11\n"
     ]
    }
   ],
   "source": [
    "#2.write a funtion to print the sum of the current number and the previous number\n",
    "number= [2,3,4,5,6]\n",
    "for x in range(len(number)): \n",
    "    if x ==0:\n",
    "        print(number[x])\n",
    "    else:\n",
    "         print(number[x-1]+number[x])"
   ]
  },
  {
   "cell_type": "code",
   "execution_count": 5,
   "id": "6285f4e0",
   "metadata": {},
   "outputs": [
    {
     "name": "stdout",
     "output_type": "stream",
     "text": [
      "write something:felicia\n",
      "the even characters are:['f', 'l', 'c', 'a']\n"
     ]
    }
   ],
   "source": [
    "#3. write a function to print characters from a string that are present at an even index number\n",
    "\n",
    "string = input(\"write something:\")\n",
    "even_characters = []\n",
    "for x in range(len(string)):\n",
    "        if x %2 ==0:\n",
    "            even_characters.append(string[x])\n",
    "print(\"the even characters are:{}\".format(even_characters))"
   ]
  },
  {
   "cell_type": "code",
   "execution_count": 6,
   "id": "16be6e84",
   "metadata": {},
   "outputs": [
    {
     "name": "stdout",
     "output_type": "stream",
     "text": [
      "['elicia']\n"
     ]
    }
   ],
   "source": [
    "#4.write a function to remove first characters from a string \n",
    "#1: from first index down\n",
    "\n",
    "string_to_use =[\"felicia\"]\n",
    "string_without_first_character = [display[1:]for display in string_to_use]\n",
    "print(str(string_without_first_character))"
   ]
  },
  {
   "cell_type": "code",
   "execution_count": 7,
   "id": "107a8e84",
   "metadata": {},
   "outputs": [],
   "source": [
    " def remove_character(add_string,index):\n",
    "        a =add_string[:index]\n",
    "        b = add_string[index+1:]\n",
    "        return a+b\n"
   ]
  },
  {
   "cell_type": "code",
   "execution_count": 8,
   "id": "b54f7a65",
   "metadata": {},
   "outputs": [
    {
     "data": {
      "text/plain": [
       "'elicia'"
      ]
     },
     "execution_count": 8,
     "metadata": {},
     "output_type": "execute_result"
    }
   ],
   "source": [
    "f = 'felicia'\n",
    "index = 0\n",
    "remove_character(f,index)"
   ]
  },
  {
   "cell_type": "code",
   "execution_count": 9,
   "id": "32cb86de",
   "metadata": {},
   "outputs": [
    {
     "name": "stdout",
     "output_type": "stream",
     "text": [
      "yes its same\n"
     ]
    }
   ],
   "source": [
    "#5.write a function to check if the first and last number of a list is the same\n",
    "felicia_list=[2,4,8,2]\n",
    "if felicia_list[0] == felicia_list[-1]:\n",
    "        print ('yes its same')\n",
    "\n",
    "    "
   ]
  },
  {
   "cell_type": "code",
   "execution_count": 10,
   "id": "b8223ea9",
   "metadata": {},
   "outputs": [
    {
     "name": "stdout",
     "output_type": "stream",
     "text": [
      "no its different\n"
     ]
    }
   ],
   "source": [
    "felicia_list=[2,4,8,10]\n",
    "if felicia_list[0] == felicia_list[-1]:\n",
    "        print ('yes its same')\n",
    "else:\n",
    "        print('no its different')"
   ]
  },
  {
   "cell_type": "code",
   "execution_count": 11,
   "id": "f64dddf7",
   "metadata": {},
   "outputs": [
    {
     "name": "stdout",
     "output_type": "stream",
     "text": [
      "enter a number and get the multiplication table4\n",
      "4 x 1 = 4\n",
      "4 x 2 = 8\n",
      "4 x 3 = 12\n",
      "4 x 4 = 16\n",
      "4 x 5 = 20\n",
      "4 x 6 = 24\n",
      "4 x 7 = 28\n",
      "4 x 8 = 32\n",
      "4 x 9 = 36\n",
      "4 x 10 = 40\n"
     ]
    }
   ],
   "source": [
    "#6.write a function to print multiplication table from 1 to 10\n",
    "def times_table(num):\n",
    "    for i in range (1,11):\n",
    "            print(num,'x',i,'=', num*i)\n",
    "f = int(input('enter a number and get the multiplication table'))\n",
    "times_table(f)"
   ]
  },
  {
   "cell_type": "code",
   "execution_count": 12,
   "id": "621c0b63",
   "metadata": {},
   "outputs": [
    {
     "name": "stdout",
     "output_type": "stream",
     "text": [
      "13524810"
     ]
    }
   ],
   "source": [
    "#7.Given a two list of numbers, write a function to create a new list such that the new list should contain odd numbers from the first list and even numbers from the second list\n",
    "list1 = [1,2,3,4,5]\n",
    "for num in list1:\n",
    "        if num %2 !=0:\n",
    "            print (num, end = '')\n",
    "list2 = [2,3,1,4,5,8,10]\n",
    "for num in list2:\n",
    "        if num %2 ==0:\n",
    "            print (num, end = '')"
   ]
  },
  {
   "cell_type": "code",
   "execution_count": null,
   "id": "0997c651",
   "metadata": {},
   "outputs": [],
   "source": []
  }
 ],
 "metadata": {
  "kernelspec": {
   "display_name": "Python 3",
   "language": "python",
   "name": "python3"
  },
  "language_info": {
   "codemirror_mode": {
    "name": "ipython",
    "version": 3
   },
   "file_extension": ".py",
   "mimetype": "text/x-python",
   "name": "python",
   "nbconvert_exporter": "python",
   "pygments_lexer": "ipython3",
   "version": "3.8.8"
  }
 },
 "nbformat": 4,
 "nbformat_minor": 5
}
