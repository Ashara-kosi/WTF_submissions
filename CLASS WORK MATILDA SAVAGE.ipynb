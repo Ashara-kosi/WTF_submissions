{
 "cells": [
  {
   "cell_type": "code",
   "execution_count": 85,
   "id": "dff37ce3",
   "metadata": {},
   "outputs": [
    {
     "name": "stdout",
     "output_type": "stream",
     "text": [
      "enter the first number10\n",
      "enter the second number20\n",
      "10 * 20 = 200\n",
      "10 + 20 = 30\n"
     ]
    }
   ],
   "source": [
    "#1.Write a function to calculate the multiplication and sum of two numbers.\n",
    "def sum_product(x,y):\n",
    "        result = x*y\n",
    "        print(x, '*',y, '=', result)\n",
    "        result = x+y\n",
    "        print(x, '+',y, '=', result)\n",
    "n1 = int(input('enter the first number'))\n",
    "n2 = int(input('enter the second number'))\n",
    "        \n",
    "sum_product(n1,n2)\n"
   ]
  },
  {
   "cell_type": "code",
   "execution_count": 103,
   "id": "87b34bb7",
   "metadata": {},
   "outputs": [],
   "source": [
    "#2.Write a function to print the sum of the current number and the previous number\n",
    "def sum_no(n):\n",
    "    previous_no = 0\n",
    "    for i in range (1,12):\n",
    "        sum_no = Previous_no + i\n",
    "    return sum_no"
   ]
  },
  {
   "cell_type": "code",
   "execution_count": 104,
   "id": "ad4db9ed",
   "metadata": {},
   "outputs": [
    {
     "name": "stdout",
     "output_type": "stream",
     "text": [
      "Current number 0 Previous Number 0 sum is 0\n",
      "Current number 1 Previous Number 0 sum is 1\n",
      "Current number 2 Previous Number 1 sum is 3\n",
      "Current number 3 Previous Number 2 sum is 5\n",
      "Current number 4 Previous Number 3 sum is 7\n",
      "Current number 5 Previous Number 4 sum is 9\n",
      "Current number 6 Previous Number 5 sum is 11\n",
      "Current number 7 Previous Number 6 sum is 13\n",
      "Current number 8 Previous Number 7 sum is 15\n",
      "Current number 9 Previous Number 8 sum is 17\n"
     ]
    }
   ],
   "source": [
    "previous_num = 0\n",
    "\n",
    "for i in range(10):\n",
    "    sm = previous_num + i\n",
    "    print(f'Current number {i} Previous Number {previous_num} sum is {sm}')\n",
    "    previous_num = i"
   ]
  },
  {
   "cell_type": "code",
   "execution_count": 86,
   "id": "21d6f5bc",
   "metadata": {},
   "outputs": [],
   "source": [
    "#3. Write a function to print characters from a string that are present at an even index number\n",
    "def even_values_string(str):\n",
    "    result =\" \"\n",
    "    for i in range (len(str)):\n",
    "        if i % 2 ==0:\n",
    "            result = result + str[i]\n",
    "            return result\n",
    "        str = raw_input(\"Enter str\")\n",
    "        print(even_values_string(str))"
   ]
  },
  {
   "cell_type": "code",
   "execution_count": 96,
   "id": "afe2ceb3",
   "metadata": {},
   "outputs": [
    {
     "name": "stdout",
     "output_type": "stream",
     "text": [
      "Please type in word of choice: Awesome\n",
      "A\n",
      "e\n",
      "o\n",
      "e\n"
     ]
    }
   ],
   "source": [
    "def even_index(x):\n",
    "    for i in range(len(x)):\n",
    "        if i%2 ==0:\n",
    "            print(x[i])\n",
    "word= str(input('Please type in word of choice: '))\n",
    "even_index(word)"
   ]
  },
  {
   "cell_type": "code",
   "execution_count": 88,
   "id": "b70489f0",
   "metadata": {},
   "outputs": [
    {
     "name": "stdout",
     "output_type": "stream",
     "text": [
      "please input your stringSavage\n"
     ]
    },
    {
     "data": {
      "text/plain": [
       "'avage'"
      ]
     },
     "execution_count": 88,
     "metadata": {},
     "output_type": "execute_result"
    }
   ],
   "source": [
    "#4. Write a function to remove first characters from a string\n",
    "def removal(s):\n",
    "    new_string = s[1:]\n",
    "    return new_string\n",
    "value= str(input(\"please input your string\"))\n",
    "removal(value)"
   ]
  },
  {
   "cell_type": "code",
   "execution_count": 89,
   "id": "60d2d5e1",
   "metadata": {},
   "outputs": [
    {
     "name": "stdout",
     "output_type": "stream",
     "text": [
      "The first and last number in this list are different\n"
     ]
    }
   ],
   "source": [
    "#5. Write a function to check if the first and last number of a list is the same\n",
    "def first_last(numbers):\n",
    "    if numbers[0]==numbers[-1]:\n",
    "        print(\"The first and last number in this list are the same\")\n",
    "    else:\n",
    "        print(\"The first and last number in this list are different\")\n",
    "numbers= [1,20,30,'obi']\n",
    "first_last (numbers)"
   ]
  },
  {
   "cell_type": "code",
   "execution_count": 108,
   "id": "c1151551",
   "metadata": {},
   "outputs": [
    {
     "name": "stdout",
     "output_type": "stream",
     "text": [
      "1 x 1 = 1\n",
      "1 x 2 = 2\n",
      "1 x 3 = 3\n",
      "1 x 4 = 4\n",
      "1 x 5 = 5\n",
      "1 x 6 = 6\n",
      "1 x 7 = 7\n",
      "1 x 8 = 8\n",
      "1 x 9 = 9\n",
      "1 x 10 = 10\n",
      "2 x 1 = 2\n",
      "2 x 2 = 4\n",
      "2 x 3 = 6\n",
      "2 x 4 = 8\n",
      "2 x 5 = 10\n",
      "2 x 6 = 12\n",
      "2 x 7 = 14\n",
      "2 x 8 = 16\n",
      "2 x 9 = 18\n",
      "2 x 10 = 20\n",
      "3 x 1 = 3\n",
      "3 x 2 = 6\n",
      "3 x 3 = 9\n",
      "3 x 4 = 12\n",
      "3 x 5 = 15\n",
      "3 x 6 = 18\n",
      "3 x 7 = 21\n",
      "3 x 8 = 24\n",
      "3 x 9 = 27\n",
      "3 x 10 = 30\n",
      "4 x 1 = 4\n",
      "4 x 2 = 8\n",
      "4 x 3 = 12\n",
      "4 x 4 = 16\n",
      "4 x 5 = 20\n",
      "4 x 6 = 24\n",
      "4 x 7 = 28\n",
      "4 x 8 = 32\n",
      "4 x 9 = 36\n",
      "4 x 10 = 40\n",
      "5 x 1 = 5\n",
      "5 x 2 = 10\n",
      "5 x 3 = 15\n",
      "5 x 4 = 20\n",
      "5 x 5 = 25\n",
      "5 x 6 = 30\n",
      "5 x 7 = 35\n",
      "5 x 8 = 40\n",
      "5 x 9 = 45\n",
      "5 x 10 = 50\n",
      "6 x 1 = 6\n",
      "6 x 2 = 12\n",
      "6 x 3 = 18\n",
      "6 x 4 = 24\n",
      "6 x 5 = 30\n",
      "6 x 6 = 36\n",
      "6 x 7 = 42\n",
      "6 x 8 = 48\n",
      "6 x 9 = 54\n",
      "6 x 10 = 60\n",
      "7 x 1 = 7\n",
      "7 x 2 = 14\n",
      "7 x 3 = 21\n",
      "7 x 4 = 28\n",
      "7 x 5 = 35\n",
      "7 x 6 = 42\n",
      "7 x 7 = 49\n",
      "7 x 8 = 56\n",
      "7 x 9 = 63\n",
      "7 x 10 = 70\n",
      "8 x 1 = 8\n",
      "8 x 2 = 16\n",
      "8 x 3 = 24\n",
      "8 x 4 = 32\n",
      "8 x 5 = 40\n",
      "8 x 6 = 48\n",
      "8 x 7 = 56\n",
      "8 x 8 = 64\n",
      "8 x 9 = 72\n",
      "8 x 10 = 80\n",
      "9 x 1 = 9\n",
      "9 x 2 = 18\n",
      "9 x 3 = 27\n",
      "9 x 4 = 36\n",
      "9 x 5 = 45\n",
      "9 x 6 = 54\n",
      "9 x 7 = 63\n",
      "9 x 8 = 72\n",
      "9 x 9 = 81\n",
      "9 x 10 = 90\n",
      "10 x 1 = 10\n",
      "10 x 2 = 20\n",
      "10 x 3 = 30\n",
      "10 x 4 = 40\n",
      "10 x 5 = 50\n",
      "10 x 6 = 60\n",
      "10 x 7 = 70\n",
      "10 x 8 = 80\n",
      "10 x 9 = 90\n",
      "10 x 10 = 100\n"
     ]
    }
   ],
   "source": [
    "#6. Write a function to print multiplication table from 1 to 10\n",
    "def multiplication_table():\n",
    "    multi_list = list(range(1,11))\n",
    "    for i in multi_list:\n",
    "        for j in multi_list:\n",
    "            result = i*j\n",
    "            print(f\"{i} x {j} = {result}\")\n",
    "multiplication_table()\n",
    "    \n"
   ]
  },
  {
   "cell_type": "code",
   "execution_count": 112,
   "id": "560e0c3e",
   "metadata": {},
   "outputs": [],
   "source": [
    "#7. Given a two list of numbers, write a function to create a new list such that the new list should contain odd numbers from the first list and even numbers from the second list."
   ]
  },
  {
   "cell_type": "code",
   "execution_count": 110,
   "id": "85393c85",
   "metadata": {},
   "outputs": [],
   "source": [
    "def odd_even(odd_list, even_list):\n",
    "    odd_even = list()\n",
    "    for val in odd_list:\n",
    "        if val%2:\n",
    "            odd_even.append(val)\n",
    "    for val in even_list:\n",
    "        if not val%2:\n",
    "            odd_even.append(val)\n",
    "    return odd_even"
   ]
  },
  {
   "cell_type": "code",
   "execution_count": 111,
   "id": "c1b318eb",
   "metadata": {},
   "outputs": [
    {
     "name": "stdout",
     "output_type": "stream",
     "text": [
      "[1, 3, 5, 7, 12, 14, 16, 18, 20]\n"
     ]
    }
   ],
   "source": [
    "odd_list = [1,2,3,4,5,6,7,8]\n",
    "even_list = [12,13,14,15,16,17,18,20]\n",
    "result = odd_even(odd_list,even_list)\n",
    "print(result)"
   ]
  },
  {
   "cell_type": "code",
   "execution_count": null,
   "id": "0b5ccd25",
   "metadata": {},
   "outputs": [],
   "source": []
  }
 ],
 "metadata": {
  "kernelspec": {
   "display_name": "Python 3 (ipykernel)",
   "language": "python",
   "name": "python3"
  },
  "language_info": {
   "codemirror_mode": {
    "name": "ipython",
    "version": 3
   },
   "file_extension": ".py",
   "mimetype": "text/x-python",
   "name": "python",
   "nbconvert_exporter": "python",
   "pygments_lexer": "ipython3",
   "version": "3.9.12"
  }
 },
 "nbformat": 4,
 "nbformat_minor": 5
}
