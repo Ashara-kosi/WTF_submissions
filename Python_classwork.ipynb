{
 "cells": [
  {
   "cell_type": "markdown",
   "id": "bd61e171",
   "metadata": {},
   "source": [
    "1. Write a function called showNumbers that takes a parameter called limit. It should print all the numbers between 0 and limit with a label to identify the even and odd numbers"
   ]
  },
  {
   "cell_type": "code",
   "execution_count": 1,
   "id": "0b809db1",
   "metadata": {},
   "outputs": [
    {
     "name": "stdout",
     "output_type": "stream",
     "text": [
      "0 EVEN NUMBER\n",
      "1 ODD NUMBER\n",
      "2 EVEN NUMBER\n",
      "3 ODD NUMBER\n",
      "4 EVEN NUMBER\n",
      "5 ODD NUMBER\n",
      "6 EVEN NUMBER\n",
      "7 ODD NUMBER\n",
      "8 EVEN NUMBER\n",
      "9 ODD NUMBER\n",
      "10 EVEN NUMBER\n",
      "11 ODD NUMBER\n",
      "12 EVEN NUMBER\n",
      "13 ODD NUMBER\n",
      "14 EVEN NUMBER\n",
      "15 ODD NUMBER\n",
      "16 EVEN NUMBER\n",
      "17 ODD NUMBER\n",
      "18 EVEN NUMBER\n",
      "19 ODD NUMBER\n",
      "20 EVEN NUMBER\n"
     ]
    }
   ],
   "source": [
    "def showNumber_label(limit):\n",
    "    '''A function that show if a number within the limit is even or odd'''\n",
    "    for i in range(0,limit+1):\n",
    "        if i % 2 == 0:\n",
    "            print(i,'EVEN NUMBER')\n",
    "        else:\n",
    "            print(i,'ODD NUMBER')\n",
    "showNumber_label(20)\n",
    "                  "
   ]
  },
  {
   "cell_type": "markdown",
   "id": "0cf879d2",
   "metadata": {},
   "source": [
    "2. Write a function that returns the sum of multiples of 3 and 5 between 0 and limit (parameter)"
   ]
  },
  {
   "cell_type": "code",
   "execution_count": null,
   "id": "c7ecec70",
   "metadata": {},
   "outputs": [],
   "source": [
    "def Multiples3_5():\n",
    "    '''A function that prints the sum of multiples of 3 and 5 between 0 and limit'''\n",
    "    limit = int(input('Enter Limit here:'))\n",
    "    total_sum = 0\n",
    "    for i in range(0,limit+1):\n",
    "        if (i % 3 == 0 or i % 5 == 0):\n",
    "            total_sum = total_sum + i\n",
    "    print('The sum of multiples of 3 and 5 between 0 and', limit, 'is :', total_sum)\n",
    "    \n",
    "Multiples3_5()"
   ]
  },
  {
   "cell_type": "markdown",
   "id": "99883f75",
   "metadata": {},
   "source": [
    "3. Write a function called show_stars(rows). If rows is 5, it should print the following:***************\n"
   ]
  },
  {
   "cell_type": "code",
   "execution_count": null,
   "id": "33df8bf4",
   "metadata": {},
   "outputs": [],
   "source": [
    "def show_stars(rows):\n",
    "    '''A function that prints star based on the rows specified'''\n",
    "    for i in range(1,rows+1):\n",
    "        print(\"*\" *i)\n",
    "show_stars(5)"
   ]
  },
  {
   "cell_type": "markdown",
   "id": "64db47c3",
   "metadata": {},
   "source": [
    "4. Write a function that prints all the prime numbers between 0 and limit where limit is a parameter."
   ]
  },
  {
   "cell_type": "code",
   "execution_count": null,
   "id": "83b902b2",
   "metadata": {},
   "outputs": [],
   "source": [
    "def prime_num(limit):\n",
    "    '''A function that prints all the prime numbers within the range of the limit'''\n",
    "    for num in range(0, limit + 1): \n",
    "        # all prime numbers are greater than 1\n",
    "        if num > 1:\n",
    "            for i in range(2, num):\n",
    "                if (num % i) == 0:\n",
    "                    break\n",
    "                else:\n",
    "                    print(num)\n",
    "prime_num(5)"
   ]
  },
  {
   "cell_type": "markdown",
   "id": "d7f6f105",
   "metadata": {},
   "source": [
    "5. Write a program (function!) that takes a list and returns a new list that contains all the elements of the first list minus all the duplicates."
   ]
  },
  {
   "cell_type": "code",
   "execution_count": null,
   "id": "24b01de9",
   "metadata": {},
   "outputs": [],
   "source": []
  },
  {
   "cell_type": "markdown",
   "id": "0113dc32",
   "metadata": {},
   "source": [
    "6. Write a function to ask the user for a number and determine whether the number is prime or not\n"
   ]
  },
  {
   "cell_type": "code",
   "execution_count": null,
   "id": "79f601b5",
   "metadata": {},
   "outputs": [],
   "source": [
    "def is_prime():\n",
    "    '''This function determine whether the number inputed is a prime number or not'''\n",
    "    num = int(input('Enter a number : '))\n",
    "    #Prime numbers are greater than 1\n",
    "    if num >1:\n",
    "        # Iterating from 2 to num/2\n",
    "        for i in range(2, int(num/2)+1):\n",
    "            if (num % i) == 0:\n",
    "                print (num, 'is not a prime number : ')\n",
    "                break\n",
    "            else:\n",
    "                print(num, 'is a prime number')\n",
    "# if the number is less than 1, it is not a prime number\n",
    "    else:\n",
    "        print(num, \"is not a prime number\")\n",
    "is_prime()"
   ]
  },
  {
   "cell_type": "markdown",
   "id": "83a7c4a1",
   "metadata": {},
   "source": [
    "7. Write a program that asks the user how many Fibonnaci numbers to generate and then generates them. "
   ]
  },
  {
   "cell_type": "code",
   "execution_count": null,
   "id": "a7c391aa",
   "metadata": {},
   "outputs": [],
   "source": [
    "def fibonacci_gen():\n",
    "    '''This function generates the number of sequence inputed in the sequence_num'''\n",
    "    sequence_num = int(input(\"Enter how many numbers you would like to generate in the Fibonacci sequence: \"))\n",
    "    i = 1\n",
    "    if sequence_num == 0:\n",
    "        fib = []\n",
    "    elif sequence_num == 1:\n",
    "        fib = [1]\n",
    "    elif sequence_num == 2:\n",
    "        fib = [1,1]\n",
    "    elif sequence_num > 2:\n",
    "        fib = [1,1]\n",
    "        while i < (sequence_num - 1):\n",
    "            fib.append(fib[i] + fib[i-1])\n",
    "            i += 1\n",
    "    return fib\n",
    "print (fibonacci_gen())\n",
    "input()"
   ]
  },
  {
   "cell_type": "markdown",
   "id": "6669a603",
   "metadata": {},
   "source": [
    "8. Write a function that ask the user for a string and print out whether this string is a palindrome or not."
   ]
  },
  {
   "cell_type": "code",
   "execution_count": null,
   "id": "e6c39e50",
   "metadata": {},
   "outputs": [],
   "source": [
    "def isPalindrome():\n",
    "    word = str(input('Enter a word here'))\n",
    " \n",
    "    # Run loop from 0 to len/2\n",
    "    for i in range(0, int(len(word)/2)):\n",
    "        if str[i] != str[len(word)-i-1]:\n",
    "            return False\n",
    "        else\n",
    "            return True\n",
    " \n"
   ]
  },
  {
   "cell_type": "markdown",
   "id": "32c5dba3",
   "metadata": {},
   "source": [
    "9. Write a function that takes an ordered list of numbers (a list where the elements are in order from smallest to largest) and another number."
   ]
  },
  {
   "cell_type": "markdown",
   "id": "9fbad474",
   "metadata": {},
   "source": [
    "10. Create a program that asks the user to enter their name and their age. Print out a message addressed to them that tells them the year that they will turn 100 years old"
   ]
  }
 ],
 "metadata": {
  "kernelspec": {
   "display_name": "Python 3 (ipykernel)",
   "language": "python",
   "name": "python3"
  },
  "language_info": {
   "codemirror_mode": {
    "name": "ipython",
    "version": 3
   },
   "file_extension": ".py",
   "mimetype": "text/x-python",
   "name": "python",
   "nbconvert_exporter": "python",
   "pygments_lexer": "ipython3",
   "version": "3.9.7"
  }
 },
 "nbformat": 4,
 "nbformat_minor": 5
}
