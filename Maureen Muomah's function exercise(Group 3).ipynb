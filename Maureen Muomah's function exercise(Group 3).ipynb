{
 "cells": [
  {
   "cell_type": "markdown",
   "metadata": {},
   "source": [
    "Muomah Chidinma Maureen   Group 3"
   ]
  },
  {
   "cell_type": "code",
   "execution_count": null,
   "metadata": {},
   "outputs": [],
   "source": [
    "#1.Write a function to calculate the multiplication and sum of two numbers.\n",
    "def sum_1(x,y):\n",
    "    return x+y\n",
    "\n",
    "def multi(x,y):\n",
    "    return x*y\n",
    "\n",
    "print (sum_1(100,101))\n",
    "print (multi(15,16))"
   ]
  },
  {
   "cell_type": "code",
   "execution_count": 1,
   "metadata": {},
   "outputs": [
    {
     "name": "stdout",
     "output_type": "stream",
     "text": [
      "2\n",
      "6\n",
      "10\n",
      "14\n",
      "18\n",
      "22\n"
     ]
    }
   ],
   "source": [
    "#2.Write a function to print the sum of the current number and the previous numberr\n",
    "def current (list):\n",
    "    for i in range(len(list)):\n",
    "        if i == 0:\n",
    "            print (list[i])\n",
    "        else:\n",
    "            print(list[i-1] + list[i])\n",
    "\n",
    "\n",
    "\n",
    "x= [2, 4, 6, 8, 10, 12]\n",
    "current(x)"
   ]
  },
  {
   "cell_type": "code",
   "execution_count": 22,
   "metadata": {},
   "outputs": [
    {
     "name": "stdout",
     "output_type": "stream",
     "text": [
      "Please type in word of choice: odinaka\n",
      "o\n",
      "i\n",
      "a\n",
      "a\n"
     ]
    }
   ],
   "source": [
    "#3.Write a function to print characters from a string that are present at an even index number\n",
    "def even_index(x):\n",
    "    for i in range(len(x)):\n",
    "     if i%2 ==0:\n",
    "            print(x[i])\n",
    "word= str(input('Please type in word of choice: '))\n",
    "even_index(word)"
   ]
  },
  {
   "cell_type": "code",
   "execution_count": 40,
   "metadata": {},
   "outputs": [
    {
     "name": "stdout",
     "output_type": "stream",
     "text": [
      "please input your stringcharles\n"
     ]
    },
    {
     "data": {
      "text/plain": [
       "'harles'"
      ]
     },
     "execution_count": 40,
     "metadata": {},
     "output_type": "execute_result"
    }
   ],
   "source": [
    "#4. Write a function to remove first characters from a string\n",
    "def removal(s):\n",
    "    new_string = s[1:]\n",
    "    return new_string\n",
    "value= str(input(\"please input your string\"))\n",
    "removal(value)"
   ]
  },
  {
   "cell_type": "code",
   "execution_count": 43,
   "metadata": {},
   "outputs": [
    {
     "name": "stdout",
     "output_type": "stream",
     "text": [
      "The first and last number in this list are different\n"
     ]
    }
   ],
   "source": [
    "#5. Write a function to check if the first and last number of a list is the same\n",
    "def first_last(numbers):\n",
    "    if numbers[0]==numbers[-1]:\n",
    "        print(\"The first and last number in this list are the same\")\n",
    "    else:\n",
    "        print(\"The first and last number in this list are different\")\n",
    "numbers= [1,20,30,'obi']\n",
    "first_last (numbers)\n",
    "\n"
   ]
  },
  {
   "cell_type": "code",
   "execution_count": 1,
   "metadata": {},
   "outputs": [
    {
     "name": "stdout",
     "output_type": "stream",
     "text": [
      "Please enter a number to print multiplication table: 2\n",
      "2 x 1 = 2\n",
      "2 x 2 = 4\n",
      "2 x 3 = 6\n",
      "2 x 4 = 8\n",
      "2 x 5 = 10\n",
      "2 x 6 = 12\n",
      "2 x 7 = 14\n",
      "2 x 8 = 16\n",
      "2 x 9 = 18\n",
      "2 x 10 = 20\n"
     ]
    }
   ],
   "source": [
    "#6. Write a function to print multiplication table from 1 to 10\n",
    "def times_table(num):\n",
    "    for i in range(1, 11):\n",
    "        print(num, 'x', i, '=', num*i)\n",
    "\n",
    "\n",
    "#input the number that the user want to print\n",
    "n= int(input('Please enter a number to print multiplication table: '))\n",
    "times_table(n)"
   ]
  },
  {
   "cell_type": "code",
   "execution_count": 50,
   "metadata": {},
   "outputs": [
    {
     "data": {
      "text/plain": [
       "[5, 7, 9, 5, 16, 80]"
      ]
     },
     "execution_count": 50,
     "metadata": {},
     "output_type": "execute_result"
    }
   ],
   "source": [
    "# 7.\tGiven a two list of numbers, write a function to create a new list such that the new list should contain odd numbers from the first list and even numbers from the second list.\n",
    "def create(list1, list2):\n",
    "    new_list = []\n",
    "    \n",
    "    for num in list1:\n",
    "        if num % 2 != 0:\n",
    "            new_list.append(num)\n",
    "    \n",
    "    for num in list2:\n",
    "        if num % 2 == 0:\n",
    "            new_list.append(num)\n",
    "    return new_list\n",
    "\n",
    "\n",
    "\n",
    "x= [2,5,7,8,9,4,5,6]\n",
    "y= [5,9,16,53,67,80]\n",
    "create(x,y)"
   ]
  }
 ],
 "metadata": {
  "kernelspec": {
   "display_name": "Python 3",
   "language": "python",
   "name": "python3"
  },
  "language_info": {
   "codemirror_mode": {
    "name": "ipython",
    "version": 3
   },
   "file_extension": ".py",
   "mimetype": "text/x-python",
   "name": "python",
   "nbconvert_exporter": "python",
   "pygments_lexer": "ipython3",
   "version": "3.7.3"
  }
 },
 "nbformat": 4,
 "nbformat_minor": 5
}
