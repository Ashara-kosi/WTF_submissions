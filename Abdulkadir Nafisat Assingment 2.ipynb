{
 "cells": [
  {
   "cell_type": "markdown",
   "id": "9ee7560e",
   "metadata": {},
   "source": [
    "### Q1: Write a function called showNumbers that takes a parameter called limit. It should print all the numbers between 0 and limit with a label to identify the even and odd numbers. For example, if the limit is 3, it should print:0 EVEN 1 ODD 2 EVEN 3 ODD\n"
   ]
  },
  {
   "cell_type": "code",
   "execution_count": 2,
   "id": "91957537",
   "metadata": {},
   "outputs": [
    {
     "name": "stdout",
     "output_type": "stream",
     "text": [
      "EVEN 0\n",
      "ODD  1\n",
      "EVEN 2\n",
      "ODD  3\n",
      "EVEN 4\n",
      "ODD  5\n",
      "EVEN 6\n"
     ]
    }
   ],
   "source": [
    "def showNumbers(limit):\n",
    "    for i in range(0,limit+1):\n",
    "        if i % 2 == 0:\n",
    "            print(\"EVEN {0}\".format(i))\n",
    "        else:\n",
    "            print(\"ODD  {0}\".format(i))\n",
    "    \n",
    "(showNumbers(6))"
   ]
  },
  {
   "cell_type": "markdown",
   "id": "43e8dc9b",
   "metadata": {},
   "source": [
    "### Q2: Write a function that returns the sum of multiples of 3 and 5 between 0 and limit (parameter). For example, if limit is 20, it should return the sum of 3, 5, 6, 9, 10, 12, 15, 18, 20.\n",
    "\n"
   ]
  },
  {
   "cell_type": "code",
   "execution_count": 4,
   "id": "15227f4e",
   "metadata": {},
   "outputs": [
    {
     "name": "stdout",
     "output_type": "stream",
     "text": [
      "[0, 0, 3, 5, 6, 9, 10, 12]\n",
      "None\n"
     ]
    }
   ],
   "source": [
    "\n",
    "def mult_3_5(limit):\n",
    "    sum=[]\n",
    "    for i in range(0,limit):\n",
    "        if i % 3 == 0:\n",
    "            sum.append(i)\n",
    "        if i % 5 == 0:\n",
    "            sum.append(i)\n",
    "    print(sum)    \n",
    "\n",
    "    \n",
    "\n",
    "print(mult_3_5(15))"
   ]
  },
  {
   "cell_type": "markdown",
   "id": "6c9ddec7",
   "metadata": {},
   "source": [
    "### Q3: Write a function called show_stars(rows). If rows is 5, it should print the following:**************"
   ]
  },
  {
   "cell_type": "code",
   "execution_count": 9,
   "id": "04bd4c2a",
   "metadata": {},
   "outputs": [
    {
     "name": "stdout",
     "output_type": "stream",
     "text": [
      "* \r\n",
      "* * \r\n",
      "* * * \r\n",
      "* * * * \r\n",
      "* * * * * \r\n",
      "* * * * * * \r\n"
     ]
    }
   ],
   "source": [
    "def show_stars(rows):\n",
    "        for i in range(0,rows):\n",
    "            for j in range(0, i+1):\n",
    "                print('* ', end='') \n",
    "            print('\\r')\n",
    "            rows =5\n",
    "\n",
    "show_stars(6)  "
   ]
  },
  {
   "cell_type": "markdown",
   "id": "7d6adcf0",
   "metadata": {},
   "source": [
    "### Q4: Write a function that prints all the prime numbers between 0 and limit where limit is a parameter.\n"
   ]
  },
  {
   "cell_type": "code",
   "execution_count": 20,
   "id": "471c13c6",
   "metadata": {},
   "outputs": [
    {
     "name": "stdout",
     "output_type": "stream",
     "text": [
      "[2, 3, 5, 7, 11, 13]\n"
     ]
    }
   ],
   "source": [
    "def check_prime_num(limit):\n",
    "    prime_nos =[]\n",
    "    for i in range(2, limit+1):\n",
    "        for n in range (2,i):\n",
    "            if i % n == 0:\n",
    "                break\n",
    "        else:\n",
    "                prime_nos.append(i)\n",
    "    print(prime_nos)\n",
    "\n",
    "check_prime_num(15)   "
   ]
  },
  {
   "cell_type": "markdown",
   "id": "159dba16",
   "metadata": {},
   "source": [
    "### Q5: Write a program (function!) that takes a list and returns a new list that contains all the elements of the first list minus all the duplicates"
   ]
  },
  {
   "cell_type": "code",
   "execution_count": 21,
   "id": "c1f577d9",
   "metadata": {},
   "outputs": [
    {
     "name": "stdout",
     "output_type": "stream",
     "text": [
      "['apple', 'orange', 'banana', 'pineapple']\n"
     ]
    }
   ],
   "source": [
    "def unique_list(l):\n",
    "    res = []\n",
    "    for a in l:\n",
    "        if a not in res:\n",
    "             res.append(a)\n",
    "    return res\n",
    "fruits = ['apple','orange','banana','pineapple','banana', 'orange']\n",
    "print(unique_list(fruits))"
   ]
  },
  {
   "cell_type": "markdown",
   "id": "6f89cb33",
   "metadata": {},
   "source": [
    "### Q6: Write a function to ask the user for a number and determine whether the number is prime or not."
   ]
  },
  {
   "cell_type": "code",
   "execution_count": 31,
   "id": "82c80ece",
   "metadata": {},
   "outputs": [
    {
     "name": "stdout",
     "output_type": "stream",
     "text": [
      "It is a prime number\n"
     ]
    }
   ],
   "source": [
    "def is_prime_num(limit):\n",
    "    \n",
    "    for i in range(2, limit):\n",
    "        \n",
    "            if limit % i == 0:\n",
    "                print('It is not a prime number')\n",
    "                break\n",
    "    else:\n",
    "                 print('It is a prime number')\n",
    "                #prime_nos.append(i)\n",
    "    #print(prime_nos)\n",
    "\n",
    "is_prime_num(7)  "
   ]
  },
  {
   "cell_type": "markdown",
   "id": "09da2a78",
   "metadata": {},
   "source": [
    "### Q7: Write a program that asks the user how many Fibonnaci numbers to generate and then generates them"
   ]
  },
  {
   "cell_type": "code",
   "execution_count": null,
   "id": "af76be18",
   "metadata": {},
   "outputs": [],
   "source": [
    "#Not Clear"
   ]
  },
  {
   "cell_type": "markdown",
   "id": "210d6dff",
   "metadata": {},
   "source": [
    "### Q8: Write a function that ask the user for a string and print out whether this string is a palindrome or not"
   ]
  },
  {
   "cell_type": "code",
   "execution_count": 43,
   "id": "03137205",
   "metadata": {},
   "outputs": [
    {
     "name": "stdout",
     "output_type": "stream",
     "text": [
      "Enter word: level\n"
     ]
    },
    {
     "data": {
      "text/plain": [
       "\"Yes, it's a palindrome\""
      ]
     },
     "execution_count": 43,
     "metadata": {},
     "output_type": "execute_result"
    }
   ],
   "source": [
    "def isPalindrome():\n",
    "    word = input('Enter word: ')    \n",
    "    if word == word[::-1]:\n",
    "        return('Yes, it\\'s a palindrome')\n",
    "    else:\n",
    "        return('No, it\\'s not a palindrone')\n",
    "isPalindrome()\n",
    "#s = \"level\"\n",
    "#print(isPalindrome(s))"
   ]
  },
  {
   "cell_type": "markdown",
   "id": "2cd1762b",
   "metadata": {},
   "source": [
    "### Q9: Write a function that takes an ordered list of numbers (a list where the elements are in order from smallest to largest) and another number."
   ]
  },
  {
   "cell_type": "code",
   "execution_count": null,
   "id": "30d68c60",
   "metadata": {},
   "outputs": [],
   "source": [
    "#Not Clear"
   ]
  },
  {
   "cell_type": "markdown",
   "id": "04f9367b",
   "metadata": {},
   "source": [
    "###  Create a program that asks the user to enter their name and their age. Print out a message addressed to them that tells them the year that they will turn 100 years old"
   ]
  },
  {
   "cell_type": "code",
   "execution_count": 52,
   "id": "fabdce3c",
   "metadata": {},
   "outputs": [
    {
     "name": "stdout",
     "output_type": "stream",
     "text": [
      "Please enter your name: hj\n",
      "How old are you: 89\n",
      "Hello hj, if you never die you go be 100 years in 2033\n"
     ]
    }
   ],
   "source": [
    "from datetime import datetime\n",
    "\n",
    "def age_100():\n",
    "    name = input('Please enter your name: ')\n",
    "    age = int(input('How old are you: '))\n",
    "    res= int((100 - age) + datetime.now().year)\n",
    "    print ('Hello {0}, if you never die you go be 100 years in {1}'.format(name,res))\n",
    "age_100()    "
   ]
  },
  {
   "cell_type": "code",
   "execution_count": null,
   "id": "6f3a7351",
   "metadata": {},
   "outputs": [],
   "source": []
  }
 ],
 "metadata": {
  "kernelspec": {
   "display_name": "Python 3 (ipykernel)",
   "language": "python",
   "name": "python3"
  },
  "language_info": {
   "codemirror_mode": {
    "name": "ipython",
    "version": 3
   },
   "file_extension": ".py",
   "mimetype": "text/x-python",
   "name": "python",
   "nbconvert_exporter": "python",
   "pygments_lexer": "ipython3",
   "version": "3.9.12"
  }
 },
 "nbformat": 4,
 "nbformat_minor": 5
}
