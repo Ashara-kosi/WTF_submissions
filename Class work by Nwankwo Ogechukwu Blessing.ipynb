{
 "cells": [
  {
   "cell_type": "markdown",
   "id": "e73be00f",
   "metadata": {},
   "source": [
    "## Class work"
   ]
  },
  {
   "cell_type": "code",
   "execution_count": 4,
   "id": "24d521b0",
   "metadata": {},
   "outputs": [],
   "source": [
    "#1.Write a function to calculate the multiplication and sum of two numbers.\n",
    "def multi_sum(a,b):\n",
    "    M = a*b\n",
    "    print(M, \"product of the two numbers\")\n",
    "    S = a+b\n",
    "    print(S, \"sum of the two numbers\")\n",
    "    return\n"
   ]
  },
  {
   "cell_type": "code",
   "execution_count": 7,
   "id": "fc324bb9",
   "metadata": {},
   "outputs": [
    {
     "name": "stdout",
     "output_type": "stream",
     "text": [
      "15 product of the two numbers\n",
      "8 sum of the two numbers\n"
     ]
    }
   ],
   "source": [
    "multi_sum(5,3)"
   ]
  },
  {
   "cell_type": "code",
   "execution_count": 8,
   "id": "0c02454e",
   "metadata": {},
   "outputs": [],
   "source": [
    "#2.Write a function to print the sum of the current number and the previous number\n",
    "def sumCurrentPrevious(p):\n",
    "    previous = (p - 1)\n",
    "    print(int(previous + int(p)))"
   ]
  },
  {
   "cell_type": "code",
   "execution_count": 9,
   "id": "1c173726",
   "metadata": {},
   "outputs": [
    {
     "name": "stdout",
     "output_type": "stream",
     "text": [
      "39\n"
     ]
    }
   ],
   "source": [
    "sumCurrentPrevious(20)"
   ]
  },
  {
   "cell_type": "code",
   "execution_count": 110,
   "id": "85235edc",
   "metadata": {},
   "outputs": [],
   "source": [
    "#3.Write a function to print characters from a string that are present at an even index number\n",
    "def char_string(b=\" \"):\n",
    "    for i in b:\n",
    "        if (b.index(i))%2==0:\n",
    "            print(i, end=\" \")"
   ]
  },
  {
   "cell_type": "code",
   "execution_count": 111,
   "id": "6b59f3fd",
   "metadata": {
    "scrolled": true
   },
   "outputs": [
    {
     "name": "stdout",
     "output_type": "stream",
     "text": [
      "o e h k "
     ]
    }
   ],
   "source": [
    "char_string(\"ogechukwu\")"
   ]
  },
  {
   "cell_type": "code",
   "execution_count": 104,
   "id": "3f94aff8",
   "metadata": {},
   "outputs": [],
   "source": [
    "#3b.Write a function to print characters from a string that are present at an even index number\n",
    "def character_string(a=\" \"):\n",
    "    i = 0\n",
    "    print('character present at even index:')\n",
    "    while i < len(a):\n",
    "        print(a[i], end=\" \")\n",
    "        i = i + 2"
   ]
  },
  {
   "cell_type": "code",
   "execution_count": 112,
   "id": "7123fac9",
   "metadata": {
    "scrolled": true
   },
   "outputs": [
    {
     "name": "stdout",
     "output_type": "stream",
     "text": [
      "character present at even index:\n",
      "o e w e m n "
     ]
    }
   ],
   "source": [
    "character_string(\"overwhelming\")"
   ]
  },
  {
   "cell_type": "code",
   "execution_count": 57,
   "id": "8c36454b",
   "metadata": {},
   "outputs": [],
   "source": [
    "4.#Write a function to remove first characters from a string\n",
    "def remove_first_char(txt):\n",
    "    print(txt.replace(txt[0], ''))"
   ]
  },
  {
   "cell_type": "code",
   "execution_count": 58,
   "id": "6e0d4f88",
   "metadata": {},
   "outputs": [
    {
     "name": "stdout",
     "output_type": "stream",
     "text": [
      "lessing\n"
     ]
    }
   ],
   "source": [
    "remove_first_char('Blessing')"
   ]
  },
  {
   "cell_type": "code",
   "execution_count": 97,
   "id": "5f80de24",
   "metadata": {},
   "outputs": [],
   "source": [
    "#5.\tWrite a function to check if the first and last number of a list is the same\n",
    "def list_list(list):\n",
    "    if list[0] == list[-1]:\n",
    "        print (True)\n",
    "    else:\n",
    "         print (False)"
   ]
  },
  {
   "cell_type": "code",
   "execution_count": 98,
   "id": "7dd998ad",
   "metadata": {},
   "outputs": [
    {
     "name": "stdout",
     "output_type": "stream",
     "text": [
      "False\n"
     ]
    }
   ],
   "source": [
    "list=[2,4,5,6,8,7,5,45,6]\n",
    "list_list(list)"
   ]
  },
  {
   "cell_type": "code",
   "execution_count": 99,
   "id": "f1b186f0",
   "metadata": {},
   "outputs": [
    {
     "name": "stdout",
     "output_type": "stream",
     "text": [
      "True\n"
     ]
    }
   ],
   "source": [
    "list=[2,4,5,6,8,7,5,45,2]\n",
    "list_list(list)"
   ]
  },
  {
   "cell_type": "code",
   "execution_count": 78,
   "id": "ac219be5",
   "metadata": {},
   "outputs": [],
   "source": [
    "#Write a function to print multiplication table from 1 to 10\n",
    "def multiplication_tables():\n",
    "    for x in range(1, 13):\n",
    "        print(\"\")\n",
    "        for y in range(1, 13):\n",
    "            print(x * y, end=\" \")\n"
   ]
  },
  {
   "cell_type": "code",
   "execution_count": 79,
   "id": "d68dca93",
   "metadata": {
    "scrolled": true
   },
   "outputs": [
    {
     "name": "stdout",
     "output_type": "stream",
     "text": [
      "\n",
      "1 2 3 4 5 6 7 8 9 10 11 12 \n",
      "2 4 6 8 10 12 14 16 18 20 22 24 \n",
      "3 6 9 12 15 18 21 24 27 30 33 36 \n",
      "4 8 12 16 20 24 28 32 36 40 44 48 \n",
      "5 10 15 20 25 30 35 40 45 50 55 60 \n",
      "6 12 18 24 30 36 42 48 54 60 66 72 \n",
      "7 14 21 28 35 42 49 56 63 70 77 84 \n",
      "8 16 24 32 40 48 56 64 72 80 88 96 \n",
      "9 18 27 36 45 54 63 72 81 90 99 108 \n",
      "10 20 30 40 50 60 70 80 90 100 110 120 \n",
      "11 22 33 44 55 66 77 88 99 110 121 132 \n",
      "12 24 36 48 60 72 84 96 108 120 132 144 "
     ]
    }
   ],
   "source": [
    "multiplication_tables()"
   ]
  },
  {
   "cell_type": "code",
   "execution_count": 95,
   "id": "b05045cf",
   "metadata": {},
   "outputs": [],
   "source": [
    "#7.\tGiven a two list of numbers, write a function to create a new list such that the new list should contain odd numbers\n",
    "#from the first list and even numbers from the second list.\n",
    "\n",
    "def list_number():\n",
    "    b = [2,3,4,5,6,7,8,9]\n",
    "    c = [1,2,4,3,5,6,7,8]\n",
    "    a = []\n",
    "    for n in b:\n",
    "        if n % 2 > 0:\n",
    "            a.append(n)\n",
    "    for y in c:\n",
    "        if y % 2 ==0:\n",
    "            a.append(y)\n",
    "    print(a)"
   ]
  },
  {
   "cell_type": "code",
   "execution_count": 96,
   "id": "9063b263",
   "metadata": {},
   "outputs": [
    {
     "name": "stdout",
     "output_type": "stream",
     "text": [
      "[3, 5, 7, 9, 2, 4, 6, 8]\n"
     ]
    }
   ],
   "source": [
    "list_number()"
   ]
  }
 ],
 "metadata": {
  "kernelspec": {
   "display_name": "Python 3 (ipykernel)",
   "language": "python",
   "name": "python3"
  },
  "language_info": {
   "codemirror_mode": {
    "name": "ipython",
    "version": 3
   },
   "file_extension": ".py",
   "mimetype": "text/x-python",
   "name": "python",
   "nbconvert_exporter": "python",
   "pygments_lexer": "ipython3",
   "version": "3.9.7"
  }
 },
 "nbformat": 4,
 "nbformat_minor": 5
}
