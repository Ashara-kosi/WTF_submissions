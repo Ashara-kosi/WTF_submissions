{
 "cells": [
  {
   "cell_type": "markdown",
   "id": "ca7369ea",
   "metadata": {},
   "source": [
    "### 1. Write a function called showNumbers that takes a parameter called limit. It should print\n",
    "all the numbers between 0 and limit with a label to identify the even and odd numbers.\n",
    "For example, if the limit is 3, it should print:0 EVEN 1 ODD 2 EVEN 3 ODD"
   ]
  },
  {
   "cell_type": "code",
   "execution_count": 1,
   "id": "d6612e60",
   "metadata": {},
   "outputs": [
    {
     "name": "stdout",
     "output_type": "stream",
     "text": [
      "0 EVEN\n",
      "1 ODD\n",
      "2 EVEN\n",
      "3 ODD\n",
      "4 EVEN\n",
      "5 ODD\n",
      "6 EVEN\n",
      "7 ODD\n",
      "8 EVEN\n",
      "9 ODD\n",
      "10 EVEN\n"
     ]
    }
   ],
   "source": [
    "number = range(0,11)\n",
    "def showNumber(limit):\n",
    "    for i in limit:\n",
    "        if i%2==0:\n",
    "            print (i,'EVEN')\n",
    "        else:\n",
    "            print(i,'ODD')\n",
    "showNumber(number)"
   ]
  },
  {
   "cell_type": "markdown",
   "id": "32c5584c",
   "metadata": {},
   "source": [
    "#### 2. Write a function that returns the sum of multiples of 3 and 5 between 0\n",
    "and limit (parameter). For example, if limit is 20, it should return the sum of 3, 5, 6, 9, 10,\n",
    "12, 15, 18, 20."
   ]
  },
  {
   "cell_type": "code",
   "execution_count": 2,
   "id": "76753cd4",
   "metadata": {},
   "outputs": [
    {
     "name": "stdout",
     "output_type": "stream",
     "text": [
      "0\n",
      "0\n",
      "3\n",
      "5\n",
      "6\n",
      "9\n",
      "10\n",
      "12\n",
      "15\n",
      "15\n",
      "18\n",
      "20\n"
     ]
    }
   ],
   "source": [
    "limit = range(0,21)\n",
    "def sum_multiples(start):\n",
    "    for i in start:\n",
    "        if i%3 == 0:\n",
    "            print(i)\n",
    "        if i%5 == 0:\n",
    "            print(i)\n",
    "sum_multiples(limit)"
   ]
  },
  {
   "cell_type": "markdown",
   "id": "e6f708c5",
   "metadata": {},
   "source": [
    "#### Write a function called show_stars(rows). If rows is 5, it should print the\n",
    "following:***************"
   ]
  },
  {
   "cell_type": "code",
   "execution_count": 6,
   "id": "a6fa6284",
   "metadata": {},
   "outputs": [
    {
     "name": "stdout",
     "output_type": "stream",
     "text": [
      "* \r\n",
      "* * \r\n",
      "* * * \r\n",
      "* * * * \r\n",
      "* * * * * \r\n"
     ]
    }
   ],
   "source": [
    "for i in range(0, rows):\n",
    "\n",
    "    # nested loop for each column\n",
    "\n",
    "    for j in range(0, i + 1):\n",
    "\n",
    "        # print star\n",
    "\n",
    "        print(\"*\", end=' ')\n",
    "\n",
    "    # new line after each row\n",
    "\n",
    "    print(\"\\r\")"
   ]
  },
  {
   "cell_type": "code",
   "execution_count": 7,
   "id": "fddd48f7",
   "metadata": {},
   "outputs": [
    {
     "name": "stdout",
     "output_type": "stream",
     "text": [
      "2\n",
      "3\n",
      "5\n",
      "7\n",
      "11\n",
      "13\n",
      "17\n",
      "19\n",
      "23\n",
      "29\n",
      "31\n",
      "37\n",
      "41\n",
      "43\n",
      "47\n",
      "53\n",
      "59\n",
      "61\n",
      "67\n",
      "71\n",
      "73\n",
      "79\n",
      "83\n",
      "89\n",
      "97\n"
     ]
    }
   ],
   "source": [
    "Num = range(0,100)\n",
    "def prim(prime):\n",
    "    for i in prime:\n",
    "        if i > 1:\n",
    "            for j in range(2, i):\n",
    "                if (i % j) == 0:\n",
    "                    break\n",
    "            else:\n",
    "                        print(i)\n",
    "prim(Num)"
   ]
  },
  {
   "cell_type": "markdown",
   "id": "8489b576",
   "metadata": {},
   "source": [
    "####4. Write a function that prints all the prime numbers between 0 and limit where limit is a\n",
    "parameter."
   ]
  },
  {
   "cell_type": "code",
   "execution_count": null,
   "id": "2918870a",
   "metadata": {},
   "outputs": [],
   "source": [
    "def number(r):\n",
    "    for x in range(2, r):\n",
    "        if (r % x) == 0:\n",
    "            print(r, \" is not a prime number\")\n",
    "    else:\n",
    "            print(r, \" is a prime number\")\n",
    "number(5)"
   ]
  },
  {
   "cell_type": "markdown",
   "id": "587dece0",
   "metadata": {},
   "source": [
    "### 5. Write a program (function!) that takes a list and returns a new list that contains all the\n",
    "elements of the first list minus all the duplicates."
   ]
  },
  {
   "cell_type": "code",
   "execution_count": 8,
   "id": "ef8ddf32",
   "metadata": {},
   "outputs": [
    {
     "name": "stdout",
     "output_type": "stream",
     "text": [
      "[1, 2, 3, 4, 5, 76, 8, 56]\n"
     ]
    }
   ],
   "source": [
    "list_d = [1,2,3,2,3,4,5,76,8,1,3,56]\n",
    "def n_list(string):\n",
    "    Newlist = []\n",
    "    for i in string:\n",
    "        if i not in Newlist:\n",
    "            Newlist.append(i) \n",
    "    print(Newlist)\n",
    "n_list(list_d)          "
   ]
  },
  {
   "cell_type": "markdown",
   "id": "5e350d14",
   "metadata": {},
   "source": [
    "### 6. Write a program that asks the user how many Fibonnaci numbers to generate and then\n",
    "generates them."
   ]
  },
  {
   "cell_type": "code",
   "execution_count": 9,
   "id": "176d4940",
   "metadata": {},
   "outputs": [
    {
     "name": "stdout",
     "output_type": "stream",
     "text": [
      "Please enter how many numbers would you like in your Fibonacci sequence: 3\n",
      "[1, 1, 2]\n",
      "3\n"
     ]
    },
    {
     "data": {
      "text/plain": [
       "'3'"
      ]
     },
     "execution_count": 9,
     "metadata": {},
     "output_type": "execute_result"
    }
   ],
   "source": [
    "def fibonacci():\n",
    "    num = int(input(\"Please enter how many numbers would you like in your Fibonacci sequence: \"))\n",
    "    i = 1\n",
    "    if num == 0:\n",
    "        fib = []\n",
    "    elif num == 1:\n",
    "        fib = [1]\n",
    "    elif num == 2:\n",
    "        fib = [1,1]\n",
    "    elif num > 2:\n",
    "        fib = [1,1]\n",
    "        while i < (num - 1):\n",
    "            fib.append(fib[i] + fib[i-1])\n",
    "            i += 1\n",
    "    return fib\n",
    "print (fibonacci())\n",
    "input()"
   ]
  },
  {
   "cell_type": "markdown",
   "id": "176530b2",
   "metadata": {},
   "source": [
    "#### 8. Write a function that ask the user for a string and print out whether this string is a\n",
    "palindrome or not."
   ]
  },
  {
   "cell_type": "code",
   "execution_count": 11,
   "id": "6e32dfd8",
   "metadata": {},
   "outputs": [
    {
     "name": "stdout",
     "output_type": "stream",
     "text": [
      "Enter a word: hhhh\n"
     ]
    },
    {
     "data": {
      "text/plain": [
       "True"
      ]
     },
     "execution_count": 11,
     "metadata": {},
     "output_type": "execute_result"
    }
   ],
   "source": [
    "def ispalindrome():\n",
    "    user = input('Enter a word: ')\n",
    "    left = 0\n",
    "    right = len(user) -1 \n",
    "    while right >= left:\n",
    "        if not user[left] == user[right]:\n",
    "            return False\n",
    "        left += 1\n",
    "        right -= 1\n",
    "    return True\n",
    "ispalindrome()"
   ]
  },
  {
   "cell_type": "markdown",
   "id": "d6eaa309",
   "metadata": {},
   "source": [
    "#### 9. Write a function that takes an ordered list of numbers (a list where the elements are in\n",
    "order from smallest to largest) and another number."
   ]
  },
  {
   "cell_type": "code",
   "execution_count": 14,
   "id": "836e8e07",
   "metadata": {},
   "outputs": [
    {
     "name": "stdout",
     "output_type": "stream",
     "text": [
      "False\n",
      "True\n",
      "False\n",
      "True\n"
     ]
    }
   ],
   "source": [
    "def find(ordered, element_to_find):\n",
    "    for element in ordered:\n",
    "        if element == element_to_find:\n",
    "            return True\n",
    "    else:\n",
    "        return False\n",
    "list = [2, 4, 6, 8, 10]\n",
    "print(find(list, 5)) # prints False\n",
    "print(find(list, 10)) # prints True\n",
    "print(find(list, -1)) # prints False\n",
    "print(find(list, 2)) # prints True"
   ]
  },
  {
   "cell_type": "markdown",
   "id": "e63e64a6",
   "metadata": {},
   "source": [
    "### 10. Create a program that asks the user to enter their name and their age. Print out a\n",
    "message addressed to them that tells them the year that they will turn 100 years old."
   ]
  },
  {
   "cell_type": "code",
   "execution_count": 15,
   "id": "eab64c92",
   "metadata": {
    "scrolled": true
   },
   "outputs": [
    {
     "name": "stdout",
     "output_type": "stream",
     "text": [
      "Enter your NameFaith\n",
      "Enter your Age5\n",
      "Hello Faith   your age is 5   and you will turn 100 in the year 2117\n"
     ]
    }
   ],
   "source": [
    "Name = input('Enter your Name')\n",
    "Age = int(input('Enter your Age'))\n",
    "current_year = int(2022 + (100- Age))\n",
    "#return current_year\n",
    "\n",
    "print('Hello', Name,' ', 'your age is',Age,' ', 'and you will turn 100 in the year', current_year)"
   ]
  },
  {
   "cell_type": "code",
   "execution_count": null,
   "id": "c3a29b63",
   "metadata": {},
   "outputs": [],
   "source": []
  },
  {
   "cell_type": "code",
   "execution_count": null,
   "id": "725b04e6",
   "metadata": {},
   "outputs": [],
   "source": []
  },
  {
   "cell_type": "code",
   "execution_count": null,
   "id": "b3a767e9",
   "metadata": {},
   "outputs": [],
   "source": []
  },
  {
   "cell_type": "code",
   "execution_count": null,
   "id": "af955434",
   "metadata": {},
   "outputs": [],
   "source": []
  },
  {
   "cell_type": "code",
   "execution_count": null,
   "id": "796a2ac8",
   "metadata": {},
   "outputs": [],
   "source": []
  }
 ],
 "metadata": {
  "kernelspec": {
   "display_name": "Python 3 (ipykernel)",
   "language": "python",
   "name": "python3"
  },
  "language_info": {
   "codemirror_mode": {
    "name": "ipython",
    "version": 3
   },
   "file_extension": ".py",
   "mimetype": "text/x-python",
   "name": "python",
   "nbconvert_exporter": "python",
   "pygments_lexer": "ipython3",
   "version": "3.9.12"
  }
 },
 "nbformat": 4,
 "nbformat_minor": 5
}
