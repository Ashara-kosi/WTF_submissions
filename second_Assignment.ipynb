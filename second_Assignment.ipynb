{
 "cells": [
  {
   "cell_type": "markdown",
   "id": "9cda769d",
   "metadata": {},
   "source": [
    "## Question 1:\n",
    "### Write a function called showNumbers that takes a parameter called limit. It should print\n",
    "### all the numbers between 0 and limit with a label to identify the even and odd numbers.\n",
    "### For example, if the limit is 3, it should print:0 EVEN 1 ODD 2 EVEN 3 ODD"
   ]
  },
  {
   "cell_type": "code",
   "execution_count": 5,
   "id": "abe76d20",
   "metadata": {},
   "outputs": [
    {
     "name": "stdout",
     "output_type": "stream",
     "text": [
      "1  Odd\n",
      "2  Even\n",
      "3  Odd\n",
      "4  Even\n",
      "5  Odd\n"
     ]
    }
   ],
   "source": [
    "def showNumbers(limit):\n",
    "    for i in range(1,limit+1):\n",
    "        if i % 2 == 0:\n",
    "            print(i,' Even')\n",
    "        else:\n",
    "            print(i,' Odd')\n",
    "showNumbers(5)"
   ]
  },
  {
   "cell_type": "markdown",
   "id": "ae0145c5",
   "metadata": {},
   "source": [
    "## Question 2:\n",
    "### Write a function that returns the sum of multiples of 3 and 5 between 0and limit (parameter). For example, if limit is 20, it should return the sum of 3, 5, 6, 9, 10, 12, 15, 18, 20."
   ]
  },
  {
   "cell_type": "code",
   "execution_count": 24,
   "id": "6242cdd1",
   "metadata": {},
   "outputs": [
    {
     "data": {
      "text/plain": [
       "45"
      ]
     },
     "execution_count": 24,
     "metadata": {},
     "output_type": "execute_result"
    }
   ],
   "source": [
    "def multiples(limit):\n",
    "    Summed = []\n",
    "    for i in range(0,limit+1):\n",
    "        if (i % 3 == 0 or i % 5 == 0):\n",
    "            Summed.append(i)\n",
    "    return(sum(Summed))\n",
    "multiples(14)      "
   ]
  },
  {
   "cell_type": "markdown",
   "id": "3a8007d5",
   "metadata": {},
   "source": [
    "## Question 3:\n",
    "###  Write a function called show_stars(rows). If rows is 5, it should print the following:***************"
   ]
  },
  {
   "cell_type": "code",
   "execution_count": 26,
   "id": "eae916a4",
   "metadata": {},
   "outputs": [
    {
     "name": "stdout",
     "output_type": "stream",
     "text": [
      "******************************\n"
     ]
    }
   ],
   "source": [
    "def show_Stars(lim):\n",
    "        print ('*' * lim*3)\n",
    "show_Stars(10)"
   ]
  },
  {
   "cell_type": "markdown",
   "id": "ca18c204",
   "metadata": {},
   "source": [
    "## Question 4: \n",
    "### Write a function that prints all the prime numbers between 0 and limit where limit is a parameter."
   ]
  },
  {
   "cell_type": "code",
   "execution_count": 28,
   "id": "5babdf3a",
   "metadata": {},
   "outputs": [
    {
     "name": "stdout",
     "output_type": "stream",
     "text": [
      "[1, 3, 5, 7, 9]\n"
     ]
    }
   ],
   "source": [
    "def prime_num(lit):\n",
    "    n_list =[]\n",
    "    for i in range(0,lit+1):\n",
    "        if i % 2 == 1:\n",
    "            n_list.append(i)\n",
    "    print (n_list)\n",
    "prime_num(10)"
   ]
  },
  {
   "cell_type": "markdown",
   "id": "0bc09591",
   "metadata": {},
   "source": [
    "## Question 5:\n",
    "### Write a program (function!) that takes a list and returns a new list that contains all the elements of the first list minus all the duplicates."
   ]
  },
  {
   "cell_type": "code",
   "execution_count": 29,
   "id": "026cc25e",
   "metadata": {},
   "outputs": [
    {
     "name": "stdout",
     "output_type": "stream",
     "text": [
      "[1, 2, 3, 4, 5]\n"
     ]
    }
   ],
   "source": [
    "def no_Duplicates(dup):\n",
    "    dup = set(dup)\n",
    "    con_dup = list(dup)\n",
    "    print (con_dup)\n",
    "no_Duplicates([5,2,1,1,2,3,4])"
   ]
  },
  {
   "cell_type": "markdown",
   "id": "20cd843f",
   "metadata": {},
   "source": [
    "## Question 6:\n",
    "### Write a function to ask the user for a number and determine whether the number is prime or not."
   ]
  },
  {
   "cell_type": "code",
   "execution_count": 30,
   "id": "fbac8684",
   "metadata": {},
   "outputs": [
    {
     "name": "stdout",
     "output_type": "stream",
     "text": [
      "Please enter number- 27\n",
      "27 is a prime number\n"
     ]
    }
   ],
   "source": [
    "num = int(input(\"Please enter number- \"))\n",
    "def prime_num(num):\n",
    "    if num % 2 == 1:\n",
    "        print (num,'is a prime number')\n",
    "    else:\n",
    "        print (num,'is not a prime number') \n",
    "prime_num(num)"
   ]
  },
  {
   "cell_type": "markdown",
   "id": "e4554bbe",
   "metadata": {},
   "source": [
    "## Question 7:\n",
    "### Write a program that asks the user how many Fibonnaci numbers to generate and then generates them."
   ]
  },
  {
   "cell_type": "code",
   "execution_count": 31,
   "id": "69e12d28",
   "metadata": {},
   "outputs": [
    {
     "name": "stdout",
     "output_type": "stream",
     "text": [
      "Please enter how many numbers would you like in your Fibonacci sequence: 20\n",
      "[1, 1, 2, 3, 5, 8, 13, 21, 34, 55, 89, 144, 233, 377, 610, 987, 1597, 2584, 4181, 6765]\n"
     ]
    }
   ],
   "source": [
    "def fibonacci():\n",
    "    num = int(input(\"Please enter how many numbers would you like in your Fibonacci sequence: \"))\n",
    "    i = 1\n",
    "    if num == 0:\n",
    "        fib = [0]\n",
    "    elif num == 1:\n",
    "        fib = [1]\n",
    "    elif num == 2:\n",
    "        fib = [1,1]\n",
    "    elif num > 2:\n",
    "        fib = [1,1]\n",
    "        while i < (num - 1):\n",
    "            fib.append(fib[i] + fib[i-1])\n",
    "            i += 1\n",
    "    return fib\n",
    "print (fibonacci())"
   ]
  },
  {
   "cell_type": "markdown",
   "id": "98603e0c",
   "metadata": {},
   "source": [
    "## Question 8: \n",
    "### Write a function that ask the user for a string and print out whether this string is a palindrome or not."
   ]
  },
  {
   "cell_type": "code",
   "execution_count": 41,
   "id": "214e0743",
   "metadata": {},
   "outputs": [
    {
     "name": "stdout",
     "output_type": "stream",
     "text": [
      "Please enter text - radar\n",
      "radar is a palindrome\n"
     ]
    }
   ],
   "source": [
    "def palindrome(text):\n",
    "    text = input(\"Please enter text - \")\n",
    "    if text  == text[::-1]:\n",
    "        print(text, 'is a palindrome') \n",
    "    else:\n",
    "        print(text, 'is not a palindrome')\n",
    "palindrome('text')"
   ]
  },
  {
   "cell_type": "markdown",
   "id": "b8e758ea",
   "metadata": {},
   "source": [
    "## Question 9:\n",
    "### Write a function that takes an ordered list of numbers (a list where the elements are inorder from smallest to largest) and another number."
   ]
  },
  {
   "cell_type": "code",
   "execution_count": 42,
   "id": "1f37eb19",
   "metadata": {},
   "outputs": [
    {
     "name": "stdout",
     "output_type": "stream",
     "text": [
      "[8, 10, 5, 6]\n"
     ]
    }
   ],
   "source": [
    "A_set = {}\n",
    "B_set = {}\n",
    "def func(A_set,B_set):\n",
    "    lists = list(A_set | B_set)\n",
    "    print (lists)\n",
    "func({5,6,8},{10})"
   ]
  },
  {
   "cell_type": "markdown",
   "id": "9e99e042",
   "metadata": {},
   "source": [
    "## Question 10: \n",
    "### Create a program that asks the user to enter their name and their age. Print out a message addressed to them that tells them the year that they will turn 100 years old."
   ]
  },
  {
   "cell_type": "code",
   "execution_count": 61,
   "id": "fb48c9d7",
   "metadata": {},
   "outputs": [
    {
     "name": "stdout",
     "output_type": "stream",
     "text": [
      "Enter your names? Karimot\n",
      "How old are you? 2\n",
      "Karimot  will be 100 years old in  2120\n"
     ]
    }
   ],
   "source": [
    "name = input(\"Enter your names? \")\n",
    "age = int(input(\"How old are you? \"))\n",
    "current_year = 2022\n",
    "year = (current_year - age) + 100\n",
    "print (name, ' will be 100 years old in ', year)"
   ]
  },
  {
   "cell_type": "code",
   "execution_count": null,
   "id": "0043efb7",
   "metadata": {},
   "outputs": [],
   "source": []
  }
 ],
 "metadata": {
  "kernelspec": {
   "display_name": "Python 3 (ipykernel)",
   "language": "python",
   "name": "python3"
  },
  "language_info": {
   "codemirror_mode": {
    "name": "ipython",
    "version": 3
   },
   "file_extension": ".py",
   "mimetype": "text/x-python",
   "name": "python",
   "nbconvert_exporter": "python",
   "pygments_lexer": "ipython3",
   "version": "3.9.12"
  }
 },
 "nbformat": 4,
 "nbformat_minor": 5
}
