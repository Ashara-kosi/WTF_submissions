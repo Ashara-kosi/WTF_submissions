{
  "nbformat": 4,
  "nbformat_minor": 0,
  "metadata": {
    "colab": {
      "provenance": []
    },
    "kernelspec": {
      "name": "python3",
      "display_name": "Python 3"
    },
    "language_info": {
      "name": "python"
    }
  },
  "cells": [
    {
      "cell_type": "markdown",
      "source": [
        "Write a function called showNumbers that takes a parameter called limit.It should print all the numbers btwn  and the limit with a label to identify the even an dodd numbers.\n"
      ],
      "metadata": {
        "id": "udqCjO_iKlWt"
      }
    },
    {
      "cell_type": "code",
      "execution_count": 1,
      "metadata": {
        "colab": {
          "base_uri": "https://localhost:8080/"
        },
        "id": "IC62gsjIKCcs",
        "outputId": "0be63650-4ec0-44aa-e03a-76b05b56dcd1"
      },
      "outputs": [
        {
          "output_type": "stream",
          "name": "stdout",
          "text": [
            "Even\n",
            "Odd\n",
            "Even\n",
            "Odd\n",
            "Even\n"
          ]
        }
      ],
      "source": [
        "def showNumbers(limit): \n",
        "  for i in range(0,limit+1):\n",
        "      if i%2==0:\n",
        "         print(\"Even\")\n",
        "      else:\n",
        "         print(\"Odd\")\n",
        "\n",
        "showNumbers(4)"
      ]
    },
    {
      "cell_type": "markdown",
      "source": [
        "**Write a function that returns the sum of multiples of 3 and 5 between 0 and limit (parameter)**"
      ],
      "metadata": {
        "id": "q8ZyJSpxLxK3"
      }
    },
    {
      "cell_type": "code",
      "source": [
        "def tech4dev(limit):\n",
        "    sum=[]\n",
        "    for number in range(1, limit):\n",
        "        if number%3 == 0:\n",
        "            sum.append(number)\n",
        "        if number%5 == 0:\n",
        "            sum.append(number)\n",
        "        print(sum)\n",
        "\n",
        "tech4dev(int(input(\"enter the limit:  \")))"
      ],
      "metadata": {
        "colab": {
          "base_uri": "https://localhost:8080/"
        },
        "id": "e7WikU3gKhCe",
        "outputId": "ded419bf-766c-436d-de61-a28c84955f3b"
      },
      "execution_count": 2,
      "outputs": [
        {
          "output_type": "stream",
          "name": "stdout",
          "text": [
            "enter the limit:  7\n",
            "[]\n",
            "[]\n",
            "[3]\n",
            "[3]\n",
            "[3, 5]\n",
            "[3, 5, 6]\n"
          ]
        }
      ]
    },
    {
      "cell_type": "markdown",
      "source": [
        "**Write a function called show_stars(rows). If rows is 5, it should print the following**"
      ],
      "metadata": {
        "id": "vWdDpMoSMjik"
      }
    },
    {
      "cell_type": "code",
      "source": [
        "rows = 5\n",
        "def show_stars(rows):\n",
        "  for i in range(0, rows):\n",
        "    for k in range(0, i + 1):\n",
        "        print(\"*\", end=' ')\n",
        "    print(\"\\r\")\n",
        "show_stars(rows)"
      ],
      "metadata": {
        "colab": {
          "base_uri": "https://localhost:8080/"
        },
        "id": "3eFoXjmPMW29",
        "outputId": "5c3efd56-323d-4f77-d975-7b9524b45206"
      },
      "execution_count": 3,
      "outputs": [
        {
          "output_type": "stream",
          "name": "stdout",
          "text": [
            "* \r\n",
            "* * \r\n",
            "* * * \r\n",
            "* * * * \r\n",
            "* * * * * \r\n"
          ]
        }
      ]
    },
    {
      "cell_type": "markdown",
      "source": [
        "**Write a function that prints all the prime numbers between 0 and limit where limit is aparameter**"
      ],
      "metadata": {
        "id": "LgCPqgrCOtL4"
      }
    },
    {
      "cell_type": "code",
      "source": [
        "n=int(input(\"Enter the number till you want to check: \"))\n",
        "primes = []\n",
        "for i in range (2, n+1):\n",
        "    for j in range(2, i):\n",
        "        if i%j == 0:\n",
        "            break\n",
        "    else:\n",
        "        primes.append(i)\n",
        "print(primes)"
      ],
      "metadata": {
        "colab": {
          "base_uri": "https://localhost:8080/"
        },
        "id": "t-AD8pjmNhBv",
        "outputId": "a7cb6bda-6ffd-4312-fbfd-9f147bf8b546"
      },
      "execution_count": 4,
      "outputs": [
        {
          "output_type": "stream",
          "name": "stdout",
          "text": [
            "Enter the number till you want to check: 5\n",
            "[2, 3, 5]\n"
          ]
        }
      ]
    },
    {
      "cell_type": "code",
      "source": [
        "def tade(n):\n",
        "  primes = []\n",
        "  for i in range (2, n+1):\n",
        "    for j in range(2, i):\n",
        "      if i%j == 0:\n",
        "        break\n",
        "    else:\n",
        "        print(primes.append(i))\n",
        "tade(7)"
      ],
      "metadata": {
        "colab": {
          "base_uri": "https://localhost:8080/"
        },
        "id": "YjPMQiBRQzlY",
        "outputId": "d344283d-4fa0-45aa-d2f4-a257cabe2af6"
      },
      "execution_count": 5,
      "outputs": [
        {
          "output_type": "stream",
          "name": "stdout",
          "text": [
            "None\n",
            "None\n",
            "None\n",
            "None\n"
          ]
        }
      ]
    },
    {
      "cell_type": "markdown",
      "source": [
        "**Write a program (function!) that takes a list and returns a new list that contains all theelements of the first list minus all the duplicates**"
      ],
      "metadata": {
        "id": "h0VgQFPBYP3h"
      }
    },
    {
      "cell_type": "code",
      "source": [
        "def new_list(list):\n",
        "    x = []\n",
        "    for i in list:\n",
        "        if i not in x:\n",
        "            x.append(i)\n",
        "    return x\n",
        "\n",
        "list = [1,2,2,3,4,6,3,7]\n",
        "new_list(list)"
      ],
      "metadata": {
        "colab": {
          "base_uri": "https://localhost:8080/"
        },
        "id": "ilBXrnu7UAar",
        "outputId": "4bef58f1-8224-4566-eb1b-06cb85be65ad"
      },
      "execution_count": 6,
      "outputs": [
        {
          "output_type": "execute_result",
          "data": {
            "text/plain": [
              "[1, 2, 3, 4, 6, 7]"
            ]
          },
          "metadata": {},
          "execution_count": 6
        }
      ]
    },
    {
      "cell_type": "markdown",
      "source": [
        "**Write a function to ask the user for a number and determine whether the number isprime or not.**"
      ],
      "metadata": {
        "id": "4bLdJRx5Wbgu"
      }
    },
    {
      "cell_type": "code",
      "source": [
        "a=int(input(\"enter the number:=\"))\n",
        "def shade(): \n",
        "  for i in range(2,a):\n",
        "    if(a%i)==0:\n",
        "      print(a,\"is not a prime number\")\n",
        "      break\n",
        "    else:\n",
        "      print(a,\"is a prime number\")\n",
        "shade()"
      ],
      "metadata": {
        "colab": {
          "base_uri": "https://localhost:8080/"
        },
        "id": "EXv5dEkjXl2V",
        "outputId": "d2af92e7-6ec3-4ff5-9740-b7b0d671d6fc"
      },
      "execution_count": 7,
      "outputs": [
        {
          "output_type": "stream",
          "name": "stdout",
          "text": [
            "enter the number:=5\n",
            "5 is a prime number\n",
            "5 is a prime number\n",
            "5 is a prime number\n"
          ]
        }
      ]
    },
    {
      "cell_type": "markdown",
      "source": [
        "**Write a program that asks the user how many Fibonnaci numbers to generate and thengenerates them.**"
      ],
      "metadata": {
        "id": "DgRrMmVbVeD3"
      }
    },
    {
      "cell_type": "code",
      "source": [
        "def fibonacci():\n",
        "    num = int(input(\"Please enter how many numbers would you like in your Fibonacci sequence: \"))\n",
        "    i = 1\n",
        "    if num == 0:\n",
        "        fib = []\n",
        "    elif num == 1:\n",
        "        fib = [1]\n",
        "    elif num == 2:\n",
        "        fib = [1,1]\n",
        "    elif num > 2:\n",
        "        fib = [1,1]\n",
        "        while i < (num - 1):\n",
        "            fib.append(fib[i] + fib[i-1])\n",
        "            i += 1\n",
        "    return fib\n",
        "fibonacci()\n"
      ],
      "metadata": {
        "colab": {
          "base_uri": "https://localhost:8080/"
        },
        "id": "ZlHpmjYqUAol",
        "outputId": "1ce6f187-f87a-44c4-9a13-b903a7f25ed4"
      },
      "execution_count": 8,
      "outputs": [
        {
          "name": "stdout",
          "output_type": "stream",
          "text": [
            "Please enter how many numbers would you like in your Fibonacci sequence: 6\n"
          ]
        },
        {
          "output_type": "execute_result",
          "data": {
            "text/plain": [
              "[1, 1, 2, 3, 5, 8]"
            ]
          },
          "metadata": {},
          "execution_count": 8
        }
      ]
    },
    {
      "cell_type": "markdown",
      "source": [
        "**Write a function that ask the user for a string and print out whether this string is apalindrome or not**"
      ],
      "metadata": {
        "id": "R6BofoPzUxdw"
      }
    },
    {
      "cell_type": "code",
      "source": [
        "string = input(\"Input String: \")\n",
        "def palindrome(string):\n",
        "    tray= string[: :]\n",
        "    nay= string[: : -1]\n",
        "    if tray==nay:\n",
        "        print (f'{string} is a palindrome string')\n",
        "    else:\n",
        "        print (f'{string} is not a palindrome string' )\n",
        "        \n",
        "palindrome(string)"
      ],
      "metadata": {
        "colab": {
          "base_uri": "https://localhost:8080/"
        },
        "id": "iHlhMp5HUAvE",
        "outputId": "580f2dba-1438-41d6-8dba-381c2cb927bb"
      },
      "execution_count": 9,
      "outputs": [
        {
          "output_type": "stream",
          "name": "stdout",
          "text": [
            "Input String: hdbyserby\n",
            "hdbyserby is not a palindrome string\n"
          ]
        }
      ]
    },
    {
      "cell_type": "markdown",
      "source": [
        "**Write a function that takes an ordered list of numbers (a list where the elements are inorder from smallest to largest) and another number.**"
      ],
      "metadata": {
        "id": "xMPjW9UOUSvh"
      }
    },
    {
      "cell_type": "code",
      "source": [
        "def sortlist(list):\n",
        "    for i in list:\n",
        "        list.sort()\n",
        "    return list\n",
        "        \n",
        "list = [46,78,1,4,90,25,11,42]\n",
        "sortlist(list)"
      ],
      "metadata": {
        "colab": {
          "base_uri": "https://localhost:8080/"
        },
        "id": "AQH9ZvDkUA4O",
        "outputId": "6e444cf6-c975-476a-dd43-8a6e2855aa9a"
      },
      "execution_count": 10,
      "outputs": [
        {
          "output_type": "execute_result",
          "data": {
            "text/plain": [
              "[1, 4, 11, 25, 42, 46, 78, 90]"
            ]
          },
          "metadata": {},
          "execution_count": 10
        }
      ]
    },
    {
      "cell_type": "markdown",
      "source": [
        "**create a program that asks the user to enter their name and their age. Print out amessage addressed to them that tells them the year that they will turn 100 years old.**"
      ],
      "metadata": {
        "id": "V3RoxInaNxCd"
      }
    },
    {
      "cell_type": "code",
      "source": [
        "name = input(\"Input name: \")\n",
        "age = int(input(\"Input age: \"))\n",
        "def calc(age):\n",
        "    year = 2022+(100-age)\n",
        "    print(\"You will be 100 years old in\", year)\n",
        "calc(age)"
      ],
      "metadata": {
        "colab": {
          "base_uri": "https://localhost:8080/"
        },
        "id": "fbZzePZ_TQWu",
        "outputId": "d28d93a5-f0e8-4f0d-a219-82f27d901325"
      },
      "execution_count": 11,
      "outputs": [
        {
          "output_type": "stream",
          "name": "stdout",
          "text": [
            "Input name: tracy\n",
            "Input age: 45\n",
            "You will be 100 years old in 2077\n"
          ]
        }
      ]
    },
    {
      "cell_type": "code",
      "source": [],
      "metadata": {
        "id": "rG6nnf8XTjKY"
      },
      "execution_count": 11,
      "outputs": []
    }
  ]
}