{
 "cells": [
  {
   "cell_type": "code",
   "execution_count": 3,
   "id": "5e93587d",
   "metadata": {},
   "outputs": [
    {
     "name": "stdout",
     "output_type": "stream",
     "text": [
      "385\n",
      "208\n"
     ]
    }
   ],
   "source": [
    "#1.Write a function to calculate the multiplication and sum of two numbers.\n",
    "def sum_1(a,b):\n",
    "    return a+b\n",
    "def multi(a,b):\n",
    "    return a*b\n",
    "print (sum_1(150,235))\n",
    "print (multi(13,16))"
   ]
  },
  {
   "cell_type": "code",
   "execution_count": null,
   "id": "2e22c26a",
   "metadata": {},
   "outputs": [],
   "source": [
    "#2.Write a function to print the sum of the current number and the previous numberr\n",
    "def sum_no(n):\n",
    "    previous_no = 0\n",
    "    for i in range (1,12):\n",
    "        sum_no = Previous_no + i\n",
    "    return sum_no"
   ]
  },
  {
   "cell_type": "code",
   "execution_count": 11,
   "id": "3c476935",
   "metadata": {},
   "outputs": [
    {
     "name": "stdout",
     "output_type": "stream",
     "text": [
      "Current number 0 Previous Number 0 sum is 0\n",
      "Current number 1 Previous Number 0 sum is 1\n",
      "Current number 2 Previous Number 1 sum is 3\n",
      "Current number 3 Previous Number 2 sum is 5\n",
      "Current number 4 Previous Number 3 sum is 7\n",
      "Current number 5 Previous Number 4 sum is 9\n",
      "Current number 6 Previous Number 5 sum is 11\n",
      "Current number 7 Previous Number 6 sum is 13\n",
      "Current number 8 Previous Number 7 sum is 15\n",
      "Current number 9 Previous Number 8 sum is 17\n"
     ]
    }
   ],
   "source": [
    "previous_num = 0\n",
    "\n",
    "for i in range(10):\n",
    "    sm = previous_num + i\n",
    "    print(f'Current number {i} Previous Number {previous_num} sum is {sm}')\n",
    "    previous_num = i"
   ]
  },
  {
   "cell_type": "code",
   "execution_count": 14,
   "id": "23693403",
   "metadata": {},
   "outputs": [],
   "source": [
    "#3.Write a function to print characters from a string that are present at an even index number\n",
    "def even_values_string(str):\n",
    "    result =\" \"\n",
    "    for i in range (len(str)):\n",
    "        if i % 2 ==0:\n",
    "            result = result + str[i]\n",
    "            return result\n",
    "        str = raw_input(\"Enter str\")\n",
    "        print(even_values_string(str))"
   ]
  },
  {
   "cell_type": "code",
   "execution_count": 15,
   "id": "03ee5a7d",
   "metadata": {},
   "outputs": [
    {
     "name": "stdout",
     "output_type": "stream",
     "text": [
      "Please type in word of choice: Helen\n",
      "H\n",
      "l\n",
      "n\n"
     ]
    }
   ],
   "source": [
    "def even_index(x):\n",
    "    for i in range(len(x)):\n",
    "     if i%2 ==0:\n",
    "            print(x[i])\n",
    "word= str(input('Please type in word of choice: '))\n",
    "even_index(word)"
   ]
  },
  {
   "cell_type": "code",
   "execution_count": 16,
   "id": "f260a736",
   "metadata": {},
   "outputs": [
    {
     "name": "stdout",
     "output_type": "stream",
     "text": [
      "please input your stringBimbo\n"
     ]
    },
    {
     "data": {
      "text/plain": [
       "'imbo'"
      ]
     },
     "execution_count": 16,
     "metadata": {},
     "output_type": "execute_result"
    }
   ],
   "source": [
    "#4.Write a function to remove first characters from a string\n",
    "def removal(s):\n",
    "    new_string = s[1:]\n",
    "    return new_string\n",
    "value= str(input(\"please input your string\"))\n",
    "removal(value)"
   ]
  },
  {
   "cell_type": "code",
   "execution_count": 17,
   "id": "a9610efe",
   "metadata": {},
   "outputs": [
    {
     "name": "stdout",
     "output_type": "stream",
     "text": [
      "The first and last number in this list are different\n"
     ]
    }
   ],
   "source": [
    "#5. Write a function to check if the first and last number of a list is the same\n",
    "def first_last(numbers):\n",
    "    if numbers[0]==numbers[-1]:\n",
    "        print(\"The first and last number in this list are the same\")\n",
    "    else:\n",
    "        print(\"The first and last number in this list are different\")\n",
    "numbers= [1,20,30,'obi']\n",
    "first_last (numbers)"
   ]
  },
  {
   "cell_type": "code",
   "execution_count": 18,
   "id": "6ea5c600",
   "metadata": {},
   "outputs": [
    {
     "name": "stdout",
     "output_type": "stream",
     "text": [
      "Please enter a number to print multiplication table: 3\n",
      "3 x 1 = 3\n",
      "3 x 2 = 6\n",
      "3 x 3 = 9\n",
      "3 x 4 = 12\n",
      "3 x 5 = 15\n",
      "3 x 6 = 18\n",
      "3 x 7 = 21\n",
      "3 x 8 = 24\n",
      "3 x 9 = 27\n",
      "3 x 10 = 30\n"
     ]
    }
   ],
   "source": [
    "#6. Write a function to print multiplication table from 1 to 10\n",
    "def times_table(num):\n",
    "    for i in range(1, 11):\n",
    "        print(num, 'x', i, '=', num*i)\n",
    "\n",
    "\n",
    "#input the number that the user want to print\n",
    "n= int(input('Please enter a number to print multiplication table: '))\n",
    "times_table(n)"
   ]
  },
  {
   "cell_type": "code",
   "execution_count": 21,
   "id": "cd80b3cb",
   "metadata": {},
   "outputs": [
    {
     "data": {
      "text/plain": [
       "[5, 3, 9, 10, 100]"
      ]
     },
     "execution_count": 21,
     "metadata": {},
     "output_type": "execute_result"
    }
   ],
   "source": [
    "#7. Write a function to create a new list such that the new list should contain odd numbers from the first list and even numbers from the second list.\n",
    "def create(list1, list2):\n",
    "    new_list = []\n",
    "    \n",
    "    for num in list1:\n",
    "        if num % 2 != 0:\n",
    "            new_list.append(num)\n",
    "    \n",
    "    for num in list2:\n",
    "        if num % 2 == 0:\n",
    "            new_list.append(num)\n",
    "    return new_list\n",
    "\n",
    "\n",
    "\n",
    "x= [4,5,3,8,9,4,6,8]\n",
    "y= [3,9,10,45,15,100]\n",
    "create(x,y)"
   ]
  },
  {
   "cell_type": "code",
   "execution_count": null,
   "id": "beb49fed",
   "metadata": {},
   "outputs": [],
   "source": []
  }
 ],
 "metadata": {
  "kernelspec": {
   "display_name": "Python 3 (ipykernel)",
   "language": "python",
   "name": "python3"
  },
  "language_info": {
   "codemirror_mode": {
    "name": "ipython",
    "version": 3
   },
   "file_extension": ".py",
   "mimetype": "text/x-python",
   "name": "python",
   "nbconvert_exporter": "python",
   "pygments_lexer": "ipython3",
   "version": "3.9.12"
  }
 },
 "nbformat": 4,
 "nbformat_minor": 5
}
