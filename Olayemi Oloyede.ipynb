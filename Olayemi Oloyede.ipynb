{
 "cells": [
  {
   "cell_type": "markdown",
   "metadata": {},
   "source": [
    "##### Question 1: Write a function to calculate the multiplication and sum of two numbers"
   ]
  },
  {
   "cell_type": "code",
   "execution_count": 1,
   "metadata": {},
   "outputs": [
    {
     "name": "stdout",
     "output_type": "stream",
     "text": [
      "9 multiplied by 6 is equal to 54\n",
      "Addition of 9 and 6 is equal to 15\n"
     ]
    }
   ],
   "source": [
    "# define the function\n",
    "def multiply_sum(a, b=6): \n",
    "    \"\"\"\n",
    "    Shows the result of two numbers multiplied and added together\n",
    "    \"\"\"\n",
    "    # multiply and sum the numbers and print\n",
    "    multiplication = a * b\n",
    "    sum = a + b\n",
    "    print(a, \"multiplied by\", b, \"is equal to\", multiplication)\n",
    "    print(\"Addition of\", a, \"and\", b, \"is equal to\", sum)\n",
    "\n",
    "\n",
    "# call function with argument\n",
    "multiply_sum(9)"
   ]
  },
  {
   "cell_type": "markdown",
   "metadata": {},
   "source": [
    "##### Question 2: Write a function to print the sum of the current number and the previous number"
   ]
  },
  {
   "cell_type": "code",
   "execution_count": 24,
   "metadata": {},
   "outputs": [
    {
     "name": "stdout",
     "output_type": "stream",
     "text": [
      "[1, 3, 6, 10, 15, 21, 28, 36, 45]\n"
     ]
    }
   ],
   "source": [
    "# define the function\n",
    "def pre_cur(num):\n",
    "    \"\"\"\n",
    "    adds the current number to the previous number\n",
    "    \"\"\"\n",
    "    # create an empty list and assign zero to sum\n",
    "    new = [] \n",
    "    sum = 0\n",
    "\n",
    "    # add each element in the list to sum and append to the empty list\n",
    "    for ele in num:\n",
    "        sum += ele\n",
    "        new.append(sum)\n",
    "    print(new)\n",
    "\n",
    "# define the driver list and call the function\n",
    "num_lst = [1, 2, 3, 4, 5, 6, 7, 8, 9]\n",
    "pre_cur(num_lst)"
   ]
  },
  {
   "cell_type": "markdown",
   "metadata": {},
   "source": [
    "##### Question 3: Write a function to print characters from a string that are present at an even index number"
   ]
  },
  {
   "cell_type": "code",
   "execution_count": 25,
   "metadata": {},
   "outputs": [
    {
     "name": "stdout",
     "output_type": "stream",
     "text": [
      "The character a is at index number 2\n",
      "The character b is at index number 4\n",
      "The character l is at index number 6\n",
      "The character b is at index number 8\n",
      "The character l is at index number 10\n",
      "The character   is at index number 12\n",
      "The character o is at index number 14\n",
      "The character o is at index number 16\n",
      "The character i is at index number 18\n",
      "The character w is at index number 20\n"
     ]
    }
   ],
   "source": [
    "# define the function\n",
    "def even_string(obj):\n",
    "    \"\"\"\n",
    "    print character positioned at even index number in a string\n",
    "    \"\"\"\n",
    "    for i in range(1, len(obj)):\n",
    "        if i % 2 == 0:\n",
    "            print(\"The character\", obj[i], \"is at index number\", i)\n",
    "\n",
    "# call the function\n",
    "even_string(\"Shambalabala Rokotiewa\")"
   ]
  },
  {
   "cell_type": "markdown",
   "metadata": {},
   "source": [
    "##### Question 4: Write a function to remove first characters from a string"
   ]
  },
  {
   "cell_type": "code",
   "execution_count": 27,
   "metadata": {},
   "outputs": [
    {
     "name": "stdout",
     "output_type": "stream",
     "text": [
      "hout\n"
     ]
    }
   ],
   "source": [
    "# define the function\n",
    "def removed(obj):\n",
    "    \"\"\"\n",
    "    removes first character from a string\n",
    "    \"\"\"\n",
    "\n",
    "    # use strip function to remove desired leading or trailing character\n",
    "    new = obj.strip(obj[0])\n",
    "    print(new)\n",
    "\n",
    "# call the function\n",
    "removed(\"shout\")"
   ]
  },
  {
   "cell_type": "markdown",
   "metadata": {},
   "source": [
    "##### Question 5: Write a function to check if the first and last number of a list is the same"
   ]
  },
  {
   "cell_type": "code",
   "execution_count": 30,
   "metadata": {},
   "outputs": [
    {
     "name": "stdout",
     "output_type": "stream",
     "text": [
      "The first and last numbers of this string are the same and \n",
      "They are 23 and 23\n"
     ]
    }
   ],
   "source": [
    "# define the function\n",
    "def same_no(*num):\n",
    "    \"\"\"\n",
    "    Checks if the first and last number of a string are the same\n",
    "    \"\"\"\n",
    "    \n",
    "    # compare the first and last numbers of the string\n",
    "    if num[0] == num[-1]:\n",
    "        print(\"The first and last numbers of this string are the same and \\nThey are\", num[0], \"and\", num[-1])\n",
    "    else:\n",
    "        print(\"The first and last numbers of this string are not the same and \\nThey are\", num[0], \"and\", num[-1])\n",
    "\n",
    "\n",
    "# call the function\n",
    "same_no(23, 24, 54, 53, 32, 23)"
   ]
  },
  {
   "cell_type": "markdown",
   "metadata": {},
   "source": [
    "##### Question 6: Write a function to print the multiplication table from 1 to 10"
   ]
  },
  {
   "cell_type": "code",
   "execution_count": 40,
   "metadata": {},
   "outputs": [
    {
     "name": "stdout",
     "output_type": "stream",
     "text": [
      "The multiplication table of number 5 is:\n",
      "5 x 1 = 5\n",
      "5 x 2 = 10\n",
      "5 x 3 = 15\n",
      "5 x 4 = 20\n",
      "5 x 5 = 25\n",
      "5 x 6 = 30\n",
      "5 x 7 = 35\n",
      "5 x 8 = 40\n",
      "5 x 9 = 45\n",
      "5 x 10 = 50\n"
     ]
    }
   ],
   "source": [
    "# define a function that takes an argument\n",
    "def multiply_table(num):\n",
    "    \"\"\"\n",
    "    returns multiplication table of any number from 1 to 10\n",
    "    \"\"\"\n",
    "    print(\"The multiplication table of number\", num, \"is:\",)\n",
    "\n",
    "    # create loop that multiplies number by each number in the given range\n",
    "    for i in range(1, 11):\n",
    "        multiple = num * i\n",
    "        print(num, \"x\", i, \"=\", multiple)\n",
    "\n",
    "# create variable that receives input from user and uses it as an argument when calling the function\n",
    "number = int(input(\"Enter a number for which you'd like to see the multiplication table\"))\n",
    "multiply_table(number)"
   ]
  },
  {
   "cell_type": "markdown",
   "metadata": {},
   "source": [
    "##### Question 7: Given a two list of numbers, write a function to create a new list such that the new list should contain odd numbers from the first list and even numbers from the second list"
   ]
  },
  {
   "cell_type": "code",
   "execution_count": 38,
   "metadata": {},
   "outputs": [
    {
     "name": "stdout",
     "output_type": "stream",
     "text": [
      "The odd numbers in the first list are [23, 5, 23, 1]\n",
      "[23, 5, 23, 1, 22, 10, 14, 4, 6, 44, 18]\n"
     ]
    }
   ],
   "source": [
    "# define the parameter that takes two lists as parameters\n",
    "def two_lst(num1, num2):\n",
    "    \"\"\"\n",
    "    creates a new list containing odd number from the first list and even numbers\n",
    "    from the second list\"\"\"\n",
    "\n",
    "    # create an empty list\n",
    "    new_lst = []\n",
    "\n",
    "    # append odd numbers from first list to the empty list\n",
    "    for num in num1:\n",
    "        if num % 2 == 1:\n",
    "            new_lst.append(num)\n",
    "    print(\"The odd numbers in the first list are\", new_lst)\n",
    "    \n",
    "    # append even numbers from second list to the empty list\n",
    "    for num in num2:\n",
    "        if num % 2 == 0:\n",
    "            new_lst.append(num)\n",
    "    \n",
    "    # print the new list\n",
    "    print(new_lst)\n",
    "\n",
    "# define the driver lists and call the function\n",
    "number1 = [23, 2, 5, 6, 4, 23, 22, 1, 8]\n",
    "number2 = [22, 10, 11, 14, 1, 4, 6, 44, 18]\n",
    "\n",
    "two_lst(number1, number2)"
   ]
  }
 ],
 "metadata": {
  "kernelspec": {
   "display_name": "Python 3.10.0 64-bit",
   "language": "python",
   "name": "python3"
  },
  "language_info": {
   "codemirror_mode": {
    "name": "ipython",
    "version": 3
   },
   "file_extension": ".py",
   "mimetype": "text/x-python",
   "name": "python",
   "nbconvert_exporter": "python",
   "pygments_lexer": "ipython3",
   "version": "3.10.0"
  },
  "orig_nbformat": 4,
  "vscode": {
   "interpreter": {
    "hash": "72a83d04c20f409be1f488a663638cb27b0b56e95f53a045b7ad8e835d33d064"
   }
  }
 },
 "nbformat": 4,
 "nbformat_minor": 2
}
