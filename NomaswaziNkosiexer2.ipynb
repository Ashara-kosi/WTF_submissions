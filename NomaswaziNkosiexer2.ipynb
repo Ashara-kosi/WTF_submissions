{
  "nbformat": 4,
  "nbformat_minor": 0,
  "metadata": {
    "colab": {
      "provenance": [],
      "collapsed_sections": []
    },
    "kernelspec": {
      "name": "python3",
      "display_name": "Python 3"
    },
    "language_info": {
      "name": "python"
    }
  },
  "cells": [
    {
      "cell_type": "code",
      "execution_count": null,
      "metadata": {
        "id": "OqBSOgXnZmsS"
      },
      "outputs": [],
      "source": [
        "#1. write a function Write a function called showNumbers that takes a parameter called limit.It should print all the numbers btwn  and the limit with a label to identify the even an dodd numbers.\n",
        "\n",
        "def ShowNumbers(limit): #f(limit)\n",
        "  for i in range(0,limit+1):\n",
        "      if i%2==0:\n",
        "         print(\"Even\")\n",
        "      else:\n",
        "         print(\"Odd\")\n",
        "\n",
        "ShowNumbers(5) # calling function"
      ]
    },
    {
      "cell_type": "code",
      "source": [
        "#2.Write a function that returns the sum of multiples of 3 and 5 between 0 and limit (parameter)\n",
        "def sum_of_multiples(limit):\n",
        "    sum=[]\n",
        "    for number in range(1, limit):\n",
        "        if number%3 == 0:\n",
        "            sum.append(number)\n",
        "        if number%5 == 0:\n",
        "            sum.append(number)\n",
        "        print(sum)\n",
        "\n",
        "\n",
        "\n",
        "sum_of_multiples(int(input(\"enter the limit:  \")))"
      ],
      "metadata": {
        "colab": {
          "base_uri": "https://localhost:8080/"
        },
        "id": "RhRLSZSWoilo",
        "outputId": "026bc240-576b-49f6-c6d7-9aae4912943f"
      },
      "execution_count": null,
      "outputs": [
        {
          "output_type": "stream",
          "name": "stdout",
          "text": [
            "enter the limit:  10\n",
            "[]\n",
            "[]\n",
            "[3]\n",
            "[3]\n",
            "[3, 5]\n",
            "[3, 5, 6]\n",
            "[3, 5, 6]\n",
            "[3, 5, 6]\n",
            "[3, 5, 6, 9]\n"
          ]
        }
      ]
    },
    {
      "cell_type": "code",
      "source": [
        "#3.Write a function called show_stars(rows). If rows is 5, it should print the following\n",
        "rows = 5\n",
        "for i in range(0, rows):\n",
        "    # nested loop for each column\n",
        "    for j in range(0, i + 1):\n",
        "        # print star\n",
        "        print(\"*\", end=' ')\n",
        "    # new line after each row\n",
        "    print(\"\\r\")\n"
      ],
      "metadata": {
        "colab": {
          "base_uri": "https://localhost:8080/"
        },
        "id": "A8btxD8Yq2qs",
        "outputId": "7a3f5c0b-e9c3-448a-d240-db020acdc311"
      },
      "execution_count": null,
      "outputs": [
        {
          "output_type": "stream",
          "name": "stdout",
          "text": [
            "* \r\n",
            "* * \r\n",
            "* * * \r\n",
            "* * * * \r\n",
            "* * * * * \r\n"
          ]
        }
      ]
    },
    {
      "cell_type": "code",
      "source": [
        "#4.\n",
        "number 4\n",
        "def primenum(primes):\n",
        "  n=int(input(\"Enter the number till you want to check: \"))\n",
        "primes = []\n",
        "  for i in range (2, n+1):\n",
        "  for j in range(2, i):\n",
        "   if i%j == 0:\n",
        "     break\n",
        "   else:\n",
        "primes.append(i)\n",
        "print(primes)\n"
      ],
      "metadata": {
        "id": "_82qxTkytCNY"
      },
      "execution_count": null,
      "outputs": []
    },
    {
      "cell_type": "code",
      "source": [
        "#5. \n",
        "def removeDuplicates(l):return list(set(l))\n",
        "\n",
        "mylist = [1, 2, 3, 4, 2, 3, 4, 2, 3, 4]\n",
        "\n",
        "newList = removeDuplicates(mylist)\n",
        "\n",
        "print(newList)\n",
        "\n"
      ],
      "metadata": {
        "colab": {
          "base_uri": "https://localhost:8080/"
        },
        "id": "P2acFWhbD2lY",
        "outputId": "b6206bc1-d64a-479e-9beb-4dd46bf8cfab"
      },
      "execution_count": 23,
      "outputs": [
        {
          "output_type": "stream",
          "name": "stdout",
          "text": [
            "[1, 2, 3, 4]\n"
          ]
        }
      ]
    },
    {
      "cell_type": "code",
      "source": [
        "#6.\n"
      ],
      "metadata": {
        "id": "Spo1d1OMD5pA"
      },
      "execution_count": null,
      "outputs": []
    },
    {
      "cell_type": "code",
      "source": [
        "#7.\n",
        "def fibonacci():\n",
        "    num = int(input(\"Please enter how many numbers would you like in your Fibonacci sequence: \"))\n",
        "    i = 1\n",
        "    if num == 0:\n",
        "        fib = []\n",
        "    elif num == 1:\n",
        "        fib = [1]\n",
        "    elif num == 2:\n",
        "        fib = [1,1]\n",
        "    elif num > 2:\n",
        "        fib = [1,1]\n",
        "        while i < (num - 1):\n",
        "            fib.append(fib[i] + fib[i-1])\n",
        "            i += 1\n",
        "    return fib\n",
        "print (fibonacci())\n",
        "input()\n"
      ],
      "metadata": {
        "colab": {
          "base_uri": "https://localhost:8080/"
        },
        "id": "MjthCcodEngI",
        "outputId": "f7ac204b-5ea8-46f8-902b-56e4061a9373"
      },
      "execution_count": null,
      "outputs": [
        {
          "output_type": "stream",
          "name": "stdout",
          "text": [
            "Please enter how many numbers would you like in your Fibonacci sequence: 8\n",
            "[1, 1, 2, 3, 5, 8, 13, 21]\n"
          ]
        }
      ]
    },
    {
      "cell_type": "code",
      "source": [
        "#8. \n",
        "def ispalindrome():\n",
        "    user = input('Enter a word: ')\n",
        "    left = 0\n",
        "    right = len(user) -1\n",
        "    while right_pos >= left_pos:\n",
        "        if not user[left] == user[right]:\n",
        "            return False\n",
        "        left += 1\n",
        "        right -= 1\n",
        "    return True\n",
        "ispalindrome()\n"
      ],
      "metadata": {
        "id": "tB9gQ0jGE2VL"
      },
      "execution_count": null,
      "outputs": []
    },
    {
      "cell_type": "code",
      "source": [
        "#9.Write a function that takes an ordered list of numbers \n",
        "\n",
        "def order(lists): newlist = []\n",
        "  for b in lists:\n",
        "    if b not in newlist:\n",
        "      newlist.append(b)\n",
        "      newlist.sort()\n",
        "  print(newlist)\n",
        "lists = [100, 50, 65, 82, 23]\n",
        "order(lists)"
      ],
      "metadata": {
        "id": "6PWZCwMhE9Tt"
      },
      "execution_count": null,
      "outputs": []
    },
    {
      "cell_type": "code",
      "source": [
        "#10.\n"
      ],
      "metadata": {
        "id": "Jr3eMmIxE_LR"
      },
      "execution_count": null,
      "outputs": []
    }
  ]
}