{
 "cells": [
  {
   "cell_type": "markdown",
   "id": "d255e15c",
   "metadata": {},
   "source": [
    "#### 1.Write a function called showNumbers that takes a parameter called limit. It should printall the numbers between 0 and limit with a label to identify the even and odd numbers.For example, if the limit is 3, it should print:0 EVEN 1 ODD 2 EVEN 3 ODD"
   ]
  },
  {
   "cell_type": "code",
   "execution_count": 1,
   "id": "4426e1b3",
   "metadata": {},
   "outputs": [
    {
     "name": "stdout",
     "output_type": "stream",
     "text": [
      "0 Even\n",
      "1 Odd\n",
      "2 Even\n",
      "3 Odd\n",
      "4 Even\n",
      "5 Odd\n",
      "6 Even\n",
      "7 Odd\n",
      "8 Even\n",
      "9 Odd\n",
      "10 Even\n"
     ]
    }
   ],
   "source": [
    "def showNumbers(limit):\n",
    "    for a in range(0,limit+1):\n",
    "        if a % 2 ==0:\n",
    "            print (a,'Even')\n",
    "        else:\n",
    "            print (a,'Odd')\n",
    "showNumbers(10)"
   ]
  },
  {
   "cell_type": "markdown",
   "id": "c5afb5af",
   "metadata": {},
   "source": [
    " #### 2.Write a function that returns the sum of multiples of 3 and 5 between 0and limit (parameter). For example, if limit is 20, it should return the sum of 3, 5, 6, 9, 10,12, 15, 18, 20."
   ]
  },
  {
   "cell_type": "code",
   "execution_count": 2,
   "id": "9ec18255",
   "metadata": {},
   "outputs": [
    {
     "name": "stdout",
     "output_type": "stream",
     "text": [
      "multiples of 3 - [0, 3, 6, 9, 12, 15, 18]\n",
      "multiples of 5 - [0, 5, 10, 15, 20]\n"
     ]
    },
    {
     "data": {
      "text/plain": [
       "113"
      ]
     },
     "execution_count": 2,
     "metadata": {},
     "output_type": "execute_result"
    }
   ],
   "source": [
    "def sum_mult(limit):\n",
    "    mult_3 =[]\n",
    "    mult_5 =[]\n",
    "    for x in range(0,limit+1):\n",
    "        if x % 3 == 0:\n",
    "            mult_3.append(x)\n",
    "    print ('multiples of 3 -',mult_3)\n",
    "    for y in range(0,limit+1):\n",
    "        if y % 5 == 0:\n",
    "            mult_5.append(y)  \n",
    "    print ('multiples of 5 -',mult_5)\n",
    "    n_list = mult_3 + mult_5\n",
    "    return sum(n_list)\n",
    "sum_mult(20)      "
   ]
  },
  {
   "cell_type": "markdown",
   "id": "fffedd12",
   "metadata": {},
   "source": [
    "#### 3.Write a function called show_stars(rows). If rows is 5, it should print the following:***************"
   ]
  },
  {
   "cell_type": "code",
   "execution_count": 3,
   "id": "eec8f293",
   "metadata": {},
   "outputs": [
    {
     "name": "stdout",
     "output_type": "stream",
     "text": [
      "***************\n"
     ]
    }
   ],
   "source": [
    "def show_stars(rows):\n",
    "        print ('*' * rows*3)\n",
    "show_stars(5)"
   ]
  },
  {
   "cell_type": "markdown",
   "id": "8c35d988",
   "metadata": {},
   "source": [
    "#### 4.Write a function that prints all the prime numbers between 0 and limit where limit is aparameter."
   ]
  },
  {
   "cell_type": "code",
   "execution_count": 4,
   "id": "720c0e2c",
   "metadata": {},
   "outputs": [
    {
     "name": "stdout",
     "output_type": "stream",
     "text": [
      "[1, 3, 5, 7, 9, 11, 13, 15, 17, 19, 21, 23, 25, 27, 29, 31, 33, 35, 37, 39, 41, 43, 45]\n"
     ]
    }
   ],
   "source": [
    "def prime(limit):\n",
    "    number =[]\n",
    "    for i in range(0,limit+1):\n",
    "        if i % 2 == 1:\n",
    "            number.append(i)\n",
    "    print (number)\n",
    "prime(45)\n",
    "            "
   ]
  },
  {
   "cell_type": "markdown",
   "id": "05c3254d",
   "metadata": {},
   "source": [
    "#### 5.Write a program (function!) that takes a list and returns a new list that contains all theelements of the first list minus all the duplicates."
   ]
  },
  {
   "cell_type": "code",
   "execution_count": 5,
   "id": "06406c40",
   "metadata": {},
   "outputs": [
    {
     "name": "stdout",
     "output_type": "stream",
     "text": [
      "[0, 2, 3, 4, 6, 7, 9]\n"
     ]
    }
   ],
   "source": [
    "def function(lists):\n",
    "    lists = set(lists)\n",
    "    new_list = list(lists)\n",
    "    print (new_list)\n",
    "function([3,6,7,4,9,4,2,4,9,0])"
   ]
  },
  {
   "cell_type": "markdown",
   "id": "2ff16d1b",
   "metadata": {},
   "source": [
    "#### 6.Write a function to ask the user for a number and determine whether the number isprime or not. "
   ]
  },
  {
   "cell_type": "code",
   "execution_count": 6,
   "id": "94e2d800",
   "metadata": {},
   "outputs": [
    {
     "name": "stdout",
     "output_type": "stream",
     "text": [
      "Please enter num- 67\n",
      "67 is a prime number\n"
     ]
    }
   ],
   "source": [
    "enter_no= int(input(\"Please enter num- \"))\n",
    "def prime_no(enter_no):\n",
    "    \n",
    "    if enter_no % 2 == 1:\n",
    "        print (enter_no,'is a prime number')\n",
    "    else:\n",
    "        print (enter_no,'is not a prime number') \n",
    "prime_no(enter_no)"
   ]
  },
  {
   "cell_type": "markdown",
   "id": "774c51ec",
   "metadata": {},
   "source": [
    "7.Write a program that asks the user how many Fibonnaci numbers to generate and then generates them."
   ]
  },
  {
   "cell_type": "code",
   "execution_count": 7,
   "id": "ca19f140",
   "metadata": {},
   "outputs": [
    {
     "name": "stdout",
     "output_type": "stream",
     "text": [
      "Please enter how many numbers would you like in your Fibonacci sequence: 9\n",
      "[1, 1, 2, 3, 5, 8, 13, 21, 34]\n"
     ]
    }
   ],
   "source": [
    "def fibonacci_num():\n",
    "    number = int(input(\"Please enter how many numbers would you like in your Fibonacci sequence: \"))\n",
    "    a = 1\n",
    "    if number == 0:\n",
    "        fibo = [0]\n",
    "    elif number == 1:\n",
    "        fibo = [1]\n",
    "    elif number == 2:\n",
    "        fibo = [1,1]\n",
    "    elif number > 2:\n",
    "        fibo = [1,1]\n",
    "        while a < (number - 1):\n",
    "            fibo.append(fibo[a] + fibo[a-1])\n",
    "            a += 1\n",
    "    return fibo\n",
    "print (fibonacci_num())"
   ]
  },
  {
   "cell_type": "markdown",
   "id": "1e70d47f",
   "metadata": {},
   "source": [
    "8.Write a function that ask the user for a string and print out whether this string is apalindrome or not."
   ]
  },
  {
   "cell_type": "code",
   "execution_count": 8,
   "id": "7335d4fd",
   "metadata": {},
   "outputs": [
    {
     "name": "stdout",
     "output_type": "stream",
     "text": [
      "Please enter any string- reviver\n",
      "reviver is a palindrome\n"
     ]
    }
   ],
   "source": [
    "def palindrome(string):\n",
    "    strg= input(\"Please enter any string- \")\n",
    "    if strg  == strg[::-1]:\n",
    "        print(strg, 'is a palindrome') \n",
    "    else:\n",
    "        print(strg, 'is not a palindrome')\n",
    "palindrome('strg')"
   ]
  },
  {
   "cell_type": "markdown",
   "id": "83026723",
   "metadata": {},
   "source": [
    " 9.Write a function that takes an ordered list of numbers (a list where the elements are inorder from smallest to largest) and another number. "
   ]
  },
  {
   "cell_type": "code",
   "execution_count": 9,
   "id": "21307201",
   "metadata": {},
   "outputs": [
    {
     "name": "stdout",
     "output_type": "stream",
     "text": [
      "[8, 24, 4, 5]\n"
     ]
    }
   ],
   "source": [
    "set_a = {}\n",
    "set_b= {}\n",
    "def function(set_a,set_b):\n",
    "    combined_list = list(set_a | set_b)\n",
    "    print (combined_list)\n",
    "function({5,8,24},{4})\n"
   ]
  },
  {
   "cell_type": "markdown",
   "id": "80ad4962",
   "metadata": {},
   "source": [
    "10.Create a program that asks the user to enter their name and their age. Print out amessage addressed to them that tells them the year that they will turn 100 years old."
   ]
  },
  {
   "cell_type": "code",
   "execution_count": 14,
   "id": "efc7777e",
   "metadata": {},
   "outputs": [
    {
     "name": "stdout",
     "output_type": "stream",
     "text": [
      "your name fred\n",
      "your age 43\n",
      "Hello fred You will be 100 years old in 2079\n"
     ]
    }
   ],
   "source": [
    "user_name = input(\"your name \")\n",
    "user_age = int(input(\"your age \"))\n",
    "user_year = (2022 - user_age) + 100     \n",
    "print ('Hello',user_name, 'You will be 100 years old in', str(int(user_year)))\n"
   ]
  },
  {
   "cell_type": "code",
   "execution_count": null,
   "id": "f8ed1e74",
   "metadata": {},
   "outputs": [],
   "source": []
  }
 ],
 "metadata": {
  "kernelspec": {
   "display_name": "Python 3 (ipykernel)",
   "language": "python",
   "name": "python3"
  },
  "language_info": {
   "codemirror_mode": {
    "name": "ipython",
    "version": 3
   },
   "file_extension": ".py",
   "mimetype": "text/x-python",
   "name": "python",
   "nbconvert_exporter": "python",
   "pygments_lexer": "ipython3",
   "version": "3.8.8"
  }
 },
 "nbformat": 4,
 "nbformat_minor": 5
}
