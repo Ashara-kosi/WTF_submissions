{
 "cells": [
  {
   "cell_type": "code",
   "execution_count": 2,
   "id": "1836264c",
   "metadata": {},
   "outputs": [
    {
     "name": "stdout",
     "output_type": "stream",
     "text": [
      "0 EVEN\n",
      "1 ODD\n",
      "2 EVEN\n",
      "3 ODD\n",
      "4 EVEN\n",
      "5 ODD\n"
     ]
    }
   ],
   "source": [
    "#Write a function called showNumbers that takes a parameter called limit. It should print all the numbers between 0 and limit with a label to identify the even and odd numbers.For example, if the limit is 3, it should print:0 EVEN 1 ODD 2 EVEN 3 ODD\n",
    "def shownumbers(limit):\n",
    "    for i in range(0,limit+1):\n",
    "        if  not i%2:\n",
    "            print(i, \"EVEN\")\n",
    "        else:\n",
    "                print(i, \"ODD\") \n",
    "                end=' '\n",
    "shownumbers(5)"
   ]
  },
  {
   "cell_type": "code",
   "execution_count": 8,
   "id": "ecd12b5a",
   "metadata": {},
   "outputs": [
    {
     "name": "stdout",
     "output_type": "stream",
     "text": [
      "23\n"
     ]
    }
   ],
   "source": [
    "#Write a function that returns the sum of multiples of 3 and 5 between 0 and limit (parameter). For example, if limit is 20, it should return the sum of 3, 5, 6, 9, 10,12, 15, 18, 20.\n",
    "def sum1(n):\n",
    "\n",
    "  n = 0\n",
    "\n",
    "  for i in range(1,10):\n",
    "\n",
    "     if not i % 5 or not i % 3:\n",
    "\n",
    "         n = n + i\n",
    "\n",
    "  print(n)\n",
    "\n",
    "  \n",
    "sum1(n)"
   ]
  },
  {
   "cell_type": "code",
   "execution_count": 10,
   "id": "9afc22a9",
   "metadata": {},
   "outputs": [
    {
     "name": "stdout",
     "output_type": "stream",
     "text": [
      "Enter the number of rows: 5\n",
      "*\n",
      "**\n",
      "***\n",
      "****\n",
      "*****\n"
     ]
    }
   ],
   "source": [
    "#Write a function called show_stars(rows). If rows is 5, it should print the following:***\n",
    "def print_stars(count):\n",
    "    for i in range(1, count+1):\n",
    "        print('*' * i)\n",
    "\n",
    "n=int(input(\"Enter the number of rows: \"))\n",
    "print_stars(n)\n"
   ]
  },
  {
   "cell_type": "code",
   "execution_count": 11,
   "id": "e2230e52",
   "metadata": {},
   "outputs": [
    {
     "name": "stdout",
     "output_type": "stream",
     "text": [
      "Please input a number: 15\n",
      "2  is a prime number\n",
      "3  is a prime number\n",
      "5  is a prime number\n",
      "7  is a prime number\n",
      "11  is a prime number\n",
      "13  is a prime number\n"
     ]
    }
   ],
   "source": [
    "#Write a function that prints all the prime numbers between 0 and limit where limit is a parameter.\n",
    "def prime_number (limit):\n",
    "    for number in range(0, limit+1):\n",
    "        if number > 1:\n",
    "            for i in range(2, number):\n",
    "                if number % i ==0:\n",
    "                    break\n",
    "            else:\n",
    "                print (number, ' is a prime number')\n",
    "\n",
    "\n",
    "\n",
    "limit= int(input('Please input a number: '))\n",
    "prime_number(limit)"
   ]
  },
  {
   "cell_type": "code",
   "execution_count": 13,
   "id": "41f95dc2",
   "metadata": {},
   "outputs": [
    {
     "data": {
      "text/plain": [
       "{2, 3, 4, 5, 7}"
      ]
     },
     "execution_count": 13,
     "metadata": {},
     "output_type": "execute_result"
    }
   ],
   "source": [
    "#Write a program (function!) that takes a list and returns a new list that contains all the elements of the first list minus all the duplicates.\n",
    "def unique_list(list):\n",
    "    new_list= []\n",
    "    for items in list:\n",
    "        if items not in new_list:\n",
    "            new_list.append(items)\n",
    "    return set(new_list)\n",
    "unique_list([2,3,4,5,2,3,4,5,7])"
   ]
  },
  {
   "cell_type": "code",
   "execution_count": 16,
   "id": "dbeb879e",
   "metadata": {},
   "outputs": [
    {
     "name": "stdout",
     "output_type": "stream",
     "text": [
      "Please input number1234\n",
      "1234  is not a prime number\n"
     ]
    }
   ],
   "source": [
    "#Write a function to ask the user for a number and determine whether the number is prime or not.\n",
    "def prime(n):\n",
    "    if n > 1:\n",
    "        for i in range(2, n):\n",
    "            if (n%i) == 0:\n",
    "                print(n, ' is not a prime number')\n",
    "                break\n",
    "            else:\n",
    "                print(n, 'is a prime number' )\n",
    "\n",
    "n= int(input('Please input number'))\n",
    "prime(n)"
   ]
  },
  {
   "cell_type": "code",
   "execution_count": 18,
   "id": "e2817969",
   "metadata": {},
   "outputs": [
    {
     "name": "stdout",
     "output_type": "stream",
     "text": [
      "How many Fibonacci numbers should I generate 12\n",
      "The first 12 Fibonacci numbers are: [1, 1, 2, 3, 5, 8, 13, 21, 34, 55, 89, 144]\n"
     ]
    }
   ],
   "source": [
    "#Write a program that asks the user how many Fibonnaci numbers to generate and then generates them.\n",
    "def fib(a,b):\n",
    "    return a + b\n",
    "number = int(input('How many Fibonacci numbers should I generate '))\n",
    "\n",
    "fibonacci_list =[]\n",
    "for n in range(number):\n",
    "    if n in [0,1]:\n",
    "        fibonacci_list += [1]\n",
    "    else:\n",
    "        fibonacci_list += [fib(fibonacci_list[n-2], fibonacci_list[n-1])]\n",
    "print('The first', number, 'Fibonacci numbers are:', fibonacci_list)\n"
   ]
  },
  {
   "cell_type": "code",
   "execution_count": 20,
   "id": "935b2a20",
   "metadata": {},
   "outputs": [
    {
     "name": "stdout",
     "output_type": "stream",
     "text": [
      "please input your stringAward\n",
      "Award  is not a palindrome\n"
     ]
    }
   ],
   "source": [
    "#Write a function that ask the user for a string and print out whether this string is a palindrome or not.\n",
    "def pal(x):\n",
    "    if x[::1] == x[::-1]:\n",
    "        print(x, ' is a palindrome')\n",
    "    else:\n",
    "        print(x, ' is not a palindrome')\n",
    "        \n",
    "string= str(input('please input your string'))\n",
    "pal(string)"
   ]
  },
  {
   "cell_type": "code",
   "execution_count": 27,
   "id": "b49de51f",
   "metadata": {},
   "outputs": [
    {
     "name": "stdout",
     "output_type": "stream",
     "text": [
      "It is not in mylist\n",
      "None\n"
     ]
    }
   ],
   "source": [
    "#Write a function that takes an ordered list of numbers (a list where the elements are in order from smallest to largest) and another number.\n",
    "\n",
    "def ordered (x):\n",
    "    mylist = [2,4,6,8]\n",
    "    if x in mylist:\n",
    "        print(\"It is in mylist\")\n",
    "    else:\n",
    "        print(\"It is not in mylist\")\n",
    "print(ordered(10))"
   ]
  },
  {
   "cell_type": "code",
   "execution_count": 32,
   "id": "970eb4fd",
   "metadata": {},
   "outputs": [
    {
     "name": "stdout",
     "output_type": "stream",
     "text": [
      "2022-09-29 07:35:03.442431\n"
     ]
    }
   ],
   "source": [
    "#Create a program that asks the user to enter their name and their age. Print out a message addressed to them that tells them the year that they will turn 100 years old\n",
    "import datetime\n",
    "\n",
    "x = datetime.datetime.now()\n",
    "\n",
    "print(x)"
   ]
  },
  {
   "cell_type": "code",
   "execution_count": 35,
   "id": "e565a6af",
   "metadata": {},
   "outputs": [
    {
     "name": "stdout",
     "output_type": "stream",
     "text": [
      "Enter your name: Deborah\n",
      "Enter your age: 29\n",
      "Deborah will turn 100 in 2093\n"
     ]
    }
   ],
   "source": [
    "Name = input(\"Enter your name: \")\n",
    "Age = int(input(\"Enter your age: \"))\n",
    "x = 2022\n",
    "\n",
    "print(Name+\" will turn 100 in \" +str(x - Age + 100))"
   ]
  },
  {
   "cell_type": "code",
   "execution_count": null,
   "id": "b6956f16",
   "metadata": {},
   "outputs": [],
   "source": []
  }
 ],
 "metadata": {
  "kernelspec": {
   "display_name": "Python 3 (ipykernel)",
   "language": "python",
   "name": "python3"
  },
  "language_info": {
   "codemirror_mode": {
    "name": "ipython",
    "version": 3
   },
   "file_extension": ".py",
   "mimetype": "text/x-python",
   "name": "python",
   "nbconvert_exporter": "python",
   "pygments_lexer": "ipython3",
   "version": "3.9.7"
  }
 },
 "nbformat": 4,
 "nbformat_minor": 5
}
