{
 "cells": [
  {
   "cell_type": "code",
   "execution_count": 1,
   "id": "a6c7256b",
   "metadata": {},
   "outputs": [],
   "source": [
    "#1.write a function called showNumbers that takes a parameter called limit.\n",
    "#it should print all the numbers between 0 and limit with a label to identify\n",
    "#the even and odd numbers. for example, if the limit is 3, it should print:\n",
    "#0EVEN 1 ODD 2 EVEN 3 ODD\n",
    "\n",
    "def showNumbers(limit):\n",
    "    for x in range (0,limit+1):\n",
    "        if x%2==0:\n",
    "            print ('EVEN')\n",
    "        else:\n",
    "            print ('ODD')\n"
   ]
  },
  {
   "cell_type": "code",
   "execution_count": 2,
   "id": "7e9306b9",
   "metadata": {},
   "outputs": [
    {
     "name": "stdout",
     "output_type": "stream",
     "text": [
      "EVEN\n",
      "ODD\n",
      "EVEN\n",
      "ODD\n",
      "EVEN\n",
      "ODD\n"
     ]
    }
   ],
   "source": [
    "showNumbers(5)"
   ]
  },
  {
   "cell_type": "code",
   "execution_count": 3,
   "id": "544f7696",
   "metadata": {},
   "outputs": [],
   "source": [
    "#2.write a function that returns the sum of multiples of 3 and 5 between 0 \n",
    "#and limit (parameter). for example, if limit is 20, it should returm the sum\n",
    "# of 3,5,6,9,10,12,15,18,20\n",
    "def mynumber(limit):\n",
    "   totalsummation = 0\n",
    "   for x in range(1,limit+1):\n",
    "        if (x%3 == 0 or x%5 == 0):\n",
    "            totalsummation = totalsummation+x\n",
    "            print (totalsummation)"
   ]
  },
  {
   "cell_type": "code",
   "execution_count": 4,
   "id": "c6e1548a",
   "metadata": {},
   "outputs": [
    {
     "name": "stdout",
     "output_type": "stream",
     "text": [
      "3\n",
      "8\n",
      "14\n",
      "23\n",
      "33\n",
      "45\n",
      "60\n",
      "78\n",
      "98\n"
     ]
    }
   ],
   "source": [
    "mynumber(20)"
   ]
  },
  {
   "cell_type": "code",
   "execution_count": 5,
   "id": "7518986c",
   "metadata": {},
   "outputs": [],
   "source": [
    "#3.write a function called show_stars(rows).if rows is 5, it should print the following\n",
    "def show_stars(rows):\n",
    "    for  a in range(0,rows):\n",
    "             print(\"*\"*a, end=\"\")\n",
    "             print()\n"
   ]
  },
  {
   "cell_type": "code",
   "execution_count": 6,
   "id": "a6985eb9",
   "metadata": {},
   "outputs": [
    {
     "name": "stdout",
     "output_type": "stream",
     "text": [
      "\n",
      "*\n",
      "**\n",
      "***\n",
      "****\n"
     ]
    }
   ],
   "source": [
    "show_stars(5)"
   ]
  },
  {
   "cell_type": "code",
   "execution_count": 7,
   "id": "8b4454d9",
   "metadata": {},
   "outputs": [],
   "source": [
    "##4write a function that print all the prime numbers between 0 and limit where limit\n",
    "# is a parameter\n",
    "#write a function that print all the prime numbers between 0 and limit where limit\n",
    "# is a parameter\n",
    "def prime_number(limit):\n",
    "    for a in range (2,limit):\n",
    "        for b in range(2,a):\n",
    "                if a%b==0:\n",
    "                        break\n",
    "                else:\n",
    "                   \n",
    "                    print (a)\n"
   ]
  },
  {
   "cell_type": "code",
   "execution_count": 8,
   "id": "3f606037",
   "metadata": {},
   "outputs": [
    {
     "name": "stdout",
     "output_type": "stream",
     "text": [
      "3\n",
      "5\n",
      "5\n",
      "5\n",
      "7\n",
      "7\n",
      "7\n",
      "7\n",
      "7\n",
      "9\n",
      "11\n",
      "11\n",
      "11\n",
      "11\n",
      "11\n",
      "11\n",
      "11\n",
      "11\n",
      "11\n",
      "13\n",
      "13\n",
      "13\n",
      "13\n",
      "13\n",
      "13\n",
      "13\n",
      "13\n",
      "13\n",
      "13\n",
      "13\n",
      "15\n",
      "17\n",
      "17\n",
      "17\n",
      "17\n",
      "17\n",
      "17\n",
      "17\n",
      "17\n",
      "17\n",
      "17\n",
      "17\n",
      "17\n",
      "17\n",
      "17\n",
      "17\n",
      "19\n",
      "19\n",
      "19\n",
      "19\n",
      "19\n",
      "19\n",
      "19\n",
      "19\n",
      "19\n",
      "19\n",
      "19\n",
      "19\n",
      "19\n",
      "19\n",
      "19\n",
      "19\n",
      "19\n"
     ]
    }
   ],
   "source": [
    "prime_number(20)"
   ]
  },
  {
   "cell_type": "code",
   "execution_count": 9,
   "id": "9dcfe323",
   "metadata": {},
   "outputs": [
    {
     "name": "stdout",
     "output_type": "stream",
     "text": [
      "{1, 2, 3, 4, 5, 7, 8, 9}\n"
     ]
    }
   ],
   "source": [
    "#5. write a program(function) that takes a list and returns a new list\n",
    "#that contains all the elements of the first minus all the duplicates\n",
    "#using set\n",
    "def remove(duplicate):\n",
    "    return (set(duplicate))  \n",
    "duplicate = [ 1,2,4,3,5,2,1,7,8,9]\n",
    "new_list =remove(duplicate)\n",
    "\n",
    "print(new_list)"
   ]
  },
  {
   "cell_type": "code",
   "execution_count": 10,
   "id": "c9b815bf",
   "metadata": {},
   "outputs": [
    {
     "data": {
      "text/plain": [
       "{1, 2, 3, 4, 5, 7, 8, 9}"
      ]
     },
     "execution_count": 10,
     "metadata": {},
     "output_type": "execute_result"
    }
   ],
   "source": [
    "remove(duplicate)"
   ]
  },
  {
   "cell_type": "code",
   "execution_count": 16,
   "id": "e7d37029",
   "metadata": {},
   "outputs": [
    {
     "name": "stdout",
     "output_type": "stream",
     "text": [
      "write a number40\n",
      "40  not a Prime \n"
     ]
    }
   ],
   "source": [
    "#6Write a function to ask the user for a number and determine whether the number is prime or not\n",
    "value = int(input(\"write a number\"))\n",
    "\n",
    "if value > 1:\n",
    "        for i in range(2,int(value**0.5)+1):\n",
    "            if (value % i == 0):\n",
    "                print(value, \" not a Prime \")\n",
    "            break\n",
    "        else:\n",
    "            print(value,\"  is a Prime\")\n",
    "#num less than 1 not prime\n",
    "    \n",
    "        "
   ]
  },
  {
   "cell_type": "code",
   "execution_count": 20,
   "id": "15ba715e",
   "metadata": {},
   "outputs": [
    {
     "name": "stdout",
     "output_type": "stream",
     "text": [
      "True\n",
      "False\n"
     ]
    }
   ],
   "source": [
    "#Write a function to ask the user for a number and determine whether the number is prime or not\n",
    "def prime(a):\n",
    "    for i in range(2,int(a/2)+1):\n",
    "        if a%i==0:\n",
    "               return  False\n",
    "        return True\n",
    "print(prime(7))\n",
    "print(prime(40))"
   ]
  },
  {
   "cell_type": "code",
   "execution_count": 21,
   "id": "d7a1e6cb",
   "metadata": {},
   "outputs": [
    {
     "data": {
      "text/plain": [
       "False"
      ]
     },
     "execution_count": 21,
     "metadata": {},
     "output_type": "execute_result"
    }
   ],
   "source": [
    "prime(50)"
   ]
  },
  {
   "cell_type": "code",
   "execution_count": 24,
   "id": "9619c313",
   "metadata": {},
   "outputs": [],
   "source": [
    "#7.Write a program that asks the user how many Fibonnaci numbers to generate and then generates them\n",
    "# fibonacci set of intergers that starts with zero followered by one then by another\n",
    "#a number added to previous number\n",
    "def fibonacci():\n",
    "    number =int(input(\"hello how many fibonnaci numbers do you want to generate in your sequence\"))\n",
    "    x=1\n",
    "    if number==0:\n",
    "        fib=[]\n",
    "    elif number==1:\n",
    "        fib=[1]\n",
    "    elif number==2:\n",
    "        fib = [1,1]\n",
    "    elif number> 2:\n",
    "        fib =[1,1]\n",
    "        while x<(number-1):\n",
    "            fib.append(fib[x]+fib[x-1])\n",
    "            x+=1\n",
    "        return fib\n",
    "    print(fibonacci)\n",
    "    input()"
   ]
  },
  {
   "cell_type": "code",
   "execution_count": 26,
   "id": "6eb28155",
   "metadata": {},
   "outputs": [
    {
     "name": "stdout",
     "output_type": "stream",
     "text": [
      "hello how many fibonnaci numbers doy you want to generate in your sequence12\n"
     ]
    },
    {
     "data": {
      "text/plain": [
       "[1, 1, 2, 3, 5, 8, 13, 21, 34, 55, 89, 144]"
      ]
     },
     "execution_count": 26,
     "metadata": {},
     "output_type": "execute_result"
    }
   ],
   "source": [
    "fibonacci()"
   ]
  },
  {
   "cell_type": "code",
   "execution_count": 27,
   "id": "183af0e9",
   "metadata": {},
   "outputs": [
    {
     "name": "stdout",
     "output_type": "stream",
     "text": [
      "please enter a text:mum\n",
      "text is a palindrome\n"
     ]
    }
   ],
   "source": [
    "#8. Write a function that ask the user for a string and print out whether this string is a palindrome or not\n",
    "new_string = input((\"please enter a text:\"))\n",
    "if new_string == new_string[::-1]:\n",
    "     print(\"text is a palindrome\")\n",
    "else:\n",
    "     print(\"text is not a palindrome\")"
   ]
  },
  {
   "cell_type": "code",
   "execution_count": 29,
   "id": "97942519",
   "metadata": {},
   "outputs": [
    {
     "name": "stdout",
     "output_type": "stream",
     "text": [
      "[1, 4, 5, 7, 8, 10, 20, 600]\n"
     ]
    }
   ],
   "source": [
    "#9write a function that takes an ordered list of numbers(a list where the elements are in order from smallest to largest)\n",
    "#and another number\n",
    "#an ordered list\n",
    "f = [5,10,1,20,4,600,7,8]\n",
    "f.sort()\n",
    "print(f)"
   ]
  },
  {
   "cell_type": "code",
   "execution_count": 31,
   "id": "47f2c75c",
   "metadata": {},
   "outputs": [
    {
     "name": "stdout",
     "output_type": "stream",
     "text": [
      "hello, what is your name?\n",
      "felicia\n",
      "how old are you?\n",
      "28\n",
      "hello felicia. you are 28 years old. you will turn 100 in 2094.\n"
     ]
    }
   ],
   "source": [
    "#10.Create a program that asks the user to enter their name and their age. Print out a message addressed to them that tells them the year that they will turn 100 years old.\n",
    "from datetime import datetime\n",
    "name = input(\"hello, what is your name?\\n\")\n",
    "age = int(input('how old are you?\\n'))\n",
    "hundred = int((100-age)+datetime.now().year)\n",
    "print ('hello %s. you are %s years old. you will turn 100 in %s.'%(name, age, hundred))\n"
   ]
  },
  {
   "cell_type": "code",
   "execution_count": 32,
   "id": "697a480b",
   "metadata": {},
   "outputs": [
    {
     "name": "stdout",
     "output_type": "stream",
     "text": [
      "what is your name:feli\n",
      "whats your age:28\n",
      "feliyou will be 100 years old in the year2095\n"
     ]
    }
   ],
   "source": [
    "#  simplified method \n",
    "name = input(\"what is your name:\")\n",
    "age = int(input('whats your age:'))\n",
    "year= 2023-age+100\n",
    "print (name + \"you will be 100 years old in the year\" + str(year))"
   ]
  },
  {
   "cell_type": "code",
   "execution_count": null,
   "id": "80094b6c",
   "metadata": {},
   "outputs": [],
   "source": []
  }
 ],
 "metadata": {
  "kernelspec": {
   "display_name": "Python 3",
   "language": "python",
   "name": "python3"
  },
  "language_info": {
   "codemirror_mode": {
    "name": "ipython",
    "version": 3
   },
   "file_extension": ".py",
   "mimetype": "text/x-python",
   "name": "python",
   "nbconvert_exporter": "python",
   "pygments_lexer": "ipython3",
   "version": "3.8.8"
  }
 },
 "nbformat": 4,
 "nbformat_minor": 5
}
