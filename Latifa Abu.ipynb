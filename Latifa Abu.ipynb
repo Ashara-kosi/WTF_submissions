{
 "cells": [
  {
   "cell_type": "markdown",
   "id": "bbf00529",
   "metadata": {},
   "source": [
    "# Question 1\n"
   ]
  },
  {
   "cell_type": "code",
   "execution_count": 7,
   "id": "0c09f736",
   "metadata": {},
   "outputs": [
    {
     "name": "stdout",
     "output_type": "stream",
     "text": [
      "0 even\n",
      "1 odd\n",
      "2 even\n",
      "3 odd\n",
      "4 even\n",
      "5 odd\n",
      "6 even\n",
      "7 odd\n",
      "8 even\n",
      "9 odd\n",
      "10 even\n"
     ]
    }
   ],
   "source": [
    "#Write a function called showNumbers that takes a parameter called limit. It should print all the numbers between 0 and limit with a label to identify the even and odd numbers. For example, if the limit is 3, it should print:0 EVEN 1 ODD 2 EVEN 3 ODD\n",
    "\n",
    "def showNumbers(limit):\n",
    "    for i in range(0,limit+1):\n",
    "        if i%2==0:\n",
    "            print(str(i), 'even')\n",
    "        elif i%2!= 0:\n",
    "            print(str(i),'odd')\n",
    "showNumbers(10)"
   ]
  },
  {
   "cell_type": "markdown",
   "id": "ba6c758c",
   "metadata": {},
   "source": [
    "# Question 2"
   ]
  },
  {
   "cell_type": "code",
   "execution_count": 27,
   "id": "b09503fd",
   "metadata": {},
   "outputs": [
    {
     "name": "stdout",
     "output_type": "stream",
     "text": [
      "98\n"
     ]
    }
   ],
   "source": [
    "#Write a function that returns the sum of multiples of 3 and 5 between 0 and limit (parameter). For example, if limit is 20, it should return the sum of 3, 5, 6, 9, 10, 12, 15, 18, 20.\n",
    "\n",
    "def functionsum(limit):\n",
    "    sum=0\n",
    "    for i in range(limit+1):\n",
    "        if i%3==0 or i%5==0:\n",
    "            sum=sum+i\n",
    "    print(sum)\n",
    "functionsum(20)\n",
    "            \n",
    "        "
   ]
  },
  {
   "cell_type": "markdown",
   "id": "c3307f5d",
   "metadata": {},
   "source": [
    "# Question 3\n"
   ]
  },
  {
   "cell_type": "code",
   "execution_count": 176,
   "id": "138e4113",
   "metadata": {},
   "outputs": [
    {
     "name": "stdout",
     "output_type": "stream",
     "text": [
      "***************\n"
     ]
    }
   ],
   "source": [
    "#Write a function called show_stars(rows). If rows is 5, it should print the following:***************\n",
    "\n",
    "def show_star(rows):\n",
    "    print('***'*rows)\n",
    "show_star(5)\n",
    "        \n",
    "        \n",
    "            "
   ]
  },
  {
   "cell_type": "markdown",
   "id": "d5667653",
   "metadata": {},
   "source": [
    "# Question 4"
   ]
  },
  {
   "cell_type": "code",
   "execution_count": 47,
   "id": "651cdcee",
   "metadata": {},
   "outputs": [
    {
     "data": {
      "text/plain": [
       "[2, 3, 5, 7, 11, 13, 17, 19]"
      ]
     },
     "execution_count": 47,
     "metadata": {},
     "output_type": "execute_result"
    }
   ],
   "source": [
    "def prime(limit):\n",
    "    prime_list = []\n",
    "    for i in range(0,limit):\n",
    "        if i == 0 or i == 1:\n",
    "            continue\n",
    "        else:\n",
    "            for j in range(2, int(i/2)+1):\n",
    "                if i % j == 0:\n",
    "                    break\n",
    "            else:\n",
    "                prime_list.append(i)\n",
    "    return prime_list\n",
    "prime(20)"
   ]
  },
  {
   "cell_type": "markdown",
   "id": "4f4a9fae",
   "metadata": {},
   "source": [
    "# Question 5"
   ]
  },
  {
   "cell_type": "code",
   "execution_count": 52,
   "id": "291c56fa",
   "metadata": {},
   "outputs": [
    {
     "name": "stdout",
     "output_type": "stream",
     "text": [
      "[1, 2, 4, 5, 6, 7, 8, 9, 11]\n"
     ]
    }
   ],
   "source": [
    "#Write a program (function!) that takes a list and returns a new list that contains all the elements of the first list minus all the duplicates.\n",
    "def my_functionlist(list1):\n",
    "    new_list=[]\n",
    "    for i in list1:\n",
    "        if i not in new_list:\n",
    "            new_list.append(i)\n",
    "    print(new_list)\n",
    "my_functionlist([1,2,4,5,6,6,7,8,1,9,8,11,11])"
   ]
  },
  {
   "cell_type": "markdown",
   "id": "e2388067",
   "metadata": {},
   "source": [
    "# Question 6"
   ]
  },
  {
   "cell_type": "code",
   "execution_count": 231,
   "id": "f0a08808",
   "metadata": {},
   "outputs": [
    {
     "name": "stdout",
     "output_type": "stream",
     "text": [
      "user:8\n",
      "not prime\n",
      "prime\n",
      "not prime\n",
      "not prime\n",
      "prime\n",
      "prime\n"
     ]
    }
   ],
   "source": [
    "#Write a function to ask the user for a number and determine whether the number is prime or not.\n",
    "\n",
    "def prime():\n",
    "    num=int(input('user:'))\n",
    "    for i in range(num):\n",
    "        for j in range (2,int(i/2)+1):\n",
    "            if (i%j == 0) and  num > 1:\n",
    "                print('not prime')\n",
    "            else:\n",
    "                print('prime')\n",
    "prime()"
   ]
  },
  {
   "cell_type": "markdown",
   "id": "856f0347",
   "metadata": {},
   "source": [
    "# Question 7"
   ]
  },
  {
   "cell_type": "code",
   "execution_count": 108,
   "id": "0e42d558",
   "metadata": {},
   "outputs": [
    {
     "name": "stdout",
     "output_type": "stream",
     "text": [
      "How many Fibonacci numbers should I generate? 12\n",
      "Fibonacci numbers are: [1, 1, 2, 3, 5, 8, 13, 21, 34, 55, 89, 144]\n"
     ]
    }
   ],
   "source": [
    "#Write a program that asks the user how many Fibonnaci numbers to generate and then generates them\n",
    "\n",
    "def fib (x, y):\n",
    "    return x + y\n",
    "number = int(input(\"How many Fibonacci numbers should I generate? \"))\n",
    "fibonacci_list = []\n",
    "for n in range(number):\n",
    "    if n in [0, 1]:\n",
    "        fibonacci_list += [1]\n",
    "    else:\n",
    "        fibonacci_list += [fib(fibonacci_list[n-2], fibonacci_list[n-1])]\n",
    "\n",
    "print(\"Fibonacci numbers are:\", fibonacci_list)"
   ]
  },
  {
   "cell_type": "markdown",
   "id": "0fcd9886",
   "metadata": {},
   "source": [
    "# Question 8"
   ]
  },
  {
   "cell_type": "code",
   "execution_count": 141,
   "id": "f5412492",
   "metadata": {},
   "outputs": [
    {
     "name": "stdout",
     "output_type": "stream",
     "text": [
      "word:latifa\n",
      "word not palidrome\n"
     ]
    }
   ],
   "source": [
    "#Write a function that ask the user for a string and print out whether this string is a palindrome or not.\n",
    "def palindrome():\n",
    "    s= input('word:' )  \n",
    "    if s[::1] == s[::-1]:\n",
    "        print ('word is palindrome')\n",
    "    else:\n",
    "        print ('word not palidrome')\n",
    "palindrome()"
   ]
  },
  {
   "cell_type": "markdown",
   "id": "c52b9bf5",
   "metadata": {},
   "source": [
    "# Question 9"
   ]
  },
  {
   "cell_type": "code",
   "execution_count": 220,
   "id": "5d52c82e",
   "metadata": {},
   "outputs": [
    {
     "name": "stdout",
     "output_type": "stream",
     "text": [
      "[1, 3, 4, 5, 6]\n",
      "10\n"
     ]
    }
   ],
   "source": [
    "#Write a function that takes an ordered list of numbers (a list where the elements are in order from smallest to largest) and another number.\n",
    "def find(ordered, to_find):\n",
    "    ordered_new =[]\n",
    "    for i in ordered:\n",
    "        if i not in ordered_new:\n",
    "            ordered_new.append(i)\n",
    "    print(ordered_new)\n",
    "    print (to_find)\n",
    "find([1,3,4,5,6],10)\n"
   ]
  },
  {
   "cell_type": "markdown",
   "id": "4a890dcc",
   "metadata": {},
   "source": [
    "# Question 10"
   ]
  },
  {
   "cell_type": "code",
   "execution_count": 205,
   "id": "d9c41826",
   "metadata": {},
   "outputs": [
    {
     "name": "stdout",
     "output_type": "stream",
     "text": [
      "name:latiafa\n",
      "age:21\n",
      "Hello  latiafa  You are going to be 100 years old at:\n"
     ]
    },
    {
     "data": {
      "text/plain": [
       "2101"
      ]
     },
     "execution_count": 205,
     "metadata": {},
     "output_type": "execute_result"
    }
   ],
   "source": [
    "\n",
    "def at_hundred():\n",
    "    import datetime\n",
    "    name = str(input('name:'))\n",
    "    \n",
    "    age = int(input('age:'))\n",
    "    current_year = datetime.date.today().year\n",
    "    good_year = (current_year - age) + (100)\n",
    "    print('Hello ', name, ' You are going to be 100 years old at:')\n",
    "    return (good_year)\n",
    "at_hundred()\n"
   ]
  }
 ],
 "metadata": {
  "kernelspec": {
   "display_name": "Python 3 (ipykernel)",
   "language": "python",
   "name": "python3"
  },
  "language_info": {
   "codemirror_mode": {
    "name": "ipython",
    "version": 3
   },
   "file_extension": ".py",
   "mimetype": "text/x-python",
   "name": "python",
   "nbconvert_exporter": "python",
   "pygments_lexer": "ipython3",
   "version": "3.9.12"
  }
 },
 "nbformat": 4,
 "nbformat_minor": 5
}
