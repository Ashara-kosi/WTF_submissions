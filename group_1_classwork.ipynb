{
 "cells": [
  {
   "cell_type": "markdown",
   "id": "01f63978",
   "metadata": {},
   "source": [
    "# 1. Write a python function to find the max of three numbers"
   ]
  },
  {
   "cell_type": "code",
   "execution_count": 1,
   "id": "2ba30752",
   "metadata": {},
   "outputs": [],
   "source": [
    "def max_num(a,b,c):\n",
    "    print (max(a,b,c))"
   ]
  },
  {
   "cell_type": "code",
   "execution_count": 2,
   "id": "58e40fe6",
   "metadata": {},
   "outputs": [
    {
     "name": "stdout",
     "output_type": "stream",
     "text": [
      "3\n"
     ]
    }
   ],
   "source": [
    "max_num(1,2,3)"
   ]
  },
  {
   "cell_type": "markdown",
   "id": "6fc295d3",
   "metadata": {},
   "source": [
    "# 2. # Write a function to sum all numbers in a list"
   ]
  },
  {
   "cell_type": "code",
   "execution_count": 3,
   "id": "2c8f2b9f",
   "metadata": {},
   "outputs": [],
   "source": [
    "def add_num(list_no):\n",
    "    total= 0\n",
    "    for item in list_no:\n",
    "        total= total + item\n",
    "    return (total)"
   ]
  },
  {
   "cell_type": "code",
   "execution_count": 4,
   "id": "3669dc1e",
   "metadata": {},
   "outputs": [
    {
     "data": {
      "text/plain": [
       "22"
      ]
     },
     "execution_count": 4,
     "metadata": {},
     "output_type": "execute_result"
    }
   ],
   "source": [
    "list_no= [1,5,7,9]\n",
    "add_num(list_no)"
   ]
  },
  {
   "cell_type": "markdown",
   "id": "de43254f",
   "metadata": {},
   "source": [
    "# 3. Write a python program to reverse a string"
   ]
  },
  {
   "cell_type": "code",
   "execution_count": 5,
   "id": "4a371ff3",
   "metadata": {},
   "outputs": [],
   "source": [
    "def reverse_str(obj):\n",
    "    \"\"\"this function reverse any string that is passed into it\"\"\"\n",
    "    print (obj[: : -1])"
   ]
  },
  {
   "cell_type": "code",
   "execution_count": 6,
   "id": "208ba551",
   "metadata": {},
   "outputs": [
    {
     "name": "stdout",
     "output_type": "stream",
     "text": [
      "any string: women techsters\n",
      "sretshcet nemow\n"
     ]
    }
   ],
   "source": [
    "a= input('any string: ')\n",
    "reverse_str(a)"
   ]
  },
  {
   "cell_type": "markdown",
   "id": "d494bac1",
   "metadata": {},
   "source": [
    "# 4. Write a python function to check whether a number falls in a given range"
   ]
  },
  {
   "cell_type": "code",
   "execution_count": 7,
   "id": "bdf7a49f",
   "metadata": {},
   "outputs": [
    {
     "name": "stdout",
     "output_type": "stream",
     "text": [
      "Please, Enter the Lowest Range Value: 6\n",
      "Please, Enter the Upper Range Value: 20\n"
     ]
    }
   ],
   "source": [
    "lower_value = int(input (\"Please, Enter the Lowest Range Value: \"))  \n",
    "upper_value = int(input (\"Please, Enter the Upper Range Value: \"))\n",
    "def check(n):\n",
    "    \"\"\"This function checks whether a number falls in a given range\"\"\"\n",
    "    if n in range (lower_value, upper_value + 1):\n",
    "        print(str(n),\"is in the range\")\n",
    "    else: print (str(n), \"is not in this range\")"
   ]
  },
  {
   "cell_type": "code",
   "execution_count": 8,
   "id": "43b9b7db",
   "metadata": {},
   "outputs": [
    {
     "name": "stdout",
     "output_type": "stream",
     "text": [
      "30 is not in this range\n"
     ]
    }
   ],
   "source": [
    "check(30)"
   ]
  },
  {
   "cell_type": "markdown",
   "id": "c78862c3",
   "metadata": {},
   "source": [
    "# 5. Write a python function that takes a list and returns a new list with unique elements of the first list"
   ]
  },
  {
   "cell_type": "code",
   "execution_count": 9,
   "id": "1cc080a1",
   "metadata": {},
   "outputs": [],
   "source": [
    "def uniq(num_list):\n",
    "    print (list(set(num_list)))"
   ]
  },
  {
   "cell_type": "code",
   "execution_count": 10,
   "id": "09177480",
   "metadata": {},
   "outputs": [
    {
     "name": "stdout",
     "output_type": "stream",
     "text": [
      "[4, 5, 6, 7, 8, 9]\n"
     ]
    }
   ],
   "source": [
    "num_list= [5,8,9,4,6,6,7,7]\n",
    "uniq(num_list)"
   ]
  },
  {
   "cell_type": "markdown",
   "id": "58421a36",
   "metadata": {},
   "source": [
    "# 6. Write a program to print the even number from a list"
   ]
  },
  {
   "cell_type": "code",
   "execution_count": 11,
   "id": "dbde94b3",
   "metadata": {},
   "outputs": [],
   "source": [
    "def even_no(*number):\n",
    "    a= []\n",
    "    for item in number:\n",
    "        if item % 2==0:\n",
    "            a.append(item)\n",
    "    print (a)"
   ]
  },
  {
   "cell_type": "code",
   "execution_count": 12,
   "id": "7a874f54",
   "metadata": {},
   "outputs": [
    {
     "name": "stdout",
     "output_type": "stream",
     "text": [
      "[6, 8, 10]\n"
     ]
    }
   ],
   "source": [
    "even_no(1,6,8,9,10)"
   ]
  },
  {
   "cell_type": "markdown",
   "id": "430d4938",
   "metadata": {},
   "source": [
    "# 7. Write a python function that checks whether a passed str is a palindrome or not"
   ]
  },
  {
   "cell_type": "code",
   "execution_count": 13,
   "id": "7884aad4",
   "metadata": {},
   "outputs": [],
   "source": [
    "def palindrome_str(obj):\n",
    "    a= obj[: :]\n",
    "    b= obj[: : -1]\n",
    "    if a==b:\n",
    "        print (f'{obj} is a palindrome string')\n",
    "    else:\n",
    "        print (f'{obj} is not a palindrome string' )"
   ]
  },
  {
   "cell_type": "code",
   "execution_count": 14,
   "id": "9bb46906",
   "metadata": {},
   "outputs": [
    {
     "name": "stdout",
     "output_type": "stream",
     "text": [
      "madam is a palindrome string\n"
     ]
    }
   ],
   "source": [
    "palindrome_str('madam')"
   ]
  },
  {
   "cell_type": "code",
   "execution_count": 15,
   "id": "033f7c8f",
   "metadata": {},
   "outputs": [
    {
     "name": "stdout",
     "output_type": "stream",
     "text": [
      "beau is not a palindrome string\n"
     ]
    }
   ],
   "source": [
    "palindrome_str('beau')"
   ]
  },
  {
   "cell_type": "markdown",
   "id": "248420d4",
   "metadata": {},
   "source": [
    "# 8. Write a python function to create and print a list where the value returns square of numbers between 1 and 30 "
   ]
  },
  {
   "cell_type": "code",
   "execution_count": 16,
   "id": "c768c36d",
   "metadata": {},
   "outputs": [],
   "source": [
    "def square():\n",
    "    l= list()\n",
    "    for i in range (1,31):\n",
    "        l.append(i*i)\n",
    "    print (l)"
   ]
  },
  {
   "cell_type": "code",
   "execution_count": 17,
   "id": "f79d1e3c",
   "metadata": {},
   "outputs": [
    {
     "name": "stdout",
     "output_type": "stream",
     "text": [
      "[1, 4, 9, 16, 25, 36, 49, 64, 81, 100, 121, 144, 169, 196, 225, 256, 289, 324, 361, 400, 441, 484, 529, 576, 625, 676, 729, 784, 841, 900]\n"
     ]
    }
   ],
   "source": [
    "square()"
   ]
  },
  {
   "cell_type": "code",
   "execution_count": null,
   "id": "b558f5c4",
   "metadata": {},
   "outputs": [],
   "source": []
  }
 ],
 "metadata": {
  "kernelspec": {
   "display_name": "Python 3 (ipykernel)",
   "language": "python",
   "name": "python3"
  },
  "language_info": {
   "codemirror_mode": {
    "name": "ipython",
    "version": 3
   },
   "file_extension": ".py",
   "mimetype": "text/x-python",
   "name": "python",
   "nbconvert_exporter": "python",
   "pygments_lexer": "ipython3",
   "version": "3.9.12"
  }
 },
 "nbformat": 4,
 "nbformat_minor": 5
}
