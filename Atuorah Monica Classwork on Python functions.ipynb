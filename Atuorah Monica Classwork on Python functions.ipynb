{
 "cells": [
  {
   "cell_type": "code",
   "execution_count": 1,
   "id": "10480fe0",
   "metadata": {},
   "outputs": [
    {
     "name": "stdout",
     "output_type": "stream",
     "text": [
      "Enter first number10\n",
      "Enter second number20\n",
      "product of two numbers is 200\n",
      "sum of two numbers is 30\n"
     ]
    }
   ],
   "source": [
    "#1.Write a function to calculate the multiplication and sum of two numbers\n",
    "\n",
    "def product_sum(a,b):\n",
    "    return (a*b), (a + b)\n",
    "\n",
    "a = int(input('Enter first number'))\n",
    "b = int(input('Enter second number'))\n",
    "product, sum = product_sum(a,b)\n",
    "\n",
    "print('product of two numbers is', product)\n",
    "print('sum of two numbers is', sum)"
   ]
  },
  {
   "cell_type": "code",
   "execution_count": 4,
   "id": "9ed89c98",
   "metadata": {},
   "outputs": [
    {
     "name": "stdout",
     "output_type": "stream",
     "text": [
      "Enter current number8\n",
      "Enter previous number9\n",
      "17\n"
     ]
    }
   ],
   "source": [
    "#2Write a function to print the sum of the current number and the previous number\n",
    "\n",
    "def sum_numbers(a,b):\n",
    "    return (a +b)\n",
    "\n",
    "a = int(input('Enter current number'))\n",
    "b = int(input('Enter previous number'))\n",
    "\n",
    "sum = sum_numbers(a,b)\n",
    "\n",
    "print(sum_numbers(a,b))"
   ]
  },
  {
   "cell_type": "code",
   "execution_count": 6,
   "id": "859ce700",
   "metadata": {},
   "outputs": [
    {
     "name": "stdout",
     "output_type": "stream",
     "text": [
      "suet\n"
     ]
    }
   ],
   "source": [
    "#3Write a function to print characters from a string that are present at an even index number\n",
    "#using list slicing method\n",
    "def print_even_char(s):\n",
    "word = input('Enter word')\n",
    "s = 'students'\n",
    "print(s[0::2])"
   ]
  },
  {
   "cell_type": "code",
   "execution_count": 7,
   "id": "882e10d1",
   "metadata": {},
   "outputs": [
    {
     "name": "stdout",
     "output_type": "stream",
     "text": [
      "ython\n"
     ]
    }
   ],
   "source": [
    "#4.Write a function to remove first characters from a string\n",
    "#using slicing method\n",
    "def remove_first_char(str):\n",
    "    return (str[1:])\n",
    "str = \"python\"\n",
    "print(str[1:])"
   ]
  },
  {
   "cell_type": "code",
   "execution_count": 10,
   "id": "a494a325",
   "metadata": {},
   "outputs": [
    {
     "ename": "SyntaxError",
     "evalue": "'return' outside function (3188896410.py, line 8)",
     "output_type": "error",
     "traceback": [
      "\u001b[1;36m  Input \u001b[1;32mIn [10]\u001b[1;36m\u001b[0m\n\u001b[1;33m    return True\u001b[0m\n\u001b[1;37m    ^\u001b[0m\n\u001b[1;31mSyntaxError\u001b[0m\u001b[1;31m:\u001b[0m 'return' outside function\n"
     ]
    }
   ],
   "source": [
    "#5.Write a function to check if the first and last number of a list is the same\n",
    "def first_last_same(list):\n",
    "    list = [10,2,56,78,34,9,10]\n",
    "first_number = list[0]\n",
    "last_number  = list[-1]\n",
    "for number in list:\n",
    "    if first_number == last_number:\n",
    "            return True\n",
    "    else:\n",
    "            return False"
   ]
  },
  {
   "cell_type": "code",
   "execution_count": 12,
   "id": "1f3a9a3a",
   "metadata": {},
   "outputs": [
    {
     "name": "stdout",
     "output_type": "stream",
     "text": [
      "\n",
      "1 * 1 = 1\n",
      "1 * 2 = 2\n",
      "1 * 3 = 3\n",
      "1 * 4 = 4\n",
      "1 * 5 = 5\n",
      "1 * 6 = 6\n",
      "1 * 7 = 7\n",
      "1 * 8 = 8\n",
      "1 * 9 = 9\n",
      "1 * 10 = 10\n",
      "\n",
      "2 * 1 = 2\n",
      "2 * 2 = 4\n",
      "2 * 3 = 6\n",
      "2 * 4 = 8\n",
      "2 * 5 = 10\n",
      "2 * 6 = 12\n",
      "2 * 7 = 14\n",
      "2 * 8 = 16\n",
      "2 * 9 = 18\n",
      "2 * 10 = 20\n",
      "\n",
      "3 * 1 = 3\n",
      "3 * 2 = 6\n",
      "3 * 3 = 9\n",
      "3 * 4 = 12\n",
      "3 * 5 = 15\n",
      "3 * 6 = 18\n",
      "3 * 7 = 21\n",
      "3 * 8 = 24\n",
      "3 * 9 = 27\n",
      "3 * 10 = 30\n",
      "\n",
      "4 * 1 = 4\n",
      "4 * 2 = 8\n",
      "4 * 3 = 12\n",
      "4 * 4 = 16\n",
      "4 * 5 = 20\n",
      "4 * 6 = 24\n",
      "4 * 7 = 28\n",
      "4 * 8 = 32\n",
      "4 * 9 = 36\n",
      "4 * 10 = 40\n",
      "\n",
      "5 * 1 = 5\n",
      "5 * 2 = 10\n",
      "5 * 3 = 15\n",
      "5 * 4 = 20\n",
      "5 * 5 = 25\n",
      "5 * 6 = 30\n",
      "5 * 7 = 35\n",
      "5 * 8 = 40\n",
      "5 * 9 = 45\n",
      "5 * 10 = 50\n",
      "\n",
      "6 * 1 = 6\n",
      "6 * 2 = 12\n",
      "6 * 3 = 18\n",
      "6 * 4 = 24\n",
      "6 * 5 = 30\n",
      "6 * 6 = 36\n",
      "6 * 7 = 42\n",
      "6 * 8 = 48\n",
      "6 * 9 = 54\n",
      "6 * 10 = 60\n",
      "\n",
      "7 * 1 = 7\n",
      "7 * 2 = 14\n",
      "7 * 3 = 21\n",
      "7 * 4 = 28\n",
      "7 * 5 = 35\n",
      "7 * 6 = 42\n",
      "7 * 7 = 49\n",
      "7 * 8 = 56\n",
      "7 * 9 = 63\n",
      "7 * 10 = 70\n",
      "\n",
      "8 * 1 = 8\n",
      "8 * 2 = 16\n",
      "8 * 3 = 24\n",
      "8 * 4 = 32\n",
      "8 * 5 = 40\n",
      "8 * 6 = 48\n",
      "8 * 7 = 56\n",
      "8 * 8 = 64\n",
      "8 * 9 = 72\n",
      "8 * 10 = 80\n",
      "\n",
      "9 * 1 = 9\n",
      "9 * 2 = 18\n",
      "9 * 3 = 27\n",
      "9 * 4 = 36\n",
      "9 * 5 = 45\n",
      "9 * 6 = 54\n",
      "9 * 7 = 63\n",
      "9 * 8 = 72\n",
      "9 * 9 = 81\n",
      "9 * 10 = 90\n",
      "\n",
      "10 * 1 = 10\n",
      "10 * 2 = 20\n",
      "10 * 3 = 30\n",
      "10 * 4 = 40\n",
      "10 * 5 = 50\n",
      "10 * 6 = 60\n",
      "10 * 7 = 70\n",
      "10 * 8 = 80\n",
      "10 * 9 = 90\n",
      "10 * 10 = 100\n"
     ]
    }
   ],
   "source": [
    "#6Write a function to print multiplication table from 1 to 10\n",
    "def mul_table(x,y):\n",
    "for x in range(1,11):\n",
    "        print(\"\")\n",
    "        for y in range(1,11):\n",
    "            print(x, '*', y, '=', x*y)"
   ]
  },
  {
   "cell_type": "code",
   "execution_count": null,
   "id": "223e704b",
   "metadata": {},
   "outputs": [],
   "source": [
    "#7Given a two list of numbers, write a function to create a new list such that the new list should contain odd numbers from the first list and even numbers from the second list.\n",
    "\n",
    "def create_newlist(list_1, list_2):\n",
    "    new_list = [list1 + list2]\n",
    "list_1=[11,22,23,14,25,26]\n",
    "list_2=[9,12,13,15,18,20]\n",
    "for x in list_1:\n",
    "        if x %2 != 0:\n",
    "            list_1.append(x)\n",
    "for y in list_2:\n",
    "        if y % 2 == 0:\n",
    "            list_2.append(y)\n",
    "            return new_list\n",
    "            #new_list = merged_list\n",
    "            print('new_list:',merged_list(list-1,list-2))"
   ]
  },
  {
   "cell_type": "code",
   "execution_count": null,
   "id": "2eed9576",
   "metadata": {},
   "outputs": [],
   "source": []
  },
  {
   "cell_type": "code",
   "execution_count": null,
   "id": "eaf0b442",
   "metadata": {},
   "outputs": [],
   "source": []
  }
 ],
 "metadata": {
  "kernelspec": {
   "display_name": "Python 3 (ipykernel)",
   "language": "python",
   "name": "python3"
  },
  "language_info": {
   "codemirror_mode": {
    "name": "ipython",
    "version": 3
   },
   "file_extension": ".py",
   "mimetype": "text/x-python",
   "name": "python",
   "nbconvert_exporter": "python",
   "pygments_lexer": "ipython3",
   "version": "3.9.12"
  }
 },
 "nbformat": 4,
 "nbformat_minor": 5
}
