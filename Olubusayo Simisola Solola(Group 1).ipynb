{
 "cells": [
  {
   "cell_type": "markdown",
   "id": "7d6cb7d8",
   "metadata": {},
   "source": [
    "1.\tWrite a function to calculate the multiplication and sum of two numbers"
   ]
  },
  {
   "cell_type": "code",
   "execution_count": 26,
   "id": "e9214847",
   "metadata": {},
   "outputs": [
    {
     "name": "stdout",
     "output_type": "stream",
     "text": [
      "Enter the 1st number7\n",
      "Enter the 2nd number9\n",
      "The product and sum is (63, 16) respectively\n"
     ]
    }
   ],
   "source": [
    "a=int(input('Enter the 1st number'))\n",
    "b=int(input('Enter the 2nd number'))\n",
    "def num(a,b):\n",
    "    multiply=a*b;\n",
    "    add=a+b;\n",
    "    return multiply,add;\n",
    "print(\"The product and sum is\",num(a,b),'respectively')"
   ]
  },
  {
   "cell_type": "markdown",
   "id": "4172c398",
   "metadata": {},
   "source": [
    "2.\tWrite a function to print the sum of the current number and the previous number"
   ]
  },
  {
   "cell_type": "code",
   "execution_count": 50,
   "id": "a2bf1cab",
   "metadata": {},
   "outputs": [
    {
     "name": "stdout",
     "output_type": "stream",
     "text": [
      "Please, Enter the Lowest Range Value: 2\n",
      "Please, Enter the Upper Range Value: 8\n",
      "Current Number 2 Previous Number  0  Sum:  2\n",
      "Current Number 3 Previous Number  2  Sum:  5\n",
      "Current Number 4 Previous Number  3  Sum:  7\n",
      "Current Number 5 Previous Number  4  Sum:  9\n",
      "Current Number 6 Previous Number  5  Sum:  11\n",
      "Current Number 7 Previous Number  6  Sum:  13\n",
      "Current Number 8 Previous Number  7  Sum:  15\n"
     ]
    }
   ],
   "source": [
    "lower_value = int(input (\"Please, Enter the Lowest Range Value: \"))  \n",
    "upper_value = int(input (\"Please, Enter the Upper Range Value: \")) \n",
    "def function():\n",
    "    previous_num = 0\n",
    "    for n in range (lower_value, upper_value + 1):\n",
    "        print(\"Current Number\", n, \"Previous Number \", previous_num, \" Sum: \", previous_num + n)\n",
    "        previous_num = n\n",
    "function()"
   ]
  },
  {
   "cell_type": "markdown",
   "id": "fee3d9f6",
   "metadata": {},
   "source": [
    "3.\tWrite a function to print characters from a string that are present at an even index number"
   ]
  },
  {
   "cell_type": "code",
   "execution_count": 62,
   "id": "b14760a8",
   "metadata": {},
   "outputs": [
    {
     "name": "stdout",
     "output_type": "stream",
     "text": [
      "Type here:window\n",
      "wno\n"
     ]
    }
   ],
   "source": [
    "string=input('Type here:')\n",
    "def chr():\n",
    "    print(string[0:-1:2])\n",
    "chr()"
   ]
  },
  {
   "cell_type": "markdown",
   "id": "7ed6bd3c",
   "metadata": {},
   "source": [
    "4.\tWrite a function to remove first characters from a string"
   ]
  },
  {
   "cell_type": "code",
   "execution_count": 64,
   "id": "deb3589f",
   "metadata": {},
   "outputs": [
    {
     "name": "stdout",
     "output_type": "stream",
     "text": [
      "Type here:audacious\n",
      "udacious\n"
     ]
    }
   ],
   "source": [
    "string=input('Type here:')\n",
    "def text():\n",
    "    print(string[1:])\n",
    "text()"
   ]
  },
  {
   "cell_type": "markdown",
   "id": "9e535509",
   "metadata": {},
   "source": [
    "5.\tWrite a function to check if the first and last number of a list is the same"
   ]
  },
  {
   "cell_type": "code",
   "execution_count": 78,
   "id": "83c8e35c",
   "metadata": {},
   "outputs": [],
   "source": [
    "def check(num):\n",
    "    if num[0] == num[-1]:\n",
    "        print('Result is True')\n",
    "    else:\n",
    "        print('Result is False')"
   ]
  },
  {
   "cell_type": "code",
   "execution_count": 80,
   "id": "bf595521",
   "metadata": {},
   "outputs": [
    {
     "name": "stdout",
     "output_type": "stream",
     "text": [
      "Result is True\n"
     ]
    }
   ],
   "source": [
    "num = [1,2,3,4,1]\n",
    "check(num)"
   ]
  },
  {
   "cell_type": "markdown",
   "id": "a109bc6c",
   "metadata": {},
   "source": [
    "6 Write a function to print multiplication table from 1 to 10"
   ]
  },
  {
   "cell_type": "code",
   "execution_count": 95,
   "id": "29b4fc8e",
   "metadata": {},
   "outputs": [
    {
     "name": "stdout",
     "output_type": "stream",
     "text": [
      "====== 1 Multiplication Table =========\n",
      "1 x 1 = 1\n",
      "1 x 2 = 2\n",
      "1 x 3 = 3\n",
      "1 x 4 = 4\n",
      "1 x 5 = 5\n",
      "1 x 6 = 6\n",
      "1 x 7 = 7\n",
      "1 x 8 = 8\n",
      "1 x 9 = 9\n",
      "1 x 10 = 10\n",
      "1 x 11 = 11\n",
      "1 x 12 = 12\n",
      "====== 2 Multiplication Table =========\n",
      "2 x 1 = 2\n",
      "2 x 2 = 4\n",
      "2 x 3 = 6\n",
      "2 x 4 = 8\n",
      "2 x 5 = 10\n",
      "2 x 6 = 12\n",
      "2 x 7 = 14\n",
      "2 x 8 = 16\n",
      "2 x 9 = 18\n",
      "2 x 10 = 20\n",
      "2 x 11 = 22\n",
      "2 x 12 = 24\n",
      "====== 3 Multiplication Table =========\n",
      "3 x 1 = 3\n",
      "3 x 2 = 6\n",
      "3 x 3 = 9\n",
      "3 x 4 = 12\n",
      "3 x 5 = 15\n",
      "3 x 6 = 18\n",
      "3 x 7 = 21\n",
      "3 x 8 = 24\n",
      "3 x 9 = 27\n",
      "3 x 10 = 30\n",
      "3 x 11 = 33\n",
      "3 x 12 = 36\n",
      "====== 4 Multiplication Table =========\n",
      "4 x 1 = 4\n",
      "4 x 2 = 8\n",
      "4 x 3 = 12\n",
      "4 x 4 = 16\n",
      "4 x 5 = 20\n",
      "4 x 6 = 24\n",
      "4 x 7 = 28\n",
      "4 x 8 = 32\n",
      "4 x 9 = 36\n",
      "4 x 10 = 40\n",
      "4 x 11 = 44\n",
      "4 x 12 = 48\n",
      "====== 5 Multiplication Table =========\n",
      "5 x 1 = 5\n",
      "5 x 2 = 10\n",
      "5 x 3 = 15\n",
      "5 x 4 = 20\n",
      "5 x 5 = 25\n",
      "5 x 6 = 30\n",
      "5 x 7 = 35\n",
      "5 x 8 = 40\n",
      "5 x 9 = 45\n",
      "5 x 10 = 50\n",
      "5 x 11 = 55\n",
      "5 x 12 = 60\n",
      "====== 6 Multiplication Table =========\n",
      "6 x 1 = 6\n",
      "6 x 2 = 12\n",
      "6 x 3 = 18\n",
      "6 x 4 = 24\n",
      "6 x 5 = 30\n",
      "6 x 6 = 36\n",
      "6 x 7 = 42\n",
      "6 x 8 = 48\n",
      "6 x 9 = 54\n",
      "6 x 10 = 60\n",
      "6 x 11 = 66\n",
      "6 x 12 = 72\n",
      "====== 7 Multiplication Table =========\n",
      "7 x 1 = 7\n",
      "7 x 2 = 14\n",
      "7 x 3 = 21\n",
      "7 x 4 = 28\n",
      "7 x 5 = 35\n",
      "7 x 6 = 42\n",
      "7 x 7 = 49\n",
      "7 x 8 = 56\n",
      "7 x 9 = 63\n",
      "7 x 10 = 70\n",
      "7 x 11 = 77\n",
      "7 x 12 = 84\n",
      "====== 8 Multiplication Table =========\n",
      "8 x 1 = 8\n",
      "8 x 2 = 16\n",
      "8 x 3 = 24\n",
      "8 x 4 = 32\n",
      "8 x 5 = 40\n",
      "8 x 6 = 48\n",
      "8 x 7 = 56\n",
      "8 x 8 = 64\n",
      "8 x 9 = 72\n",
      "8 x 10 = 80\n",
      "8 x 11 = 88\n",
      "8 x 12 = 96\n",
      "====== 9 Multiplication Table =========\n",
      "9 x 1 = 9\n",
      "9 x 2 = 18\n",
      "9 x 3 = 27\n",
      "9 x 4 = 36\n",
      "9 x 5 = 45\n",
      "9 x 6 = 54\n",
      "9 x 7 = 63\n",
      "9 x 8 = 72\n",
      "9 x 9 = 81\n",
      "9 x 10 = 90\n",
      "9 x 11 = 99\n",
      "9 x 12 = 108\n",
      "====== 10 Multiplication Table =========\n",
      "10 x 1 = 10\n",
      "10 x 2 = 20\n",
      "10 x 3 = 30\n",
      "10 x 4 = 40\n",
      "10 x 5 = 50\n",
      "10 x 6 = 60\n",
      "10 x 7 = 70\n",
      "10 x 8 = 80\n",
      "10 x 9 = 90\n",
      "10 x 10 = 100\n",
      "10 x 11 = 110\n",
      "10 x 12 = 120\n"
     ]
    }
   ],
   "source": [
    "def getMultiplicationTable(n):\n",
    "    def printTableRow(x):\n",
    "        print(n, \"x\", x, \"=\", n*x)\n",
    "        if(x < 12):\n",
    "            printTableRow(x+1)\n",
    "\n",
    "    printTableRow(1)\n",
    "    \n",
    "for i in range(1, 11):\n",
    "    print(\"======\", i, \"Multiplication Table\", \"=========\")\n",
    "    getMultiplicationTable(i)\n",
    "\n",
    "    \n",
    "    "
   ]
  },
  {
   "cell_type": "markdown",
   "id": "e2c4ce15",
   "metadata": {},
   "source": [
    "7.\tGiven a two list of numbers, write a function to create a new list such that the new list should contain odd numbers from the first list and even numbers from the second list."
   ]
  },
  {
   "cell_type": "code",
   "execution_count": 104,
   "id": "bd96804d",
   "metadata": {},
   "outputs": [
    {
     "name": "stdout",
     "output_type": "stream",
     "text": [
      "[5, 87, 65, 6, 90, 4, 32, 4]\n"
     ]
    }
   ],
   "source": [
    "l1 = [2,5,8,12,4,6,87,32,65]\n",
    "l2 = [1,6,3,90,4,5,32,4]\n",
    "def new_list():\n",
    "    l3 = [n for n in l1 if n%2]+[n for n in l2 if not n%2]\n",
    "    print(l3)\n",
    "new_list()"
   ]
  }
 ],
 "metadata": {
  "kernelspec": {
   "display_name": "Python 3 (ipykernel)",
   "language": "python",
   "name": "python3"
  },
  "language_info": {
   "codemirror_mode": {
    "name": "ipython",
    "version": 3
   },
   "file_extension": ".py",
   "mimetype": "text/x-python",
   "name": "python",
   "nbconvert_exporter": "python",
   "pygments_lexer": "ipython3",
   "version": "3.9.12"
  }
 },
 "nbformat": 4,
 "nbformat_minor": 5
}
