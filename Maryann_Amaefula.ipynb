{
 "cells": [
  {
   "cell_type": "markdown",
   "metadata": {},
   "source": [
    "### Question1\n",
    "Write a function to calculate the multiplication and sum of two numbers."
   ]
  },
  {
   "cell_type": "code",
   "execution_count": 17,
   "metadata": {},
   "outputs": [
    {
     "name": "stdout",
     "output_type": "stream",
     "text": [
      "25\n",
      "10\n"
     ]
    }
   ],
   "source": [
    "#function to calculate the multiplication and sum of two numbers\n",
    "def mult_and_sum(num1,num2):\n",
    "    print(num1*num2)\n",
    "    print(num1+num2)\n",
    "mult_and_sum(5,5)"
   ]
  },
  {
   "cell_type": "markdown",
   "metadata": {},
   "source": [
    "### Question 2\n",
    "2.\tWrite a function to print the sum of the current number and the previous number"
   ]
  },
  {
   "cell_type": "code",
   "execution_count": 18,
   "metadata": {},
   "outputs": [
    {
     "name": "stdout",
     "output_type": "stream",
     "text": [
      "number: 10\n",
      "number: 15\n",
      "25\n"
     ]
    }
   ],
   "source": [
    "#function to print sum of currrent number and previous number\n",
    "def sum_current_previous_num():\n",
    "    x = int(input('number: '))\n",
    "    y = int(input('number: '))\n",
    "    print(x+y)\n",
    "sum_current_previous_num()"
   ]
  },
  {
   "cell_type": "markdown",
   "metadata": {},
   "source": [
    "### Question 3\n",
    "3.\tWrite a function to print characters from a string that are present at an even index number"
   ]
  },
  {
   "cell_type": "code",
   "execution_count": 19,
   "metadata": {},
   "outputs": [
    {
     "name": "stdout",
     "output_type": "stream",
     "text": [
      "Enter text: womentechsters\n",
      "wmnehtr\n"
     ]
    }
   ],
   "source": [
    "#function to print characters from a string that are present at an even index number\n",
    "def even_ind_char():\n",
    "    text = input('Enter text: ')\n",
    "    even_index = text[ : : 2]\n",
    "    print(even_index)\n",
    "even_ind_char()"
   ]
  },
  {
   "cell_type": "markdown",
   "metadata": {},
   "source": [
    "### Question 4\n",
    "4.\tWrite a function to remove first characters from a string"
   ]
  },
  {
   "cell_type": "code",
   "execution_count": 20,
   "metadata": {},
   "outputs": [
    {
     "name": "stdout",
     "output_type": "stream",
     "text": [
      "ython_functions\n"
     ]
    }
   ],
   "source": [
    "#function to remove first character from a string\n",
    "def remove_first_char(word):\n",
    "    character = word\n",
    "    remove_character = word[1: ]\n",
    "    print(remove_character)\n",
    "remove_first_char('python_functions')\n",
    "    "
   ]
  },
  {
   "cell_type": "markdown",
   "metadata": {},
   "source": [
    "### Question 5\n",
    "5.\tWrite a function to check if the first and last number of a list is the same"
   ]
  },
  {
   "cell_type": "code",
   "execution_count": 21,
   "metadata": {},
   "outputs": [
    {
     "name": "stdout",
     "output_type": "stream",
     "text": [
      "both numbers are the same\n"
     ]
    }
   ],
   "source": [
    "#function to check if the first and last number of a list is the same\n",
    "def numbs_in_list():\n",
    "    numbers= [5,10,15,20,30,25,5]\n",
    "    if numbers[0] == numbers[-1]:\n",
    "        print('both numbers are the same')\n",
    "    else:\n",
    "        print('both numbers are not the same')\n",
    "    \n",
    "numbs_in_list()"
   ]
  },
  {
   "cell_type": "markdown",
   "metadata": {},
   "source": [
    "### Question 6\n",
    "6.\t Write a function to print multiplication table from 1 to 10"
   ]
  },
  {
   "cell_type": "code",
   "execution_count": 22,
   "metadata": {},
   "outputs": [
    {
     "name": "stdout",
     "output_type": "stream",
     "text": [
      "\n",
      "1 2 3 4 5 6 7 8 9 10 \n",
      "2 4 6 8 10 12 14 16 18 20 \n",
      "3 6 9 12 15 18 21 24 27 30 \n",
      "4 8 12 16 20 24 28 32 36 40 \n",
      "5 10 15 20 25 30 35 40 45 50 \n",
      "6 12 18 24 30 36 42 48 54 60 \n",
      "7 14 21 28 35 42 49 56 63 70 \n",
      "8 16 24 32 40 48 56 64 72 80 \n",
      "9 18 27 36 45 54 63 72 81 90 \n",
      "10 20 30 40 50 60 70 80 90 100 "
     ]
    }
   ],
   "source": [
    "#function to print multiplication table from 1-10\n",
    "def multiplication_table():\n",
    "    for x in range(1, 11):\n",
    "        print(\"\")\n",
    "\n",
    "        for y in range(1, 11):\n",
    "            print(x * y, end=\" \")\n",
    "multiplication_table()"
   ]
  },
  {
   "cell_type": "markdown",
   "metadata": {},
   "source": [
    "### Question 7\n",
    "7.\tGiven a two list of numbers, write a function to create a new list such that the new list should contain odd numbers from the first list and even numbers from the second list."
   ]
  },
  {
   "cell_type": "code",
   "execution_count": null,
   "metadata": {},
   "outputs": [],
   "source": []
  }
 ],
 "metadata": {
  "kernelspec": {
   "display_name": "Python 3",
   "language": "python",
   "name": "python3"
  },
  "language_info": {
   "codemirror_mode": {
    "name": "ipython",
    "version": 3
   },
   "file_extension": ".py",
   "mimetype": "text/x-python",
   "name": "python",
   "nbconvert_exporter": "python",
   "pygments_lexer": "ipython3",
   "version": "3.7.3"
  }
 },
 "nbformat": 4,
 "nbformat_minor": 2
}
