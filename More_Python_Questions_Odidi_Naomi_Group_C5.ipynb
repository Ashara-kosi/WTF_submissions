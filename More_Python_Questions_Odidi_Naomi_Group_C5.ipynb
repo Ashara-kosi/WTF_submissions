{
  "nbformat": 4,
  "nbformat_minor": 0,
  "metadata": {
    "colab": {
      "provenance": []
    },
    "kernelspec": {
      "name": "python3",
      "display_name": "Python 3"
    },
    "language_info": {
      "name": "python"
    }
  },
  "cells": [
    {
      "cell_type": "markdown",
      "source": [
        "**Write a function to calculate the multiplication and sum of two numbers.**"
      ],
      "metadata": {
        "id": "5cWvBBbsNv2E"
      }
    },
    {
      "cell_type": "code",
      "execution_count": 1,
      "metadata": {
        "colab": {
          "base_uri": "https://localhost:8080/"
        },
        "id": "fysx31Q9MbHw",
        "outputId": "ee359d3d-df5d-47cb-eb7b-7730137c24dc"
      },
      "outputs": [
        {
          "output_type": "stream",
          "name": "stdout",
          "text": [
            "The multiplication and sum are 600 and 50 respectively.\n"
          ]
        }
      ],
      "source": [
        "def tracy(a,b):\n",
        "  multi=a*b \n",
        "  summ=a+b\n",
        "  return multi,summ\n",
        "\n",
        "result=tracy(20,30)\n",
        "print(\"The multiplication and sum are\",result[0],\"and\",result[1],\"respectively.\")"
      ]
    },
    {
      "cell_type": "markdown",
      "source": [
        "**Write a function to print the sum of the current number and the previous number**\n",
        "\n"
      ],
      "metadata": {
        "id": "fcJwerhaSaYT"
      }
    },
    {
      "cell_type": "code",
      "source": [
        "numbers = [5, 10, 15, 20, 25, 30, 30]\n",
        "def shade():\n",
        "  for i in range(len(numbers)):\n",
        "    if i == 0:\n",
        "        print(numbers[i])\n",
        "    else:\n",
        "        print(numbers[i - 1] + numbers[i])\n",
        "shade()"
      ],
      "metadata": {
        "colab": {
          "base_uri": "https://localhost:8080/"
        },
        "id": "vfSciAy0Nwtr",
        "outputId": "1355fee3-238e-48d7-8113-96927ba2f720"
      },
      "execution_count": 2,
      "outputs": [
        {
          "output_type": "stream",
          "name": "stdout",
          "text": [
            "5\n",
            "15\n",
            "25\n",
            "35\n",
            "45\n",
            "55\n",
            "60\n"
          ]
        }
      ]
    },
    {
      "cell_type": "markdown",
      "source": [
        "**Write a function to print characters from a string that are present at an even index number**"
      ],
      "metadata": {
        "id": "3kIAuheyYMEg"
      }
    },
    {
      "cell_type": "code",
      "source": [
        "def jessi():\n",
        "  s=str(input(\"Enter a string character: \"))\n",
        "  print(\"The characters present in the even index are: \", s[0::2])\n",
        "jessi()"
      ],
      "metadata": {
        "colab": {
          "base_uri": "https://localhost:8080/"
        },
        "id": "TvlteAWabYdb",
        "outputId": "e27c8726-93cc-480a-ca59-2bb617848ddb"
      },
      "execution_count": 3,
      "outputs": [
        {
          "output_type": "stream",
          "name": "stdout",
          "text": [
            "Enter a string character: Ifemade\n",
            "The characters present in the even index are:  Ieae\n"
          ]
        }
      ]
    },
    {
      "cell_type": "markdown",
      "source": [
        "**Write a function to remove first characters from a string**"
      ],
      "metadata": {
        "id": "rIeh2XM2c7d5"
      }
    },
    {
      "cell_type": "code",
      "source": [
        "def tade():\n",
        "  s=str(input(\"Enter a string character: \"))\n",
        "  print(\"The new string is \", s[1::])\n",
        "tade()"
      ],
      "metadata": {
        "colab": {
          "base_uri": "https://localhost:8080/"
        },
        "id": "EH4tc0GQcWnn",
        "outputId": "1c26c350-8ee3-491a-edb8-a3f588470f07"
      },
      "execution_count": 4,
      "outputs": [
        {
          "output_type": "stream",
          "name": "stdout",
          "text": [
            "Enter a string character: Cookiestuff\n",
            "The new string is  ookiestuff\n"
          ]
        }
      ]
    },
    {
      "cell_type": "markdown",
      "source": [
        "**Write a function to check if the first and last number of a list is the same**"
      ],
      "metadata": {
        "id": "z1mzhxgHdsDe"
      }
    },
    {
      "cell_type": "code",
      "source": [
        "list = [10, 20, 30, 40, 10]\n",
        "def jes():\n",
        "  if list[0] == list[-1]:\n",
        "    print('Result is True')\n",
        "  else:\n",
        "    print('Result is False')\n",
        "jes()"
      ],
      "metadata": {
        "colab": {
          "base_uri": "https://localhost:8080/"
        },
        "id": "4D4diOVBdlDT",
        "outputId": "af6ce83c-7536-4e7d-c3ba-f2f5e7c40147"
      },
      "execution_count": 5,
      "outputs": [
        {
          "output_type": "stream",
          "name": "stdout",
          "text": [
            "Result is True\n"
          ]
        }
      ]
    },
    {
      "cell_type": "markdown",
      "source": [
        "**Write a function to print multiplication table from 1 to 10**"
      ],
      "metadata": {
        "id": "_h-r8Cm0fs6y"
      }
    },
    {
      "cell_type": "code",
      "source": [
        "def tables():\n",
        "    for x in range(1, 11):\n",
        "        print(\"Multiplication Table for {}\".format(x))\n",
        "        for y in range(1, 11):\n",
        "            print(x * y, end=\" \")\n",
        "        print()\n",
        "tables()"
      ],
      "metadata": {
        "colab": {
          "base_uri": "https://localhost:8080/"
        },
        "id": "lIYRSBTcfpMw",
        "outputId": "34ceb889-0e44-4352-dff8-984ace43a2bd"
      },
      "execution_count": 6,
      "outputs": [
        {
          "output_type": "stream",
          "name": "stdout",
          "text": [
            "Multiplication Table for 1\n",
            "1 2 3 4 5 6 7 8 9 10 \n",
            "Multiplication Table for 2\n",
            "2 4 6 8 10 12 14 16 18 20 \n",
            "Multiplication Table for 3\n",
            "3 6 9 12 15 18 21 24 27 30 \n",
            "Multiplication Table for 4\n",
            "4 8 12 16 20 24 28 32 36 40 \n",
            "Multiplication Table for 5\n",
            "5 10 15 20 25 30 35 40 45 50 \n",
            "Multiplication Table for 6\n",
            "6 12 18 24 30 36 42 48 54 60 \n",
            "Multiplication Table for 7\n",
            "7 14 21 28 35 42 49 56 63 70 \n",
            "Multiplication Table for 8\n",
            "8 16 24 32 40 48 56 64 72 80 \n",
            "Multiplication Table for 9\n",
            "9 18 27 36 45 54 63 72 81 90 \n",
            "Multiplication Table for 10\n",
            "10 20 30 40 50 60 70 80 90 100 \n"
          ]
        }
      ]
    },
    {
      "cell_type": "markdown",
      "source": [
        "**Given a two list of numbers, write a function to create a new list such that the new list should contain odd numbers from the first list and even numbers from the second list.**"
      ],
      "metadata": {
        "id": "NCgVpI3ggz7y"
      }
    },
    {
      "cell_type": "code",
      "source": [
        "l1 = [2,5,8,12,4,6,87,32,65]\n",
        "l2 = [1,6,3,90,4,5,32,4]\n",
        "def cook():\n",
        "  l3 = [n for n in l1 if n%2]+[n for n in l2 if not n%2]\n",
        "  return l3\n",
        "cook()"
      ],
      "metadata": {
        "colab": {
          "base_uri": "https://localhost:8080/"
        },
        "id": "fZikSNzmgJHw",
        "outputId": "2c7995ce-709b-433a-eaac-4c5a31231474"
      },
      "execution_count": 7,
      "outputs": [
        {
          "output_type": "execute_result",
          "data": {
            "text/plain": [
              "[5, 87, 65, 6, 90, 4, 32, 4]"
            ]
          },
          "metadata": {},
          "execution_count": 7
        }
      ]
    },
    {
      "cell_type": "code",
      "source": [
        "l1 = range(1,12)\n",
        "l2 = range(20,30)\n",
        "def cook():\n",
        "  l3 = [n for n in l1 if n%2]+[n for n in l2 if not n%2]\n",
        "  return l3\n",
        "cook()"
      ],
      "metadata": {
        "colab": {
          "base_uri": "https://localhost:8080/"
        },
        "id": "qMJVVlDDiHUZ",
        "outputId": "90de7897-9e04-42d8-b65f-0b2ff1580e9b"
      },
      "execution_count": 8,
      "outputs": [
        {
          "output_type": "execute_result",
          "data": {
            "text/plain": [
              "[1, 3, 5, 7, 9, 11, 20, 22, 24, 26, 28]"
            ]
          },
          "metadata": {},
          "execution_count": 8
        }
      ]
    },
    {
      "cell_type": "code",
      "source": [],
      "metadata": {
        "id": "Y_ODKY7aiUhm"
      },
      "execution_count": 8,
      "outputs": []
    }
  ]
}