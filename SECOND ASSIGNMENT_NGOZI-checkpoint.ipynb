{
 "cells": [
  {
   "cell_type": "code",
   "execution_count": 1,
   "id": "2ee4dffb",
   "metadata": {},
   "outputs": [
    {
     "name": "stdout",
     "output_type": "stream",
     "text": [
      "0 EVEN\n",
      "1 ODD\n",
      "2 EVEN\n",
      "3 ODD\n",
      "4 EVEN\n",
      "5 ODD\n"
     ]
    }
   ],
   "source": [
    "#1. Write a function called showNumbers that takes a parameter called limit. It should print all the numbers between 0 and limit with a label to identify the even and odd numbers.For example, if the limit is 3, it should print:0 EVEN 1 ODD 2 EVEN 3 ODD\n",
    "def showNumbers(limit):\n",
    "    new_list=[]\n",
    "    for n in range(0,limit+1):\n",
    "        if n%2==0:\n",
    "            new_list.append(\"EVEN\")\n",
    "        else:\n",
    "            new_list.append(\"ODD\")\n",
    "    for value,i in enumerate(new_list,start=0):\n",
    "        print(value,i)\n",
    "\n",
    "(showNumbers(5))"
   ]
  },
  {
   "cell_type": "code",
   "execution_count": 6,
   "id": "3a6e578d",
   "metadata": {},
   "outputs": [
    {
     "name": "stdout",
     "output_type": "stream",
     "text": [
      "593\n"
     ]
    }
   ],
   "source": [
    "#2. Write a function that returns the sum of multiples of 3 and 5 between 0 and limit (parameter). For example, if limit is 20, it should return the sum of 3, 5, 6, 9, 10,12, 15, 18, 20\n",
    "def multiples(limit):\n",
    "    new_list=[]\n",
    "    for x in range(0,limit+1):\n",
    "        if (x%3==0) or (x%5==0):\n",
    "            new_list.append(x)\n",
    "    return sum(new_list)\n",
    "\n",
    "print(multiples(50))"
   ]
  },
  {
   "cell_type": "code",
   "execution_count": 9,
   "id": "dd71b440",
   "metadata": {},
   "outputs": [
    {
     "name": "stdout",
     "output_type": "stream",
     "text": [
      "***************\n"
     ]
    }
   ],
   "source": [
    "#3. Write a function called show_stars(rows). If rows is 5, it should print thefollowing:***************\n",
    "def rows(row):\n",
    "    rower=\"***\"\n",
    "    return row*rower\n",
    "\n",
    "print(rows(5))"
   ]
  },
  {
   "cell_type": "code",
   "execution_count": 11,
   "id": "135491b3",
   "metadata": {},
   "outputs": [
    {
     "name": "stdout",
     "output_type": "stream",
     "text": [
      "[3, 5, 7, 9, 11, 13, 15, 17, 19, 21, 23, 25, 27, 29, 31, 33, 35, 37, 39, 41, 43, 45, 47, 49]\n"
     ]
    }
   ],
   "source": [
    "#4. Write a function that prints all the prime numbers between 0 and limit where limit is a parameter.\n",
    "def prime_nums(limit):\n",
    "    new_list=[]\n",
    "    for n in range(0, limit+1):\n",
    "        if n > 1:\n",
    "            for i in range(2, n):\n",
    "                if n % i ==0:\n",
    "                    break\n",
    "                else:\n",
    "                    \n",
    "                    new_list.append(n)\n",
    "                    break\n",
    "    return new_list\n",
    "print(prime_num(50))\n"
   ]
  },
  {
   "cell_type": "code",
   "execution_count": 12,
   "id": "767b31bb",
   "metadata": {},
   "outputs": [
    {
     "name": "stdout",
     "output_type": "stream",
     "text": [
      "[1, 2, 3, 6, 8, 10, 20]\n"
     ]
    }
   ],
   "source": [
    "#5. Write a program (function!) that takes a list and returns a new list that contains all the elements of the first list minus all the duplicates\n",
    "def minus_dup(any_list):\n",
    "    new_list = set(any_list)\n",
    "    return list(new_list)\n",
    "\n",
    "print(minus_dup([1,2,3,3,10,10,8,6,20,20]))\n"
   ]
  },
  {
   "cell_type": "code",
   "execution_count": 13,
   "id": "0094a68d",
   "metadata": {},
   "outputs": [
    {
     "name": "stdout",
     "output_type": "stream",
     "text": [
      "Enter a number:50\n",
      "50 is not a prime number\n",
      "[]\n"
     ]
    }
   ],
   "source": [
    "#6. Write a function to ask the user for a number and determine whether the number is prime or not.\n",
    "def prime_determiner():\n",
    "    num=int(input(\"Enter a number:\"))\n",
    "    message = \"\"\n",
    "    for i in range(2,num):\n",
    "        if num % i ==0:\n",
    "            message= \"{} is not a prime number\"\n",
    "            break\n",
    "    if message == \"\":\n",
    "        message= \"{} is a prime number\"\n",
    "    return message.format(num)\n",
    "print(prime_determiner())\n",
    "num=[i for i in range(2,2)]\n",
    "print(num)\n"
   ]
  },
  {
   "cell_type": "code",
   "execution_count": 14,
   "id": "137aeb02",
   "metadata": {},
   "outputs": [
    {
     "name": "stdout",
     "output_type": "stream",
     "text": [
      "5: 6\n",
      "[1, 1, 2, 3, 5, 8]\n"
     ]
    }
   ],
   "source": [
    "#7. Write a program that asks the user how many Fibonnaci numbers to generate and then generates them.\n",
    "def fibonacci():\n",
    "    num = int(input(\"5: \"))\n",
    "    x = 1\n",
    "    if num == 0:\n",
    "        fib = []\n",
    "    elif num == 1:\n",
    "        fib = [1]\n",
    "    elif num == 2:\n",
    "        fib = [1,1]\n",
    "    elif num > 2:\n",
    "        fib = [1,1]\n",
    "        while i < (num - 1):\n",
    "            fib.append(fib[x] + fib[x-1])\n",
    "            x += 1\n",
    "    return fib\n",
    "print (fibonacci())"
   ]
  },
  {
   "cell_type": "code",
   "execution_count": 15,
   "id": "ee9fe143",
   "metadata": {},
   "outputs": [
    {
     "name": "stdout",
     "output_type": "stream",
     "text": [
      "Enter any word: mama\n",
      "mama is not a palindrome\n"
     ]
    }
   ],
   "source": [
    "#8. Write a function that ask the user for a string and print out whether this string is a palindrome or not.\n",
    "def palindrome_determiner():\n",
    "    a_str = input(\"Enter any word: \")\n",
    "    if a_str==a_str[::-1]:\n",
    "        message=\"{} is a palindrome\"\n",
    "    else:\n",
    "        message=\"{} is not a palindrome\"\n",
    "    return message.format(a_str)\n",
    "print(palindrome_determiner())"
   ]
  },
  {
   "cell_type": "code",
   "execution_count": 16,
   "id": "596d448f",
   "metadata": {},
   "outputs": [
    {
     "name": "stdout",
     "output_type": "stream",
     "text": [
      "Which number do you want to look for?100\n",
      "The list doesn't contain 100.\n"
     ]
    }
   ],
   "source": [
    "a = [1, 3, 5, 30, 42, 43, 500]\n",
    "\n",
    "q=int(input('Which number do you want to look for?'))\n",
    " \n",
    "while a != []:\n",
    "\n",
    "    #print(a)\n",
    "\n",
    "    mid=int(len(a)/2)\n",
    "\n",
    "    #print(a[mid])\n",
    "\n",
    "    if q==a[mid]:\n",
    "\n",
    "        print('The list contains %d.' % q)\n",
    "\n",
    "        quit()\n",
    "\n",
    "        \n",
    "\n",
    "    elif q>a[mid]:\n",
    "\n",
    "        #print('higher')\n",
    "\n",
    "        del a[:mid+1]\n",
    "\n",
    " \n",
    "\n",
    "    elif q<a[mid]:\n",
    "\n",
    "        #print('lower')\n",
    "\n",
    "        del a[mid:]\n",
    "\n",
    " \n",
    "\n",
    "   \n",
    "#print(a)\n",
    "\n",
    " \n",
    "\n",
    "print('''The list doesn't contain %d.''' % q)"
   ]
  },
  {
   "cell_type": "code",
   "execution_count": 17,
   "id": "e7326e45",
   "metadata": {},
   "outputs": [
    {
     "name": "stdout",
     "output_type": "stream",
     "text": [
      "Enter your name: Annie\n",
      "Enter your age: 26\n",
      "what year are we in, Buddy: 2022\n",
      "Dear Annie, you will turn 100 in the year 2096.\n"
     ]
    }
   ],
   "source": [
    "#10. Create a program that asks the user to enter their name and their age. Print out amessage addressed to them that tells them the year that they will turn 100 years old\n",
    "def age_checker():\n",
    "    user_name = input(\"Enter your name: \")\n",
    "    user_age = int(input(\"Enter your age: \"))\n",
    "    year= int(input(\"what year are we in, Buddy: \"))\n",
    "    year_of_birth= year - user_age\n",
    "    jubilee_year= year_of_birth + 100\n",
    "    answer=\"Dear {}, you will turn 100 in the year {}.\"\n",
    "    return answer.format(user_name,jubilee_year)\n",
    "print(age_checker())"
   ]
  },
  {
   "cell_type": "code",
   "execution_count": null,
   "id": "bf5fca5b",
   "metadata": {},
   "outputs": [],
   "source": []
  }
 ],
 "metadata": {
  "kernelspec": {
   "display_name": "Python 3 (ipykernel)",
   "language": "python",
   "name": "python3"
  },
  "language_info": {
   "codemirror_mode": {
    "name": "ipython",
    "version": 3
   },
   "file_extension": ".py",
   "mimetype": "text/x-python",
   "name": "python",
   "nbconvert_exporter": "python",
   "pygments_lexer": "ipython3",
   "version": "3.9.12"
  }
 },
 "nbformat": 4,
 "nbformat_minor": 5
}
