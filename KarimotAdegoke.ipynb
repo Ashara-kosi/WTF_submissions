{
 "cells": [
  {
   "cell_type": "markdown",
   "id": "2c31c713",
   "metadata": {},
   "source": [
    "## 1. Write a function to calculate the multiplication and sum of two numbers."
   ]
  },
  {
   "cell_type": "code",
   "execution_count": 1,
   "id": "323a8660",
   "metadata": {},
   "outputs": [],
   "source": [
    "# This function calculate the multiplication and addition (sum) of two integers var1 and var2\n",
    "# The Product and Add variable are defined locally inside the function\n",
    "def cal_Mul_Sum(var1,var2):\n",
    "    product = var1 * var2\n",
    "    add = var1 + var2\n",
    "    print('The product of two integers',var1,'and',var2,'is',product)\n",
    "    print('The sum of two integers',var1,'and',var2,'is',add)        "
   ]
  },
  {
   "cell_type": "code",
   "execution_count": 2,
   "id": "4a6bd8f1",
   "metadata": {},
   "outputs": [
    {
     "name": "stdout",
     "output_type": "stream",
     "text": [
      "The product of two integers 27 and 10 is 270\n",
      "The sum of two integers 27 and 10 is 37\n"
     ]
    }
   ],
   "source": [
    "cal_Mul_Sum(27,10)"
   ]
  },
  {
   "cell_type": "markdown",
   "id": "72155814",
   "metadata": {},
   "source": [
    "## 2. Write a function to print the sum of the current number and the previous number"
   ]
  },
  {
   "cell_type": "code",
   "execution_count": 6,
   "id": "7660c841",
   "metadata": {},
   "outputs": [],
   "source": [
    "# This function print the sum of the current number and the previous number\n",
    "# This function take the current_no as the function parameter and the previous_no is initialized to 0\n",
    "def sum_Current_Prev(current_no):\n",
    "    prev_no = 0\n",
    "    for i in range(1,current_no+1):\n",
    "        print('previous number', prev_no,'and','current number',i,'summation is',prev_no + i)\n",
    "        prev_no = i"
   ]
  },
  {
   "cell_type": "code",
   "execution_count": 7,
   "id": "91f375f1",
   "metadata": {},
   "outputs": [
    {
     "name": "stdout",
     "output_type": "stream",
     "text": [
      "previous number 0 and current number 1 summation is 1\n",
      "previous number 1 and current number 2 summation is 3\n",
      "previous number 2 and current number 3 summation is 5\n"
     ]
    }
   ],
   "source": [
    "sum_Current_Prev(3)"
   ]
  },
  {
   "cell_type": "markdown",
   "id": "4d98dcc8",
   "metadata": {},
   "source": [
    "### 3. Write a function to print characters from a string that are present at an even index number"
   ]
  },
  {
   "cell_type": "code",
   "execution_count": 8,
   "id": "6a8c6576",
   "metadata": {},
   "outputs": [],
   "source": [
    "# The function print the characters at even index number in a string\n",
    "# This function print string characters at evem index i.e. 0,2,4 etc.\n",
    "def print_Even_Char(string):\n",
    "    even_string = []\n",
    "    for i in range(len(string)):\n",
    "        if i % 2 == 0:\n",
    "            even_string.append(string[i])\n",
    "    return even_string"
   ]
  },
  {
   "cell_type": "code",
   "execution_count": 14,
   "id": "f07c521e",
   "metadata": {},
   "outputs": [
    {
     "data": {
      "text/plain": [
       "['M', 'o', 'c', 'o']"
      ]
     },
     "execution_count": 14,
     "metadata": {},
     "output_type": "execute_result"
    }
   ],
   "source": [
    "print_Even_Char('Maoscoot')"
   ]
  },
  {
   "cell_type": "markdown",
   "id": "ace64911",
   "metadata": {},
   "source": [
    "## 4. Write a function to remove first characters from a string"
   ]
  },
  {
   "cell_type": "code",
   "execution_count": 16,
   "id": "4b2ca1af",
   "metadata": {},
   "outputs": [],
   "source": [
    "#This function print string excluding the first character of the string\n",
    "# The function works using slicing and indexing\n",
    "def remove_first(string):\n",
    "    print(string[1:])"
   ]
  },
  {
   "cell_type": "code",
   "execution_count": 17,
   "id": "1e9373ba",
   "metadata": {},
   "outputs": [
    {
     "name": "stdout",
     "output_type": "stream",
     "text": [
      "karimot\n"
     ]
    }
   ],
   "source": [
    "remove_first('Kkarimot')"
   ]
  },
  {
   "cell_type": "markdown",
   "id": "ee6a3251",
   "metadata": {},
   "source": [
    "## 5. Write a function to check if the first and last number of a list is the same"
   ]
  },
  {
   "cell_type": "code",
   "execution_count": 116,
   "id": "f097c854",
   "metadata": {},
   "outputs": [],
   "source": [
    "# This function use slicing and index to check if the first number in a list with index[0] is the same with that at index[-1]\n",
    "def check_intlist(numbers):\n",
    "    if numbers[0] == numbers[-1]:\n",
    "        print('The first and last number in this list is the same')\n",
    "    else:\n",
    "        print('The first and last number in this list is different')"
   ]
  },
  {
   "cell_type": "code",
   "execution_count": 22,
   "id": "290c9809",
   "metadata": {},
   "outputs": [
    {
     "name": "stdout",
     "output_type": "stream",
     "text": [
      "The first and last number in this list is the same\n"
     ]
    }
   ],
   "source": [
    "check_intlist([1,2,5,6,1])"
   ]
  },
  {
   "cell_type": "code",
   "execution_count": 117,
   "id": "858c7788",
   "metadata": {},
   "outputs": [
    {
     "name": "stdout",
     "output_type": "stream",
     "text": [
      "The first and last number in this list is different\n"
     ]
    }
   ],
   "source": [
    "check_intlist([1,2,5,6,3])"
   ]
  },
  {
   "cell_type": "markdown",
   "id": "b9919a2c",
   "metadata": {},
   "source": [
    "## 6. Write a function to print multiplication table from 1 to 10"
   ]
  },
  {
   "cell_type": "code",
   "execution_count": 107,
   "id": "3301a3a6",
   "metadata": {},
   "outputs": [],
   "source": [
    "# This function solve the multiplication from 1 to 10\n",
    "def Multiplication_Table(number):\n",
    "    count = 1\n",
    "    for num in range(1,11):\n",
    "        for ratio in range(1,11):\n",
    "            print (num,'x',ratio,'=',num*ratio,'\\t',end='') # escape sequence \\t - tab was used to arrange \n",
    "    count = count + 1"
   ]
  },
  {
   "cell_type": "code",
   "execution_count": 108,
   "id": "a44e217b",
   "metadata": {},
   "outputs": [
    {
     "name": "stdout",
     "output_type": "stream",
     "text": [
      "1 x 1 = 1 \t1 x 2 = 2 \t1 x 3 = 3 \t1 x 4 = 4 \t1 x 5 = 5 \t1 x 6 = 6 \t1 x 7 = 7 \t1 x 8 = 8 \t1 x 9 = 9 \t1 x 10 = 10 \t2 x 1 = 2 \t2 x 2 = 4 \t2 x 3 = 6 \t2 x 4 = 8 \t2 x 5 = 10 \t2 x 6 = 12 \t2 x 7 = 14 \t2 x 8 = 16 \t2 x 9 = 18 \t2 x 10 = 20 \t3 x 1 = 3 \t3 x 2 = 6 \t3 x 3 = 9 \t3 x 4 = 12 \t3 x 5 = 15 \t3 x 6 = 18 \t3 x 7 = 21 \t3 x 8 = 24 \t3 x 9 = 27 \t3 x 10 = 30 \t4 x 1 = 4 \t4 x 2 = 8 \t4 x 3 = 12 \t4 x 4 = 16 \t4 x 5 = 20 \t4 x 6 = 24 \t4 x 7 = 28 \t4 x 8 = 32 \t4 x 9 = 36 \t4 x 10 = 40 \t5 x 1 = 5 \t5 x 2 = 10 \t5 x 3 = 15 \t5 x 4 = 20 \t5 x 5 = 25 \t5 x 6 = 30 \t5 x 7 = 35 \t5 x 8 = 40 \t5 x 9 = 45 \t5 x 10 = 50 \t6 x 1 = 6 \t6 x 2 = 12 \t6 x 3 = 18 \t6 x 4 = 24 \t6 x 5 = 30 \t6 x 6 = 36 \t6 x 7 = 42 \t6 x 8 = 48 \t6 x 9 = 54 \t6 x 10 = 60 \t7 x 1 = 7 \t7 x 2 = 14 \t7 x 3 = 21 \t7 x 4 = 28 \t7 x 5 = 35 \t7 x 6 = 42 \t7 x 7 = 49 \t7 x 8 = 56 \t7 x 9 = 63 \t7 x 10 = 70 \t8 x 1 = 8 \t8 x 2 = 16 \t8 x 3 = 24 \t8 x 4 = 32 \t8 x 5 = 40 \t8 x 6 = 48 \t8 x 7 = 56 \t8 x 8 = 64 \t8 x 9 = 72 \t8 x 10 = 80 \t9 x 1 = 9 \t9 x 2 = 18 \t9 x 3 = 27 \t9 x 4 = 36 \t9 x 5 = 45 \t9 x 6 = 54 \t9 x 7 = 63 \t9 x 8 = 72 \t9 x 9 = 81 \t9 x 10 = 90 \t10 x 1 = 10 \t10 x 2 = 20 \t10 x 3 = 30 \t10 x 4 = 40 \t10 x 5 = 50 \t10 x 6 = 60 \t10 x 7 = 70 \t10 x 8 = 80 \t10 x 9 = 90 \t10 x 10 = 100 \t"
     ]
    }
   ],
   "source": [
    "Multiplication_Table(10)"
   ]
  },
  {
   "cell_type": "markdown",
   "id": "9b385f41",
   "metadata": {},
   "source": [
    "## 7. Given a two list of numbers, write a function to create a new list such that the new list should contain odd numbers from the first list and even numbers from the second list."
   ]
  },
  {
   "cell_type": "code",
   "execution_count": 114,
   "id": "4ce8b47b",
   "metadata": {},
   "outputs": [],
   "source": [
    "# This function takes two lists FirstList and SecondList and check if odd from FirstList and if even from SecondList\n",
    "# finally append the odd to a list called new and the even too \n",
    "def NewList(FirstList,SecondList):\n",
    "    new = []\n",
    "    for numbers in (FirstList):\n",
    "        if numbers % 2 != 0:\n",
    "            new.append(numbers)\n",
    "    for numbers in (SecondList):\n",
    "        if numbers % 2 == 0:\n",
    "            new.append(numbers)\n",
    "    print (new)        "
   ]
  },
  {
   "cell_type": "code",
   "execution_count": 115,
   "id": "6e12a9fd",
   "metadata": {},
   "outputs": [
    {
     "name": "stdout",
     "output_type": "stream",
     "text": [
      "[5, 7, 9, 4, 10, 20]\n"
     ]
    }
   ],
   "source": [
    "NewList([4,5,7,9,10],[4,7,10,20,5])"
   ]
  },
  {
   "cell_type": "code",
   "execution_count": null,
   "id": "3567011c",
   "metadata": {},
   "outputs": [],
   "source": []
  }
 ],
 "metadata": {
  "kernelspec": {
   "display_name": "Python 3 (ipykernel)",
   "language": "python",
   "name": "python3"
  },
  "language_info": {
   "codemirror_mode": {
    "name": "ipython",
    "version": 3
   },
   "file_extension": ".py",
   "mimetype": "text/x-python",
   "name": "python",
   "nbconvert_exporter": "python",
   "pygments_lexer": "ipython3",
   "version": "3.9.12"
  }
 },
 "nbformat": 4,
 "nbformat_minor": 5
}
