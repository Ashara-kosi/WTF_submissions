{
 "cells": [
  {
   "cell_type": "code",
   "execution_count": null,
   "id": "5283af60",
   "metadata": {},
   "outputs": [],
   "source": [
    "#Question 1\n",
    "#Write a function called showNumbers that takes a parameter called limit.\n",
    "def showNumbers(limit):\n",
    "    for num in range(limit+1):\n",
    "        if num % 2 == 0:\n",
    "            print (num, \"EVEN\")\n",
    "        if num % 2 == 1:\n",
    "            print (num, \"ODD\")\n",
    "showNumbers(5)"
   ]
  },
  {
   "cell_type": "code",
   "execution_count": null,
   "id": "b90702b9",
   "metadata": {},
   "outputs": [],
   "source": [
    "#Question 2\n",
    "#Write a function that returns the sum of multiples of 3 and 5 between 0 and limit (parameter)\n",
    "def sum_multiple(number):\n",
    "    x = []\n",
    "    for i in range(0, number + 1):\n",
    "        if i % 3 == 0:\n",
    "            x.append(i)\n",
    "        if i % 5 == 0:\n",
    "            x.append(i)\n",
    "    new_list = []\n",
    "    for n in x:\n",
    "        if n not in new_list:\n",
    "            new_list.append(n)\n",
    "    for n in new_list:\n",
    "        print(new_list)\n",
    "    sum = 0\n",
    "    for i in new_list:\n",
    "        sum = sum + i\n",
    "    print(\"the sum of multiples of 3 and 5 in the list is\", sum)\n",
    "    \n",
    "sum_multiple(20)"
   ]
  },
  {
   "cell_type": "code",
   "execution_count": null,
   "id": "2c290aff",
   "metadata": {},
   "outputs": [],
   "source": [
    "#Question 3\n",
    "#Write a function to print stars when input is 5.\n",
    "def show_stars(rows):\n",
    "    if rows == 5:\n",
    "        print('***************')\n",
    "    else:\n",
    "        print(\" \")\n",
    "        \n",
    "show_stars(5)"
   ]
  },
  {
   "cell_type": "code",
   "execution_count": null,
   "id": "d9977fc4",
   "metadata": {},
   "outputs": [],
   "source": [
    "#Question 4\n",
    "#Write a function that prints prime numbers in a range\n",
    "limit = 30\n",
    "\n",
    "print(\"Prime numbers between\", 0, \"and\", limit, \"are:\")\n",
    "\n",
    "def prime_num(limit):\n",
    "    for num in range(0, limit + 1):\n",
    "        if num > 1:\n",
    "            for i in range(2, num):\n",
    "                 if (num % i) == 0:\n",
    "                   break\n",
    "            else:\n",
    "                 print(num)\n",
    "prime_num(30)"
   ]
  },
  {
   "cell_type": "code",
   "execution_count": null,
   "id": "35058fac",
   "metadata": {},
   "outputs": [],
   "source": [
    "#Question 5\n",
    "#Write a function that creates a new list without duplicates.\n",
    "def unique(first_list):\n",
    "    unique_list = []\n",
    "    for x in first_list:\n",
    "        if x not in unique_list:\n",
    "            unique_list.append(x)\n",
    "    return (unique_list)\n",
    "unique([1,2,3,3,4,5,1,6])"
   ]
  },
  {
   "cell_type": "code",
   "execution_count": null,
   "id": "84fef0c8",
   "metadata": {},
   "outputs": [],
   "source": [
    "#Question 6\n",
    "#Write a function to determine if number is prime or not\n",
    "def isprime(num):\n",
    "    if num >1:\n",
    "        for i in range(2, num):\n",
    "            if (num % i) == 0:\n",
    "                return(\"not prime number\")\n",
    "        return(\"prime number\")\n",
    "    else:\n",
    "        return(\"prime number\")\n",
    "isprime(30)\n",
    "isprime(5)"
   ]
  },
  {
   "cell_type": "code",
   "execution_count": null,
   "id": "6b49d563",
   "metadata": {},
   "outputs": [],
   "source": [
    "#Question 7\n",
    "#Write a function to generate Fibonacci numbers\n",
    "num = int(input(\"enter a number\"))\n",
    "print(\"your fibonacci number is\")\n",
    "def fibonacci(num):\n",
    "    if num <= 0:\n",
    "        print(\"enter a positive number\")\n",
    "    elif num ==1 or num == 2:\n",
    "        return 1\n",
    "    else:\n",
    "        return fibonacci(num - 1) + fibonacci(num - 2)\n",
    "fibonacci(num)"
   ]
  },
  {
   "cell_type": "code",
   "execution_count": null,
   "id": "8cd62fe4",
   "metadata": {},
   "outputs": [],
   "source": [
    "#Question 8\n",
    "#Write a function to check if string is palindrome or not\n",
    "string = input(\"enter a string:\")\n",
    "def is_palindrome(string):\n",
    "    if string == string[::-1]:\n",
    "        print (\"palindrome\")\n",
    "    else:\n",
    "        print (\"not palindrome\""
   ]
  },
  {
   "cell_type": "code",
   "execution_count": null,
   "id": "f5b41170",
   "metadata": {},
   "outputs": [],
   "source": [
    "#Question 10\n",
    "#Write a function to predict age in 100 years\n",
    "def age_in_100():\n",
    "    print(\"Enter your name:\")\n",
    "    name = str(input())\n",
    "    print(\"Enter your age:\")\n",
    "    age = int(input())\n",
    "    year = datetime.date.today().year\n",
    "    predict_year = (year - age) + 100\n",
    "    print(\"Hello\", name, \"you will be hundred years in\")\n",
    "    return(predict_year)"
   ]
  },
  {
   "cell_type": "code",
   "execution_count": null,
   "id": "60ff2ade",
   "metadata": {},
   "outputs": [],
   "source": [
    "#Question 9\n",
    "#Write a function to order numbers in a list\n",
    "def number_sort(x):\n",
    "    x.sort()\n",
    "    print(x)\n",
    "x = [1,5,2,3]\n",
    "number.sort()"
   ]
  },
  {
   "cell_type": "code",
   "execution_count": null,
   "id": "6f6f23ca",
   "metadata": {},
   "outputs": [],
   "source": []
  }
 ],
 "metadata": {
  "kernelspec": {
   "display_name": "Python 3 (ipykernel)",
   "language": "python",
   "name": "python3"
  },
  "language_info": {
   "codemirror_mode": {
    "name": "ipython",
    "version": 3
   },
   "file_extension": ".py",
   "mimetype": "text/x-python",
   "name": "python",
   "nbconvert_exporter": "python",
   "pygments_lexer": "ipython3",
   "version": "3.9.12"
  }
 },
 "nbformat": 4,
 "nbformat_minor": 5
}
