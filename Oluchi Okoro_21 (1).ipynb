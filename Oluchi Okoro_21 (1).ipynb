{
 "cells": [
  {
   "cell_type": "code",
   "execution_count": 1,
   "id": "e33fc486",
   "metadata": {},
   "outputs": [
    {
     "name": "stdout",
     "output_type": "stream",
     "text": [
      "0Even\n",
      "1Odd\n",
      "2Even\n",
      "3Odd\n",
      "None\n"
     ]
    }
   ],
   "source": [
    "1.#Write a function called showNumbers that takes a parameter called limit. It should print all the numbers between 0 and limit with a label to identify the even and odd numbers.For example, if the limit is 3, it should print:0 EVEN 1 ODD 2 EVEN 3 ODD\n",
    "\n",
    "def showNumbers(limit):\n",
    "    \n",
    "    for i in range(0,limit):\n",
    "        if i==0:\n",
    "            print(i,end=\"\")\n",
    "            print(\"Even\")\n",
    "        elif i%2==0:\n",
    "            print(i,end=\"\")\n",
    "            print(\"Even\")\n",
    "                   \n",
    "        else:\n",
    "            print(i,end=\"\")\n",
    "            print(\"Odd\")\n",
    "print(showNumbers(4))"
   ]
  },
  {
   "cell_type": "code",
   "execution_count": 2,
   "id": "84f35501",
   "metadata": {},
   "outputs": [
    {
     "name": "stdout",
     "output_type": "stream",
     "text": [
      "enter the limit number:21\n",
      "[3, 5, 6, 9, 10, 12, 15, 15, 18, 20]\n"
     ]
    }
   ],
   "source": [
    "2. #Write a function that returns the sum of multiples of 3 and 5 between 0 and limit (parameter). For example, if limit is 20, it should return the sum of 3, 5, 6, 9, 10,\n",
    "12, 15, 18, 20.\n",
    "\n",
    "def sum_multiples(limit):\n",
    "    sum=[]\n",
    "    \n",
    "    for num in range (1,limit):\n",
    "        if num % 3==0:\n",
    "            sum.append(num)\n",
    "        \n",
    "        if num % 5==0:\n",
    "            sum.append(num)\n",
    "    print(sum)\n",
    "    \n",
    "sum_multiples(int(input(\"enter the limit number:\")))"
   ]
  },
  {
   "cell_type": "code",
   "execution_count": 3,
   "id": "fc29f990",
   "metadata": {},
   "outputs": [
    {
     "name": "stdout",
     "output_type": "stream",
     "text": [
      "*\n",
      "**\n",
      "***\n",
      "****\n",
      "*****\n"
     ]
    }
   ],
   "source": [
    "3. #Write a function called show_stars(rows). If rows is 5, it should print the following:***************\n",
    "\n",
    "def show_stars(rows):\n",
    "    for i in range (1,rows + 1):\n",
    "        print(\"*\" * i)\n",
    "        \n",
    "show_stars(5)"
   ]
  },
  {
   "cell_type": "code",
   "execution_count": 7,
   "id": "d32deb2b",
   "metadata": {},
   "outputs": [
    {
     "name": "stdout",
     "output_type": "stream",
     "text": [
      "Enter a limit:5\n",
      "3\n",
      "5\n",
      "5\n",
      "5\n"
     ]
    }
   ],
   "source": [
    "4. #Write a function that prints all the prime numbers between 0 and limit where limit is a parameter.\n",
    "\n",
    "def prime_nums(limit):\n",
    "    limit=int(input(\"Enter a limit:\"))\n",
    "    for num in range(0,limit+1):\n",
    "        if num > 1:\n",
    "            for i in range (2,num):\n",
    "                if (num % i)==0:\n",
    "                    break\n",
    "                else:\n",
    "                    print(num)\n",
    "prime_nums(3)"
   ]
  },
  {
   "cell_type": "code",
   "execution_count": 8,
   "id": "d12cea40",
   "metadata": {},
   "outputs": [
    {
     "name": "stdout",
     "output_type": "stream",
     "text": [
      "<function dup_item at 0x00000157F146D8B0>\n",
      "<function dup_item2 at 0x00000157F2F9D8B0>\n"
     ]
    }
   ],
   "source": [
    "5. #Write a program (function!) that takes a list and returns a new list that contains all the elements of the first list minus all the duplicates\n",
    "\n",
    "def dup_item(x):\n",
    "    y=[]\n",
    "    \n",
    "    for i in x:\n",
    "        if i not in y:\n",
    "            y.append(i)\n",
    "    return y\n",
    "    \n",
    "def dup_item2(x):\n",
    "    return list(set(x))\n",
    "\n",
    "print(dup_item)\n",
    "print (dup_item2)\n",
    "\n",
    "x= [1,3,2,2,4,6,1,3,7]\n"
   ]
  },
  {
   "cell_type": "code",
   "execution_count": 9,
   "id": "1110751d",
   "metadata": {},
   "outputs": [
    {
     "name": "stdout",
     "output_type": "stream",
     "text": [
      "Enter a number:7\n",
      "7  is a prime number\n",
      "7  is a prime number\n"
     ]
    }
   ],
   "source": [
    "6. #Write a function to ask the user for a number and determine whether the number is prime or not.\n",
    "\n",
    "def num_prime():\n",
    "    num=int(input(\"Enter a number:\"))\n",
    "    if num > 1:\n",
    "        for i in range(2, int(num/2)+1):\n",
    "            if(num % i)==0:\n",
    "                print(num,\" is not a prime number:\")\n",
    "                break\n",
    "            else:\n",
    "                    print(num,\" is a prime number\")\n",
    "#if the number is less than 1, it is not a prime number\n",
    "    else:\n",
    "        print(num,\"is not a prime number\")\n",
    "\n",
    "num_prime()"
   ]
  },
  {
   "cell_type": "code",
   "execution_count": 18,
   "id": "14a3e386",
   "metadata": {},
   "outputs": [
    {
     "name": "stdout",
     "output_type": "stream",
     "text": [
      "How many numbers that generates?:9\n",
      "[1, 1, 2, 3, 5, 8, 13, 21, 34]\n",
      "2\n"
     ]
    },
    {
     "data": {
      "text/plain": [
       "'2'"
      ]
     },
     "execution_count": 18,
     "metadata": {},
     "output_type": "execute_result"
    }
   ],
   "source": [
    "7. #Write a program that asks the user how many Fibonnaci numbers to generate and then generates them.\n",
    "\n",
    "def fibonnaci():\n",
    "    num= int(input(\"How many numbers that generates?:\"))\n",
    "    i = 1\n",
    "\n",
    "    if num == 0:\n",
    "        fib = []\n",
    "    elif num == 1:\n",
    "        fib = [1]\n",
    "    elif num == 2:\n",
    "        fib = [1,1]\n",
    "    elif num > 2:\n",
    "        fib = [1,1]\n",
    "        while i < (num - 1):\n",
    "            fib.append(fib[i] + fib[i-1])\n",
    "            i +=1\n",
    "    return fib\n",
    "print (fibonnaci())\n",
    "input()\n",
    "    "
   ]
  },
  {
   "cell_type": "code",
   "execution_count": 11,
   "id": "3833ecc7",
   "metadata": {},
   "outputs": [],
   "source": [
    "8. #Write a function that ask the user for a string and print out whether this string is a palindrome or not\n",
    "\n",
    "def ispalindrome(string):\n",
    "    left_pos = 0\n",
    "    right_pos = len(string) -1 \n",
    "    while right_pos >= left_pos:\n",
    "        if not string[left_pos] == string[right_pos]:\n",
    "            return False\n",
    "        left_pos += 1\n",
    "        right_pos -= 1\n",
    "    return True"
   ]
  },
  {
   "cell_type": "code",
   "execution_count": 12,
   "id": "8b5c67b0",
   "metadata": {},
   "outputs": [
    {
     "data": {
      "text/plain": [
       "False"
      ]
     },
     "execution_count": 12,
     "metadata": {},
     "output_type": "execute_result"
    }
   ],
   "source": [
    "ispalindrome(\"madamina\")"
   ]
  },
  {
   "cell_type": "code",
   "execution_count": null,
   "id": "03c7db84",
   "metadata": {},
   "outputs": [],
   "source": [
    ".#Write a function that takes an ordered list of numbers (a list where the elements are in order from smallest to largest) and another number.\n",
    "\n"
   ]
  },
  {
   "cell_type": "code",
   "execution_count": 13,
   "id": "988d28b4",
   "metadata": {},
   "outputs": [
    {
     "name": "stdout",
     "output_type": "stream",
     "text": [
      "Enter your name:Monisola\n",
      "Enter your age:25\n",
      "You will be 100 in the year 2095\n"
     ]
    }
   ],
   "source": [
    "10. #Create a program that asks the user to enter their name and their age. Print out a message addressed to them that tells them the year that they will turn 100 years old\n",
    "\n",
    "def future_years():\n",
    "    year= 2020\n",
    "    future_years=100-age+year\n",
    "    return future_years\n",
    "name=str(input(\"Enter your name:\"))\n",
    "age=int(input(\"Enter your age:\"))\n",
    "\n",
    "print(\"You will be 100 in the year\",future_years())\n"
   ]
  },
  {
   "cell_type": "code",
   "execution_count": null,
   "id": "8825f796",
   "metadata": {
    "scrolled": true
   },
   "outputs": [],
   "source": []
  }
 ],
 "metadata": {
  "kernelspec": {
   "display_name": "Python 3 (ipykernel)",
   "language": "python",
   "name": "python3"
  },
  "language_info": {
   "codemirror_mode": {
    "name": "ipython",
    "version": 3
   },
   "file_extension": ".py",
   "mimetype": "text/x-python",
   "name": "python",
   "nbconvert_exporter": "python",
   "pygments_lexer": "ipython3",
   "version": "3.9.12"
  }
 },
 "nbformat": 4,
 "nbformat_minor": 5
}
