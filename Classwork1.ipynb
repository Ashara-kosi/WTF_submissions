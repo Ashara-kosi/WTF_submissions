{
 "cells": [
  {
   "cell_type": "markdown",
   "id": "c69c5fef",
   "metadata": {},
   "source": [
    "# Question 1"
   ]
  },
  {
   "cell_type": "code",
   "execution_count": 86,
   "id": "0fca9853",
   "metadata": {},
   "outputs": [
    {
     "name": "stdout",
     "output_type": "stream",
     "text": [
      "This is the function that returns the sum and multiplication of two numbers:\n",
      " \n",
      "For the numbers 10 and 15 : \n",
      "Addition = 25 \n",
      "Multiplication = 150\n"
     ]
    }
   ],
   "source": [
    "print (\"This is the function that returns the sum and multiplication of two numbers:\")\n",
    "print (\" \")\n",
    "\n",
    "def add_multiply(a, b):\n",
    "    addition = a+b\n",
    "    multiply = a*b\n",
    "    print (\"For the numbers\", a, \"and\", b,\":\", '\\n'  \"Addition =\", addition,'\\n''Multiplication =', multiply)\n",
    "\n",
    "add_multiply(10, 15)"
   ]
  },
  {
   "cell_type": "markdown",
   "id": "f4b222ce",
   "metadata": {},
   "source": [
    "# Question 2"
   ]
  },
  {
   "cell_type": "code",
   "execution_count": 118,
   "id": "13956ab7",
   "metadata": {},
   "outputs": [
    {
     "name": "stdout",
     "output_type": "stream",
     "text": [
      "This is the function that prints out the sum of current number and the previous number from a list:\n",
      " \n",
      "Current number 0 Previous number 0 is 0\n",
      "Current number 1 Previous number 0 is 1\n",
      "Current number 2 Previous number 1 is 3\n",
      "Current number 3 Previous number 2 is 5\n",
      "Current number 4 Previous number 3 is 7\n",
      "Current number 5 Previous number 4 is 9\n",
      "Current number 6 Previous number 5 is 11\n",
      "Current number 7 Previous number 6 is 13\n",
      "Current number 8 Previous number 7 is 15\n",
      "Current number 9 Previous number 8 is 17\n"
     ]
    }
   ],
   "source": [
    "print (\"This is the function that prints out the sum of current number and the previous number from a list:\")\n",
    "print(\" \")\n",
    "\n",
    "\n",
    "def curr_prev():\n",
    "    curr=list(range(10))\n",
    "    prev=0\n",
    "    for i in curr:\n",
    "        sum=prev+i\n",
    "        print(\"Current number\", i, \"Previous number\", prev, \"is\", sum)\n",
    "        prev=i\n",
    "        \n",
    "\n",
    "curr_prev()"
   ]
  },
  {
   "cell_type": "markdown",
   "id": "8074279f",
   "metadata": {},
   "source": [
    "# Question 3"
   ]
  },
  {
   "cell_type": "code",
   "execution_count": 85,
   "id": "d968d62a",
   "metadata": {},
   "outputs": [
    {
     "name": "stdout",
     "output_type": "stream",
     "text": [
      "This function prints out the letters in the even positioned index in a word:\n",
      "\n",
      "['H', 'l', 'e', 'u', 'a']\n"
     ]
    }
   ],
   "source": [
    "print(\"This function prints out the letters in the even positioned index in a word:\" '\\n')\n",
    "def even_index_position(word):\n",
    "    word_even_position=[]\n",
    "    for letter in range(len(word)): \n",
    "        if letter%2==0:\n",
    "            word_even_position.append(word[letter]) \n",
    "    print(word_even_position)\n",
    "even_index_position('Hallelujah')"
   ]
  },
  {
   "cell_type": "markdown",
   "id": "7d878fa9",
   "metadata": {},
   "source": [
    "# Question 4"
   ]
  },
  {
   "cell_type": "code",
   "execution_count": 74,
   "id": "55d1b612",
   "metadata": {},
   "outputs": [
    {
     "name": "stdout",
     "output_type": "stream",
     "text": [
      "This function removes the first character in a string:\n",
      "\n",
      "igeria\n"
     ]
    }
   ],
   "source": [
    "print(\"This function removes the first character in a string:\" '\\n')\n",
    "def erase_first(word):\n",
    "    new_word=''\n",
    "    for i in range(len(word)):\n",
    "        if i!=0:\n",
    "            new_word=new_word+word[i]\n",
    "    print(new_word)\n",
    "    \n",
    "erase_first('Nigeria')"
   ]
  },
  {
   "cell_type": "markdown",
   "id": "adaffffd",
   "metadata": {},
   "source": [
    "# Question 5"
   ]
  },
  {
   "cell_type": "code",
   "execution_count": 95,
   "id": "5ac63c4c",
   "metadata": {},
   "outputs": [
    {
     "name": "stdout",
     "output_type": "stream",
     "text": [
      "This function checks if the first and last element of a list are thesame\n",
      "\n"
     ]
    },
    {
     "data": {
      "text/plain": [
       "False"
      ]
     },
     "execution_count": 95,
     "metadata": {},
     "output_type": "execute_result"
    }
   ],
   "source": [
    "print(\"This function checks if the first and last element of a list are thesame\" '\\n')\n",
    "\n",
    "list1=[1,2,4,7,4,1]\n",
    "list2=[3,6,1,9,2]\n",
    "\n",
    "def compare_first_last(lists):\n",
    "    for i in lists:\n",
    "        if lists[0]==lists[-1]:\n",
    "            return True\n",
    "        else:\n",
    "            return False           \n",
    "compare_first_last (list2)"
   ]
  },
  {
   "cell_type": "markdown",
   "id": "2c79cf56",
   "metadata": {},
   "source": [
    "# Question 6"
   ]
  },
  {
   "cell_type": "code",
   "execution_count": 105,
   "id": "e7d406c9",
   "metadata": {},
   "outputs": [
    {
     "name": "stdout",
     "output_type": "stream",
     "text": [
      "This function prints out the multiplication table of numbers 1 to 10\n",
      " \n",
      "Multiplication table of 1\n",
      " \n",
      "1 x 1 = 1\n",
      "1 x 2 = 2\n",
      "1 x 3 = 3\n",
      "1 x 4 = 4\n",
      "1 x 5 = 5\n",
      "1 x 6 = 6\n",
      "1 x 7 = 7\n",
      "1 x 8 = 8\n",
      "1 x 9 = 9\n",
      "1 x 10 = 10\n",
      "1 x 11 = 11\n",
      "1 x 12 = 12\n",
      " \n",
      "Multiplication table of 2\n",
      " \n",
      "2 x 1 = 2\n",
      "2 x 2 = 4\n",
      "2 x 3 = 6\n",
      "2 x 4 = 8\n",
      "2 x 5 = 10\n",
      "2 x 6 = 12\n",
      "2 x 7 = 14\n",
      "2 x 8 = 16\n",
      "2 x 9 = 18\n",
      "2 x 10 = 20\n",
      "2 x 11 = 22\n",
      "2 x 12 = 24\n",
      " \n",
      "Multiplication table of 3\n",
      " \n",
      "3 x 1 = 3\n",
      "3 x 2 = 6\n",
      "3 x 3 = 9\n",
      "3 x 4 = 12\n",
      "3 x 5 = 15\n",
      "3 x 6 = 18\n",
      "3 x 7 = 21\n",
      "3 x 8 = 24\n",
      "3 x 9 = 27\n",
      "3 x 10 = 30\n",
      "3 x 11 = 33\n",
      "3 x 12 = 36\n",
      " \n",
      "Multiplication table of 4\n",
      " \n",
      "4 x 1 = 4\n",
      "4 x 2 = 8\n",
      "4 x 3 = 12\n",
      "4 x 4 = 16\n",
      "4 x 5 = 20\n",
      "4 x 6 = 24\n",
      "4 x 7 = 28\n",
      "4 x 8 = 32\n",
      "4 x 9 = 36\n",
      "4 x 10 = 40\n",
      "4 x 11 = 44\n",
      "4 x 12 = 48\n",
      " \n",
      "Multiplication table of 5\n",
      " \n",
      "5 x 1 = 5\n",
      "5 x 2 = 10\n",
      "5 x 3 = 15\n",
      "5 x 4 = 20\n",
      "5 x 5 = 25\n",
      "5 x 6 = 30\n",
      "5 x 7 = 35\n",
      "5 x 8 = 40\n",
      "5 x 9 = 45\n",
      "5 x 10 = 50\n",
      "5 x 11 = 55\n",
      "5 x 12 = 60\n",
      " \n",
      "Multiplication table of 6\n",
      " \n",
      "6 x 1 = 6\n",
      "6 x 2 = 12\n",
      "6 x 3 = 18\n",
      "6 x 4 = 24\n",
      "6 x 5 = 30\n",
      "6 x 6 = 36\n",
      "6 x 7 = 42\n",
      "6 x 8 = 48\n",
      "6 x 9 = 54\n",
      "6 x 10 = 60\n",
      "6 x 11 = 66\n",
      "6 x 12 = 72\n",
      " \n",
      "Multiplication table of 7\n",
      " \n",
      "7 x 1 = 7\n",
      "7 x 2 = 14\n",
      "7 x 3 = 21\n",
      "7 x 4 = 28\n",
      "7 x 5 = 35\n",
      "7 x 6 = 42\n",
      "7 x 7 = 49\n",
      "7 x 8 = 56\n",
      "7 x 9 = 63\n",
      "7 x 10 = 70\n",
      "7 x 11 = 77\n",
      "7 x 12 = 84\n",
      " \n",
      "Multiplication table of 8\n",
      " \n",
      "8 x 1 = 8\n",
      "8 x 2 = 16\n",
      "8 x 3 = 24\n",
      "8 x 4 = 32\n",
      "8 x 5 = 40\n",
      "8 x 6 = 48\n",
      "8 x 7 = 56\n",
      "8 x 8 = 64\n",
      "8 x 9 = 72\n",
      "8 x 10 = 80\n",
      "8 x 11 = 88\n",
      "8 x 12 = 96\n",
      " \n",
      "Multiplication table of 9\n",
      " \n",
      "9 x 1 = 9\n",
      "9 x 2 = 18\n",
      "9 x 3 = 27\n",
      "9 x 4 = 36\n",
      "9 x 5 = 45\n",
      "9 x 6 = 54\n",
      "9 x 7 = 63\n",
      "9 x 8 = 72\n",
      "9 x 9 = 81\n",
      "9 x 10 = 90\n",
      "9 x 11 = 99\n",
      "9 x 12 = 108\n",
      " \n",
      "Multiplication table of 10\n",
      " \n",
      "10 x 1 = 10\n",
      "10 x 2 = 20\n",
      "10 x 3 = 30\n",
      "10 x 4 = 40\n",
      "10 x 5 = 50\n",
      "10 x 6 = 60\n",
      "10 x 7 = 70\n",
      "10 x 8 = 80\n",
      "10 x 9 = 90\n",
      "10 x 10 = 100\n",
      "10 x 11 = 110\n",
      "10 x 12 = 120\n"
     ]
    }
   ],
   "source": [
    "print(\"This function prints out the multiplication table of numbers 1 to 10\")\n",
    "\n",
    "def multiplication_table(a,b):\n",
    "    for i in range(a,(b+1)):\n",
    "        print(\" \")\n",
    "        print('Multiplication table of', i)\n",
    "        print(\" \")\n",
    "        for item in range (1,13):\n",
    "            multiplication=i*item\n",
    "            print(i, \"x\", item, \"=\", multiplication,)\n",
    "        \n",
    "multiplication_table(1,10)"
   ]
  },
  {
   "cell_type": "markdown",
   "id": "bdb2a3a8",
   "metadata": {},
   "source": [
    "# Question 7"
   ]
  },
  {
   "cell_type": "code",
   "execution_count": 112,
   "id": "86e9fd15",
   "metadata": {},
   "outputs": [
    {
     "name": "stdout",
     "output_type": "stream",
     "text": [
      "This function creates a new list from the odd and even numbers respectively two existing lists\n",
      "\n",
      "[2, 4, 6, 8, 23, 35, 47]\n"
     ]
    }
   ],
   "source": [
    "print (\"This function creates a new list from the odd and even numbers respectively two existing lists\" '\\n')\n",
    "\n",
    "list1=[1,2,3,4,6,7,8]\n",
    "list2=[23,24,35,36,47,48]\n",
    "\n",
    "def odd_even(a,b):\n",
    "    new_list=[]\n",
    "    for num in (a):\n",
    "        if num%2==0:\n",
    "            new_list.append(num)\n",
    "    for num in b: \n",
    "        if num%2==1:\n",
    "            new_list.append(num)\n",
    "    print(new_list)\n",
    "\n",
    "odd_even(list1,list2)"
   ]
  },
  {
   "cell_type": "code",
   "execution_count": null,
   "id": "7e2a25c8",
   "metadata": {},
   "outputs": [],
   "source": []
  },
  {
   "cell_type": "code",
   "execution_count": null,
   "id": "f679122d",
   "metadata": {},
   "outputs": [],
   "source": []
  }
 ],
 "metadata": {
  "kernelspec": {
   "display_name": "Python 3",
   "language": "python",
   "name": "python3"
  },
  "language_info": {
   "codemirror_mode": {
    "name": "ipython",
    "version": 3
   },
   "file_extension": ".py",
   "mimetype": "text/x-python",
   "name": "python",
   "nbconvert_exporter": "python",
   "pygments_lexer": "ipython3",
   "version": "3.8.8"
  }
 },
 "nbformat": 4,
 "nbformat_minor": 5
}
