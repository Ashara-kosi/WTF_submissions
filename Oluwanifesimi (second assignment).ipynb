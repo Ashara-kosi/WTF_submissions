{
 "cells": [
  {
   "cell_type": "markdown",
   "id": "6e59ee6c",
   "metadata": {},
   "source": [
    "1. #Write a function called showNumbers that takes a parameter called limit. It should print\n",
    "all the numbers between 0 and limit with a label to identify the even and odd numbers.\n",
    "For example, if the limit is 3, it should print:0 EVEN 1 ODD 2 EVEN 3 ODD\n"
   ]
  },
  {
   "cell_type": "code",
   "execution_count": 38,
   "id": "2b031f7c",
   "metadata": {},
   "outputs": [],
   "source": [
    "def show_num (limit):\n",
    "    i=0\n",
    "    for i in range (0, limit):\n",
    "        if i % 2 == 0:\n",
    "            print(i,\"is an even number\")\n",
    "        if i % 2 != 0:\n",
    "            print(i,\"is an odd number\")\n",
    "    \n",
    "        \n",
    "        "
   ]
  },
  {
   "cell_type": "code",
   "execution_count": 39,
   "id": "0072af7e",
   "metadata": {},
   "outputs": [
    {
     "name": "stdout",
     "output_type": "stream",
     "text": [
      "0 is an even number\n",
      "1 is an odd number\n",
      "2 is an even number\n",
      "3 is an odd number\n",
      "4 is an even number\n",
      "5 is an odd number\n",
      "6 is an even number\n",
      "7 is an odd number\n",
      "8 is an even number\n"
     ]
    }
   ],
   "source": [
    "show_num(9)"
   ]
  },
  {
   "cell_type": "markdown",
   "id": "dba98be6",
   "metadata": {},
   "source": [
    "#2. Write a function that returns the sum of multiples of 3 and 5 between 0\n",
    "and limit (parameter). For example, if limit is 20, it should return the sum of 3, 5, 6, 9, 10,\n",
    "12, 15, 18, 20."
   ]
  },
  {
   "cell_type": "code",
   "execution_count": 148,
   "id": "cd6b1c9f",
   "metadata": {},
   "outputs": [],
   "source": [
    "def sum_multiples(limit):\n",
    "    sum = 0\n",
    "    for i in range(0, limit):\n",
    "        if i %3 == 0:\n",
    "            print(i)\n",
    "        elif i % 5 == 0:\n",
    "            print (i)"
   ]
  },
  {
   "cell_type": "code",
   "execution_count": 150,
   "id": "ac5aa056",
   "metadata": {},
   "outputs": [
    {
     "name": "stdout",
     "output_type": "stream",
     "text": [
      "0\n",
      "3\n",
      "5\n",
      "6\n",
      "9\n",
      "10\n",
      "12\n",
      "15\n"
     ]
    }
   ],
   "source": [
    "sum_multiples(17)"
   ]
  },
  {
   "cell_type": "markdown",
   "id": "06084f28",
   "metadata": {},
   "source": [
    "#3.Write a function called show_stars(rows). If rows is 5, it should print the\n",
    "following:*****"
   ]
  },
  {
   "cell_type": "code",
   "execution_count": 98,
   "id": "d8943b4a",
   "metadata": {},
   "outputs": [],
   "source": [
    "def show_star(row):\n",
    "    if row == 5:\n",
    "        print(10*'*')\n",
    "    return"
   ]
  },
  {
   "cell_type": "code",
   "execution_count": 103,
   "id": "13b26855",
   "metadata": {},
   "outputs": [
    {
     "name": "stdout",
     "output_type": "stream",
     "text": [
      "**********\n"
     ]
    }
   ],
   "source": [
    "show_star(5)"
   ]
  },
  {
   "cell_type": "code",
   "execution_count": 105,
   "id": "dbf5bb6e",
   "metadata": {},
   "outputs": [],
   "source": [
    "#4.Write a function that prints all the prime numbers between 0 and limit where limit is a parameter.\n"
   ]
  },
  {
   "cell_type": "code",
   "execution_count": 173,
   "id": "d330829d",
   "metadata": {},
   "outputs": [],
   "source": [
    "def printPrimeNumbers(limit):   \n",
    "    for num in range(0, limit):    \n",
    "        if num > 1:                              \n",
    "            for i in range(2, num):              \n",
    "                if num%i==0:\n",
    "                    break                        \n",
    "            else:                                 \n",
    "                print (num)"
   ]
  },
  {
   "cell_type": "code",
   "execution_count": 174,
   "id": "2ea253f5",
   "metadata": {},
   "outputs": [
    {
     "name": "stdout",
     "output_type": "stream",
     "text": [
      "2\n",
      "3\n",
      "5\n",
      "7\n",
      "11\n",
      "13\n",
      "17\n",
      "19\n"
     ]
    }
   ],
   "source": [
    "printPrimeNumbers(20)"
   ]
  },
  {
   "cell_type": "markdown",
   "id": "98194c2a",
   "metadata": {},
   "source": [
    "#5.Write a program (function!) that takes a list and returns a new list that contains all the elements of the first list minus all the duplicates.\n"
   ]
  },
  {
   "cell_type": "code",
   "execution_count": 209,
   "id": "b98755f1",
   "metadata": {},
   "outputs": [],
   "source": [
    "def list_without_duplicates():\n",
    "    clas = [51,72,93,45,5,6,7,8,9,10,3,4,5,6,7,78,5]\n",
    "    clas = list(dict.fromkeys(clas))\n",
    "    print(clas)"
   ]
  },
  {
   "cell_type": "code",
   "execution_count": 210,
   "id": "2f5c6b2c",
   "metadata": {},
   "outputs": [
    {
     "name": "stdout",
     "output_type": "stream",
     "text": [
      "[51, 72, 93, 45, 5, 6, 7, 8, 9, 10, 3, 4, 78]\n"
     ]
    }
   ],
   "source": [
    "list_without_duplicates()"
   ]
  },
  {
   "cell_type": "markdown",
   "id": "6f79f081",
   "metadata": {},
   "source": [
    "#6.Write a function to ask the user for a number and determine whether the number is prime or not."
   ]
  },
  {
   "cell_type": "code",
   "execution_count": 155,
   "id": "9842ddca",
   "metadata": {},
   "outputs": [],
   "source": [
    "def prime_or_not(num):\n",
    "    if (num % 1) == num and num % num == 0:\n",
    "        print (True)\n",
    "    else:\n",
    "        print(False)"
   ]
  },
  {
   "cell_type": "code",
   "execution_count": 157,
   "id": "11dd9ef9",
   "metadata": {},
   "outputs": [
    {
     "name": "stdout",
     "output_type": "stream",
     "text": [
      "False\n"
     ]
    }
   ],
   "source": [
    "prime_or_not(20)"
   ]
  },
  {
   "cell_type": "markdown",
   "id": "0705f9f2",
   "metadata": {},
   "source": [
    "7.Write a program that asks the user how many Fibonnaci numbers to generate and then\n",
    "generates them.\n"
   ]
  },
  {
   "cell_type": "code",
   "execution_count": 188,
   "id": "e7646d8a",
   "metadata": {},
   "outputs": [
    {
     "name": "stdout",
     "output_type": "stream",
     "text": [
      "How many Fibonacci numbers would you like me to create?:6\n",
      "[1, 1, 2, 3, 5, 8]\n"
     ]
    }
   ],
   "source": [
    "number = int(input(\"How many Fibonacci numbers would you like me to create?:\"))\n",
    "if (number <= 0):\n",
    "    print(\"Number cannot be less than 1!\")\n",
    "else:\n",
    "    FibonacciArray = [0]*number\n",
    "    FibonacciArray[0] = 1\n",
    "    FibonacciCounter = 2\n",
    "    if (number > 1):\n",
    "        FibonacciArray[1] = 1\n",
    "    if (number > 2):\n",
    "        while FibonacciCounter < number:\n",
    "            FibonacciArray[FibonacciCounter] = FibonacciArray[FibonacciCounter - 2] + FibonacciArray[FibonacciCounter - 1]\n",
    "            FibonacciCounter = FibonacciCounter + 1 #increment FibonacciCounter\n",
    "    print(FibonacciArray)"
   ]
  },
  {
   "cell_type": "markdown",
   "id": "5f093567",
   "metadata": {},
   "source": [
    "8.Write a function that ask the user for a string and print out whether this string is a\n",
    "palindrome or not."
   ]
  },
  {
   "cell_type": "code",
   "execution_count": 182,
   "id": "50be06d8",
   "metadata": {},
   "outputs": [],
   "source": [
    "def palindrome():\n",
    "    get = input('Type in a word:').lower()\n",
    "    if get[0:]== get[::-1]:\n",
    "        print('The word you inputed is a Palindrome')\n",
    "    else:\n",
    "            print('The word you inputed is not a Palindrome')\n"
   ]
  },
  {
   "cell_type": "code",
   "execution_count": 183,
   "id": "fa7c2636",
   "metadata": {},
   "outputs": [
    {
     "name": "stdout",
     "output_type": "stream",
     "text": [
      "Type in a word:Oluwanifesimi\n",
      "The word you inputed is not a Palindrome\n"
     ]
    }
   ],
   "source": [
    "palindrome()"
   ]
  },
  {
   "cell_type": "markdown",
   "id": "fdb2657a",
   "metadata": {},
   "source": [
    "9.Write a function that takes an ordered list of numbers (a list where the elements are in\n",
    "order from smallest to largest) and another number."
   ]
  },
  {
   "cell_type": "code",
   "execution_count": 216,
   "id": "5c3e3777",
   "metadata": {},
   "outputs": [],
   "source": [
    "def ordered_list():\n",
    "    Listz = [1,2,3,4,5,1,1,2,3,3,4,4,66,55,66,55,7,8,9,0]\n",
    "    list2 = sorted(listz)\n",
    "    print(list2)\n",
    "    "
   ]
  },
  {
   "cell_type": "code",
   "execution_count": 217,
   "id": "e46a697b",
   "metadata": {},
   "outputs": [
    {
     "ename": "NameError",
     "evalue": "name 'listz' is not defined",
     "output_type": "error",
     "traceback": [
      "\u001b[1;31m---------------------------------------------------------------------------\u001b[0m",
      "\u001b[1;31mNameError\u001b[0m                                 Traceback (most recent call last)",
      "\u001b[1;32m~\\AppData\\Local\\Temp/ipykernel_10900/3900474067.py\u001b[0m in \u001b[0;36m<module>\u001b[1;34m\u001b[0m\n\u001b[1;32m----> 1\u001b[1;33m \u001b[0mordered_list\u001b[0m\u001b[1;33m(\u001b[0m\u001b[1;33m)\u001b[0m\u001b[1;33m\u001b[0m\u001b[1;33m\u001b[0m\u001b[0m\n\u001b[0m",
      "\u001b[1;32m~\\AppData\\Local\\Temp/ipykernel_10900/3797216166.py\u001b[0m in \u001b[0;36mordered_list\u001b[1;34m()\u001b[0m\n\u001b[0;32m      1\u001b[0m \u001b[1;32mdef\u001b[0m \u001b[0mordered_list\u001b[0m\u001b[1;33m(\u001b[0m\u001b[1;33m)\u001b[0m\u001b[1;33m:\u001b[0m\u001b[1;33m\u001b[0m\u001b[1;33m\u001b[0m\u001b[0m\n\u001b[0;32m      2\u001b[0m     \u001b[0mListz\u001b[0m \u001b[1;33m=\u001b[0m \u001b[1;33m[\u001b[0m\u001b[1;36m1\u001b[0m\u001b[1;33m,\u001b[0m\u001b[1;36m2\u001b[0m\u001b[1;33m,\u001b[0m\u001b[1;36m3\u001b[0m\u001b[1;33m,\u001b[0m\u001b[1;36m4\u001b[0m\u001b[1;33m,\u001b[0m\u001b[1;36m5\u001b[0m\u001b[1;33m,\u001b[0m\u001b[1;36m1\u001b[0m\u001b[1;33m,\u001b[0m\u001b[1;36m1\u001b[0m\u001b[1;33m,\u001b[0m\u001b[1;36m2\u001b[0m\u001b[1;33m,\u001b[0m\u001b[1;36m3\u001b[0m\u001b[1;33m,\u001b[0m\u001b[1;36m3\u001b[0m\u001b[1;33m,\u001b[0m\u001b[1;36m4\u001b[0m\u001b[1;33m,\u001b[0m\u001b[1;36m4\u001b[0m\u001b[1;33m,\u001b[0m\u001b[1;36m66\u001b[0m\u001b[1;33m,\u001b[0m\u001b[1;36m55\u001b[0m\u001b[1;33m,\u001b[0m\u001b[1;36m66\u001b[0m\u001b[1;33m,\u001b[0m\u001b[1;36m55\u001b[0m\u001b[1;33m,\u001b[0m\u001b[1;36m7\u001b[0m\u001b[1;33m,\u001b[0m\u001b[1;36m8\u001b[0m\u001b[1;33m,\u001b[0m\u001b[1;36m9\u001b[0m\u001b[1;33m,\u001b[0m\u001b[1;36m0\u001b[0m\u001b[1;33m]\u001b[0m\u001b[1;33m\u001b[0m\u001b[1;33m\u001b[0m\u001b[0m\n\u001b[1;32m----> 3\u001b[1;33m     \u001b[0mlist2\u001b[0m \u001b[1;33m=\u001b[0m \u001b[0msorted\u001b[0m\u001b[1;33m(\u001b[0m\u001b[0mlistz\u001b[0m\u001b[1;33m)\u001b[0m\u001b[1;33m\u001b[0m\u001b[1;33m\u001b[0m\u001b[0m\n\u001b[0m\u001b[0;32m      4\u001b[0m     \u001b[0mprint\u001b[0m\u001b[1;33m(\u001b[0m\u001b[0mlist2\u001b[0m\u001b[1;33m)\u001b[0m\u001b[1;33m\u001b[0m\u001b[1;33m\u001b[0m\u001b[0m\n\u001b[0;32m      5\u001b[0m \u001b[1;33m\u001b[0m\u001b[0m\n",
      "\u001b[1;31mNameError\u001b[0m: name 'listz' is not defined"
     ]
    }
   ],
   "source": [
    "ordered_list()"
   ]
  },
  {
   "cell_type": "markdown",
   "id": "424c66fd",
   "metadata": {},
   "source": [
    "10.Create a program that asks the user to enter their name and their age. Print out a\n",
    "message addressed to them that tells them the year that they will turn 100 years old."
   ]
  },
  {
   "cell_type": "code",
   "execution_count": 187,
   "id": "aa8cb79d",
   "metadata": {},
   "outputs": [
    {
     "name": "stdout",
     "output_type": "stream",
     "text": [
      "enter your name:OLUWANIFESIMI OLUSOLA OKESOLA\n",
      "what is your age:26\n",
      "Hi OLUWANIFESIMI OLUSOLA OKESOLA you will be 100 years old by year 2096\n"
     ]
    }
   ],
   "source": [
    "name = input('enter your name:')\n",
    "age = int(input('what is your age:'))\n",
    "K = 100 - age\n",
    "year = 2022 - int(age) + 100\n",
    "print('Hi'+ ' ' + name + ' '+'you will be 100 years old by year {}'.format(year))"
   ]
  },
  {
   "cell_type": "code",
   "execution_count": null,
   "id": "961e0812",
   "metadata": {},
   "outputs": [],
   "source": []
  }
 ],
 "metadata": {
  "kernelspec": {
   "display_name": "Python 3 (ipykernel)",
   "language": "python",
   "name": "python3"
  },
  "language_info": {
   "codemirror_mode": {
    "name": "ipython",
    "version": 3
   },
   "file_extension": ".py",
   "mimetype": "text/x-python",
   "name": "python",
   "nbconvert_exporter": "python",
   "pygments_lexer": "ipython3",
   "version": "3.9.7"
  }
 },
 "nbformat": 4,
 "nbformat_minor": 5
}
