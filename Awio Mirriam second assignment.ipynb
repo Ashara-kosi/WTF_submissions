{
 "cells": [
  {
   "cell_type": "code",
   "execution_count": 2,
   "id": "41fdc86e",
   "metadata": {},
   "outputs": [],
   "source": [
    "#1. Write a function called showNumbers that takes a parameter called limit. \n",
    "#It should print all the numbers between 0 and limit with a label to identify the even and odd numbers.\n",
    "#For example, if the limit is 3, it should print:0 EVEN 1 ODD 2 EVEN 3 ODD\n",
    "\n",
    "def showNumbers(limit):\n",
    "    \n",
    "    limit=int(input(\"Enter the limit: \"))\n",
    "    for i in range(limit +1):\n",
    "        if i % 2 == 0: # even number \n",
    "            print(i,'EVEN', \"\\t\")\n",
    "        \n",
    "        if i % 2 == 1:  #odd number\n",
    "            print(i,'ODD', \"\\t\")"
   ]
  },
  {
   "cell_type": "code",
   "execution_count": 4,
   "id": "7fcf91ea",
   "metadata": {},
   "outputs": [
    {
     "name": "stdout",
     "output_type": "stream",
     "text": [
      "Enter the limit: 50\n",
      "0 EVEN \t\n",
      "1 ODD \t\n",
      "2 EVEN \t\n",
      "3 ODD \t\n",
      "4 EVEN \t\n",
      "5 ODD \t\n",
      "6 EVEN \t\n",
      "7 ODD \t\n",
      "8 EVEN \t\n",
      "9 ODD \t\n",
      "10 EVEN \t\n",
      "11 ODD \t\n",
      "12 EVEN \t\n",
      "13 ODD \t\n",
      "14 EVEN \t\n",
      "15 ODD \t\n",
      "16 EVEN \t\n",
      "17 ODD \t\n",
      "18 EVEN \t\n",
      "19 ODD \t\n",
      "20 EVEN \t\n",
      "21 ODD \t\n",
      "22 EVEN \t\n",
      "23 ODD \t\n",
      "24 EVEN \t\n",
      "25 ODD \t\n",
      "26 EVEN \t\n",
      "27 ODD \t\n",
      "28 EVEN \t\n",
      "29 ODD \t\n",
      "30 EVEN \t\n",
      "31 ODD \t\n",
      "32 EVEN \t\n",
      "33 ODD \t\n",
      "34 EVEN \t\n",
      "35 ODD \t\n",
      "36 EVEN \t\n",
      "37 ODD \t\n",
      "38 EVEN \t\n",
      "39 ODD \t\n",
      "40 EVEN \t\n",
      "41 ODD \t\n",
      "42 EVEN \t\n",
      "43 ODD \t\n",
      "44 EVEN \t\n",
      "45 ODD \t\n",
      "46 EVEN \t\n",
      "47 ODD \t\n",
      "48 EVEN \t\n",
      "49 ODD \t\n",
      "50 EVEN \t\n"
     ]
    }
   ],
   "source": [
    "showNumbers(50)"
   ]
  },
  {
   "cell_type": "code",
   "execution_count": 6,
   "id": "32b32289",
   "metadata": {},
   "outputs": [],
   "source": [
    "#2. Write a function that returns the sum of multiples of 3 and 5 between 0 and limit (parameter). \n",
    "#For example, if limit is 20, it should return the sum of 3, 5, 6, 9, 10, 12, 15, 18, 20.\n",
    "\n",
    "def sum_multiples(limit):\n",
    "    sum = 0\n",
    "    for i in range(0, limit):\n",
    "        if i %3 == 0:\n",
    "            print(i)\n",
    "        elif i % 5 == 0:\n",
    "            print (i)"
   ]
  },
  {
   "cell_type": "code",
   "execution_count": 7,
   "id": "63ae7463",
   "metadata": {},
   "outputs": [
    {
     "name": "stdout",
     "output_type": "stream",
     "text": [
      "0\n",
      "3\n",
      "5\n",
      "6\n",
      "9\n",
      "10\n",
      "12\n",
      "15\n",
      "18\n"
     ]
    }
   ],
   "source": [
    "sum_multiples(20)"
   ]
  },
  {
   "cell_type": "code",
   "execution_count": 8,
   "id": "27d9e96c",
   "metadata": {},
   "outputs": [],
   "source": [
    "#3. Write a function called show_stars(rows). If rows is 5, it should print the following:***************\n",
    "def show_star(row):\n",
    "    if row == 5:\n",
    "        print(8*'*')\n",
    "    return"
   ]
  },
  {
   "cell_type": "code",
   "execution_count": 10,
   "id": "2c6276c2",
   "metadata": {},
   "outputs": [
    {
     "name": "stdout",
     "output_type": "stream",
     "text": [
      "********\n"
     ]
    }
   ],
   "source": [
    "show_star(5)"
   ]
  },
  {
   "cell_type": "code",
   "execution_count": 11,
   "id": "53fd887c",
   "metadata": {},
   "outputs": [],
   "source": [
    "#4. Write a function that prints all the prime numbers between 0 and limit where limit is a parameter\n",
    "\n",
    "def all_prime(limit):   \n",
    "    for number in range(0, limit):    \n",
    "        if number > 1:                              \n",
    "            for i in range(2, number):              \n",
    "                if number%i==0:\n",
    "                    break                        \n",
    "            else:                                 \n",
    "                print (number)"
   ]
  },
  {
   "cell_type": "code",
   "execution_count": 12,
   "id": "efe26904",
   "metadata": {},
   "outputs": [
    {
     "name": "stdout",
     "output_type": "stream",
     "text": [
      "2\n",
      "3\n",
      "5\n",
      "7\n",
      "11\n",
      "13\n",
      "17\n",
      "19\n",
      "23\n",
      "29\n",
      "31\n",
      "37\n"
     ]
    }
   ],
   "source": [
    "all_prime(40)"
   ]
  },
  {
   "cell_type": "code",
   "execution_count": 13,
   "id": "c38ba915",
   "metadata": {},
   "outputs": [],
   "source": [
    "#5. Write a program (function!) that takes a list and returns a new list that contains all the elements \n",
    "#of the first list minus all the duplicates\n",
    "\n",
    "def without_duplicates():\n",
    "    lists = [10, 82, 3, 43, 50, 63, 71, 85, 910, 35, 43, 50, 61, 7, 78, 5]\n",
    "    lists = list(dict.fromkeys(lists))\n",
    "    print(lists)"
   ]
  },
  {
   "cell_type": "code",
   "execution_count": 14,
   "id": "90f0ca55",
   "metadata": {},
   "outputs": [
    {
     "name": "stdout",
     "output_type": "stream",
     "text": [
      "[10, 82, 3, 43, 50, 63, 71, 85, 910, 35, 61, 7, 78, 5]\n"
     ]
    }
   ],
   "source": [
    "without_duplicates()"
   ]
  },
  {
   "cell_type": "code",
   "execution_count": 23,
   "id": "03166b2e",
   "metadata": {},
   "outputs": [],
   "source": [
    "#6. Write a function to ask the user for a number and determine whether the number is prime or not\n",
    "\n",
    "def isprime_or_not(number):\n",
    "    number = int(input('Enter number: '))\n",
    "    for i in range(2, number//2 +1):\n",
    "        if i % 2 == 0 or i % 2 != 0 :\n",
    "            print('Not a prime')\n",
    "    else:\n",
    "            print('is a prime number')"
   ]
  },
  {
   "cell_type": "code",
   "execution_count": 25,
   "id": "6135fe22",
   "metadata": {},
   "outputs": [
    {
     "name": "stdout",
     "output_type": "stream",
     "text": [
      "Enter number: 3\n",
      "is a prime number\n"
     ]
    }
   ],
   "source": [
    "isprime_or_not(5)"
   ]
  },
  {
   "cell_type": "code",
   "execution_count": 26,
   "id": "007be844",
   "metadata": {},
   "outputs": [
    {
     "name": "stdout",
     "output_type": "stream",
     "text": [
      "How many Fibonacci numbers would you like me to generate?:5\n",
      "[1, 1, 2, 3, 5]\n"
     ]
    }
   ],
   "source": [
    "#7. Write a program that asks the user how many Fibonnaci numbers to generate and then generates them.\n",
    "\n",
    "number = int(input(\"How many Fibonacci numbers would you like me to generate?:\"))\n",
    "if (number <= 0):\n",
    "    print(\"Number cannot be less than 1!\")\n",
    "else:\n",
    "    FibonacciArray = [0]*number\n",
    "    FibonacciArray[0] = 1\n",
    "    FibonacciCounter = 2\n",
    "    if (number > 1):\n",
    "        FibonacciArray[1] = 1\n",
    "    if (number > 2):\n",
    "        while FibonacciCounter < number:\n",
    "            FibonacciArray[FibonacciCounter] = FibonacciArray[FibonacciCounter - 2] + FibonacciArray[FibonacciCounter - 1]\n",
    "            FibonacciCounter = FibonacciCounter + 1 #increment FibonacciCounter\n",
    "    print(FibonacciArray)"
   ]
  },
  {
   "cell_type": "code",
   "execution_count": 27,
   "id": "36df6d08",
   "metadata": {},
   "outputs": [],
   "source": [
    "#8. Write a function that ask the user for a string and print out whether this string is a palindrome or not. \n",
    "\n",
    "def ispalindrome():\n",
    "    get = input('Input word: ').lower()\n",
    "    if get[0:]== get[::-1]:\n",
    "        print('The word you typed is a Palindrome ')\n",
    "    else:\n",
    "            print('The word you typed is not a Palindrome ')\n",
    "    return"
   ]
  },
  {
   "cell_type": "code",
   "execution_count": 28,
   "id": "8b41525a",
   "metadata": {},
   "outputs": [
    {
     "name": "stdout",
     "output_type": "stream",
     "text": [
      "Input word: madam\n",
      "The word you typed is a Palindrome \n"
     ]
    }
   ],
   "source": [
    "ispalindrome()"
   ]
  },
  {
   "cell_type": "code",
   "execution_count": 37,
   "id": "5825248d",
   "metadata": {},
   "outputs": [],
   "source": [
    "#9. Write a function that takes an ordered list of numbers\n",
    "#(a list where the elements are in order from smallest to largest) and another number\n",
    "\n",
    "def ordered_list(num):\n",
    "    lists = [1, 2, 3, 4, 5, 6 ,7, 7, 8, 9, 10]\n",
    "    lists.append(20)\n",
    "    print(lists)"
   ]
  },
  {
   "cell_type": "code",
   "execution_count": 38,
   "id": "a6bda7b7",
   "metadata": {},
   "outputs": [
    {
     "name": "stdout",
     "output_type": "stream",
     "text": [
      "[1, 2, 3, 4, 5, 6, 7, 7, 8, 9, 10, 20]\n"
     ]
    }
   ],
   "source": [
    "ordered_list(20)"
   ]
  },
  {
   "cell_type": "code",
   "execution_count": 36,
   "id": "966e321f",
   "metadata": {},
   "outputs": [
    {
     "name": "stdout",
     "output_type": "stream",
     "text": [
      "Enter your name: Uju\n",
      "What is your age: 24\n",
      "Hi, you will be 100 years old by year 2098\n"
     ]
    }
   ],
   "source": [
    "#10.Create a program that asks the user to enter their name and their age. \n",
    "#Print out a message addressed to them that tells them the year that they will turn 100 years old\n",
    "\n",
    "name = input('Enter your name: ')\n",
    "age = int(input('What is your age: '))\n",
    "K = 100 - age\n",
    "year = 2022 - int(age) + 100\n",
    "print('Hi, you will be 100 years old by year {}'.format(year))"
   ]
  },
  {
   "cell_type": "code",
   "execution_count": null,
   "id": "9f213a03",
   "metadata": {},
   "outputs": [],
   "source": []
  }
 ],
 "metadata": {
  "kernelspec": {
   "display_name": "Python 3 (ipykernel)",
   "language": "python",
   "name": "python3"
  },
  "language_info": {
   "codemirror_mode": {
    "name": "ipython",
    "version": 3
   },
   "file_extension": ".py",
   "mimetype": "text/x-python",
   "name": "python",
   "nbconvert_exporter": "python",
   "pygments_lexer": "ipython3",
   "version": "3.9.12"
  }
 },
 "nbformat": 4,
 "nbformat_minor": 5
}
