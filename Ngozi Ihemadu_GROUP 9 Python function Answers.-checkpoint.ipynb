{
 "cells": [
  {
   "cell_type": "code",
   "execution_count": 4,
   "id": "e711bbc5",
   "metadata": {},
   "outputs": [
    {
     "name": "stdout",
     "output_type": "stream",
     "text": [
      "The sum of the two numbers is 15 and the product of the two numbers is 54\n"
     ]
    }
   ],
   "source": [
    "#1. Write a function to calculate the multiplication and sum of two numbers.\n",
    "def com(num_1,num_2):\n",
    "    sum=num_1 + num_2\n",
    "    multi_ans=num_1 * num_2\n",
    "    return(\"The sum of the two numbers is {} and the product of the two numbers is {}\".format(sum,multi_ans))\n",
    "\n",
    "\n",
    "           \n",
    "print(calc(num_1 = 6,num_2 = 9))"
   ]
  },
  {
   "cell_type": "code",
   "execution_count": 9,
   "id": "25c346df",
   "metadata": {},
   "outputs": [
    {
     "name": "stdout",
     "output_type": "stream",
     "text": [
      "3\n"
     ]
    }
   ],
   "source": [
    "#2 .Write a function to print the sum of the current number and the previous number\n",
    "def sum_func(_list,element):\n",
    "    sum= element\n",
    "    i = 0\n",
    "    while i<len(_list):\n",
    "        if _list[i]==element:\n",
    "            break\n",
    "        i+=1\n",
    "        \n",
    "    sum+=_list[i-1]\n",
    "    return sum\n",
    "\n",
    "print(sum_func([1,2,3,4,5,6,7,8],2))"
   ]
  },
  {
   "cell_type": "code",
   "execution_count": 17,
   "id": "8bc50c5d",
   "metadata": {},
   "outputs": [
    {
     "name": "stdout",
     "output_type": "stream",
     "text": [
      "rdvdr\n"
     ]
    }
   ],
   "source": [
    "#3. Write a function to print characters from a string that are present at an even index number\n",
    "def even_index_str(any_str):\n",
    "    start=0\n",
    "    end=len(any_str)\n",
    "    new_str=\"\"\n",
    "    #print(end)\n",
    "    while start<end:\n",
    "        if start%2==0:\n",
    "            new_str+=any_str[start]\n",
    "        start+=1\n",
    "    return(new_str)\n",
    "    \n",
    "print(even_str('redivider'))\n",
    "    \n"
   ]
  },
  {
   "cell_type": "code",
   "execution_count": 18,
   "id": "e7166e32",
   "metadata": {},
   "outputs": [
    {
     "name": "stdout",
     "output_type": "stream",
     "text": [
      "acecar\n"
     ]
    }
   ],
   "source": [
    "#4. Write a function to remove first characters from a string\n",
    "def first_xteract_rem(any_str):\n",
    "    new_str= any_str[1:]\n",
    "    return new_str\n",
    "print(first_rem(\"racecar\"))\n",
    "\n"
   ]
  },
  {
   "cell_type": "code",
   "execution_count": 23,
   "id": "10c20814",
   "metadata": {},
   "outputs": [
    {
     "name": "stdout",
     "output_type": "stream",
     "text": [
      "True\n",
      "False\n"
     ]
    }
   ],
   "source": [
    "#5. Write a function to check if the first and last number of a list is the same\n",
    "def check_list(a_list):\n",
    "    ans=a_list[0]== a_list[-1]\n",
    "    return ans\n",
    "print(check_list([1,1,2,1]))\n",
    "print(check_list([0,1,2,9]))\n"
   ]
  },
  {
   "cell_type": "code",
   "execution_count": 30,
   "id": "536e9c9f",
   "metadata": {},
   "outputs": [
    {
     "name": "stdout",
     "output_type": "stream",
     "text": [
      "Multiplication Table for 1\n",
      "1 * 1 =  1\n",
      "1 * 2 =  2\n",
      "1 * 3 =  3\n",
      "1 * 4 =  4\n",
      "1 * 5 =  5\n",
      "1 * 6 =  6\n",
      "1 * 7 =  7\n",
      "1 * 8 =  8\n",
      "1 * 9 =  9\n",
      "1 * 10 =  10\n",
      "1 * 11 =  11\n",
      "1 * 12 =  12\n",
      "\n",
      "\n",
      "Multiplication Table for 2\n",
      "2 * 1 =  2\n",
      "2 * 2 =  4\n",
      "2 * 3 =  6\n",
      "2 * 4 =  8\n",
      "2 * 5 =  10\n",
      "2 * 6 =  12\n",
      "2 * 7 =  14\n",
      "2 * 8 =  16\n",
      "2 * 9 =  18\n",
      "2 * 10 =  20\n",
      "2 * 11 =  22\n",
      "2 * 12 =  24\n",
      "\n",
      "\n",
      "Multiplication Table for 3\n",
      "3 * 1 =  3\n",
      "3 * 2 =  6\n",
      "3 * 3 =  9\n",
      "3 * 4 =  12\n",
      "3 * 5 =  15\n",
      "3 * 6 =  18\n",
      "3 * 7 =  21\n",
      "3 * 8 =  24\n",
      "3 * 9 =  27\n",
      "3 * 10 =  30\n",
      "3 * 11 =  33\n",
      "3 * 12 =  36\n",
      "\n",
      "\n",
      "Multiplication Table for 4\n",
      "4 * 1 =  4\n",
      "4 * 2 =  8\n",
      "4 * 3 =  12\n",
      "4 * 4 =  16\n",
      "4 * 5 =  20\n",
      "4 * 6 =  24\n",
      "4 * 7 =  28\n",
      "4 * 8 =  32\n",
      "4 * 9 =  36\n",
      "4 * 10 =  40\n",
      "4 * 11 =  44\n",
      "4 * 12 =  48\n",
      "\n",
      "\n",
      "Multiplication Table for 5\n",
      "5 * 1 =  5\n",
      "5 * 2 =  10\n",
      "5 * 3 =  15\n",
      "5 * 4 =  20\n",
      "5 * 5 =  25\n",
      "5 * 6 =  30\n",
      "5 * 7 =  35\n",
      "5 * 8 =  40\n",
      "5 * 9 =  45\n",
      "5 * 10 =  50\n",
      "5 * 11 =  55\n",
      "5 * 12 =  60\n",
      "\n",
      "\n",
      "Multiplication Table for 6\n",
      "6 * 1 =  6\n",
      "6 * 2 =  12\n",
      "6 * 3 =  18\n",
      "6 * 4 =  24\n",
      "6 * 5 =  30\n",
      "6 * 6 =  36\n",
      "6 * 7 =  42\n",
      "6 * 8 =  48\n",
      "6 * 9 =  54\n",
      "6 * 10 =  60\n",
      "6 * 11 =  66\n",
      "6 * 12 =  72\n",
      "\n",
      "\n",
      "Multiplication Table for 7\n",
      "7 * 1 =  7\n",
      "7 * 2 =  14\n",
      "7 * 3 =  21\n",
      "7 * 4 =  28\n",
      "7 * 5 =  35\n",
      "7 * 6 =  42\n",
      "7 * 7 =  49\n",
      "7 * 8 =  56\n",
      "7 * 9 =  63\n",
      "7 * 10 =  70\n",
      "7 * 11 =  77\n",
      "7 * 12 =  84\n",
      "\n",
      "\n",
      "Multiplication Table for 8\n",
      "8 * 1 =  8\n",
      "8 * 2 =  16\n",
      "8 * 3 =  24\n",
      "8 * 4 =  32\n",
      "8 * 5 =  40\n",
      "8 * 6 =  48\n",
      "8 * 7 =  56\n",
      "8 * 8 =  64\n",
      "8 * 9 =  72\n",
      "8 * 10 =  80\n",
      "8 * 11 =  88\n",
      "8 * 12 =  96\n",
      "\n",
      "\n",
      "Multiplication Table for 9\n",
      "9 * 1 =  9\n",
      "9 * 2 =  18\n",
      "9 * 3 =  27\n",
      "9 * 4 =  36\n",
      "9 * 5 =  45\n",
      "9 * 6 =  54\n",
      "9 * 7 =  63\n",
      "9 * 8 =  72\n",
      "9 * 9 =  81\n",
      "9 * 10 =  90\n",
      "9 * 11 =  99\n",
      "9 * 12 =  108\n",
      "\n",
      "\n",
      "Multiplication Table for 10\n",
      "10 * 1 =  10\n",
      "10 * 2 =  20\n",
      "10 * 3 =  30\n",
      "10 * 4 =  40\n",
      "10 * 5 =  50\n",
      "10 * 6 =  60\n",
      "10 * 7 =  70\n",
      "10 * 8 =  80\n",
      "10 * 9 =  90\n",
      "10 * 10 =  100\n",
      "10 * 11 =  110\n",
      "10 * 12 =  120\n",
      "\n",
      "\n"
     ]
    }
   ],
   "source": [
    "#6. Write a function to print multiplication table from 1 to 10\n",
    "def mult_tables(stop_range):\n",
    "    for num in range(1,stop_range):\n",
    "        print(\"Multiplication Table for {}\".format(num))\n",
    "        for i in range(1,13):\n",
    "            print(\"{} * {} = \".format(num,i) ,num * i)\n",
    "        print(\"\\n\")\n",
    "tables(11)"
   ]
  },
  {
   "cell_type": "code",
   "execution_count": 37,
   "id": "2da32537",
   "metadata": {},
   "outputs": [
    {
     "name": "stdout",
     "output_type": "stream",
     "text": [
      "[32, 54, 61, 69, 71, 73]\n"
     ]
    }
   ],
   "source": [
    "\n",
    "\n",
    "#7. Given a two list of numbers, write a function to create a new list such that the new list should contain odd numbers from the first list and even numbers from the second list.\n",
    "def compilator(ist_list,second_list):\n",
    "    new_list=[]\n",
    "    for num in ist_list:\n",
    "        if num%2==0:\n",
    "            new_list.append(num)\n",
    "    for num in second_list:\n",
    "        if num%2!=0:\n",
    "            new_list.append(num)\n",
    "    return new_list\n",
    "print(compilator([31,32,33,54,59,],[60,61,69,70,71,73]))\n"
   ]
  },
  {
   "cell_type": "code",
   "execution_count": null,
   "id": "b097f85b",
   "metadata": {},
   "outputs": [],
   "source": []
  }
 ],
 "metadata": {
  "kernelspec": {
   "display_name": "Python 3 (ipykernel)",
   "language": "python",
   "name": "python3"
  },
  "language_info": {
   "codemirror_mode": {
    "name": "ipython",
    "version": 3
   },
   "file_extension": ".py",
   "mimetype": "text/x-python",
   "name": "python",
   "nbconvert_exporter": "python",
   "pygments_lexer": "ipython3",
   "version": "3.9.12"
  }
 },
 "nbformat": 4,
 "nbformat_minor": 5
}
