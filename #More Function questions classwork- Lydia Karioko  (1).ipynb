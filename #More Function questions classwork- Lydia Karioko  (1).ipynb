{
 "cells": [
  {
   "cell_type": "code",
   "execution_count": 3,
   "id": "99a90b66",
   "metadata": {},
   "outputs": [
    {
     "name": "stdout",
     "output_type": "stream",
     "text": [
      "The sum is 30\n"
     ]
    }
   ],
   "source": [
    "#1.Write a function to calculate the multiplication and sum of two numbers.\n",
    "def add_num(a,b):\n",
    "    sum=a+b;\n",
    "    return sum\n",
    "print(\"The sum is\",add_num(num1,num2))"
   ]
  },
  {
   "cell_type": "code",
   "execution_count": 7,
   "id": "4b5505e7",
   "metadata": {},
   "outputs": [
    {
     "name": "stdout",
     "output_type": "stream",
     "text": [
      "The product is 200\n"
     ]
    }
   ],
   "source": [
    "\n",
    "num1=10  \n",
    "num2=20\n",
    "\n",
    "def mlp_n(a,b):\n",
    "    multiply=a*b;\n",
    "    return multiply \n",
    "print(\"The product is\",mlp_n(num1,num2))"
   ]
  },
  {
   "cell_type": "code",
   "execution_count": 3,
   "id": "68903919",
   "metadata": {},
   "outputs": [
    {
     "name": "stdout",
     "output_type": "stream",
     "text": [
      "1\n",
      "3\n",
      "5\n",
      "7\n",
      "9\n",
      "11\n",
      "13\n",
      "15\n",
      "17\n",
      "19\n"
     ]
    }
   ],
   "source": [
    "#2.Write a function to print the sum of the current number and the previous number.\n",
    "sum = [1, 2, 3, 4, 5, 6,7,8,9,10]\n",
    "def cur_prev (num):\n",
    "    for i in range(len(num)):\n",
    "        if i == 0:\n",
    "            print (num[i])\n",
    "        else:\n",
    "            print(num[i-1] + num[i])\n",
    "            \n",
    "cur_prev(sum)\n",
    "    "
   ]
  },
  {
   "cell_type": "code",
   "execution_count": 105,
   "id": "e652b05f",
   "metadata": {},
   "outputs": [
    {
     "name": "stdout",
     "output_type": "stream",
     "text": [
      "word of choice: lenny\n",
      "l\n",
      "n\n",
      "y\n"
     ]
    }
   ],
   "source": [
    "#3.Write a function to print characters from a string that are present at an even index number\n",
    "\n",
    "def even(x):\n",
    "    for i in range(len(x)):\n",
    "         if i%2 == 0:\n",
    "            print(x[i])\n",
    "word= str(input('word of choice: '))\n",
    "even(word)\n"
   ]
  },
  {
   "cell_type": "code",
   "execution_count": 20,
   "id": "e5b4b8a8",
   "metadata": {},
   "outputs": [
    {
     "name": "stdout",
     "output_type": "stream",
     "text": [
      "e\n",
      "n\n",
      "n\n",
      "y\n"
     ]
    }
   ],
   "source": [
    "\n",
    "#4.Write a function to remove first characters from a string\n",
    "\n",
    "x = \"lenny\"\n",
    "def word(new):\n",
    "    for i in (new[1:]):\n",
    "         print(i)\n",
    "word(x)\n",
    "\n",
    "\n"
   ]
  },
  {
   "cell_type": "code",
   "execution_count": 29,
   "id": "45fda581",
   "metadata": {},
   "outputs": [
    {
     "name": "stdout",
     "output_type": "stream",
     "text": [
      "different numbers\n"
     ]
    }
   ],
   "source": [
    "#5.Write a function to check if the first and last number of a list is the same\n",
    "\n",
    "            \n",
    "numbers= [8,3,4,5,6,9]        \n",
    "def list_of(num):\n",
    "    if num[0]==num[-1]:\n",
    "        print(\"same numbers\")\n",
    "    else:\n",
    "        print(\"different numbers\")\n",
    "\n",
    "list_of(numbers)\n",
    "\n"
   ]
  },
  {
   "cell_type": "code",
   "execution_count": 106,
   "id": "1989cf25",
   "metadata": {},
   "outputs": [
    {
     "name": "stdout",
     "output_type": "stream",
     "text": [
      "\n",
      "1\t2\t3\t4\t5\t6\t7\t8\t9\t10\t2\t4\t6\t8\t10\t12\t14\t16\t18\t20\t3\t6\t9\t12\t15\t18\t21\t24\t27\t30\t4\t8\t12\t16\t20\t24\t28\t32\t36\t40\t5\t10\t15\t20\t25\t30\t35\t40\t45\t50\t6\t12\t18\t24\t30\t36\t42\t48\t54\t60\t7\t14\t21\t28\t35\t42\t49\t56\t63\t70\t8\t16\t24\t32\t40\t48\t56\t64\t72\t80\t9\t18\t27\t36\t45\t54\t63\t72\t81\t90\t10\t20\t30\t40\t50\t60\t70\t80\t90\t100\t"
     ]
    }
   ],
   "source": [
    "#6 Write a function to print multiplication table from 1 to 10.\n",
    "\n",
    "N=(1,2,3,4,5,6,7,8,9,10)\n",
    "def tablesOneToTen(num): \n",
    "    for i in range(1, 10+1):\n",
    "        for j in range(i, (i*10)+1):\n",
    "            if (j % i == 0):\n",
    "                print(j, end=\"\\t\")\n",
    "\n",
    "print()\n",
    "\n",
    "tablesOneToTen(N)\n",
    "\n",
    "\n",
    "            "
   ]
  },
  {
   "cell_type": "code",
   "execution_count": 60,
   "id": "6af1c71d",
   "metadata": {},
   "outputs": [
    {
     "data": {
      "text/plain": [
       "[1, 3, 9, 5, 10, 8, 6, 4]"
      ]
     },
     "execution_count": 60,
     "metadata": {},
     "output_type": "execute_result"
    }
   ],
   "source": [
    "7.#Given a two list of numbers, write a function to create a new list such that the new list \n",
    "#should contain odd numbers from the first list and even numbers from the second list.\n",
    "\n",
    "\n",
    "first = [1,2,3,4,9,4,5,6]\n",
    "second = [10,9,8,7,6,5,4,3]\n",
    "\n",
    "def new(l1, l2):\n",
    "    n_list = []\n",
    "    \n",
    "    for n in l1:\n",
    "        if n % 2 != 0:\n",
    "            n_list.append(n)\n",
    "    \n",
    "    for n in l2:\n",
    "        if n % 2 == 0:\n",
    "            n_list.append(n)\n",
    "    return n_list\n",
    "\n",
    "new(first,second)\n",
    "\n"
   ]
  }
 ],
 "metadata": {
  "kernelspec": {
   "display_name": "Python 3 (ipykernel)",
   "language": "python",
   "name": "python3"
  },
  "language_info": {
   "codemirror_mode": {
    "name": "ipython",
    "version": 3
   },
   "file_extension": ".py",
   "mimetype": "text/x-python",
   "name": "python",
   "nbconvert_exporter": "python",
   "pygments_lexer": "ipython3",
   "version": "3.9.12"
  }
 },
 "nbformat": 4,
 "nbformat_minor": 5
}
