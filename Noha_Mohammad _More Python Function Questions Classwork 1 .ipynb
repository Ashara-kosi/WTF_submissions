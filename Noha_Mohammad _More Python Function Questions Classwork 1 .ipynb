{
 "cells": [
  {
   "cell_type": "markdown",
   "metadata": {},
   "source": [
    "### 1.\tWrite a function to calculate the multiplication and sum of two numbers"
   ]
  },
  {
   "cell_type": "code",
   "execution_count": 14,
   "metadata": {},
   "outputs": [
    {
     "data": {
      "text/plain": [
       "'the sum is : 5 and the multiplication is 6'"
      ]
     },
     "execution_count": 14,
     "metadata": {},
     "output_type": "execute_result"
    }
   ],
   "source": [
    "def calc (x,y):\n",
    "    sumX_Y = x+y\n",
    "    multi = x*y\n",
    "    return ('the sum is : {0} and the multiplication is {1}'.format(sumX_Y, multi))\n",
    "\n",
    "calc (2,3)"
   ]
  },
  {
   "cell_type": "markdown",
   "metadata": {},
   "source": [
    "### 2.\tWrite a function to print the sum of the current number and the previous numberr"
   ]
  },
  {
   "cell_type": "code",
   "execution_count": 16,
   "metadata": {},
   "outputs": [
    {
     "data": {
      "text/plain": [
       "19"
      ]
     },
     "execution_count": 16,
     "metadata": {},
     "output_type": "execute_result"
    }
   ],
   "source": [
    "def current_previous (num) :\n",
    "    return num+(num-1)\n",
    "\n",
    "current_previous (10) "
   ]
  },
  {
   "cell_type": "markdown",
   "metadata": {},
   "source": [
    "### 3.\tWrite a function to print characters from a string that are present at an even index number"
   ]
  },
  {
   "cell_type": "code",
   "execution_count": 18,
   "metadata": {},
   "outputs": [
    {
     "name": "stdout",
     "output_type": "stream",
     "text": [
      "Enter a string: noha\n",
      "Even characters: ['n', 'h']\n"
     ]
    }
   ],
   "source": [
    "def Even_characters():\n",
    "    given_string = input('Enter a string: ')\n",
    "\n",
    "    res = []\n",
    "    for i in range(len(given_string)):\n",
    "        if i % 2 == 0:\n",
    "            res.append(given_string[i])\n",
    "\n",
    "    print('Even characters: {}'.format(res))\n",
    "    \n",
    "    \n",
    "Even_characters()\n"
   ]
  },
  {
   "cell_type": "markdown",
   "metadata": {},
   "source": [
    "### 4.\tWrite a function to remove first characters from a string"
   ]
  },
  {
   "cell_type": "code",
   "execution_count": 20,
   "metadata": {},
   "outputs": [
    {
     "name": "stdout",
     "output_type": "stream",
     "text": [
      "Enter a string: flamingo\n"
     ]
    },
    {
     "data": {
      "text/plain": [
       "'lamingo'"
      ]
     },
     "execution_count": 20,
     "metadata": {},
     "output_type": "execute_result"
    }
   ],
   "source": [
    "def remove_first():\n",
    "    given_string = input('Enter a string: ')\n",
    "\n",
    "    return given_string[1:]\n",
    "    \n",
    "remove_first()\n"
   ]
  },
  {
   "cell_type": "markdown",
   "metadata": {},
   "source": [
    "### 5.\tWrite a function to check if the first and last number of a list is the same"
   ]
  },
  {
   "cell_type": "code",
   "execution_count": 24,
   "metadata": {},
   "outputs": [
    {
     "name": "stdout",
     "output_type": "stream",
     "text": [
      "equal\n",
      "not equal\n"
     ]
    }
   ],
   "source": [
    "def first_last (my_list):\n",
    "    if my_list[0]==my_list[-1]:\n",
    "        return \"equal\"\n",
    "    else :\n",
    "        return \"not equal\"\n",
    "    \n",
    "print (first_last ([2,3,4,2]))\n",
    "print (first_last ([2,3,4,2,5]))"
   ]
  },
  {
   "cell_type": "markdown",
   "metadata": {},
   "source": [
    "### Write a function to print multiplication table from 1 to 10"
   ]
  },
  {
   "cell_type": "code",
   "execution_count": 29,
   "metadata": {},
   "outputs": [],
   "source": [
    "def multi_table ():\n",
    "    for i in range (1,11):\n",
    "        print ('\\n multiplication table for {0}\\n'.format(i))\n",
    "        for j in range (1,11):\n",
    "            print ('{0}X{1} = {2}'.format(i,j,i*j))"
   ]
  },
  {
   "cell_type": "code",
   "execution_count": 30,
   "metadata": {},
   "outputs": [
    {
     "name": "stdout",
     "output_type": "stream",
     "text": [
      "\n",
      " multiplication table for 1\n",
      "\n",
      "1X1 = 1\n",
      "1X2 = 2\n",
      "1X3 = 3\n",
      "1X4 = 4\n",
      "1X5 = 5\n",
      "1X6 = 6\n",
      "1X7 = 7\n",
      "1X8 = 8\n",
      "1X9 = 9\n",
      "1X10 = 10\n",
      "\n",
      " multiplication table for 2\n",
      "\n",
      "2X1 = 2\n",
      "2X2 = 4\n",
      "2X3 = 6\n",
      "2X4 = 8\n",
      "2X5 = 10\n",
      "2X6 = 12\n",
      "2X7 = 14\n",
      "2X8 = 16\n",
      "2X9 = 18\n",
      "2X10 = 20\n",
      "\n",
      " multiplication table for 3\n",
      "\n",
      "3X1 = 3\n",
      "3X2 = 6\n",
      "3X3 = 9\n",
      "3X4 = 12\n",
      "3X5 = 15\n",
      "3X6 = 18\n",
      "3X7 = 21\n",
      "3X8 = 24\n",
      "3X9 = 27\n",
      "3X10 = 30\n",
      "\n",
      " multiplication table for 4\n",
      "\n",
      "4X1 = 4\n",
      "4X2 = 8\n",
      "4X3 = 12\n",
      "4X4 = 16\n",
      "4X5 = 20\n",
      "4X6 = 24\n",
      "4X7 = 28\n",
      "4X8 = 32\n",
      "4X9 = 36\n",
      "4X10 = 40\n",
      "\n",
      " multiplication table for 5\n",
      "\n",
      "5X1 = 5\n",
      "5X2 = 10\n",
      "5X3 = 15\n",
      "5X4 = 20\n",
      "5X5 = 25\n",
      "5X6 = 30\n",
      "5X7 = 35\n",
      "5X8 = 40\n",
      "5X9 = 45\n",
      "5X10 = 50\n",
      "\n",
      " multiplication table for 6\n",
      "\n",
      "6X1 = 6\n",
      "6X2 = 12\n",
      "6X3 = 18\n",
      "6X4 = 24\n",
      "6X5 = 30\n",
      "6X6 = 36\n",
      "6X7 = 42\n",
      "6X8 = 48\n",
      "6X9 = 54\n",
      "6X10 = 60\n",
      "\n",
      " multiplication table for 7\n",
      "\n",
      "7X1 = 7\n",
      "7X2 = 14\n",
      "7X3 = 21\n",
      "7X4 = 28\n",
      "7X5 = 35\n",
      "7X6 = 42\n",
      "7X7 = 49\n",
      "7X8 = 56\n",
      "7X9 = 63\n",
      "7X10 = 70\n",
      "\n",
      " multiplication table for 8\n",
      "\n",
      "8X1 = 8\n",
      "8X2 = 16\n",
      "8X3 = 24\n",
      "8X4 = 32\n",
      "8X5 = 40\n",
      "8X6 = 48\n",
      "8X7 = 56\n",
      "8X8 = 64\n",
      "8X9 = 72\n",
      "8X10 = 80\n",
      "\n",
      " multiplication table for 9\n",
      "\n",
      "9X1 = 9\n",
      "9X2 = 18\n",
      "9X3 = 27\n",
      "9X4 = 36\n",
      "9X5 = 45\n",
      "9X6 = 54\n",
      "9X7 = 63\n",
      "9X8 = 72\n",
      "9X9 = 81\n",
      "9X10 = 90\n",
      "\n",
      " multiplication table for 10\n",
      "\n",
      "10X1 = 10\n",
      "10X2 = 20\n",
      "10X3 = 30\n",
      "10X4 = 40\n",
      "10X5 = 50\n",
      "10X6 = 60\n",
      "10X7 = 70\n",
      "10X8 = 80\n",
      "10X9 = 90\n",
      "10X10 = 100\n"
     ]
    }
   ],
   "source": [
    " multi_table ()"
   ]
  },
  {
   "cell_type": "markdown",
   "metadata": {},
   "source": [
    "### 7.\tGiven a two list of numbers, write a function to create a new list such that the new list should contain odd numbers from the first list and even numbers from the second list."
   ]
  },
  {
   "cell_type": "code",
   "execution_count": 32,
   "metadata": {},
   "outputs": [
    {
     "data": {
      "text/plain": [
       "[1, 3, 5, 7, 9, 10, 20, 30, 40, 50]"
      ]
     },
     "execution_count": 32,
     "metadata": {},
     "output_type": "execute_result"
    }
   ],
   "source": [
    "first =[1,2,3,4,5,6,7,8,9,10]\n",
    "second = [5,10,15,20,25,30,35,40,45,50]\n",
    "\n",
    "def two_lists(first,second):\n",
    "\n",
    "    res = []\n",
    "    for i in first:\n",
    "        if i % 2 == 1:\n",
    "            res.append(i)\n",
    "    for j in second:\n",
    "        if j % 2 == 0:\n",
    "            res.append(j)\n",
    "    return res \n",
    "    \n",
    "    \n",
    "two_lists(first ,second)\n"
   ]
  },
  {
   "cell_type": "code",
   "execution_count": null,
   "metadata": {},
   "outputs": [],
   "source": []
  }
 ],
 "metadata": {
  "kernelspec": {
   "display_name": "Python 3",
   "language": "python",
   "name": "python3"
  },
  "language_info": {
   "codemirror_mode": {
    "name": "ipython",
    "version": 3
   },
   "file_extension": ".py",
   "mimetype": "text/x-python",
   "name": "python",
   "nbconvert_exporter": "python",
   "pygments_lexer": "ipython3",
   "version": "3.8.5"
  }
 },
 "nbformat": 4,
 "nbformat_minor": 4
}
