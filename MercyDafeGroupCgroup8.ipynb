{
 "cells": [
  {
   "cell_type": "code",
   "execution_count": 26,
   "id": "4db8c99a",
   "metadata": {},
   "outputs": [
    {
     "name": "stdout",
     "output_type": "stream",
     "text": [
      "0 EVEN\n",
      "1 ODD\n",
      "2 EVEN\n",
      "3 ODD\n",
      "4 EVEN\n",
      "5 ODD\n"
     ]
    }
   ],
   "source": [
    "#Q1: Write a function called showNumbers that takes a parameter called limit\n",
    "#it should print all numbers btw 0 and it limit with a label to identify\n",
    "#the even and odd number numbers. for example, if the limit is 3, it should\n",
    "# 0 EVEN 1 ODD 2 EVEN 3 ODD\n",
    "\n",
    "def showNumber(limit):\n",
    "    #limit=[]\n",
    "    for i in range(0,limit+1):\n",
    "        if i%2==0:\n",
    "            print(i,\"EVEN\")\n",
    "        if i%2!=0:\n",
    "            print(i,\"ODD\")\n",
    "            \n",
    "showNumber(5)\n",
    "   \n",
    "\n"
   ]
  },
  {
   "cell_type": "code",
   "execution_count": 27,
   "id": "db414d87",
   "metadata": {},
   "outputs": [
    {
     "name": "stdout",
     "output_type": "stream",
     "text": [
      "0 3 5 6 9 10 12 15 18 20\n"
     ]
    }
   ],
   "source": [
    "#Q2:Write a function that returns the sum of multiple of 3 and 5 betwen 0 \n",
    "# and limit(parameter). for example, if limit is 20, it should return\n",
    "# sum of 3,5......\n",
    "\n",
    "def sumOfmultiple(limit):\n",
    "    for i in range(0,limit+1):\n",
    "        if i%3==0 or i%5==0:\n",
    "            parameter.append(i)\n",
    "    #print(parameter)\n",
    "    print(*parameter)\n",
    "        \n",
    "parameter=[]                       \n",
    "sumOfmultiple(20)"
   ]
  },
  {
   "cell_type": "code",
   "execution_count": 28,
   "id": "83b68333",
   "metadata": {},
   "outputs": [
    {
     "name": "stdout",
     "output_type": "stream",
     "text": [
      "*\n",
      "**\n",
      "***\n",
      "****\n",
      "*****\n"
     ]
    }
   ],
   "source": [
    "#3: Write a function called show_star(rows).if row is 5, it should print\n",
    "def show_star(row):\n",
    "    for i in range(0,row):\n",
    "        for j in range(0,i+1):\n",
    "            print(\"*\",end=\"\")\n",
    "        print(\"\")\n",
    "show_star(5)"
   ]
  },
  {
   "cell_type": "code",
   "execution_count": 30,
   "id": "aa4f3f37",
   "metadata": {},
   "outputs": [
    {
     "name": "stdout",
     "output_type": "stream",
     "text": [
      "Enter a number: 6\n",
      "[2, 3, 5]\n"
     ]
    }
   ],
   "source": [
    "# Q4:Write a function that prints all prime numbers btw 0 and limit where \n",
    "#limit is a parameter\n",
    "def primeNumber(limit):\n",
    "    prime=[]\n",
    "    for i in range(2,(limit+1)):\n",
    "        for j in range(2,i):\n",
    "            if i%j==0:\n",
    "                break\n",
    "        else:\n",
    "                prime.append(i)\n",
    "    print(prime)\n",
    "        \n",
    "limit=input(\"Enter a number: \")  \n",
    "\n",
    "primeNumber(int(limit))"
   ]
  },
  {
   "cell_type": "markdown",
   "id": "ece9f805",
   "metadata": {},
   "source": [
    "## "
   ]
  },
  {
   "cell_type": "code",
   "execution_count": 33,
   "id": "525c6948",
   "metadata": {},
   "outputs": [
    {
     "data": {
      "text/plain": [
       "[1, 2, 3, 4, 5, 6, 7, 8, 9, 10]"
      ]
     },
     "execution_count": 33,
     "metadata": {},
     "output_type": "execute_result"
    }
   ],
   "source": [
    "#Q5: Write a function that takes a list and return a new list that contains\n",
    "# all the elements of the first list minus all the duplicates\n",
    "def List(l):\n",
    "    newlist=[]\n",
    "    for a in l:\n",
    "        if a not in newlist:\n",
    "            newlist.append(a)\n",
    "    return newlist       \n",
    "        \n",
    "l=[1,1,1,2,3,4,4,5,6,7,8,8,9,9,10]\n",
    "List(l)"
   ]
  },
  {
   "cell_type": "code",
   "execution_count": 51,
   "id": "420d5c6c",
   "metadata": {},
   "outputs": [
    {
     "name": "stdout",
     "output_type": "stream",
     "text": [
      "Enter a number: 3\n",
      "3 is a prime number\n"
     ]
    }
   ],
   "source": [
    "#6: Write a function to ask the user for  a number and determine weather\n",
    "# the number is a prime or not\n",
    "\n",
    "def primeOrnot(Question):\n",
    "    if Question%2==1:\n",
    "        print(Question,\"is a prime number\")\n",
    "    else:\n",
    "        print(Question,\"is not a prime number\")\n",
    "        \n",
    "Question=int(input(\"Enter a number: \"))\n",
    "primeOrnot(Question)"
   ]
  },
  {
   "cell_type": "code",
   "execution_count": 25,
   "id": "fa7ae499",
   "metadata": {},
   "outputs": [
    {
     "name": "stdout",
     "output_type": "stream",
     "text": [
      "How many fibonnaci numbers to generate? :6\n",
      "6\n",
      "0 1 1 2 3 5 "
     ]
    }
   ],
   "source": [
    "#7: Write a program that asks the user how many fibonnaci numbers \n",
    "# to generate and then generate them\n",
    "def fibonnaci():\n",
    "    fib_num=int(input(\"How many fibonnaci numbers to generate? :\"))\n",
    "    count=0\n",
    "    num1,num2=0,1\n",
    "    if fib_num<0:\n",
    "        print(\"Incorrect\")\n",
    "        \n",
    "    elif fib_num==0:\n",
    "        print(fib_num)\n",
    "        print(num1)\n",
    "    elif fib_num==1 or fib_num==2:\n",
    "        print(fib_num)\n",
    "        print(num2)\n",
    "    else:\n",
    "        print(fib_num)\n",
    "    while(count<fib_num):\n",
    "        print(num1,end=\" \")\n",
    "        number=num1+num2\n",
    "        num1=num2\n",
    "        num2=number\n",
    "        count+=1\n",
    "fibonnaci() "
   ]
  },
  {
   "cell_type": "code",
   "execution_count": 34,
   "id": "00bfb250",
   "metadata": {},
   "outputs": [
    {
     "name": "stdout",
     "output_type": "stream",
     "text": [
      "Enter a word: madam\n"
     ]
    },
    {
     "data": {
      "text/plain": [
       "'This is a palindrome'"
      ]
     },
     "execution_count": 34,
     "metadata": {},
     "output_type": "execute_result"
    }
   ],
   "source": [
    "#8 Write a function that ask the user for a string and print out weather\n",
    "# this string is a palindrome or not\n",
    "def ispalindrome(String):\n",
    "    #while string[0:]==string[-1]:\n",
    "        if string==string[::-1]:\n",
    "            return(\"This is a palindrome\")\n",
    "        else:\n",
    "            return(\"This is not a palindrome\")\n",
    "            \n",
    "string=input(\"Enter a word: \")            \n",
    "ispalindrome(string)\n",
    "    "
   ]
  },
  {
   "cell_type": "code",
   "execution_count": 40,
   "id": "cec5f0f1",
   "metadata": {},
   "outputs": [
    {
     "data": {
      "text/plain": [
       "[0, 1, 2, 3, 4, 5, 6, 7, 8, 9, 20]"
      ]
     },
     "execution_count": 40,
     "metadata": {},
     "output_type": "execute_result"
    }
   ],
   "source": [
    "# 9:Write a function that takes an ordered list of numbers(a list where)\n",
    "# the elements are in order from the smallest to the largest and another no\n",
    "def orderedList(x):\n",
    "    newlist=[]\n",
    "    for i in range(0,10):\n",
    "        if i not in newlist:\n",
    "            newlist.append(i)\n",
    "    if x not in newlist:\n",
    "        newlist.append(x)\n",
    "        #print(newlist)\n",
    "    \n",
    "    return(newlist)\n",
    "            \n",
    "x=20\n",
    "orderedList(x)\n",
    "        \n",
    "\n"
   ]
  },
  {
   "cell_type": "code",
   "execution_count": 20,
   "id": "f3bd7f57",
   "metadata": {},
   "outputs": [
    {
     "name": "stdout",
     "output_type": "stream",
     "text": [
      "Enter your name: ebele\n",
      "Enter your age: 24\n",
      "Hi ebele\n",
      "You will turn 100years in 2098 years to come\n"
     ]
    }
   ],
   "source": [
    "#10: Create a program that asks the user to enter their name and their age\n",
    "#print out a message addressed to them that tells them the year that they \n",
    "# will turn 100years of old.\n",
    "\n",
    "from datetime import datetime\n",
    "def UserProfile(name,age):\n",
    "    newage=((100-age)+datetime.now().year)\n",
    "    print(\"Hi\",name)\n",
    "    print(\"You will turn 100years in\",newage,\"years to come\")\n",
    "    \n",
    "    \n",
    "name=input(\"Enter your name: \")\n",
    "age=int(input(\"Enter your age: \"))   \n",
    "UserProfile(name,age)"
   ]
  }
 ],
 "metadata": {
  "kernelspec": {
   "display_name": "Python 3 (ipykernel)",
   "language": "python",
   "name": "python3"
  },
  "language_info": {
   "codemirror_mode": {
    "name": "ipython",
    "version": 3
   },
   "file_extension": ".py",
   "mimetype": "text/x-python",
   "name": "python",
   "nbconvert_exporter": "python",
   "pygments_lexer": "ipython3",
   "version": "3.9.12"
  }
 },
 "nbformat": 4,
 "nbformat_minor": 5
}
