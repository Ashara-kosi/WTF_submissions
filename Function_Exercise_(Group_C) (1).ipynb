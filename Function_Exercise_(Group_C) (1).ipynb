{
  "nbformat": 4,
  "nbformat_minor": 0,
  "metadata": {
    "colab": {
      "provenance": [],
      "collapsed_sections": []
    },
    "kernelspec": {
      "name": "python3",
      "display_name": "Python 3"
    },
    "language_info": {
      "name": "python"
    }
  },
  "cells": [
    {
      "cell_type": "code",
      "execution_count": 26,
      "metadata": {
        "id": "46hJ-PBKgSeC"
      },
      "outputs": [],
      "source": [
        "def sum_multip(x, y):\n",
        "# This fuction takes two numbers and return their sum & multiplication product\n",
        "    sum = x+y\n",
        "    multip = x*y\n",
        "    print('(sum, multiple)'), \n",
        "    return((sum, multip))\n",
        "    "
      ]
    },
    {
      "cell_type": "code",
      "source": [
        "sum_multip(7,30)"
      ],
      "metadata": {
        "colab": {
          "base_uri": "https://localhost:8080/"
        },
        "id": "SIgah4P8gn0g",
        "outputId": "fbfc2feb-a7d4-4985-f82f-dce9193f3578"
      },
      "execution_count": 27,
      "outputs": [
        {
          "output_type": "stream",
          "name": "stdout",
          "text": [
            "(sum, multiple)\n"
          ]
        },
        {
          "output_type": "execute_result",
          "data": {
            "text/plain": [
              "(37, 210)"
            ]
          },
          "metadata": {},
          "execution_count": 27
        }
      ]
    },
    {
      "cell_type": "code",
      "source": [
        "def even_char(string):\n",
        "# This function takes a string as input and return a list of chars corresponding to even index  \n",
        "#WE CONSIDER 0 AS EVEN NUMBER HERE\n",
        "    even_str = [] \n",
        "\n",
        "    for i in range(len(string) + 1) :\n",
        "\n",
        "        if i % 2 == 0:\n",
        "            even_str.append(string[i])\n",
        "    print('Even chars are:') \n",
        "    return (even_str)"
      ],
      "metadata": {
        "id": "S_uORRrAgoO3"
      },
      "execution_count": 5,
      "outputs": []
    },
    {
      "cell_type": "code",
      "source": [
        "even_char('hfdssthjvckll')"
      ],
      "metadata": {
        "colab": {
          "base_uri": "https://localhost:8080/"
        },
        "id": "ntkWJ_LBgoeF",
        "outputId": "d379a134-8e92-48d9-daf5-62caf331d3b5"
      },
      "execution_count": 6,
      "outputs": [
        {
          "output_type": "stream",
          "name": "stdout",
          "text": [
            "Even chars are:\n"
          ]
        },
        {
          "output_type": "execute_result",
          "data": {
            "text/plain": [
              "['h', 'd', 's', 'h', 'v', 'k', 'l']"
            ]
          },
          "metadata": {},
          "execution_count": 6
        }
      ]
    },
    {
      "cell_type": "code",
      "source": [
        "def sum(current):\n",
        "# This function takes in a number and return the sum of that number and the number previous it\n",
        "    previous = current - 1\n",
        "    print('The sum is: ')\n",
        "    return ( current + previous)"
      ],
      "metadata": {
        "id": "5evDxvEmm-mP"
      },
      "execution_count": 20,
      "outputs": []
    },
    {
      "cell_type": "code",
      "source": [
        " sum(9)"
      ],
      "metadata": {
        "colab": {
          "base_uri": "https://localhost:8080/"
        },
        "id": "uvM8rMpim-wR",
        "outputId": "4cdfdca6-08ec-4336-fc85-d63b2b595d3a"
      },
      "execution_count": 21,
      "outputs": [
        {
          "output_type": "stream",
          "name": "stdout",
          "text": [
            "The sum is: \n"
          ]
        },
        {
          "output_type": "execute_result",
          "data": {
            "text/plain": [
              "17"
            ]
          },
          "metadata": {},
          "execution_count": 21
        }
      ]
    },
    {
      "cell_type": "code",
      "source": [
        "def remove_str(name):\n",
        "# This function takes in a string and remove the first char and return the new string\n",
        "    new_str = name[1:]\n",
        "    print('The new string is: ')\n",
        "    return(new_str)"
      ],
      "metadata": {
        "id": "_GSFn-Hrm-5X"
      },
      "execution_count": 28,
      "outputs": []
    },
    {
      "cell_type": "code",
      "source": [
        "remove_str('ahmed')"
      ],
      "metadata": {
        "colab": {
          "base_uri": "https://localhost:8080/",
          "height": 53
        },
        "id": "7Jzwugcdm_KX",
        "outputId": "5d452371-e9dd-4c5b-ddf6-80fdf1405c59"
      },
      "execution_count": 29,
      "outputs": [
        {
          "output_type": "stream",
          "name": "stdout",
          "text": [
            "The new string is: \n"
          ]
        },
        {
          "output_type": "execute_result",
          "data": {
            "text/plain": [
              "'hmed'"
            ],
            "application/vnd.google.colaboratory.intrinsic+json": {
              "type": "string"
            }
          },
          "metadata": {},
          "execution_count": 29
        }
      ]
    },
    {
      "cell_type": "code",
      "source": [
        "def check_list(list):\n",
        "# This function check if the 1st and last elements in a list are the same or not\n",
        "    if list[0] == list[-1]:\n",
        "        return ('The two items are the same') \n",
        "    else:\n",
        "        return ('The two items are not the same')"
      ],
      "metadata": {
        "id": "4skeGp1Mm_Tu"
      },
      "execution_count": 30,
      "outputs": []
    },
    {
      "cell_type": "code",
      "source": [
        "check_list([1,4,6,6,8,9,5,7,3])"
      ],
      "metadata": {
        "colab": {
          "base_uri": "https://localhost:8080/",
          "height": 35
        },
        "id": "6OEjkmtkm_We",
        "outputId": "07f5aee6-5da5-440e-be0b-db6a540d8e79"
      },
      "execution_count": 12,
      "outputs": [
        {
          "output_type": "execute_result",
          "data": {
            "text/plain": [
              "'They are not the same'"
            ],
            "application/vnd.google.colaboratory.intrinsic+json": {
              "type": "string"
            }
          },
          "metadata": {},
          "execution_count": 12
        }
      ]
    },
    {
      "cell_type": "code",
      "source": [
        "def multip_table(start, end):\n",
        "# This function produce the multiplication tables for all the numbers betten start and end\n",
        "    for item in range(start, (end+1)):\n",
        "        print ('Multiplication table for ', item) \n",
        "        for i in range (13):\n",
        "            \n",
        "            multi = i * item\n",
        "            print( i, '*', item, '=', multi)"
      ],
      "metadata": {
        "id": "UYlDxsd6m_Y4"
      },
      "execution_count": 31,
      "outputs": []
    },
    {
      "cell_type": "code",
      "source": [
        "multip_table(1, 10)"
      ],
      "metadata": {
        "colab": {
          "base_uri": "https://localhost:8080/"
        },
        "id": "opatHpF8qHnA",
        "outputId": "b99885aa-8237-4500-c283-5e9d57dd2252"
      },
      "execution_count": 14,
      "outputs": [
        {
          "output_type": "stream",
          "name": "stdout",
          "text": [
            "Multiplication table for  1\n",
            "0 * 1 = 0\n",
            "1 * 1 = 1\n",
            "2 * 1 = 2\n",
            "3 * 1 = 3\n",
            "4 * 1 = 4\n",
            "5 * 1 = 5\n",
            "6 * 1 = 6\n",
            "7 * 1 = 7\n",
            "8 * 1 = 8\n",
            "9 * 1 = 9\n",
            "10 * 1 = 10\n",
            "11 * 1 = 11\n",
            "12 * 1 = 12\n",
            "Multiplication table for  2\n",
            "0 * 2 = 0\n",
            "1 * 2 = 2\n",
            "2 * 2 = 4\n",
            "3 * 2 = 6\n",
            "4 * 2 = 8\n",
            "5 * 2 = 10\n",
            "6 * 2 = 12\n",
            "7 * 2 = 14\n",
            "8 * 2 = 16\n",
            "9 * 2 = 18\n",
            "10 * 2 = 20\n",
            "11 * 2 = 22\n",
            "12 * 2 = 24\n",
            "Multiplication table for  3\n",
            "0 * 3 = 0\n",
            "1 * 3 = 3\n",
            "2 * 3 = 6\n",
            "3 * 3 = 9\n",
            "4 * 3 = 12\n",
            "5 * 3 = 15\n",
            "6 * 3 = 18\n",
            "7 * 3 = 21\n",
            "8 * 3 = 24\n",
            "9 * 3 = 27\n",
            "10 * 3 = 30\n",
            "11 * 3 = 33\n",
            "12 * 3 = 36\n",
            "Multiplication table for  4\n",
            "0 * 4 = 0\n",
            "1 * 4 = 4\n",
            "2 * 4 = 8\n",
            "3 * 4 = 12\n",
            "4 * 4 = 16\n",
            "5 * 4 = 20\n",
            "6 * 4 = 24\n",
            "7 * 4 = 28\n",
            "8 * 4 = 32\n",
            "9 * 4 = 36\n",
            "10 * 4 = 40\n",
            "11 * 4 = 44\n",
            "12 * 4 = 48\n",
            "Multiplication table for  5\n",
            "0 * 5 = 0\n",
            "1 * 5 = 5\n",
            "2 * 5 = 10\n",
            "3 * 5 = 15\n",
            "4 * 5 = 20\n",
            "5 * 5 = 25\n",
            "6 * 5 = 30\n",
            "7 * 5 = 35\n",
            "8 * 5 = 40\n",
            "9 * 5 = 45\n",
            "10 * 5 = 50\n",
            "11 * 5 = 55\n",
            "12 * 5 = 60\n",
            "Multiplication table for  6\n",
            "0 * 6 = 0\n",
            "1 * 6 = 6\n",
            "2 * 6 = 12\n",
            "3 * 6 = 18\n",
            "4 * 6 = 24\n",
            "5 * 6 = 30\n",
            "6 * 6 = 36\n",
            "7 * 6 = 42\n",
            "8 * 6 = 48\n",
            "9 * 6 = 54\n",
            "10 * 6 = 60\n",
            "11 * 6 = 66\n",
            "12 * 6 = 72\n",
            "Multiplication table for  7\n",
            "0 * 7 = 0\n",
            "1 * 7 = 7\n",
            "2 * 7 = 14\n",
            "3 * 7 = 21\n",
            "4 * 7 = 28\n",
            "5 * 7 = 35\n",
            "6 * 7 = 42\n",
            "7 * 7 = 49\n",
            "8 * 7 = 56\n",
            "9 * 7 = 63\n",
            "10 * 7 = 70\n",
            "11 * 7 = 77\n",
            "12 * 7 = 84\n",
            "Multiplication table for  8\n",
            "0 * 8 = 0\n",
            "1 * 8 = 8\n",
            "2 * 8 = 16\n",
            "3 * 8 = 24\n",
            "4 * 8 = 32\n",
            "5 * 8 = 40\n",
            "6 * 8 = 48\n",
            "7 * 8 = 56\n",
            "8 * 8 = 64\n",
            "9 * 8 = 72\n",
            "10 * 8 = 80\n",
            "11 * 8 = 88\n",
            "12 * 8 = 96\n",
            "Multiplication table for  9\n",
            "0 * 9 = 0\n",
            "1 * 9 = 9\n",
            "2 * 9 = 18\n",
            "3 * 9 = 27\n",
            "4 * 9 = 36\n",
            "5 * 9 = 45\n",
            "6 * 9 = 54\n",
            "7 * 9 = 63\n",
            "8 * 9 = 72\n",
            "9 * 9 = 81\n",
            "10 * 9 = 90\n",
            "11 * 9 = 99\n",
            "12 * 9 = 108\n",
            "Multiplication table for  10\n",
            "0 * 10 = 0\n",
            "1 * 10 = 10\n",
            "2 * 10 = 20\n",
            "3 * 10 = 30\n",
            "4 * 10 = 40\n",
            "5 * 10 = 50\n",
            "6 * 10 = 60\n",
            "7 * 10 = 70\n",
            "8 * 10 = 80\n",
            "9 * 10 = 90\n",
            "10 * 10 = 100\n",
            "11 * 10 = 110\n",
            "12 * 10 = 120\n"
          ]
        }
      ]
    },
    {
      "cell_type": "code",
      "source": [
        "def odd_even(list1, list2):\n",
        "# This function takes two list and returns a combined list for odd numbers from the first one ans even numbers from the second\n",
        "    output_list = [] \n",
        "    for item in list1:\n",
        "        if item %2 == 0:\n",
        "            continue\n",
        "        else:\n",
        "             output_list.append(item) \n",
        "    for item in list2:\n",
        "        if item %2==0:\n",
        "            output_list.append(item)\n",
        "    \n",
        "    print('The new combined list is: ')\n",
        "    return(output_list)"
      ],
      "metadata": {
        "id": "rzN7UXiOqHpo"
      },
      "execution_count": 36,
      "outputs": []
    },
    {
      "cell_type": "code",
      "source": [
        "odd_even([1,4,6,6,8,9,5,7,3,1], [7,8,9,3,7,5,4,2] )"
      ],
      "metadata": {
        "colab": {
          "base_uri": "https://localhost:8080/"
        },
        "id": "pC-p_9r0qHsh",
        "outputId": "8a5f3d2a-6b0c-441e-e59f-676c248d0502"
      },
      "execution_count": 37,
      "outputs": [
        {
          "output_type": "stream",
          "name": "stdout",
          "text": [
            "The new combined list is: \n"
          ]
        },
        {
          "output_type": "execute_result",
          "data": {
            "text/plain": [
              "[1, 9, 5, 7, 3, 1, 8, 4, 2]"
            ]
          },
          "metadata": {},
          "execution_count": 37
        }
      ]
    }
  ]
}