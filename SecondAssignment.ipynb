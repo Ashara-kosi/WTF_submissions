{
 "cells": [
  {
   "cell_type": "markdown",
   "id": "739b4302",
   "metadata": {},
   "source": [
    "Write a function called showNumbers that takes a parameter called limit. It should print\n",
    "all the numbers between 0 and limit with a label to identify the even and odd numbers.\n",
    "For example, if the limit is 3, it should print:0 EVEN 1 ODD 2 EVEN 3 ODD"
   ]
  },
  {
   "cell_type": "code",
   "execution_count": 4,
   "id": "bf408ebe",
   "metadata": {},
   "outputs": [
    {
     "name": "stdout",
     "output_type": "stream",
     "text": [
      "0 EVEN 1 ODD 2 EVEN 3 ODD 4 EVEN 5 ODD 6 EVEN 7 ODD "
     ]
    }
   ],
   "source": [
    "def showNumbers(limit):\n",
    "    for i in range(limit + 1):\n",
    "        if i % 2 == 0:\n",
    "            print(i, 'EVEN', end=' ')\n",
    "        else:\n",
    "            print(i, 'ODD', end =' ')\n",
    "            \n",
    "            \n",
    "#testing the function\n",
    "test = 7\n",
    "showNumbers(test)"
   ]
  },
  {
   "cell_type": "markdown",
   "id": "4fc805d9",
   "metadata": {},
   "source": [
    "Write a function that returns the sum of multiples of 3 and 5 between 0\n",
    "and limit (parameter). For example, if limit is 20, it should return the sum of 3, 5, 6, 9, 10,\n",
    "12, 15, 18, 20."
   ]
  },
  {
   "cell_type": "code",
   "execution_count": 21,
   "id": "bbd9e7f1",
   "metadata": {},
   "outputs": [
    {
     "name": "stdout",
     "output_type": "stream",
     "text": [
      "23\n"
     ]
    }
   ],
   "source": [
    "def sum_multiple_3_5(limit):\n",
    "    num = []\n",
    "    for i in range(limit+1):\n",
    "        if i % 3 == 0 or i % 5 == 0:\n",
    "            num.append(i)\n",
    "    print(sum(num))\n",
    "            \n",
    "        \n",
    "#testing the function\n",
    "test = 9\n",
    "sum_multiple_3_5(test)"
   ]
  },
  {
   "cell_type": "markdown",
   "id": "1c1d4450",
   "metadata": {},
   "source": [
    "Write a function called show_stars(rows). If rows is 5, it should print the\n",
    "following:"
   ]
  },
  {
   "cell_type": "code",
   "execution_count": 23,
   "id": "8861555c",
   "metadata": {},
   "outputs": [
    {
     "name": "stdout",
     "output_type": "stream",
     "text": [
      "******************"
     ]
    }
   ],
   "source": [
    "def show_stars(rows):\n",
    "    for i in range(rows + 1):\n",
    "        print('***',end = '')\n",
    "        \n",
    "        \n",
    "#testing the function\n",
    "test = 5\n",
    "show_stars(test)"
   ]
  },
  {
   "cell_type": "markdown",
   "id": "2c8503d1",
   "metadata": {},
   "source": [
    "Write a function that prints all the prime numbers between 0 and limit where limit is a\n",
    "parameter"
   ]
  },
  {
   "cell_type": "code",
   "execution_count": 48,
   "id": "6f14df47",
   "metadata": {},
   "outputs": [
    {
     "name": "stdout",
     "output_type": "stream",
     "text": [
      "1\n",
      "2\n",
      "3\n",
      "5\n",
      "7\n"
     ]
    }
   ],
   "source": [
    "def prime_numbers(limit):\n",
    "    for i in range(1, limit + 1):\n",
    "        for j in range(2, i):\n",
    "            if i % j == 0:\n",
    "                break\n",
    "        else:\n",
    "              print(i)\n",
    "            \n",
    "\n",
    "#testing the function\n",
    "prime_numbers(8)"
   ]
  },
  {
   "cell_type": "markdown",
   "id": "330dc8de",
   "metadata": {},
   "source": [
    "Write a program (function!) that takes a list and returns a new list that contains all the\n",
    "elements of the first list minus all the duplicates."
   ]
  },
  {
   "cell_type": "code",
   "execution_count": 45,
   "id": "a45204a8",
   "metadata": {},
   "outputs": [
    {
     "name": "stdout",
     "output_type": "stream",
     "text": [
      "[1, 2, 3, 4, 5, 6, 7]\n"
     ]
    }
   ],
   "source": [
    "def new_list(list):\n",
    "    list_b =[]\n",
    "    for i in list:\n",
    "        if i not in list_b:\n",
    "            list_b.append(i)\n",
    "    print(list_b)\n",
    "        \n",
    "#testing\n",
    "test = [1,2,2,3,4,5,5,6,6,7]\n",
    "new_list(test)"
   ]
  },
  {
   "cell_type": "markdown",
   "id": "e453f226",
   "metadata": {},
   "source": [
    "Write a function to ask the user for a number and determine whether the number is\n",
    "prime or not"
   ]
  },
  {
   "cell_type": "code",
   "execution_count": 62,
   "id": "7bd39145",
   "metadata": {},
   "outputs": [
    {
     "name": "stdout",
     "output_type": "stream",
     "text": [
      "Enter a number: 5\n",
      "5 is a prime number\n"
     ]
    }
   ],
   "source": [
    "def is_prime():\n",
    "    number = int(input(\"Enter a number: \"))\n",
    "    for i in range(number,  number + 1):\n",
    "        for j in range(2, i):\n",
    "            if i % j == 0:\n",
    "                print(\"{} is not a prime number\".format(number))\n",
    "                break\n",
    "            else:\n",
    "                print(\"{} is a prime number\".format(number))\n",
    "                break\n",
    "            \n",
    "\n",
    "#testing the function\n",
    "is_prime()"
   ]
  },
  {
   "cell_type": "markdown",
   "id": "d2ffa061",
   "metadata": {},
   "source": [
    "Write a program that asks the user how many Fibonnaci numbers to generate and then\n",
    "generates them"
   ]
  },
  {
   "cell_type": "code",
   "execution_count": 101,
   "id": "19701924",
   "metadata": {},
   "outputs": [
    {
     "name": "stdout",
     "output_type": "stream",
     "text": [
      "How many Fibonacci numbers do you want to generate: 5\n",
      "0\n",
      "1\n",
      "1\n",
      "2\n",
      "3\n"
     ]
    }
   ],
   "source": [
    "def is_fibonacci():\n",
    "    i,j = 0,1\n",
    "    count = 0\n",
    "    number= int(input(\"How many Fibonacci numbers do you want to generate: \"))\n",
    "   \n",
    "    if number < 0:\n",
    "        print(\"number must be positive\")\n",
    " \n",
    "    elif number == 0:\n",
    "        return 0\n",
    "    elif number == 1 or number == 2:\n",
    "        return 1\n",
    " \n",
    "    else:\n",
    "        while count < number:\n",
    "            print(i)\n",
    "            nth = i + j\n",
    "            i = j\n",
    "            j = nth\n",
    "            count += 1\n",
    "\n",
    "            \n",
    "#testing\n",
    "is_fibonacci()"
   ]
  },
  {
   "cell_type": "markdown",
   "id": "88e3f685",
   "metadata": {},
   "source": [
    "Write a function that ask the user for a string and print out whether this string is a\n",
    "palindrome or not."
   ]
  },
  {
   "cell_type": "code",
   "execution_count": 163,
   "id": "8f2d62fd",
   "metadata": {},
   "outputs": [
    {
     "name": "stdout",
     "output_type": "stream",
     "text": [
      "This is not a palindrome\n"
     ]
    }
   ],
   "source": [
    "def is_palindrome(string):\n",
    "    if string == string[::-1]:\n",
    "        print(\"This is a palindrome\")\n",
    "    else:\n",
    "        print(\"This is not a palindrome\")\n",
    "\n",
    "\n",
    "\n",
    "#testing\n",
    "is_palindrome(\"apple\")"
   ]
  },
  {
   "cell_type": "markdown",
   "id": "2c307524",
   "metadata": {},
   "source": [
    "Write a function that takes an ordered list of numbers (a list where the elements are in\n",
    "order from smallest to largest) and another number"
   ]
  },
  {
   "cell_type": "code",
   "execution_count": 176,
   "id": "848dc1c3",
   "metadata": {},
   "outputs": [
    {
     "data": {
      "text/plain": [
       "[0, 1, 2, 3, 4, 5]"
      ]
     },
     "execution_count": 176,
     "metadata": {},
     "output_type": "execute_result"
    }
   ],
   "source": [
    "def ordered_list(list_a):\n",
    "    j = 0\n",
    "    new = []\n",
    "    for i in list_a:\n",
    "        if i < j:\n",
    "            new.append(i)\n",
    "        else:\n",
    "            new.append(j)\n",
    "        j += 1\n",
    "    return new\n",
    "            \n",
    "list = [1,3,2,4,6,5]\n",
    "ordered_list(list)"
   ]
  },
  {
   "cell_type": "markdown",
   "id": "357d94e3",
   "metadata": {},
   "source": [
    "Create a program that asks the user to enter their name and their age. Print out a\n",
    "message addressed to them that tells them the year that they will turn 100 years old"
   ]
  },
  {
   "cell_type": "code",
   "execution_count": 125,
   "id": "4ab2f9ae",
   "metadata": {},
   "outputs": [
    {
     "name": "stdout",
     "output_type": "stream",
     "text": [
      "Enter your name: Kehinde\n",
      "How old are you: 20\n",
      "You will be 100 in 80 years time\n"
     ]
    }
   ],
   "source": [
    "def years_till_100():\n",
    "    name = input(\"Enter your name: \")\n",
    "    age = int(input(\"How old are you: \"))\n",
    "    print(\"You will be 100years old in {} years\".format(100 - age))\n",
    "    \n",
    "#testing\n",
    "years_till_100()"
   ]
  },
  {
   "cell_type": "code",
   "execution_count": null,
   "id": "0846a702",
   "metadata": {},
   "outputs": [],
   "source": []
  }
 ],
 "metadata": {
  "kernelspec": {
   "display_name": "Python 3 (ipykernel)",
   "language": "python",
   "name": "python3"
  },
  "language_info": {
   "codemirror_mode": {
    "name": "ipython",
    "version": 3
   },
   "file_extension": ".py",
   "mimetype": "text/x-python",
   "name": "python",
   "nbconvert_exporter": "python",
   "pygments_lexer": "ipython3",
   "version": "3.9.7"
  }
 },
 "nbformat": 4,
 "nbformat_minor": 5
}
