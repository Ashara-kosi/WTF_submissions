{
  "nbformat": 4,
  "nbformat_minor": 0,
  "metadata": {
    "colab": {
      "provenance": [],
      "toc_visible": true
    },
    "kernelspec": {
      "name": "python3",
      "display_name": "Python 3"
    },
    "language_info": {
      "name": "python"
    }
  },
  "cells": [
    {
      "cell_type": "code",
      "source": [
        "  \n",
        "  list_1 = [1, 2, 3, 4, 5, 6, 7, 8, 9]\n",
        "  list_2 = [11, 12, 13, 14, 15, 16, 17, 18, 19]\n",
        "newlist = []\n",
        "for x in list_1:\n",
        "  if x % 2 == 0:\n",
        "    newlist.append(x)\n",
        "for a in list_2:\n",
        "  if a % 2 != 0:\n",
        "    newlist.append(a)\n",
        "print(newlist)"
      ],
      "metadata": {
        "colab": {
          "base_uri": "https://localhost:8080/"
        },
        "id": "b0lkmPchEe3B",
        "outputId": "dd562a57-5a83-4130-913c-9e0eaa51eb13"
      },
      "execution_count": 50,
      "outputs": [
        {
          "output_type": "stream",
          "name": "stdout",
          "text": [
            "[2, 4, 6, 8, 11, 13, 15, 17, 19]\n"
          ]
        }
      ]
    },
    {
      "cell_type": "code",
      "source": [
        "#number 7 \n",
        "def numbers(list_1, list_2): \n",
        "  newlist = []\n",
        "  for x in list_1:\n",
        "    if x % 2 == 0:\n",
        "      newlist.append(x)\n",
        "  for a in list_2:\n",
        "    if a % 2 != 0:\n",
        "      newlist.append(a)\n",
        "  return newlist\n",
        "  list_1 = [1, 2, 3, 4, 5, 6, 7, 8, 9]\n",
        "  list_2 = [11, 12, 13, 14, 15, 16, 17, 18, 19]"
      ],
      "metadata": {
        "id": "7fJ_mkyF0cZX"
      },
      "execution_count": 45,
      "outputs": []
    },
    {
      "cell_type": "code",
      "source": [
        "print(numbers(list_1, list_2))"
      ],
      "metadata": {
        "colab": {
          "base_uri": "https://localhost:8080/"
        },
        "id": "KKhl8cOvx1uz",
        "outputId": "82125ef2-ee9d-45a8-8bc5-6173f406642f"
      },
      "execution_count": 46,
      "outputs": [
        {
          "output_type": "stream",
          "name": "stdout",
          "text": [
            "[2, 4, 6, 8, 11, 13, 15, 17, 19]\n"
          ]
        }
      ]
    },
    {
      "cell_type": "code",
      "source": [
        "#1 Write  function to calculate the multiplication and sum of two numbers\n",
        "def my_func(a,b):\n",
        "  multi = a * b\n",
        "  while multi <= 100:\n",
        "    return multi\n",
        "  else: \n",
        "    return a + b"
      ],
      "metadata": {
        "id": "zXB0aIzUNjOQ"
      },
      "execution_count": 37,
      "outputs": []
    },
    {
      "cell_type": "code",
      "source": [
        "x = my_func(10, 6)\n",
        "print (\"The result is: \", x)\n",
        "\n",
        "y = my_func(100, 10)\n",
        "print (\"The result is: \", y)"
      ],
      "metadata": {
        "colab": {
          "base_uri": "https://localhost:8080/"
        },
        "id": "Pji1fvCMSlZO",
        "outputId": "ef5fb4be-bf48-4b86-9285-d805913ec67a"
      },
      "execution_count": 15,
      "outputs": [
        {
          "output_type": "stream",
          "name": "stdout",
          "text": [
            "The result is:  60\n",
            "The result is:  110\n"
          ]
        }
      ]
    },
    {
      "cell_type": "code",
      "source": [
        "#2 Write a function to print the sum of the current number and the previous number\n",
        "def summation(num):\n",
        "  prev_num = 0\n",
        "  for x in range(1, 11):\n",
        "    total = prev_num + x\n",
        "  print(\" \")\n",
        "  print(\"Previous Number: \", prev_num)\n",
        "  print(\"Current Number: \", total)\n",
        "  sum1 = range(prev_num + total)\n",
        "  print( \"Addition of number is: \", sum(sum1))"
      ],
      "metadata": {
        "id": "A3fvvNJVTWAj"
      },
      "execution_count": 16,
      "outputs": []
    },
    {
      "cell_type": "code",
      "source": [
        "num = range(1, 11)\n",
        "summation(num)"
      ],
      "metadata": {
        "colab": {
          "base_uri": "https://localhost:8080/"
        },
        "id": "NK8X7P7-YgNs",
        "outputId": "26368b8d-4368-404c-ee1e-e2ccd58012d5"
      },
      "execution_count": 17,
      "outputs": [
        {
          "output_type": "stream",
          "name": "stdout",
          "text": [
            " \n",
            "Previous Number:  0\n",
            "Current Number:  10\n",
            "Addition of number is:  45\n"
          ]
        }
      ]
    },
    {
      "cell_type": "code",
      "source": [
        "#3 Write a number function to print characters from a string that are present at an index number\n",
        "def index(string):\n",
        "  for a in string:\n",
        "    print(a)\n"
      ],
      "metadata": {
        "id": "kWaQ7xFTet8y"
      },
      "execution_count": 18,
      "outputs": []
    },
    {
      "cell_type": "code",
      "source": [
        "string = \"Bobo\"\n",
        "index(string[0::2])"
      ],
      "metadata": {
        "colab": {
          "base_uri": "https://localhost:8080/"
        },
        "id": "sTdaI24zf2Hj",
        "outputId": "e8ff6ea2-b36f-48e4-9928-6e692980ae11"
      },
      "execution_count": 19,
      "outputs": [
        {
          "output_type": "stream",
          "name": "stdout",
          "text": [
            "B\n",
            "b\n"
          ]
        }
      ]
    },
    {
      "cell_type": "code",
      "source": [
        "#4 Write a function to remove first characters from a string\n",
        "def index(string):\n",
        "  for a in string:\n",
        "    print(a)\n",
        "    \n"
      ],
      "metadata": {
        "id": "0larCKW-gZv9"
      },
      "execution_count": 20,
      "outputs": []
    },
    {
      "cell_type": "code",
      "source": [
        "string = \"Boboy\"\n",
        "index(string[1::])"
      ],
      "metadata": {
        "colab": {
          "base_uri": "https://localhost:8080/"
        },
        "id": "ixoze2YGgu86",
        "outputId": "2601198d-4b5c-45a3-87b9-7470518d9c7e"
      },
      "execution_count": 21,
      "outputs": [
        {
          "output_type": "stream",
          "name": "stdout",
          "text": [
            "o\n",
            "b\n",
            "o\n",
            "y\n"
          ]
        }
      ]
    },
    {
      "cell_type": "code",
      "source": [
        "# Write a function to check if the first and the last number of a list is the same\n",
        "def note(num):\n",
        "  num_1 = num[0]\n",
        "  num_L = num[-1]\n",
        "  if num_1 == num_L:\n",
        "    return True\n",
        "  else:\n",
        "    return False"
      ],
      "metadata": {
        "id": "UTEHTcr2hAsn"
      },
      "execution_count": 24,
      "outputs": []
    },
    {
      "cell_type": "code",
      "source": [
        "num = [11, 12, 13, 14, 17, 18, 19]\n",
        "print(note(num))\n",
        "\n",
        "num = [20, 11, 12, 13, 14, 17, 18, 19, 20]\n",
        "print(note(num))"
      ],
      "metadata": {
        "colab": {
          "base_uri": "https://localhost:8080/"
        },
        "id": "O6wq37QciUtX",
        "outputId": "5fecf90e-167c-4c33-ac6c-57cc2b9e0f9f"
      },
      "execution_count": 25,
      "outputs": [
        {
          "output_type": "stream",
          "name": "stdout",
          "text": [
            "False\n",
            "True\n"
          ]
        }
      ]
    },
    {
      "cell_type": "code",
      "source": [
        "# Write a function to print multiplication table from 1 t0 10\n",
        "def print_table():\n",
        "  for x in range(1, 11):\n",
        "    for y in range(1, 11):\n",
        "      print(x * y, end = \" \")\n",
        "    print(\"\\t\\t\")"
      ],
      "metadata": {
        "id": "DfCCVDjdi-nJ"
      },
      "execution_count": 29,
      "outputs": []
    },
    {
      "cell_type": "code",
      "source": [
        "print_table()"
      ],
      "metadata": {
        "colab": {
          "base_uri": "https://localhost:8080/"
        },
        "id": "AcqWNZ4xke7B",
        "outputId": "b42baaa9-f608-4654-deda-85c41bd13700"
      },
      "execution_count": 30,
      "outputs": [
        {
          "output_type": "stream",
          "name": "stdout",
          "text": [
            "1 2 3 4 5 6 7 8 9 10 \t\t\n",
            "2 4 6 8 10 12 14 16 18 20 \t\t\n",
            "3 6 9 12 15 18 21 24 27 30 \t\t\n",
            "4 8 12 16 20 24 28 32 36 40 \t\t\n",
            "5 10 15 20 25 30 35 40 45 50 \t\t\n",
            "6 12 18 24 30 36 42 48 54 60 \t\t\n",
            "7 14 21 28 35 42 49 56 63 70 \t\t\n",
            "8 16 24 32 40 48 56 64 72 80 \t\t\n",
            "9 18 27 36 45 54 63 72 81 90 \t\t\n",
            "10 20 30 40 50 60 70 80 90 100 \t\t\n"
          ]
        }
      ]
    },
    {
      "cell_type": "code",
      "source": [
        "def print_table():\n",
        "  for x in range(1, 11):\n",
        "    for y in range(1, 11):\n",
        "        print(x, \"*\", y, \"=\", x * y, end=\"\\t\\n\")\n",
        "  print(\"\\t\\t\")"
      ],
      "metadata": {
        "id": "AfdPGSyTkU6Z"
      },
      "execution_count": 35,
      "outputs": []
    },
    {
      "cell_type": "code",
      "source": [
        "print_table()"
      ],
      "metadata": {
        "colab": {
          "base_uri": "https://localhost:8080/"
        },
        "id": "WcK5ehDWnzJ2",
        "outputId": "a971cd2e-5b83-4b97-8a60-a0033da23a2e"
      },
      "execution_count": 34,
      "outputs": [
        {
          "output_type": "stream",
          "name": "stdout",
          "text": [
            "1 * 1 = 1\t\n",
            "1 * 2 = 2\t\n",
            "1 * 3 = 3\t\n",
            "1 * 4 = 4\t\n",
            "1 * 5 = 5\t\n",
            "1 * 6 = 6\t\n",
            "1 * 7 = 7\t\n",
            "1 * 8 = 8\t\n",
            "1 * 9 = 9\t\n",
            "1 * 10 = 10\t\n",
            "\t\t\n",
            "2 * 1 = 2\t\n",
            "2 * 2 = 4\t\n",
            "2 * 3 = 6\t\n",
            "2 * 4 = 8\t\n",
            "2 * 5 = 10\t\n",
            "2 * 6 = 12\t\n",
            "2 * 7 = 14\t\n",
            "2 * 8 = 16\t\n",
            "2 * 9 = 18\t\n",
            "2 * 10 = 20\t\n",
            "\t\t\n",
            "3 * 1 = 3\t\n",
            "3 * 2 = 6\t\n",
            "3 * 3 = 9\t\n",
            "3 * 4 = 12\t\n",
            "3 * 5 = 15\t\n",
            "3 * 6 = 18\t\n",
            "3 * 7 = 21\t\n",
            "3 * 8 = 24\t\n",
            "3 * 9 = 27\t\n",
            "3 * 10 = 30\t\n",
            "\t\t\n",
            "4 * 1 = 4\t\n",
            "4 * 2 = 8\t\n",
            "4 * 3 = 12\t\n",
            "4 * 4 = 16\t\n",
            "4 * 5 = 20\t\n",
            "4 * 6 = 24\t\n",
            "4 * 7 = 28\t\n",
            "4 * 8 = 32\t\n",
            "4 * 9 = 36\t\n",
            "4 * 10 = 40\t\n",
            "\t\t\n",
            "5 * 1 = 5\t\n",
            "5 * 2 = 10\t\n",
            "5 * 3 = 15\t\n",
            "5 * 4 = 20\t\n",
            "5 * 5 = 25\t\n",
            "5 * 6 = 30\t\n",
            "5 * 7 = 35\t\n",
            "5 * 8 = 40\t\n",
            "5 * 9 = 45\t\n",
            "5 * 10 = 50\t\n",
            "\t\t\n",
            "6 * 1 = 6\t\n",
            "6 * 2 = 12\t\n",
            "6 * 3 = 18\t\n",
            "6 * 4 = 24\t\n",
            "6 * 5 = 30\t\n",
            "6 * 6 = 36\t\n",
            "6 * 7 = 42\t\n",
            "6 * 8 = 48\t\n",
            "6 * 9 = 54\t\n",
            "6 * 10 = 60\t\n",
            "\t\t\n",
            "7 * 1 = 7\t\n",
            "7 * 2 = 14\t\n",
            "7 * 3 = 21\t\n",
            "7 * 4 = 28\t\n",
            "7 * 5 = 35\t\n",
            "7 * 6 = 42\t\n",
            "7 * 7 = 49\t\n",
            "7 * 8 = 56\t\n",
            "7 * 9 = 63\t\n",
            "7 * 10 = 70\t\n",
            "\t\t\n",
            "8 * 1 = 8\t\n",
            "8 * 2 = 16\t\n",
            "8 * 3 = 24\t\n",
            "8 * 4 = 32\t\n",
            "8 * 5 = 40\t\n",
            "8 * 6 = 48\t\n",
            "8 * 7 = 56\t\n",
            "8 * 8 = 64\t\n",
            "8 * 9 = 72\t\n",
            "8 * 10 = 80\t\n",
            "\t\t\n",
            "9 * 1 = 9\t\n",
            "9 * 2 = 18\t\n",
            "9 * 3 = 27\t\n",
            "9 * 4 = 36\t\n",
            "9 * 5 = 45\t\n",
            "9 * 6 = 54\t\n",
            "9 * 7 = 63\t\n",
            "9 * 8 = 72\t\n",
            "9 * 9 = 81\t\n",
            "9 * 10 = 90\t\n",
            "\t\t\n",
            "10 * 1 = 10\t\n",
            "10 * 2 = 20\t\n",
            "10 * 3 = 30\t\n",
            "10 * 4 = 40\t\n",
            "10 * 5 = 50\t\n",
            "10 * 6 = 60\t\n",
            "10 * 7 = 70\t\n",
            "10 * 8 = 80\t\n",
            "10 * 9 = 90\t\n",
            "10 * 10 = 100\t\n",
            "\t\t\n"
          ]
        }
      ]
    }
  ]
}