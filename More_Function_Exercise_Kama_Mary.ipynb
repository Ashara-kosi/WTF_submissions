{
 "cells": [
  {
   "cell_type": "markdown",
   "metadata": {},
   "source": [
    "1.\tWrite a function to calculate the multiplication and sum of two numbers."
   ]
  },
  {
   "cell_type": "code",
   "execution_count": 41,
   "metadata": {},
   "outputs": [
    {
     "name": "stdout",
     "output_type": "stream",
     "text": [
      "enter the first number: 12\n",
      "enter operator*\n",
      "enter the second number: 12\n",
      "the multiplication of the two numbers are:  144\n"
     ]
    }
   ],
   "source": [
    "def calculate():\n",
    "    \n",
    "    num1 = int(input(\"enter the first number: \"))\n",
    "    #defining the operator\n",
    "    op=input('enter operator')\n",
    "    \n",
    "    num2=int(input(\"enter the second number: \"))\n",
    "    if op ==\"+\":\n",
    "        print('the sum of the two numbers are: ', num1+num2)\n",
    "    elif op==\"*\":\n",
    "        print(\"the multiplication of the two numbers are: \", num1*num2)\n",
    "    else:\n",
    "        \n",
    "        print('not a valid operator')\n",
    "calculate()"
   ]
  },
  {
   "cell_type": "markdown",
   "metadata": {},
   "source": [
    "2. Write a function to print the sum of the current number and the previous number"
   ]
  },
  {
   "cell_type": "code",
   "execution_count": 13,
   "metadata": {
    "scrolled": false
   },
   "outputs": [
    {
     "name": "stdout",
     "output_type": "stream",
     "text": [
      "\n",
      "0\n",
      "1\n",
      "3\n",
      "5\n",
      "7\n",
      "9\n",
      "11\n",
      "13\n",
      "15\n",
      "17\n"
     ]
    }
   ],
   "source": [
    "def sum_cur_prev(number):\n",
    "    prev = 0\n",
    "    for j in range(number):\n",
    "        sum = prev + j\n",
    "        print(sum)\n",
    "        prev = j\n",
    "print()\n",
    "sum_cur_prev(10)"
   ]
  },
  {
   "cell_type": "markdown",
   "metadata": {},
   "source": [
    "3. Write a function to print characters from a string that are present at an even index number"
   ]
  },
  {
   "cell_type": "code",
   "execution_count": 17,
   "metadata": {},
   "outputs": [
    {
     "name": "stdout",
     "output_type": "stream",
     "text": [
      "BDF\n"
     ]
    }
   ],
   "source": [
    "def print_even_indexes(text):\n",
    "    result =\"\"\n",
    "    for idx in range(0,len(text)):\n",
    "        if (idx%2)!=0:\n",
    "            result +=text[idx]\n",
    "    print(result)\n",
    "print_even_indexes('ABCDEF')"
   ]
  },
  {
   "cell_type": "markdown",
   "metadata": {},
   "source": [
    "4. Write a function to remove first characters from a string"
   ]
  },
  {
   "cell_type": "code",
   "execution_count": 32,
   "metadata": {},
   "outputs": [
    {
     "name": "stdout",
     "output_type": "stream",
     "text": [
      "enter word: kmmm\n",
      "the first character was removed:  mmm\n"
     ]
    }
   ],
   "source": [
    "def remove_Char():\n",
    "    i=input('enter word: ')\n",
    "    print('the first character was removed: ', i[1:])\n",
    "remove_Char()"
   ]
  },
  {
   "cell_type": "markdown",
   "metadata": {},
   "source": [
    "5. Write a function to check if the first and last number of a list is the same"
   ]
  },
  {
   "cell_type": "code",
   "execution_count": 20,
   "metadata": {},
   "outputs": [
    {
     "name": "stdout",
     "output_type": "stream",
     "text": [
      "there are different\n"
     ]
    }
   ],
   "source": [
    "L=[11,22,33,44,55]\n",
    "\n",
    "def check_first_last(L):\n",
    "  #  return L(0)== L(-1)\n",
    "#result =check_first_last(L)\n",
    "#print(result)\n",
    "    if L[0]==L[-1]:\n",
    "        L[len(L)-1]\n",
    "        print('The same')\n",
    "    else:\n",
    "        print('there are different')\n",
    "check_first_last(L)"
   ]
  },
  {
   "cell_type": "markdown",
   "metadata": {},
   "source": [
    "6. Write a function to print multiplication table from 1 to 10"
   ]
  },
  {
   "cell_type": "code",
   "execution_count": 9,
   "metadata": {
    "scrolled": false
   },
   "outputs": [
    {
     "name": "stdout",
     "output_type": "stream",
     "text": [
      "enter number from 1 to 10 to multiply:  10\n",
      "1 x 1 = 1\n",
      "\n",
      " \t\n",
      "1 x 2 = 2\n",
      "\n",
      " \t\n",
      "1 x 3 = 3\n",
      "\n",
      " \t\n",
      "1 x 4 = 4\n",
      "\n",
      " \t\n",
      "1 x 5 = 5\n",
      "\n",
      " \t\n",
      "1 x 6 = 6\n",
      "\n",
      " \t\n",
      "1 x 7 = 7\n",
      "\n",
      " \t\n",
      "1 x 8 = 8\n",
      "\n",
      " \t\n",
      "1 x 9 = 9\n",
      "\n",
      " \t\n",
      "1 x 10 = 10\n",
      "\n",
      " \t\n",
      "2 x 1 = 2\n",
      "\n",
      " \t\n",
      "2 x 2 = 4\n",
      "\n",
      " \t\n",
      "2 x 3 = 6\n",
      "\n",
      " \t\n",
      "2 x 4 = 8\n",
      "\n",
      " \t\n",
      "2 x 5 = 10\n",
      "\n",
      " \t\n",
      "2 x 6 = 12\n",
      "\n",
      " \t\n",
      "2 x 7 = 14\n",
      "\n",
      " \t\n",
      "2 x 8 = 16\n",
      "\n",
      " \t\n",
      "2 x 9 = 18\n",
      "\n",
      " \t\n",
      "2 x 10 = 20\n",
      "\n",
      " \t\n",
      "3 x 1 = 3\n",
      "\n",
      " \t\n",
      "3 x 2 = 6\n",
      "\n",
      " \t\n",
      "3 x 3 = 9\n",
      "\n",
      " \t\n",
      "3 x 4 = 12\n",
      "\n",
      " \t\n",
      "3 x 5 = 15\n",
      "\n",
      " \t\n",
      "3 x 6 = 18\n",
      "\n",
      " \t\n",
      "3 x 7 = 21\n",
      "\n",
      " \t\n",
      "3 x 8 = 24\n",
      "\n",
      " \t\n",
      "3 x 9 = 27\n",
      "\n",
      " \t\n",
      "3 x 10 = 30\n",
      "\n",
      " \t\n",
      "4 x 1 = 4\n",
      "\n",
      " \t\n",
      "4 x 2 = 8\n",
      "\n",
      " \t\n",
      "4 x 3 = 12\n",
      "\n",
      " \t\n",
      "4 x 4 = 16\n",
      "\n",
      " \t\n",
      "4 x 5 = 20\n",
      "\n",
      " \t\n",
      "4 x 6 = 24\n",
      "\n",
      " \t\n",
      "4 x 7 = 28\n",
      "\n",
      " \t\n",
      "4 x 8 = 32\n",
      "\n",
      " \t\n",
      "4 x 9 = 36\n",
      "\n",
      " \t\n",
      "4 x 10 = 40\n",
      "\n",
      " \t\n",
      "5 x 1 = 5\n",
      "\n",
      " \t\n",
      "5 x 2 = 10\n",
      "\n",
      " \t\n",
      "5 x 3 = 15\n",
      "\n",
      " \t\n",
      "5 x 4 = 20\n",
      "\n",
      " \t\n",
      "5 x 5 = 25\n",
      "\n",
      " \t\n",
      "5 x 6 = 30\n",
      "\n",
      " \t\n",
      "5 x 7 = 35\n",
      "\n",
      " \t\n",
      "5 x 8 = 40\n",
      "\n",
      " \t\n",
      "5 x 9 = 45\n",
      "\n",
      " \t\n",
      "5 x 10 = 50\n",
      "\n",
      " \t\n",
      "6 x 1 = 6\n",
      "\n",
      " \t\n",
      "6 x 2 = 12\n",
      "\n",
      " \t\n",
      "6 x 3 = 18\n",
      "\n",
      " \t\n",
      "6 x 4 = 24\n",
      "\n",
      " \t\n",
      "6 x 5 = 30\n",
      "\n",
      " \t\n",
      "6 x 6 = 36\n",
      "\n",
      " \t\n",
      "6 x 7 = 42\n",
      "\n",
      " \t\n",
      "6 x 8 = 48\n",
      "\n",
      " \t\n",
      "6 x 9 = 54\n",
      "\n",
      " \t\n",
      "6 x 10 = 60\n",
      "\n",
      " \t\n",
      "7 x 1 = 7\n",
      "\n",
      " \t\n",
      "7 x 2 = 14\n",
      "\n",
      " \t\n",
      "7 x 3 = 21\n",
      "\n",
      " \t\n",
      "7 x 4 = 28\n",
      "\n",
      " \t\n",
      "7 x 5 = 35\n",
      "\n",
      " \t\n",
      "7 x 6 = 42\n",
      "\n",
      " \t\n",
      "7 x 7 = 49\n",
      "\n",
      " \t\n",
      "7 x 8 = 56\n",
      "\n",
      " \t\n",
      "7 x 9 = 63\n",
      "\n",
      " \t\n",
      "7 x 10 = 70\n",
      "\n",
      " \t\n",
      "8 x 1 = 8\n",
      "\n",
      " \t\n",
      "8 x 2 = 16\n",
      "\n",
      " \t\n",
      "8 x 3 = 24\n",
      "\n",
      " \t\n",
      "8 x 4 = 32\n",
      "\n",
      " \t\n",
      "8 x 5 = 40\n",
      "\n",
      " \t\n",
      "8 x 6 = 48\n",
      "\n",
      " \t\n",
      "8 x 7 = 56\n",
      "\n",
      " \t\n",
      "8 x 8 = 64\n",
      "\n",
      " \t\n",
      "8 x 9 = 72\n",
      "\n",
      " \t\n",
      "8 x 10 = 80\n",
      "\n",
      " \t\n",
      "9 x 1 = 9\n",
      "\n",
      " \t\n",
      "9 x 2 = 18\n",
      "\n",
      " \t\n",
      "9 x 3 = 27\n",
      "\n",
      " \t\n",
      "9 x 4 = 36\n",
      "\n",
      " \t\n",
      "9 x 5 = 45\n",
      "\n",
      " \t\n",
      "9 x 6 = 54\n",
      "\n",
      " \t\n",
      "9 x 7 = 63\n",
      "\n",
      " \t\n",
      "9 x 8 = 72\n",
      "\n",
      " \t\n",
      "9 x 9 = 81\n",
      "\n",
      " \t\n",
      "9 x 10 = 90\n",
      "\n",
      " \t\n",
      "10 x 1 = 10\n",
      "\n",
      " \t\n",
      "10 x 2 = 20\n",
      "\n",
      " \t\n",
      "10 x 3 = 30\n",
      "\n",
      " \t\n",
      "10 x 4 = 40\n",
      "\n",
      " \t\n",
      "10 x 5 = 50\n",
      "\n",
      " \t\n",
      "10 x 6 = 60\n",
      "\n",
      " \t\n",
      "10 x 7 = 70\n",
      "\n",
      " \t\n",
      "10 x 8 = 80\n",
      "\n",
      " \t\n",
      "10 x 9 = 90\n",
      "\n",
      " \t\n",
      "10 x 10 = 100\n",
      "\n",
      " \t\n"
     ]
    }
   ],
   "source": [
    "def multiplication_table():\n",
    "    num=int(input(\"enter number from 1 to 10 to multiply:  \"))\n",
    "    for i in range(1,num+1):\n",
    "        for j in range(1,num+1):\n",
    "            print(i,'x',j,'=',i*j)\n",
    "            print('\\n','\\t')\n",
    "            end=' '\n",
    "multiplication_table()"
   ]
  },
  {
   "cell_type": "markdown",
   "metadata": {},
   "source": [
    "7. Given a two list of numbers, write a function to create a new list such that the new\n",
    "list should contain odd numbers from the first list and even numbers from the second list."
   ]
  },
  {
   "cell_type": "code",
   "execution_count": 38,
   "metadata": {},
   "outputs": [
    {
     "data": {
      "text/plain": [
       "[11, 33, 66, 88]"
      ]
     },
     "execution_count": 38,
     "metadata": {},
     "output_type": "execute_result"
    }
   ],
   "source": [
    "List_fist=[]\n",
    "List_second=[]\n",
    "def result_list(List_first,List_second):\n",
    "    Output_List=[]\n",
    "    for i in List_first:\n",
    "        if i % 2 != 0:\n",
    "            Output_List.append(i)\n",
    "    for i in List_second:\n",
    "        if i % 2 == 0:\n",
    "            Output_List.append(i)\n",
    "    return Output_List\n",
    "result_list([11,12,22,33,44],[55,66,77,88,99])"
   ]
  },
  {
   "cell_type": "code",
   "execution_count": null,
   "metadata": {},
   "outputs": [],
   "source": []
  }
 ],
 "metadata": {
  "kernelspec": {
   "display_name": "Python 3",
   "language": "python",
   "name": "python3"
  },
  "language_info": {
   "codemirror_mode": {
    "name": "ipython",
    "version": 3
   },
   "file_extension": ".py",
   "mimetype": "text/x-python",
   "name": "python",
   "nbconvert_exporter": "python",
   "pygments_lexer": "ipython3",
   "version": "3.7.6"
  }
 },
 "nbformat": 4,
 "nbformat_minor": 4
}
