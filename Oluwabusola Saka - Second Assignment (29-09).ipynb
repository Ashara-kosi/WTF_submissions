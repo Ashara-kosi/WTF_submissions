{
 "cells": [
  {
   "cell_type": "code",
   "execution_count": 1,
   "id": "afea5dc3",
   "metadata": {},
   "outputs": [
    {
     "name": "stdout",
     "output_type": "stream",
     "text": [
      "0 - EVEN NO\n",
      "1 - ODD NO\n",
      "2 - EVEN NO\n",
      "3 - ODD NO\n"
     ]
    }
   ],
   "source": [
    "#function called showNumbers that takes a parameter called limit. \n",
    "#print all the numbers between 0 and limit with a label to identify the even and odd numbers.\n",
    "\n",
    "def showNumbers(limit):\n",
    "    \n",
    "    limit = [*range(0,limit+1, 1)]\n",
    "       \n",
    "    for i in limit:\n",
    "       \n",
    "        if i%2==0:\n",
    "            print('{0} - {1}'.format(i, 'EVEN NO'))\n",
    "        if i%2==1:\n",
    "            print('{0} - {1}'.format(i, 'ODD NO'))\n",
    "        \n",
    "showNumbers(3)"
   ]
  },
  {
   "cell_type": "code",
   "execution_count": 4,
   "id": "3970e4da",
   "metadata": {},
   "outputs": [
    {
     "name": "stdout",
     "output_type": "stream",
     "text": [
      "3,5,6,9,10\n"
     ]
    }
   ],
   "source": [
    "#function that returns the sum of multiples of 3 and 5 between 0 and limit (parameter)\n",
    "\n",
    "def sum_multiples(limit):\n",
    "    res=[]\n",
    "    for i in range (1,limit+1):\n",
    "        if i%3==0 or i%5==0:\n",
    "            res.append(i)\n",
    "    print(*res, sep = ',')\n",
    "    #return res \n",
    "sum_multiples(10)"
   ]
  },
  {
   "cell_type": "code",
   "execution_count": 5,
   "id": "44d868c0",
   "metadata": {},
   "outputs": [
    {
     "name": "stdout",
     "output_type": "stream",
     "text": [
      "* \n",
      "* * \n",
      "* * * \n",
      "* * * * \n",
      "* * * * * \n"
     ]
    }
   ],
   "source": [
    "# function called show_stars(rows)\n",
    "\n",
    "def show_stars(rows):\n",
    "     \n",
    "    for i in range(0, rows):\n",
    "        for j in range(0, i+1): # i i in the first line then i = 0 so the range will be (0,1)\n",
    "            print(\"* \",end=\"\")\n",
    "      \n",
    "        print(\"\")\n",
    "show_stars(5)"
   ]
  },
  {
   "cell_type": "code",
   "execution_count": 30,
   "id": "9573868c",
   "metadata": {},
   "outputs": [
    {
     "name": "stdout",
     "output_type": "stream",
     "text": [
      "[2, 3, 5]\n"
     ]
    }
   ],
   "source": [
    "#function that prints all the prime numbers between 0 and limit where limit is a parameter.\n",
    "\n",
    "def check_primes(limit):\n",
    "    primes = []\n",
    "    for i in range (2, (limit+1)):\n",
    "        for j in range(2, i):\n",
    "            if i % j == 0:\n",
    "                break\n",
    "        else:\n",
    "            primes.append(i)\n",
    "    print (primes )\n",
    "\n",
    "check_primes(5)"
   ]
  },
  {
   "cell_type": "code",
   "execution_count": 31,
   "id": "bb8d49a6",
   "metadata": {},
   "outputs": [
    {
     "data": {
      "text/plain": [
       "[1, 2, 3, 4, 5, 6]"
      ]
     },
     "execution_count": 31,
     "metadata": {},
     "output_type": "execute_result"
    }
   ],
   "source": [
    "#function that takes a list and returns a new list that contains all the elements of the first list minus all the duplicates\n",
    "\n",
    "def unique_list(l):\n",
    "    res = []\n",
    "    for a in l:\n",
    "        if a not in res:\n",
    "             res.append(a)\n",
    "    return res\n",
    "temp =[1,2,3,4,3,2,1,5,5,6]\n",
    "unique_list(temp)"
   ]
  },
  {
   "cell_type": "code",
   "execution_count": 34,
   "id": "5ed9936d",
   "metadata": {},
   "outputs": [
    {
     "name": "stdout",
     "output_type": "stream",
     "text": [
      "Enter a number: 6\n",
      "Not Prime\n"
     ]
    }
   ],
   "source": [
    "#function to ask the user for a number and determine whether the number is prime or not\n",
    "\n",
    "def ask_prime() :\n",
    "    num = int(input('Enter a number: '))  \n",
    "\n",
    "    for i in range(2, num):\n",
    "            if num % i == 0:\n",
    "                print ('Not Prime')\n",
    "                break\n",
    "    else:\n",
    "        print ('Prime')\n",
    "        \n",
    "ask_prime() "
   ]
  },
  {
   "cell_type": "code",
   "execution_count": 37,
   "id": "139217ca",
   "metadata": {},
   "outputs": [
    {
     "name": "stdout",
     "output_type": "stream",
     "text": [
      "how many Fibonnaci numbers to generate ? 5\n",
      "Fibonacci generate till 5 :\n",
      "0 1 1 2 3 "
     ]
    }
   ],
   "source": [
    "#program that asks the user how many Fibonnaci numbers to generate and then generates them\n",
    "\n",
    "# 0, 1, 1, 2, 3, 5, 8, 13, 21, 34, 55, 89, 144\n",
    "\n",
    "def gen_Fibonacci():\n",
    "    fibo_num = int(input('how many Fibonnaci numbers to generate ? '))\n",
    "    count=0\n",
    "    num1 , num2 = 0 , 1 \n",
    "    \n",
    "    if fibo_num < 0:\n",
    "        print(\"Incorrect input\")\n",
    "        \n",
    "    elif fibo_num == 0:\n",
    "        print(\"Fibonacci generate till\",fibo_num,':')\n",
    "        print (num1)\n",
    "        \n",
    "    elif fibo_num == 1 : # if 1 \n",
    "        print(\"Fibonacci generate till\",fibo_num,':')\n",
    "        print (num1)\n",
    "        print (num2)\n",
    "       \n",
    "    else: \n",
    "        print(\"Fibonacci generate till\",fibo_num,':')\n",
    "        while (count < fibo_num):\n",
    "            print (num1 , end =' ')\n",
    "            temp = num1 + num2  \n",
    "            num1 = num2\n",
    "            num2 = temp\n",
    "            count += 1\n",
    "    \n",
    "gen_Fibonacci()"
   ]
  },
  {
   "cell_type": "code",
   "execution_count": 43,
   "id": "887ad5a7",
   "metadata": {},
   "outputs": [
    {
     "name": "stdout",
     "output_type": "stream",
     "text": [
      "Yes, it's a palindrome\n"
     ]
    }
   ],
   "source": [
    "#function that ask the user for a string and print out whether this string is a palindrome or not\n",
    "\n",
    "def isPalindrome(s):\n",
    "    if s == s[::-1]:\n",
    "        return('Yes, it\\'s a palindrome')\n",
    "    else:\n",
    "        return('No, it\\'s not a palindrone')\n",
    "s = \"level\"\n",
    "print(isPalindrome(s))"
   ]
  },
  {
   "cell_type": "code",
   "execution_count": 44,
   "id": "5586b2d0",
   "metadata": {},
   "outputs": [],
   "source": [
    "#function that takes an ordered list of numbers \n",
    "\n",
    "def sort_list(l):\n",
    "    num = int(input('Enter Number '))\n",
    "    res=[]\n",
    "    for i in range (len(l)):\n",
    "        if i==0 :\n",
    "            if l[i]< num :\n",
    "                res.append(l[i])\n",
    "                \n",
    "                continue \n",
    "            else :\n",
    "                res.append (num)\n",
    "                res.append(l[i])\n",
    "                break \n",
    "        else :\n",
    "            if num > l[i]:\n",
    "                res.append (l[i])\n",
    "                \n",
    "                continue\n",
    "            else :\n",
    "                res.append (num)\n",
    "                res.append(l[i])\n",
    "                continue  \n",
    "                \n",
    "    return res"
   ]
  },
  {
   "cell_type": "code",
   "execution_count": 45,
   "id": "e03c957c",
   "metadata": {},
   "outputs": [
    {
     "name": "stdout",
     "output_type": "stream",
     "text": [
      "Enter Number 10\n"
     ]
    },
    {
     "data": {
      "text/plain": [
       "[2, 4, 6, 8, 9]"
      ]
     },
     "execution_count": 45,
     "metadata": {},
     "output_type": "execute_result"
    }
   ],
   "source": [
    "l =[2,4,6,8,9]\n",
    "sort_list(l)"
   ]
  },
  {
   "cell_type": "code",
   "execution_count": 46,
   "id": "18f76c0e",
   "metadata": {},
   "outputs": [],
   "source": [
    "#program that asks the user to enter their name and their age. Print out a message addressed to them that tells them the year that they will turn 100 years old.\n",
    "\n",
    "from datetime import datetime\n",
    "\n",
    "def calc_age():\n",
    "    name =input('what\\'s your Name ? ')\n",
    "    age = int(input('How old are your age? ')) #= 69+2022 = 2091\n",
    "    res = int((100-age) + datetime.now().year)\n",
    "    print ('Hello {0} you will turn 100 years old in {1}'.format(name ,res) )"
   ]
  },
  {
   "cell_type": "code",
   "execution_count": 47,
   "id": "5ca7822d",
   "metadata": {},
   "outputs": [
    {
     "name": "stdout",
     "output_type": "stream",
     "text": [
      "what's your Name ? Oluwabusola\n",
      "How old are your age? 10\n",
      "Hello Oluwabusola you will turn 100 years old in 2112\n"
     ]
    }
   ],
   "source": [
    "calc_age()"
   ]
  },
  {
   "cell_type": "code",
   "execution_count": null,
   "id": "752da86b",
   "metadata": {},
   "outputs": [],
   "source": []
  }
 ],
 "metadata": {
  "kernelspec": {
   "display_name": "Python 3 (ipykernel)",
   "language": "python",
   "name": "python3"
  },
  "language_info": {
   "codemirror_mode": {
    "name": "ipython",
    "version": 3
   },
   "file_extension": ".py",
   "mimetype": "text/x-python",
   "name": "python",
   "nbconvert_exporter": "python",
   "pygments_lexer": "ipython3",
   "version": "3.9.12"
  }
 },
 "nbformat": 4,
 "nbformat_minor": 5
}
