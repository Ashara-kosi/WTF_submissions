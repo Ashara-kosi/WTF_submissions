{
 "cells": [
  {
   "cell_type": "markdown",
   "id": "223c31f6",
   "metadata": {},
   "source": [
    "#### 1.Write a function to calculate the multiplication and sum of two numbers."
   ]
  },
  {
   "cell_type": "code",
   "execution_count": 7,
   "id": "cb979ad9",
   "metadata": {},
   "outputs": [
    {
     "name": "stdout",
     "output_type": "stream",
     "text": [
      "6 , 5\n"
     ]
    }
   ],
   "source": [
    "#  this function print out the product and sum of two numbers\n",
    "def Calculation(a,b):\n",
    "    product = a * b\n",
    "    Sum = a + b\n",
    "    print(product,\",\",Sum)\n",
    "Calculation(2,3)"
   ]
  },
  {
   "cell_type": "markdown",
   "id": "e5ec7b96",
   "metadata": {},
   "source": [
    "#### 2.Write a function to print the sum of the current number and the previous number"
   ]
  },
  {
   "cell_type": "code",
   "execution_count": 15,
   "id": "b2ddd30a",
   "metadata": {},
   "outputs": [
    {
     "name": "stdout",
     "output_type": "stream",
     "text": [
      "current is 3 and previous is 0\n",
      "when current is 9 and previous is 3 Sum of the previous and current is  12\n",
      "when current is 81 and previous is 9 Sum of the previous and current is  90\n",
      "when current is 6561 and previous is 81 Sum of the previous and current is  6642\n"
     ]
    }
   ],
   "source": [
    "# function that print out sum of current and previous number\n",
    "num = [3, 9, 81,6561]\n",
    "for a in range(len(num)):\n",
    "    if a == 0:\n",
    "        print('current is',num[a],'and previous is 0')\n",
    "    else:\n",
    "        print('when current is',num[a],'and previous is',num[a-1],'Sum of the previous and current is ',num[a - 1] + num[a])"
   ]
  },
  {
   "cell_type": "markdown",
   "id": "3a4f86e7",
   "metadata": {},
   "source": [
    "#### 3. Write a function to print characters from a string that are present at an even index number"
   ]
  },
  {
   "cell_type": "code",
   "execution_count": 16,
   "id": "d47ff065",
   "metadata": {},
   "outputs": [
    {
     "name": "stdout",
     "output_type": "stream",
     "text": [
      "['M', 'D', 'P']\n"
     ]
    }
   ],
   "source": [
    "# function that print characters of a string that are even indexed\n",
    "def EvenIndexChar(string):\n",
    "    even_char=[]\n",
    "    for char in range(len(string)):\n",
    "        if char % 2 == 0:\n",
    "            even_char.append(string[char])\n",
    "    print(even_char)    \n",
    "EvenIndexChar('MODUPE')"
   ]
  },
  {
   "cell_type": "markdown",
   "id": "a59668d2",
   "metadata": {},
   "source": [
    "#### 4. Write a function to remove first characters from a string"
   ]
  },
  {
   "cell_type": "code",
   "execution_count": 20,
   "id": "8ebaad2d",
   "metadata": {},
   "outputs": [
    {
     "name": "stdout",
     "output_type": "stream",
     "text": [
      "pringle\n"
     ]
    }
   ],
   "source": [
    "# a python function that remove a character in position o of a string\n",
    "def remove_char(string):\n",
    "    new_string =string.replace(string[0],'')\n",
    "    print(new_string)\n",
    "remove_char('springle')"
   ]
  },
  {
   "cell_type": "markdown",
   "id": "c0365cfb",
   "metadata": {},
   "source": [
    "#### 5. Write a function to check if the first and last number of a list is the same"
   ]
  },
  {
   "cell_type": "code",
   "execution_count": 22,
   "id": "63501663",
   "metadata": {},
   "outputs": [
    {
     "name": "stdout",
     "output_type": "stream",
     "text": [
      "True\n",
      "False\n"
     ]
    }
   ],
   "source": [
    "# python function to check if the first and the last number of a list is the same\n",
    "def Check_num(lists):\n",
    "    if lists[0]==lists[-1]:\n",
    "        print(True)\n",
    "    else:\n",
    "        print (False)\n",
    "Check_num([1,6,7,0,5,8,2,1])\n",
    "Check_num([1,6,7,0,5,8,2,11])"
   ]
  },
  {
   "cell_type": "markdown",
   "id": "3d1c8bd8",
   "metadata": {},
   "source": [
    "#### 6. Write a function to print multiplication table from 1 to 10"
   ]
  },
  {
   "cell_type": "code",
   "execution_count": 26,
   "id": "4d1a3f08",
   "metadata": {},
   "outputs": [
    {
     "name": "stdout",
     "output_type": "stream",
     "text": [
      "1 x 1 = 1 \t 1 x 2 = 2 \t 1 x 3 = 3 \t 1 x 4 = 4 \t 1 x 5 = 5 \t 1 x 6 = 6 \t 1 x 7 = 7 \t 1 x 8 = 8 \t 1 x 9 = 9 \t 1 x 10 = 10 \t 1 x 11 = 11 \t 1 x 12 = 12 \t 2 x 1 = 2 \t 2 x 2 = 4 \t 2 x 3 = 6 \t 2 x 4 = 8 \t 2 x 5 = 10 \t 2 x 6 = 12 \t 2 x 7 = 14 \t 2 x 8 = 16 \t 2 x 9 = 18 \t 2 x 10 = 20 \t 2 x 11 = 22 \t 2 x 12 = 24 \t 3 x 1 = 3 \t 3 x 2 = 6 \t 3 x 3 = 9 \t 3 x 4 = 12 \t 3 x 5 = 15 \t 3 x 6 = 18 \t 3 x 7 = 21 \t 3 x 8 = 24 \t 3 x 9 = 27 \t 3 x 10 = 30 \t 3 x 11 = 33 \t 3 x 12 = 36 \t 4 x 1 = 4 \t 4 x 2 = 8 \t 4 x 3 = 12 \t 4 x 4 = 16 \t 4 x 5 = 20 \t 4 x 6 = 24 \t 4 x 7 = 28 \t 4 x 8 = 32 \t 4 x 9 = 36 \t 4 x 10 = 40 \t 4 x 11 = 44 \t 4 x 12 = 48 \t 5 x 1 = 5 \t 5 x 2 = 10 \t 5 x 3 = 15 \t 5 x 4 = 20 \t 5 x 5 = 25 \t 5 x 6 = 30 \t 5 x 7 = 35 \t 5 x 8 = 40 \t 5 x 9 = 45 \t 5 x 10 = 50 \t 5 x 11 = 55 \t 5 x 12 = 60 \t 6 x 1 = 6 \t 6 x 2 = 12 \t 6 x 3 = 18 \t 6 x 4 = 24 \t 6 x 5 = 30 \t 6 x 6 = 36 \t 6 x 7 = 42 \t 6 x 8 = 48 \t 6 x 9 = 54 \t 6 x 10 = 60 \t 6 x 11 = 66 \t 6 x 12 = 72 \t 7 x 1 = 7 \t 7 x 2 = 14 \t 7 x 3 = 21 \t 7 x 4 = 28 \t 7 x 5 = 35 \t 7 x 6 = 42 \t 7 x 7 = 49 \t 7 x 8 = 56 \t 7 x 9 = 63 \t 7 x 10 = 70 \t 7 x 11 = 77 \t 7 x 12 = 84 \t 8 x 1 = 8 \t 8 x 2 = 16 \t 8 x 3 = 24 \t 8 x 4 = 32 \t 8 x 5 = 40 \t 8 x 6 = 48 \t 8 x 7 = 56 \t 8 x 8 = 64 \t 8 x 9 = 72 \t 8 x 10 = 80 \t 8 x 11 = 88 \t 8 x 12 = 96 \t 9 x 1 = 9 \t 9 x 2 = 18 \t 9 x 3 = 27 \t 9 x 4 = 36 \t 9 x 5 = 45 \t 9 x 6 = 54 \t 9 x 7 = 63 \t 9 x 8 = 72 \t 9 x 9 = 81 \t 9 x 10 = 90 \t 9 x 11 = 99 \t 9 x 12 = 108 \t 10 x 1 = 10 \t 10 x 2 = 20 \t 10 x 3 = 30 \t 10 x 4 = 40 \t 10 x 5 = 50 \t 10 x 6 = 60 \t 10 x 7 = 70 \t 10 x 8 = 80 \t 10 x 9 = 90 \t 10 x 10 = 100 \t 10 x 11 = 110 \t 10 x 12 = 120 \t 11 x 1 = 11 \t 11 x 2 = 22 \t 11 x 3 = 33 \t 11 x 4 = 44 \t 11 x 5 = 55 \t 11 x 6 = 66 \t 11 x 7 = 77 \t 11 x 8 = 88 \t 11 x 9 = 99 \t 11 x 10 = 110 \t 11 x 11 = 121 \t 11 x 12 = 132 \t 12 x 1 = 12 \t 12 x 2 = 24 \t 12 x 3 = 36 \t 12 x 4 = 48 \t 12 x 5 = 60 \t 12 x 6 = 72 \t 12 x 7 = 84 \t 12 x 8 = 96 \t 12 x 9 = 108 \t 12 x 10 = 120 \t 12 x 11 = 132 \t 12 x 12 = 144 \t "
     ]
    }
   ],
   "source": [
    "# function to print out multliplication table\n",
    "def Multliplication_Tab(num):\n",
    "    for a in range(1,num+1):\n",
    "        for b in range(1,num+1):\n",
    "            print(a,'x',b,'=',a*b,'\\t',end =' ')\n",
    "            end=' '\n",
    "Multliplication_Tab(12)"
   ]
  },
  {
   "cell_type": "markdown",
   "id": "7c3c2009",
   "metadata": {},
   "source": [
    "#### 7. Given a two list of numbers, write a function to create a new list such that the new list should contain odd numbers from the first list and even numbers from the second list."
   ]
  },
  {
   "cell_type": "code",
   "execution_count": 38,
   "id": "4b4ccc3f",
   "metadata": {},
   "outputs": [
    {
     "data": {
      "text/plain": [
       "[1, 3, 5, 10, 20]"
      ]
     },
     "execution_count": 38,
     "metadata": {},
     "output_type": "execute_result"
    }
   ],
   "source": [
    "# a function to extract odd and even numbers from two mdifferent list and place them in a new list\n",
    "def NewList(List_1,List_2):\n",
    "    combine_List=[]\n",
    "    for a in List_1:\n",
    "        if a % 2 == 1:\n",
    "            combine_List.append(a)\n",
    "    for b in List_2:\n",
    "        if b % 2 == 0:\n",
    "            combine_List.append(b)\n",
    "    return combine_List\n",
    "NewList([1,2,3,4,5],[5,10,15,20,25])"
   ]
  }
 ],
 "metadata": {
  "kernelspec": {
   "display_name": "Python 3 (ipykernel)",
   "language": "python",
   "name": "python3"
  },
  "language_info": {
   "codemirror_mode": {
    "name": "ipython",
    "version": 3
   },
   "file_extension": ".py",
   "mimetype": "text/x-python",
   "name": "python",
   "nbconvert_exporter": "python",
   "pygments_lexer": "ipython3",
   "version": "3.8.8"
  }
 },
 "nbformat": 4,
 "nbformat_minor": 5
}
