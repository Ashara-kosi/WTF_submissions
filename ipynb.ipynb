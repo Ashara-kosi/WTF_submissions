{
 "cells": [
  {
   "cell_type": "code",
   "execution_count": 9,
   "metadata": {},
   "outputs": [
    {
     "name": "stdout",
     "output_type": "stream",
     "text": [
      "Give the first number plz1\n",
      "Give the second number plz4\n",
      "The multiplication= 4 The sum= 5\n"
     ]
    }
   ],
   "source": [
    "def calcul(x,y):\n",
    "    mult=x*y\n",
    "    som=x+y\n",
    "    print (\"The multiplication=\",mult,\"The sum=\",som)\n",
    "\n",
    "nb1= int(input(\"Give the first number plz\"))\n",
    "nb2= int(input(\"Give the second number plz\"))\n",
    "calcul(nb1,nb2)"
   ]
  },
  {
   "cell_type": "code",
   "execution_count": 10,
   "metadata": {},
   "outputs": [
    {
     "name": "stdout",
     "output_type": "stream",
     "text": [
      "Give a number plz8\n",
      "The sum= 15\n"
     ]
    }
   ],
   "source": [
    "def som(x):\n",
    "    som=x+(x-1)\n",
    "    print (\"The sum=\",som)\n",
    "\n",
    "nb1= int(input(\"Give a number plz\"))\n",
    "som(nb1)"
   ]
  },
  {
   "cell_type": "code",
   "execution_count": 12,
   "metadata": {},
   "outputs": [
    {
     "name": "stdout",
     "output_type": "stream",
     "text": [
      "Give a string plzazerty\n",
      "z\n",
      "r\n",
      "y\n"
     ]
    }
   ],
   "source": [
    "def pchar(ss):\n",
    "    for k in range (len(ss)):\n",
    "        if (k%2==1):\n",
    "            print(ss[k])\n",
    "   \n",
    "\n",
    "s= input(\"Give a string plz\")\n",
    "pchar(s)"
   ]
  },
  {
   "cell_type": "code",
   "execution_count": 20,
   "metadata": {},
   "outputs": [
    {
     "name": "stdout",
     "output_type": "stream",
     "text": [
      "Giveeee a string plznazih\n",
      "azih\n"
     ]
    }
   ],
   "source": [
    "def Remchar(sss):\n",
    "    sss=sss[1:]\n",
    "    print(sss)\n",
    "   \n",
    "\n",
    "s= input(\"Giveeee a string plz\")\n",
    "Remchar(s)"
   ]
  },
  {
   "cell_type": "code",
   "execution_count": 29,
   "metadata": {},
   "outputs": [
    {
     "name": "stdout",
     "output_type": "stream",
     "text": [
      "first and last number are the same\n"
     ]
    }
   ],
   "source": [
    "# initializing list\n",
    "def test():\n",
    "    test_list = [10, 478, 6, 770, 10]\n",
    "    if (test_list[0]== test_list[-1]):\n",
    "         print(\"first and last number are the same\")\n",
    "    else:\n",
    "        print(\"first and last number are not the same\")\n",
    "test()"
   ]
  },
  {
   "cell_type": "code",
   "execution_count": 30,
   "metadata": {},
   "outputs": [
    {
     "name": "stdout",
     "output_type": "stream",
     "text": [
      "Which table you need write it here:5\n",
      "write the number from where to start:1\n",
      "write the end of the number you need:10\n",
      "\n",
      "So This is the table of 5\n",
      "5 x 1 = 5\n",
      "5 x 2 = 10\n",
      "5 x 3 = 15\n",
      "5 x 4 = 20\n",
      "5 x 5 = 25\n",
      "5 x 6 = 30\n",
      "5 x 7 = 35\n",
      "5 x 8 = 40\n",
      "5 x 9 = 45\n",
      "5 x 10 = 50\n"
     ]
    }
   ],
   "source": [
    "num = int(input('Which table you need write it here:'))\n",
    "\n",
    "starting_range = int(input('write the number from where to start:'))\n",
    "ending_range = int(input('write the end of the number you need:'))\n",
    "print()\n",
    "print('So This is the table of', num)\n",
    "for i in range(starting_range, ending_range + 1):\n",
    "   print(num, 'x', i, '=', num*i)"
   ]
  },
  {
   "cell_type": "code",
   "execution_count": 33,
   "metadata": {},
   "outputs": [
    {
     "name": "stdout",
     "output_type": "stream",
     "text": [
      "result list: [87, 225, 112, 90, 8]\n"
     ]
    }
   ],
   "source": [
    "def new_list(list1, list2):\n",
    "    result_list = []\n",
    "    \n",
    "    # iterate first list\n",
    "    for num in list1:\n",
    "        # check if current number is odd\n",
    "        if num % 2 != 0:\n",
    "            # add odd number to result list\n",
    "            result_list.append(num)\n",
    "    \n",
    "    # iterate second list\n",
    "    for num in list2:\n",
    "        # check if current number is even\n",
    "        if num % 2 == 0:\n",
    "            # add even number to result list\n",
    "            result_list.append(num)\n",
    "    return result_list\n",
    "\n",
    "list1 = [87, 40, 225, 58, 100]\n",
    "list2 = [112, 425, 90, 215, 8]\n",
    "print(\"result list:\", new_list(list1, list2))"
   ]
  },
  {
   "cell_type": "code",
   "execution_count": null,
   "metadata": {},
   "outputs": [],
   "source": []
  }
 ],
 "metadata": {
  "kernelspec": {
   "display_name": "Python 3",
   "language": "python",
   "name": "python3"
  },
  "language_info": {
   "codemirror_mode": {
    "name": "ipython",
    "version": 3
   },
   "file_extension": ".py",
   "mimetype": "text/x-python",
   "name": "python",
   "nbconvert_exporter": "python",
   "pygments_lexer": "ipython3",
   "version": "3.8.3"
  }
 },
 "nbformat": 4,
 "nbformat_minor": 4
}
