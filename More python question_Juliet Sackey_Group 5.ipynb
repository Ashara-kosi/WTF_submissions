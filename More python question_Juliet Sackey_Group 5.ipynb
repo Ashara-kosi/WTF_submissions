{
 "cells": [
  {
   "cell_type": "code",
   "execution_count": 78,
   "id": "2fa71fda",
   "metadata": {},
   "outputs": [
    {
     "name": "stdout",
     "output_type": "stream",
     "text": [
      "enter num1:2\n",
      "enter num2:3\n",
      "6\n",
      "5\n"
     ]
    }
   ],
   "source": [
    "#1.\tWrite a function to calculate the multiplication and sum of two numbers.\n",
    "\n",
    "def multi_Suming():\n",
    "    num1=int(input('enter num1:'))\n",
    "    num2=int(input('enter num2:'))\n",
    "    print(num1*num2) \n",
    "    print(num1+num2)\n",
    "multi_Suming()\n"
   ]
  },
  {
   "cell_type": "code",
   "execution_count": 39,
   "id": "1e4f534f",
   "metadata": {},
   "outputs": [
    {
     "data": {
      "text/plain": [
       "6"
      ]
     },
     "execution_count": 39,
     "metadata": {},
     "output_type": "execute_result"
    }
   ],
   "source": [
    "#2.\tWrite a function to print the sum of the current number and the previous numberr\n",
    "def suming(x,y=2):\n",
    "    ans=x+y\n",
    "    return ans\n",
    "suming(4)"
   ]
  },
  {
   "cell_type": "code",
   "execution_count": 70,
   "id": "761303d7",
   "metadata": {},
   "outputs": [
    {
     "name": "stdout",
     "output_type": "stream",
     "text": [
      "Enter a string: girl\n",
      "characters present at even index: gr\n"
     ]
    }
   ],
   "source": [
    "#3.\tWrite a function to print characters from a string that are present at an even index numbercharacters = input('Enter a string: ')\n",
    "def characters():\n",
    "    characters = input('Enter a string: ')\n",
    "    print('characters present at even index:', characters[0::2])\n",
    "characters()"
   ]
  },
  {
   "cell_type": "code",
   "execution_count": 173,
   "id": "07201fe4",
   "metadata": {},
   "outputs": [
    {
     "name": "stdout",
     "output_type": "stream",
     "text": [
      "Enter a string:bhtyufgh\n",
      "htyufgh\n"
     ]
    }
   ],
   "source": [
    "#4.\tWrite a function to rremove first characters from a string\n",
    "def remove_first():\n",
    "    remove_first=input('Enter a string:')\n",
    "    print(remove_first[1:])\n",
    "remove_first()"
   ]
  },
  {
   "cell_type": "code",
   "execution_count": 174,
   "id": "f93d1163",
   "metadata": {},
   "outputs": [
    {
     "ename": "TypeError",
     "evalue": "'int' object is not subscriptable",
     "output_type": "error",
     "traceback": [
      "\u001b[1;31m---------------------------------------------------------------------------\u001b[0m",
      "\u001b[1;31mTypeError\u001b[0m                                 Traceback (most recent call last)",
      "Input \u001b[1;32mIn [174]\u001b[0m, in \u001b[0;36m<cell line: 6>\u001b[1;34m()\u001b[0m\n\u001b[0;32m      3\u001b[0m \u001b[38;5;66;03m#if list[0]==[-1]:\u001b[39;00m\n\u001b[0;32m      4\u001b[0m \u001b[38;5;66;03m#print(list[0])\u001b[39;00m\n\u001b[0;32m      5\u001b[0m \u001b[38;5;66;03m#print(list[-1])\u001b[39;00m\n\u001b[0;32m      6\u001b[0m \u001b[38;5;28;01mfor\u001b[39;00m i \u001b[38;5;129;01min\u001b[39;00m \u001b[38;5;28mlist\u001b[39m:\n\u001b[1;32m----> 7\u001b[0m     \u001b[38;5;28;01mif\u001b[39;00m \u001b[43mi\u001b[49m\u001b[43m[\u001b[49m\u001b[38;5;241;43m0\u001b[39;49m\u001b[43m]\u001b[49m\u001b[38;5;241m==\u001b[39m[\u001b[38;5;241m-\u001b[39m\u001b[38;5;241m1\u001b[39m]:\n\u001b[0;32m      8\u001b[0m         \u001b[38;5;28mprint\u001b[39m(\u001b[38;5;124m'\u001b[39m\u001b[38;5;124mThe number is the same\u001b[39m\u001b[38;5;124m'\u001b[39m)\n\u001b[0;32m      9\u001b[0m \u001b[38;5;28;01melse\u001b[39;00m:\n",
      "\u001b[1;31mTypeError\u001b[0m: 'int' object is not subscriptable"
     ]
    }
   ],
   "source": [
    "#5.\tWrite a function to check if the first and last number of a list is the same\n",
    "list=[2,8,9,2]\n",
    "#if list[0]==[-1]:\n",
    "#print(list[0])\n",
    "#print(list[-1])\n",
    "for i in list:\n",
    "    if i[0]==[-1]:\n",
    "        print('The number is the same')\n",
    "else:\n",
    "    print('The number is not the same')"
   ]
  },
  {
   "cell_type": "code",
   "execution_count": 185,
   "id": "f4d5343d",
   "metadata": {},
   "outputs": [],
   "source": [
    "#6.\t Write a function to print multiplication table from 1 to 10\n",
    "#for num in range(1,11):\n",
    "    #print(num)\n",
    "    #while i in range:\n",
    "    #i=num*num\n",
    "    #print(i)\n",
    "\n",
    "    \n",
    "def tables():\n",
    "    for x in range(1, 11):\n",
    "\n",
    "        print(\"\")\n",
    "\n",
    "        for y in range(1, 11):\n",
    "            print(x * y, end=\" \")"
   ]
  },
  {
   "cell_type": "code",
   "execution_count": 172,
   "id": "1969db47",
   "metadata": {},
   "outputs": [
    {
     "ename": "TypeError",
     "evalue": "'tuple' object is not callable",
     "output_type": "error",
     "traceback": [
      "\u001b[1;31m---------------------------------------------------------------------------\u001b[0m",
      "\u001b[1;31mTypeError\u001b[0m                                 Traceback (most recent call last)",
      "Input \u001b[1;32mIn [172]\u001b[0m, in \u001b[0;36m<cell line: 5>\u001b[1;34m()\u001b[0m\n\u001b[0;32m      3\u001b[0m     \u001b[38;5;28;01mfor\u001b[39;00m i \u001b[38;5;129;01min\u001b[39;00m \u001b[38;5;28mrange\u001b[39m(\u001b[38;5;241m1\u001b[39m,\u001b[38;5;241m11\u001b[39m): \n\u001b[0;32m      4\u001b[0m         \u001b[38;5;28mprint\u001b[39m(num,\u001b[38;5;124m'\u001b[39m\u001b[38;5;124m x \u001b[39m\u001b[38;5;124m'\u001b[39m, i, \u001b[38;5;124m'\u001b[39m\u001b[38;5;124m = \u001b[39m\u001b[38;5;124m'\u001b[39m,num\u001b[38;5;241m*\u001b[39mi) \n\u001b[1;32m----> 5\u001b[0m \u001b[43mprint_table\u001b[49m\u001b[43m(\u001b[49m\u001b[38;5;241;43m3\u001b[39;49m\u001b[43m)\u001b[49m\n",
      "Input \u001b[1;32mIn [172]\u001b[0m, in \u001b[0;36mprint_table\u001b[1;34m(num)\u001b[0m\n\u001b[0;32m      1\u001b[0m \u001b[38;5;28;01mdef\u001b[39;00m \u001b[38;5;21mprint_table\u001b[39m(num): \n\u001b[0;32m      2\u001b[0m     \u001b[38;5;124;03m\"\"\" This function prints multiplication table of a given number\"\"\"\u001b[39;00m\n\u001b[1;32m----> 3\u001b[0m     \u001b[38;5;28;01mfor\u001b[39;00m i \u001b[38;5;129;01min\u001b[39;00m \u001b[38;5;28;43mrange\u001b[39;49m\u001b[43m(\u001b[49m\u001b[38;5;241;43m1\u001b[39;49m\u001b[43m,\u001b[49m\u001b[38;5;241;43m11\u001b[39;49m\u001b[43m)\u001b[49m: \n\u001b[0;32m      4\u001b[0m         \u001b[38;5;28mprint\u001b[39m(num,\u001b[38;5;124m'\u001b[39m\u001b[38;5;124m x \u001b[39m\u001b[38;5;124m'\u001b[39m, i, \u001b[38;5;124m'\u001b[39m\u001b[38;5;124m = \u001b[39m\u001b[38;5;124m'\u001b[39m,num\u001b[38;5;241m*\u001b[39mi)\n",
      "\u001b[1;31mTypeError\u001b[0m: 'tuple' object is not callable"
     ]
    }
   ],
   "source": [
    "def print_table(num): \n",
    "    \"\"\" This function prints multiplication table of a given number\"\"\"\n",
    "    for i in range(1,11): \n",
    "        print(num,' x ', i, ' = ',num*i) \n",
    "print_table(3)"
   ]
  },
  {
   "cell_type": "code",
   "execution_count": 178,
   "id": "e16ff7ec",
   "metadata": {},
   "outputs": [
    {
     "name": "stdout",
     "output_type": "stream",
     "text": [
      "enter numbers4\n"
     ]
    },
    {
     "ename": "TypeError",
     "evalue": "not all arguments converted during string formatting",
     "output_type": "error",
     "traceback": [
      "\u001b[1;31m---------------------------------------------------------------------------\u001b[0m",
      "\u001b[1;31mTypeError\u001b[0m                                 Traceback (most recent call last)",
      "Input \u001b[1;32mIn [178]\u001b[0m, in \u001b[0;36m<cell line: 4>\u001b[1;34m()\u001b[0m\n\u001b[0;32m      3\u001b[0m x\u001b[38;5;241m=\u001b[39m\u001b[38;5;28minput\u001b[39m(\u001b[38;5;124m'\u001b[39m\u001b[38;5;124menter numbers\u001b[39m\u001b[38;5;124m'\u001b[39m)\n\u001b[0;32m      4\u001b[0m \u001b[38;5;28;01mfor\u001b[39;00m i \u001b[38;5;129;01min\u001b[39;00m x:\n\u001b[0;32m      5\u001b[0m     \u001b[38;5;66;03m#y=input('enter numbers')\u001b[39;00m\n\u001b[1;32m----> 6\u001b[0m     \u001b[38;5;28;01mif\u001b[39;00m \u001b[43mi\u001b[49m\u001b[43m \u001b[49m\u001b[38;5;241;43m%\u001b[39;49m\u001b[43m \u001b[49m\u001b[38;5;241;43m2\u001b[39;49m \u001b[38;5;241m==\u001b[39m \u001b[38;5;241m0\u001b[39m:\n\u001b[0;32m      7\u001b[0m         \u001b[38;5;28mprint\u001b[39m(x, end\u001b[38;5;241m=\u001b[39m\u001b[38;5;124m\"\u001b[39m\u001b[38;5;124m \u001b[39m\u001b[38;5;124m\"\u001b[39m)\n\u001b[0;32m      8\u001b[0m \u001b[38;5;66;03m#else:\u001b[39;00m\n\u001b[0;32m      9\u001b[0m     \u001b[38;5;66;03m#print('This is odd')\u001b[39;00m\n\u001b[0;32m     10\u001b[0m \u001b[38;5;66;03m#newlist(2,6)\u001b[39;00m\n",
      "\u001b[1;31mTypeError\u001b[0m: not all arguments converted during string formatting"
     ]
    }
   ],
   "source": [
    "#7.\tGiven a two list of numbers, write a function to create a new list such that the new list should contain odd numbers from the first list and even numbers from the second list.\n",
    "#def newlist(x,y):\n",
    "x=input('enter numbers')\n",
    "for i in x:\n",
    "    #y=input('enter numbers')\n",
    "    if i % 2 == 0:\n",
    "        print(x, end=\" \")\n",
    "#else:\n",
    "    #print('This is odd')\n",
    "#newlist(2,6)\n",
    "    \n",
    "def newlist():   \n",
    "    list_1=[0,1,3,5]\n",
    "    list_2=[2,4,6,8]\n",
    "    newlist=[list_1,list_2]\n",
    "    print(newlist)\n",
    "newlist()\n"
   ]
  },
  {
   "cell_type": "code",
   "execution_count": 181,
   "id": "976ece36",
   "metadata": {},
   "outputs": [
    {
     "name": "stdout",
     "output_type": "stream",
     "text": [
      "10 4 66 "
     ]
    }
   ],
   "source": []
  },
  {
   "cell_type": "code",
   "execution_count": null,
   "id": "728503d3",
   "metadata": {},
   "outputs": [],
   "source": []
  }
 ],
 "metadata": {
  "kernelspec": {
   "display_name": "Python 3 (ipykernel)",
   "language": "python",
   "name": "python3"
  },
  "language_info": {
   "codemirror_mode": {
    "name": "ipython",
    "version": 3
   },
   "file_extension": ".py",
   "mimetype": "text/x-python",
   "name": "python",
   "nbconvert_exporter": "python",
   "pygments_lexer": "ipython3",
   "version": "3.9.12"
  }
 },
 "nbformat": 4,
 "nbformat_minor": 5
}
