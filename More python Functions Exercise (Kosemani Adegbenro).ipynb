{
 "cells": [
  {
   "cell_type": "code",
   "execution_count": 9,
   "id": "7962c14f",
   "metadata": {},
   "outputs": [],
   "source": [
    "#1.\tWrite a function to calculate the multiplication and sum of two numbers.\n",
    "def multiplication_sum(x,y):\n",
    "    x = 55\n",
    "    y =22\n",
    "    print(x * y, x + y)"
   ]
  },
  {
   "cell_type": "code",
   "execution_count": 11,
   "id": "3798a88a",
   "metadata": {},
   "outputs": [
    {
     "name": "stdout",
     "output_type": "stream",
     "text": [
      "1210 77\n"
     ]
    }
   ],
   "source": [
    "multiplication_sum(55,22)"
   ]
  },
  {
   "cell_type": "code",
   "execution_count": 14,
   "id": "41cfaa62",
   "metadata": {},
   "outputs": [],
   "source": [
    "#2.\tWrite a function to print the sum of the current number and the previous number\n",
    "def sumpreviousnumber_currentnumber(c):\n",
    "    previous = (c - 1)\n",
    "    current = (c)\n",
    "    print(int(previous + int(c)))\n",
    "    "
   ]
  },
  {
   "cell_type": "code",
   "execution_count": 15,
   "id": "07bee998",
   "metadata": {},
   "outputs": [
    {
     "name": "stdout",
     "output_type": "stream",
     "text": [
      "39\n"
     ]
    }
   ],
   "source": [
    "sumpreviousnumber_currentnumber(20)"
   ]
  },
  {
   "cell_type": "code",
   "execution_count": 72,
   "id": "ade1822c",
   "metadata": {},
   "outputs": [],
   "source": [
    "#3.\tWrite a function to print characters from a string that are present at an even index number\n",
    "def character_string():\n",
    "    x = 'kosemaniloreoluwa'\n",
    "    i = 0\n",
    "    print('character present at even index:')\n",
    "    while i < len(x):\n",
    "        print(x[i], end=\" \")\n",
    "        i = i + 2"
   ]
  },
  {
   "cell_type": "code",
   "execution_count": 73,
   "id": "8d089891",
   "metadata": {},
   "outputs": [
    {
     "name": "stdout",
     "output_type": "stream",
     "text": [
      "character present at even index:\n",
      "k s m n l r o u a "
     ]
    }
   ],
   "source": [
    "character_string()"
   ]
  },
  {
   "cell_type": "code",
   "execution_count": 41,
   "id": "b2418dc8",
   "metadata": {},
   "outputs": [],
   "source": [
    "#4.\tWrite a function to remove first characters from a string\n",
    "def remove_first_character(k):\n",
    "    print(k.replace(k[0], ''))  \n",
    "    "
   ]
  },
  {
   "cell_type": "code",
   "execution_count": 42,
   "id": "7e262040",
   "metadata": {},
   "outputs": [
    {
     "name": "stdout",
     "output_type": "stream",
     "text": [
      "osemaniloreoluwa\n"
     ]
    }
   ],
   "source": [
    "remove_first_character('kosemaniloreoluwa')"
   ]
  },
  {
   "cell_type": "code",
   "execution_count": 57,
   "id": "b3618f82",
   "metadata": {},
   "outputs": [],
   "source": [
    "#5.\tWrite a function to check if the first and last number of a list is the same\n",
    "def check_first_and_last(list):\n",
    "    if list [0] == list [-1]:\n",
    "        print(True)\n",
    "    else:\n",
    "        print(False)"
   ]
  },
  {
   "cell_type": "code",
   "execution_count": 58,
   "id": "627ab158",
   "metadata": {},
   "outputs": [
    {
     "name": "stdout",
     "output_type": "stream",
     "text": [
      "True\n"
     ]
    }
   ],
   "source": [
    "list = [10,11,13,14,56,78,11,10]\n",
    "check_first_and_last(list)"
   ]
  },
  {
   "cell_type": "code",
   "execution_count": 66,
   "id": "f8ec7970",
   "metadata": {},
   "outputs": [],
   "source": [
    "#6.Write a function to print multiplication table from 1 to 10\n",
    "def multiplication_table():\n",
    "    for a in range(1, 11):\n",
    "        print(\"\")\n",
    "        for b in range(1, 11):\n",
    "            print(a * b, end=\" \")"
   ]
  },
  {
   "cell_type": "code",
   "execution_count": 67,
   "id": "4521aac5",
   "metadata": {},
   "outputs": [
    {
     "name": "stdout",
     "output_type": "stream",
     "text": [
      "\n",
      "1 2 3 4 5 6 7 8 9 10 \n",
      "2 4 6 8 10 12 14 16 18 20 \n",
      "3 6 9 12 15 18 21 24 27 30 \n",
      "4 8 12 16 20 24 28 32 36 40 \n",
      "5 10 15 20 25 30 35 40 45 50 \n",
      "6 12 18 24 30 36 42 48 54 60 \n",
      "7 14 21 28 35 42 49 56 63 70 \n",
      "8 16 24 32 40 48 56 64 72 80 \n",
      "9 18 27 36 45 54 63 72 81 90 \n",
      "10 20 30 40 50 60 70 80 90 100 "
     ]
    }
   ],
   "source": [
    "multiplication_table()"
   ]
  },
  {
   "cell_type": "code",
   "execution_count": 70,
   "id": "d9a79131",
   "metadata": {},
   "outputs": [],
   "source": [
    "#7.\tGiven a two list of numbers, write a function to create a new list such that the new list should contain odd numbers from the first list and even numbers from the second list.\n",
    "def odd_even():\n",
    "    K= [23,27,90,100,12,13,16,17]\n",
    "    L = [8,11,14,20,34,18,21,80,75]\n",
    "    M = []\n",
    "    for x in K:\n",
    "        if x % 2 > 0:\n",
    "            M.append(x)\n",
    "    for y in L:\n",
    "        if y % 2 == 0:\n",
    "            M.append(y)\n",
    "    print(M)"
   ]
  },
  {
   "cell_type": "code",
   "execution_count": 71,
   "id": "27b5e8fc",
   "metadata": {},
   "outputs": [
    {
     "name": "stdout",
     "output_type": "stream",
     "text": [
      "[23, 27, 13, 17, 8, 14, 20, 34, 18, 80]\n"
     ]
    }
   ],
   "source": [
    "odd_even()"
   ]
  },
  {
   "cell_type": "code",
   "execution_count": null,
   "id": "56cdf468",
   "metadata": {},
   "outputs": [],
   "source": []
  }
 ],
 "metadata": {
  "kernelspec": {
   "display_name": "Python 3 (ipykernel)",
   "language": "python",
   "name": "python3"
  },
  "language_info": {
   "codemirror_mode": {
    "name": "ipython",
    "version": 3
   },
   "file_extension": ".py",
   "mimetype": "text/x-python",
   "name": "python",
   "nbconvert_exporter": "python",
   "pygments_lexer": "ipython3",
   "version": "3.9.12"
  }
 },
 "nbformat": 4,
 "nbformat_minor": 5
}
