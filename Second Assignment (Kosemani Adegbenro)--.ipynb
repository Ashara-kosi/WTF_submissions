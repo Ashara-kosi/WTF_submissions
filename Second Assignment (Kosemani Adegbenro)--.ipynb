{
 "cells": [
  {
   "cell_type": "markdown",
   "id": "3ece8b54",
   "metadata": {},
   "source": [
    "# 1. Write a function called showNumbers that takes a parameter called limit. It should print all the numbers between 0 and limit with a label to identify the even and odd numbers. For example, if the limit is 3, it should print:0 EVEN 1 ODD 2 EVEN 3 ODD"
   ]
  },
  {
   "cell_type": "code",
   "execution_count": 3,
   "id": "c78e14fe",
   "metadata": {},
   "outputs": [],
   "source": [
    "def show_numbers(limit):\n",
    "    for i in range(0,limit):\n",
    "        if i % 2 == 0:\n",
    "            print(i, 'even')\n",
    "        if i % 2 > 0:\n",
    "            print(i, 'odd')"
   ]
  },
  {
   "cell_type": "code",
   "execution_count": 4,
   "id": "fa95ff8a",
   "metadata": {},
   "outputs": [
    {
     "name": "stdout",
     "output_type": "stream",
     "text": [
      "0 even\n",
      "1 odd\n",
      "2 even\n",
      "3 odd\n",
      "4 even\n",
      "5 odd\n",
      "6 even\n",
      "7 odd\n",
      "8 even\n",
      "9 odd\n",
      "10 even\n",
      "11 odd\n",
      "12 even\n",
      "13 odd\n",
      "14 even\n",
      "15 odd\n",
      "16 even\n",
      "17 odd\n",
      "18 even\n",
      "19 odd\n",
      "20 even\n",
      "21 odd\n",
      "22 even\n",
      "23 odd\n",
      "24 even\n",
      "25 odd\n",
      "26 even\n",
      "27 odd\n",
      "28 even\n",
      "29 odd\n",
      "30 even\n",
      "31 odd\n",
      "32 even\n",
      "33 odd\n",
      "34 even\n",
      "35 odd\n",
      "36 even\n",
      "37 odd\n",
      "38 even\n",
      "39 odd\n"
     ]
    }
   ],
   "source": [
    "show_numbers(40)"
   ]
  },
  {
   "cell_type": "markdown",
   "id": "52977661",
   "metadata": {},
   "source": [
    "#2. Write a function that returns the sum of multiples of 3 and 5 between 0 and limit (parameter). For example, if limit is 20, it should return the sum of 3, 5, 6, 9, 10, 12, 15, 18, 20."
   ]
  },
  {
   "cell_type": "code",
   "execution_count": 7,
   "id": "f4841a2e",
   "metadata": {},
   "outputs": [],
   "source": [
    "def sum_of_multiples(limit):\n",
    "    for i in range(0,limit):\n",
    "        if i % 3 == 0  or i % 5 == 0:\n",
    "            print(i)\n",
    "        "
   ]
  },
  {
   "cell_type": "code",
   "execution_count": 8,
   "id": "5bf10afd",
   "metadata": {},
   "outputs": [
    {
     "name": "stdout",
     "output_type": "stream",
     "text": [
      "0\n",
      "3\n",
      "5\n",
      "6\n",
      "9\n",
      "10\n",
      "12\n",
      "15\n",
      "18\n",
      "20\n",
      "21\n",
      "24\n",
      "25\n",
      "27\n",
      "30\n",
      "33\n",
      "35\n",
      "36\n",
      "39\n",
      "40\n",
      "42\n",
      "45\n",
      "48\n"
     ]
    }
   ],
   "source": [
    "sum_of_multiples(50)"
   ]
  },
  {
   "cell_type": "markdown",
   "id": "accf79d8",
   "metadata": {},
   "source": [
    "#3. Write a function called show_stars(rows). If rows is 5, it should print the following:***"
   ]
  },
  {
   "cell_type": "code",
   "execution_count": 9,
   "id": "827644a1",
   "metadata": {},
   "outputs": [],
   "source": [
    "def show_stars(rows):\n",
    "    rows == 5\n",
    "    for i in range(0,rows):\n",
    "        print('*', end='')"
   ]
  },
  {
   "cell_type": "code",
   "execution_count": 11,
   "id": "9dd7b3b7",
   "metadata": {},
   "outputs": [
    {
     "name": "stdout",
     "output_type": "stream",
     "text": [
      "********************"
     ]
    }
   ],
   "source": [
    "show_stars(20)"
   ]
  },
  {
   "cell_type": "markdown",
   "id": "b1ad897a",
   "metadata": {},
   "source": [
    "#4. Write a function that prints all the prime numbers between 0 and limit where limit is a\n",
    "parameter"
   ]
  },
  {
   "cell_type": "code",
   "execution_count": 14,
   "id": "4453eaca",
   "metadata": {},
   "outputs": [],
   "source": [
    "def printPrimeNumbers(limit):   \n",
    "    for num in range(0, limit):    \n",
    "        if num > 1:                              \n",
    "            for i in range(2, num):              \n",
    "                if num%i==0:\n",
    "                    break                        \n",
    "            else:                                 \n",
    "                print (num)"
   ]
  },
  {
   "cell_type": "code",
   "execution_count": 15,
   "id": "d0bcba63",
   "metadata": {},
   "outputs": [
    {
     "name": "stdout",
     "output_type": "stream",
     "text": [
      "2\n",
      "3\n",
      "5\n",
      "7\n",
      "11\n",
      "13\n",
      "17\n",
      "19\n",
      "23\n",
      "29\n"
     ]
    }
   ],
   "source": [
    "printPrimeNumbers(30)"
   ]
  },
  {
   "cell_type": "markdown",
   "id": "2d6b349b",
   "metadata": {},
   "source": [
    "#5. Write a program (function!) that takes a list and returns a new list that contains all the elements of the first list minus all the duplicates"
   ]
  },
  {
   "cell_type": "code",
   "execution_count": 12,
   "id": "335cc939",
   "metadata": {},
   "outputs": [],
   "source": [
    "def list_without_duplicates():\n",
    "    k = [1,2,3,4,5,6,7,8,9,10,3,4,5,6,7,78,5]\n",
    "    k = list(dict.fromkeys(k))\n",
    "\n",
    "    print(k)"
   ]
  },
  {
   "cell_type": "code",
   "execution_count": 13,
   "id": "00388be2",
   "metadata": {},
   "outputs": [
    {
     "name": "stdout",
     "output_type": "stream",
     "text": [
      "[1, 2, 3, 4, 5, 6, 7, 8, 9, 10, 78]\n"
     ]
    }
   ],
   "source": [
    "list_without_duplicates()"
   ]
  },
  {
   "cell_type": "markdown",
   "id": "46710c11",
   "metadata": {},
   "source": [
    "#6. Write a function to ask the user for a number and determine whether the number is\n",
    "prime or not."
   ]
  },
  {
   "cell_type": "code",
   "execution_count": 23,
   "id": "0f60ce1b",
   "metadata": {},
   "outputs": [],
   "source": [
    "def primenumber_or_not(num):\n",
    "    num = int(input(\"what's your number? \"))\n",
    "    if (num % 2) == 0 and num % num >= 1:\n",
    "        print ('it is not a prime number')\n",
    "    else:\n",
    "        print('it is a prime number')"
   ]
  },
  {
   "cell_type": "code",
   "execution_count": 24,
   "id": "651df00c",
   "metadata": {},
   "outputs": [
    {
     "name": "stdout",
     "output_type": "stream",
     "text": [
      "what's your number? 7\n",
      "it is a prime number\n"
     ]
    }
   ],
   "source": [
    "primenumber_or_not(7)"
   ]
  },
  {
   "cell_type": "markdown",
   "id": "7815daf8",
   "metadata": {},
   "source": [
    "#7. Write a program that asks the user how many Fibonnaci numbers to generate and then generates them."
   ]
  },
  {
   "cell_type": "code",
   "execution_count": 1,
   "id": "62d4af4b",
   "metadata": {},
   "outputs": [
    {
     "name": "stdout",
     "output_type": "stream",
     "text": [
      "How many Fibonacci numbers would you like me to create?:4\n",
      "[1, 1, 2, 3]\n"
     ]
    }
   ],
   "source": [
    "number = int(input(\"How many Fibonacci numbers would you like me to create?:\"))\n",
    "if (number <= 0):\n",
    "    print(\"Number cannot be less than 1!\")\n",
    "else:\n",
    "    FibonacciArray = [0]*number\n",
    "    FibonacciArray[0] = 1\n",
    "    FibonacciCounter = 2\n",
    "    if (number > 1):\n",
    "        FibonacciArray[1] = 1\n",
    "    if (number > 2):\n",
    "        while FibonacciCounter < number:\n",
    "            FibonacciArray[FibonacciCounter] = FibonacciArray[FibonacciCounter - 2] + FibonacciArray[FibonacciCounter - 1]\n",
    "            FibonacciCounter = FibonacciCounter + 1 #increment FibonacciCounter\n",
    "    print(FibonacciArray)"
   ]
  },
  {
   "cell_type": "markdown",
   "id": "e03f6977",
   "metadata": {},
   "source": [
    "#8. Write a function that ask the user for a string and print out whether this string is a palindrome or not"
   ]
  },
  {
   "cell_type": "code",
   "execution_count": 2,
   "id": "a988e317",
   "metadata": {},
   "outputs": [],
   "source": [
    "def palindrome():\n",
    "    k = input('Type in a word').lower()\n",
    "    if k[0:]== k[::-1]:\n",
    "        print('The word is a Palindrome')\n",
    "    else:\n",
    "            print('The word is not a Palindrome')\n",
    "    return"
   ]
  },
  {
   "cell_type": "code",
   "execution_count": 3,
   "id": "92cd699b",
   "metadata": {},
   "outputs": [
    {
     "name": "stdout",
     "output_type": "stream",
     "text": [
      "Type in a wordkose\n",
      "The word is not a Palindrome\n"
     ]
    }
   ],
   "source": [
    "palindrome()"
   ]
  },
  {
   "cell_type": "markdown",
   "id": "4e7a7ab4",
   "metadata": {},
   "source": [
    "#9. Write a function that takes an ordered list of numbers (a list where the elements are in order from smallest to largest) and another number."
   ]
  },
  {
   "cell_type": "code",
   "execution_count": 24,
   "id": "5ec0adea",
   "metadata": {},
   "outputs": [],
   "source": [
    "def orderedlistofnumber_plusone(num):\n",
    "    k = [1,2,3,4,5,6,7,8,8,9,10]\n",
    "    k.append(55)\n",
    "    print(k)"
   ]
  },
  {
   "cell_type": "code",
   "execution_count": 25,
   "id": "64933f9a",
   "metadata": {},
   "outputs": [
    {
     "name": "stdout",
     "output_type": "stream",
     "text": [
      "[1, 2, 3, 4, 5, 6, 7, 8, 8, 9, 10, 55]\n"
     ]
    }
   ],
   "source": [
    "orderedlistofnumber_plusone(55)"
   ]
  },
  {
   "cell_type": "markdown",
   "id": "ad8cbb0e",
   "metadata": {},
   "source": [
    "#10. Create a program that asks the user to enter their name and their age. Print out a message addressed to them that tells them the year that they will turn 100 years old"
   ]
  },
  {
   "cell_type": "code",
   "execution_count": 28,
   "id": "e9d47321",
   "metadata": {},
   "outputs": [
    {
     "name": "stdout",
     "output_type": "stream",
     "text": [
      "enter your nameKosemani\n",
      "what is your age21\n",
      "hi, you will be 100 years old by year 2101\n"
     ]
    }
   ],
   "source": [
    "name = input('enter your name')\n",
    "age = int(input('what is your age'))\n",
    "K = 100 - age\n",
    "year = 2022 - int(age) + 100\n",
    "print('hi, you will be 100 years old by year {}'.format(year))"
   ]
  },
  {
   "cell_type": "code",
   "execution_count": null,
   "id": "70bc04e2",
   "metadata": {},
   "outputs": [],
   "source": []
  }
 ],
 "metadata": {
  "kernelspec": {
   "display_name": "Python 3 (ipykernel)",
   "language": "python",
   "name": "python3"
  },
  "language_info": {
   "codemirror_mode": {
    "name": "ipython",
    "version": 3
   },
   "file_extension": ".py",
   "mimetype": "text/x-python",
   "name": "python",
   "nbconvert_exporter": "python",
   "pygments_lexer": "ipython3",
   "version": "3.9.12"
  }
 },
 "nbformat": 4,
 "nbformat_minor": 5
}
