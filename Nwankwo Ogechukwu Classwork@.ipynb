{
 "cells": [
  {
   "cell_type": "code",
   "execution_count": 6,
   "id": "eb48c08f",
   "metadata": {},
   "outputs": [],
   "source": [
    "# 1 Write a function called showNumbers that takes a parameter called limit. It should print\n",
    "#all the numbers between 0 and limit with a label to identify the even and odd numbers.\n",
    "#For example, if the limit is 3, it should print:0 EVEN 1 ODD 2 EVEN 3 ODD\n",
    "\n",
    "def showNumbers(limit):\n",
    "    for a in range(0,limit):\n",
    "        if a % 2 ==0:\n",
    "            print(a,'Even')\n",
    "        if a % 2 > 1:\n",
    "            print(a,'odd')\n",
    "    return"
   ]
  },
  {
   "cell_type": "code",
   "execution_count": 8,
   "id": "80186049",
   "metadata": {},
   "outputs": [
    {
     "name": "stdout",
     "output_type": "stream",
     "text": [
      "0 Even\n",
      "2 Even\n",
      "4 Even\n",
      "6 Even\n",
      "8 Even\n",
      "10 Even\n",
      "12 Even\n",
      "14 Even\n"
     ]
    }
   ],
   "source": [
    "showNumbers(15)"
   ]
  },
  {
   "cell_type": "code",
   "execution_count": 9,
   "id": "c74bd7ec",
   "metadata": {},
   "outputs": [],
   "source": [
    "# 2Write a function that returns the sum of multiples of 3 and 5 between 0 and limit (parameter).\n",
    "def sum_Multiply(limit):\n",
    "    output = 0\n",
    "    for i in range(limit):\n",
    "        i = i + 1\n",
    "        if i % 3 == 0 or i % 5 == 0:\n",
    "            output = 0 + i\n",
    "            print(output)"
   ]
  },
  {
   "cell_type": "code",
   "execution_count": 10,
   "id": "c0f6979c",
   "metadata": {},
   "outputs": [
    {
     "name": "stdout",
     "output_type": "stream",
     "text": [
      "3\n",
      "5\n",
      "6\n",
      "9\n",
      "10\n",
      "12\n",
      "15\n",
      "18\n",
      "20\n"
     ]
    }
   ],
   "source": [
    "sum_Multiply(20)"
   ]
  },
  {
   "cell_type": "code",
   "execution_count": 13,
   "id": "5d1d7506",
   "metadata": {},
   "outputs": [],
   "source": [
    "# 3Write a function called show_stars(rows). If rows is 5, it should print the\n",
    "#following:*********\n",
    "    \n",
    "def show_star(row):\n",
    "    if row == 5:\n",
    "        print(10*'*')\n",
    "    return"
   ]
  },
  {
   "cell_type": "code",
   "execution_count": 14,
   "id": "c00715e6",
   "metadata": {},
   "outputs": [
    {
     "name": "stdout",
     "output_type": "stream",
     "text": [
      "**********\n"
     ]
    }
   ],
   "source": [
    "show_star(5)"
   ]
  },
  {
   "cell_type": "code",
   "execution_count": 56,
   "id": "42cda648",
   "metadata": {},
   "outputs": [],
   "source": [
    "# 4 Write a function that prints all the prime numbers between 0 and limit where limit is a parameter\n",
    "\n",
    "def primeNumbers(limit):   \n",
    "    for a in range(0, limit):    \n",
    "        if a > 1:                              \n",
    "            for i in range(2, a):              \n",
    "                if a % i==0:\n",
    "                    break                        \n",
    "            else:                                 \n",
    "                print (a)"
   ]
  },
  {
   "cell_type": "code",
   "execution_count": 58,
   "id": "07e2c4af",
   "metadata": {},
   "outputs": [
    {
     "name": "stdout",
     "output_type": "stream",
     "text": [
      "2\n",
      "3\n",
      "5\n",
      "7\n",
      "11\n",
      "13\n",
      "17\n",
      "19\n"
     ]
    }
   ],
   "source": [
    "primeNumbers(21)"
   ]
  },
  {
   "cell_type": "code",
   "execution_count": 63,
   "id": "0e2c84df",
   "metadata": {},
   "outputs": [],
   "source": [
    "# 5Write a program (function!) that takes a list and returns a new list that contains all the\n",
    "#elements of the first list minus all the duplicates.\n",
    "\n",
    "def returns_list():\n",
    "    list1 = [1,2,3,5,6,7,9,6,5,3,2,1,33,31,55,33,1,2]\n",
    "    print(list(set(list1)))"
   ]
  },
  {
   "cell_type": "code",
   "execution_count": 29,
   "id": "1552073f",
   "metadata": {},
   "outputs": [
    {
     "name": "stdout",
     "output_type": "stream",
     "text": [
      "[1, 2, 3, 33, 5, 6, 7, 9, 55, 31]\n"
     ]
    }
   ],
   "source": [
    "returns_list()"
   ]
  },
  {
   "cell_type": "code",
   "execution_count": 82,
   "id": "4e3f3161",
   "metadata": {},
   "outputs": [],
   "source": [
    "# 6Write a function to ask the user for a number and determine whether the number is prime or not.\n",
    "def primeNumberCheck():\n",
    "    get = int(input(\"Type in your number? \"))\n",
    "    if (get % 2) == 0 and get % get ==0:\n",
    "        print ('it is not a prime number')\n",
    "    else:\n",
    "        print('it is a prime number')"
   ]
  },
  {
   "cell_type": "code",
   "execution_count": 83,
   "id": "338341a8",
   "metadata": {},
   "outputs": [
    {
     "name": "stdout",
     "output_type": "stream",
     "text": [
      "Type in your number? 31\n",
      "it is a prime number\n"
     ]
    }
   ],
   "source": [
    "primeNumberCheck()"
   ]
  },
  {
   "cell_type": "code",
   "execution_count": 91,
   "id": "4e7de450",
   "metadata": {},
   "outputs": [
    {
     "name": "stdout",
     "output_type": "stream",
     "text": [
      "How many Fibonacci numbers would you like me to create?:6\n",
      "[1, 1, 2, 3, 5, 8]\n"
     ]
    }
   ],
   "source": [
    "#7. Write a program that asks the user how many Fibonnaci numbers to generate and then generates them.\n",
    "number = int(input(\"How many Fibonacci numbers would you like me to create?:\"))\n",
    "if (number <= 0):\n",
    "    print(\"Number cannot be less than 1!\")\n",
    "else:\n",
    "    FibonacciArray = [0]*number\n",
    "    FibonacciArray[0] = 1\n",
    "    FibonacciCounter = 2\n",
    "    if (number > 1):\n",
    "        FibonacciArray[1] = 1\n",
    "    if (number > 2):\n",
    "        while FibonacciCounter < number:\n",
    "            FibonacciArray[FibonacciCounter] = FibonacciArray[FibonacciCounter - 2] + FibonacciArray[FibonacciCounter - 1]\n",
    "            FibonacciCounter = FibonacciCounter + 1 #increment FibonacciCounter\n",
    "    print(FibonacciArray)"
   ]
  },
  {
   "cell_type": "code",
   "execution_count": null,
   "id": "95a84108",
   "metadata": {},
   "outputs": [],
   "source": [
    "# 8Write a function that ask the user for a string and print out whether this string is a palindrome or not.\n",
    "\n",
    "def palindrome():\n",
    "    get = input('Type in a word').lower()\n",
    "    if get[0:]== get[::-1]:\n",
    "        print('The word you inputted is a Palindrome')\n",
    "    else:\n",
    "            print('The word you inputted is not a Palindrome')\n",
    "    return"
   ]
  },
  {
   "cell_type": "code",
   "execution_count": 36,
   "id": "1b55eb95",
   "metadata": {},
   "outputs": [
    {
     "name": "stdout",
     "output_type": "stream",
     "text": [
      "Type in a wordbook\n",
      "The word you inputed is not a Palindrome\n"
     ]
    }
   ],
   "source": [
    "palindrome()"
   ]
  },
  {
   "cell_type": "code",
   "execution_count": 37,
   "id": "83d41d0d",
   "metadata": {},
   "outputs": [
    {
     "name": "stdout",
     "output_type": "stream",
     "text": [
      "Type in a wordmadam\n",
      "The word you inputed is a Palindrome\n"
     ]
    }
   ],
   "source": [
    "palindrome()"
   ]
  },
  {
   "cell_type": "code",
   "execution_count": 85,
   "id": "1147b5da",
   "metadata": {},
   "outputs": [
    {
     "ename": "SyntaxError",
     "evalue": "invalid syntax (Temp/ipykernel_372/1780709354.py, line 7)",
     "output_type": "error",
     "traceback": [
      "\u001b[1;36m  File \u001b[1;32m\"C:\\Users\\pc\\AppData\\Local\\Temp/ipykernel_372/1780709354.py\"\u001b[1;36m, line \u001b[1;32m7\u001b[0m\n\u001b[1;33m    list2 = sorted(list1)\u001b[0m\n\u001b[1;37m    ^\u001b[0m\n\u001b[1;31mSyntaxError\u001b[0m\u001b[1;31m:\u001b[0m invalid syntax\n"
     ]
    }
   ],
   "source": [
    "# 9Write a function that takes an ordered list of numbers (a list where the elements are in\n",
    "#order from smallest to largest) and another number.\n",
    "\n",
    "def ordered_list():\n",
    "    Listz = [1,2,3,4,5,1,1,2,3,3,4,4,66,55,66,55,7,8,9,0]\n",
    "    list1 = (list(set(list2))\n",
    "    list2 = sorted(list1)\n",
    "    print(list2)\n",
    "    return"
   ]
  },
  {
   "cell_type": "code",
   "execution_count": 71,
   "id": "6e88b10d",
   "metadata": {},
   "outputs": [
    {
     "name": "stdout",
     "output_type": "stream",
     "text": [
      "[0, 1, 2, 3, 4, 5, 66, 7, 8, 9, 55]\n"
     ]
    }
   ],
   "source": [
    "ordered_list()"
   ]
  },
  {
   "cell_type": "code",
   "execution_count": 51,
   "id": "cf541cbc",
   "metadata": {},
   "outputs": [
    {
     "name": "stdout",
     "output_type": "stream",
     "text": [
      "Type in Your Name Nwankwo Ogechukwu\n",
      "Enter your Age 80\n",
      "Hello you will be 100 Years Old by 2042\n"
     ]
    }
   ],
   "source": [
    "#Create a program that asks the user to enter their name and their age. Print out a\n",
    "#message addressed to them that tells them the year that they will turn 100 years old\n",
    "\n",
    "Name = input('Type in Your Name ')\n",
    "Age = int(input('Enter your Age '))\n",
    "a = 100 - Age\n",
    "Year = 2022 + a\n",
    "print('Hello you will be 100 Years Old by {}'.format(Year))\n"
   ]
  },
  {
   "cell_type": "code",
   "execution_count": null,
   "id": "c1933a93",
   "metadata": {},
   "outputs": [],
   "source": []
  }
 ],
 "metadata": {
  "kernelspec": {
   "display_name": "Python 3 (ipykernel)",
   "language": "python",
   "name": "python3"
  },
  "language_info": {
   "codemirror_mode": {
    "name": "ipython",
    "version": 3
   },
   "file_extension": ".py",
   "mimetype": "text/x-python",
   "name": "python",
   "nbconvert_exporter": "python",
   "pygments_lexer": "ipython3",
   "version": "3.9.7"
  }
 },
 "nbformat": 4,
 "nbformat_minor": 5
}
