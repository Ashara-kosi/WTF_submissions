{
 "cells": [
  {
   "cell_type": "code",
   "execution_count": 1,
   "id": "24c79ee5",
   "metadata": {},
   "outputs": [
    {
     "name": "stdout",
     "output_type": "stream",
     "text": [
      "enter no 30\n",
      "0 even\n",
      "1 odd\n",
      "2 even\n",
      "3 odd\n",
      "4 even\n",
      "5 odd\n",
      "6 even\n",
      "7 odd\n",
      "8 even\n",
      "9 odd\n",
      "10 even\n",
      "11 odd\n",
      "12 even\n",
      "13 odd\n",
      "14 even\n",
      "15 odd\n",
      "16 even\n",
      "17 odd\n",
      "18 even\n",
      "19 odd\n",
      "20 even\n",
      "21 odd\n",
      "22 even\n",
      "23 odd\n",
      "24 even\n",
      "25 odd\n",
      "26 even\n",
      "27 odd\n",
      "28 even\n",
      "29 odd\n",
      "30 even\n"
     ]
    }
   ],
   "source": [
    "#Write a function called showNumbers that takes a parameter called limit. It should print\n",
    "#all the numbers between 0 and limit with a label to identify the even and odd numbers.\n",
    "#For example, if the limit is 3, it should print:0 EVEN 1 ODD 2 EVEN 3 ODD\n",
    "def shownumber(limit):\n",
    "    i=0\n",
    "    while i<=a:\n",
    "        if i%2==0:\n",
    "            print(i,\"even\")\n",
    "        else:\n",
    "            print(i,\"odd\")\n",
    "        i+=1\n",
    "a=int(input(\"enter no \"))\n",
    "shownumber(a)"
   ]
  },
  {
   "cell_type": "code",
   "execution_count": 2,
   "id": "fd487649",
   "metadata": {},
   "outputs": [
    {
     "name": "stdout",
     "output_type": "stream",
     "text": [
      "0\n",
      "0\n",
      "3\n",
      "5\n",
      "6\n",
      "9\n",
      "10\n",
      "12\n",
      "15\n",
      "15\n",
      "18\n",
      "20\n"
     ]
    }
   ],
   "source": [
    "#Write a function that returns the sum of multiples of 3 and 5 between 0\n",
    "#and limit (parameter). For example, if limit is 20, it should return the sum of 3, 5, 6, 9, 10,\n",
    "#12, 15, 18, 20.\n",
    "limit = range(0,21)\n",
    "def sum_multiples(start):\n",
    "    for i in start:\n",
    "        if i%3 == 0:\n",
    "            print(i)\n",
    "        if i%5 == 0:\n",
    "            print(i)\n",
    "sum_multiples(limit)"
   ]
  },
  {
   "cell_type": "code",
   "execution_count": 23,
   "id": "59f8eba4",
   "metadata": {},
   "outputs": [],
   "source": [
    "#3.Write a function called show_stars(rows). If rows is 5, it should print the\n",
    "#following:***************\n",
    "def show_stars(rows):\n",
    "rows = 0\n",
    "for i in range(rows):\n",
    "for j in range(i):\n",
    "print(i, end=' ')\n",
    "\n",
    "print('')"
   ]
  },
  {
   "cell_type": "code",
   "execution_count": null,
   "id": "d66470fc",
   "metadata": {},
   "outputs": [],
   "source": [
    "#4 def primenum(primes):\n",
    "n=int(input(\"Enter the number till you want to check: \"))\n",
    "primes = []\n",
    "for i in range (2, n+1):\n",
    "for j in range(2, i):\n",
    "if i%j == 0:\n",
    "break\n",
    "else:\n",
    "primes.append(i)\n",
    "print(primes)"
   ]
  },
  {
   "cell_type": "code",
   "execution_count": 29,
   "id": "cc4f3a37",
   "metadata": {},
   "outputs": [
    {
     "name": "stdout",
     "output_type": "stream",
     "text": [
      "[1, 2, 3, 4]\n"
     ]
    }
   ],
   "source": [
    "#5.Write a program (function!) that takes a list and returns a new list that contains all the\n",
    "#elements of the first list minus all the duplicates.\n",
    "def removeDuplicates(l):\n",
    "    return list(set(l))\n",
    "\n",
    "\n",
    "\n",
    "\n",
    "mylist = [1, 2, 3, 4, 2, 3, 4, 2, 3, 4]\n",
    "\n",
    "\n",
    "\n",
    "newList = removeDuplicates(mylist)\n",
    "\n",
    "\n",
    "\n",
    "print(newList)"
   ]
  },
  {
   "cell_type": "code",
   "execution_count": 31,
   "id": "5798b54e",
   "metadata": {},
   "outputs": [
    {
     "name": "stdout",
     "output_type": "stream",
     "text": [
      "7  is a prime number\n"
     ]
    }
   ],
   "source": [
    "#6.Write a function to ask the user for a number and determine whether the number is\n",
    "#prime or not.\n",
    "\n",
    "def number(r):\n",
    "  for x in range(2, r):\n",
    "    if (r % x) == 0:\n",
    "      print(r, \" is not a prime number\")\n",
    "  else:\n",
    "      print(r, \" is a prime number\")\n",
    "number(7)"
   ]
  },
  {
   "cell_type": "code",
   "execution_count": null,
   "id": "8d40609f",
   "metadata": {},
   "outputs": [
    {
     "name": "stdout",
     "output_type": "stream",
     "text": [
      "Please enter how many numbers would you like in your Fibonacci sequence: 10\n",
      "[1, 1, 2, 3, 5, 8, 13, 21, 34, 55]\n"
     ]
    }
   ],
   "source": [
    "#7.Write a program that asks the user how many Fibonnaci numbers to generate and then\n",
    "#generates them.\n",
    "def fibonacci():\n",
    "    num = int(input(\"Please enter how many numbers would you like in your Fibonacci sequence: \"))\n",
    "    i = 1\n",
    "    if num == 0:\n",
    "        fib = []\n",
    "    elif num == 1:\n",
    "        fib = [1]\n",
    "    elif num == 2:\n",
    "        fib = [1,1]\n",
    "    elif num > 2:\n",
    "        fib = [1,1]\n",
    "        while i < (num - 1):\n",
    "            fib.append(fib[i] + fib[i-1])\n",
    "            i += 1\n",
    "    return fib\n",
    "print (fibonacci())\n",
    "input()"
   ]
  },
  {
   "cell_type": "code",
   "execution_count": null,
   "id": "7b3bb8a8",
   "metadata": {},
   "outputs": [],
   "source": [
    "#8. Write a function that ask the user for a string and print out whether this string is a\n",
    "#palindrome or not.\n",
    "def palindrome(p):\n",
    "  t = str(input(\"Please input a string: \"))\n",
    "  for a in range(len(p)):\n",
    "    if t == p[::-1]:\n",
    "      print(\"Yes\")\n",
    "    else:\n",
    "      print(\"No \")\n",
    "m = \"Masam\"\n",
    "palindrome(m)"
   ]
  },
  {
   "cell_type": "code",
   "execution_count": null,
   "id": "d7a3ac76",
   "metadata": {},
   "outputs": [],
   "source": [
    "#9.Write a function that takes an ordered list of numbers (a list where the elements are in\n",
    "#order from smallest to largest) and another number.\n",
    "def order(lists):\n",
    "  newlist = []\n",
    "  for b in lists:\n",
    "    if b not in newlist:\n",
    "      newlist.append(b)\n",
    "      newlist.sort()\n",
    "  print(newlist)\n",
    "lists = [100, 50, 65, 82, 23]\n",
    "order(lists)"
   ]
  },
  {
   "cell_type": "code",
   "execution_count": null,
   "id": "91f8afac",
   "metadata": {},
   "outputs": [],
   "source": [
    "#10. Create a program that asks the user to enter their name and their age. Print out a\n",
    "#message addressed to them that tells them the year that they will turn 100 years old.\n",
    "name = str(input(\"Enter your name: \"))\n",
    "age = int(input(\"Enter your age: \"))\n",
    "future = 2022 + (100 - age)\n",
    "print(name, \"you will be 100 years in \", future)"
   ]
  }
 ],
 "metadata": {
  "kernelspec": {
   "display_name": "Python 3 (ipykernel)",
   "language": "python",
   "name": "python3"
  },
  "language_info": {
   "codemirror_mode": {
    "name": "ipython",
    "version": 3
   },
   "file_extension": ".py",
   "mimetype": "text/x-python",
   "name": "python",
   "nbconvert_exporter": "python",
   "pygments_lexer": "ipython3",
   "version": "3.9.12"
  }
 },
 "nbformat": 4,
 "nbformat_minor": 5
}
