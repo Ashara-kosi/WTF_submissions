{
 "cells": [
  {
   "cell_type": "code",
   "execution_count": 1,
   "id": "8a2f9cfa",
   "metadata": {},
   "outputs": [
    {
     "name": "stdout",
     "output_type": "stream",
     "text": [
      "Enter First Number : 9\n",
      "Enter Second Number : 12\n",
      "Sum of two numbers is  21\n",
      "product of two numbers is  108\n"
     ]
    }
   ],
   "source": [
    "#1.\tWrite a function to calculate the multiplication and sum of two numbers\n",
    "def sum_product(a, b):\n",
    "    return a+b, a*b\n",
    "x = int(input(\"Enter First Number : \"))\n",
    "y = int(input(\"Enter Second Number : \"))\n",
    "sum, product = sum_product(x,y)\n",
    "print(\"Sum of two numbers is \", sum)\n",
    "print(\"product of two numbers is \", product)\n"
   ]
  },
  {
   "cell_type": "code",
   "execution_count": 11,
   "id": "a3f026ee",
   "metadata": {},
   "outputs": [
    {
     "name": "stdout",
     "output_type": "stream",
     "text": [
      "Enter the Lowest Range Value: 3\n",
      "Enter the Higher Range Value: 4\n",
      "Current Number 3 Previous Number  2  Sum:  5\n",
      "Current Number 4 Previous Number  3  Sum:  7\n"
     ]
    }
   ],
   "source": [
    "#2.\tWrite a function to print the sum of the current number and the previous number\n",
    "def function():\n",
    "    previous_num = 2\n",
    "    lower_value = int(input (\"Enter the Lowest Range Value: \"))\n",
    "    higher_value = int(input (\"Enter the Higher Range Value: \"))\n",
    "    for n in range (lower_value, higher_value + 1):\n",
    "        print(\"Current Number\", n, \"Previous Number \", previous_num, \" Sum: \", previous_num + n)\n",
    "        previous_num = n\n",
    "function()        "
   ]
  },
  {
   "cell_type": "code",
   "execution_count": 29,
   "id": "55468f96",
   "metadata": {},
   "outputs": [
    {
     "name": "stdout",
     "output_type": "stream",
     "text": [
      "['p', 'r', 'm', 'd']\n"
     ]
    }
   ],
   "source": [
    "#3.\tWrite a function to print characters from a string that are present at an even index number\n",
    "def even_index (string):\n",
    "    even=[]\n",
    "    for i in range(len(string)):\n",
    "        if i % 2 == 0:\n",
    "            even.append(string[i])\n",
    "    print (even)\n",
    "even_index(\"pyramid\")\n"
   ]
  },
  {
   "cell_type": "code",
   "execution_count": 28,
   "id": "ae41387d",
   "metadata": {},
   "outputs": [
    {
     "name": "stdout",
     "output_type": "stream",
     "text": [
      "Removing first characters from a string\n",
      "Original string: potatoes\n",
      "otatoes\n"
     ]
    }
   ],
   "source": [
    "#4.\tWrite a function to remove first characters from a string\n",
    "def remove_chars(word, n):\n",
    "    print('Original string:', word)\n",
    "    x = word[n:]\n",
    "    return x\n",
    "\n",
    "print(\"Removing first characters from a string\")\n",
    "print(remove_chars(\"potatoes\", 1))"
   ]
  },
  {
   "cell_type": "code",
   "execution_count": 20,
   "id": "88c89afc",
   "metadata": {},
   "outputs": [
    {
     "name": "stdout",
     "output_type": "stream",
     "text": [
      "Given list: [11, 22, 33, 44, 11]\n",
      "result is True\n",
      "Given list: [55, 45, 25, 55, 10]\n",
      "result is False\n"
     ]
    }
   ],
   "source": [
    "#5.\tWrite a function to check if the first and last number of a list is the same\n",
    "def first_last_same(numberList):\n",
    "    print(\"Given list:\", numberList)\n",
    "    \n",
    "    first_num = numberList[0]\n",
    "    last_num = numberList[-1]\n",
    "    \n",
    "    if first_num == last_num:\n",
    "        return True\n",
    "    else:\n",
    "        return False\n",
    "\n",
    "numbers_x = [11, 22, 33, 44, 11]\n",
    "print(\"result is\", first_last_same(numbers_x))\n",
    "\n",
    "numbers_y = [55, 45, 25, 55, 10]\n",
    "print(\"result is\", first_last_same(numbers_y))"
   ]
  },
  {
   "cell_type": "code",
   "execution_count": 53,
   "id": "394ee50f",
   "metadata": {},
   "outputs": [
    {
     "name": "stdout",
     "output_type": "stream",
     "text": [
      "1 Multiplication Table\n",
      "1 x 1 = 1\n",
      "1 x 2 = 2\n",
      "1 x 3 = 3\n",
      "1 x 4 = 4\n",
      "1 x 5 = 5\n",
      "1 x 6 = 6\n",
      "1 x 7 = 7\n",
      "1 x 8 = 8\n",
      "1 x 9 = 9\n",
      "1 x 10 = 10\n",
      "1 x 11 = 11\n",
      "1 x 12 = 12\n",
      "\n",
      "\n",
      "2 Multiplication Table\n",
      "2 x 1 = 2\n",
      "2 x 2 = 4\n",
      "2 x 3 = 6\n",
      "2 x 4 = 8\n",
      "2 x 5 = 10\n",
      "2 x 6 = 12\n",
      "2 x 7 = 14\n",
      "2 x 8 = 16\n",
      "2 x 9 = 18\n",
      "2 x 10 = 20\n",
      "2 x 11 = 22\n",
      "2 x 12 = 24\n",
      "\n",
      "\n",
      "3 Multiplication Table\n",
      "3 x 1 = 3\n",
      "3 x 2 = 6\n",
      "3 x 3 = 9\n",
      "3 x 4 = 12\n",
      "3 x 5 = 15\n",
      "3 x 6 = 18\n",
      "3 x 7 = 21\n",
      "3 x 8 = 24\n",
      "3 x 9 = 27\n",
      "3 x 10 = 30\n",
      "3 x 11 = 33\n",
      "3 x 12 = 36\n",
      "\n",
      "\n",
      "4 Multiplication Table\n",
      "4 x 1 = 4\n",
      "4 x 2 = 8\n",
      "4 x 3 = 12\n",
      "4 x 4 = 16\n",
      "4 x 5 = 20\n",
      "4 x 6 = 24\n",
      "4 x 7 = 28\n",
      "4 x 8 = 32\n",
      "4 x 9 = 36\n",
      "4 x 10 = 40\n",
      "4 x 11 = 44\n",
      "4 x 12 = 48\n",
      "\n",
      "\n",
      "5 Multiplication Table\n",
      "5 x 1 = 5\n",
      "5 x 2 = 10\n",
      "5 x 3 = 15\n",
      "5 x 4 = 20\n",
      "5 x 5 = 25\n",
      "5 x 6 = 30\n",
      "5 x 7 = 35\n",
      "5 x 8 = 40\n",
      "5 x 9 = 45\n",
      "5 x 10 = 50\n",
      "5 x 11 = 55\n",
      "5 x 12 = 60\n",
      "\n",
      "\n",
      "6 Multiplication Table\n",
      "6 x 1 = 6\n",
      "6 x 2 = 12\n",
      "6 x 3 = 18\n",
      "6 x 4 = 24\n",
      "6 x 5 = 30\n",
      "6 x 6 = 36\n",
      "6 x 7 = 42\n",
      "6 x 8 = 48\n",
      "6 x 9 = 54\n",
      "6 x 10 = 60\n",
      "6 x 11 = 66\n",
      "6 x 12 = 72\n",
      "\n",
      "\n",
      "7 Multiplication Table\n",
      "7 x 1 = 7\n",
      "7 x 2 = 14\n",
      "7 x 3 = 21\n",
      "7 x 4 = 28\n",
      "7 x 5 = 35\n",
      "7 x 6 = 42\n",
      "7 x 7 = 49\n",
      "7 x 8 = 56\n",
      "7 x 9 = 63\n",
      "7 x 10 = 70\n",
      "7 x 11 = 77\n",
      "7 x 12 = 84\n",
      "\n",
      "\n",
      "8 Multiplication Table\n",
      "8 x 1 = 8\n",
      "8 x 2 = 16\n",
      "8 x 3 = 24\n",
      "8 x 4 = 32\n",
      "8 x 5 = 40\n",
      "8 x 6 = 48\n",
      "8 x 7 = 56\n",
      "8 x 8 = 64\n",
      "8 x 9 = 72\n",
      "8 x 10 = 80\n",
      "8 x 11 = 88\n",
      "8 x 12 = 96\n",
      "\n",
      "\n",
      "9 Multiplication Table\n",
      "9 x 1 = 9\n",
      "9 x 2 = 18\n",
      "9 x 3 = 27\n",
      "9 x 4 = 36\n",
      "9 x 5 = 45\n",
      "9 x 6 = 54\n",
      "9 x 7 = 63\n",
      "9 x 8 = 72\n",
      "9 x 9 = 81\n",
      "9 x 10 = 90\n",
      "9 x 11 = 99\n",
      "9 x 12 = 108\n",
      "\n",
      "\n",
      "10 Multiplication Table\n",
      "10 x 1 = 10\n",
      "10 x 2 = 20\n",
      "10 x 3 = 30\n",
      "10 x 4 = 40\n",
      "10 x 5 = 50\n",
      "10 x 6 = 60\n",
      "10 x 7 = 70\n",
      "10 x 8 = 80\n",
      "10 x 9 = 90\n",
      "10 x 10 = 100\n",
      "10 x 11 = 110\n",
      "10 x 12 = 120\n",
      "\n",
      "\n"
     ]
    }
   ],
   "source": [
    "#6.\t Write a function to print multiplication table from 1 to 10\n",
    "def MultiplicationTable(n):\n",
    "    def printTableRow(x):\n",
    "        print(n, \"x\", x, \"=\", n*x)\n",
    "        if(x < 12):\n",
    "            printTableRow(x+1)\n",
    "            \n",
    "    printTableRow(1)\n",
    "        \n",
    "for i in range(1,11):\n",
    "    print(i, \"Multiplication Table\",)\n",
    "    MultiplicationTable(i)\n",
    "    print(\"\\n\")\n"
   ]
  },
  {
   "cell_type": "code",
   "execution_count": 36,
   "id": "e186fcfc",
   "metadata": {},
   "outputs": [
    {
     "name": "stdout",
     "output_type": "stream",
     "text": [
      "result list: [15, 25, 40, 50]\n"
     ]
    }
   ],
   "source": [
    "#7.\tGiven a two list of numbers, write a function to create a new list such that the new list should contain odd numbers from the first list and even numbers from the second list.\n",
    "def merge_list(list1, list2):\n",
    "    result_list = []\n",
    "    \n",
    "    # iterate first list\n",
    "    for num in list1:\n",
    "        # check if current number is odd\n",
    "        if num % 2 != 0:\n",
    "            # add odd number to result list\n",
    "            result_list.append(num)\n",
    "    \n",
    "    # iterate second list\n",
    "    for num in list2:\n",
    "        # check if current number is even\n",
    "        if num % 2 == 0:\n",
    "            # add even number to result list\n",
    "            result_list.append(num)\n",
    "    return result_list\n",
    "\n",
    "list1 = [10, 15, 20, 25, 30]\n",
    "list2 = [35, 40, 45, 50, 55]\n",
    "print(\"result list:\", merge_list(list1, list2))"
   ]
  },
  {
   "cell_type": "code",
   "execution_count": null,
   "id": "468ccd63",
   "metadata": {},
   "outputs": [],
   "source": []
  }
 ],
 "metadata": {
  "kernelspec": {
   "display_name": "Python 3 (ipykernel)",
   "language": "python",
   "name": "python3"
  },
  "language_info": {
   "codemirror_mode": {
    "name": "ipython",
    "version": 3
   },
   "file_extension": ".py",
   "mimetype": "text/x-python",
   "name": "python",
   "nbconvert_exporter": "python",
   "pygments_lexer": "ipython3",
   "version": "3.9.12"
  }
 },
 "nbformat": 4,
 "nbformat_minor": 5
}
