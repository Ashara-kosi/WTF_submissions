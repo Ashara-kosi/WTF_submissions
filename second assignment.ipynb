{
 "cells": [
  {
   "cell_type": "markdown",
   "metadata": {},
   "source": [
    "#### 1. Write a function called showNumbers that takes a parameter called limit. It should print all the numbers between 0 and limit with a label to identify the even and odd numbers.\n",
    "#### For example, if the limit is 3, it should print:0 EVEN 1 ODD 2 EVEN 3 ODD"
   ]
  },
  {
   "cell_type": "code",
   "execution_count": 113,
   "metadata": {},
   "outputs": [],
   "source": [
    "\n",
    "def showNumbers(limit) :\n",
    "    for i in range (0,limit+1): \n",
    "        if i%2==0 :\n",
    "            print (i ,'Even')\n",
    "        else :\n",
    "            print (i , 'ODD')"
   ]
  },
  {
   "cell_type": "code",
   "execution_count": 115,
   "metadata": {},
   "outputs": [
    {
     "name": "stdout",
     "output_type": "stream",
     "text": [
      "0 Even\n",
      "1 ODD\n",
      "2 Even\n",
      "3 ODD\n",
      "4 Even\n",
      "5 ODD\n",
      "6 Even\n"
     ]
    }
   ],
   "source": [
    "showNumbers(6)"
   ]
  },
  {
   "cell_type": "markdown",
   "metadata": {},
   "source": [
    "#### 2. Write a function that returns the sum of multiples of 3 and 5 between 0 and limit (parameter). \n",
    "#### For example, if limit is 20, it should return the sum of 3, 5, 6, 9, 10,12, 15, 18, 20."
   ]
  },
  {
   "cell_type": "code",
   "execution_count": 116,
   "metadata": {},
   "outputs": [],
   "source": [
    "def sum_multiples(limit):\n",
    "    res=[]\n",
    "    for i in range (1,limit+1):\n",
    "        if i%3==0 or i%5==0:\n",
    "            res.append(i)\n",
    "    print(*res, sep = ',')\n",
    "    #return res \n",
    "        "
   ]
  },
  {
   "cell_type": "code",
   "execution_count": 117,
   "metadata": {},
   "outputs": [
    {
     "name": "stdout",
     "output_type": "stream",
     "text": [
      "3,5,6,9,10\n"
     ]
    }
   ],
   "source": [
    "sum_multiples(10)"
   ]
  },
  {
   "cell_type": "markdown",
   "metadata": {},
   "source": [
    "#### 3. Write a function called show_stars(rows). If rows is 5, it should print the following:***************"
   ]
  },
  {
   "cell_type": "code",
   "execution_count": 118,
   "metadata": {},
   "outputs": [],
   "source": [
    "def show_stars(rows):\n",
    "     \n",
    "    for i in range(0, rows):\n",
    "        for j in range(0, i+1): # i i in the first line then i = 0 so the range will be (0,1)\n",
    "            print(\"* \",end=\"\")\n",
    "      \n",
    "        print(\"\")\n",
    " "
   ]
  },
  {
   "cell_type": "code",
   "execution_count": 120,
   "metadata": {
    "scrolled": true
   },
   "outputs": [
    {
     "name": "stdout",
     "output_type": "stream",
     "text": [
      "* \n",
      "* * \n",
      "* * * \n",
      "* * * * \n",
      "* * * * * \n",
      "* * * * * * \n",
      "* * * * * * * \n"
     ]
    }
   ],
   "source": [
    "show_stars(7)"
   ]
  },
  {
   "cell_type": "markdown",
   "metadata": {},
   "source": [
    "#### 4. Write a function that prints all the prime numbers between 0 and limit where limit is a parameter."
   ]
  },
  {
   "cell_type": "code",
   "execution_count": 121,
   "metadata": {},
   "outputs": [],
   "source": [
    "def check_primes(limit):\n",
    "    primes = []\n",
    "    for i in range (2, (limit+1)):\n",
    "        for j in range(2, i):\n",
    "            if i % j == 0:\n",
    "                break\n",
    "        else:\n",
    "            primes.append(i)\n",
    "    print (primes )\n"
   ]
  },
  {
   "cell_type": "code",
   "execution_count": 122,
   "metadata": {},
   "outputs": [
    {
     "name": "stdout",
     "output_type": "stream",
     "text": [
      "Enter a number: 5\n",
      "[2, 3, 5]\n"
     ]
    }
   ],
   "source": [
    "limit = input('Enter a number: ')\n",
    "\n",
    "check_primes(int (limit))\n",
    "\n"
   ]
  },
  {
   "cell_type": "markdown",
   "metadata": {},
   "source": [
    "#### 5. Write a program (function!) that takes a list and returns a new list that contains all the elements of the first list minus all the duplicates."
   ]
  },
  {
   "cell_type": "code",
   "execution_count": 123,
   "metadata": {},
   "outputs": [],
   "source": [
    "def unique_list(l):\n",
    "    res = []\n",
    "    for a in l:\n",
    "        if a not in res:\n",
    "             res.append(a)\n",
    "    return res\n"
   ]
  },
  {
   "cell_type": "code",
   "execution_count": 124,
   "metadata": {},
   "outputs": [
    {
     "data": {
      "text/plain": [
       "[1, 2, 3, 4, 5, 6]"
      ]
     },
     "execution_count": 124,
     "metadata": {},
     "output_type": "execute_result"
    }
   ],
   "source": [
    "temp =[1,2,3,4,3,2,1,5,5,6]\n",
    "unique_list(temp)"
   ]
  },
  {
   "cell_type": "markdown",
   "metadata": {},
   "source": [
    "#### 6. Write a function to ask the user for a number and determine whether the number is prime or not."
   ]
  },
  {
   "cell_type": "code",
   "execution_count": 125,
   "metadata": {},
   "outputs": [],
   "source": [
    "def ask_prime() :\n",
    "    num = int(input('Enter a number: '))  \n",
    "\n",
    "    for i in range(2, num):\n",
    "            if num % i == 0:\n",
    "                print ('not Prime')\n",
    "                break\n",
    "    else:\n",
    "        print ('prime')\n",
    "    "
   ]
  },
  {
   "cell_type": "code",
   "execution_count": 127,
   "metadata": {},
   "outputs": [
    {
     "name": "stdout",
     "output_type": "stream",
     "text": [
      "Enter a number: 8\n",
      "not Prime\n"
     ]
    }
   ],
   "source": [
    "ask_prime() "
   ]
  },
  {
   "cell_type": "markdown",
   "metadata": {},
   "source": [
    "#### 7. Write a program that asks the user how many Fibonnaci numbers to generate and then generates them."
   ]
  },
  {
   "cell_type": "code",
   "execution_count": 134,
   "metadata": {},
   "outputs": [],
   "source": [
    "# 0, 1, 1, 2, 3, 5, 8, 13, 21, 34, 55, 89, 144\n",
    "\n",
    "def gen_Fibonacci():\n",
    "    fibo_num = int(input('how many Fibonnaci numbers to generate ? '))\n",
    "    count=0\n",
    "    num1 , num2 = 0 , 1 \n",
    "    \n",
    "    if fibo_num <= 0:\n",
    "        print(\"Incorrect input\")\n",
    "        \n",
    "    elif fibo_num == 1 : # if 1 \n",
    "        print(\"Fibonacci generate till\",fibo_num,':')\n",
    "        print (num1)\n",
    "       \n",
    "    else: \n",
    "        print(\"Fibonacci generate till\",fibo_num,':')\n",
    "        while (count < fibo_num):\n",
    "            print (num1 , end =' ')\n",
    "            temp = num1 + num2  \n",
    "            num1 = num2\n",
    "            num2 = temp\n",
    "            count += 1\n",
    "    \n",
    " \n"
   ]
  },
  {
   "cell_type": "code",
   "execution_count": 137,
   "metadata": {},
   "outputs": [
    {
     "name": "stdout",
     "output_type": "stream",
     "text": [
      "how many Fibonnaci numbers to generate ? 9\n",
      "Fibonacci generate till 9 :\n",
      "0 1 1 2 3 5 8 13 21 "
     ]
    }
   ],
   "source": [
    "gen_Fibonacci()"
   ]
  },
  {
   "cell_type": "markdown",
   "metadata": {},
   "source": [
    "#### 8. Write a function that ask the user for a string and print out whether this string is a palindrome or not."
   ]
  },
  {
   "cell_type": "code",
   "execution_count": 138,
   "metadata": {},
   "outputs": [
    {
     "name": "stdout",
     "output_type": "stream",
     "text": [
      "Yes, it's a palindrome\n"
     ]
    }
   ],
   "source": [
    "def isPalindrome(s):\n",
    "    if s == s[::-1]:\n",
    "        return('Yes, it\\'s a palindrome')\n",
    "    else:\n",
    "        return('No, it\\'s not a palindrone')\n",
    "s = \"level\"\n",
    "print(isPalindrome(s))"
   ]
  },
  {
   "cell_type": "markdown",
   "metadata": {},
   "source": [
    "#### 9. Write a function that takes an ordered list of numbers (a list where the elements are in order from smallest to largest) and another number."
   ]
  },
  {
   "cell_type": "code",
   "execution_count": 141,
   "metadata": {},
   "outputs": [],
   "source": [
    "def sort_list(l):\n",
    "    num = int(input('Enter Number '))\n",
    "    res=[]\n",
    "    location =0 \n",
    "    for i in range (len(l)):\n",
    "        if i==0 :\n",
    "            if l[i]< num :\n",
    "                res.append(l[i])\n",
    "                continue \n",
    "            else :\n",
    "                res.append (num)\n",
    "                location =i \n",
    "                break \n",
    "        ##########################\n",
    "        else :\n",
    "            if num > l[i]:\n",
    "                res.append (l[i])\n",
    "                continue\n",
    "            else :\n",
    "                res.append (num)\n",
    "                location = i\n",
    "                break\n",
    "        \n",
    "    ###########################\n",
    "    for j in range (location , len(l)) :\n",
    "        res.append (l[j])\n",
    "                \n",
    "    return res"
   ]
  },
  {
   "cell_type": "code",
   "execution_count": 144,
   "metadata": {},
   "outputs": [
    {
     "name": "stdout",
     "output_type": "stream",
     "text": [
      "Enter Number 5\n"
     ]
    },
    {
     "data": {
      "text/plain": [
       "[2, 4, 5, 6, 8, 9]"
      ]
     },
     "execution_count": 144,
     "metadata": {},
     "output_type": "execute_result"
    }
   ],
   "source": [
    "l =[2,4,6,8,9]\n",
    "sort_list(l)"
   ]
  },
  {
   "cell_type": "markdown",
   "metadata": {},
   "source": [
    "#### 10. Create a program that asks the user to enter their name and their age. Print out a message addressed to them that tells them the year that they will turn 100 years old."
   ]
  },
  {
   "cell_type": "code",
   "execution_count": 1,
   "metadata": {},
   "outputs": [],
   "source": [
    "from datetime import datetime\n",
    "\n",
    "def calc_age():\n",
    "    name =input('what\\'s your Name ? ')\n",
    "    age = int(input('How old are your age? ')) \n",
    "    res = int((100-age) + datetime.now().year) # 100-31 +2022= 69+2022 = 2091\n",
    "    print ('Hello {0} you will turn 100 years old in {1}'.format(name ,res) )\n",
    "    "
   ]
  },
  {
   "cell_type": "code",
   "execution_count": 2,
   "metadata": {},
   "outputs": [
    {
     "name": "stdout",
     "output_type": "stream",
     "text": [
      "what's your Name ? Noha\n",
      "How old are your age? 31\n",
      "Hello Noha you will turn 100 years old in 2091\n"
     ]
    }
   ],
   "source": [
    "calc_age()"
   ]
  },
  {
   "cell_type": "code",
   "execution_count": null,
   "metadata": {},
   "outputs": [],
   "source": []
  },
  {
   "cell_type": "code",
   "execution_count": null,
   "metadata": {},
   "outputs": [],
   "source": []
  }
 ],
 "metadata": {
  "kernelspec": {
   "display_name": "Python 3",
   "language": "python",
   "name": "python3"
  },
  "language_info": {
   "codemirror_mode": {
    "name": "ipython",
    "version": 3
   },
   "file_extension": ".py",
   "mimetype": "text/x-python",
   "name": "python",
   "nbconvert_exporter": "python",
   "pygments_lexer": "ipython3",
   "version": "3.8.5"
  }
 },
 "nbformat": 4,
 "nbformat_minor": 4
}
