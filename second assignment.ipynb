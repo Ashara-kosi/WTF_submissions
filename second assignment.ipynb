{
 "cells": [
  {
   "cell_type": "markdown",
   "id": "228fdd0d",
   "metadata": {},
   "source": [
    "# Question 1"
   ]
  },
  {
   "cell_type": "code",
   "execution_count": 1,
   "id": "8436ef04",
   "metadata": {},
   "outputs": [],
   "source": [
    "def showNumbers(limit):\n",
    "    num = range(0,limit+1)\n",
    "    for n in num:\n",
    "        if n%2 == 0:\n",
    "            print(n, 'EVEN')\n",
    "        else:\n",
    "            print(n, 'ODD')"
   ]
  },
  {
   "cell_type": "markdown",
   "id": "efd83e60",
   "metadata": {},
   "source": [
    "# Question 2"
   ]
  },
  {
   "cell_type": "code",
   "execution_count": 2,
   "id": "8af41b3f",
   "metadata": {},
   "outputs": [],
   "source": [
    "def numSum(limit):\n",
    "    num = range(0,limit+1)\n",
    "    addedSum = 0\n",
    "    for n in num:\n",
    "        if n%3 == 0:\n",
    "            addedSum+=n\n",
    "        elif n%5==0:\n",
    "            addedSum+=n\n",
    "        else:\n",
    "            continue\n",
    "    print(addedSum)\n",
    "    return addedSum"
   ]
  },
  {
   "cell_type": "markdown",
   "id": "20ceeced",
   "metadata": {},
   "source": [
    "# Question 3"
   ]
  },
  {
   "cell_type": "code",
   "execution_count": 3,
   "id": "a7c677df",
   "metadata": {},
   "outputs": [],
   "source": [
    "def show_stars(rows):\n",
    "    if rows == 5:\n",
    "        print('***************')"
   ]
  },
  {
   "cell_type": "markdown",
   "id": "a20d103f",
   "metadata": {},
   "source": [
    "# Question 4"
   ]
  },
  {
   "cell_type": "code",
   "execution_count": 4,
   "id": "b29c9a8c",
   "metadata": {},
   "outputs": [
    {
     "name": "stdout",
     "output_type": "stream",
     "text": [
      "0\n",
      "1\n",
      "2\n",
      "3\n",
      "5\n",
      "7\n",
      "11\n",
      "13\n",
      "17\n",
      "19\n",
      "23\n",
      "29\n",
      "31\n",
      "37\n",
      "41\n",
      "43\n",
      "47\n",
      "53\n",
      "59\n",
      "61\n",
      "67\n",
      "71\n",
      "73\n",
      "79\n",
      "83\n",
      "89\n",
      "97\n"
     ]
    }
   ],
   "source": [
    "def primeNums(limit):\n",
    "    numbers = range(limit)\n",
    "    def isprime(num):\n",
    "        for n in range(2,int(num**0.5)+1):\n",
    "            if num%n==0:\n",
    "                return False\n",
    "        return True\n",
    "    for x in numbers:\n",
    "        if isprime(x):\n",
    "            print(x)\n",
    "    \n",
    "primeNums(100)"
   ]
  },
  {
   "cell_type": "markdown",
   "id": "76ee8e02",
   "metadata": {},
   "source": [
    "# Question 5"
   ]
  },
  {
   "cell_type": "code",
   "execution_count": 5,
   "id": "16377efb",
   "metadata": {},
   "outputs": [
    {
     "data": {
      "text/plain": [
       "[2, 3, 4, 5, 6, 7, 8]"
      ]
     },
     "execution_count": 5,
     "metadata": {},
     "output_type": "execute_result"
    }
   ],
   "source": [
    "def unique(List):\n",
    "    return list(set(List))\n",
    "unique([2,2,3,3,4,4,5,5,6,6,7,7,8])"
   ]
  },
  {
   "cell_type": "markdown",
   "id": "f6dc9598",
   "metadata": {},
   "source": [
    "# Question 6"
   ]
  },
  {
   "cell_type": "code",
   "execution_count": 6,
   "id": "6372ff23",
   "metadata": {
    "scrolled": true
   },
   "outputs": [
    {
     "name": "stdout",
     "output_type": "stream",
     "text": [
      "Input a number: 91\n"
     ]
    },
    {
     "data": {
      "text/plain": [
       "False"
      ]
     },
     "execution_count": 6,
     "metadata": {},
     "output_type": "execute_result"
    }
   ],
   "source": [
    "def que():\n",
    "    num = input('Input a number: ')\n",
    "    num = int(num)\n",
    "    if num> 1:  \n",
    "        for n in range(2,num):  \n",
    "            if (num % n) == 0:  \n",
    "                return False\n",
    "        return True\n",
    "    else:\n",
    "        return False\n",
    "que()"
   ]
  },
  {
   "cell_type": "markdown",
   "id": "a8f0c095",
   "metadata": {},
   "source": [
    "# Question 7"
   ]
  },
  {
   "cell_type": "code",
   "execution_count": 1,
   "id": "2c1037f5",
   "metadata": {},
   "outputs": [
    {
     "name": "stdout",
     "output_type": "stream",
     "text": [
      "Input a number: 25\n"
     ]
    },
    {
     "data": {
      "text/plain": [
       "[0,\n",
       " 1,\n",
       " 1,\n",
       " 2,\n",
       " 3,\n",
       " 5,\n",
       " 8,\n",
       " 13,\n",
       " 21,\n",
       " 34,\n",
       " 55,\n",
       " 89,\n",
       " 144,\n",
       " 233,\n",
       " 377,\n",
       " 610,\n",
       " 987,\n",
       " 1597,\n",
       " 2584,\n",
       " 4181,\n",
       " 6765,\n",
       " 10946,\n",
       " 17711,\n",
       " 28657,\n",
       " 46368]"
      ]
     },
     "execution_count": 1,
     "metadata": {},
     "output_type": "execute_result"
    }
   ],
   "source": [
    "def fib():\n",
    "    emptyList = []\n",
    "    num = input('Input a number: ')\n",
    "    num = int(num)\n",
    "    length = range(num)\n",
    "    if num<2:\n",
    "        emptyList = [0]\n",
    "    elif num == 2:\n",
    "        emptyList = [0,1]\n",
    "    elif num == 3:\n",
    "        emptyList= [0,1,1]\n",
    "    elif num>3:\n",
    "        emptyList = [0,1,1]\n",
    "        while num > len(emptyList):\n",
    "            emptyList.append(emptyList[-1] + emptyList[-2])\n",
    "        return emptyList\n",
    "fib()"
   ]
  },
  {
   "cell_type": "markdown",
   "id": "af8c66cc",
   "metadata": {},
   "source": [
    "# Question 8"
   ]
  },
  {
   "cell_type": "code",
   "execution_count": 8,
   "id": "b3a6408e",
   "metadata": {},
   "outputs": [
    {
     "name": "stdout",
     "output_type": "stream",
     "text": [
      "Please input string: con\n",
      "con isn't palindromic\n"
     ]
    }
   ],
   "source": [
    "def palindrome():\n",
    "    word = input('Please input string: ')\n",
    "    revWord = word[::-1]\n",
    "    if word == revWord:\n",
    "        print(revWord, 'is palindromic')\n",
    "    else:\n",
    "        print(word, \"isn't palindromic\")\n",
    "palindrome()"
   ]
  },
  {
   "cell_type": "markdown",
   "id": "6906f56b",
   "metadata": {},
   "source": [
    "# Question 9"
   ]
  },
  {
   "cell_type": "code",
   "execution_count": 18,
   "id": "5460c456",
   "metadata": {},
   "outputs": [
    {
     "name": "stdout",
     "output_type": "stream",
     "text": [
      "insert other number: 1\n",
      "1 1\n",
      "1 1\n",
      "1 1\n",
      "1 1\n",
      "1 1\n",
      "1 1\n"
     ]
    }
   ],
   "source": [
    "x =[1,2,3,4,5,6]\n",
    "\n",
    "def order(lis):\n",
    "    other=int(input(\"insert other number: \"))\n",
    "    for i in lis:\n",
    "        print(1, other)\n",
    "        i+=1\n",
    "\n",
    "order(x)"
   ]
  },
  {
   "cell_type": "markdown",
   "id": "e599f0e7",
   "metadata": {},
   "source": [
    "# Question 10"
   ]
  },
  {
   "cell_type": "code",
   "execution_count": 9,
   "id": "01a152fc",
   "metadata": {
    "scrolled": true
   },
   "outputs": [
    {
     "name": "stdout",
     "output_type": "stream",
     "text": [
      "What is your full name? Nita\n",
      "input your age 17\n",
      "Hello Nita! You will be 100 years by year 2105\n"
     ]
    }
   ],
   "source": [
    "import numpy as np\n",
    "def message():\n",
    "    Fname = input('What is your full name? ')\n",
    "    age = input('input your age ')\n",
    "    age = int(age)\n",
    "    remainder = 100 - age\n",
    "    new_date = np.datetime64('today', 'Y')+ np.timedelta64(remainder,'Y')\n",
    "    print('Hello', Fname+ '! You will be 100 years by year',new_date)\n",
    "message()"
   ]
  }
 ],
 "metadata": {
  "kernelspec": {
   "display_name": "Python 3",
   "language": "python",
   "name": "python3"
  },
  "language_info": {
   "codemirror_mode": {
    "name": "ipython",
    "version": 3
   },
   "file_extension": ".py",
   "mimetype": "text/x-python",
   "name": "python",
   "nbconvert_exporter": "python",
   "pygments_lexer": "ipython3",
   "version": "3.8.8"
  }
 },
 "nbformat": 4,
 "nbformat_minor": 5
}
