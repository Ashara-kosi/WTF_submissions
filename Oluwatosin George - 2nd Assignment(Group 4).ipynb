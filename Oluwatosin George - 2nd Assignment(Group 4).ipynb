{
 "cells": [
  {
   "cell_type": "markdown",
   "id": "c1d528ff",
   "metadata": {},
   "source": [
    "#### Data Science Sub Group C - Group 4\n",
    "\n",
    "George Oluwatosin"
   ]
  },
  {
   "cell_type": "markdown",
   "id": "a2fee65b",
   "metadata": {},
   "source": [
    "##### 1.Write a function called showNumbers that takes a parameter called limit. It should print all the numbers between 0 and limit with a label to identify the even and odd numbers. For example, if the limit is 3, it should print: 0 EVEN 1 ODD 2 EVEN 3 ODD"
   ]
  },
  {
   "cell_type": "code",
   "execution_count": 34,
   "id": "29dda93c",
   "metadata": {},
   "outputs": [
    {
     "name": "stdout",
     "output_type": "stream",
     "text": [
      "0 Even\n",
      "1 Odd\n",
      "2 Even\n",
      "3 Odd\n",
      "4 Even\n",
      "5 Odd\n",
      "6 Even\n",
      "7 Odd\n",
      "8 Even\n",
      "9 Odd\n",
      "10 Even\n"
     ]
    }
   ],
   "source": [
    "def showNumbers(limit):\n",
    "    # use a for loop that iterates from 0 to the limit\n",
    "    \n",
    "    for i in range(0,limit+1):\n",
    "        \n",
    "    # Our if statement checks whether the number is even or odd by checking whether it is divisible by 2.\n",
    "    #If it is divisible by 2 then it will print \"Even\" and otherwise it will print \"Odd\"\n",
    "    \n",
    "        if i % 2 ==0:\n",
    "            print (i,'Even')\n",
    "        else:\n",
    "            print (i,'Odd')\n",
    "showNumbers(10)"
   ]
  },
  {
   "cell_type": "markdown",
   "id": "e020a942",
   "metadata": {},
   "source": [
    "##### 2. Write a function that returns the sum of multiples of 3 and 5 between 0 and limit (parameter). For example, if limit is 20, it should return the sum of 3, 5, 6, 9, 10,12, 15, 18, 20."
   ]
  },
  {
   "cell_type": "code",
   "execution_count": 35,
   "id": "004e6268",
   "metadata": {},
   "outputs": [
    {
     "name": "stdout",
     "output_type": "stream",
     "text": [
      "multiples of 3 - [0, 3, 6, 9, 12]\n",
      "multiples of 5 - [0, 5, 10]\n"
     ]
    },
    {
     "data": {
      "text/plain": [
       "45"
      ]
     },
     "execution_count": 35,
     "metadata": {},
     "output_type": "execute_result"
    }
   ],
   "source": [
    "def sum_multiples(limit):\n",
    "    \n",
    "    #We start by creating two lists, mul_list_3 and mul_list_5.\n",
    "    #These are empty lists that will be used to store the multiples of 3 and 5 respectively.\n",
    "    \n",
    "    mul_list_3 =[]\n",
    "    mul_list_5 =[]\n",
    "    \n",
    "    #Our code then iterates through each number in range(0,limit+1)\n",
    "    #For each iteration, it checks if the current number is divisible by 3 or 5\n",
    "    # If so, it appends the current number to its respective list (mul_list_3 for 3s and mul-list _5 for 5s)\n",
    "    \n",
    "    for i in range(0,limit+1):\n",
    "        if i % 3 == 0:\n",
    "            mul_list_3.append(i)\n",
    "    print ('multiples of 3 -',mul_list_3)\n",
    "    for a in range(0,limit+1):\n",
    "        if a % 5 == 0:\n",
    "            mul_list_5.append(a)  \n",
    "    print ('multiples of 5 -',mul_list_5)\n",
    "    #After all iterations have been completed,we sum up all of their values together into a single list called n_list \n",
    "    #which is just a concatenation of both lists.\n",
    "    n_list = mul_list_3 + mul_list_5\n",
    "    #the function returns the sum of n_list\n",
    "    return sum(n_list)\n",
    "sum_multiples(14)      "
   ]
  },
  {
   "cell_type": "markdown",
   "id": "56cae4a4",
   "metadata": {},
   "source": [
    "##### 3. Write a function called show_stars(rows). If rows is 5, it should print the following: 15 stars"
   ]
  },
  {
   "cell_type": "code",
   "execution_count": 40,
   "id": "a7c70e01",
   "metadata": {},
   "outputs": [
    {
     "name": "stdout",
     "output_type": "stream",
     "text": [
      "***************\n"
     ]
    }
   ],
   "source": [
    "def show_stars(rows):\n",
    "    #This function will print (3 x rows) number of stars\n",
    "        print (3*'*' * rows)\n",
    "show_stars(5)"
   ]
  },
  {
   "cell_type": "markdown",
   "id": "45ca6964",
   "metadata": {},
   "source": [
    "##### 4. Write a function that prints all the prime numbers between 0 and limit where limit is a parameter."
   ]
  },
  {
   "cell_type": "code",
   "execution_count": 122,
   "id": "1133721f",
   "metadata": {},
   "outputs": [
    {
     "name": "stdout",
     "output_type": "stream",
     "text": [
      "2\n",
      "3\n",
      "5\n"
     ]
    }
   ],
   "source": [
    "def prime_num(limit):\n",
    "    #We start by creating a for loop with i in range 1 till the limit\n",
    "    for i in range(1,limit+1):\n",
    "        #prime numbers are greater than 1\n",
    "        if i > 1:\n",
    "            for p in range(2,i):\n",
    "                #prime numbers are divisible by themselves and 1\n",
    "                if (i%p) == 0:\n",
    "                    break\n",
    "            else:      \n",
    "                print (i)\n",
    "prime_num(5)\n",
    "\n",
    " "
   ]
  },
  {
   "cell_type": "markdown",
   "id": "1a6470c6",
   "metadata": {},
   "source": [
    "##### 5. Write a program (function!) that takes a list and returns a new list that contains all the elements of the first list minus all the duplicates."
   ]
  },
  {
   "cell_type": "code",
   "execution_count": 43,
   "id": "ceeaf60d",
   "metadata": {},
   "outputs": [
    {
     "name": "stdout",
     "output_type": "stream",
     "text": [
      "[1, 2, 3, 4, 5]\n"
     ]
    }
   ],
   "source": [
    "def function(lists):\n",
    "    #we take in a list, convert it to a set to exclude the duplicates and convert once more into a list\n",
    "    lists = set(lists)\n",
    "    convert_list = list(lists)\n",
    "    print (convert_list)\n",
    "function([5,2,1,1,2,3,4])"
   ]
  },
  {
   "cell_type": "markdown",
   "id": "cf3407b7",
   "metadata": {},
   "source": [
    "##### 6. Write a function to ask the user for a number and determine whether the number is prime or not. "
   ]
  },
  {
   "cell_type": "code",
   "execution_count": 123,
   "id": "4e3dd6a5",
   "metadata": {},
   "outputs": [
    {
     "name": "stdout",
     "output_type": "stream",
     "text": [
      "Please enter num- 23\n",
      "23 is a prime number\n"
     ]
    }
   ],
   "source": [
    "num = int(input(\"Please enter num- \"))\n",
    "def prime_num(num):\n",
    "    if num > 1:\n",
    "    #iterate from 2 till 'num/2'\n",
    "        for i in range(2,int(num/2)+1):\n",
    "       # If num is divisible by any number between 2 and num/2, it is not prime\n",
    "            if (num%i) == 0:\n",
    "                print (num, 'is not a prime number')\n",
    "                break\n",
    "        else:      \n",
    "            print (num,'is a prime number')\n",
    "    \n",
    "prime_num(num)\n",
    "\n"
   ]
  },
  {
   "cell_type": "markdown",
   "id": "bf6930bd",
   "metadata": {},
   "source": [
    "##### 7.Write a program that asks the user how many Fibonnaci numbers to generate and then generates them."
   ]
  },
  {
   "cell_type": "code",
   "execution_count": 128,
   "id": "ffbb7a83",
   "metadata": {},
   "outputs": [
    {
     "name": "stdout",
     "output_type": "stream",
     "text": [
      "Please enter how many numbers would you like in your Fibonacci sequence: 10\n",
      "[1, 1, 2, 3, 5, 8, 13, 21, 34, 55]\n"
     ]
    }
   ],
   "source": [
    "def fibonacci():\n",
    "    num = int(input(\"Please enter how many numbers would you like in your Fibonacci sequence: \"))\n",
    "    i = 1\n",
    "    if num == 0:\n",
    "        fib = [0]\n",
    "    elif num == 1:\n",
    "        fib = [1]\n",
    "    elif num == 2:\n",
    "        fib = [1,1]\n",
    "    elif num > 2:\n",
    "        fib = [1,1]\n",
    "        while i < (num - 1):\n",
    "            fib.append(fib[i] + fib[i-1])\n",
    "            i += 1\n",
    "    return fib\n",
    "print (fibonacci())"
   ]
  },
  {
   "cell_type": "markdown",
   "id": "b4ce4f9d",
   "metadata": {},
   "source": [
    "##### 8.Write a function that ask the user for a string and print out whether this string is a palindrome or not."
   ]
  },
  {
   "cell_type": "code",
   "execution_count": 55,
   "id": "1b7bbb7d",
   "metadata": {},
   "outputs": [
    {
     "name": "stdout",
     "output_type": "stream",
     "text": [
      "Please enter any string- madam\n",
      "madam is a palindrome\n"
     ]
    }
   ],
   "source": [
    "def palindrome(string):\n",
    "    string = input(\"Please enter any string- \")\n",
    "        #The input() function takes in any string from the user and stores it into variable 'string'\n",
    "    if string  == string[::-1]:\n",
    "        #The code above is used to check if a string is the same when reversed.\n",
    "        print(string, 'is a palindrome') \n",
    "    else:\n",
    "        print(string, 'is not a palindrome')\n",
    "palindrome('string')"
   ]
  },
  {
   "cell_type": "markdown",
   "id": "2b37381a",
   "metadata": {},
   "source": [
    "##### 9.Write a function that takes an ordered list of numbers (a list where the elements are inorder from smallest to largest) and another number. "
   ]
  },
  {
   "cell_type": "code",
   "execution_count": 52,
   "id": "f1bef173",
   "metadata": {},
   "outputs": [
    {
     "name": "stdout",
     "output_type": "stream",
     "text": [
      "[1, 2, 3, 5]\n"
     ]
    }
   ],
   "source": [
    "#Create two sets, set_1 and set_2\n",
    "set_1 = {}\n",
    "set_2 = {}\n",
    "def function(set_1,set_2):\n",
    "    #concantenate bothe sets and convert to a list\n",
    "    new_list = list(set_1 | set_2)\n",
    "    print (new_list)\n",
    "function({3,2,1},{5})\n"
   ]
  },
  {
   "cell_type": "markdown",
   "id": "4dcb1dfb",
   "metadata": {},
   "source": [
    "##### 10.Create a program that asks the user to enter their name and their age. Print out a message addressed to them that tells them the year that they will turn 100 years old."
   ]
  },
  {
   "cell_type": "code",
   "execution_count": 51,
   "id": "1443e9cc",
   "metadata": {},
   "outputs": [
    {
     "name": "stdout",
     "output_type": "stream",
     "text": [
      "What is your name? Sophie\n",
      "How old are you? 22\n",
      "Sophie , You will be 100 years old in 2100\n"
     ]
    }
   ],
   "source": [
    "#create two variables to accept name and age of a user \n",
    "name = input(\"What is your name? \")\n",
    "age = int(input(\"How old are you? \"))\n",
    "\n",
    "#Define the logic behind the year the user turns 100 years old\n",
    "year = (2022 - age) + 100    \n",
    "\n",
    "#then print\n",
    "print (name, ',','You will be 100 years old in', str(int(year)))\n"
   ]
  },
  {
   "cell_type": "code",
   "execution_count": null,
   "id": "80b4200a",
   "metadata": {},
   "outputs": [],
   "source": []
  }
 ],
 "metadata": {
  "kernelspec": {
   "display_name": "Python 3 (ipykernel)",
   "language": "python",
   "name": "python3"
  },
  "language_info": {
   "codemirror_mode": {
    "name": "ipython",
    "version": 3
   },
   "file_extension": ".py",
   "mimetype": "text/x-python",
   "name": "python",
   "nbconvert_exporter": "python",
   "pygments_lexer": "ipython3",
   "version": "3.9.12"
  }
 },
 "nbformat": 4,
 "nbformat_minor": 5
}
