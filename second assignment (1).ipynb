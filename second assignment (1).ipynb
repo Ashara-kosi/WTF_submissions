{
 "cells": [
  {
   "cell_type": "markdown",
   "id": "9e22f84d",
   "metadata": {},
   "source": [
    "1.Write a function called showNumbers that takes a parameter called limit. It should print all the numbers between 0 and limit \n",
    "with a label to identify the even and odd numbers.For example, if the limit is 3, it should\n",
    "print:0 EVEN 1 ODD 2 EVEN 3 ODD"
   ]
  },
  {
   "cell_type": "code",
   "execution_count": 1,
   "id": "c1dc80e0",
   "metadata": {},
   "outputs": [
    {
     "name": "stdout",
     "output_type": "stream",
     "text": [
      "0 Even\n",
      "1 Odd\n",
      "2 Even\n",
      "3 Odd\n",
      "4 Even\n",
      "5 Odd\n",
      "6 Even\n"
     ]
    }
   ],
   "source": [
    "def showNumbers(limit):\n",
    "    for i in range(0,limit+1):\n",
    "        if i % 2 ==0:\n",
    "            print (i,'Even')\n",
    "        else:\n",
    "            print (i,'Odd')\n",
    "showNumbers(6)"
   ]
  },
  {
   "cell_type": "markdown",
   "id": "6daafb07",
   "metadata": {},
   "source": [
    "2.Write a function that returns the sum of multiples of 3 and 5 between 0 and limit (parameter). For example, if limit is 20, it should return the sum of 3, 5, 6, 9, 10,12, 15, 18, 20."
   ]
  },
  {
   "cell_type": "code",
   "execution_count": 6,
   "id": "b244b4a6",
   "metadata": {},
   "outputs": [
    {
     "name": "stdout",
     "output_type": "stream",
     "text": [
      "multiples of 3 - [0, 3, 6, 9, 12, 15, 18]\n",
      "multiples of 5 - [0, 5, 10, 15]\n"
     ]
    },
    {
     "data": {
      "text/plain": [
       "93"
      ]
     },
     "execution_count": 6,
     "metadata": {},
     "output_type": "execute_result"
    }
   ],
   "source": [
    "def sum_multiples(limit):\n",
    "    mult_of_3 =[]\n",
    "    mult_of_5 =[]\n",
    "    for i in range(0,limit+1):\n",
    "        if i % 3 == 0:\n",
    "            mult_of_3.append(i)\n",
    "    print ('multiples of 3 -',mult_of_3)\n",
    "    for a in range(0,limit+1):\n",
    "        if a % 5 == 0:\n",
    "            mult_of_5.append(a)  \n",
    "    print ('multiples of 5 -',mult_of_5)\n",
    "    sum_mult = mult_of_3 + mult_of_5\n",
    "    return sum(sum_mult)\n",
    "sum_multiples(19)      "
   ]
  },
  {
   "cell_type": "markdown",
   "id": "bebed273",
   "metadata": {},
   "source": [
    "3.Write a function called show_stars(rows). If rows is 5, it should print the following:***"
   ]
  },
  {
   "cell_type": "code",
   "execution_count": 7,
   "id": "1db9f680",
   "metadata": {},
   "outputs": [
    {
     "name": "stdout",
     "output_type": "stream",
     "text": [
      "***************\n"
     ]
    }
   ],
   "source": [
    "def show_stars(rows):\n",
    "        print ('*' * rows*3)\n",
    "show_stars(5)"
   ]
  },
  {
   "cell_type": "markdown",
   "id": "93bece9f",
   "metadata": {},
   "source": [
    "4.Write a function that prints all the prime numbers between 0 and limit where limit is a parameter."
   ]
  },
  {
   "cell_type": "code",
   "execution_count": 9,
   "id": "8791b44b",
   "metadata": {},
   "outputs": [
    {
     "name": "stdout",
     "output_type": "stream",
     "text": [
      "[1, 3, 5]\n"
     ]
    }
   ],
   "source": [
    "def prime_numbers(limit):\n",
    "    list_n =[]\n",
    "    for i in range(0,limit+1):\n",
    "        if i % 2 == 1:\n",
    "            list_n.append(i)\n",
    "    print (list_n)\n",
    "prime_numbers(5)"
   ]
  },
  {
   "cell_type": "markdown",
   "id": "206f1486",
   "metadata": {},
   "source": [
    "5.Write a program (function!) that takes a list and returns a new list that contains all the elements of the first list minus all the duplicates."
   ]
  },
  {
   "cell_type": "code",
   "execution_count": 13,
   "id": "6d6cce9d",
   "metadata": {},
   "outputs": [
    {
     "name": "stdout",
     "output_type": "stream",
     "text": [
      "[1, 2, 3, 4, 5, 6, 7, 8, 9]\n"
     ]
    }
   ],
   "source": [
    "def function(lists):\n",
    "    lists = set(lists)\n",
    "    convert_list = list(lists)\n",
    "    print (convert_list)\n",
    "function([9,3,6,2,1,5,8,9,1,2,4,2,7,3,4])"
   ]
  },
  {
   "cell_type": "markdown",
   "id": "1b770bc3",
   "metadata": {},
   "source": [
    "6.Write a function to ask the user for a number and determine whether the number is prime or not."
   ]
  },
  {
   "cell_type": "code",
   "execution_count": 17,
   "id": "ddff1496",
   "metadata": {},
   "outputs": [
    {
     "name": "stdout",
     "output_type": "stream",
     "text": [
      "37 is a prime number\n"
     ]
    }
   ],
   "source": [
    "\n",
    "def prime_num(num):\n",
    "    \n",
    "    if num % 2 == 1:\n",
    "        print (num,'is a prime number')\n",
    "    else:\n",
    "        print (num,'is not a prime number') \n",
    "prime_num(37)"
   ]
  },
  {
   "cell_type": "markdown",
   "id": "94d412ea",
   "metadata": {},
   "source": [
    "7.Write a program that asks the user how many Fibonnaci numbers to generate and then generates them."
   ]
  },
  {
   "cell_type": "code",
   "execution_count": 21,
   "id": "fc1c3d49",
   "metadata": {},
   "outputs": [
    {
     "name": "stdout",
     "output_type": "stream",
     "text": [
      "[1, 1, 2, 3, 5, 8, 13, 21, 34, 55]\n"
     ]
    }
   ],
   "source": [
    "def fibonacci():\n",
    "    num = 10\n",
    "    i = 1\n",
    "    if num == 0:\n",
    "        fib = [0]\n",
    "    elif num == 1:\n",
    "        fib = [1]\n",
    "    elif num == 2:\n",
    "        fib = [1,1]\n",
    "    elif num > 2:\n",
    "        fib = [1,1]\n",
    "        while i < (num - 1):\n",
    "            fib.append(fib[i] + fib[i-1])\n",
    "            i += 1\n",
    "    return fib\n",
    "print (fibonacci())"
   ]
  },
  {
   "cell_type": "markdown",
   "id": "55cdd7f1",
   "metadata": {},
   "source": [
    "8.Write a function that ask the user for a string and print out whether this string is apalindrome or not."
   ]
  },
  {
   "cell_type": "code",
   "execution_count": 23,
   "id": "e17d8206",
   "metadata": {},
   "outputs": [
    {
     "name": "stdout",
     "output_type": "stream",
     "text": [
      "Madams is not a palindrome\n"
     ]
    }
   ],
   "source": [
    "def palindrome(string):\n",
    "    string = \"Madams\"\n",
    "    if string  == string[::-1]:\n",
    "        print(string, 'is a palindrome') \n",
    "    else:\n",
    "        print(string, 'is not a palindrome')\n",
    "palindrome('string')"
   ]
  },
  {
   "cell_type": "markdown",
   "id": "327c87b0",
   "metadata": {},
   "source": [
    "9.Write a function that takes an ordered list of numbers (a list where the elements are inorder from smallest to largest) and\n",
    "another number."
   ]
  },
  {
   "cell_type": "code",
   "execution_count": 26,
   "id": "e1fbde93",
   "metadata": {},
   "outputs": [
    {
     "name": "stdout",
     "output_type": "stream",
     "text": [
      "[1, 2, 3, 4, 5, 6, 7, 8, 9, 10]\n"
     ]
    }
   ],
   "source": [
    "set_1 = {}\n",
    "set_2 = {}\n",
    "def function(set_1,set_2):\n",
    "    new_list = list(set_1 | set_2)\n",
    "    print (new_list)\n",
    "function({9,3,2,10,4,1},{8,5,7,6})"
   ]
  },
  {
   "cell_type": "markdown",
   "id": "965122ca",
   "metadata": {},
   "source": [
    "10.Create a program that asks the user to enter their name and their age. Print out a message addressed to them that tells them\n",
    "the year that they will turn 100 years old."
   ]
  },
  {
   "cell_type": "code",
   "execution_count": 36,
   "id": "7a10df3b",
   "metadata": {},
   "outputs": [
    {
     "name": "stdout",
     "output_type": "stream",
     "text": [
      "Hello Nancy you will be 100 years old in 2123\n"
     ]
    }
   ],
   "source": [
    "name = str(\"Nancy\")\n",
    "age = int()\n",
    "year = (2023 - age) + 100     \n",
    "print ('Hello',name, 'you will be 100 years old in', str(int(year)))\n"
   ]
  },
  {
   "cell_type": "code",
   "execution_count": null,
   "id": "7eb03bce",
   "metadata": {},
   "outputs": [],
   "source": []
  },
  {
   "cell_type": "code",
   "execution_count": null,
   "id": "ad943fd6",
   "metadata": {},
   "outputs": [],
   "source": []
  },
  {
   "cell_type": "code",
   "execution_count": null,
   "id": "f0669c29",
   "metadata": {},
   "outputs": [],
   "source": []
  },
  {
   "cell_type": "code",
   "execution_count": null,
   "id": "284afd76",
   "metadata": {},
   "outputs": [],
   "source": []
  },
  {
   "cell_type": "code",
   "execution_count": null,
   "id": "06985913",
   "metadata": {},
   "outputs": [],
   "source": []
  },
  {
   "cell_type": "code",
   "execution_count": null,
   "id": "443accc4",
   "metadata": {},
   "outputs": [],
   "source": []
  },
  {
   "cell_type": "code",
   "execution_count": null,
   "id": "eac7795c",
   "metadata": {},
   "outputs": [],
   "source": []
  }
 ],
 "metadata": {
  "kernelspec": {
   "display_name": "Python 3 (ipykernel)",
   "language": "python",
   "name": "python3"
  },
  "language_info": {
   "codemirror_mode": {
    "name": "ipython",
    "version": 3
   },
   "file_extension": ".py",
   "mimetype": "text/x-python",
   "name": "python",
   "nbconvert_exporter": "python",
   "pygments_lexer": "ipython3",
   "version": "3.9.7"
  }
 },
 "nbformat": 4,
 "nbformat_minor": 5
}
