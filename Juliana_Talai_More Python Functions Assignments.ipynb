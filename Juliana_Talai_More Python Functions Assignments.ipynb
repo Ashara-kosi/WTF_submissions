{
 "cells": [
  {
   "cell_type": "markdown",
   "id": "c0ba504c",
   "metadata": {},
   "source": [
    "### Write a function to calculate the multiplication and sum of two numbers. "
   ]
  },
  {
   "cell_type": "code",
   "execution_count": 22,
   "id": "632ee84b",
   "metadata": {},
   "outputs": [],
   "source": [
    "def mult_and_sum(x,y):\n",
    "    if x*y >0 and x*y <= 2000:\n",
    "        return x*y\n",
    "    else:\n",
    "        return x+y\n",
    "    "
   ]
  },
  {
   "cell_type": "code",
   "execution_count": 24,
   "id": "a98ca501",
   "metadata": {},
   "outputs": [
    {
     "data": {
      "text/plain": [
       "830"
      ]
     },
     "execution_count": 24,
     "metadata": {},
     "output_type": "execute_result"
    }
   ],
   "source": [
    "mult_and_sum(800,30)"
   ]
  },
  {
   "cell_type": "markdown",
   "id": "f2479c1c",
   "metadata": {},
   "source": [
    "### Write a function to print the sum of the current number and the previous number."
   ]
  },
  {
   "cell_type": "code",
   "execution_count": 31,
   "id": "6c4caade",
   "metadata": {},
   "outputs": [],
   "source": [
    "def summation(digits):\n",
    "    for i in range(len(digits)):\n",
    "        if i==0:\n",
    "            print(digits[i]) \n",
    "        else:\n",
    "            print(digits[i-1]+digits[i]) \n",
    "                "
   ]
  },
  {
   "cell_type": "code",
   "execution_count": 32,
   "id": "58c8b30b",
   "metadata": {},
   "outputs": [
    {
     "name": "stdout",
     "output_type": "stream",
     "text": [
      "1\n",
      "2\n",
      "5\n",
      "7\n",
      "10\n",
      "16\n"
     ]
    }
   ],
   "source": [
    "digits=[1,1,4,3,7,9]\n",
    "#digits[i]\n",
    "summation(digits)"
   ]
  },
  {
   "cell_type": "markdown",
   "id": "7c8913e3",
   "metadata": {},
   "source": [
    "### Write a function to print characters from a string that are present at an even index number. "
   ]
  },
  {
   "cell_type": "code",
   "execution_count": 395,
   "id": "fe53089f",
   "metadata": {},
   "outputs": [],
   "source": [
    "def fxn(word):\n",
    "    new_word=[]\n",
    "    for i in range(len(word)):\n",
    "        if i%2==0:\n",
    "            new_word.append(word[i])\n",
    "    return new_word                  \n",
    "                "
   ]
  },
  {
   "cell_type": "code",
   "execution_count": 396,
   "id": "7346cf7b",
   "metadata": {},
   "outputs": [],
   "source": [
    "word=\"juliejerm\""
   ]
  },
  {
   "cell_type": "code",
   "execution_count": 397,
   "id": "07abd014",
   "metadata": {},
   "outputs": [
    {
     "data": {
      "text/plain": [
       "['j', 'l', 'e', 'e', 'm']"
      ]
     },
     "execution_count": 397,
     "metadata": {},
     "output_type": "execute_result"
    }
   ],
   "source": [
    "fxn(word)"
   ]
  },
  {
   "cell_type": "markdown",
   "id": "862a396d",
   "metadata": {},
   "source": [
    "### Write a function to remove first characters from a string "
   ]
  },
  {
   "cell_type": "code",
   "execution_count": 40,
   "id": "6f1fcc5b",
   "metadata": {},
   "outputs": [],
   "source": [
    "def remove(word1):\n",
    "    new_word1=[]\n",
    "    for i in range(len(word1)):\n",
    "        new_word1=word1.replace(word1[0:1],\"\")\n",
    "        return new_word1"
   ]
  },
  {
   "cell_type": "code",
   "execution_count": 41,
   "id": "699143c1",
   "metadata": {},
   "outputs": [],
   "source": [
    "word1=\"Julie\""
   ]
  },
  {
   "cell_type": "code",
   "execution_count": 42,
   "id": "e78dcc92",
   "metadata": {},
   "outputs": [
    {
     "data": {
      "text/plain": [
       "'ulie'"
      ]
     },
     "execution_count": 42,
     "metadata": {},
     "output_type": "execute_result"
    }
   ],
   "source": [
    "remove(word1)"
   ]
  },
  {
   "cell_type": "markdown",
   "id": "02e9314f",
   "metadata": {},
   "source": [
    "### Write a function to check if the first and last number of a list is the same "
   ]
  },
  {
   "cell_type": "code",
   "execution_count": 154,
   "id": "fe275f75",
   "metadata": {},
   "outputs": [],
   "source": [
    "def same(word2):\n",
    "    for i in range(len(word2)):\n",
    "        if word2[0]==word2[-1]:\n",
    "            return True\n",
    "        else:\n",
    "            return False"
   ]
  },
  {
   "cell_type": "code",
   "execution_count": 155,
   "id": "8fe3eee6",
   "metadata": {},
   "outputs": [
    {
     "data": {
      "text/plain": [
       "False"
      ]
     },
     "execution_count": 155,
     "metadata": {},
     "output_type": "execute_result"
    }
   ],
   "source": [
    "word2=\"julie\"\n",
    "same(word2)"
   ]
  },
  {
   "cell_type": "code",
   "execution_count": 156,
   "id": "7ca13ce0",
   "metadata": {},
   "outputs": [
    {
     "data": {
      "text/plain": [
       "True"
      ]
     },
     "execution_count": 156,
     "metadata": {},
     "output_type": "execute_result"
    }
   ],
   "source": [
    "word2a=\"eulie\"\n",
    "same(word2a)"
   ]
  },
  {
   "cell_type": "markdown",
   "id": "c5ad6d1f",
   "metadata": {},
   "source": [
    "### Write a function to print multiplication table from 1 to 10"
   ]
  },
  {
   "cell_type": "code",
   "execution_count": 43,
   "id": "d4404a1c",
   "metadata": {},
   "outputs": [],
   "source": [
    "def mult(x,y):\n",
    "    for i in range(0,11):\n",
    "        print(\"\\n THIS IS MULTIPLICATION TABLE FOR %d\\n\" %(i))\n",
    "        for j in range(0,11):\n",
    "             print(\"%-2d X %2d = %2d\" % (i, j, i*j))"
   ]
  },
  {
   "cell_type": "code",
   "execution_count": 44,
   "id": "f2b59e41",
   "metadata": {},
   "outputs": [
    {
     "name": "stdout",
     "output_type": "stream",
     "text": [
      "\n",
      " THIS IS MULTIPLICATION TABLE FOR 0\n",
      "\n",
      "0  X  0 =  0\n",
      "0  X  1 =  0\n",
      "0  X  2 =  0\n",
      "0  X  3 =  0\n",
      "0  X  4 =  0\n",
      "0  X  5 =  0\n",
      "0  X  6 =  0\n",
      "0  X  7 =  0\n",
      "0  X  8 =  0\n",
      "0  X  9 =  0\n",
      "0  X 10 =  0\n",
      "\n",
      " THIS IS MULTIPLICATION TABLE FOR 1\n",
      "\n",
      "1  X  0 =  0\n",
      "1  X  1 =  1\n",
      "1  X  2 =  2\n",
      "1  X  3 =  3\n",
      "1  X  4 =  4\n",
      "1  X  5 =  5\n",
      "1  X  6 =  6\n",
      "1  X  7 =  7\n",
      "1  X  8 =  8\n",
      "1  X  9 =  9\n",
      "1  X 10 = 10\n",
      "\n",
      " THIS IS MULTIPLICATION TABLE FOR 2\n",
      "\n",
      "2  X  0 =  0\n",
      "2  X  1 =  2\n",
      "2  X  2 =  4\n",
      "2  X  3 =  6\n",
      "2  X  4 =  8\n",
      "2  X  5 = 10\n",
      "2  X  6 = 12\n",
      "2  X  7 = 14\n",
      "2  X  8 = 16\n",
      "2  X  9 = 18\n",
      "2  X 10 = 20\n",
      "\n",
      " THIS IS MULTIPLICATION TABLE FOR 3\n",
      "\n",
      "3  X  0 =  0\n",
      "3  X  1 =  3\n",
      "3  X  2 =  6\n",
      "3  X  3 =  9\n",
      "3  X  4 = 12\n",
      "3  X  5 = 15\n",
      "3  X  6 = 18\n",
      "3  X  7 = 21\n",
      "3  X  8 = 24\n",
      "3  X  9 = 27\n",
      "3  X 10 = 30\n",
      "\n",
      " THIS IS MULTIPLICATION TABLE FOR 4\n",
      "\n",
      "4  X  0 =  0\n",
      "4  X  1 =  4\n",
      "4  X  2 =  8\n",
      "4  X  3 = 12\n",
      "4  X  4 = 16\n",
      "4  X  5 = 20\n",
      "4  X  6 = 24\n",
      "4  X  7 = 28\n",
      "4  X  8 = 32\n",
      "4  X  9 = 36\n",
      "4  X 10 = 40\n",
      "\n",
      " THIS IS MULTIPLICATION TABLE FOR 5\n",
      "\n",
      "5  X  0 =  0\n",
      "5  X  1 =  5\n",
      "5  X  2 = 10\n",
      "5  X  3 = 15\n",
      "5  X  4 = 20\n",
      "5  X  5 = 25\n",
      "5  X  6 = 30\n",
      "5  X  7 = 35\n",
      "5  X  8 = 40\n",
      "5  X  9 = 45\n",
      "5  X 10 = 50\n",
      "\n",
      " THIS IS MULTIPLICATION TABLE FOR 6\n",
      "\n",
      "6  X  0 =  0\n",
      "6  X  1 =  6\n",
      "6  X  2 = 12\n",
      "6  X  3 = 18\n",
      "6  X  4 = 24\n",
      "6  X  5 = 30\n",
      "6  X  6 = 36\n",
      "6  X  7 = 42\n",
      "6  X  8 = 48\n",
      "6  X  9 = 54\n",
      "6  X 10 = 60\n",
      "\n",
      " THIS IS MULTIPLICATION TABLE FOR 7\n",
      "\n",
      "7  X  0 =  0\n",
      "7  X  1 =  7\n",
      "7  X  2 = 14\n",
      "7  X  3 = 21\n",
      "7  X  4 = 28\n",
      "7  X  5 = 35\n",
      "7  X  6 = 42\n",
      "7  X  7 = 49\n",
      "7  X  8 = 56\n",
      "7  X  9 = 63\n",
      "7  X 10 = 70\n",
      "\n",
      " THIS IS MULTIPLICATION TABLE FOR 8\n",
      "\n",
      "8  X  0 =  0\n",
      "8  X  1 =  8\n",
      "8  X  2 = 16\n",
      "8  X  3 = 24\n",
      "8  X  4 = 32\n",
      "8  X  5 = 40\n",
      "8  X  6 = 48\n",
      "8  X  7 = 56\n",
      "8  X  8 = 64\n",
      "8  X  9 = 72\n",
      "8  X 10 = 80\n",
      "\n",
      " THIS IS MULTIPLICATION TABLE FOR 9\n",
      "\n",
      "9  X  0 =  0\n",
      "9  X  1 =  9\n",
      "9  X  2 = 18\n",
      "9  X  3 = 27\n",
      "9  X  4 = 36\n",
      "9  X  5 = 45\n",
      "9  X  6 = 54\n",
      "9  X  7 = 63\n",
      "9  X  8 = 72\n",
      "9  X  9 = 81\n",
      "9  X 10 = 90\n",
      "\n",
      " THIS IS MULTIPLICATION TABLE FOR 10\n",
      "\n",
      "10 X  0 =  0\n",
      "10 X  1 = 10\n",
      "10 X  2 = 20\n",
      "10 X  3 = 30\n",
      "10 X  4 = 40\n",
      "10 X  5 = 50\n",
      "10 X  6 = 60\n",
      "10 X  7 = 70\n",
      "10 X  8 = 80\n",
      "10 X  9 = 90\n",
      "10 X 10 = 100\n"
     ]
    }
   ],
   "source": [
    "mult(1,10)"
   ]
  },
  {
   "cell_type": "code",
   "execution_count": 348,
   "id": "e2f5a740",
   "metadata": {},
   "outputs": [],
   "source": [
    "def odd_even(list_1,list_2):\n",
    "    odd_list =[] \n",
    "    even_list =[]\n",
    "    for i in list_1:\n",
    "        if (i % 2 == 1):\n",
    "            odd_list.append(i)\n",
    "    for j in list_2:\n",
    "        if (j % 2==0):\n",
    "            even_list.append(j)\n",
    "    return(odd_list,even_list)\n",
    "            \n",
    "                \n",
    "             "
   ]
  },
  {
   "cell_type": "markdown",
   "id": "3ec0f06a",
   "metadata": {},
   "source": [
    "### Given a two list of numbers, write a function to create a new list such that the new list should contain odd numbers from the first list and even numbers from the second list. "
   ]
  },
  {
   "cell_type": "code",
   "execution_count": 349,
   "id": "c9f3fd1f",
   "metadata": {},
   "outputs": [],
   "source": [
    "list_1=[4,1,2,3,4]\n",
    "list_2=[5,6,7,8,9]"
   ]
  },
  {
   "cell_type": "code",
   "execution_count": 350,
   "id": "fd7b8875",
   "metadata": {},
   "outputs": [
    {
     "data": {
      "text/plain": [
       "([1, 3], [6, 8])"
      ]
     },
     "execution_count": 350,
     "metadata": {},
     "output_type": "execute_result"
    }
   ],
   "source": [
    "odd_even(list_1,list_2)"
   ]
  },
  {
   "cell_type": "code",
   "execution_count": null,
   "id": "90ba5a57",
   "metadata": {},
   "outputs": [],
   "source": []
  },
  {
   "cell_type": "code",
   "execution_count": null,
   "id": "7e043c84",
   "metadata": {},
   "outputs": [],
   "source": []
  }
 ],
 "metadata": {
  "kernelspec": {
   "display_name": "Python 3 (ipykernel)",
   "language": "python",
   "name": "python3"
  },
  "language_info": {
   "codemirror_mode": {
    "name": "ipython",
    "version": 3
   },
   "file_extension": ".py",
   "mimetype": "text/x-python",
   "name": "python",
   "nbconvert_exporter": "python",
   "pygments_lexer": "ipython3",
   "version": "3.9.12"
  }
 },
 "nbformat": 4,
 "nbformat_minor": 5
}
