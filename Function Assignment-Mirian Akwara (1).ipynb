{
 "cells": [
  {
   "cell_type": "markdown",
   "id": "6608c20d",
   "metadata": {},
   "source": [
    "1.\tWrite a function to calculate the multiplication and sum of two numbers.\n",
    "2.\tWrite a function to print the sum of the current number and the previous numberr\n",
    "3.\tWrite a function to print characters from a string that are present at an even index number\n",
    "4.\tWrite a function to rremove first characters from a string\n",
    "5.\tWrite a function to check if the first and last number of a list is the same\n",
    "6.\t Write a function to print multiplication table from 1 to 10\n",
    "7.\tGiven a two list of numbers, write a function to create a new list such that the new list should contain odd numbers from the first list and even numbers from the second list.\n"
   ]
  },
  {
   "cell_type": "markdown",
   "id": "ebcf9e31",
   "metadata": {},
   "source": [
    "# Write a function to calculate the multiplication and sum of two numbers.    \n",
    "        "
   ]
  },
  {
   "cell_type": "code",
   "execution_count": 50,
   "id": "ff17a46c",
   "metadata": {},
   "outputs": [
    {
     "data": {
      "text/plain": [
       "'The sum and multiplication of the two numbers are 7 and 12'"
      ]
     },
     "execution_count": 50,
     "metadata": {},
     "output_type": "execute_result"
    }
   ],
   "source": [
    "def mult_sum(a, b):\n",
    "    summ = a+b\n",
    "    multt = a*b\n",
    "    return('The sum and multiplication of the two numbers are {0} and {1}'.format(summ, multt))\n",
    "            \n",
    "mult_sum(3, 4)"
   ]
  },
  {
   "cell_type": "markdown",
   "id": "9f89691f",
   "metadata": {},
   "source": [
    "# Write a function to print the sum of the current number and the previous numberr"
   ]
  },
  {
   "cell_type": "code",
   "execution_count": 71,
   "id": "9ecc7d58",
   "metadata": {},
   "outputs": [
    {
     "name": "stdout",
     "output_type": "stream",
     "text": [
      "The current no is: 25\n",
      "The previous no is 24\n"
     ]
    },
    {
     "data": {
      "text/plain": [
       "'The sum of the current and previous no is 49'"
      ]
     },
     "execution_count": 71,
     "metadata": {},
     "output_type": "execute_result"
    }
   ],
   "source": [
    "def curr_prev(no):\n",
    "    print('The current no is: {}'.format(no))\n",
    "    print('The previous no is {}'.format(no-1))\n",
    "    return('The sum of the current and previous no is {}'.format(no+(no-1)))\n",
    "\n",
    "curr_prev(25)"
   ]
  },
  {
   "cell_type": "markdown",
   "id": "d1344468",
   "metadata": {},
   "source": [
    "# Write a function to print characters from a string that are present at an even index number"
   ]
  },
  {
   "cell_type": "code",
   "execution_count": 55,
   "id": "b1b10625",
   "metadata": {},
   "outputs": [
    {
     "name": "stdout",
     "output_type": "stream",
     "text": [
      "Enter a string:mirian\n"
     ]
    },
    {
     "data": {
      "text/plain": [
       "\"Even characters: ['m', 'r', 'a']\""
      ]
     },
     "execution_count": 55,
     "metadata": {},
     "output_type": "execute_result"
    }
   ],
   "source": [
    "#Write a function to print characters from a string that are present at an even index number\n",
    "\n",
    "def print_string():\n",
    "    givenstring = input('Enter a string:')\n",
    "    even_character = []\n",
    "    for i in range(len(givenstring)):\n",
    "        if i % 2 == 0:\n",
    "            even_character.append(givenstring[i])\n",
    "        \n",
    "    return('Even characters: {}'.format(even_character))\n",
    "print_string()"
   ]
  },
  {
   "cell_type": "markdown",
   "id": "f8e638a0",
   "metadata": {},
   "source": [
    "# Write a function to remove first characters from a string"
   ]
  },
  {
   "cell_type": "code",
   "execution_count": 56,
   "id": "68dc93e7",
   "metadata": {},
   "outputs": [
    {
     "name": "stdout",
     "output_type": "stream",
     "text": [
      "Enter a string:mirian\n"
     ]
    },
    {
     "data": {
      "text/plain": [
       "'irian'"
      ]
     },
     "execution_count": 56,
     "metadata": {},
     "output_type": "execute_result"
    }
   ],
   "source": [
    "def remove_Ist():\n",
    "    string = input('Enter a string:')\n",
    "    \n",
    "    return string[1:]\n",
    "\n",
    "remove_Ist()"
   ]
  },
  {
   "cell_type": "markdown",
   "id": "5e416636",
   "metadata": {},
   "source": [
    "# Write a function to check if the first and last number of a list is the same"
   ]
  },
  {
   "cell_type": "code",
   "execution_count": 60,
   "id": "64eec5dc",
   "metadata": {},
   "outputs": [
    {
     "name": "stdout",
     "output_type": "stream",
     "text": [
      "It's the same.\n"
     ]
    }
   ],
   "source": [
    "\n",
    "\n",
    "def first_last(list):\n",
    "    if list[0]==list[-1]:\n",
    "        print('It\\'s the same.')\n",
    "    else:\n",
    "        print('Not the same.')\n",
    "        \n",
    "first_last([7,4,5,6,7])"
   ]
  },
  {
   "cell_type": "markdown",
   "id": "4a7c3f84",
   "metadata": {},
   "source": [
    "# Write a function to print multiplication table from 1 to 10"
   ]
  },
  {
   "cell_type": "code",
   "execution_count": 61,
   "id": "f292285d",
   "metadata": {},
   "outputs": [
    {
     "name": "stdout",
     "output_type": "stream",
     "text": [
      "\n",
      " multiplication table for 1 \n",
      "\n",
      "1x1 = 1\n",
      "1x2 = 2\n",
      "1x3 = 3\n",
      "1x4 = 4\n",
      "1x5 = 5\n",
      "1x6 = 6\n",
      "1x7 = 7\n",
      "1x8 = 8\n",
      "1x9 = 9\n",
      "1x10 = 10\n",
      "\n",
      " multiplication table for 2 \n",
      "\n",
      "2x1 = 2\n",
      "2x2 = 4\n",
      "2x3 = 6\n",
      "2x4 = 8\n",
      "2x5 = 10\n",
      "2x6 = 12\n",
      "2x7 = 14\n",
      "2x8 = 16\n",
      "2x9 = 18\n",
      "2x10 = 20\n",
      "\n",
      " multiplication table for 3 \n",
      "\n",
      "3x1 = 3\n",
      "3x2 = 6\n",
      "3x3 = 9\n",
      "3x4 = 12\n",
      "3x5 = 15\n",
      "3x6 = 18\n",
      "3x7 = 21\n",
      "3x8 = 24\n",
      "3x9 = 27\n",
      "3x10 = 30\n",
      "\n",
      " multiplication table for 4 \n",
      "\n",
      "4x1 = 4\n",
      "4x2 = 8\n",
      "4x3 = 12\n",
      "4x4 = 16\n",
      "4x5 = 20\n",
      "4x6 = 24\n",
      "4x7 = 28\n",
      "4x8 = 32\n",
      "4x9 = 36\n",
      "4x10 = 40\n",
      "\n",
      " multiplication table for 5 \n",
      "\n",
      "5x1 = 5\n",
      "5x2 = 10\n",
      "5x3 = 15\n",
      "5x4 = 20\n",
      "5x5 = 25\n",
      "5x6 = 30\n",
      "5x7 = 35\n",
      "5x8 = 40\n",
      "5x9 = 45\n",
      "5x10 = 50\n",
      "\n",
      " multiplication table for 6 \n",
      "\n",
      "6x1 = 6\n",
      "6x2 = 12\n",
      "6x3 = 18\n",
      "6x4 = 24\n",
      "6x5 = 30\n",
      "6x6 = 36\n",
      "6x7 = 42\n",
      "6x8 = 48\n",
      "6x9 = 54\n",
      "6x10 = 60\n",
      "\n",
      " multiplication table for 7 \n",
      "\n",
      "7x1 = 7\n",
      "7x2 = 14\n",
      "7x3 = 21\n",
      "7x4 = 28\n",
      "7x5 = 35\n",
      "7x6 = 42\n",
      "7x7 = 49\n",
      "7x8 = 56\n",
      "7x9 = 63\n",
      "7x10 = 70\n",
      "\n",
      " multiplication table for 8 \n",
      "\n",
      "8x1 = 8\n",
      "8x2 = 16\n",
      "8x3 = 24\n",
      "8x4 = 32\n",
      "8x5 = 40\n",
      "8x6 = 48\n",
      "8x7 = 56\n",
      "8x8 = 64\n",
      "8x9 = 72\n",
      "8x10 = 80\n",
      "\n",
      " multiplication table for 9 \n",
      "\n",
      "9x1 = 9\n",
      "9x2 = 18\n",
      "9x3 = 27\n",
      "9x4 = 36\n",
      "9x5 = 45\n",
      "9x6 = 54\n",
      "9x7 = 63\n",
      "9x8 = 72\n",
      "9x9 = 81\n",
      "9x10 = 90\n",
      "\n",
      " multiplication table for 10 \n",
      "\n",
      "10x1 = 10\n",
      "10x2 = 20\n",
      "10x3 = 30\n",
      "10x4 = 40\n",
      "10x5 = 50\n",
      "10x6 = 60\n",
      "10x7 = 70\n",
      "10x8 = 80\n",
      "10x9 = 90\n",
      "10x10 = 100\n"
     ]
    }
   ],
   "source": [
    "def mult_tab():\n",
    "    for i in range(1,11):\n",
    "        print('\\n multiplication table for {0} \\n'.format(i))\n",
    "        for j in range(1,11):\n",
    "            print('{0}x{1} = {2}'.format(i,j,i*j))\n",
    "\n",
    "mult_tab()"
   ]
  },
  {
   "cell_type": "code",
   "execution_count": 64,
   "id": "c28ded44",
   "metadata": {},
   "outputs": [
    {
     "name": "stdout",
     "output_type": "stream",
     "text": [
      "Which table you need write it here:1\n",
      "write the number from where to start:1\n",
      "write the end of the number you need:10\n",
      "\n",
      "So This is the table of 1\n",
      "1 x 1 = 1\n",
      "1 x 2 = 2\n",
      "1 x 3 = 3\n",
      "1 x 4 = 4\n",
      "1 x 5 = 5\n",
      "1 x 6 = 6\n",
      "1 x 7 = 7\n",
      "1 x 8 = 8\n",
      "1 x 9 = 9\n",
      "1 x 10 = 10\n"
     ]
    }
   ],
   "source": [
    "def mult_tab():\n",
    "    num = int(input('Which table you need write it here:'))\n",
    "\n",
    "    starting_range = int(input('write the number from where to start:'))\n",
    "    ending_range = int(input('write the end of the number you need:'))\n",
    "    print()\n",
    "    print('So This is the table of', num)\n",
    "    for i in range(starting_range, ending_range + 1):\n",
    "           print(num, 'x', i, '=', num*i)\n",
    "mult_tab()"
   ]
  },
  {
   "cell_type": "markdown",
   "id": "e2be0d4a",
   "metadata": {},
   "source": [
    "# Given a two list of numbers, write a function to create a new list such that the new list should contain odd numbers from the first list and even numbers from the second list."
   ]
  },
  {
   "cell_type": "code",
   "execution_count": 65,
   "id": "ae5bdd6a",
   "metadata": {},
   "outputs": [
    {
     "data": {
      "text/plain": [
       "[1, 3, 5, 6, 8, 10]"
      ]
     },
     "execution_count": 65,
     "metadata": {},
     "output_type": "execute_result"
    }
   ],
   "source": [
    "first = [1, 2, 3, 4, 5]\n",
    "second = [5, 6, 7, 8, 9, 10]\n",
    "\n",
    "def two_list(first,second):\n",
    "    new_list = []\n",
    "    for i in first:\n",
    "        if i%2==1:\n",
    "            new_list.append(i)\n",
    "    for j in second:\n",
    "        if j%2==0:\n",
    "            new_list.append(j)\n",
    "    return(new_list)\n",
    "\n",
    "two_list(first,second)"
   ]
  }
 ],
 "metadata": {
  "kernelspec": {
   "display_name": "Python 3 (ipykernel)",
   "language": "python",
   "name": "python3"
  },
  "language_info": {
   "codemirror_mode": {
    "name": "ipython",
    "version": 3
   },
   "file_extension": ".py",
   "mimetype": "text/x-python",
   "name": "python",
   "nbconvert_exporter": "python",
   "pygments_lexer": "ipython3",
   "version": "3.9.12"
  }
 },
 "nbformat": 4,
 "nbformat_minor": 5
}
