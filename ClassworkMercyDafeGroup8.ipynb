{
 "cells": [
  {
   "cell_type": "code",
   "execution_count": null,
   "id": "df459e67",
   "metadata": {},
   "outputs": [],
   "source": [
    "# Q1:write a function to calculate the multiplication and sum of\n",
    "#two numbers\n",
    "def function(x,y):\n",
    "    x=int(input(\"Enter a number: \"))\n",
    "    y=int(input(\"Enter a number: \"))\n",
    "    return (x+y,x*y)\n",
    "function(x,y)\n",
    "    \n",
    "\n"
   ]
  },
  {
   "cell_type": "code",
   "execution_count": 1,
   "id": "4535aa95",
   "metadata": {},
   "outputs": [
    {
     "data": {
      "text/plain": [
       "10"
      ]
     },
     "execution_count": 1,
     "metadata": {},
     "output_type": "execute_result"
    }
   ],
   "source": [
    "#Q2:Write a function to print the sum of the current number and\n",
    "#the previous number\n",
    "def current_num(x):\n",
    "    n=0\n",
    "    for i in x:\n",
    "        n=n+i\n",
    "    return n\n",
    "x=[10]\n",
    "current_num(x)\n",
    "\n",
    "\n"
   ]
  },
  {
   "cell_type": "code",
   "execution_count": 3,
   "id": "671df74e",
   "metadata": {},
   "outputs": [
    {
     "data": {
      "text/plain": [
       "9"
      ]
     },
     "execution_count": 3,
     "metadata": {},
     "output_type": "execute_result"
    }
   ],
   "source": [
    "def previous_num(y):\n",
    "    total=-1\n",
    "    for a in y:\n",
    "        total=total+a \n",
    "    return total\n",
    "y=x\n",
    "previous_num(y)\n",
    "\n",
    "\n"
   ]
  },
  {
   "cell_type": "code",
   "execution_count": 4,
   "id": "27d0b7aa",
   "metadata": {},
   "outputs": [
    {
     "data": {
      "text/plain": [
       "'Mryae'"
      ]
     },
     "execution_count": 4,
     "metadata": {},
     "output_type": "execute_result"
    }
   ],
   "source": [
    "#Q3: Write s function to print characters from a string that are\n",
    "# present at an even index number\n",
    "def string(name):\n",
    "    return name\n",
    "\n",
    "name=\"MercyDafe\"[0::2]\n",
    "string(name)\n",
    "    \n",
    "\n"
   ]
  },
  {
   "cell_type": "code",
   "execution_count": 22,
   "id": "179bc320",
   "metadata": {},
   "outputs": [],
   "source": [
    "#Q4: Write a function to remove first charaters from a string"
   ]
  },
  {
   "cell_type": "code",
   "execution_count": 5,
   "id": "401c5c21",
   "metadata": {},
   "outputs": [
    {
     "data": {
      "text/plain": [
       "'echnology'"
      ]
     },
     "execution_count": 5,
     "metadata": {},
     "output_type": "execute_result"
    }
   ],
   "source": [
    "def charater(word):\n",
    "    return word\n",
    "\n",
    "word=\"Technology\"[1:]\n",
    "charater(word)"
   ]
  },
  {
   "cell_type": "code",
   "execution_count": 6,
   "id": "1695888d",
   "metadata": {},
   "outputs": [
    {
     "name": "stdout",
     "output_type": "stream",
     "text": [
      "bele\n"
     ]
    }
   ],
   "source": [
    "def charater(string):\n",
    "    string=\"Ebele\"\n",
    "    new_string=string.lstrip(\"E\")\n",
    "    print(new_string)\n",
    "charater(string)\n",
    "    "
   ]
  },
  {
   "cell_type": "code",
   "execution_count": 7,
   "id": "effa75f5",
   "metadata": {},
   "outputs": [
    {
     "name": "stdout",
     "output_type": "stream",
     "text": [
      "The first and the last number are the same\n"
     ]
    }
   ],
   "source": [
    "#5: Write a function to check if the first and last number is the same\n",
    "def function(x):\n",
    "    x=[11,12,13,14,15,11]\n",
    "    for i in x:\n",
    "        if x[0]==x[-1]:\n",
    "            \n",
    "            print(\"The first and the last number are the same\")\n",
    "        else:\n",
    "            print(\"The the first and last number are not the same\")\n",
    "        break\n",
    "            \n",
    "function(x)"
   ]
  },
  {
   "cell_type": "code",
   "execution_count": 8,
   "id": "8ea7e58c",
   "metadata": {},
   "outputs": [
    {
     "name": "stdout",
     "output_type": "stream",
     "text": [
      "\n",
      " multiplication table for 1\n",
      "\n",
      "1X1=1\n",
      "1X2=2\n",
      "1X3=3\n",
      "1X4=4\n",
      "1X5=5\n",
      "1X6=6\n",
      "1X7=7\n",
      "1X8=8\n",
      "1X9=9\n",
      "1X10=10\n",
      "\n",
      " multiplication table for 2\n",
      "\n",
      "2X1=2\n",
      "2X2=4\n",
      "2X3=6\n",
      "2X4=8\n",
      "2X5=10\n",
      "2X6=12\n",
      "2X7=14\n",
      "2X8=16\n",
      "2X9=18\n",
      "2X10=20\n",
      "\n",
      " multiplication table for 3\n",
      "\n",
      "3X1=3\n",
      "3X2=6\n",
      "3X3=9\n",
      "3X4=12\n",
      "3X5=15\n",
      "3X6=18\n",
      "3X7=21\n",
      "3X8=24\n",
      "3X9=27\n",
      "3X10=30\n",
      "\n",
      " multiplication table for 4\n",
      "\n",
      "4X1=4\n",
      "4X2=8\n",
      "4X3=12\n",
      "4X4=16\n",
      "4X5=20\n",
      "4X6=24\n",
      "4X7=28\n",
      "4X8=32\n",
      "4X9=36\n",
      "4X10=40\n",
      "\n",
      " multiplication table for 5\n",
      "\n",
      "5X1=5\n",
      "5X2=10\n",
      "5X3=15\n",
      "5X4=20\n",
      "5X5=25\n",
      "5X6=30\n",
      "5X7=35\n",
      "5X8=40\n",
      "5X9=45\n",
      "5X10=50\n",
      "\n",
      " multiplication table for 6\n",
      "\n",
      "6X1=6\n",
      "6X2=12\n",
      "6X3=18\n",
      "6X4=24\n",
      "6X5=30\n",
      "6X6=36\n",
      "6X7=42\n",
      "6X8=48\n",
      "6X9=54\n",
      "6X10=60\n",
      "\n",
      " multiplication table for 7\n",
      "\n",
      "7X1=7\n",
      "7X2=14\n",
      "7X3=21\n",
      "7X4=28\n",
      "7X5=35\n",
      "7X6=42\n",
      "7X7=49\n",
      "7X8=56\n",
      "7X9=63\n",
      "7X10=70\n",
      "\n",
      " multiplication table for 8\n",
      "\n",
      "8X1=8\n",
      "8X2=16\n",
      "8X3=24\n",
      "8X4=32\n",
      "8X5=40\n",
      "8X6=48\n",
      "8X7=56\n",
      "8X8=64\n",
      "8X9=72\n",
      "8X10=80\n",
      "\n",
      " multiplication table for 9\n",
      "\n",
      "9X1=9\n",
      "9X2=18\n",
      "9X3=27\n",
      "9X4=36\n",
      "9X5=45\n",
      "9X6=54\n",
      "9X7=63\n",
      "9X8=72\n",
      "9X9=81\n",
      "9X10=90\n",
      "\n",
      " multiplication table for 10\n",
      "\n",
      "10X1=10\n",
      "10X2=20\n",
      "10X3=30\n",
      "10X4=40\n",
      "10X5=50\n",
      "10X6=60\n",
      "10X7=70\n",
      "10X8=80\n",
      "10X9=90\n",
      "10X10=100\n"
     ]
    }
   ],
   "source": [
    "#6: write a function to print multiplication table 1 to 10\n",
    "def multiplication_table():\n",
    "    for i in range(1,11):\n",
    "        print('\\n multiplication table for {0}\\n'.format(i))\n",
    "        for j in range(1,11):\n",
    "            print('{0}X{1}={2}'.format(i,j,i*j))\n",
    "    \n",
    "        \n",
    "multiplication_table()\n",
    "        "
   ]
  },
  {
   "cell_type": "code",
   "execution_count": 9,
   "id": "34a8448b",
   "metadata": {},
   "outputs": [],
   "source": [
    "# Given a two list of numbers, write a function to create a new list\n",
    "# such that the new list should contain odd and numbers from a the first list and \n",
    "# even number from the second list"
   ]
  },
  {
   "cell_type": "code",
   "execution_count": 13,
   "id": "e4acaa9a",
   "metadata": {},
   "outputs": [
    {
     "data": {
      "text/plain": [
       "[1, 3, 5, 22, 44]"
      ]
     },
     "execution_count": 13,
     "metadata": {},
     "output_type": "execute_result"
    }
   ],
   "source": [
    "def two_list(x,y):\n",
    "    newlist=[]\n",
    "    for i in x:\n",
    "        if i%2!=0:\n",
    "            newlist.append(i)\n",
    "    for j in y:\n",
    "        if j%2==0:\n",
    "            newlist.append(j)\n",
    "    return(newlist)\n",
    "                    \n",
    "                                \n",
    "x=[1,2,3,4,5]\n",
    "y=[11,22,33,44,55]           \n",
    "two_list(x,y)"
   ]
  },
  {
   "cell_type": "code",
   "execution_count": null,
   "id": "63b4179b",
   "metadata": {},
   "outputs": [],
   "source": []
  }
 ],
 "metadata": {
  "kernelspec": {
   "display_name": "Python 3 (ipykernel)",
   "language": "python",
   "name": "python3"
  },
  "language_info": {
   "codemirror_mode": {
    "name": "ipython",
    "version": 3
   },
   "file_extension": ".py",
   "mimetype": "text/x-python",
   "name": "python",
   "nbconvert_exporter": "python",
   "pygments_lexer": "ipython3",
   "version": "3.9.12"
  }
 },
 "nbformat": 4,
 "nbformat_minor": 5
}
