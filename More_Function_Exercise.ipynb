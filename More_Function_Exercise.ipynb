{
 "cells": [
  {
   "cell_type": "markdown",
   "id": "6d1d5c18",
   "metadata": {},
   "source": [
    "1. Write a function to calculate the multiplication and sum of two numbers."
   ]
  },
  {
   "cell_type": "code",
   "execution_count": 49,
   "id": "43042303",
   "metadata": {},
   "outputs": [
    {
     "name": "stdout",
     "output_type": "stream",
     "text": [
      "The product of the two numbers is  6 ,The sum of the two numbers is  5\n"
     ]
    }
   ],
   "source": [
    "def Basic_Calc(a,b):\n",
    "    Mult = a * b\n",
    "    Sum = a + b\n",
    "    print('The product of the two numbers is ',Mult,',The sum of the two numbers is ',Sum)\n",
    "Basic_Calc(2,3)"
   ]
  },
  {
   "cell_type": "markdown",
   "id": "99238fd0",
   "metadata": {},
   "source": [
    "2. Write a function to print the sum of the current number and the previous number"
   ]
  },
  {
   "cell_type": "code",
   "execution_count": 54,
   "id": "0d9aaea4",
   "metadata": {
    "scrolled": true
   },
   "outputs": [
    {
     "name": "stdout",
     "output_type": "stream",
     "text": [
      "\n",
      "0\n",
      "1\n",
      "3\n",
      "5\n",
      "7\n",
      "9\n",
      "11\n",
      "13\n",
      "15\n",
      "17\n"
     ]
    }
   ],
   "source": [
    "def sumno(num):\n",
    "    previous = 0\n",
    "    for i in range(num):\n",
    "        sum = previous + i\n",
    "        print(sum)\n",
    "        previous = i\n",
    "print()\n",
    "sumno(10)"
   ]
  },
  {
   "cell_type": "code",
   "execution_count": 34,
   "id": "16ca7be2",
   "metadata": {},
   "outputs": [
    {
     "name": "stdout",
     "output_type": "stream",
     "text": [
      "Current  1 Previous  0  the sum = 1\n",
      "Current  2 Previous  1  the sum = 3\n",
      "Current  3 Previous  2  the sum = 5\n"
     ]
    }
   ],
   "source": [
    "previous_num = 0\n",
    "def SumofNum(previous_num):\n",
    "    for i in range(1, 4):\n",
    "        sum_num = previous_num + i\n",
    "        print(\"Current \", i, \"Previous \", previous_num, \" the sum =\",sum_num)\n",
    "        previous_num = i\n",
    "SumofNum(previous_num)"
   ]
  },
  {
   "cell_type": "code",
   "execution_count": 67,
   "id": "5c000d45",
   "metadata": {},
   "outputs": [
    {
     "name": "stdout",
     "output_type": "stream",
     "text": [
      "the previous num 5\n",
      "Sum of the previous and current is  15\n",
      "Sum of the previous and current is  25\n",
      "Sum of the previous and current is  35\n",
      "Sum of the previous and current is  45\n",
      "Sum of the previous and current is  55\n",
      "Sum of the previous and current is  60\n"
     ]
    }
   ],
   "source": [
    "numbers = [5, 10, 15, 20, 25, 30, 30]\n",
    "for i in range(len(numbers)):\n",
    "    if i == 0:\n",
    "        print('the previous num',numbers[i])\n",
    "    else:\n",
    "        print('Sum of the previous and current is ',numbers[i - 1] + numbers[i])"
   ]
  },
  {
   "cell_type": "markdown",
   "id": "4b833753",
   "metadata": {},
   "source": [
    "3. Write a function to print characters from a string that are present at an even index number"
   ]
  },
  {
   "cell_type": "code",
   "execution_count": 38,
   "id": "e375fa46",
   "metadata": {},
   "outputs": [
    {
     "name": "stdout",
     "output_type": "stream",
     "text": [
      "['M', 'n', 'u', 'a']\n"
     ]
    }
   ],
   "source": [
    "string= 'Monsurat'\n",
    "def Even_index(string):\n",
    "    even=[]\n",
    "    for i in range(len(string)):\n",
    "        if i % 2 == 0:\n",
    "            even.append(string[i])\n",
    "    print (even)\n",
    "Even_index(string)"
   ]
  },
  {
   "cell_type": "markdown",
   "id": "35ce2a27",
   "metadata": {},
   "source": [
    "4. Write a function to rremove first characters from a string"
   ]
  },
  {
   "cell_type": "code",
   "execution_count": 39,
   "id": "090cf3c8",
   "metadata": {},
   "outputs": [
    {
     "name": "stdout",
     "output_type": "stream",
     "text": [
      "Tosin\n"
     ]
    }
   ],
   "source": [
    "string = 'TTosin'\n",
    "def Remove_Char(string):\n",
    "    print(string[1:])\n",
    "Remove_Char(string)"
   ]
  },
  {
   "cell_type": "markdown",
   "id": "fbbd66a6",
   "metadata": {},
   "source": [
    "5. Write a function to check if the first and last number of a list is the same"
   ]
  },
  {
   "cell_type": "code",
   "execution_count": 8,
   "id": "73aef3b1",
   "metadata": {},
   "outputs": [
    {
     "name": "stdout",
     "output_type": "stream",
     "text": [
      "False\n"
     ]
    }
   ],
   "source": [
    "lists=[23,24,25,36,27,25]\n",
    "def Check_if_Equals(lists):\n",
    "    if lists[0]==lists[-1]:\n",
    "        print (True)\n",
    "    else:\n",
    "        print (False)\n",
    "Check_if_Equals(lists)"
   ]
  },
  {
   "cell_type": "markdown",
   "id": "731c3f73",
   "metadata": {},
   "source": [
    "6. Write a function to print multiplication table from 1 to 10"
   ]
  },
  {
   "cell_type": "code",
   "execution_count": 62,
   "id": "c9703ec1",
   "metadata": {
    "scrolled": true
   },
   "outputs": [
    {
     "name": "stdout",
     "output_type": "stream",
     "text": [
      "1 x 1 = 1 \t 1 x 2 = 2 \t 1 x 3 = 3 \t 1 x 4 = 4 \t 1 x 5 = 5 \t 1 x 6 = 6 \t 1 x 7 = 7 \t 1 x 8 = 8 \t 1 x 9 = 9 \t 1 x 10 = 10 \t 1 x 11 = 11 \t 1 x 12 = 12 \t 2 x 1 = 2 \t 2 x 2 = 4 \t 2 x 3 = 6 \t 2 x 4 = 8 \t 2 x 5 = 10 \t 2 x 6 = 12 \t 2 x 7 = 14 \t 2 x 8 = 16 \t 2 x 9 = 18 \t 2 x 10 = 20 \t 2 x 11 = 22 \t 2 x 12 = 24 \t 3 x 1 = 3 \t 3 x 2 = 6 \t 3 x 3 = 9 \t 3 x 4 = 12 \t 3 x 5 = 15 \t 3 x 6 = 18 \t 3 x 7 = 21 \t 3 x 8 = 24 \t 3 x 9 = 27 \t 3 x 10 = 30 \t 3 x 11 = 33 \t 3 x 12 = 36 \t 4 x 1 = 4 \t 4 x 2 = 8 \t 4 x 3 = 12 \t 4 x 4 = 16 \t 4 x 5 = 20 \t 4 x 6 = 24 \t 4 x 7 = 28 \t 4 x 8 = 32 \t 4 x 9 = 36 \t 4 x 10 = 40 \t 4 x 11 = 44 \t 4 x 12 = 48 \t 5 x 1 = 5 \t 5 x 2 = 10 \t 5 x 3 = 15 \t 5 x 4 = 20 \t 5 x 5 = 25 \t 5 x 6 = 30 \t 5 x 7 = 35 \t 5 x 8 = 40 \t 5 x 9 = 45 \t 5 x 10 = 50 \t 5 x 11 = 55 \t 5 x 12 = 60 \t 6 x 1 = 6 \t 6 x 2 = 12 \t 6 x 3 = 18 \t 6 x 4 = 24 \t 6 x 5 = 30 \t 6 x 6 = 36 \t 6 x 7 = 42 \t 6 x 8 = 48 \t 6 x 9 = 54 \t 6 x 10 = 60 \t 6 x 11 = 66 \t 6 x 12 = 72 \t 7 x 1 = 7 \t 7 x 2 = 14 \t 7 x 3 = 21 \t 7 x 4 = 28 \t 7 x 5 = 35 \t 7 x 6 = 42 \t 7 x 7 = 49 \t 7 x 8 = 56 \t 7 x 9 = 63 \t 7 x 10 = 70 \t 7 x 11 = 77 \t 7 x 12 = 84 \t 8 x 1 = 8 \t 8 x 2 = 16 \t 8 x 3 = 24 \t 8 x 4 = 32 \t 8 x 5 = 40 \t 8 x 6 = 48 \t 8 x 7 = 56 \t 8 x 8 = 64 \t 8 x 9 = 72 \t 8 x 10 = 80 \t 8 x 11 = 88 \t 8 x 12 = 96 \t 9 x 1 = 9 \t 9 x 2 = 18 \t 9 x 3 = 27 \t 9 x 4 = 36 \t 9 x 5 = 45 \t 9 x 6 = 54 \t 9 x 7 = 63 \t 9 x 8 = 72 \t 9 x 9 = 81 \t 9 x 10 = 90 \t 9 x 11 = 99 \t 9 x 12 = 108 \t 10 x 1 = 10 \t 10 x 2 = 20 \t 10 x 3 = 30 \t 10 x 4 = 40 \t 10 x 5 = 50 \t 10 x 6 = 60 \t 10 x 7 = 70 \t 10 x 8 = 80 \t 10 x 9 = 90 \t 10 x 10 = 100 \t 10 x 11 = 110 \t 10 x 12 = 120 \t 11 x 1 = 11 \t 11 x 2 = 22 \t 11 x 3 = 33 \t 11 x 4 = 44 \t 11 x 5 = 55 \t 11 x 6 = 66 \t 11 x 7 = 77 \t 11 x 8 = 88 \t 11 x 9 = 99 \t 11 x 10 = 110 \t 11 x 11 = 121 \t 11 x 12 = 132 \t 12 x 1 = 12 \t 12 x 2 = 24 \t 12 x 3 = 36 \t 12 x 4 = 48 \t 12 x 5 = 60 \t 12 x 6 = 72 \t 12 x 7 = 84 \t 12 x 8 = 96 \t 12 x 9 = 108 \t 12 x 10 = 120 \t 12 x 11 = 132 \t 12 x 12 = 144 \t "
     ]
    }
   ],
   "source": [
    "#num=[1,2,3,4,5,6,7,8,9,10,11]\n",
    "def Mul_Table(num):\n",
    "    for i in range(1,num+1):\n",
    "        for p in range(1,num+1):\n",
    "            print(i,'x',p,'=',i*p,'\\t')\n",
    "            end=' '\n",
    "Mul_Table(12)"
   ]
  },
  {
   "cell_type": "markdown",
   "id": "389424b5",
   "metadata": {},
   "source": [
    "#### 7. Given a two list of numbers, write a function to create a new list such that the new\n",
    "####     list should contain odd numbers from the first list and even numbers from the second list."
   ]
  },
  {
   "cell_type": "code",
   "execution_count": 31,
   "id": "0a4b53e7",
   "metadata": {},
   "outputs": [
    {
     "data": {
      "text/plain": [
       "[1, 3, 5, 2, 8, 10]"
      ]
     },
     "execution_count": 31,
     "metadata": {},
     "output_type": "execute_result"
    }
   ],
   "source": [
    "List_1=[]\n",
    "List_2=[]\n",
    "def New_list(List_1,List_2):\n",
    "    Output_List=[]\n",
    "    for i in List_1:\n",
    "        if i % 2 != 0:\n",
    "            Output_List.append(i)\n",
    "    for i in List_2:\n",
    "        if i % 2 == 0:\n",
    "            Output_List.append(i)\n",
    "    return Output_List\n",
    "New_list([1,2,3,4,5],[2,7,8,9,10])"
   ]
  },
  {
   "cell_type": "code",
   "execution_count": null,
   "id": "133c25c5",
   "metadata": {},
   "outputs": [],
   "source": []
  }
 ],
 "metadata": {
  "kernelspec": {
   "display_name": "Python 3 (ipykernel)",
   "language": "python",
   "name": "python3"
  },
  "language_info": {
   "codemirror_mode": {
    "name": "ipython",
    "version": 3
   },
   "file_extension": ".py",
   "mimetype": "text/x-python",
   "name": "python",
   "nbconvert_exporter": "python",
   "pygments_lexer": "ipython3",
   "version": "3.9.12"
  }
 },
 "nbformat": 4,
 "nbformat_minor": 5
}
