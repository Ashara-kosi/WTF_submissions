{
 "cells": [
  {
   "cell_type": "code",
   "execution_count": 34,
   "id": "60eb2141",
   "metadata": {},
   "outputs": [
    {
     "name": "stdout",
     "output_type": "stream",
     "text": [
      "0 EVEN\n",
      "2 EVEN\n",
      "4 EVEN\n",
      "5 ODD\n"
     ]
    }
   ],
   "source": [
    "#1. Write a function called showNumbers that takes a parameter called limit. It should print the numbers between 0 and limit with a label to identify the even and odd numbers.For example, if the limit is 3, it should print:0 EVEN 1 ODD 2 EVEN 3 ODD\n",
    "def showNumbers(limit):\n",
    "    for i in range(0, limit+1):\n",
    "        if i % 2 == 0:\n",
    "            print(i, 'EVEN')\n",
    "    else:\n",
    "                print(i, 'ODD')\n",
    "                end = ' '\n",
    "            \n",
    "showNumbers(5)\n",
    "        "
   ]
  },
  {
   "cell_type": "code",
   "execution_count": 36,
   "id": "17cc3970",
   "metadata": {},
   "outputs": [
    {
     "name": "stdout",
     "output_type": "stream",
     "text": [
      "23\n"
     ]
    }
   ],
   "source": [
    "#2. Write a function that returns the sum of multiples of 3 and 5 between 0 and limit (parameter). For example, if limit is 20, it should return the sum of 3, 5, 6, 9, 10,12, 15, 18, 20.\n",
    "\n",
    "def sum1(n):\n",
    "\n",
    "  n = 0\n",
    "\n",
    "  for i in range(1,10):\n",
    "\n",
    "     if not i % 5 or not i % 3:\n",
    "\n",
    "         n = n + i\n",
    "\n",
    "  print(n)\n",
    "\n",
    "  \n",
    "\n",
    "sum1(n)"
   ]
  },
  {
   "cell_type": "code",
   "execution_count": 38,
   "id": "d7576d04",
   "metadata": {},
   "outputs": [
    {
     "name": "stdout",
     "output_type": "stream",
     "text": [
      "Enter the number of rows: 5\n",
      "*\n",
      "**\n",
      "***\n",
      "****\n",
      "*****\n"
     ]
    }
   ],
   "source": [
    "#3. Write a function called show_stars(rows). If rows is 5, it should print the following:***************\n",
    "def show_stars(count):\n",
    "    for i in range(1, count+1):\n",
    "        print('*' * i)\n",
    "\n",
    "n=int(input(\"Enter the number of rows: \"))\n",
    "show_stars(n)"
   ]
  },
  {
   "cell_type": "code",
   "execution_count": 27,
   "id": "3b295fd4",
   "metadata": {},
   "outputs": [
    {
     "name": "stdout",
     "output_type": "stream",
     "text": [
      "Please input a number: 10\n",
      "2  is a prime number\n",
      "3  is a prime number\n",
      "5  is a prime number\n",
      "7  is a prime number\n"
     ]
    }
   ],
   "source": [
    "#4. Write a function that prints all the prime numbers between 0 and limit where limit is a parameter.\n",
    "def prime_number (limit):\n",
    "    for number in range(0, limit+1):\n",
    "        if number > 1:\n",
    "            for i in range(2, number):\n",
    "                if number % i ==0:\n",
    "                    break\n",
    "            else:\n",
    "                print (number, ' is a prime number')\n",
    "\n",
    "\n",
    "\n",
    "limit= int(input('Please input a number: '))\n",
    "prime_number(limit)"
   ]
  },
  {
   "cell_type": "code",
   "execution_count": 39,
   "id": "e0e0d1eb",
   "metadata": {},
   "outputs": [
    {
     "data": {
      "text/plain": [
       "{2, 3, 4, 5, 7}"
      ]
     },
     "execution_count": 39,
     "metadata": {},
     "output_type": "execute_result"
    }
   ],
   "source": [
    "#5.Write a program (function!) that takes a list and returns a new list that contains all the elements of the first list minus all the duplicates.\n",
    "\n",
    "def unique_list(list):\n",
    "    new_list= []\n",
    "    for items in list:\n",
    "        if items not in new_list:\n",
    "            new_list.append(items)\n",
    "    return set(new_list)\n",
    "unique_list([2,3,4,5,2,3,4,5,7])"
   ]
  },
  {
   "cell_type": "code",
   "execution_count": 43,
   "id": "2f9e32c8",
   "metadata": {},
   "outputs": [
    {
     "name": "stdout",
     "output_type": "stream",
     "text": [
      "Please input number 20\n",
      "20  is not a prime number\n"
     ]
    }
   ],
   "source": [
    "#6. Write a function to ask the user for a number and determine whether the number is prime or not.\n",
    "def prime(n):\n",
    "    if n > 1:\n",
    "        for i in range(2, n):\n",
    "            if (n%i) == 0:\n",
    "                print(n, ' is not a prime number')\n",
    "                break\n",
    "            else:\n",
    "                print(n, 'is a prime number' )\n",
    "\n",
    "\n",
    "\n",
    "n= int(input('Please input number '))\n",
    "prime(n)"
   ]
  },
  {
   "cell_type": "code",
   "execution_count": 44,
   "id": "c4c1d55b",
   "metadata": {},
   "outputs": [
    {
     "name": "stdout",
     "output_type": "stream",
     "text": [
      "How many Fibonacci numbers should I generate 10\n",
      "The first 10 Fibonacci numbers are: [1, 1, 2, 3, 5, 8, 13, 21, 34, 55]\n"
     ]
    }
   ],
   "source": [
    "#7. Write a program that asks the user how many Fibonnaci numbers to generate and then generates them.\n",
    "\n",
    "def fib(a,b):\n",
    "    return a + b\n",
    "number = int(input('How many Fibonacci numbers should I generate '))\n",
    "\n",
    "\n",
    "\n",
    "fibonacci_list =[]\n",
    "for n in range(number):\n",
    "    if n in [0,1]:\n",
    "        fibonacci_list += [1]\n",
    "    else:\n",
    "        fibonacci_list += [fib(fibonacci_list[n-2], fibonacci_list[n-1])]\n",
    "print('The first', number, 'Fibonacci numbers are:', fibonacci_list)"
   ]
  },
  {
   "cell_type": "code",
   "execution_count": 46,
   "id": "d410f7c8",
   "metadata": {},
   "outputs": [
    {
     "name": "stdout",
     "output_type": "stream",
     "text": [
      "please input your string Bulb\n",
      "Bulb  is not a palindrome\n"
     ]
    }
   ],
   "source": [
    "#8. Write a function that ask the user for a string and print out whether this string is a palindrome or not.\n",
    "def pal(x):\n",
    "    if x[::1] == x[::-1]:\n",
    "        print(x, ' is a palindrome')\n",
    "    else:\n",
    "        print(x, ' is not a palindrome')\n",
    "        \n",
    "string= str(input('please input your string '))\n",
    "pal(string)"
   ]
  },
  {
   "cell_type": "code",
   "execution_count": 49,
   "id": "44d53f44",
   "metadata": {},
   "outputs": [
    {
     "name": "stdout",
     "output_type": "stream",
     "text": [
      "Please input your number 12\n",
      "False\n"
     ]
    }
   ],
   "source": [
    "#9. Write a function that takes an ordered list of numbers (a list where the elements are in order from smallest to largest) and another number\n",
    "def order(x):\n",
    "    my_list= [1, 2, 3, 4, 5, 6]\n",
    "    if x in my_list:\n",
    "        print ('True')\n",
    "    else:\n",
    "        print('False')\n",
    "x=int(input('Please input your number '))\n",
    "            \n",
    "order(x)"
   ]
  },
  {
   "cell_type": "code",
   "execution_count": 66,
   "id": "e775e4a7",
   "metadata": {},
   "outputs": [
    {
     "name": "stdout",
     "output_type": "stream",
     "text": [
      "Enter your name: Matilda\n",
      "Enter your age: 30\n",
      "Matilda will turn 100 in 2092\n"
     ]
    }
   ],
   "source": [
    "#10. Create a program that asks the user to enter their name and their age. Print out a message addressed to them that tells them the year that they will turn 100 years old\n",
    "\n",
    "import datetime\n",
    "Name = input('Enter your name: ')\n",
    "Age = int(input('Enter your age: '))\n",
    "print(Name+ ' will turn 100 in ' +str(datetime.datetime. today().year - Age +100))"
   ]
  },
  {
   "cell_type": "code",
   "execution_count": null,
   "id": "b14e6a0e",
   "metadata": {},
   "outputs": [],
   "source": []
  }
 ],
 "metadata": {
  "kernelspec": {
   "display_name": "Python 3 (ipykernel)",
   "language": "python",
   "name": "python3"
  },
  "language_info": {
   "codemirror_mode": {
    "name": "ipython",
    "version": 3
   },
   "file_extension": ".py",
   "mimetype": "text/x-python",
   "name": "python",
   "nbconvert_exporter": "python",
   "pygments_lexer": "ipython3",
   "version": "3.9.12"
  }
 },
 "nbformat": 4,
 "nbformat_minor": 5
}
