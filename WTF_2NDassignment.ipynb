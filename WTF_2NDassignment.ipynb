{
  "cells": [
    {
      "cell_type": "markdown",
      "metadata": {
        "id": "view-in-github",
        "colab_type": "text"
      },
      "source": [
        "<a href=\"https://colab.research.google.com/github/viviansharp/WTF_submissions/blob/main/WTF_2NDassignment.ipynb\" target=\"_parent\"><img src=\"https://colab.research.google.com/assets/colab-badge.svg\" alt=\"Open In Colab\"/></a>"
      ]
    },
    {
      "cell_type": "markdown",
      "metadata": {
        "id": "3vndcA34zo4A"
      },
      "source": [
        "1) Write a function called showNumbers that takes a parameter called limit. It should print\n",
        "all the numbers between 0 and limit with a label to identify the even and odd numbers.\n"
      ]
    },
    {
      "cell_type": "code",
      "execution_count": null,
      "metadata": {
        "colab": {
          "base_uri": "https://localhost:8080/"
        },
        "id": "uijEiOMftFEk",
        "outputId": "fa6dd8f1-e9c1-410a-8d04-d3790a5cd2a5"
      },
      "outputs": [
        {
          "name": "stdout",
          "output_type": "stream",
          "text": [
            "EVEN\n",
            "EVEN\n",
            "EVEN\n",
            "EVEN\n",
            "EVEN\n",
            "EVEN\n",
            "EVEN\n",
            "EVEN\n",
            "EVEN\n",
            "EVEN\n",
            "EVEN\n",
            "ODD\n"
          ]
        }
      ],
      "source": [
        "def showNumbers(limit):\n",
        "    for i in range(0,limit+1):\n",
        "        if i%2==0:\n",
        "            print(\"EVEN\")\n",
        "    else:\n",
        "            print(\"ODD\")\n",
        "\n",
        "showNumbers(20)"
      ]
    },
    {
      "cell_type": "markdown",
      "metadata": {
        "id": "DtctoUj_z1Dv"
      },
      "source": [
        "2. Write a function that returns the sum of multiples of 3 and 5 between 0\n",
        "and limit (parameter). For example, if limit is 20, it should return the sum of 3, 5, 6, 9, 10,\n",
        "12, 15, 18, 20.\n"
      ]
    },
    {
      "cell_type": "code",
      "execution_count": null,
      "metadata": {
        "colab": {
          "base_uri": "https://localhost:8080/"
        },
        "id": "GG2vm2PyywM5",
        "outputId": "7736e02d-687f-4719-d660-5cfc246e971f"
      },
      "outputs": [
        {
          "name": "stdout",
          "output_type": "stream",
          "text": [
            "<built-in function sum>\n"
          ]
        }
      ],
      "source": [
        "def num(limit):\n",
        "    sum = 0\n",
        "    for i in range(0,limit+1):\n",
        "        if i%3==0 or i%5==0:\n",
        "           sum +=i\n",
        "\n",
        "num=20\n",
        "print(sum)"
      ]
    },
    {
      "cell_type": "markdown",
      "metadata": {
        "id": "Zivm5bUU0oVc"
      },
      "source": [
        "3. Write a function called show_stars(rows). If rows is 5, it should print the\n",
        "following:**************"
      ]
    },
    {
      "cell_type": "code",
      "execution_count": null,
      "metadata": {
        "colab": {
          "base_uri": "https://localhost:8080/"
        },
        "id": "OGZD5nQn1wBa",
        "outputId": "a289b9a8-f998-4cfb-ba6e-017b83241e25"
      },
      "outputs": [
        {
          "name": "stdout",
          "output_type": "stream",
          "text": [
            "*\n",
            "**\n",
            "***\n",
            "****\n",
            "*****\n"
          ]
        }
      ],
      "source": [
        "def show_stars(rows):\n",
        "    for I in range(1,rows+1):\n",
        "        print(\"*\" * I)\n",
        "\n",
        "show_stars(5)"
      ]
    },
    {
      "cell_type": "code",
      "execution_count": null,
      "metadata": {
        "colab": {
          "base_uri": "https://localhost:8080/"
        },
        "id": "UFJV4cGe0vnD",
        "outputId": "c2504a77-71a8-49df-9d98-1b1d337f8098"
      },
      "outputs": [
        {
          "name": "stdout",
          "output_type": "stream",
          "text": [
            "\n",
            "\n",
            "***************"
          ]
        }
      ],
      "source": [
        "def show_stars(rows):\n",
        "    for i in range(0,rows+1):\n",
        "            for j in range(0,i):\n",
        "                 print(\"*\", end = \"\")\n",
        "print(\"\\n\")\n",
        "show_stars(5)"
      ]
    },
    {
      "cell_type": "markdown",
      "metadata": {
        "id": "S3tXF3hA1W-w"
      },
      "source": [
        "4.Write a function that prints all the prime numbers between 0 and limit where limit is a\n",
        "parameter."
      ]
    },
    {
      "cell_type": "code",
      "execution_count": null,
      "metadata": {
        "colab": {
          "background_save": true,
          "base_uri": "https://localhost:8080/",
          "height": 130
        },
        "id": "_NXc07D61iNN",
        "outputId": "4c21536d-d5a3-40a1-b0a4-ff832846fe6a"
      },
      "outputs": [
        {
          "ename": "IndentationError",
          "evalue": "ignored",
          "output_type": "error",
          "traceback": [
            "\u001b[0;36m  File \u001b[0;32m\"<tokenize>\"\u001b[0;36m, line \u001b[0;32m7\u001b[0m\n\u001b[0;31m    break\u001b[0m\n\u001b[0m    ^\u001b[0m\n\u001b[0;31mIndentationError\u001b[0m\u001b[0;31m:\u001b[0m unindent does not match any outer indentation level\n"
          ]
        }
      ],
      "source": [
        "def prime(num):\n",
        "    if num==1 or num==0:\n",
        "        print(num,\"is neither prime or composite\")\n",
        "    for i in range(2,num+1):\n",
        "        if num%i==0:\n",
        "           print(num,\"is not a prime number\")\n",
        "  break\n",
        "        else:\n",
        "               print(num,\"is a prime number\")\n",
        "break"
      ]
    }
  ],
  "metadata": {
    "colab": {
      "provenance": [],
      "authorship_tag": "ABX9TyM199fG6XYKQcQ/uIr3Y97N",
      "include_colab_link": true
    },
    "kernelspec": {
      "display_name": "Python 3",
      "name": "python3"
    },
    "language_info": {
      "name": "python"
    }
  },
  "nbformat": 4,
  "nbformat_minor": 0
}