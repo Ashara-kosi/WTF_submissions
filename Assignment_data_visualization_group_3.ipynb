{
 "cells": [
  {
   "cell_type": "markdown",
   "id": "6d23dc21",
   "metadata": {},
   "source": [
    "# GROUP 3  ASSIGNMENT \n",
    "\n",
    "\n",
    "1. Matilda Savage\n",
    "2. Nkechiyere Ariom\n",
    "3. Oluwabukunmi Falohun\n",
    "4. Odunayo Abogunrin\n",
    "5. Oghenetega John\n",
    "6. Kasham Bature\n",
    "7. Maureen Muomah\n",
    "8. Odinaka Ojiba\n",
    "\n",
    "\n"
   ]
  },
  {
   "cell_type": "code",
   "execution_count": 24,
   "id": "956fbf9e",
   "metadata": {
    "id": "956fbf9e"
   },
   "outputs": [],
   "source": [
    "# importing the needed libraries\n",
    "import pandas as pd\n",
    "import matplotlib.pyplot as plt\n",
    "import seaborn as sns"
   ]
  },
  {
   "cell_type": "code",
   "execution_count": 25,
   "id": "36514ba9",
   "metadata": {
    "colab": {
     "base_uri": "https://localhost:8080/",
     "height": 424
    },
    "id": "36514ba9",
    "outputId": "2680befe-28e0-40d5-c319-58f8a03ba2df"
   },
   "outputs": [
    {
     "data": {
      "text/html": [
       "<div>\n",
       "<style scoped>\n",
       "    .dataframe tbody tr th:only-of-type {\n",
       "        vertical-align: middle;\n",
       "    }\n",
       "\n",
       "    .dataframe tbody tr th {\n",
       "        vertical-align: top;\n",
       "    }\n",
       "\n",
       "    .dataframe thead th {\n",
       "        text-align: right;\n",
       "    }\n",
       "</style>\n",
       "<table border=\"1\" class=\"dataframe\">\n",
       "  <thead>\n",
       "    <tr style=\"text-align: right;\">\n",
       "      <th></th>\n",
       "      <th>show_id</th>\n",
       "      <th>type</th>\n",
       "      <th>title</th>\n",
       "      <th>director</th>\n",
       "      <th>cast</th>\n",
       "      <th>country</th>\n",
       "      <th>date_added</th>\n",
       "      <th>release_year</th>\n",
       "      <th>rating</th>\n",
       "      <th>duration</th>\n",
       "      <th>listed_in</th>\n",
       "      <th>description</th>\n",
       "    </tr>\n",
       "  </thead>\n",
       "  <tbody>\n",
       "    <tr>\n",
       "      <th>0</th>\n",
       "      <td>s1</td>\n",
       "      <td>Movie</td>\n",
       "      <td>Dick Johnson Is Dead</td>\n",
       "      <td>Kirsten Johnson</td>\n",
       "      <td>NaN</td>\n",
       "      <td>United States</td>\n",
       "      <td>September 25, 2021</td>\n",
       "      <td>2020</td>\n",
       "      <td>PG-13</td>\n",
       "      <td>90 min</td>\n",
       "      <td>Documentaries</td>\n",
       "      <td>As her father nears the end of his life, filmm...</td>\n",
       "    </tr>\n",
       "    <tr>\n",
       "      <th>1</th>\n",
       "      <td>s2</td>\n",
       "      <td>TV Show</td>\n",
       "      <td>Blood &amp; Water</td>\n",
       "      <td>NaN</td>\n",
       "      <td>Ama Qamata, Khosi Ngema, Gail Mabalane, Thaban...</td>\n",
       "      <td>South Africa</td>\n",
       "      <td>September 24, 2021</td>\n",
       "      <td>2021</td>\n",
       "      <td>TV-MA</td>\n",
       "      <td>2 Seasons</td>\n",
       "      <td>International TV Shows, TV Dramas, TV Mysteries</td>\n",
       "      <td>After crossing paths at a party, a Cape Town t...</td>\n",
       "    </tr>\n",
       "    <tr>\n",
       "      <th>2</th>\n",
       "      <td>s3</td>\n",
       "      <td>TV Show</td>\n",
       "      <td>Ganglands</td>\n",
       "      <td>Julien Leclercq</td>\n",
       "      <td>Sami Bouajila, Tracy Gotoas, Samuel Jouy, Nabi...</td>\n",
       "      <td>NaN</td>\n",
       "      <td>September 24, 2021</td>\n",
       "      <td>2021</td>\n",
       "      <td>TV-MA</td>\n",
       "      <td>1 Season</td>\n",
       "      <td>Crime TV Shows, International TV Shows, TV Act...</td>\n",
       "      <td>To protect his family from a powerful drug lor...</td>\n",
       "    </tr>\n",
       "    <tr>\n",
       "      <th>3</th>\n",
       "      <td>s4</td>\n",
       "      <td>TV Show</td>\n",
       "      <td>Jailbirds New Orleans</td>\n",
       "      <td>NaN</td>\n",
       "      <td>NaN</td>\n",
       "      <td>NaN</td>\n",
       "      <td>September 24, 2021</td>\n",
       "      <td>2021</td>\n",
       "      <td>TV-MA</td>\n",
       "      <td>1 Season</td>\n",
       "      <td>Docuseries, Reality TV</td>\n",
       "      <td>Feuds, flirtations and toilet talk go down amo...</td>\n",
       "    </tr>\n",
       "    <tr>\n",
       "      <th>4</th>\n",
       "      <td>s5</td>\n",
       "      <td>TV Show</td>\n",
       "      <td>Kota Factory</td>\n",
       "      <td>NaN</td>\n",
       "      <td>Mayur More, Jitendra Kumar, Ranjan Raj, Alam K...</td>\n",
       "      <td>India</td>\n",
       "      <td>September 24, 2021</td>\n",
       "      <td>2021</td>\n",
       "      <td>TV-MA</td>\n",
       "      <td>2 Seasons</td>\n",
       "      <td>International TV Shows, Romantic TV Shows, TV ...</td>\n",
       "      <td>In a city of coaching centers known to train I...</td>\n",
       "    </tr>\n",
       "  </tbody>\n",
       "</table>\n",
       "</div>"
      ],
      "text/plain": [
       "  show_id     type                  title         director  \\\n",
       "0      s1    Movie   Dick Johnson Is Dead  Kirsten Johnson   \n",
       "1      s2  TV Show          Blood & Water              NaN   \n",
       "2      s3  TV Show              Ganglands  Julien Leclercq   \n",
       "3      s4  TV Show  Jailbirds New Orleans              NaN   \n",
       "4      s5  TV Show           Kota Factory              NaN   \n",
       "\n",
       "                                                cast        country  \\\n",
       "0                                                NaN  United States   \n",
       "1  Ama Qamata, Khosi Ngema, Gail Mabalane, Thaban...   South Africa   \n",
       "2  Sami Bouajila, Tracy Gotoas, Samuel Jouy, Nabi...            NaN   \n",
       "3                                                NaN            NaN   \n",
       "4  Mayur More, Jitendra Kumar, Ranjan Raj, Alam K...          India   \n",
       "\n",
       "           date_added  release_year rating   duration  \\\n",
       "0  September 25, 2021          2020  PG-13     90 min   \n",
       "1  September 24, 2021          2021  TV-MA  2 Seasons   \n",
       "2  September 24, 2021          2021  TV-MA   1 Season   \n",
       "3  September 24, 2021          2021  TV-MA   1 Season   \n",
       "4  September 24, 2021          2021  TV-MA  2 Seasons   \n",
       "\n",
       "                                           listed_in  \\\n",
       "0                                      Documentaries   \n",
       "1    International TV Shows, TV Dramas, TV Mysteries   \n",
       "2  Crime TV Shows, International TV Shows, TV Act...   \n",
       "3                             Docuseries, Reality TV   \n",
       "4  International TV Shows, Romantic TV Shows, TV ...   \n",
       "\n",
       "                                         description  \n",
       "0  As her father nears the end of his life, filmm...  \n",
       "1  After crossing paths at a party, a Cape Town t...  \n",
       "2  To protect his family from a powerful drug lor...  \n",
       "3  Feuds, flirtations and toilet talk go down amo...  \n",
       "4  In a city of coaching centers known to train I...  "
      ]
     },
     "execution_count": 25,
     "metadata": {},
     "output_type": "execute_result"
    }
   ],
   "source": [
    "netflix = pd.read_csv('netflix_titles.csv')\n",
    "netflix.head() # Exploring the first few rows of the data"
   ]
  },
  {
   "cell_type": "code",
   "execution_count": 26,
   "id": "d4a759ab",
   "metadata": {
    "colab": {
     "base_uri": "https://localhost:8080/",
     "height": 772
    },
    "id": "d4a759ab",
    "outputId": "a4adc234-d6e1-4ab9-ef33-f20ca0a5a807"
   },
   "outputs": [
    {
     "data": {
      "text/html": [
       "<div>\n",
       "<style scoped>\n",
       "    .dataframe tbody tr th:only-of-type {\n",
       "        vertical-align: middle;\n",
       "    }\n",
       "\n",
       "    .dataframe tbody tr th {\n",
       "        vertical-align: top;\n",
       "    }\n",
       "\n",
       "    .dataframe thead th {\n",
       "        text-align: right;\n",
       "    }\n",
       "</style>\n",
       "<table border=\"1\" class=\"dataframe\">\n",
       "  <thead>\n",
       "    <tr style=\"text-align: right;\">\n",
       "      <th></th>\n",
       "      <th>type</th>\n",
       "      <th>title</th>\n",
       "      <th>director</th>\n",
       "      <th>cast</th>\n",
       "      <th>country</th>\n",
       "      <th>date_added</th>\n",
       "      <th>release_year</th>\n",
       "      <th>rating</th>\n",
       "      <th>duration</th>\n",
       "      <th>listed_in</th>\n",
       "      <th>description</th>\n",
       "    </tr>\n",
       "  </thead>\n",
       "  <tbody>\n",
       "    <tr>\n",
       "      <th>0</th>\n",
       "      <td>Movie</td>\n",
       "      <td>Dick Johnson Is Dead</td>\n",
       "      <td>Kirsten Johnson</td>\n",
       "      <td>NaN</td>\n",
       "      <td>United States</td>\n",
       "      <td>September 25, 2021</td>\n",
       "      <td>2020</td>\n",
       "      <td>PG-13</td>\n",
       "      <td>90 min</td>\n",
       "      <td>Documentaries</td>\n",
       "      <td>As her father nears the end of his life, filmm...</td>\n",
       "    </tr>\n",
       "    <tr>\n",
       "      <th>1</th>\n",
       "      <td>TV Show</td>\n",
       "      <td>Blood &amp; Water</td>\n",
       "      <td>NaN</td>\n",
       "      <td>Ama Qamata, Khosi Ngema, Gail Mabalane, Thaban...</td>\n",
       "      <td>South Africa</td>\n",
       "      <td>September 24, 2021</td>\n",
       "      <td>2021</td>\n",
       "      <td>TV-MA</td>\n",
       "      <td>2 Seasons</td>\n",
       "      <td>International TV Shows, TV Dramas, TV Mysteries</td>\n",
       "      <td>After crossing paths at a party, a Cape Town t...</td>\n",
       "    </tr>\n",
       "    <tr>\n",
       "      <th>2</th>\n",
       "      <td>TV Show</td>\n",
       "      <td>Ganglands</td>\n",
       "      <td>Julien Leclercq</td>\n",
       "      <td>Sami Bouajila, Tracy Gotoas, Samuel Jouy, Nabi...</td>\n",
       "      <td>NaN</td>\n",
       "      <td>September 24, 2021</td>\n",
       "      <td>2021</td>\n",
       "      <td>TV-MA</td>\n",
       "      <td>1 Season</td>\n",
       "      <td>Crime TV Shows, International TV Shows, TV Act...</td>\n",
       "      <td>To protect his family from a powerful drug lor...</td>\n",
       "    </tr>\n",
       "    <tr>\n",
       "      <th>3</th>\n",
       "      <td>TV Show</td>\n",
       "      <td>Jailbirds New Orleans</td>\n",
       "      <td>NaN</td>\n",
       "      <td>NaN</td>\n",
       "      <td>NaN</td>\n",
       "      <td>September 24, 2021</td>\n",
       "      <td>2021</td>\n",
       "      <td>TV-MA</td>\n",
       "      <td>1 Season</td>\n",
       "      <td>Docuseries, Reality TV</td>\n",
       "      <td>Feuds, flirtations and toilet talk go down amo...</td>\n",
       "    </tr>\n",
       "    <tr>\n",
       "      <th>4</th>\n",
       "      <td>TV Show</td>\n",
       "      <td>Kota Factory</td>\n",
       "      <td>NaN</td>\n",
       "      <td>Mayur More, Jitendra Kumar, Ranjan Raj, Alam K...</td>\n",
       "      <td>India</td>\n",
       "      <td>September 24, 2021</td>\n",
       "      <td>2021</td>\n",
       "      <td>TV-MA</td>\n",
       "      <td>2 Seasons</td>\n",
       "      <td>International TV Shows, Romantic TV Shows, TV ...</td>\n",
       "      <td>In a city of coaching centers known to train I...</td>\n",
       "    </tr>\n",
       "    <tr>\n",
       "      <th>5</th>\n",
       "      <td>TV Show</td>\n",
       "      <td>Midnight Mass</td>\n",
       "      <td>Mike Flanagan</td>\n",
       "      <td>Kate Siegel, Zach Gilford, Hamish Linklater, H...</td>\n",
       "      <td>NaN</td>\n",
       "      <td>September 24, 2021</td>\n",
       "      <td>2021</td>\n",
       "      <td>TV-MA</td>\n",
       "      <td>1 Season</td>\n",
       "      <td>TV Dramas, TV Horror, TV Mysteries</td>\n",
       "      <td>The arrival of a charismatic young priest brin...</td>\n",
       "    </tr>\n",
       "    <tr>\n",
       "      <th>6</th>\n",
       "      <td>Movie</td>\n",
       "      <td>My Little Pony: A New Generation</td>\n",
       "      <td>Robert Cullen, José Luis Ucha</td>\n",
       "      <td>Vanessa Hudgens, Kimiko Glenn, James Marsden, ...</td>\n",
       "      <td>NaN</td>\n",
       "      <td>September 24, 2021</td>\n",
       "      <td>2021</td>\n",
       "      <td>PG</td>\n",
       "      <td>91 min</td>\n",
       "      <td>Children &amp; Family Movies</td>\n",
       "      <td>Equestria's divided. But a bright-eyed hero be...</td>\n",
       "    </tr>\n",
       "    <tr>\n",
       "      <th>7</th>\n",
       "      <td>Movie</td>\n",
       "      <td>Sankofa</td>\n",
       "      <td>Haile Gerima</td>\n",
       "      <td>Kofi Ghanaba, Oyafunmike Ogunlano, Alexandra D...</td>\n",
       "      <td>United States, Ghana, Burkina Faso, United Kin...</td>\n",
       "      <td>September 24, 2021</td>\n",
       "      <td>1993</td>\n",
       "      <td>TV-MA</td>\n",
       "      <td>125 min</td>\n",
       "      <td>Dramas, Independent Movies, International Movies</td>\n",
       "      <td>On a photo shoot in Ghana, an American model s...</td>\n",
       "    </tr>\n",
       "    <tr>\n",
       "      <th>8</th>\n",
       "      <td>TV Show</td>\n",
       "      <td>The Great British Baking Show</td>\n",
       "      <td>Andy Devonshire</td>\n",
       "      <td>Mel Giedroyc, Sue Perkins, Mary Berry, Paul Ho...</td>\n",
       "      <td>United Kingdom</td>\n",
       "      <td>September 24, 2021</td>\n",
       "      <td>2021</td>\n",
       "      <td>TV-14</td>\n",
       "      <td>9 Seasons</td>\n",
       "      <td>British TV Shows, Reality TV</td>\n",
       "      <td>A talented batch of amateur bakers face off in...</td>\n",
       "    </tr>\n",
       "    <tr>\n",
       "      <th>9</th>\n",
       "      <td>Movie</td>\n",
       "      <td>The Starling</td>\n",
       "      <td>Theodore Melfi</td>\n",
       "      <td>Melissa McCarthy, Chris O'Dowd, Kevin Kline, T...</td>\n",
       "      <td>United States</td>\n",
       "      <td>September 24, 2021</td>\n",
       "      <td>2021</td>\n",
       "      <td>PG-13</td>\n",
       "      <td>104 min</td>\n",
       "      <td>Comedies, Dramas</td>\n",
       "      <td>A woman adjusting to life after a loss contend...</td>\n",
       "    </tr>\n",
       "  </tbody>\n",
       "</table>\n",
       "</div>"
      ],
      "text/plain": [
       "      type                             title                       director  \\\n",
       "0    Movie              Dick Johnson Is Dead                Kirsten Johnson   \n",
       "1  TV Show                     Blood & Water                            NaN   \n",
       "2  TV Show                         Ganglands                Julien Leclercq   \n",
       "3  TV Show             Jailbirds New Orleans                            NaN   \n",
       "4  TV Show                      Kota Factory                            NaN   \n",
       "5  TV Show                     Midnight Mass                  Mike Flanagan   \n",
       "6    Movie  My Little Pony: A New Generation  Robert Cullen, José Luis Ucha   \n",
       "7    Movie                           Sankofa                   Haile Gerima   \n",
       "8  TV Show     The Great British Baking Show                Andy Devonshire   \n",
       "9    Movie                      The Starling                 Theodore Melfi   \n",
       "\n",
       "                                                cast  \\\n",
       "0                                                NaN   \n",
       "1  Ama Qamata, Khosi Ngema, Gail Mabalane, Thaban...   \n",
       "2  Sami Bouajila, Tracy Gotoas, Samuel Jouy, Nabi...   \n",
       "3                                                NaN   \n",
       "4  Mayur More, Jitendra Kumar, Ranjan Raj, Alam K...   \n",
       "5  Kate Siegel, Zach Gilford, Hamish Linklater, H...   \n",
       "6  Vanessa Hudgens, Kimiko Glenn, James Marsden, ...   \n",
       "7  Kofi Ghanaba, Oyafunmike Ogunlano, Alexandra D...   \n",
       "8  Mel Giedroyc, Sue Perkins, Mary Berry, Paul Ho...   \n",
       "9  Melissa McCarthy, Chris O'Dowd, Kevin Kline, T...   \n",
       "\n",
       "                                             country          date_added  \\\n",
       "0                                      United States  September 25, 2021   \n",
       "1                                       South Africa  September 24, 2021   \n",
       "2                                                NaN  September 24, 2021   \n",
       "3                                                NaN  September 24, 2021   \n",
       "4                                              India  September 24, 2021   \n",
       "5                                                NaN  September 24, 2021   \n",
       "6                                                NaN  September 24, 2021   \n",
       "7  United States, Ghana, Burkina Faso, United Kin...  September 24, 2021   \n",
       "8                                     United Kingdom  September 24, 2021   \n",
       "9                                      United States  September 24, 2021   \n",
       "\n",
       "   release_year rating   duration  \\\n",
       "0          2020  PG-13     90 min   \n",
       "1          2021  TV-MA  2 Seasons   \n",
       "2          2021  TV-MA   1 Season   \n",
       "3          2021  TV-MA   1 Season   \n",
       "4          2021  TV-MA  2 Seasons   \n",
       "5          2021  TV-MA   1 Season   \n",
       "6          2021     PG     91 min   \n",
       "7          1993  TV-MA    125 min   \n",
       "8          2021  TV-14  9 Seasons   \n",
       "9          2021  PG-13    104 min   \n",
       "\n",
       "                                           listed_in  \\\n",
       "0                                      Documentaries   \n",
       "1    International TV Shows, TV Dramas, TV Mysteries   \n",
       "2  Crime TV Shows, International TV Shows, TV Act...   \n",
       "3                             Docuseries, Reality TV   \n",
       "4  International TV Shows, Romantic TV Shows, TV ...   \n",
       "5                 TV Dramas, TV Horror, TV Mysteries   \n",
       "6                           Children & Family Movies   \n",
       "7   Dramas, Independent Movies, International Movies   \n",
       "8                       British TV Shows, Reality TV   \n",
       "9                                   Comedies, Dramas   \n",
       "\n",
       "                                         description  \n",
       "0  As her father nears the end of his life, filmm...  \n",
       "1  After crossing paths at a party, a Cape Town t...  \n",
       "2  To protect his family from a powerful drug lor...  \n",
       "3  Feuds, flirtations and toilet talk go down amo...  \n",
       "4  In a city of coaching centers known to train I...  \n",
       "5  The arrival of a charismatic young priest brin...  \n",
       "6  Equestria's divided. But a bright-eyed hero be...  \n",
       "7  On a photo shoot in Ghana, an American model s...  \n",
       "8  A talented batch of amateur bakers face off in...  \n",
       "9  A woman adjusting to life after a loss contend...  "
      ]
     },
     "execution_count": 26,
     "metadata": {},
     "output_type": "execute_result"
    }
   ],
   "source": [
    "# Dropping the show_id column\n",
    "netflix = netflix.drop(columns=('show_id'))\n",
    "netflix.head(10)"
   ]
  },
  {
   "cell_type": "code",
   "execution_count": 27,
   "id": "9400decc",
   "metadata": {
    "colab": {
     "base_uri": "https://localhost:8080/"
    },
    "id": "9400decc",
    "outputId": "d40f41c9-bdaf-4483-a4bc-c71e5fef072a"
   },
   "outputs": [
    {
     "name": "stdout",
     "output_type": "stream",
     "text": [
      "<class 'pandas.core.frame.DataFrame'>\n",
      "RangeIndex: 8807 entries, 0 to 8806\n",
      "Data columns (total 11 columns):\n",
      " #   Column        Non-Null Count  Dtype \n",
      "---  ------        --------------  ----- \n",
      " 0   type          8807 non-null   object\n",
      " 1   title         8807 non-null   object\n",
      " 2   director      6173 non-null   object\n",
      " 3   cast          7982 non-null   object\n",
      " 4   country       7976 non-null   object\n",
      " 5   date_added    8797 non-null   object\n",
      " 6   release_year  8807 non-null   int64 \n",
      " 7   rating        8803 non-null   object\n",
      " 8   duration      8804 non-null   object\n",
      " 9   listed_in     8807 non-null   object\n",
      " 10  description   8807 non-null   object\n",
      "dtypes: int64(1), object(10)\n",
      "memory usage: 757.0+ KB\n"
     ]
    }
   ],
   "source": [
    "netflix.info() # exploring an overview of the data"
   ]
  },
  {
   "cell_type": "code",
   "execution_count": 28,
   "id": "9b3330df",
   "metadata": {
    "colab": {
     "base_uri": "https://localhost:8080/",
     "height": 300
    },
    "id": "9b3330df",
    "outputId": "038a5e1d-167d-41b0-b181-6f50b17be0e8"
   },
   "outputs": [
    {
     "data": {
      "text/html": [
       "<div>\n",
       "<style scoped>\n",
       "    .dataframe tbody tr th:only-of-type {\n",
       "        vertical-align: middle;\n",
       "    }\n",
       "\n",
       "    .dataframe tbody tr th {\n",
       "        vertical-align: top;\n",
       "    }\n",
       "\n",
       "    .dataframe thead th {\n",
       "        text-align: right;\n",
       "    }\n",
       "</style>\n",
       "<table border=\"1\" class=\"dataframe\">\n",
       "  <thead>\n",
       "    <tr style=\"text-align: right;\">\n",
       "      <th></th>\n",
       "      <th>release_year</th>\n",
       "    </tr>\n",
       "  </thead>\n",
       "  <tbody>\n",
       "    <tr>\n",
       "      <th>count</th>\n",
       "      <td>8807.000000</td>\n",
       "    </tr>\n",
       "    <tr>\n",
       "      <th>mean</th>\n",
       "      <td>2014.180198</td>\n",
       "    </tr>\n",
       "    <tr>\n",
       "      <th>std</th>\n",
       "      <td>8.819312</td>\n",
       "    </tr>\n",
       "    <tr>\n",
       "      <th>min</th>\n",
       "      <td>1925.000000</td>\n",
       "    </tr>\n",
       "    <tr>\n",
       "      <th>25%</th>\n",
       "      <td>2013.000000</td>\n",
       "    </tr>\n",
       "    <tr>\n",
       "      <th>50%</th>\n",
       "      <td>2017.000000</td>\n",
       "    </tr>\n",
       "    <tr>\n",
       "      <th>75%</th>\n",
       "      <td>2019.000000</td>\n",
       "    </tr>\n",
       "    <tr>\n",
       "      <th>max</th>\n",
       "      <td>2021.000000</td>\n",
       "    </tr>\n",
       "  </tbody>\n",
       "</table>\n",
       "</div>"
      ],
      "text/plain": [
       "       release_year\n",
       "count   8807.000000\n",
       "mean    2014.180198\n",
       "std        8.819312\n",
       "min     1925.000000\n",
       "25%     2013.000000\n",
       "50%     2017.000000\n",
       "75%     2019.000000\n",
       "max     2021.000000"
      ]
     },
     "execution_count": 28,
     "metadata": {},
     "output_type": "execute_result"
    }
   ],
   "source": [
    "netflix.describe()"
   ]
  },
  {
   "cell_type": "code",
   "execution_count": 29,
   "id": "71a8d6e0",
   "metadata": {
    "colab": {
     "base_uri": "https://localhost:8080/"
    },
    "id": "71a8d6e0",
    "outputId": "793d2383-3e2f-43b6-f04a-7d837e10a0ca"
   },
   "outputs": [
    {
     "data": {
      "text/plain": [
       "type               0\n",
       "title              0\n",
       "director        2634\n",
       "cast             825\n",
       "country          831\n",
       "date_added        10\n",
       "release_year       0\n",
       "rating             4\n",
       "duration           3\n",
       "listed_in          0\n",
       "description        0\n",
       "dtype: int64"
      ]
     },
     "execution_count": 29,
     "metadata": {},
     "output_type": "execute_result"
    }
   ],
   "source": [
    "netflix.isnull().sum() # examining the missing values in the dataset"
   ]
  },
  {
   "cell_type": "code",
   "execution_count": 30,
   "id": "b4541df7",
   "metadata": {
    "id": "b4541df7"
   },
   "outputs": [],
   "source": [
    "# dropping the few null rows\n",
    "netflix = netflix.dropna(subset=['date_added', 'rating', 'duration'])"
   ]
  },
  {
   "cell_type": "code",
   "execution_count": 31,
   "id": "f05b0b8b",
   "metadata": {
    "id": "f05b0b8b"
   },
   "outputs": [],
   "source": [
    "# filling the null rows in the director column\n",
    "netflix['director'] = netflix['director'].fillna('None Specified')"
   ]
  },
  {
   "cell_type": "code",
   "execution_count": 32,
   "id": "fbfc7d8a",
   "metadata": {
    "id": "fbfc7d8a"
   },
   "outputs": [],
   "source": [
    "netflix['cast'] = netflix['cast'].fillna('Not Listed')"
   ]
  },
  {
   "cell_type": "code",
   "execution_count": 33,
   "id": "9d9e4e49",
   "metadata": {
    "id": "9d9e4e49"
   },
   "outputs": [],
   "source": [
    "netflix['country'] = netflix['country'].fillna('Not Specified')"
   ]
  },
  {
   "cell_type": "code",
   "execution_count": 34,
   "id": "c8b06b18",
   "metadata": {
    "colab": {
     "base_uri": "https://localhost:8080/"
    },
    "id": "c8b06b18",
    "outputId": "19be9cc6-6c7b-42ea-bcf6-408d16d0d161"
   },
   "outputs": [
    {
     "data": {
      "text/plain": [
       "type            0\n",
       "title           0\n",
       "director        0\n",
       "cast            0\n",
       "country         0\n",
       "date_added      0\n",
       "release_year    0\n",
       "rating          0\n",
       "duration        0\n",
       "listed_in       0\n",
       "description     0\n",
       "dtype: int64"
      ]
     },
     "execution_count": 34,
     "metadata": {},
     "output_type": "execute_result"
    }
   ],
   "source": [
    "# Ensuring there are no missing values\n",
    "netflix.isnull().sum()"
   ]
  },
  {
   "cell_type": "code",
   "execution_count": 35,
   "id": "e47489b6",
   "metadata": {
    "id": "e47489b6"
   },
   "outputs": [],
   "source": [
    "# Converting the duration to an interger\n",
    "netflix['duration'] = netflix['duration'].str.strip('min')\n",
    "netflix['duration'] = netflix['duration'].str.strip('Seasons')\n",
    "netflix['duration'] = netflix['duration'].str.strip('Seaso')"
   ]
  },
  {
   "cell_type": "code",
   "execution_count": 36,
   "id": "IVj3ITnlmrbW",
   "metadata": {
    "colab": {
     "base_uri": "https://localhost:8080/"
    },
    "id": "IVj3ITnlmrbW",
    "outputId": "9d43f101-7e9f-4384-cfee-eb5593742242"
   },
   "outputs": [
    {
     "data": {
      "text/plain": [
       "1       1791\n",
       "2        421\n",
       "3        199\n",
       "90       152\n",
       "94       146\n",
       "        ... \n",
       "189        1\n",
       "273        1\n",
       "212        1\n",
       "224        1\n",
       "191        1\n",
       "Name: duration, Length: 210, dtype: int64"
      ]
     },
     "execution_count": 36,
     "metadata": {},
     "output_type": "execute_result"
    }
   ],
   "source": [
    "netflix['duration'].value_counts()"
   ]
  },
  {
   "cell_type": "code",
   "execution_count": 37,
   "id": "d5b92db2",
   "metadata": {
    "id": "d5b92db2"
   },
   "outputs": [],
   "source": [
    "# removing the extra whiite spaces and converting to an integer\n",
    "netflix['duration'] = netflix['duration'].str.strip(' ').astype('int')"
   ]
  },
  {
   "cell_type": "code",
   "execution_count": 38,
   "id": "jhaU-FRTnYSj",
   "metadata": {
    "colab": {
     "base_uri": "https://localhost:8080/",
     "height": 772
    },
    "id": "jhaU-FRTnYSj",
    "outputId": "4d091ac3-7f2d-4e4c-8d33-03240a6caa39"
   },
   "outputs": [
    {
     "data": {
      "text/plain": [
       "1      1791\n",
       "2       421\n",
       "3       199\n",
       "90      152\n",
       "94      146\n",
       "       ... \n",
       "189       1\n",
       "273       1\n",
       "212       1\n",
       "224       1\n",
       "191       1\n",
       "Name: duration, Length: 210, dtype: int64"
      ]
     },
     "execution_count": 38,
     "metadata": {},
     "output_type": "execute_result"
    }
   ],
   "source": [
    "netflix['duration'].value_counts()\n"
   ]
  },
  {
   "cell_type": "code",
   "execution_count": 39,
   "id": "8a1d701f",
   "metadata": {
    "colab": {
     "base_uri": "https://localhost:8080/"
    },
    "id": "8a1d701f",
    "outputId": "8c38eca2-6593-4630-a715-8f3c7790dc8a"
   },
   "outputs": [
    {
     "data": {
      "text/plain": [
       "Movie      6126\n",
       "TV Show    2664\n",
       "Name: type, dtype: int64"
      ]
     },
     "execution_count": 39,
     "metadata": {},
     "output_type": "execute_result"
    }
   ],
   "source": [
    "netflix['type'].value_counts() "
   ]
  },
  {
   "cell_type": "markdown",
   "id": "d1b4fa01",
   "metadata": {
    "id": "d1b4fa01"
   },
   "source": [
    "## Distribution of  Movies and Series"
   ]
  },
  {
   "cell_type": "markdown",
   "id": "8a5f4b46",
   "metadata": {
    "id": "8a5f4b46"
   },
   "source": [
    "## Movie subset"
   ]
  },
  {
   "cell_type": "code",
   "execution_count": 42,
   "id": "7a267923",
   "metadata": {
    "id": "7a267923",
    "outputId": "416dd24a-eab1-47a3-de83-9e4646119dfe"
   },
   "outputs": [
    {
     "data": {
      "text/html": [
       "<div>\n",
       "<style scoped>\n",
       "    .dataframe tbody tr th:only-of-type {\n",
       "        vertical-align: middle;\n",
       "    }\n",
       "\n",
       "    .dataframe tbody tr th {\n",
       "        vertical-align: top;\n",
       "    }\n",
       "\n",
       "    .dataframe thead th {\n",
       "        text-align: right;\n",
       "    }\n",
       "</style>\n",
       "<table border=\"1\" class=\"dataframe\">\n",
       "  <thead>\n",
       "    <tr style=\"text-align: right;\">\n",
       "      <th></th>\n",
       "      <th>type</th>\n",
       "      <th>title</th>\n",
       "      <th>director</th>\n",
       "      <th>cast</th>\n",
       "      <th>country</th>\n",
       "      <th>date_added</th>\n",
       "      <th>release_year</th>\n",
       "      <th>rating</th>\n",
       "      <th>duration</th>\n",
       "      <th>listed_in</th>\n",
       "      <th>description</th>\n",
       "    </tr>\n",
       "  </thead>\n",
       "  <tbody>\n",
       "    <tr>\n",
       "      <th>0</th>\n",
       "      <td>Movie</td>\n",
       "      <td>Dick Johnson Is Dead</td>\n",
       "      <td>Kirsten Johnson</td>\n",
       "      <td>Not Listed</td>\n",
       "      <td>United States</td>\n",
       "      <td>September 25, 2021</td>\n",
       "      <td>2020</td>\n",
       "      <td>PG-13</td>\n",
       "      <td>90</td>\n",
       "      <td>Documentaries</td>\n",
       "      <td>As her father nears the end of his life, filmm...</td>\n",
       "    </tr>\n",
       "    <tr>\n",
       "      <th>6</th>\n",
       "      <td>Movie</td>\n",
       "      <td>My Little Pony: A New Generation</td>\n",
       "      <td>Robert Cullen, José Luis Ucha</td>\n",
       "      <td>Vanessa Hudgens, Kimiko Glenn, James Marsden, ...</td>\n",
       "      <td>Not Specified</td>\n",
       "      <td>September 24, 2021</td>\n",
       "      <td>2021</td>\n",
       "      <td>PG</td>\n",
       "      <td>91</td>\n",
       "      <td>Children &amp; Family Movies</td>\n",
       "      <td>Equestria's divided. But a bright-eyed hero be...</td>\n",
       "    </tr>\n",
       "    <tr>\n",
       "      <th>7</th>\n",
       "      <td>Movie</td>\n",
       "      <td>Sankofa</td>\n",
       "      <td>Haile Gerima</td>\n",
       "      <td>Kofi Ghanaba, Oyafunmike Ogunlano, Alexandra D...</td>\n",
       "      <td>United States, Ghana, Burkina Faso, United Kin...</td>\n",
       "      <td>September 24, 2021</td>\n",
       "      <td>1993</td>\n",
       "      <td>TV-MA</td>\n",
       "      <td>125</td>\n",
       "      <td>Dramas, Independent Movies, International Movies</td>\n",
       "      <td>On a photo shoot in Ghana, an American model s...</td>\n",
       "    </tr>\n",
       "    <tr>\n",
       "      <th>9</th>\n",
       "      <td>Movie</td>\n",
       "      <td>The Starling</td>\n",
       "      <td>Theodore Melfi</td>\n",
       "      <td>Melissa McCarthy, Chris O'Dowd, Kevin Kline, T...</td>\n",
       "      <td>United States</td>\n",
       "      <td>September 24, 2021</td>\n",
       "      <td>2021</td>\n",
       "      <td>PG-13</td>\n",
       "      <td>104</td>\n",
       "      <td>Comedies, Dramas</td>\n",
       "      <td>A woman adjusting to life after a loss contend...</td>\n",
       "    </tr>\n",
       "    <tr>\n",
       "      <th>12</th>\n",
       "      <td>Movie</td>\n",
       "      <td>Je Suis Karl</td>\n",
       "      <td>Christian Schwochow</td>\n",
       "      <td>Luna Wedler, Jannis Niewöhner, Milan Peschel, ...</td>\n",
       "      <td>Germany, Czech Republic</td>\n",
       "      <td>September 23, 2021</td>\n",
       "      <td>2021</td>\n",
       "      <td>TV-MA</td>\n",
       "      <td>127</td>\n",
       "      <td>Dramas, International Movies</td>\n",
       "      <td>After most of her family is murdered in a terr...</td>\n",
       "    </tr>\n",
       "  </tbody>\n",
       "</table>\n",
       "</div>"
      ],
      "text/plain": [
       "     type                             title                       director  \\\n",
       "0   Movie              Dick Johnson Is Dead                Kirsten Johnson   \n",
       "6   Movie  My Little Pony: A New Generation  Robert Cullen, José Luis Ucha   \n",
       "7   Movie                           Sankofa                   Haile Gerima   \n",
       "9   Movie                      The Starling                 Theodore Melfi   \n",
       "12  Movie                      Je Suis Karl            Christian Schwochow   \n",
       "\n",
       "                                                 cast  \\\n",
       "0                                          Not Listed   \n",
       "6   Vanessa Hudgens, Kimiko Glenn, James Marsden, ...   \n",
       "7   Kofi Ghanaba, Oyafunmike Ogunlano, Alexandra D...   \n",
       "9   Melissa McCarthy, Chris O'Dowd, Kevin Kline, T...   \n",
       "12  Luna Wedler, Jannis Niewöhner, Milan Peschel, ...   \n",
       "\n",
       "                                              country          date_added  \\\n",
       "0                                       United States  September 25, 2021   \n",
       "6                                       Not Specified  September 24, 2021   \n",
       "7   United States, Ghana, Burkina Faso, United Kin...  September 24, 2021   \n",
       "9                                       United States  September 24, 2021   \n",
       "12                            Germany, Czech Republic  September 23, 2021   \n",
       "\n",
       "    release_year rating  duration  \\\n",
       "0           2020  PG-13        90   \n",
       "6           2021     PG        91   \n",
       "7           1993  TV-MA       125   \n",
       "9           2021  PG-13       104   \n",
       "12          2021  TV-MA       127   \n",
       "\n",
       "                                           listed_in  \\\n",
       "0                                      Documentaries   \n",
       "6                           Children & Family Movies   \n",
       "7   Dramas, Independent Movies, International Movies   \n",
       "9                                   Comedies, Dramas   \n",
       "12                      Dramas, International Movies   \n",
       "\n",
       "                                          description  \n",
       "0   As her father nears the end of his life, filmm...  \n",
       "6   Equestria's divided. But a bright-eyed hero be...  \n",
       "7   On a photo shoot in Ghana, an American model s...  \n",
       "9   A woman adjusting to life after a loss contend...  \n",
       "12  After most of her family is murdered in a terr...  "
      ]
     },
     "execution_count": 42,
     "metadata": {},
     "output_type": "execute_result"
    }
   ],
   "source": [
    "# subset the data to only include movies\n",
    "netflix_movie = netflix[netflix['type'] == 'Movie']\n",
    "netflix_movie.head()"
   ]
  },
  {
   "cell_type": "markdown",
   "id": "a68efd53",
   "metadata": {
    "id": "a68efd53"
   },
   "source": [
    "## Top directors"
   ]
  },
  {
   "cell_type": "code",
   "execution_count": 43,
   "id": "ef42739c",
   "metadata": {
    "id": "ef42739c",
    "outputId": "eb9bb8b6-5d6e-436e-9a0b-8ce2984f5868"
   },
   "outputs": [
    {
     "data": {
      "text/plain": [
       "None Specified                    2621\n",
       "Rajiv Chilaka                       19\n",
       "Raúl Campos, Jan Suter              18\n",
       "Suhas Kadav                         16\n",
       "Marcus Raboy                        16\n",
       "                                  ... \n",
       "Raymie Muzquiz, Stu Livingston       1\n",
       "Joe Menendez                         1\n",
       "Eric Bross                           1\n",
       "Will Eisenberg                       1\n",
       "Mozez Singh                          1\n",
       "Name: director, Length: 4527, dtype: int64"
      ]
     },
     "execution_count": 43,
     "metadata": {},
     "output_type": "execute_result"
    }
   ],
   "source": [
    "# getting the counts of directors in the dataset\n",
    "netflix['director'].value_counts()"
   ]
  },
  {
   "cell_type": "code",
   "execution_count": 44,
   "id": "d4b64f00",
   "metadata": {
    "id": "d4b64f00",
    "outputId": "6976b17d-2904-48d1-85cf-2b0253e6c5d8"
   },
   "outputs": [
    {
     "data": {
      "text/html": [
       "<div>\n",
       "<style scoped>\n",
       "    .dataframe tbody tr th:only-of-type {\n",
       "        vertical-align: middle;\n",
       "    }\n",
       "\n",
       "    .dataframe tbody tr th {\n",
       "        vertical-align: top;\n",
       "    }\n",
       "\n",
       "    .dataframe thead th {\n",
       "        text-align: right;\n",
       "    }\n",
       "</style>\n",
       "<table border=\"1\" class=\"dataframe\">\n",
       "  <thead>\n",
       "    <tr style=\"text-align: right;\">\n",
       "      <th></th>\n",
       "      <th></th>\n",
       "      <th>0</th>\n",
       "    </tr>\n",
       "  </thead>\n",
       "  <tbody>\n",
       "    <tr>\n",
       "      <th>0</th>\n",
       "      <th>0</th>\n",
       "      <td>Kirsten Johnson</td>\n",
       "    </tr>\n",
       "    <tr>\n",
       "      <th rowspan=\"2\" valign=\"top\">6</th>\n",
       "      <th>0</th>\n",
       "      <td>Robert Cullen</td>\n",
       "    </tr>\n",
       "    <tr>\n",
       "      <th>1</th>\n",
       "      <td>José Luis Ucha</td>\n",
       "    </tr>\n",
       "    <tr>\n",
       "      <th>7</th>\n",
       "      <th>0</th>\n",
       "      <td>Haile Gerima</td>\n",
       "    </tr>\n",
       "    <tr>\n",
       "      <th>9</th>\n",
       "      <th>0</th>\n",
       "      <td>Theodore Melfi</td>\n",
       "    </tr>\n",
       "  </tbody>\n",
       "</table>\n",
       "</div>"
      ],
      "text/plain": [
       "                   0\n",
       "0 0  Kirsten Johnson\n",
       "6 0    Robert Cullen\n",
       "  1   José Luis Ucha\n",
       "7 0     Haile Gerima\n",
       "9 0   Theodore Melfi"
      ]
     },
     "execution_count": 44,
     "metadata": {},
     "output_type": "execute_result"
    }
   ],
   "source": [
    "# Split the movie directors to only include 1 name\n",
    "movie_directors = netflix_movie['director'].str.split(',', expand=True).stack()\n",
    "# convert to a dataframe\n",
    "movie_directors = pd.DataFrame(movie_directors)\n",
    "movie_directors.head() # view the first few rows"
   ]
  },
  {
   "cell_type": "code",
   "execution_count": 45,
   "id": "c299250b",
   "metadata": {
    "id": "c299250b"
   },
   "outputs": [],
   "source": [
    "# name the column\n",
    "movie_directors.columns = ['Directors']"
   ]
  },
  {
   "cell_type": "code",
   "execution_count": 87,
   "id": "65c9e4a4",
   "metadata": {
    "id": "65c9e4a4"
   },
   "outputs": [],
   "source": [
    "# only selecting the known directors\n",
    "movie_directors = movie_directors[movie_directors['Directors'] != 'None Specified']\n",
    "\n",
    "movie_directors = movie_directors.groupby(['Directors']).size().reset_index(name='Total Movies')"
   ]
  },
  {
   "cell_type": "markdown",
   "id": "4d6a716f",
   "metadata": {
    "id": "4d6a716f"
   },
   "source": [
    "## Movie durations distribution"
   ]
  },
  {
   "cell_type": "code",
   "execution_count": null,
   "id": "84df0183",
   "metadata": {
    "id": "84df0183",
    "outputId": "f93a03c5-ffd1-4523-81ae-309d64a1383e"
   },
   "outputs": [],
   "source": [
    "netflix_movie['duration'].hist(bins=30)\n",
    "plt.xlabel('Duration in minutes')\n",
    "plt.ylabel('Count')\n",
    "plt.title('Distribution showing the most common movie durations');"
   ]
  },
  {
   "cell_type": "code",
   "execution_count": null,
   "id": "72d0028f",
   "metadata": {
    "id": "72d0028f",
    "outputId": "b78ba600-fc4b-4b5f-a286-fe4cb525ff47"
   },
   "outputs": [],
   "source": [
    "# to show the outliers in the durations column\n",
    "sns.boxplot(x='duration', data=netflix_movie)\n",
    "plt.xlabel('Duration in minutes');"
   ]
  },
  {
   "cell_type": "code",
   "execution_count": 48,
   "id": "0d297900",
   "metadata": {
    "id": "0d297900"
   },
   "outputs": [],
   "source": [
    "#These plots show that most movies are between 80 to 100 minutes long"
   ]
  },
  {
   "cell_type": "markdown",
   "id": "dd7454b9",
   "metadata": {
    "id": "dd7454b9"
   },
   "source": [
    "## Top movie countries"
   ]
  },
  {
   "cell_type": "code",
   "execution_count": 49,
   "id": "b4408e39",
   "metadata": {
    "id": "b4408e39"
   },
   "outputs": [],
   "source": [
    "# Expanding the countries to only include one country \n",
    "countries = netflix_movie['country'].str.split(',', expand=True).stack()\n",
    "# removing the white sapces before and after country names to avoid duplicates\n",
    "countries = countries.str.strip(' ')\n"
   ]
  },
  {
   "cell_type": "code",
   "execution_count": 50,
   "id": "562f0413",
   "metadata": {
    "id": "562f0413",
    "outputId": "c2fc025a-1a89-4fd8-867a-5537428340bc",
    "scrolled": true
   },
   "outputs": [
    {
     "data": {
      "text/plain": [
       "United States     2749\n",
       "India              962\n",
       "United Kingdom     534\n",
       "Not Specified      439\n",
       "Canada             319\n",
       "                  ... \n",
       "Bermuda              1\n",
       "Ecuador              1\n",
       "Armenia              1\n",
       "Mongolia             1\n",
       "Montenegro           1\n",
       "Length: 119, dtype: int64"
      ]
     },
     "execution_count": 50,
     "metadata": {},
     "output_type": "execute_result"
    }
   ],
   "source": [
    "countries.value_counts()"
   ]
  },
  {
   "cell_type": "code",
   "execution_count": 51,
   "id": "1d882d7a",
   "metadata": {
    "id": "1d882d7a"
   },
   "outputs": [],
   "source": [
    "top_countries = countries.value_counts().head(15)"
   ]
  },
  {
   "cell_type": "code",
   "execution_count": 52,
   "id": "515d801a",
   "metadata": {
    "id": "515d801a",
    "outputId": "dfdd78b7-1e59-4ee4-fff2-b78cb9abb59d"
   },
   "outputs": [
    {
     "data": {
      "text/html": [
       "<div>\n",
       "<style scoped>\n",
       "    .dataframe tbody tr th:only-of-type {\n",
       "        vertical-align: middle;\n",
       "    }\n",
       "\n",
       "    .dataframe tbody tr th {\n",
       "        vertical-align: top;\n",
       "    }\n",
       "\n",
       "    .dataframe thead th {\n",
       "        text-align: right;\n",
       "    }\n",
       "</style>\n",
       "<table border=\"1\" class=\"dataframe\">\n",
       "  <thead>\n",
       "    <tr style=\"text-align: right;\">\n",
       "      <th></th>\n",
       "      <th>Movies count</th>\n",
       "    </tr>\n",
       "  </thead>\n",
       "  <tbody>\n",
       "    <tr>\n",
       "      <th>United States</th>\n",
       "      <td>2749</td>\n",
       "    </tr>\n",
       "    <tr>\n",
       "      <th>India</th>\n",
       "      <td>962</td>\n",
       "    </tr>\n",
       "    <tr>\n",
       "      <th>United Kingdom</th>\n",
       "      <td>534</td>\n",
       "    </tr>\n",
       "    <tr>\n",
       "      <th>Not Specified</th>\n",
       "      <td>439</td>\n",
       "    </tr>\n",
       "    <tr>\n",
       "      <th>Canada</th>\n",
       "      <td>319</td>\n",
       "    </tr>\n",
       "    <tr>\n",
       "      <th>France</th>\n",
       "      <td>303</td>\n",
       "    </tr>\n",
       "    <tr>\n",
       "      <th>Germany</th>\n",
       "      <td>182</td>\n",
       "    </tr>\n",
       "    <tr>\n",
       "      <th>Spain</th>\n",
       "      <td>171</td>\n",
       "    </tr>\n",
       "    <tr>\n",
       "      <th>Japan</th>\n",
       "      <td>119</td>\n",
       "    </tr>\n",
       "    <tr>\n",
       "      <th>China</th>\n",
       "      <td>114</td>\n",
       "    </tr>\n",
       "    <tr>\n",
       "      <th>Mexico</th>\n",
       "      <td>111</td>\n",
       "    </tr>\n",
       "    <tr>\n",
       "      <th>Egypt</th>\n",
       "      <td>102</td>\n",
       "    </tr>\n",
       "    <tr>\n",
       "      <th>Hong Kong</th>\n",
       "      <td>100</td>\n",
       "    </tr>\n",
       "    <tr>\n",
       "      <th>Nigeria</th>\n",
       "      <td>94</td>\n",
       "    </tr>\n",
       "    <tr>\n",
       "      <th>Australia</th>\n",
       "      <td>94</td>\n",
       "    </tr>\n",
       "  </tbody>\n",
       "</table>\n",
       "</div>"
      ],
      "text/plain": [
       "                Movies count\n",
       "United States           2749\n",
       "India                    962\n",
       "United Kingdom           534\n",
       "Not Specified            439\n",
       "Canada                   319\n",
       "France                   303\n",
       "Germany                  182\n",
       "Spain                    171\n",
       "Japan                    119\n",
       "China                    114\n",
       "Mexico                   111\n",
       "Egypt                    102\n",
       "Hong Kong                100\n",
       "Nigeria                   94\n",
       "Australia                 94"
      ]
     },
     "execution_count": 52,
     "metadata": {},
     "output_type": "execute_result"
    }
   ],
   "source": [
    "top_countries = pd.DataFrame(top_countries)\n",
    "# renaming the column\n",
    "top_countries.columns = ['Movies count']\n",
    "top_countries"
   ]
  },
  {
   "cell_type": "code",
   "execution_count": 54,
   "id": "0d62a777",
   "metadata": {
    "id": "0d62a777"
   },
   "outputs": [],
   "source": [
    "# This bar chart shows that United States is the largest movie producing country"
   ]
  },
  {
   "cell_type": "markdown",
   "id": "bb71a17d",
   "metadata": {
    "id": "bb71a17d"
   },
   "source": [
    "## Top movie actors"
   ]
  },
  {
   "cell_type": "code",
   "execution_count": 55,
   "id": "facb8637",
   "metadata": {
    "id": "facb8637",
    "outputId": "10de3dff-14d8-45df-a5e5-80d3792f59f9"
   },
   "outputs": [
    {
     "data": {
      "text/html": [
       "<div>\n",
       "<style scoped>\n",
       "    .dataframe tbody tr th:only-of-type {\n",
       "        vertical-align: middle;\n",
       "    }\n",
       "\n",
       "    .dataframe tbody tr th {\n",
       "        vertical-align: top;\n",
       "    }\n",
       "\n",
       "    .dataframe thead th {\n",
       "        text-align: right;\n",
       "    }\n",
       "</style>\n",
       "<table border=\"1\" class=\"dataframe\">\n",
       "  <thead>\n",
       "    <tr style=\"text-align: right;\">\n",
       "      <th></th>\n",
       "      <th></th>\n",
       "      <th>0</th>\n",
       "    </tr>\n",
       "  </thead>\n",
       "  <tbody>\n",
       "    <tr>\n",
       "      <th>0</th>\n",
       "      <th>0</th>\n",
       "      <td>Not Listed</td>\n",
       "    </tr>\n",
       "    <tr>\n",
       "      <th rowspan=\"4\" valign=\"top\">6</th>\n",
       "      <th>0</th>\n",
       "      <td>Vanessa Hudgens</td>\n",
       "    </tr>\n",
       "    <tr>\n",
       "      <th>1</th>\n",
       "      <td>Kimiko Glenn</td>\n",
       "    </tr>\n",
       "    <tr>\n",
       "      <th>2</th>\n",
       "      <td>James Marsden</td>\n",
       "    </tr>\n",
       "    <tr>\n",
       "      <th>3</th>\n",
       "      <td>Sofia Carson</td>\n",
       "    </tr>\n",
       "  </tbody>\n",
       "</table>\n",
       "</div>"
      ],
      "text/plain": [
       "                   0\n",
       "0 0       Not Listed\n",
       "6 0  Vanessa Hudgens\n",
       "  1     Kimiko Glenn\n",
       "  2    James Marsden\n",
       "  3     Sofia Carson"
      ]
     },
     "execution_count": 55,
     "metadata": {},
     "output_type": "execute_result"
    }
   ],
   "source": [
    "actors = netflix_movie['cast'].str.split(',', expand=True).stack()\n",
    "actors = pd.DataFrame(actors)\n",
    "actors.head()"
   ]
  },
  {
   "cell_type": "code",
   "execution_count": 56,
   "id": "431623bd",
   "metadata": {
    "id": "431623bd"
   },
   "outputs": [],
   "source": [
    "actors.columns = ['cast']"
   ]
  },
  {
   "cell_type": "code",
   "execution_count": 57,
   "id": "3c99fe93",
   "metadata": {
    "id": "3c99fe93",
    "outputId": "db60e577-2acd-4233-a0c1-38874a984aaf"
   },
   "outputs": [
    {
     "data": {
      "text/html": [
       "<div>\n",
       "<style scoped>\n",
       "    .dataframe tbody tr th:only-of-type {\n",
       "        vertical-align: middle;\n",
       "    }\n",
       "\n",
       "    .dataframe tbody tr th {\n",
       "        vertical-align: top;\n",
       "    }\n",
       "\n",
       "    .dataframe thead th {\n",
       "        text-align: right;\n",
       "    }\n",
       "</style>\n",
       "<table border=\"1\" class=\"dataframe\">\n",
       "  <thead>\n",
       "    <tr style=\"text-align: right;\">\n",
       "      <th></th>\n",
       "      <th></th>\n",
       "      <th>cast</th>\n",
       "    </tr>\n",
       "  </thead>\n",
       "  <tbody>\n",
       "    <tr>\n",
       "      <th rowspan=\"5\" valign=\"top\">6</th>\n",
       "      <th>0</th>\n",
       "      <td>Vanessa Hudgens</td>\n",
       "    </tr>\n",
       "    <tr>\n",
       "      <th>1</th>\n",
       "      <td>Kimiko Glenn</td>\n",
       "    </tr>\n",
       "    <tr>\n",
       "      <th>2</th>\n",
       "      <td>James Marsden</td>\n",
       "    </tr>\n",
       "    <tr>\n",
       "      <th>3</th>\n",
       "      <td>Sofia Carson</td>\n",
       "    </tr>\n",
       "    <tr>\n",
       "      <th>4</th>\n",
       "      <td>Liza Koshy</td>\n",
       "    </tr>\n",
       "  </tbody>\n",
       "</table>\n",
       "</div>"
      ],
      "text/plain": [
       "                cast\n",
       "6 0  Vanessa Hudgens\n",
       "  1     Kimiko Glenn\n",
       "  2    James Marsden\n",
       "  3     Sofia Carson\n",
       "  4       Liza Koshy"
      ]
     },
     "execution_count": 57,
     "metadata": {},
     "output_type": "execute_result"
    }
   ],
   "source": [
    "actors = actors[actors['cast'] != 'Not Listed']\n",
    "actors.head()"
   ]
  },
  {
   "cell_type": "code",
   "execution_count": 58,
   "id": "52fc967d",
   "metadata": {
    "id": "52fc967d",
    "outputId": "9765f54d-559b-468f-865c-d5f7475e85ca"
   },
   "outputs": [
    {
     "data": {
      "text/plain": [
       "cast             \n",
       " Anupam Kher         38\n",
       " Om Puri             27\n",
       " Rupa Bhimani        27\n",
       "Shah Rukh Khan       26\n",
       " Paresh Rawal        25\n",
       " Boman Irani         25\n",
       " Julie Tejwani       24\n",
       "Akshay Kumar         23\n",
       " Rajesh Kava         21\n",
       " Naseeruddin Shah    20\n",
       "dtype: int64"
      ]
     },
     "execution_count": 58,
     "metadata": {},
     "output_type": "execute_result"
    }
   ],
   "source": [
    "# Selecting the top 15 actors\n",
    "top_actors = actors.value_counts().head(10)\n",
    "top_actors"
   ]
  },
  {
   "cell_type": "code",
   "execution_count": 59,
   "id": "b602cb66",
   "metadata": {
    "id": "b602cb66",
    "outputId": "60cf8f37-8c1a-48bd-abee-5c2b7b4ef32d"
   },
   "outputs": [
    {
     "data": {
      "text/html": [
       "<div>\n",
       "<style scoped>\n",
       "    .dataframe tbody tr th:only-of-type {\n",
       "        vertical-align: middle;\n",
       "    }\n",
       "\n",
       "    .dataframe tbody tr th {\n",
       "        vertical-align: top;\n",
       "    }\n",
       "\n",
       "    .dataframe thead th {\n",
       "        text-align: right;\n",
       "    }\n",
       "</style>\n",
       "<table border=\"1\" class=\"dataframe\">\n",
       "  <thead>\n",
       "    <tr style=\"text-align: right;\">\n",
       "      <th></th>\n",
       "      <th>Movies acted</th>\n",
       "    </tr>\n",
       "    <tr>\n",
       "      <th>cast</th>\n",
       "      <th></th>\n",
       "    </tr>\n",
       "  </thead>\n",
       "  <tbody>\n",
       "    <tr>\n",
       "      <th>Anupam Kher</th>\n",
       "      <td>38</td>\n",
       "    </tr>\n",
       "    <tr>\n",
       "      <th>Om Puri</th>\n",
       "      <td>27</td>\n",
       "    </tr>\n",
       "    <tr>\n",
       "      <th>Rupa Bhimani</th>\n",
       "      <td>27</td>\n",
       "    </tr>\n",
       "    <tr>\n",
       "      <th>Shah Rukh Khan</th>\n",
       "      <td>26</td>\n",
       "    </tr>\n",
       "    <tr>\n",
       "      <th>Paresh Rawal</th>\n",
       "      <td>25</td>\n",
       "    </tr>\n",
       "    <tr>\n",
       "      <th>Boman Irani</th>\n",
       "      <td>25</td>\n",
       "    </tr>\n",
       "    <tr>\n",
       "      <th>Julie Tejwani</th>\n",
       "      <td>24</td>\n",
       "    </tr>\n",
       "    <tr>\n",
       "      <th>Akshay Kumar</th>\n",
       "      <td>23</td>\n",
       "    </tr>\n",
       "    <tr>\n",
       "      <th>Rajesh Kava</th>\n",
       "      <td>21</td>\n",
       "    </tr>\n",
       "    <tr>\n",
       "      <th>Naseeruddin Shah</th>\n",
       "      <td>20</td>\n",
       "    </tr>\n",
       "  </tbody>\n",
       "</table>\n",
       "</div>"
      ],
      "text/plain": [
       "                   Movies acted\n",
       "cast                           \n",
       " Anupam Kher                 38\n",
       " Om Puri                     27\n",
       " Rupa Bhimani                27\n",
       "Shah Rukh Khan               26\n",
       " Paresh Rawal                25\n",
       " Boman Irani                 25\n",
       " Julie Tejwani               24\n",
       "Akshay Kumar                 23\n",
       " Rajesh Kava                 21\n",
       " Naseeruddin Shah            20"
      ]
     },
     "execution_count": 59,
     "metadata": {},
     "output_type": "execute_result"
    }
   ],
   "source": [
    "top_actors = pd.DataFrame(top_actors)\n",
    "# renaming the column\n",
    "top_actors.columns = ['Movies acted']\n",
    "top_actors"
   ]
  },
  {
   "cell_type": "code",
   "execution_count": 61,
   "id": "74f3d05a",
   "metadata": {
    "id": "74f3d05a"
   },
   "outputs": [],
   "source": [
    "# This bar plot shows that the top actor is Anupam Kher"
   ]
  },
  {
   "cell_type": "markdown",
   "id": "75904b1a",
   "metadata": {
    "id": "75904b1a"
   },
   "source": [
    "## Release year"
   ]
  },
  {
   "cell_type": "code",
   "execution_count": 62,
   "id": "192a977c",
   "metadata": {
    "id": "192a977c",
    "outputId": "713491a7-2856-44c5-a757-527f16941edf"
   },
   "outputs": [
    {
     "data": {
      "text/plain": [
       "2018    1146\n",
       "2017    1030\n",
       "2019    1030\n",
       "2020     953\n",
       "2016     901\n",
       "        ... \n",
       "1959       1\n",
       "1925       1\n",
       "1961       1\n",
       "1947       1\n",
       "1966       1\n",
       "Name: release_year, Length: 74, dtype: int64"
      ]
     },
     "execution_count": 62,
     "metadata": {},
     "output_type": "execute_result"
    }
   ],
   "source": [
    "netflix['release_year'].value_counts()"
   ]
  },
  {
   "cell_type": "code",
   "execution_count": 128,
   "id": "a0db3090",
   "metadata": {
    "id": "a0db3090",
    "outputId": "2ec26a1f-ec15-4030-f2cd-5cc08f39c82c",
    "scrolled": true
   },
   "outputs": [
    {
     "data": {
      "text/html": [
       "<div>\n",
       "<style scoped>\n",
       "    .dataframe tbody tr th:only-of-type {\n",
       "        vertical-align: middle;\n",
       "    }\n",
       "\n",
       "    .dataframe tbody tr th {\n",
       "        vertical-align: top;\n",
       "    }\n",
       "\n",
       "    .dataframe thead th {\n",
       "        text-align: right;\n",
       "    }\n",
       "</style>\n",
       "<table border=\"1\" class=\"dataframe\">\n",
       "  <thead>\n",
       "    <tr style=\"text-align: right;\">\n",
       "      <th></th>\n",
       "      <th>type</th>\n",
       "      <th>release_year</th>\n",
       "    </tr>\n",
       "  </thead>\n",
       "  <tbody>\n",
       "    <tr>\n",
       "      <th>0</th>\n",
       "      <td>Movie</td>\n",
       "      <td>2020</td>\n",
       "    </tr>\n",
       "    <tr>\n",
       "      <th>1</th>\n",
       "      <td>TV Show</td>\n",
       "      <td>2021</td>\n",
       "    </tr>\n",
       "    <tr>\n",
       "      <th>2</th>\n",
       "      <td>TV Show</td>\n",
       "      <td>2021</td>\n",
       "    </tr>\n",
       "    <tr>\n",
       "      <th>3</th>\n",
       "      <td>TV Show</td>\n",
       "      <td>2021</td>\n",
       "    </tr>\n",
       "    <tr>\n",
       "      <th>4</th>\n",
       "      <td>TV Show</td>\n",
       "      <td>2021</td>\n",
       "    </tr>\n",
       "    <tr>\n",
       "      <th>...</th>\n",
       "      <td>...</td>\n",
       "      <td>...</td>\n",
       "    </tr>\n",
       "    <tr>\n",
       "      <th>8752</th>\n",
       "      <td>Movie</td>\n",
       "      <td>2019</td>\n",
       "    </tr>\n",
       "    <tr>\n",
       "      <th>8756</th>\n",
       "      <td>Movie</td>\n",
       "      <td>2019</td>\n",
       "    </tr>\n",
       "    <tr>\n",
       "      <th>8774</th>\n",
       "      <td>Movie</td>\n",
       "      <td>2018</td>\n",
       "    </tr>\n",
       "    <tr>\n",
       "      <th>8775</th>\n",
       "      <td>TV Show</td>\n",
       "      <td>2018</td>\n",
       "    </tr>\n",
       "    <tr>\n",
       "      <th>8803</th>\n",
       "      <td>TV Show</td>\n",
       "      <td>2018</td>\n",
       "    </tr>\n",
       "  </tbody>\n",
       "</table>\n",
       "<p>3721 rows × 2 columns</p>\n",
       "</div>"
      ],
      "text/plain": [
       "         type  release_year\n",
       "0       Movie          2020\n",
       "1     TV Show          2021\n",
       "2     TV Show          2021\n",
       "3     TV Show          2021\n",
       "4     TV Show          2021\n",
       "...       ...           ...\n",
       "8752    Movie          2019\n",
       "8756    Movie          2019\n",
       "8774    Movie          2018\n",
       "8775  TV Show          2018\n",
       "8803  TV Show          2018\n",
       "\n",
       "[3721 rows x 2 columns]"
      ]
     },
     "execution_count": 128,
     "metadata": {},
     "output_type": "execute_result"
    }
   ],
   "source": [
    "# Selecting two columns to perform a bi-variate analysis\n",
    "netflix_release = netflix[['type','release_year']]\n",
    "# Selecting the last 10 years\n",
    "last_10_years = netflix_release[netflix['release_year'] >= 2018]\n",
    "last_10_years"
   ]
  },
  {
   "cell_type": "markdown",
   "id": "54f6b113",
   "metadata": {},
   "source": [
    "# STARTING DATA VISUALIZATION"
   ]
  },
  {
   "cell_type": "markdown",
   "id": "ad318691",
   "metadata": {},
   "source": [
    "# 1. SHOWING  BOTTOM 10 MOVIE DIRECTORS"
   ]
  },
  {
   "cell_type": "code",
   "execution_count": 103,
   "id": "b78bb5d7",
   "metadata": {},
   "outputs": [
    {
     "data": {
      "text/plain": [
       "<AxesSubplot:xlabel='Total Movies', ylabel='Directors'>"
      ]
     },
     "execution_count": 103,
     "metadata": {},
     "output_type": "execute_result"
    },
    {
     "data": {
      "image/png": "[encoded data removed]",
      "text/plain": [
       "<Figure size 432x288 with 1 Axes>"
      ]
     },
     "metadata": {
      "needs_background": "light"
     },
     "output_type": "display_data"
    }
   ],
   "source": [
    "#sns.set(style=‘whitegrid’)\n",
    "sns.barplot( x = 'Total Movies', y = 'Directors', data = bottom_directors)"
   ]
  },
  {
   "cell_type": "code",
   "execution_count": 101,
   "id": "e12c4514",
   "metadata": {
    "id": "e12c4514",
    "outputId": "13ee671b-cf9a-4aa7-9eb0-e64f612fd754"
   },
   "outputs": [
    {
     "data": {
      "text/html": [
       "<div>\n",
       "<style scoped>\n",
       "    .dataframe tbody tr th:only-of-type {\n",
       "        vertical-align: middle;\n",
       "    }\n",
       "\n",
       "    .dataframe tbody tr th {\n",
       "        vertical-align: top;\n",
       "    }\n",
       "\n",
       "    .dataframe thead th {\n",
       "        text-align: right;\n",
       "    }\n",
       "</style>\n",
       "<table border=\"1\" class=\"dataframe\">\n",
       "  <thead>\n",
       "    <tr style=\"text-align: right;\">\n",
       "      <th></th>\n",
       "      <th>Directors</th>\n",
       "      <th>Total Movies</th>\n",
       "    </tr>\n",
       "  </thead>\n",
       "  <tbody>\n",
       "    <tr>\n",
       "      <th>2441</th>\n",
       "      <td>Joel Oliansky</td>\n",
       "      <td>1</td>\n",
       "    </tr>\n",
       "    <tr>\n",
       "      <th>2669</th>\n",
       "      <td>Karan Shivajirao Chavan</td>\n",
       "      <td>1</td>\n",
       "    </tr>\n",
       "    <tr>\n",
       "      <th>4394</th>\n",
       "      <td>Steve Rolston</td>\n",
       "      <td>1</td>\n",
       "    </tr>\n",
       "    <tr>\n",
       "      <th>2671</th>\n",
       "      <td>Karen Maine</td>\n",
       "      <td>1</td>\n",
       "    </tr>\n",
       "    <tr>\n",
       "      <th>2672</th>\n",
       "      <td>Karen Moncrieff</td>\n",
       "      <td>1</td>\n",
       "    </tr>\n",
       "    <tr>\n",
       "      <th>2673</th>\n",
       "      <td>Karey Kirkpatrick</td>\n",
       "      <td>1</td>\n",
       "    </tr>\n",
       "    <tr>\n",
       "      <th>2674</th>\n",
       "      <td>Karim Amer</td>\n",
       "      <td>1</td>\n",
       "    </tr>\n",
       "    <tr>\n",
       "      <th>2675</th>\n",
       "      <td>Karim El Shenawy</td>\n",
       "      <td>1</td>\n",
       "    </tr>\n",
       "    <tr>\n",
       "      <th>2676</th>\n",
       "      <td>Karim El Sobky</td>\n",
       "      <td>1</td>\n",
       "    </tr>\n",
       "    <tr>\n",
       "      <th>2677</th>\n",
       "      <td>Karl Mueller</td>\n",
       "      <td>1</td>\n",
       "    </tr>\n",
       "  </tbody>\n",
       "</table>\n",
       "</div>"
      ],
      "text/plain": [
       "                    Directors  Total Movies\n",
       "2441            Joel Oliansky             1\n",
       "2669  Karan Shivajirao Chavan             1\n",
       "4394            Steve Rolston             1\n",
       "2671              Karen Maine             1\n",
       "2672          Karen Moncrieff             1\n",
       "2673        Karey Kirkpatrick             1\n",
       "2674               Karim Amer             1\n",
       "2675         Karim El Shenawy             1\n",
       "2676           Karim El Sobky             1\n",
       "2677             Karl Mueller             1"
      ]
     },
     "execution_count": 101,
     "metadata": {},
     "output_type": "execute_result"
    }
   ],
   "source": [
    "bottom_directors = pd.DataFrame(movie_directors.sort_values(by=['Total Movies'], ascending=True)).head(10)\n",
    "bottom_directors"
   ]
  },
  {
   "cell_type": "markdown",
   "id": "ae6c4a04",
   "metadata": {},
   "source": [
    "# 2. SHOWING TOP 10 MOVIE DIRECTORS"
   ]
  },
  {
   "cell_type": "code",
   "execution_count": 104,
   "id": "5861d82d",
   "metadata": {},
   "outputs": [
    {
     "data": {
      "text/html": [
       "<div>\n",
       "<style scoped>\n",
       "    .dataframe tbody tr th:only-of-type {\n",
       "        vertical-align: middle;\n",
       "    }\n",
       "\n",
       "    .dataframe tbody tr th {\n",
       "        vertical-align: top;\n",
       "    }\n",
       "\n",
       "    .dataframe thead th {\n",
       "        text-align: right;\n",
       "    }\n",
       "</style>\n",
       "<table border=\"1\" class=\"dataframe\">\n",
       "  <thead>\n",
       "    <tr style=\"text-align: right;\">\n",
       "      <th></th>\n",
       "      <th>Directors</th>\n",
       "      <th>Total Movies</th>\n",
       "    </tr>\n",
       "  </thead>\n",
       "  <tbody>\n",
       "    <tr>\n",
       "      <th>3816</th>\n",
       "      <td>Rajiv Chilaka</td>\n",
       "      <td>22</td>\n",
       "    </tr>\n",
       "    <tr>\n",
       "      <th>3863</th>\n",
       "      <td>Raúl Campos</td>\n",
       "      <td>18</td>\n",
       "    </tr>\n",
       "    <tr>\n",
       "      <th>234</th>\n",
       "      <td>Jan Suter</td>\n",
       "      <td>18</td>\n",
       "    </tr>\n",
       "    <tr>\n",
       "      <th>4427</th>\n",
       "      <td>Suhas Kadav</td>\n",
       "      <td>16</td>\n",
       "    </tr>\n",
       "    <tr>\n",
       "      <th>2307</th>\n",
       "      <td>Jay Karas</td>\n",
       "      <td>15</td>\n",
       "    </tr>\n",
       "    <tr>\n",
       "      <th>3065</th>\n",
       "      <td>Marcus Raboy</td>\n",
       "      <td>15</td>\n",
       "    </tr>\n",
       "    <tr>\n",
       "      <th>1288</th>\n",
       "      <td>Cathy Garcia-Molina</td>\n",
       "      <td>13</td>\n",
       "    </tr>\n",
       "    <tr>\n",
       "      <th>2304</th>\n",
       "      <td>Jay Chapman</td>\n",
       "      <td>12</td>\n",
       "    </tr>\n",
       "    <tr>\n",
       "      <th>4838</th>\n",
       "      <td>Youssef Chahine</td>\n",
       "      <td>12</td>\n",
       "    </tr>\n",
       "    <tr>\n",
       "      <th>3133</th>\n",
       "      <td>Martin Scorsese</td>\n",
       "      <td>12</td>\n",
       "    </tr>\n",
       "  </tbody>\n",
       "</table>\n",
       "</div>"
      ],
      "text/plain": [
       "                Directors  Total Movies\n",
       "3816        Rajiv Chilaka            22\n",
       "3863          Raúl Campos            18\n",
       "234             Jan Suter            18\n",
       "4427          Suhas Kadav            16\n",
       "2307            Jay Karas            15\n",
       "3065         Marcus Raboy            15\n",
       "1288  Cathy Garcia-Molina            13\n",
       "2304          Jay Chapman            12\n",
       "4838      Youssef Chahine            12\n",
       "3133      Martin Scorsese            12"
      ]
     },
     "execution_count": 104,
     "metadata": {},
     "output_type": "execute_result"
    }
   ],
   "source": [
    "bottom_directors = pd.DataFrame(movie_directors.sort_values(by=['Total Movies'], ascending=False)).head(10)\n",
    "bottom_directors"
   ]
  },
  {
   "cell_type": "code",
   "execution_count": 91,
   "id": "1eeacdf9",
   "metadata": {},
   "outputs": [
    {
     "data": {
      "image/png": "[encoded data removed]",
      "text/plain": [
       "<Figure size 576x288 with 1 Axes>"
      ]
     },
     "metadata": {
      "needs_background": "light"
     },
     "output_type": "display_data"
    }
   ],
   "source": [
    "#1. This shows the top movie directors.\n",
    "plt.figure(figsize=(8, 4))\n",
    "\n",
    "sns.countplot(x = \"Directors\", data = top_directors)\n",
    "\n",
    "plt.title(\"Top movie directors\")\n",
    "\n",
    "plt.xticks(rotation=45, horizontalalignment='right')\n",
    "\n",
    "plt.show()"
   ]
  },
  {
   "cell_type": "markdown",
   "id": "4b1660c6",
   "metadata": {},
   "source": [
    "# 3. SHOWING THE DISTRIBUTION OF THE RATINGS\n",
    "mature audience has the most ratings."
   ]
  },
  {
   "cell_type": "code",
   "execution_count": 130,
   "id": "5f983180",
   "metadata": {},
   "outputs": [
    {
     "data": {
      "image/png": "[encoded data removed]",
      "text/plain": [
       "<Figure size 432x288 with 1 Axes>"
      ]
     },
     "metadata": {},
     "output_type": "display_data"
    }
   ],
   "source": [
    "plt.pie(netflix['rating'].value_counts(),\n",
    "        labels=netflix['rating'].value_counts().index,\n",
    "        colors=['green', 'red','blue', 'yellow'], startangle=90)\n",
    "plt.show();\n"
   ]
  },
  {
   "cell_type": "code",
   "execution_count": 142,
   "id": "c2b7a1ec",
   "metadata": {},
   "outputs": [
    {
     "data": {
      "text/html": [
       "<div>\n",
       "<style scoped>\n",
       "    .dataframe tbody tr th:only-of-type {\n",
       "        vertical-align: middle;\n",
       "    }\n",
       "\n",
       "    .dataframe tbody tr th {\n",
       "        vertical-align: top;\n",
       "    }\n",
       "\n",
       "    .dataframe thead th {\n",
       "        text-align: right;\n",
       "    }\n",
       "</style>\n",
       "<table border=\"1\" class=\"dataframe\">\n",
       "  <thead>\n",
       "    <tr style=\"text-align: right;\">\n",
       "      <th></th>\n",
       "      <th>type</th>\n",
       "      <th>release_year</th>\n",
       "    </tr>\n",
       "  </thead>\n",
       "  <tbody>\n",
       "    <tr>\n",
       "      <th>0</th>\n",
       "      <td>Movie</td>\n",
       "      <td>2020</td>\n",
       "    </tr>\n",
       "    <tr>\n",
       "      <th>1</th>\n",
       "      <td>TV Show</td>\n",
       "      <td>2021</td>\n",
       "    </tr>\n",
       "    <tr>\n",
       "      <th>2</th>\n",
       "      <td>TV Show</td>\n",
       "      <td>2021</td>\n",
       "    </tr>\n",
       "    <tr>\n",
       "      <th>3</th>\n",
       "      <td>TV Show</td>\n",
       "      <td>2021</td>\n",
       "    </tr>\n",
       "    <tr>\n",
       "      <th>4</th>\n",
       "      <td>TV Show</td>\n",
       "      <td>2021</td>\n",
       "    </tr>\n",
       "    <tr>\n",
       "      <th>...</th>\n",
       "      <td>...</td>\n",
       "      <td>...</td>\n",
       "    </tr>\n",
       "    <tr>\n",
       "      <th>8798</th>\n",
       "      <td>Movie</td>\n",
       "      <td>2014</td>\n",
       "    </tr>\n",
       "    <tr>\n",
       "      <th>8800</th>\n",
       "      <td>TV Show</td>\n",
       "      <td>2012</td>\n",
       "    </tr>\n",
       "    <tr>\n",
       "      <th>8801</th>\n",
       "      <td>Movie</td>\n",
       "      <td>2015</td>\n",
       "    </tr>\n",
       "    <tr>\n",
       "      <th>8803</th>\n",
       "      <td>TV Show</td>\n",
       "      <td>2018</td>\n",
       "    </tr>\n",
       "    <tr>\n",
       "      <th>8806</th>\n",
       "      <td>Movie</td>\n",
       "      <td>2015</td>\n",
       "    </tr>\n",
       "  </tbody>\n",
       "</table>\n",
       "<p>7081 rows × 2 columns</p>\n",
       "</div>"
      ],
      "text/plain": [
       "         type  release_year\n",
       "0       Movie          2020\n",
       "1     TV Show          2021\n",
       "2     TV Show          2021\n",
       "3     TV Show          2021\n",
       "4     TV Show          2021\n",
       "...       ...           ...\n",
       "8798    Movie          2014\n",
       "8800  TV Show          2012\n",
       "8801    Movie          2015\n",
       "8803  TV Show          2018\n",
       "8806    Movie          2015\n",
       "\n",
       "[7081 rows x 2 columns]"
      ]
     },
     "execution_count": 142,
     "metadata": {},
     "output_type": "execute_result"
    }
   ],
   "source": [
    "last_10_years = netflix_release[netflix['release_year'] >= 2012]\n",
    "last_10_years"
   ]
  },
  {
   "cell_type": "markdown",
   "id": "425c658a",
   "metadata": {},
   "source": [
    "# 4. Visualizing count of ratings"
   ]
  },
  {
   "cell_type": "code",
   "execution_count": 134,
   "id": "fb27c519",
   "metadata": {
    "scrolled": true
   },
   "outputs": [
    {
     "data": {
      "text/plain": [
       "<AxesSubplot:xlabel='rating', ylabel='count'>"
      ]
     },
     "execution_count": 134,
     "metadata": {},
     "output_type": "execute_result"
    },
    {
     "data": {
      "image/png": "[encoded data removed]",
      "text/plain": [
       "<Figure size 864x576 with 1 Axes>"
      ]
     },
     "metadata": {
      "needs_background": "light"
     },
     "output_type": "display_data"
    }
   ],
   "source": [
    "plt.figure(figsize = (12,8))\n",
    "\n",
    "sns.countplot(x='rating',data = netflix)"
   ]
  },
  {
   "cell_type": "markdown",
   "id": "84948cf4",
   "metadata": {},
   "source": [
    "# 5. Visualizing the release year"
   ]
  },
  {
   "cell_type": "code",
   "execution_count": 144,
   "id": "0ef284ea",
   "metadata": {},
   "outputs": [
    {
     "data": {
      "text/plain": [
       "<AxesSubplot:xlabel='release_year', ylabel='count'>"
      ]
     },
     "execution_count": 144,
     "metadata": {},
     "output_type": "execute_result"
    },
    {
     "data": {
      "image/png": "[encoded data removed]",
      "text/plain": [
       "<Figure size 2880x432 with 1 Axes>"
      ]
     },
     "metadata": {
      "needs_background": "light"
     },
     "output_type": "display_data"
    }
   ],
   "source": [
    "#Showing the bar chart of the release year\n",
    "\n",
    "plt.figure(figsize = (40,6))\n",
    "\n",
    "sns.countplot(x='release_year',data = netflix)"
   ]
  },
  {
   "cell_type": "markdown",
   "id": "c5e6c3a1",
   "metadata": {},
   "source": [
    "# 6. Visualizing count of release for the past 15 years"
   ]
  },
  {
   "cell_type": "code",
   "execution_count": 147,
   "id": "19771cab",
   "metadata": {},
   "outputs": [
    {
     "data": {
      "image/png": "[encoded data removed]",
      "text/plain": [
       "<Figure size 1008x504 with 1 Axes>"
      ]
     },
     "metadata": {
      "needs_background": "light"
     },
     "output_type": "display_data"
    }
   ],
   "source": [
    "plt.figure(figsize=(14, 7))\n",
    "sns.countplot(x='release_year', data=last_10_years, hue='type')\n",
    "plt.title('Count of releases in the past 15 years');"
   ]
  },
  {
   "cell_type": "markdown",
   "id": "430a7ef0",
   "metadata": {},
   "source": [
    "# 7. Visualizing the top 10 Genres"
   ]
  },
  {
   "cell_type": "code",
   "execution_count": 148,
   "id": "b78cc260",
   "metadata": {},
   "outputs": [
    {
     "data": {
      "image/png": "[encoded data removed]",
      "text/plain": [
       "<Figure size 432x288 with 1 Axes>"
      ]
     },
     "metadata": {
      "needs_background": "light"
     },
     "output_type": "display_data"
    }
   ],
   "source": [
    "# plt.figure(figsize=(22,10))\n",
    "\n",
    "netflix[\"listed_in\"].value_counts()[:10].plot(kind=\"barh\", color=\"red\")\n",
    "\n",
    "plt.title(\"Top 10 Genres of NETFLIX\",size=20);"
   ]
  },
  {
   "cell_type": "code",
   "execution_count": 65,
   "id": "c9de89a8",
   "metadata": {
    "id": "c9de89a8"
   },
   "outputs": [],
   "source": [
    "# this bar plot shows the top Genres"
   ]
  },
  {
   "cell_type": "markdown",
   "id": "6ab17115",
   "metadata": {
    "id": "6ab17115"
   },
   "source": [
    "## Directors with the longest movies"
   ]
  },
  {
   "cell_type": "code",
   "execution_count": 68,
   "id": "c68396f4",
   "metadata": {
    "id": "c68396f4",
    "scrolled": true
   },
   "outputs": [],
   "source": [
    "longest_movies = netflix_movie[['director','duration']]\n",
    "longest_movies= longest_movies[longest_movies['director'] != 'None Specified']"
   ]
  },
  {
   "cell_type": "code",
   "execution_count": 69,
   "id": "589d6b3a",
   "metadata": {
    "id": "589d6b3a"
   },
   "outputs": [],
   "source": [
    "directors_longest = longest_movies[longest_movies['duration'] > 210]"
   ]
  },
  {
   "cell_type": "code",
   "execution_count": 70,
   "id": "4ce5cf3a",
   "metadata": {
    "id": "4ce5cf3a"
   },
   "outputs": [],
   "source": [
    "directors_longest = directors_longest.set_index(['director'])"
   ]
  },
  {
   "cell_type": "markdown",
   "id": "40cc9224",
   "metadata": {
    "id": "40cc9224"
   },
   "source": [
    "##  Ratings"
   ]
  },
  {
   "cell_type": "code",
   "execution_count": 73,
   "id": "9e159990",
   "metadata": {
    "id": "9e159990",
    "outputId": "6a7ed207-e0c6-46f2-fa71-2a776aa4dc59"
   },
   "outputs": [
    {
     "data": {
      "text/plain": [
       "array(['PG-13', 'TV-MA', 'PG', 'TV-14', 'TV-PG', 'TV-Y', 'TV-Y7', 'R',\n",
       "       'TV-G', 'G', 'NC-17', 'NR', 'TV-Y7-FV', 'UR'], dtype=object)"
      ]
     },
     "execution_count": 73,
     "metadata": {},
     "output_type": "execute_result"
    }
   ],
   "source": [
    "netflix['rating'].unique()"
   ]
  },
  {
   "cell_type": "code",
   "execution_count": 74,
   "id": "9b462538",
   "metadata": {
    "id": "9b462538",
    "outputId": "7cfe0bd9-1b13-4f44-c40d-32a392c7ea01",
    "scrolled": true
   },
   "outputs": [
    {
     "data": {
      "text/plain": [
       "TV-MA       3205\n",
       "TV-14       2157\n",
       "TV-PG        861\n",
       "R            799\n",
       "PG-13        490\n",
       "TV-Y7        333\n",
       "TV-Y         306\n",
       "PG           287\n",
       "TV-G         220\n",
       "NR            79\n",
       "G             41\n",
       "TV-Y7-FV       6\n",
       "NC-17          3\n",
       "UR             3\n",
       "Name: rating, dtype: int64"
      ]
     },
     "execution_count": 74,
     "metadata": {},
     "output_type": "execute_result"
    }
   ],
   "source": [
    "netflix['rating'].value_counts()"
   ]
  },
  {
   "cell_type": "code",
   "execution_count": 75,
   "id": "f617fad7",
   "metadata": {
    "id": "f617fad7",
    "outputId": "60d646d8-9023-4333-e6b7-e03e27181ba1"
   },
   "outputs": [
    {
     "data": {
      "text/plain": [
       "Mature Audience      4089\n",
       "Teens                3273\n",
       "Parental Guidance     861\n",
       "General Audience      567\n",
       "Name: rating, dtype: int64"
      ]
     },
     "execution_count": 75,
     "metadata": {},
     "output_type": "execute_result"
    }
   ],
   "source": [
    "# creating a dictionary to reorganise the ratings\n",
    "new_categories = {\n",
    "    'TV-PG': 'Parental Guidance',\n",
    "    'TV-MA': 'Mature Audience',\n",
    "    'TV-Y7-FV': 'Teens',\n",
    "    'TV-Y7': 'Teens',\n",
    "    'TV-14': 'Teens',\n",
    "    'R': 'Mature Audience',\n",
    "    'TV-Y': 'General Audience',\n",
    "    'NR': 'Mature Audience',\n",
    "    'PG-13': 'Teens',\n",
    "    'TV-G': 'General Audience',\n",
    "    'PG': 'Teens',\n",
    "    'G': 'General Audience',\n",
    "    'UR': 'Mature Audience',\n",
    "    'NC-17': 'Mature Audience'\n",
    "}\n",
    "netflix[\"rating\"] = netflix['rating'].replace(new_categories)\n",
    "netflix['rating'].value_counts()"
   ]
  },
  {
   "cell_type": "markdown",
   "id": "c7c0a82c",
   "metadata": {
    "id": "c7c0a82c"
   },
   "source": [
    "## Longest movie ratings"
   ]
  },
  {
   "cell_type": "code",
   "execution_count": 78,
   "id": "34152732",
   "metadata": {
    "id": "34152732",
    "outputId": "aceb057d-5988-493a-8b96-a2b18b1f649c"
   },
   "outputs": [
    {
     "data": {
      "text/plain": [
       "rating             duration\n",
       "Mature Audience    1           777\n",
       "Teens              1           628\n",
       "Parental Guidance  1           239\n",
       "Mature Audience    2           190\n",
       "General Audience   1           147\n",
       "                              ... \n",
       "Mature Audience    312           1\n",
       "                   229           1\n",
       "                   209           1\n",
       "                   208           1\n",
       "Teens              253           1\n",
       "Length: 610, dtype: int64"
      ]
     },
     "execution_count": 78,
     "metadata": {},
     "output_type": "execute_result"
    }
   ],
   "source": [
    "ratings = netflix[['rating', 'duration']]\n",
    "ratings.value_counts()"
   ]
  },
  {
   "cell_type": "code",
   "execution_count": 79,
   "id": "d30b3c05",
   "metadata": {
    "id": "d30b3c05",
    "outputId": "8865b03c-2dc4-44ba-8ee1-88b88fcb0552"
   },
   "outputs": [
    {
     "data": {
      "text/html": [
       "<div>\n",
       "<style scoped>\n",
       "    .dataframe tbody tr th:only-of-type {\n",
       "        vertical-align: middle;\n",
       "    }\n",
       "\n",
       "    .dataframe tbody tr th {\n",
       "        vertical-align: top;\n",
       "    }\n",
       "\n",
       "    .dataframe thead th {\n",
       "        text-align: right;\n",
       "    }\n",
       "</style>\n",
       "<table border=\"1\" class=\"dataframe\">\n",
       "  <thead>\n",
       "    <tr style=\"text-align: right;\">\n",
       "      <th></th>\n",
       "      <th>duration</th>\n",
       "    </tr>\n",
       "    <tr>\n",
       "      <th>rating</th>\n",
       "      <th></th>\n",
       "    </tr>\n",
       "  </thead>\n",
       "  <tbody>\n",
       "    <tr>\n",
       "      <th>Mature Audience</th>\n",
       "      <td>229</td>\n",
       "    </tr>\n",
       "    <tr>\n",
       "      <th>General Audience</th>\n",
       "      <td>273</td>\n",
       "    </tr>\n",
       "    <tr>\n",
       "      <th>Parental Guidance</th>\n",
       "      <td>212</td>\n",
       "    </tr>\n",
       "    <tr>\n",
       "      <th>Teens</th>\n",
       "      <td>224</td>\n",
       "    </tr>\n",
       "    <tr>\n",
       "      <th>Parental Guidance</th>\n",
       "      <td>233</td>\n",
       "    </tr>\n",
       "    <tr>\n",
       "      <th>Teens</th>\n",
       "      <td>237</td>\n",
       "    </tr>\n",
       "    <tr>\n",
       "      <th>Teens</th>\n",
       "      <td>230</td>\n",
       "    </tr>\n",
       "    <tr>\n",
       "      <th>Teens</th>\n",
       "      <td>253</td>\n",
       "    </tr>\n",
       "    <tr>\n",
       "      <th>Mature Audience</th>\n",
       "      <td>312</td>\n",
       "    </tr>\n",
       "    <tr>\n",
       "      <th>Teens</th>\n",
       "      <td>214</td>\n",
       "    </tr>\n",
       "    <tr>\n",
       "      <th>Teens</th>\n",
       "      <td>228</td>\n",
       "    </tr>\n",
       "  </tbody>\n",
       "</table>\n",
       "</div>"
      ],
      "text/plain": [
       "                   duration\n",
       "rating                     \n",
       "Mature Audience         229\n",
       "General Audience        273\n",
       "Parental Guidance       212\n",
       "Teens                   224\n",
       "Parental Guidance       233\n",
       "Teens                   237\n",
       "Teens                   230\n",
       "Teens                   253\n",
       "Mature Audience         312\n",
       "Teens                   214\n",
       "Teens                   228"
      ]
     },
     "execution_count": 79,
     "metadata": {},
     "output_type": "execute_result"
    }
   ],
   "source": [
    "# subsetting to only include the ratings with more than 210 minutes\n",
    "longest_ratings = ratings[ratings['duration'] > 210]\n",
    "# setting the index to the rating column\n",
    "longest_ratings = longest_ratings.set_index(['rating'])\n",
    "longest_ratings"
   ]
  },
  {
   "cell_type": "markdown",
   "id": "5a5b1b9a",
   "metadata": {
    "id": "5a5b1b9a"
   },
   "source": [
    "## Most popular genres"
   ]
  },
  {
   "cell_type": "code",
   "execution_count": 82,
   "id": "e5dbda77",
   "metadata": {
    "id": "e5dbda77",
    "outputId": "82509bd8-d8ca-49b6-9539-60ce24784237"
   },
   "outputs": [
    {
     "data": {
      "text/plain": [
       " International Movies       2624\n",
       "Dramas                      1599\n",
       "Comedies                    1210\n",
       "Action & Adventure           859\n",
       "Documentaries                829\n",
       " Dramas                      827\n",
       "International TV Shows       773\n",
       " Independent Movies          736\n",
       " TV Dramas                   695\n",
       " Romantic Movies             613\n",
       "Children & Family Movies     605\n",
       " International TV Shows      576\n",
       " Thrillers                   512\n",
       " Comedies                    464\n",
       " TV Comedies                 454\n",
       "dtype: int64"
      ]
     },
     "execution_count": 82,
     "metadata": {},
     "output_type": "execute_result"
    }
   ],
   "source": [
    "# converting the column to a dataframe\n",
    "#netflix['listed_in']  = pd.DataFrame(netflix['listed_in'])\n",
    "# Splitting each genre to allow for accurate counting\n",
    "genres = netflix['listed_in'].str.split(',', expand=True).stack()\n",
    "# Sorting the values and picking the top 15\n",
    "popular = genres.value_counts().sort_values(ascending=False).iloc[:15]\n",
    "popular"
   ]
  },
  {
   "cell_type": "code",
   "execution_count": null,
   "id": "03a5b765",
   "metadata": {},
   "outputs": [],
   "source": []
  },
  {
   "cell_type": "code",
   "execution_count": null,
   "id": "16adf7a8",
   "metadata": {},
   "outputs": [],
   "source": []
  }
 ],
 "metadata": {
  "colab": {
   "provenance": []
  },
  "kernelspec": {
   "display_name": "Python 3 (ipykernel)",
   "language": "python",
   "name": "python3"
  },
  "language_info": {
   "codemirror_mode": {
    "name": "ipython",
    "version": 3
   },
   "file_extension": ".py",
   "mimetype": "text/x-python",
   "name": "python",
   "nbconvert_exporter": "python",
   "pygments_lexer": "ipython3",
   "version": "3.9.12"
  }
 },
 "nbformat": 4,
 "nbformat_minor": 5
}
