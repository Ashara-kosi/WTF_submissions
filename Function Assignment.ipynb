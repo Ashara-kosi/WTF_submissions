{
 "cells": [
  {
   "cell_type": "markdown",
   "id": "5ecd440e",
   "metadata": {},
   "source": [
    "# 1.\tWrite a function to calculate the multiplication and sum of two numbers."
   ]
  },
  {
   "cell_type": "code",
   "execution_count": 49,
   "id": "97b4a151",
   "metadata": {},
   "outputs": [
    {
     "name": "stdout",
     "output_type": "stream",
     "text": [
      "(24, 11)\n"
     ]
    }
   ],
   "source": [
    "def multiplication_or_sum(num1,num2):\n",
    " mult=num1*num2\n",
    " sum=num1+num2\n",
    " return (mult,sum)\n",
    "print(multiplication_or_sum(num1=8,num2=3))\n"
   ]
  },
  {
   "cell_type": "markdown",
   "id": "e775965b",
   "metadata": {},
   "source": [
    "# 2. Write a function to print the sum of the current number and the previous number"
   ]
  },
  {
   "cell_type": "code",
   "execution_count": 61,
   "id": "5f28afdc",
   "metadata": {},
   "outputs": [
    {
     "name": "stdout",
     "output_type": "stream",
     "text": [
      "13\n"
     ]
    }
   ],
   "source": [
    "def add_func(previous,current):\n",
    "    sum= current\n",
    "    i = 0\n",
    "    while i<len(previous):\n",
    "        if previous[i]==current:\n",
    "            break\n",
    "        i+=1\n",
    "        \n",
    "    sum+=previous[i-1]\n",
    "    return sum\n",
    "\n",
    "\n",
    "print(add_func([1,2,3,4,5,6],7))\n",
    "\n",
    "    \n"
   ]
  },
  {
   "cell_type": "markdown",
   "id": "182d0ddd",
   "metadata": {},
   "source": [
    "# 3. Write a function to print characters from a string that are present at an even index number"
   ]
  },
  {
   "cell_type": "code",
   "execution_count": 56,
   "id": "28e2dbb4",
   "metadata": {},
   "outputs": [
    {
     "name": "stdout",
     "output_type": "stream",
     "text": [
      "J\n"
     ]
    }
   ],
   "source": [
    "def evenstring(string):\n",
    "    start=0\n",
    "    end=len(string)\n",
    "    new_str=\"\"\n",
    "    while start<end:\n",
    "        if start%2==0:\n",
    "            new_str+=string[start]\n",
    "        start+=1\n",
    "        return new_str\n",
    "print(evenstring(\"Jason\"))\n",
    "    \n",
    "    \n",
    "    "
   ]
  },
  {
   "cell_type": "markdown",
   "id": "73307c75",
   "metadata": {},
   "source": [
    "# 4. Write a function to rremove first characters from a string"
   ]
  },
  {
   "cell_type": "code",
   "execution_count": 53,
   "id": "c905c3f8",
   "metadata": {},
   "outputs": [
    {
     "name": "stdout",
     "output_type": "stream",
     "text": [
      "hello\n"
     ]
    }
   ],
   "source": [
    "def removechar(string):\n",
    "     new_str=string[1:]\n",
    "     return new_str\n",
    "print(removechar(\"hhello\"))\n",
    "    \n",
    " \n",
    "    "
   ]
  },
  {
   "cell_type": "markdown",
   "id": "c8838218",
   "metadata": {},
   "source": [
    "# 5. Write a function to check if the first and last number of a list is the same"
   ]
  },
  {
   "cell_type": "code",
   "execution_count": 47,
   "id": "83b06cec",
   "metadata": {},
   "outputs": [
    {
     "name": "stdout",
     "output_type": "stream",
     "text": [
      "False\n",
      "True\n"
     ]
    }
   ],
   "source": [
    "def finder(a_list):\n",
    "    ans=a_list[0]== a_list[-1]\n",
    "    return ans\n",
    "print(finder([0,1,2,4]))\n",
    "print(finder([0,1,2,0]))"
   ]
  },
  {
   "cell_type": "markdown",
   "id": "3c7267c3",
   "metadata": {},
   "source": [
    "# 6. Write a function to print multiplication table from 1 to 10"
   ]
  },
  {
   "cell_type": "code",
   "execution_count": 20,
   "id": "14cca58c",
   "metadata": {},
   "outputs": [
    {
     "name": "stdout",
     "output_type": "stream",
     "text": [
      "Please enter a number:6\n",
      "6 x 1 = 6\n",
      "6 x 2 = 12\n",
      "6 x 3 = 18\n",
      "6 x 4 = 24\n",
      "6 x 5 = 30\n",
      "6 x 6 = 36\n",
      "6 x 7 = 42\n",
      "6 x 8 = 48\n",
      "6 x 9 = 54\n",
      "6 x 10 = 60\n"
     ]
    }
   ],
   "source": [
    "def print_table(num):\n",
    "    for i in range(1,11):\n",
    "        print(num,'x',i,'=',num*i)\n",
    "num=int(input(\"Please enter a number:\"))   \n",
    "        \n",
    "print_table(num)\n"
   ]
  },
  {
   "cell_type": "markdown",
   "id": "d0f38c0c",
   "metadata": {},
   "source": [
    "# 7. Given a two list of numbers, write a function to create a new list such that the new list should contain odd numbers from the first list and even numbers from the second list."
   ]
  },
  {
   "cell_type": "code",
   "execution_count": 54,
   "id": "547e6786",
   "metadata": {},
   "outputs": [
    {
     "name": "stdout",
     "output_type": "stream",
     "text": [
      "[2, 4, 6, 7, 9, 11, 23]\n"
     ]
    }
   ],
   "source": [
    "def compiler(ist_list,second_list):\n",
    "    new_list=[]\n",
    "    for num in ist_list:\n",
    "        if num%2==0:\n",
    "            new_list.append(num)\n",
    "    for num in second_list:\n",
    "        if num%2!=0:\n",
    "            new_list.append(num)\n",
    "    return new_list\n",
    "print(compiler([1,2,3,4,5,6],[7,8,9,10,11,23]))"
   ]
  },
  {
   "cell_type": "code",
   "execution_count": null,
   "id": "fe56f3cc",
   "metadata": {},
   "outputs": [],
   "source": []
  }
 ],
 "metadata": {
  "kernelspec": {
   "display_name": "Python 3 (ipykernel)",
   "language": "python",
   "name": "python3"
  },
  "language_info": {
   "codemirror_mode": {
    "name": "ipython",
    "version": 3
   },
   "file_extension": ".py",
   "mimetype": "text/x-python",
   "name": "python",
   "nbconvert_exporter": "python",
   "pygments_lexer": "ipython3",
   "version": "3.9.12"
  }
 },
 "nbformat": 4,
 "nbformat_minor": 5
}
