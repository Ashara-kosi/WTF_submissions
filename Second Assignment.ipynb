{
  "metadata": {
    "language_info": {
      "codemirror_mode": {
        "name": "python",
        "version": 3
      },
      "file_extension": ".py",
      "mimetype": "text/x-python",
      "name": "python",
      "nbconvert_exporter": "python",
      "pygments_lexer": "ipython3",
      "version": "3.8"
    },
    "kernelspec": {
      "name": "python",
      "display_name": "Python (Pyodide)",
      "language": "python"
    }
  },
  "nbformat_minor": 4,
  "nbformat": 4,
  "cells": [
    {
      "cell_type": "code",
      "source": "def show_Numbers(limit):\n    for m in range(limit+1):\n        if m%2 == 0:\n            print(m,\"EVEN\")\n        else:\n            print(m,\"ODD\")",
      "metadata": {
        "trusted": true
      },
      "execution_count": null,
      "outputs": []
    },
    {
      "cell_type": "code",
      "source": "#2 Write a function that returns the sum of multiples of 3 and 5 between 0and limit (parameter). For example, if limit is 20, it should return the sum of 3, 5, 6, 9, 10,12, 15, 18, 20.\ndef sum_3_5(limit):\n   total_sum = 0\n   for i in range(limit):\n        if (i%3 == 0 or i%5 == 0):\n            total_sum = total_sum+i\n            print (\"Sum is :\",total_sum)",
      "metadata": {
        "trusted": true
      },
      "execution_count": 2,
      "outputs": []
    },
    {
      "cell_type": "code",
      "source": "#3 Write a function called show_stars(rows). If rows is 5, it should print thefollowing:***************\n\ndef star_pattern(limit):\n    for i in range(1,limit+1):\n        print(\"*\" *i)",
      "metadata": {
        "trusted": true
      },
      "execution_count": 3,
      "outputs": []
    },
    {
      "cell_type": "code",
      "source": "#4 Write a function that prints all the prime numbers between 0 and limit where limit is a parameter\ndef priimeNo(upper):\n   for num in range(0, upper + 1): # all prime numbers are greater than 1\n        if num > 1:\n            for i in range(2, num):\n                if (num % i) == 0:\n                    break\n                else:\n                    print(num)",
      "metadata": {
        "trusted": true
      },
      "execution_count": 11,
      "outputs": []
    },
    {
      "cell_type": "code",
      "source": "#5 Write a program (function!) that takes a list and returns a new list that contains all the elements of the first list minus all the duplicates.\na=[1,1,2,4,5,5,6,6,6,6,7,8,9,9]\nb=[]\nfor num in a:\n     if num not in b:\n        b.append(num)\n     print(b)",
      "metadata": {
        "trusted": true
      },
      "execution_count": 5,
      "outputs": [
        {
          "name": "stdout",
          "text": "[1]\n[1]\n[1, 2]\n[1, 2, 4]\n[1, 2, 4, 5]\n[1, 2, 4, 5]\n[1, 2, 4, 5, 6]\n[1, 2, 4, 5, 6]\n[1, 2, 4, 5, 6]\n[1, 2, 4, 5, 6]\n[1, 2, 4, 5, 6, 7]\n[1, 2, 4, 5, 6, 7, 8]\n[1, 2, 4, 5, 6, 7, 8, 9]\n[1, 2, 4, 5, 6, 7, 8, 9]\n",
          "output_type": "stream"
        }
      ]
    },
    {
      "cell_type": "code",
      "source": "#6 Write a function to ask the user for a number and determine whether the number is prime or notprime or not\n\nn=1\n\nprime_flag = 0\n \nif(n > 1):\n    for i in range(2, int(sqrt(n)) + 1):\n        if (n % i == 0):\n            prime_flag = 1\n            break\n    if (prime_flag == 0):\n        print(\"True\")\n    else:\n        print(\"False\")\nelse:\n    print(\"False\")",
      "metadata": {
        "trusted": true
      },
      "execution_count": 6,
      "outputs": [
        {
          "name": "stdout",
          "text": "False\n",
          "output_type": "stream"
        }
      ]
    },
    {
      "cell_type": "code",
      "source": "#7 Write a program that asks the user how many Fibonnaci numbers to generate and thengenerates them \n    \namount = 5\nif (amount <= 0):\n    print(\"Amount cannot be less than 1!\")\nelse:\n    FibonacciArray = [0]*amount\n    FibonacciArray[0] = 1\n    FibonacciCounter = 2\n    if (amount > 1):\n        FibonacciArray[1] = 1\n    if (amount > 2):\n        while FibonacciCounter < amount:\n            FibonacciArray[FibonacciCounter] = FibonacciArray[FibonacciCounter - 2] + FibonacciArray[FibonacciCounter - 1]\n            FibonacciCounter = FibonacciCounter + 1 #increment FibonacciCounter\n    print(FibonacciArray)",
      "metadata": {
        "trusted": true
      },
      "execution_count": 9,
      "outputs": [
        {
          "name": "stdout",
          "text": "[1, 1, 2, 3, 5]\n",
          "output_type": "stream"
        }
      ]
    },
    {
      "cell_type": "code",
      "source": "#8 Write a function that ask the user for a string and print out whether this string is a palindrome or not.\n\nstr_1 = \"level\"\nstr_1 = str_1.casefold ()\nrev_str = reversed (str_1)\nif list (str_1) == list (rev_str):\n              print ('The string is a palindrome')\nelse:\n              print ('The string is not a palindrome')\n",
      "metadata": {
        "trusted": true
      },
      "execution_count": 10,
      "outputs": [
        {
          "name": "stdout",
          "text": "The string is a palindrome\n",
          "output_type": "stream"
        }
      ]
    },
    {
      "cell_type": "code",
      "source": "#9 Write a function that takes an ordered list of numbers (a list where the elements are in order from smallest to largest) and anothernumber.\n\nscores = [5, 7, 4, 6, 9, 8]\nscores.sort()\nprint(scores)\n",
      "metadata": {
        "trusted": true
      },
      "execution_count": 9,
      "outputs": [
        {
          "name": "stdout",
          "text": "[4, 5, 6, 7, 8, 9]\n",
          "output_type": "stream"
        }
      ]
    },
    {
      "cell_type": "code",
      "source": "#10 Create a program that asks the user to enter their name and their age. Print out a message addressed to them that tells them the year that they will turn 100 years old.\nname = \"Oluwabori\"\nage = 50\n# If the current year is 2022\nyear = (100 - age) + 2022\nprint(name + \", you will be 100 years old in the year \" + str(year))",
      "metadata": {
        "trusted": true
      },
      "execution_count": 13,
      "outputs": [
        {
          "name": "stdout",
          "text": "Oluwabori, you will be 100 years old in the year 2072\n",
          "output_type": "stream"
        }
      ]
    },
    {
      "cell_type": "code",
      "source": "",
      "metadata": {},
      "execution_count": null,
      "outputs": []
    }
  ]
}