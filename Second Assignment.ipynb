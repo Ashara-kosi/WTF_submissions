{
 "cells": [
  {
   "cell_type": "code",
   "execution_count": 1,
   "metadata": {},
   "outputs": [
    {
     "name": "stdout",
     "output_type": "stream",
     "text": [
      "\n",
      "enter a number3\n"
     ]
    },
    {
     "data": {
      "text/plain": [
       "(0, ' EVEN')"
      ]
     },
     "execution_count": 1,
     "metadata": {},
     "output_type": "execute_result"
    }
   ],
   "source": [
    "1. #Write a function called showNumbers that takes a parameter called limit. It should print\n",
    "#all the numbers between 0 and limit with a label to identify the even and odd numbers.\n",
    "#For example, if the limit is 3, it should print:0 EVEN 1 ODD 2 EVEN 3 ODD\n",
    "def even_odd_recognize(limit):\n",
    "    for i in range(0,limit+1):\n",
    "        if(i%2==0):\n",
    "            return(i,' EVEN')\n",
    "        else:\n",
    "            return(i,' ODD')\n",
    "print()\n",
    "limit = int(input(\"enter a number\"))\n",
    "even_odd_recognize(limit)"
   ]
  },
  {
   "cell_type": "code",
   "execution_count": 6,
   "metadata": {},
   "outputs": [
    {
     "name": "stdout",
     "output_type": "stream",
     "text": [
      "Enter the number till you want to check: 20\n",
      "[2, 3, 5, 7, 11, 13, 17, 19]\n"
     ]
    }
   ],
   "source": [
    "4. #Write a function that prints all the prime numbers between 0 and limit where limit is a parameter\n",
    "n=int(input(\"Enter the number till you want to check: \"))\n",
    "primes = []\n",
    "for i in range (2, n+1):\n",
    "    for j in range(2, i):\n",
    "        if i%j == 0:\n",
    "            break\n",
    "    else:\n",
    "        primes.append(i)\n",
    "print(primes)"
   ]
  },
  {
   "cell_type": "code",
   "execution_count": 7,
   "metadata": {},
   "outputs": [
    {
     "name": "stdout",
     "output_type": "stream",
     "text": [
      "How many Fibonacci numbers would you like me to create?:12\n",
      "[1, 1, 2, 3, 5, 8, 13, 21, 34, 55, 89, 144]\n"
     ]
    }
   ],
   "source": [
    "7. #Write a program that asks the user how many Fibonnaci numbers to generate and then generates them\n",
    "amount = int(input(\"How many Fibonacci numbers would you like me to create?:\"))\n",
    "if (amount <= 0):\n",
    "    print(\"Amount cannot be less than 1!\")\n",
    "else:\n",
    "    FibonacciArray = [0]*amount\n",
    "    FibonacciArray[0] = 1\n",
    "    FibonacciCounter = 2\n",
    "    if (amount > 1):\n",
    "        FibonacciArray[1] = 1\n",
    "    if (amount > 2):\n",
    "        while FibonacciCounter < amount:\n",
    "            FibonacciArray[FibonacciCounter] = FibonacciArray[FibonacciCounter - 2] + FibonacciArray[FibonacciCounter - 1]\n",
    "            FibonacciCounter = FibonacciCounter + 1 \n",
    "    print(FibonacciArray)"
   ]
  },
  {
   "cell_type": "code",
   "execution_count": 8,
   "metadata": {},
   "outputs": [
    {
     "name": "stdout",
     "output_type": "stream",
     "text": [
      "Yes\n"
     ]
    }
   ],
   "source": [
    "8. #Write a function that ask the user for a string and print out whether this string is a palindrome or not\n",
    "def isPalindrome(str):\n",
    "    return str == str[::-1]\n",
    "str = \"malayalam\"\n",
    "ans = isPalindrome(str)\n",
    "if ans:\n",
    "    print(\"Yes\")\n",
    "else:\n",
    "    print(\"No\")"
   ]
  },
  {
   "cell_type": "code",
   "execution_count": 10,
   "metadata": {},
   "outputs": [
    {
     "name": "stdout",
     "output_type": "stream",
     "text": [
      "Enter the Name:- ara\n",
      "Enter the Age:- 2\n",
      "The user will in year  2120 he/she will turn 100 years old.\n"
     ]
    }
   ],
   "source": [
    "10. #\n",
    "name = input (\"Enter the Name:- \")\n",
    "age = int (input(\"Enter the Age:- \"))\n",
    "user_age = (100 - age) + 2022\n",
    "print (\"The user will in year \", user_age ,\"he/she will turn 100 years old.\")\n"
   ]
  },
  {
   "cell_type": "code",
   "execution_count": null,
   "metadata": {},
   "outputs": [],
   "source": []
  }
 ],
 "metadata": {
  "kernelspec": {
   "display_name": "Python 3",
   "language": "python",
   "name": "python3"
  },
  "language_info": {
   "codemirror_mode": {
    "name": "ipython",
    "version": 3
   },
   "file_extension": ".py",
   "mimetype": "text/x-python",
   "name": "python",
   "nbconvert_exporter": "python",
   "pygments_lexer": "ipython3",
   "version": "3.8.5"
  }
 },
 "nbformat": 4,
 "nbformat_minor": 4
}
