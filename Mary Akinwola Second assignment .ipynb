{
 "cells": [
  {
   "cell_type": "markdown",
   "id": "47e6732b",
   "metadata": {},
   "source": [
    "#Question 1 \n",
    "\n",
    "#Write a function called showNumbers that takes a parameter called limit. It should print\n",
    "all the numbers between 0 and limit with a label to identify the even and odd numbers.\n",
    "For example, if the limit is 3, it should print:0 EVEN 1 ODD 2 EVEN 3 ODD"
   ]
  },
  {
   "cell_type": "code",
   "execution_count": 8,
   "id": "94b0c8a5",
   "metadata": {},
   "outputs": [
    {
     "name": "stdout",
     "output_type": "stream",
     "text": [
      "0Even\n",
      "1Odd\n",
      "2Even\n",
      "3Odd\n"
     ]
    }
   ],
   "source": [
    "def show_num(limit):\n",
    "    for i in range(0,(limit+1)):\n",
    "        if i==0:\n",
    "            print(i,end='')\n",
    "            print('Even')\n",
    "        elif i%2==0:\n",
    "            print(i,end='')\n",
    "            print('Even')\n",
    "        else:\n",
    "            print(i,end='')\n",
    "            print('Odd')\n",
    "            \n",
    "            \n",
    "show_num(3)"
   ]
  },
  {
   "cell_type": "markdown",
   "id": "beef55da",
   "metadata": {},
   "source": [
    "#Question 2\n",
    "\n",
    "Write a function that returns the sum of multiples of 3 and 5 between 0\n",
    "and limit (parameter). For example, if limit is 20, it should return the sum of 3, 5, 6, 9, 10,\n",
    "12, 15, 18, 20."
   ]
  },
  {
   "cell_type": "code",
   "execution_count": 23,
   "id": "af389177",
   "metadata": {},
   "outputs": [
    {
     "name": "stdout",
     "output_type": "stream",
     "text": [
      "[3, 5, 6, 9, 10, 12, 15, 15, 18]"
     ]
    }
   ],
   "source": [
    "def sum_multi(limit):\n",
    "    sum=[]\n",
    "    for i in range (1,limit):\n",
    "        if i%3==0:\n",
    "            sum.append(i)\n",
    "        if i%5==0:\n",
    "            sum.append(i)\n",
    "    print(sum, end='')\n",
    "sum_multi(20)\n",
    "        "
   ]
  },
  {
   "cell_type": "markdown",
   "id": "0f0780eb",
   "metadata": {},
   "source": [
    "#Question 3\n",
    "\n",
    "#Write a function called show_stars(rows). If rows is 5, it should print the\n",
    "following:***************"
   ]
  },
  {
   "cell_type": "code",
   "execution_count": 34,
   "id": "2b76fffe",
   "metadata": {},
   "outputs": [
    {
     "name": "stdout",
     "output_type": "stream",
     "text": [
      "\n",
      "*\n",
      "**\n",
      "***\n",
      "****\n",
      "*****\n"
     ]
    }
   ],
   "source": [
    "def print_stars(count):\n",
    "    for i in range(count+1):\n",
    "        print('*' * i)\n",
    "\n",
    "print_stars(5)"
   ]
  },
  {
   "cell_type": "markdown",
   "id": "0a5a898e",
   "metadata": {},
   "source": [
    "#Question 4\n",
    "\n",
    "#Write a function that prints all the prime numbers between 0 and limit where limit is a\n",
    "parameter"
   ]
  },
  {
   "cell_type": "code",
   "execution_count": 78,
   "id": "30e00c7b",
   "metadata": {},
   "outputs": [],
   "source": [
    "def prime(limit):\n",
    "    prime_list=[]\n",
    "    for i in range(2,limit+1):\n",
    "        if i%i==1:\n",
    "            if i%2==1:\n",
    "                prime_list.append(i)\n",
    "            print (prime_list)\n",
    "            \n",
    "prime(10)"
   ]
  },
  {
   "cell_type": "markdown",
   "id": "cfcfbcb3",
   "metadata": {},
   "source": [
    "#Question 5 \n",
    "Write a program (function!) that takes a list and returns a new list that contains all the\n",
    "elements of the first list minus all the duplicates."
   ]
  },
  {
   "cell_type": "code",
   "execution_count": null,
   "id": "15ec657f",
   "metadata": {},
   "outputs": [],
   "source": [
    "def new_list(list1):\n",
    "    for i in range(len(list1)):\n",
    "        list2 = [x for x in list1 if x != list1[i]]\n",
    "        if list1[i] in list2:\n",
    "            list1.remove(i)\n",
    "            return list1\n",
    "        \n",
    "\n",
    "mylist = [1,2,3,4]\n",
    "new_list(mylist)"
   ]
  },
  {
   "cell_type": "markdown",
   "id": "2a83b75c",
   "metadata": {},
   "source": [
    "#Question 6 \n",
    "Write a function to ask the user for a number and determine whether the number is\n",
    "prime or not."
   ]
  },
  {
   "cell_type": "code",
   "execution_count": null,
   "id": "1d3beaf1",
   "metadata": {},
   "outputs": [],
   "source": [
    "def prime_no():\n",
    "    num=int(input('Please enter a number:'))\n",
    "    if num > 1:\n",
    "        for i in range(2, int(num/2)+1):\n",
    "            if (num % i) == 0:\n",
    "                print(num, \"is not a prime number\")\n",
    "                break\n",
    "        else:\n",
    "            print(num, \"is a prime number\")\n",
    "    else:\n",
    "        print(num, \"is not a prime number\")\n",
    "    \n",
    "prime_no()\n",
    "input()"
   ]
  },
  {
   "cell_type": "markdown",
   "id": "9180edd0",
   "metadata": {},
   "source": [
    "#Question 7 \n",
    "#Write a program that asks the user how many Fibonnaci numbers to generate and then\n",
    "generates them."
   ]
  },
  {
   "cell_type": "code",
   "execution_count": null,
   "id": "7d7444f8",
   "metadata": {},
   "outputs": [],
   "source": [
    "def fibonacci():\n",
    "    num = int(input(\"Please enter how many numbers would you like in your Fibonacci sequence: \"))\n",
    "    i = 1\n",
    "    if num == 0:\n",
    "        fib = []\n",
    "    elif num == 1:\n",
    "        fib = [1]\n",
    "    elif num == 2:\n",
    "        fib = [1,1]\n",
    "    elif num > 2:\n",
    "        fib = [1,1]\n",
    "        while i < (num - 1):\n",
    "            fib.append(fib[i] + fib[i-1])\n",
    "            i += 1\n",
    "    return fib\n",
    "print (fibonacci())\n",
    "input()"
   ]
  },
  {
   "cell_type": "markdown",
   "id": "027fe637",
   "metadata": {},
   "source": [
    "#Question 8 \n",
    "Write a function that ask the user for a string and print out whether this string is a\n",
    "palindrome or not."
   ]
  },
  {
   "cell_type": "code",
   "execution_count": null,
   "id": "5d6c5660",
   "metadata": {},
   "outputs": [],
   "source": [
    "def check_plaindrom():\n",
    "    string=input((\"Enter a string:\"))\n",
    "    if(string==string[::-1]):\n",
    "          print(\"The string is a palindrome\")\n",
    "    else:\n",
    "          print(\"Not a palindrome\")\n",
    "print(check_plaindrom())\n",
    "input()"
   ]
  },
  {
   "cell_type": "markdown",
   "id": "c2bd02bb",
   "metadata": {},
   "source": [
    "#Question 9 \n",
    "Write a function that takes an ordered list of numbers (a list where the elements are in\n",
    "order from smallest to largest) and another number."
   ]
  },
  {
   "cell_type": "code",
   "execution_count": null,
   "id": "efbc0db0",
   "metadata": {},
   "outputs": [],
   "source": [
    "def ordered(l):\n",
    "    list=[]\n",
    "    for i in l:\n",
    "        mid=int(len(list)/2)\n",
    "        if i[0:]<i[mid]:\n",
    "            list.append(i)\n",
    "            print(list, % 10)\n",
    "        else:\n",
    "            print('Not ordered')\n",
    "        \n",
    "ordered([1,3,4,6,7,8,9])"
   ]
  },
  {
   "cell_type": "code",
   "execution_count": null,
   "id": "a7e2dca3",
   "metadata": {},
   "outputs": [],
   "source": [
    "a = [1, 3, 5, 30, 42, 43, 500]\n",
    "\n",
    "q=int(input('Which number do you want to look for?'))\n",
    " \n",
    "while a != []:\n",
    "\n",
    "    #print(a)\n",
    "\n",
    "    mid=int(len(a)/2)\n",
    "\n",
    "    #print(a[mid])\n",
    "\n",
    "    if q==a[mid]:\n",
    "\n",
    "        print('The list contains %d.' % q)\n",
    "\n",
    "        quit()\n",
    "\n",
    "        \n",
    "\n",
    "    elif q>a[mid]:\n",
    "\n",
    "        #print('higher')\n",
    "\n",
    "        del a[:mid+1]\n",
    "\n",
    " \n",
    "\n",
    "    elif q<a[mid]:\n",
    "\n",
    "        #print('lower')\n",
    "\n",
    "        del a[mid:]\n",
    "\n",
    " \n",
    "\n",
    "   \n",
    "#print(a)\n",
    "\n",
    " \n",
    "\n",
    "print('''The list doesn't contain %d.''' % q)"
   ]
  },
  {
   "cell_type": "markdown",
   "id": "01cc229a",
   "metadata": {},
   "source": [
    "#Question 10 Create a program that asks the user to enter their name and their age. Print out a\n",
    "message addressed to them that tells them the year that they will turn 100 years old."
   ]
  },
  {
   "cell_type": "code",
   "execution_count": null,
   "id": "2d6af622",
   "metadata": {},
   "outputs": [],
   "source": [
    "def age_hundred():\n",
    "    import datetime\n",
    "    print ('Please enter your name:')\n",
    "    name = str(input())\n",
    "    \n",
    "    print ('Please enter your age:')\n",
    "    age = int(input())\n",
    "    current_year = datetime.date.today().year\n",
    "    good_year = (current_year - age) + (100)\n",
    "    print('Hello ', name, ' You are going to be 100 years old at:')\n",
    "    return (good_year)"
   ]
  },
  {
   "cell_type": "code",
   "execution_count": null,
   "id": "be38d99e",
   "metadata": {},
   "outputs": [],
   "source": []
  }
 ],
 "metadata": {
  "kernelspec": {
   "display_name": "Python 3 (ipykernel)",
   "language": "python",
   "name": "python3"
  },
  "language_info": {
   "codemirror_mode": {
    "name": "ipython",
    "version": 3
   },
   "file_extension": ".py",
   "mimetype": "text/x-python",
   "name": "python",
   "nbconvert_exporter": "python",
   "pygments_lexer": "ipython3",
   "version": "3.9.7"
  }
 },
 "nbformat": 4,
 "nbformat_minor": 5
}
