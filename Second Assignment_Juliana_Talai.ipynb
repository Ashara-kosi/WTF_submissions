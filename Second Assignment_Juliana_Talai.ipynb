{
 "cells": [
  {
   "cell_type": "markdown",
   "id": "be43060d",
   "metadata": {},
   "source": [
    "### Question one"
   ]
  },
  {
   "cell_type": "code",
   "execution_count": 70,
   "id": "7b8ce2cd",
   "metadata": {},
   "outputs": [],
   "source": [
    "def showNumbers(limit):  \n",
    "    for i in range(0,limit+1):\n",
    "            if i%2==0:\n",
    "                print(\"EVEN\")\n",
    "            else:\n",
    "                print(\"ODD\")\n",
    "                \n",
    "                \n",
    "                "
   ]
  },
  {
   "cell_type": "code",
   "execution_count": 132,
   "id": "2ef1ff5e",
   "metadata": {},
   "outputs": [
    {
     "name": "stdout",
     "output_type": "stream",
     "text": [
      "EVEN\n",
      "ODD\n",
      "EVEN\n",
      "ODD\n",
      "EVEN\n",
      "ODD\n"
     ]
    }
   ],
   "source": [
    "limit=5\n",
    "showNumbers(limit)"
   ]
  },
  {
   "cell_type": "markdown",
   "id": "f54ca51e",
   "metadata": {},
   "source": [
    "### Question 2"
   ]
  },
  {
   "cell_type": "code",
   "execution_count": 122,
   "id": "d68da42e",
   "metadata": {},
   "outputs": [],
   "source": [
    "def mult(limit):\n",
    "    Num=[]\n",
    "    for i in range(0,limit+1):\n",
    "        if i%3==0 or i%5==0:\n",
    "            Num.append(i)\n",
    "    print(Num)"
   ]
  },
  {
   "cell_type": "code",
   "execution_count": 123,
   "id": "2682fd11",
   "metadata": {},
   "outputs": [
    {
     "name": "stdout",
     "output_type": "stream",
     "text": [
      "[0, 3, 5, 6, 9, 10, 12, 15, 18, 20]\n"
     ]
    }
   ],
   "source": [
    "limit=20\n",
    "mult(limit)"
   ]
  },
  {
   "cell_type": "markdown",
   "id": "31e987ce",
   "metadata": {},
   "source": [
    "### Question 3"
   ]
  },
  {
   "cell_type": "code",
   "execution_count": 130,
   "id": "58372c86",
   "metadata": {},
   "outputs": [],
   "source": [
    "def stars(rows):\n",
    "    for i in range(0,rows):\n",
    "        print(\"*\", end=\" \")"
   ]
  },
  {
   "cell_type": "code",
   "execution_count": 131,
   "id": "ef672389",
   "metadata": {},
   "outputs": [
    {
     "name": "stdout",
     "output_type": "stream",
     "text": [
      "* * * * * "
     ]
    }
   ],
   "source": [
    "stars(5)"
   ]
  },
  {
   "cell_type": "markdown",
   "id": "688f07b1",
   "metadata": {},
   "source": [
    "### Question 4"
   ]
  },
  {
   "cell_type": "code",
   "execution_count": 161,
   "id": "306d8bb4",
   "metadata": {},
   "outputs": [],
   "source": [
    "def is_prime(digit):\n",
    "    if digit>1:\n",
    "        for i in range(2,digit):\n",
    "            if digit%i==0:\n",
    "                print(\"digit is a not prime number\")\n",
    "        else:\n",
    "            print(\"digit is a prime number\")\n",
    "           "
   ]
  },
  {
   "cell_type": "code",
   "execution_count": 162,
   "id": "324726b1",
   "metadata": {},
   "outputs": [
    {
     "name": "stdout",
     "output_type": "stream",
     "text": [
      "digit is a prime number\n"
     ]
    }
   ],
   "source": [
    "is_prime(3)"
   ]
  },
  {
   "cell_type": "markdown",
   "id": "f3f1318c",
   "metadata": {},
   "source": [
    "### Question 5"
   ]
  },
  {
   "cell_type": "code",
   "execution_count": 170,
   "id": "417bc063",
   "metadata": {},
   "outputs": [],
   "source": [
    "def drop_dup(digits):\n",
    "    num=[]\n",
    "    for i in digits:\n",
    "        if i not in num:\n",
    "            num.append(i)\n",
    "    return num\n",
    "            \n",
    "    "
   ]
  },
  {
   "cell_type": "code",
   "execution_count": 171,
   "id": "5f80d4de",
   "metadata": {},
   "outputs": [
    {
     "data": {
      "text/plain": [
       "[2, 3, 4, 6]"
      ]
     },
     "execution_count": 171,
     "metadata": {},
     "output_type": "execute_result"
    }
   ],
   "source": [
    "digits=[2,3,2,3,4,4,4,6,6]\n",
    "drop_dup(digits)"
   ]
  },
  {
   "cell_type": "markdown",
   "id": "06dfeb7f",
   "metadata": {},
   "source": [
    "### Question 6"
   ]
  },
  {
   "cell_type": "code",
   "execution_count": 172,
   "id": "245ef1da",
   "metadata": {},
   "outputs": [],
   "source": [
    "def ask(number):\n",
    "    if number>1:\n",
    "        for i in range(2,number):\n",
    "            if number%i==0:\n",
    "                print(\"digit is a not prime number\")\n",
    "        else:\n",
    "            print(\"digit is a prime number\")"
   ]
  },
  {
   "cell_type": "code",
   "execution_count": 173,
   "id": "b1cc77a1",
   "metadata": {},
   "outputs": [
    {
     "name": "stdout",
     "output_type": "stream",
     "text": [
      "digit is a prime number\n"
     ]
    }
   ],
   "source": [
    "ask(5)"
   ]
  },
  {
   "cell_type": "markdown",
   "id": "cfa7175d",
   "metadata": {},
   "source": [
    "### Question 7"
   ]
  },
  {
   "cell_type": "code",
   "execution_count": 181,
   "id": "2d1379ac",
   "metadata": {},
   "outputs": [],
   "source": [
    "def fib(number):\n",
    "    result=[0,1]\n",
    "    for i in range(1,number-1):\n",
    "        result.append(result[i]+result[i-1])\n",
    "    print(result)"
   ]
  },
  {
   "cell_type": "code",
   "execution_count": 182,
   "id": "508b4bbc",
   "metadata": {},
   "outputs": [
    {
     "name": "stdout",
     "output_type": "stream",
     "text": [
      "[0, 1, 1, 2, 3, 5, 8, 13, 21, 34]\n"
     ]
    }
   ],
   "source": [
    "fib(10)"
   ]
  },
  {
   "cell_type": "markdown",
   "id": "f5b8a45a",
   "metadata": {},
   "source": [
    "### Question 8"
   ]
  },
  {
   "cell_type": "code",
   "execution_count": 187,
   "id": "4e2d63bf",
   "metadata": {},
   "outputs": [],
   "source": [
    "def is_palindrome(word):\n",
    "    if word == word[::-1]:\n",
    "        print(\"word is palindrome\")\n",
    "    else:\n",
    "        print(\"word is not palindrome\")"
   ]
  },
  {
   "cell_type": "code",
   "execution_count": 188,
   "id": "67e95b90",
   "metadata": {},
   "outputs": [
    {
     "name": "stdout",
     "output_type": "stream",
     "text": [
      "word is palindrome\n"
     ]
    }
   ],
   "source": [
    "word=\"radar\"\n",
    "is_palindrome(word)"
   ]
  },
  {
   "cell_type": "markdown",
   "id": "386627d6",
   "metadata": {},
   "source": [
    "### Question 9"
   ]
  },
  {
   "cell_type": "code",
   "execution_count": 189,
   "id": "6276721b",
   "metadata": {},
   "outputs": [],
   "source": [
    "def search(ordered,not_inlist):\n",
    "    for i in ordered:\n",
    "        if i==not_inlist:\n",
    "            return True\n",
    "        else:\n",
    "            return False\n",
    "        "
   ]
  },
  {
   "cell_type": "code",
   "execution_count": 190,
   "id": "55194234",
   "metadata": {},
   "outputs": [
    {
     "data": {
      "text/plain": [
       "False"
      ]
     },
     "execution_count": 190,
     "metadata": {},
     "output_type": "execute_result"
    }
   ],
   "source": [
    "m=[1,2,3,4,5]\n",
    "search(m,6)"
   ]
  },
  {
   "cell_type": "markdown",
   "id": "8a8b21a7",
   "metadata": {},
   "source": [
    "### Question 10"
   ]
  },
  {
   "cell_type": "code",
   "execution_count": 205,
   "id": "38e85847",
   "metadata": {},
   "outputs": [],
   "source": [
    "import datetime"
   ]
  },
  {
   "cell_type": "code",
   "execution_count": 206,
   "id": "fd92b115",
   "metadata": {},
   "outputs": [],
   "source": [
    "def year():\n",
    "    name=input('Please enter your name ')\n",
    "    age=int(input('Please enter your age '))\n",
    "    print(name+\" will turn 100 in \" +str(datetime.datetime. today().year - age + 100))"
   ]
  },
  {
   "cell_type": "code",
   "execution_count": 207,
   "id": "3abdc603",
   "metadata": {},
   "outputs": [
    {
     "name": "stdout",
     "output_type": "stream",
     "text": [
      "Please enter your name julie\n",
      "Please enter your age 30\n",
      "julie will turn 100 in 2092\n"
     ]
    }
   ],
   "source": [
    "year()"
   ]
  },
  {
   "cell_type": "code",
   "execution_count": null,
   "id": "3c99ac62",
   "metadata": {},
   "outputs": [],
   "source": []
  }
 ],
 "metadata": {
  "kernelspec": {
   "display_name": "Python 3 (ipykernel)",
   "language": "python",
   "name": "python3"
  },
  "language_info": {
   "codemirror_mode": {
    "name": "ipython",
    "version": 3
   },
   "file_extension": ".py",
   "mimetype": "text/x-python",
   "name": "python",
   "nbconvert_exporter": "python",
   "pygments_lexer": "ipython3",
   "version": "3.9.12"
  }
 },
 "nbformat": 4,
 "nbformat_minor": 5
}
