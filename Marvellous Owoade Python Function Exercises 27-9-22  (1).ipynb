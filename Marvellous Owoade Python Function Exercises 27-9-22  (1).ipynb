{
 "cells": [
  {
   "cell_type": "markdown",
   "id": "400c3bd6",
   "metadata": {},
   "source": [
    "### 1.\tWrite a function to calculate the multiplication and sum of two numbers."
   ]
  },
  {
   "cell_type": "code",
   "execution_count": 5,
   "id": "19aa9824",
   "metadata": {},
   "outputs": [],
   "source": [
    "def mul_add(x, y):\n",
    "    multi = x * y\n",
    "    while multi <= 100:\n",
    "        return multi\n",
    "    else:\n",
    "        return (x + y)"
   ]
  },
  {
   "cell_type": "code",
   "execution_count": 42,
   "id": "d41240e6",
   "metadata": {},
   "outputs": [
    {
     "name": "stdout",
     "output_type": "stream",
     "text": [
      "the result is: 48\n",
      "the result is: 55\n"
     ]
    }
   ],
   "source": [
    "multi_add = mul_add(6,8)\n",
    "print('the result is:', multi_add)\n",
    "\n",
    "multi_add = mul_add(50,5)\n",
    "print('the result is:', multi_add)"
   ]
  },
  {
   "cell_type": "markdown",
   "id": "ba229ea9",
   "metadata": {},
   "source": [
    "### 2.\tWrite a function to print the sum of the current number and the previous number"
   ]
  },
  {
   "cell_type": "code",
   "execution_count": 116,
   "id": "255dbcd0",
   "metadata": {},
   "outputs": [],
   "source": [
    "def marv(num):\n",
    "    prev = 0\n",
    "    for b in range(1,15):\n",
    "        total = prev + b \n",
    "    print('')\n",
    "    print('previous number: ', prev)\n",
    "    print('current number: ', total)\n",
    "        \n",
    "    total = range(prev+total)\n",
    "        "
   ]
  },
  {
   "cell_type": "code",
   "execution_count": 117,
   "id": "b9263e70",
   "metadata": {},
   "outputs": [
    {
     "name": "stdout",
     "output_type": "stream",
     "text": [
      "\n",
      "previous number:  0\n",
      "current number:  14\n",
      "addition of number is: 105\n"
     ]
    }
   ],
   "source": [
    "num= range(1,15)\n",
    "marv(num)\n",
    "print('addition of number is:', sum(num))"
   ]
  },
  {
   "cell_type": "markdown",
   "id": "7183bf99",
   "metadata": {},
   "source": [
    "### 3.\tWrite a function to print characters from a string that are present at an even index number"
   ]
  },
  {
   "cell_type": "code",
   "execution_count": 104,
   "id": "8e03fcc0",
   "metadata": {},
   "outputs": [],
   "source": [
    "def index(string):\n",
    "    for i in string:\n",
    "        print(i)\n"
   ]
  },
  {
   "cell_type": "code",
   "execution_count": 105,
   "id": "e4c65915",
   "metadata": {},
   "outputs": [
    {
     "name": "stdout",
     "output_type": "stream",
     "text": [
      "m\n",
      "r\n",
      "e\n",
      "l\n",
      "u\n"
     ]
    }
   ],
   "source": [
    "string= 'marvellous'\n",
    "index(string[0::2])"
   ]
  },
  {
   "cell_type": "markdown",
   "id": "9b86b41f",
   "metadata": {},
   "source": [
    "### 4.\tWrite a function to remove first characters from a string"
   ]
  },
  {
   "cell_type": "code",
   "execution_count": 18,
   "id": "66dee53d",
   "metadata": {},
   "outputs": [],
   "source": [
    "def character(string):\n",
    "    for i in string:\n",
    "        print(i)"
   ]
  },
  {
   "cell_type": "code",
   "execution_count": 19,
   "id": "771582a8",
   "metadata": {},
   "outputs": [
    {
     "name": "stdout",
     "output_type": "stream",
     "text": [
      "n\n",
      "a\n",
      "c\n",
      "o\n",
      "n\n",
      "d\n",
      "a\n"
     ]
    }
   ],
   "source": [
    "string = 'anaconda'\n",
    "character(string[1::])"
   ]
  },
  {
   "cell_type": "markdown",
   "id": "c142448a",
   "metadata": {},
   "source": [
    "### 5.\tWrite a function to check if the first and last number of a list is the same"
   ]
  },
  {
   "cell_type": "code",
   "execution_count": 20,
   "id": "24933751",
   "metadata": {},
   "outputs": [],
   "source": [
    "def same(numbers):\n",
    "    first_number = numbers[0]\n",
    "    last_number = numbers[-1]\n",
    "    if first_number==last_number:\n",
    "        return True\n",
    "    else:\n",
    "        return False"
   ]
  },
  {
   "cell_type": "code",
   "execution_count": 21,
   "id": "9e48289b",
   "metadata": {},
   "outputs": [
    {
     "name": "stdout",
     "output_type": "stream",
     "text": [
      "False\n",
      "    \n",
      "True\n"
     ]
    }
   ],
   "source": [
    "numbers = [3,6,9,12,15]\n",
    "print(same(numbers))\n",
    "print('    ')\n",
    "\n",
    "numbers = [2,4,6,8,10,2]\n",
    "print(same(numbers))"
   ]
  },
  {
   "cell_type": "markdown",
   "id": "ed321856",
   "metadata": {},
   "source": [
    "### 6.\t Write a function to print multiplication table from 1 to 10"
   ]
  },
  {
   "cell_type": "code",
   "execution_count": 74,
   "id": "51de8bb5",
   "metadata": {
    "scrolled": true
   },
   "outputs": [],
   "source": [
    "def multiplication():\n",
    "    for i in range(1,6):\n",
    "        for j in range(1,6):\n",
    "            print(i * j, end='\\t')\n",
    "        print('\\t\\t')"
   ]
  },
  {
   "cell_type": "code",
   "execution_count": 75,
   "id": "32b2f2ea",
   "metadata": {
    "scrolled": true
   },
   "outputs": [
    {
     "name": "stdout",
     "output_type": "stream",
     "text": [
      "1\t2\t3\t4\t5\t\t\t\n",
      "2\t4\t6\t8\t10\t\t\t\n",
      "3\t6\t9\t12\t15\t\t\t\n",
      "4\t8\t12\t16\t20\t\t\t\n",
      "5\t10\t15\t20\t25\t\t\t\n"
     ]
    }
   ],
   "source": [
    "multiplication()"
   ]
  },
  {
   "cell_type": "markdown",
   "id": "3e8d8c59",
   "metadata": {},
   "source": [
    "### 7.\tGiven a two list of numbers, write a function to create a new list such that the new list should contain odd numbers from the first list and even numbers from the second list."
   ]
  },
  {
   "cell_type": "code",
   "execution_count": 76,
   "id": "47512bd0",
   "metadata": {},
   "outputs": [],
   "source": [
    "def odd_even(list_c, list_d):\n",
    "    newlist = []\n",
    "    \n",
    "    for i in list_c:\n",
    "        if i % 2 == 0:\n",
    "            newlist.append(i)\n",
    "    for u in list_d:\n",
    "        if (u % 2) != 0:\n",
    "            newlist.append(u)\n",
    "    return newlist\n",
    "list_c = [4,3,5,6,8,9]\n",
    "list_d = [21,22,23,24,25]"
   ]
  },
  {
   "cell_type": "code",
   "execution_count": 77,
   "id": "51fd8273",
   "metadata": {},
   "outputs": [
    {
     "name": "stdout",
     "output_type": "stream",
     "text": [
      "[4, 6, 8, 21, 23, 25]\n"
     ]
    }
   ],
   "source": [
    "print(odd_even(list_a, list_b))"
   ]
  }
 ],
 "metadata": {
  "kernelspec": {
   "display_name": "Python 3 (ipykernel)",
   "language": "python",
   "name": "python3"
  },
  "language_info": {
   "codemirror_mode": {
    "name": "ipython",
    "version": 3
   },
   "file_extension": ".py",
   "mimetype": "text/x-python",
   "name": "python",
   "nbconvert_exporter": "python",
   "pygments_lexer": "ipython3",
   "version": "3.9.12"
  }
 },
 "nbformat": 4,
 "nbformat_minor": 5
}
