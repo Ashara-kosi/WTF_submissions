{
 "cells": [
  {
   "cell_type": "code",
   "execution_count": 1,
   "id": "a9d252a5",
   "metadata": {},
   "outputs": [
    {
     "name": "stdout",
     "output_type": "stream",
     "text": [
      "enter First Number : 5\n",
      "enter Second Number : 5\n",
      "sum of two numbers  10\n",
      "product of two number is  25\n"
     ]
    }
   ],
   "source": [
    "#1\n",
    "def sum_product(a,b):\n",
    "    return a+b, a*b\n",
    "x = int(input(\"enter First Number : \"))\n",
    "y = int(input(\"enter Second Number : \"))\n",
    "sum, product = sum_product(x,y)\n",
    "print(\"sum of two numbers \", sum)\n",
    "print(\"product of two number is \", product)"
   ]
  },
  {
   "cell_type": "code",
   "execution_count": 5,
   "id": "f6ee5941",
   "metadata": {},
   "outputs": [],
   "source": [
    "#2\n",
    "def sum_current_previous(x):\n",
    "    previous = (x - 1)\n",
    "    print(int(previous + int(x)))"
   ]
  },
  {
   "cell_type": "code",
   "execution_count": 6,
   "id": "f609061f",
   "metadata": {},
   "outputs": [
    {
     "name": "stdout",
     "output_type": "stream",
     "text": [
      "99\n"
     ]
    }
   ],
   "source": [
    "sum_current_previous(50)"
   ]
  },
  {
   "cell_type": "code",
   "execution_count": 15,
   "id": "2e4d5e20",
   "metadata": {},
   "outputs": [
    {
     "name": "stdout",
     "output_type": "stream",
     "text": [
      " Enter wordumbrella\n",
      "original string: umbrella\n",
      "Printing only even chars\n",
      "index[ 0 ] u\n",
      "index[ 2 ] b\n",
      "index[ 4 ] e\n",
      "index[ 6 ] l\n"
     ]
    }
   ],
   "source": [
    "#3\n",
    "word = input(\" Enter word\")\n",
    "print(\"original string:\", word)\n",
    "size = len(word)\n",
    "print(\"Printing only even chars\")\n",
    "for i in range(0, size - 1, 2):\n",
    "    print(\"index[\", i, \"]\", word[i])"
   ]
  },
  {
   "cell_type": "code",
   "execution_count": 10,
   "id": "3a5f5a73",
   "metadata": {},
   "outputs": [
    {
     "name": "stdout",
     "output_type": "stream",
     "text": [
      "Removing characters from a group of string\n",
      "original string: ogechi\n",
      "chi\n",
      "original string: ogechi\n",
      "echi\n"
     ]
    }
   ],
   "source": [
    "#4\n",
    "def remove_chars(word, n):\n",
    "    print('original string:', word)\n",
    "    x = word[n:]\n",
    "    return x\n",
    "print(\"Removing characters from a group of string\")\n",
    "print(remove_chars(\"ogechi\", 3))\n",
    "print(remove_chars(\"ogechi\", 2))"
   ]
  },
  {
   "cell_type": "code",
   "execution_count": 31,
   "id": "bb68d417",
   "metadata": {},
   "outputs": [
    {
     "name": "stdout",
     "output_type": "stream",
     "text": [
      "Given list: [10, 20, 30, 40, 10]\n",
      "result is True\n",
      "Given list: [75, 65, 35, 75, 30]\n",
      "result is False\n"
     ]
    }
   ],
   "source": [
    "#5\n",
    "def first_last_same(numberlist):\n",
    "    print(\"Given list:\", numberlist)\n",
    "    \n",
    "    first_num = numberlist[0]\n",
    "    last_num = numberlist[-1]\n",
    "    if first_num == last_num:\n",
    "        return True\n",
    "    else:\n",
    "        return False\n",
    "numbers_x = [10, 20, 30, 40, 10]\n",
    "print(\"result is\", first_last_same(numbers_x))\n",
    "\n",
    "numbers_y = [75, 65, 35, 75, 30]\n",
    "print(\"result is\", first_last_same(numbers_y))\n",
    "    "
   ]
  },
  {
   "cell_type": "code",
   "execution_count": 34,
   "id": "6a76412f",
   "metadata": {},
   "outputs": [
    {
     "name": "stdout",
     "output_type": "stream",
     "text": [
      "1 2 3 4 5 6 7 8 9 10 \t\t\n",
      "2 4 6 8 10 12 14 16 18 20 \t\t\n",
      "3 6 9 12 15 18 21 24 27 30 \t\t\n",
      "4 8 12 16 20 24 28 32 36 40 \t\t\n",
      "5 10 15 20 25 30 35 40 45 50 \t\t\n",
      "6 12 18 24 30 36 42 48 54 60 \t\t\n",
      "7 14 21 28 35 42 49 56 63 70 \t\t\n",
      "8 16 24 32 40 48 56 64 72 80 \t\t\n",
      "9 18 27 36 45 54 63 72 81 90 \t\t\n",
      "10 20 30 40 50 60 70 80 90 100 \t\t\n"
     ]
    }
   ],
   "source": [
    "#6\n",
    "for i in range(1, 11):\n",
    "    for g in range(1, 11):\n",
    "        print(i * g, end=\" \")\n",
    "    print(\"\\t\\t\")"
   ]
  },
  {
   "cell_type": "code",
   "execution_count": 33,
   "id": "2e10a97e",
   "metadata": {},
   "outputs": [
    {
     "name": "stdout",
     "output_type": "stream",
     "text": [
      "final_list: [5, 15, 25, 30, 40, 60, 70]\n"
     ]
    }
   ],
   "source": [
    "#7\n",
    "def joined_list(list1, list2):\n",
    "    final_list = []\n",
    "    for num in list1:\n",
    "        if num % 2 != 0:\n",
    "            final_list.append(num)\n",
    "    for num in list2:\n",
    "        if num % 2 == 0:\n",
    "            final_list.append(num)\n",
    "    return final_list\n",
    "list1 = [5, 10, 15, 20, 25]\n",
    "list2 = [30, 40, 60, 65, 70]\n",
    "print(\"final_list:\", joined_list(list1, list2))\n"
   ]
  },
  {
   "cell_type": "code",
   "execution_count": null,
   "id": "717c47cd",
   "metadata": {},
   "outputs": [],
   "source": []
  }
 ],
 "metadata": {
  "kernelspec": {
   "display_name": "Python 3 (ipykernel)",
   "language": "python",
   "name": "python3"
  },
  "language_info": {
   "codemirror_mode": {
    "name": "ipython",
    "version": 3
   },
   "file_extension": ".py",
   "mimetype": "text/x-python",
   "name": "python",
   "nbconvert_exporter": "python",
   "pygments_lexer": "ipython3",
   "version": "3.9.12"
  }
 },
 "nbformat": 4,
 "nbformat_minor": 5
}
