{
 "cells": [
  {
   "cell_type": "code",
   "execution_count": null,
   "id": "ff5cfef1",
   "metadata": {},
   "outputs": [],
   "source": [
    "###Exercise 1: fxn to calculate the multiplication and sum of two numbers  "
   ]
  },
  {
   "cell_type": "code",
   "execution_count": 85,
   "id": "92dc6b2f",
   "metadata": {},
   "outputs": [],
   "source": [
    "###Exercise 2: fxn to print the sum of current number and the previous number\n",
    "def number(a, b):\n",
    "    a = int(input(\"desired number: \"))\n",
    "    b = int(input(\"desired number\"))\n",
    "    print(a + b)"
   ]
  },
  {
   "cell_type": "code",
   "execution_count": 55,
   "id": "911aab86",
   "metadata": {},
   "outputs": [
    {
     "name": "stdout",
     "output_type": "stream",
     "text": [
      "desired number: 55\n",
      "desired number33\n",
      "88\n"
     ]
    }
   ],
   "source": [
    "number(a, b)"
   ]
  },
  {
   "cell_type": "code",
   "execution_count": null,
   "id": "6c269e6e",
   "metadata": {},
   "outputs": [],
   "source": [
    "###Exercise 3: fxn to print xters from a string that are present at an even index number\n",
    "def char(object):\n",
    "    string = "
   ]
  },
  {
   "cell_type": "code",
   "execution_count": 2,
   "id": "ff9bc0b1",
   "metadata": {},
   "outputs": [],
   "source": [
    "###Exercise 4: fxn to remove the first xters from a string\n",
    "def first_char(object):\n",
    "    string = object\n",
    "    remove_string = object[1:]\n",
    "    print(remove_string)"
   ]
  },
  {
   "cell_type": "code",
   "execution_count": 3,
   "id": "9c5e80aa",
   "metadata": {},
   "outputs": [
    {
     "name": "stdout",
     "output_type": "stream",
     "text": [
      "yhton\n"
     ]
    }
   ],
   "source": [
    "first_char(\"pyhton\")"
   ]
  },
  {
   "cell_type": "code",
   "execution_count": 106,
   "id": "8714affe",
   "metadata": {},
   "outputs": [],
   "source": [
    "###Exercise 5: fxn to check if the first and the last number of a list is the same\n",
    "def list(number):\n",
    "    first_number = int(input(\"first number: \"))\n",
    "    last_number = int(input(\"last number: \"))\n",
    "    number in range(1, 10)\n",
    "    print(first_number, last_number)"
   ]
  },
  {
   "cell_type": "code",
   "execution_count": 107,
   "id": "d58f372c",
   "metadata": {},
   "outputs": [
    {
     "name": "stdout",
     "output_type": "stream",
     "text": [
      "first number: 1\n",
      "last number: 10\n",
      "1 10\n"
     ]
    }
   ],
   "source": [
    "list(10)"
   ]
  },
  {
   "cell_type": "code",
   "execution_count": 63,
   "id": "ea6eb7aa",
   "metadata": {},
   "outputs": [],
   "source": [
    "###Exercise 6: fxn to print multiplication table from 1 to 10\n",
    "def multiplication_number(number):\n",
    "    for count in range (1, 11):\n",
    "        print(number, 'x', count, '=', number * count)"
   ]
  },
  {
   "cell_type": "code",
   "execution_count": 42,
   "id": "a9fcbfd0",
   "metadata": {},
   "outputs": [
    {
     "name": "stdout",
     "output_type": "stream",
     "text": [
      "4 x 1 = 4\n",
      "4 x 2 = 8\n",
      "4 x 3 = 12\n",
      "4 x 4 = 16\n",
      "4 x 5 = 20\n",
      "4 x 6 = 24\n",
      "4 x 7 = 28\n",
      "4 x 8 = 32\n",
      "4 x 9 = 36\n",
      "4 x 10 = 40\n"
     ]
    }
   ],
   "source": [
    "multiplication_number(4)"
   ]
  },
  {
   "cell_type": "code",
   "execution_count": null,
   "id": "04dac890",
   "metadata": {
    "scrolled": true
   },
   "outputs": [],
   "source": [
    "###Exercise 7: given two list of numbers, write a fxn to create a new list such that the new list should contain odd \n",
    "numbers from the first list and even number from the second list."
   ]
  },
  {
   "cell_type": "code",
   "execution_count": null,
   "id": "33313668",
   "metadata": {},
   "outputs": [],
   "source": []
  }
 ],
 "metadata": {
  "kernelspec": {
   "display_name": "Python 3 (ipykernel)",
   "language": "python",
   "name": "python3"
  },
  "language_info": {
   "codemirror_mode": {
    "name": "ipython",
    "version": 3
   },
   "file_extension": ".py",
   "mimetype": "text/x-python",
   "name": "python",
   "nbconvert_exporter": "python",
   "pygments_lexer": "ipython3",
   "version": "3.9.12"
  }
 },
 "nbformat": 4,
 "nbformat_minor": 5
}
