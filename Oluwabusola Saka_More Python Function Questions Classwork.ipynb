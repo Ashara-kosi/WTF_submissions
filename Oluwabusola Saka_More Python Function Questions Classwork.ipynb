{
 "cells": [
  {
   "cell_type": "code",
   "execution_count": 4,
   "id": "bb114398",
   "metadata": {},
   "outputs": [
    {
     "data": {
      "text/plain": [
       "'multiplication is 20 and the sum is 12'"
      ]
     },
     "execution_count": 4,
     "metadata": {},
     "output_type": "execute_result"
    }
   ],
   "source": [
    "#function to calculate the multiplication and sum of two numbers\n",
    "def calculate (x,y):\n",
    "    multiplication =x*y\n",
    "    sum = x+y\n",
    "    return ('multiplication is {0} and the sum is {1}'.format (multiplication,sum) )\n",
    "\n",
    "calculate (2,10)"
   ]
  },
  {
   "cell_type": "code",
   "execution_count": 6,
   "id": "be2b27c0",
   "metadata": {},
   "outputs": [
    {
     "data": {
      "text/plain": [
       "19"
      ]
     },
     "execution_count": 6,
     "metadata": {},
     "output_type": "execute_result"
    }
   ],
   "source": [
    "#function to print the sum of the current number and previous number\n",
    "def calculate (x):\n",
    "    return x + (x-1)\n",
    "    \n",
    "calculate (10)"
   ]
  },
  {
   "cell_type": "code",
   "execution_count": 15,
   "id": "5c02793b",
   "metadata": {},
   "outputs": [
    {
     "name": "stdout",
     "output_type": "stream",
     "text": [
      "Type a string: Oluwabusola\n"
     ]
    },
    {
     "data": {
      "text/plain": [
       "'Ouauoa'"
      ]
     },
     "execution_count": 15,
     "metadata": {},
     "output_type": "execute_result"
    }
   ],
   "source": [
    "#function to print characters from a string that are present at an even index number\n",
    "def Even_Index():\n",
    "    \n",
    "    String = input('Type a string: ')\n",
    "    \n",
    "    even = []\n",
    "    even = String[0::2]\n",
    "    return even\n",
    "\n",
    "Even_Index()"
   ]
  },
  {
   "cell_type": "code",
   "execution_count": 16,
   "id": "9a181c4c",
   "metadata": {},
   "outputs": [
    {
     "name": "stdout",
     "output_type": "stream",
     "text": [
      "Type a string: Oluwabusola\n"
     ]
    },
    {
     "data": {
      "text/plain": [
       "'luwabusola'"
      ]
     },
     "execution_count": 16,
     "metadata": {},
     "output_type": "execute_result"
    }
   ],
   "source": [
    "#function to remove first characters from a string\n",
    "def Remove_First():\n",
    "    \n",
    "    String = input('Type a string: ')\n",
    "    return String[1:]\n",
    "\n",
    "Remove_First()"
   ]
  },
  {
   "cell_type": "code",
   "execution_count": 20,
   "id": "f5c9d226",
   "metadata": {},
   "outputs": [
    {
     "name": "stdout",
     "output_type": "stream",
     "text": [
      "different\n"
     ]
    }
   ],
   "source": [
    "#function to check if the first and last number of a list is the same\n",
    "def First_Last (list):\n",
    "    if list[0]==list[-1]:\n",
    "        return \"same\"\n",
    "    else :\n",
    "        return \"different\"\n",
    "    \n",
    "print (First_Last ([1,2,3,4,7]))"
   ]
  },
  {
   "cell_type": "code",
   "execution_count": 32,
   "id": "df589582",
   "metadata": {},
   "outputs": [
    {
     "name": "stdout",
     "output_type": "stream",
     "text": [
      "Multiplication Table of 1\n",
      "1 x 1 = 1\n",
      "1 x 2 = 2\n",
      "1 x 3 = 3\n",
      "1 x 4 = 4\n",
      "1 x 5 = 5\n",
      "1 x 6 = 6\n",
      "1 x 7 = 7\n",
      "1 x 8 = 8\n",
      "1 x 9 = 9\n",
      "1 x 10 = 10\n",
      "Multiplication Table of 2\n",
      "2 x 1 = 2\n",
      "2 x 2 = 4\n",
      "2 x 3 = 6\n",
      "2 x 4 = 8\n",
      "2 x 5 = 10\n",
      "2 x 6 = 12\n",
      "2 x 7 = 14\n",
      "2 x 8 = 16\n",
      "2 x 9 = 18\n",
      "2 x 10 = 20\n",
      "Multiplication Table of 3\n",
      "3 x 1 = 3\n",
      "3 x 2 = 6\n",
      "3 x 3 = 9\n",
      "3 x 4 = 12\n",
      "3 x 5 = 15\n",
      "3 x 6 = 18\n",
      "3 x 7 = 21\n",
      "3 x 8 = 24\n",
      "3 x 9 = 27\n",
      "3 x 10 = 30\n",
      "Multiplication Table of 4\n",
      "4 x 1 = 4\n",
      "4 x 2 = 8\n",
      "4 x 3 = 12\n",
      "4 x 4 = 16\n",
      "4 x 5 = 20\n",
      "4 x 6 = 24\n",
      "4 x 7 = 28\n",
      "4 x 8 = 32\n",
      "4 x 9 = 36\n",
      "4 x 10 = 40\n",
      "Multiplication Table of 5\n",
      "5 x 1 = 5\n",
      "5 x 2 = 10\n",
      "5 x 3 = 15\n",
      "5 x 4 = 20\n",
      "5 x 5 = 25\n",
      "5 x 6 = 30\n",
      "5 x 7 = 35\n",
      "5 x 8 = 40\n",
      "5 x 9 = 45\n",
      "5 x 10 = 50\n",
      "Multiplication Table of 6\n",
      "6 x 1 = 6\n",
      "6 x 2 = 12\n",
      "6 x 3 = 18\n",
      "6 x 4 = 24\n",
      "6 x 5 = 30\n",
      "6 x 6 = 36\n",
      "6 x 7 = 42\n",
      "6 x 8 = 48\n",
      "6 x 9 = 54\n",
      "6 x 10 = 60\n",
      "Multiplication Table of 7\n",
      "7 x 1 = 7\n",
      "7 x 2 = 14\n",
      "7 x 3 = 21\n",
      "7 x 4 = 28\n",
      "7 x 5 = 35\n",
      "7 x 6 = 42\n",
      "7 x 7 = 49\n",
      "7 x 8 = 56\n",
      "7 x 9 = 63\n",
      "7 x 10 = 70\n",
      "Multiplication Table of 8\n",
      "8 x 1 = 8\n",
      "8 x 2 = 16\n",
      "8 x 3 = 24\n",
      "8 x 4 = 32\n",
      "8 x 5 = 40\n",
      "8 x 6 = 48\n",
      "8 x 7 = 56\n",
      "8 x 8 = 64\n",
      "8 x 9 = 72\n",
      "8 x 10 = 80\n",
      "Multiplication Table of 9\n",
      "9 x 1 = 9\n",
      "9 x 2 = 18\n",
      "9 x 3 = 27\n",
      "9 x 4 = 36\n",
      "9 x 5 = 45\n",
      "9 x 6 = 54\n",
      "9 x 7 = 63\n",
      "9 x 8 = 72\n",
      "9 x 9 = 81\n",
      "9 x 10 = 90\n",
      "Multiplication Table of 10\n",
      "10 x 1 = 10\n",
      "10 x 2 = 20\n",
      "10 x 3 = 30\n",
      "10 x 4 = 40\n",
      "10 x 5 = 50\n",
      "10 x 6 = 60\n",
      "10 x 7 = 70\n",
      "10 x 8 = 80\n",
      "10 x 9 = 90\n",
      "10 x 10 = 100\n"
     ]
    }
   ],
   "source": [
    "#function to print multiplication table from 1 to 10\n",
    "for num in range (1, 11):\n",
    "    print (\"Multiplication Table of\", num)\n",
    "    for i in range(1, 11):\n",
    "        print (num, \"x\", i, \"=\", num*i)"
   ]
  },
  {
   "cell_type": "code",
   "execution_count": 34,
   "id": "31fc78f3",
   "metadata": {},
   "outputs": [
    {
     "data": {
      "text/plain": [
       "[1, 3, 5, 7, 9, 12, 14, 16]"
      ]
     },
     "execution_count": 34,
     "metadata": {},
     "output_type": "execute_result"
    }
   ],
   "source": [
    "#function to create a new list of odd numbers from the first list and even numbers from the second list\n",
    "first_list =[1,2,3,4,5,6,7,8,9,10]\n",
    "second_list =[11,12,13,14,15,16]\n",
    "\n",
    "def new_list(first_list,second_list):\n",
    "    \n",
    "    res = []\n",
    "    for i in first_list:\n",
    "        if i % 2 == 1:\n",
    "            res.append(i)\n",
    "    for j in second_list:\n",
    "        if j % 2 == 0:\n",
    "            res.append(j)\n",
    "    return res\n",
    "\n",
    "new_list(first_list,second_list)"
   ]
  },
  {
   "cell_type": "code",
   "execution_count": null,
   "id": "d2c86f8e",
   "metadata": {},
   "outputs": [],
   "source": []
  }
 ],
 "metadata": {
  "kernelspec": {
   "display_name": "Python 3 (ipykernel)",
   "language": "python",
   "name": "python3"
  },
  "language_info": {
   "codemirror_mode": {
    "name": "ipython",
    "version": 3
   },
   "file_extension": ".py",
   "mimetype": "text/x-python",
   "name": "python",
   "nbconvert_exporter": "python",
   "pygments_lexer": "ipython3",
   "version": "3.9.12"
  }
 },
 "nbformat": 4,
 "nbformat_minor": 5
}
