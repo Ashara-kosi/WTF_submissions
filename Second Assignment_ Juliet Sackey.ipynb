{
 "cells": [
  {
   "cell_type": "code",
   "execution_count": null,
   "id": "4ef98e22",
   "metadata": {},
   "outputs": [],
   "source": [
    "#1. Write a function called showNumbers that takes a parameter called limit. It should print\n",
    "#all the numbers between 0 and limit with a label to identify the even and odd numbers.\n",
    "#For example, if the limit is 3, it should print:0 EVEN 1 ODD 2 EVEN 3 ODD\n",
    "def ShowNumbers(Limit):\n",
    "    for labels in range(0,limit+1):\n",
    "        print( labels,end=' ')\n",
    "        if labels % 2!=0:\n",
    "            print('odd')\n",
    "    else:\n",
    "        print('even')\n",
    "limit=int(input('please enter limit'))\n",
    "ShowNumbers(limit)"
   ]
  },
  {
   "cell_type": "code",
   "execution_count": null,
   "id": "bf087b83",
   "metadata": {},
   "outputs": [],
   "source": [
    "#2Write a function that returns the sum of multiples of 3 and 5 between 0\n",
    "#and limit (parameter). For example, if limit is 20, it should return the sum of 3, 5, 6, 9, 10,\n",
    "#12, 15, 18, 20.\n",
    "def sum_of_multiples(limit):\n",
    "    sum=[]\n",
    "    for number in range(1, limit):\n",
    "        if number%3 == 0:\n",
    "            sum.append(number)\n",
    "    if number%5 == 0:\n",
    "        sum.append(number)\n",
    "    print(sum)\n",
    "\n",
    "sum_of_multiples(int(input(\"enter the limit: \")))"
   ]
  },
  {
   "cell_type": "code",
   "execution_count": null,
   "id": "54829706",
   "metadata": {},
   "outputs": [],
   "source": [
    "#3Write a function called show_stars(rows). If rows is 5, it should print the following:***************\n",
    "def Show_stars(rows):\n",
    "    if rows==5:\n",
    "        print('*******************')\n",
    "    else:\n",
    "        print('Nothing')\n",
    "Show_stars(5)  "
   ]
  },
  {
   "cell_type": "code",
   "execution_count": null,
   "id": "c6ae18fc",
   "metadata": {},
   "outputs": [],
   "source": [
    "#4Write a function that prints all the prime numbers between 0 and limit where limit is a parameter\n",
    "def prime_num():\n",
    "    n=int(input(\"Enter the number you want to check: \"))\n",
    "    primes = []\n",
    "    for i in range (2, n+1):\n",
    "        for j in range(2, i):\n",
    "            if i%j == 0:\n",
    "                break\n",
    "        else:\n",
    "            primes.append(i)\n",
    "    print(primes)\n",
    "prime_num()"
   ]
  },
  {
   "cell_type": "code",
   "execution_count": null,
   "id": "cd8d50a9",
   "metadata": {},
   "outputs": [],
   "source": [
    "#5Write a program (function!) that takes a list and returns a new list that contains all the\n",
    "#elements of the first list minus all the duplicates.\n",
    "\n",
    "def list_notduplicate(list):\n",
    "    list_1=[2,6,8,0,3,4,5,5,6,5,5,6,6,5]\n",
    "    newlist=[]\n",
    "    for i in list_1:\n",
    "        if i not in newlist:\n",
    "            newlist.append(i)\n",
    "print(newlist)\n",
    "list_notduplicate(list)\n"
   ]
  },
  {
   "cell_type": "code",
   "execution_count": null,
   "id": "9f821103",
   "metadata": {},
   "outputs": [],
   "source": [
    "#6Write a function to ask the user for a number and determine whether the number is prime or not.def prime_range():\n",
    "    num1= int(input (\"Please, num1: \"))  \n",
    "    num2 = int(input (\"Please, num2: \"))  \n",
    "  \n",
    "    print (\"The Prime Numbers in the range are: \")  \n",
    "    for number in range (num1, num2 + 1):  \n",
    "        if number > 1:  \n",
    "            for i in range (2, number):  \n",
    "                if (number % i) == 0:  \n",
    "                    break  \n",
    "            else:  \n",
    "                print (number)  \n",
    "prime_range()\n"
   ]
  },
  {
   "cell_type": "code",
   "execution_count": null,
   "id": "5867e2b5",
   "metadata": {},
   "outputs": [],
   "source": [
    "#7Write a program that asks the user how many Fibonnaci numbers to generate and then generates them.\n",
    "def gen_fib():\n",
    "    count = int(input(\"How many fibonacci numbers would you like to generate? \"))\n",
    "    i = 1\n",
    "    if count == 0:\n",
    "        fib = []\n",
    "    elif count == 1:\n",
    "        fib = [1]\n",
    "    elif count == 2:\n",
    "        fib = [1,1]\n",
    "    elif count > 2:\n",
    "        fib = [1,1]\n",
    "        while i < (count - 1):\n",
    "            fib.append(fib[i] + fib[i-1])\n",
    "            i += 1\n",
    "\n",
    "    return fib\n",
    "gen_fib()\n"
   ]
  },
  {
   "cell_type": "code",
   "execution_count": null,
   "id": "388c79fe",
   "metadata": {},
   "outputs": [],
   "source": [
    "#8Write a function that ask the user for a string and print out whether this string is a palindrome or not.\n",
    "def is_palindrome(str):\n",
    "    string=input('enter a string:')\n",
    "    rev_str = reversed(string)\n",
    "    if list(string) == list(rev_str):\n",
    "       print(\"The string is a palindrome.\")\n",
    "    else:\n",
    "       print(\"The string is not a palindrome.\")\n",
    "    \n",
    "is_palindrome(str)\n"
   ]
  },
  {
   "cell_type": "code",
   "execution_count": null,
   "id": "7985bf05",
   "metadata": {},
   "outputs": [],
   "source": [
    "#9Write a function that takes an ordered list of numbers (a list where the elements are in\n",
    "#order from smallest to largest) and another number.\n",
    "def ordered_list():\n",
    "    list=[0,8,1,2,78,3,5,4]\n",
    "    for i in list:\n",
    "       list.sort()\n",
    "print(list)\n",
    "ordered_list()"
   ]
  },
  {
   "cell_type": "code",
   "execution_count": null,
   "id": "1063d785",
   "metadata": {},
   "outputs": [],
   "source": [
    "#10Create a program that asks the user to enter their name and their age. Print out a\n",
    "#message addressed to them that tells them the year that they will turn 100 years old.\n",
    "\n",
    "from datetime import datetime\n",
    "def name_age():\n",
    "    name=input('enter your name:')\n",
    "    age=int(input('enter your age:'))\n",
    "    hundred = int((100-age) + datetime.now().year)\n",
    "    print('Hello', name,'you are', age,'years old','.','You will be 100 years old in',hundred)\n",
    "name_age()"
   ]
  }
 ],
 "metadata": {
  "kernelspec": {
   "display_name": "Python 3 (ipykernel)",
   "language": "python",
   "name": "python3"
  },
  "language_info": {
   "codemirror_mode": {
    "name": "ipython",
    "version": 3
   },
   "file_extension": ".py",
   "mimetype": "text/x-python",
   "name": "python",
   "nbconvert_exporter": "python",
   "pygments_lexer": "ipython3",
   "version": "3.9.12"
  }
 },
 "nbformat": 4,
 "nbformat_minor": 5
}
