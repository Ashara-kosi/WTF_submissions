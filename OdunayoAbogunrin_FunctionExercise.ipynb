{
 "cells": [
  {
   "cell_type": "code",
   "execution_count": 1,
   "id": "46c6cc88",
   "metadata": {},
   "outputs": [
    {
     "name": "stdout",
     "output_type": "stream",
     "text": [
      "The product of 5 and 7 is 35 while the sum of 5 and 7 is 12\n"
     ]
    }
   ],
   "source": [
    "#1. Write a function to calculate the multiplication and sum of two numbers.\n",
    "def product_sum(a,b):\n",
    "    print(\"The product of\", a, \"and\", b, \"is\", a*b, \"while the sum of\",a,  \"and\", b, \"is\", a+b)\n",
    "product_sum (5,7)"
   ]
  },
  {
   "cell_type": "code",
   "execution_count": 2,
   "id": "e25c327d",
   "metadata": {},
   "outputs": [
    {
     "name": "stdout",
     "output_type": "stream",
     "text": [
      "12\n",
      "13\n",
      "14\n",
      "15\n",
      "16\n",
      "17\n",
      "18\n",
      "19\n",
      "20\n",
      "21\n",
      "22\n"
     ]
    }
   ],
   "source": [
    "#2. Write a function to print the sum of the current number and the previous number\n",
    "def sum_new_old(a):\n",
    "    for i in range(1,12):\n",
    "        print(a+i) \n",
    "sum_new_old(11)"
   ]
  },
  {
   "cell_type": "code",
   "execution_count": 3,
   "id": "0842589c",
   "metadata": {},
   "outputs": [
    {
     "name": "stdout",
     "output_type": "stream",
     "text": [
      "Kindly input any word of your choice to print only characters with even index number: jessica\n",
      "j\n",
      "s\n",
      "i\n",
      "a\n"
     ]
    }
   ],
   "source": [
    "#3. Write a function to print characters from a string that are present at an even index number\n",
    "def string_even_index(name):\n",
    "    for i in range(len(name)):\n",
    "        if i%2 ==0:\n",
    "            print(name[i])\n",
    "name= str(input ('Kindly input any word of your choice to print only characters with even index number: '))\n",
    "string_even_index(name)"
   ]
  },
  {
   "cell_type": "code",
   "execution_count": 4,
   "id": "afaae959",
   "metadata": {},
   "outputs": [
    {
     "name": "stdout",
     "output_type": "stream",
     "text": [
      "Kindly input any word of  your choice to remove its first character: nigeria\n",
      "igeria\n"
     ]
    }
   ],
   "source": [
    "#4. Write a function to remove first characters from a string\n",
    "def remove_first_character(name):\n",
    "            print(name[1: ])\n",
    "name= str(input ('Kindly input any word of  your choice to remove its first character: '))\n",
    "remove_first_character(name)"
   ]
  },
  {
   "cell_type": "code",
   "execution_count": 5,
   "id": "0761381b",
   "metadata": {},
   "outputs": [
    {
     "name": "stdout",
     "output_type": "stream",
     "text": [
      "The first and last number in this list are the same\n"
     ]
    }
   ],
   "source": [
    "#5. Write a function to check if the first and last number of a list is the same\n",
    "def same_number(c):\n",
    "    if c[0] == c[-1]:\n",
    "        print(\"The first and last number in this list are the same\")\n",
    "    else:\n",
    "        print(\"The first and last number in this list are different\")\n",
    "c= [2,45,13,678,23,2]\n",
    "same_number(c)"
   ]
  },
  {
   "cell_type": "code",
   "execution_count": 6,
   "id": "3bb4a5e5",
   "metadata": {},
   "outputs": [
    {
     "name": "stdout",
     "output_type": "stream",
     "text": [
      "Kindly input a number to view its multiplication table: 12\n",
      "12 * 1 = 12\n",
      "12 * 2 = 24\n",
      "12 * 3 = 36\n",
      "12 * 4 = 48\n",
      "12 * 5 = 60\n",
      "12 * 6 = 72\n",
      "12 * 7 = 84\n",
      "12 * 8 = 96\n",
      "12 * 9 = 108\n",
      "12 * 10 = 120\n",
      "12 * 11 = 132\n",
      "12 * 12 = 144\n"
     ]
    }
   ],
   "source": [
    "#6. Write a function to print multiplication table from 1 to 10\n",
    "def multiplication_table(x):\n",
    "    for i in range (1,13):\n",
    "        print( x, \"*\", i, \"=\", x*i)\n",
    "x=int(input('Kindly input a number to view its multiplication table: '))\n",
    "multiplication_table(x)"
   ]
  },
  {
   "cell_type": "code",
   "execution_count": 7,
   "id": "17f928df",
   "metadata": {},
   "outputs": [
    {
     "data": {
      "text/plain": [
       "[1, 3, 5, 6, 8, 10]"
      ]
     },
     "execution_count": 7,
     "metadata": {},
     "output_type": "execute_result"
    }
   ],
   "source": [
    "#7. Given two list of numbers, write a function to create a new list such that the new list should contain odd numbers from the first list and even numbers from the second list.\n",
    "def new_list(x,y):\n",
    "    create_list = []\n",
    "    for i in x:\n",
    "        if i % 2 != 0:\n",
    "            create_list.append(i)\n",
    "    for i in y:\n",
    "        if i % 2 == 0:\n",
    "            create_list.append(i)\n",
    "    return create_list\n",
    "x=[1,2,3,4,5]\n",
    "y=[6,7,8,9,10]\n",
    "new_list(x,y)"
   ]
  }
 ],
 "metadata": {
  "kernelspec": {
   "display_name": "Python 3 (ipykernel)",
   "language": "python",
   "name": "python3"
  },
  "language_info": {
   "codemirror_mode": {
    "name": "ipython",
    "version": 3
   },
   "file_extension": ".py",
   "mimetype": "text/x-python",
   "name": "python",
   "nbconvert_exporter": "python",
   "pygments_lexer": "ipython3",
   "version": "3.9.7"
  }
 },
 "nbformat": 4,
 "nbformat_minor": 5
}
