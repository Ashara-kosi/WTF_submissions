{
 "cells": [
  {
   "cell_type": "code",
   "execution_count": 43,
   "id": "4a49d86c",
   "metadata": {},
   "outputs": [
    {
     "name": "stdout",
     "output_type": "stream",
     "text": [
      "Enter first number4\n",
      "Enter second number5\n",
      "Addition and Multiplication of  4 and 5 is (9, 20)\n"
     ]
    }
   ],
   "source": [
    "#Write a function to calculate the multiplication and sum of two numbers.\n",
    "\n",
    "def summul(x,y):\n",
    "    return x + y, x*y\n",
    "\n",
    "num1 = int(input(\"Enter first number\"))\n",
    "num2 = int(input(\"Enter second number\"))\n",
    "num3 = summul(num1, num2) #num3 is tuple\n",
    "\n",
    "print(\"Addition and Multiplication of \", num1, \"and\", num2, \"is\", num3)\n",
    "        \n",
    "\n",
    "    \n"
   ]
  },
  {
   "cell_type": "code",
   "execution_count": 50,
   "id": "da572956",
   "metadata": {},
   "outputs": [],
   "source": [
    "#Write a function to print the sum of the current number and the previous number\n"
   ]
  },
  {
   "cell_type": "code",
   "execution_count": 6,
   "id": "1d05b92c",
   "metadata": {},
   "outputs": [
    {
     "name": "stdout",
     "output_type": "stream",
     "text": [
      "current and previous number and their sum in a range (10)\n",
      "current_num 1 previous_num 4 sum: 5\n",
      "current_num 2 previous_num 4 sum: 6\n",
      "current_num 3 previous_num 4 sum: 7\n",
      "current_num 4 previous_num 4 sum: 8\n",
      "current_num 5 previous_num 4 sum: 9\n",
      "current_num 6 previous_num 4 sum: 10\n",
      "current_num 7 previous_num 4 sum: 11\n",
      "current_num 8 previous_num 4 sum: 12\n",
      "current_num 9 previous_num 4 sum: 13\n",
      "current_num 10 previous_num 4 sum: 14\n"
     ]
    }
   ],
   "source": [
    "print(\"current and previous number and their sum in a range (10)\")\n",
    "previous_num = 4\n",
    "for i in range(1,11):\n",
    "    sum = previous_num + i\n",
    "    print(\"current_num\", i, \"previous_num\", previous_num, \"sum:\", previous_num + i)\n",
    "    "
   ]
  },
  {
   "cell_type": "code",
   "execution_count": 91,
   "id": "bd9ee90e",
   "metadata": {},
   "outputs": [
    {
     "name": "stdout",
     "output_type": "stream",
     "text": [
      "Enter the word Education\n",
      "string: Education\n",
      "E\n",
      "u\n",
      "a\n",
      "i\n",
      "n\n"
     ]
    }
   ],
   "source": [
    "#Write a function to print characters from a string that are present at an even index number\n",
    "\n",
    "#Education\n",
    "\n",
    "word = input(\"Enter the word \")\n",
    "print(\"string:\", word)\n",
    "a = list(word)\n",
    "for i in a[0 :: 2]:\n",
    "    print(i)\n"
   ]
  },
  {
   "cell_type": "code",
   "execution_count": 7,
   "id": "35509b92",
   "metadata": {},
   "outputs": [
    {
     "name": "stdout",
     "output_type": "stream",
     "text": [
      "Enter a word Education\n",
      "string: Education\n",
      "d\n",
      "u\n",
      "c\n",
      "a\n",
      "t\n",
      "i\n",
      "o\n",
      "n\n"
     ]
    }
   ],
   "source": [
    "#Write a function to remove first characters from a string\n",
    "#Education\n",
    "\n",
    "word = input(\"Enter a word \")\n",
    "\n",
    "print(\"string:\", word)\n",
    "\n",
    "a = list(word)\n",
    "for i in a[1::1]:\n",
    "    \n",
    "    print(i)\n"
   ]
  },
  {
   "cell_type": "code",
   "execution_count": 204,
   "id": "7f5cc8e1",
   "metadata": {},
   "outputs": [
    {
     "name": "stdout",
     "output_type": "stream",
     "text": [
      "first_number is  E\n",
      "last_number is  n\n"
     ]
    },
    {
     "ename": "SyntaxError",
     "evalue": "'return' outside function (3198613253.py, line 10)",
     "output_type": "error",
     "traceback": [
      "\u001b[1;36m  Input \u001b[1;32mIn [204]\u001b[1;36m\u001b[0m\n\u001b[1;33m    return true\u001b[0m\n\u001b[1;37m    ^\u001b[0m\n\u001b[1;31mSyntaxError\u001b[0m\u001b[1;31m:\u001b[0m 'return' outside function\n"
     ]
    }
   ],
   "source": [
    "#Write a function to check if the first and last number of a list is the same\n",
    "def first_last_num(a):\n",
    "     a = (2, 8, 7, 6)\n",
    "        \n",
    "            \n",
    "print(\"first_number is \" ,a[0])\n",
    "print(\"last_number is \" ,a[-1])\n",
    "\n",
    "if first_number == last_number:\n",
    "     return true\n",
    "else:\n",
    "    return false\n",
    "    #i dont know why it is giving me answer to the previous question now because when i tried it at first, it gave me the answer.\n",
    "    "
   ]
  },
  {
   "cell_type": "code",
   "execution_count": 212,
   "id": "51bdf4cf",
   "metadata": {},
   "outputs": [
    {
     "ename": "IndentationError",
     "evalue": "expected an indented block (1140695895.py, line 6)",
     "output_type": "error",
     "traceback": [
      "\u001b[1;36m  Input \u001b[1;32mIn [212]\u001b[1;36m\u001b[0m\n\u001b[1;33m    print(i * num, end= \" \" )\u001b[0m\n\u001b[1;37m                             ^\u001b[0m\n\u001b[1;31mIndentationError\u001b[0m\u001b[1;31m:\u001b[0m expected an indented block\n"
     ]
    }
   ],
   "source": [
    "#Write a function to print multiplication table from 1 to 10\n",
    "def multiplication_table(num):\n",
    "    for i in range(1, 11):\n",
    "        if num(1, 11):\n",
    "            \n",
    "print(i * num, end= \" \" )\n",
    "\n",
    "            "
   ]
  },
  {
   "cell_type": "code",
   "execution_count": 197,
   "id": "8f65e33e",
   "metadata": {},
   "outputs": [
    {
     "ename": "SyntaxError",
     "evalue": "EOL while scanning string literal (728597395.py, line 12)",
     "output_type": "error",
     "traceback": [
      "\u001b[1;36m  Input \u001b[1;32mIn [197]\u001b[1;36m\u001b[0m\n\u001b[1;33m    print(List is \", new_list)\u001b[0m\n\u001b[1;37m                              ^\u001b[0m\n\u001b[1;31mSyntaxError\u001b[0m\u001b[1;31m:\u001b[0m EOL while scanning string literal\n"
     ]
    }
   ],
   "source": [
    "#Given a two list of numbers, write a function to create a new list such that the new list should contain odd numbers from the first list and even numbers from the second list.\n",
    "def new_list():\n",
    "    list1 = [1, 3, 5, 7]\n",
    "    list2 = [2, 4, 6, 8]\n",
    "    new_list = []\n",
    "    for i in list1:\n",
    "        if(i%2 ==1):\n",
    "            new_list.append(i)\n",
    "for i in list2:\n",
    "    if (i%2 ==0):\n",
    "        new_list.append(i)\n",
    "    print(List is \", new_list)"
   ]
  },
  {
   "cell_type": "code",
   "execution_count": null,
   "id": "18f83f28",
   "metadata": {},
   "outputs": [],
   "source": []
  }
 ],
 "metadata": {
  "kernelspec": {
   "display_name": "Python 3 (ipykernel)",
   "language": "python",
   "name": "python3"
  },
  "language_info": {
   "codemirror_mode": {
    "name": "ipython",
    "version": 3
   },
   "file_extension": ".py",
   "mimetype": "text/x-python",
   "name": "python",
   "nbconvert_exporter": "python",
   "pygments_lexer": "ipython3",
   "version": "3.9.12"
  }
 },
 "nbformat": 4,
 "nbformat_minor": 5
}
