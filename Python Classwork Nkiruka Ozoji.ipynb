{
 "cells": [
  {
   "cell_type": "code",
   "execution_count": null,
   "id": "b38df13d",
   "metadata": {},
   "outputs": [],
   "source": [
    "##.Write a function to calculate the multiplication and sum of two numbers.\n",
    "##.\tWrite a function to print the sum of the current number and the previous numberr\n",
    "##.\tWrite a function to print characters from a string that are present at an even index number\n",
    "##.\tWrite a function to remove first characters from a string\n",
    "##.\tWrite a function to check if the first and last number of a list is the same\n",
    "##.\t Write a function to print multiplication table from 1 to 10\n",
    "##.\tGiven a two list of numbers, write a function to create a new list such that the new list should contain odd numbers from the first list and even numbers from the second list."
   ]
  },
  {
   "cell_type": "code",
   "execution_count": 61,
   "id": "c961b1d4",
   "metadata": {},
   "outputs": [
    {
     "name": "stdout",
     "output_type": "stream",
     "text": [
      "the result is: 18\n",
      "the result is: 55\n"
     ]
    }
   ],
   "source": [
    "1.##.Write a function to calculate the multiplication and sum of two numbers.\n",
    "def mul_add(a,b):\n",
    "    multi = a * b\n",
    "    while multi <= 50:\n",
    "        return multi\n",
    "    else:\n",
    "        return a + b\n",
    "    \n",
    "multi_add = mul_add(7,11)\n",
    "print('the result is:', multi_add)\n",
    "\n",
    "multi_add = mul_add(50,5)\n",
    "print('the result is:', multi_add)\n",
    "    "
   ]
  },
  {
   "cell_type": "code",
   "execution_count": 12,
   "id": "0613aaf0",
   "metadata": {},
   "outputs": [],
   "source": [
    "2.##.\tWrite a function to print the sum of the current number and the previous number\n",
    "\n",
    "def sum_current_previous(numbers): ## asin 1 plus 2 plis 3 and going on\n",
    "    \n",
    "    previous_number = 0\n",
    "    \n",
    "    for i in range(1, 10):\n",
    "        \n",
    "        current_number = i + previous_number ##setting variables\n",
    "        \n",
    "    print(\"\\n\") ## means printing it in a new line\n",
    "    \n",
    "    print('Previous Number: ', previous_number)\n",
    "    \n",
    "    print('Current Number: ', current_number)\n",
    "    \n",
    "    sum1 = range(previous_number+current_number)\n",
    "    print(sum1)\n",
    "    \n",
    "    print('Addition of two numbers is: ', sum(sum1))"
   ]
  },
  {
   "cell_type": "code",
   "execution_count": 13,
   "id": "24923875",
   "metadata": {},
   "outputs": [
    {
     "name": "stdout",
     "output_type": "stream",
     "text": [
      "\n",
      "\n",
      "Previous Number:  0\n",
      "Current Number:  9\n",
      "range(0, 9)\n",
      "Addition of two numbers is:  36\n"
     ]
    }
   ],
   "source": [
    "numbers = range(1, 10)\n",
    "sum_current_previous(numbers)"
   ]
  },
  {
   "cell_type": "code",
   "execution_count": null,
   "id": "a1c7d704",
   "metadata": {},
   "outputs": [],
   "source": [
    "2.##.\tWrite a function to print the sum of the current number and the previous number\n",
    "def summing(numbers):\n",
    "    total = 0\n",
    "    for x in range(1,10):\n",
    "        print(x)\n",
    "        total = total + x\n",
    "        print(total)\n",
    "    return total"
   ]
  },
  {
   "cell_type": "code",
   "execution_count": 35,
   "id": "c70d7282",
   "metadata": {},
   "outputs": [],
   "source": [
    "3.##.\tWrite a function to print characters from a string that are present at an even index number\n",
    "## think of it as {python} to be {0,1,2,3,4,5}, we are to return only the even characters.\n",
    "def info(string):\n",
    "    for i in string:\n",
    "        print(i)\n",
    "##given that we are searching for even index from 0, 2, 4 etc"
   ]
  },
  {
   "cell_type": "code",
   "execution_count": 36,
   "id": "87cd2ae2",
   "metadata": {},
   "outputs": [
    {
     "name": "stdout",
     "output_type": "stream",
     "text": [
      "F\n",
      "e\n",
      "h\n",
      "i\n",
      "h\n"
     ]
    }
   ],
   "source": [
    "string = 'Freshfish'\n",
    "info(string[0: :2])"
   ]
  },
  {
   "cell_type": "code",
   "execution_count": 58,
   "id": "21e7ec16",
   "metadata": {},
   "outputs": [
    {
     "name": "stdout",
     "output_type": "stream",
     "text": [
      "y\n",
      "t\n",
      "h\n",
      "o\n",
      "n\n"
     ]
    }
   ],
   "source": [
    " 4## Write a fnction to remove first characters from a string.\n",
    "def index(string):\n",
    "    for words in string:\n",
    "        print(words)\n",
    "string = 'python'\n",
    "info(string[1::])"
   ]
  },
  {
   "cell_type": "code",
   "execution_count": null,
   "id": "8392dce4",
   "metadata": {},
   "outputs": [],
   "source": []
  },
  {
   "cell_type": "code",
   "execution_count": null,
   "id": "446a4a95",
   "metadata": {},
   "outputs": [],
   "source": []
  },
  {
   "cell_type": "code",
   "execution_count": 68,
   "id": "98da5884",
   "metadata": {},
   "outputs": [],
   "source": [
    "5##.\tWrite a function to check if the first and last number of a list is the same\n",
    "def first_and_last(numbers):\n",
    "    first_set=number[0]\n",
    "    last_set=number[-1]\n",
    "    if first_set==last_set:\n",
    "        return True\n",
    "    else:\n",
    "        return False"
   ]
  },
  {
   "cell_type": "code",
   "execution_count": 71,
   "id": "a9fb976b",
   "metadata": {},
   "outputs": [
    {
     "name": "stdout",
     "output_type": "stream",
     "text": [
      "False\n",
      "False\n"
     ]
    }
   ],
   "source": [
    "\n",
    "number=[10,20,20,40,60]\n",
    "print(first_and_last(numbers))\n",
    "\n",
    "numbers=[30,50,90,80,60]\n",
    "print(first_and_last(numbers))\n"
   ]
  },
  {
   "cell_type": "code",
   "execution_count": 59,
   "id": "bcb975b8",
   "metadata": {},
   "outputs": [],
   "source": [
    "6##.\t Write a function to print multiplication table from 1 to 10\n",
    "def multiplication():\n",
    "    for v in range(1, 11):\n",
    "        for w in range(1, 11):\n",
    "            print(v,\"*\",w,\"=\",v*w,end=\"\\t\\n\") ## appear as this and mark as tab and also as a new line\n",
    "        print(\"\\t\")"
   ]
  },
  {
   "cell_type": "code",
   "execution_count": 60,
   "id": "7441741b",
   "metadata": {},
   "outputs": [
    {
     "name": "stdout",
     "output_type": "stream",
     "text": [
      "1 * 1 = 1\t\n",
      "1 * 2 = 2\t\n",
      "1 * 3 = 3\t\n",
      "1 * 4 = 4\t\n",
      "1 * 5 = 5\t\n",
      "1 * 6 = 6\t\n",
      "1 * 7 = 7\t\n",
      "1 * 8 = 8\t\n",
      "1 * 9 = 9\t\n",
      "1 * 10 = 10\t\n",
      "\t\n",
      "2 * 1 = 2\t\n",
      "2 * 2 = 4\t\n",
      "2 * 3 = 6\t\n",
      "2 * 4 = 8\t\n",
      "2 * 5 = 10\t\n",
      "2 * 6 = 12\t\n",
      "2 * 7 = 14\t\n",
      "2 * 8 = 16\t\n",
      "2 * 9 = 18\t\n",
      "2 * 10 = 20\t\n",
      "\t\n",
      "3 * 1 = 3\t\n",
      "3 * 2 = 6\t\n",
      "3 * 3 = 9\t\n",
      "3 * 4 = 12\t\n",
      "3 * 5 = 15\t\n",
      "3 * 6 = 18\t\n",
      "3 * 7 = 21\t\n",
      "3 * 8 = 24\t\n",
      "3 * 9 = 27\t\n",
      "3 * 10 = 30\t\n",
      "\t\n",
      "4 * 1 = 4\t\n",
      "4 * 2 = 8\t\n",
      "4 * 3 = 12\t\n",
      "4 * 4 = 16\t\n",
      "4 * 5 = 20\t\n",
      "4 * 6 = 24\t\n",
      "4 * 7 = 28\t\n",
      "4 * 8 = 32\t\n",
      "4 * 9 = 36\t\n",
      "4 * 10 = 40\t\n",
      "\t\n",
      "5 * 1 = 5\t\n",
      "5 * 2 = 10\t\n",
      "5 * 3 = 15\t\n",
      "5 * 4 = 20\t\n",
      "5 * 5 = 25\t\n",
      "5 * 6 = 30\t\n",
      "5 * 7 = 35\t\n",
      "5 * 8 = 40\t\n",
      "5 * 9 = 45\t\n",
      "5 * 10 = 50\t\n",
      "\t\n",
      "6 * 1 = 6\t\n",
      "6 * 2 = 12\t\n",
      "6 * 3 = 18\t\n",
      "6 * 4 = 24\t\n",
      "6 * 5 = 30\t\n",
      "6 * 6 = 36\t\n",
      "6 * 7 = 42\t\n",
      "6 * 8 = 48\t\n",
      "6 * 9 = 54\t\n",
      "6 * 10 = 60\t\n",
      "\t\n",
      "7 * 1 = 7\t\n",
      "7 * 2 = 14\t\n",
      "7 * 3 = 21\t\n",
      "7 * 4 = 28\t\n",
      "7 * 5 = 35\t\n",
      "7 * 6 = 42\t\n",
      "7 * 7 = 49\t\n",
      "7 * 8 = 56\t\n",
      "7 * 9 = 63\t\n",
      "7 * 10 = 70\t\n",
      "\t\n",
      "8 * 1 = 8\t\n",
      "8 * 2 = 16\t\n",
      "8 * 3 = 24\t\n",
      "8 * 4 = 32\t\n",
      "8 * 5 = 40\t\n",
      "8 * 6 = 48\t\n",
      "8 * 7 = 56\t\n",
      "8 * 8 = 64\t\n",
      "8 * 9 = 72\t\n",
      "8 * 10 = 80\t\n",
      "\t\n",
      "9 * 1 = 9\t\n",
      "9 * 2 = 18\t\n",
      "9 * 3 = 27\t\n",
      "9 * 4 = 36\t\n",
      "9 * 5 = 45\t\n",
      "9 * 6 = 54\t\n",
      "9 * 7 = 63\t\n",
      "9 * 8 = 72\t\n",
      "9 * 9 = 81\t\n",
      "9 * 10 = 90\t\n",
      "\t\n",
      "10 * 1 = 10\t\n",
      "10 * 2 = 20\t\n",
      "10 * 3 = 30\t\n",
      "10 * 4 = 40\t\n",
      "10 * 5 = 50\t\n",
      "10 * 6 = 60\t\n",
      "10 * 7 = 70\t\n",
      "10 * 8 = 80\t\n",
      "10 * 9 = 90\t\n",
      "10 * 10 = 100\t\n",
      "\t\n"
     ]
    }
   ],
   "source": [
    "multiplication()"
   ]
  },
  {
   "cell_type": "code",
   "execution_count": 48,
   "id": "0194947a",
   "metadata": {},
   "outputs": [
    {
     "name": "stdout",
     "output_type": "stream",
     "text": [
      "[12, 14, 16, 18, 21, 23, 25, 27, 29]\n"
     ]
    }
   ],
   "source": [
    "7##.\tGiven a two list of numbers, write a function to create a new list such that the new list should contain odd numbers from the first list and even numbers from the second list.\n",
    "first_list = [11, 12, 13, 14, 15, 16, 17, 18, 19]\n",
    "second_list = [21, 22, 23, 24, 25, 26, 27, 28, 29]\n",
    "    mainlist = []\n",
    "for v in first_list:\n",
    "  if v % 2 == 0: ##modulus to fish out even and oss numbers with division\n",
    "    mainlist.append(v)\n",
    "for w in second_list:\n",
    "  if w % 2 != 0:\n",
    "    mainlist.append(w)\n",
    "print(mainlist)"
   ]
  },
  {
   "cell_type": "code",
   "execution_count": null,
   "id": "6d9e84cf",
   "metadata": {},
   "outputs": [],
   "source": []
  }
 ],
 "metadata": {
  "kernelspec": {
   "display_name": "Python 3 (ipykernel)",
   "language": "python",
   "name": "python3"
  },
  "language_info": {
   "codemirror_mode": {
    "name": "ipython",
    "version": 3
   },
   "file_extension": ".py",
   "mimetype": "text/x-python",
   "name": "python",
   "nbconvert_exporter": "python",
   "pygments_lexer": "ipython3",
   "version": "3.9.12"
  }
 },
 "nbformat": 4,
 "nbformat_minor": 5
}
