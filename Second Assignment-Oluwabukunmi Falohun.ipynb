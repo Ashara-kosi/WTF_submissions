{
 "cells": [
  {
   "cell_type": "code",
   "execution_count": null,
   "id": "07fc5f3f",
   "metadata": {},
   "outputs": [],
   "source": [
    "#Question 1\n",
    "#Write a function called showNumbers that takes a parameter called limit. It should print all the numbers between 0 and limit \n",
    "#with a label to identify the even and odd numbers.For example, if the limit is 3, it should print:0 EVEN 1 ODD 2 EVEN 3 ODD"
   ]
  },
  {
   "cell_type": "code",
   "execution_count": 48,
   "id": "8d1cfd23",
   "metadata": {},
   "outputs": [
    {
     "name": "stdout",
     "output_type": "stream",
     "text": [
      "0 Even\n",
      "1 Odd\n",
      "2 Even\n",
      "3 Odd\n",
      "4 Even\n",
      "5 Odd\n",
      "6 Even\n",
      "7 Odd\n"
     ]
    }
   ],
   "source": [
    "def show_numbers(limit):\n",
    "    for i in range(0,limit+1):\n",
    "        if i%2==0:\n",
    "            print(i, \"Even\")\n",
    "        else:\n",
    "                print(i, \"Odd\") \n",
    "                end=' '\n",
    "show_numbers(7)"
   ]
  },
  {
   "cell_type": "code",
   "execution_count": null,
   "id": "c889387c",
   "metadata": {},
   "outputs": [],
   "source": [
    "#Question 2\n",
    "#Write a function that returns the sum of multiples of 3 and 5 between 0 and limit (parameter). For example, if limit is 20, \n",
    "#it should return the sum of 3, 5, 6, 9, 10,12, 15, 18, 20."
   ]
  },
  {
   "cell_type": "code",
   "execution_count": 52,
   "id": "7c30c2ab",
   "metadata": {},
   "outputs": [
    {
     "name": "stdout",
     "output_type": "stream",
     "text": [
      "<built-in function sum>\n",
      "enter the limit: 20\n"
     ]
    }
   ],
   "source": [
    "def sum_of_multiples(limit):\n",
    "    sum=[]\n",
    "    for number in range(1, limit):\n",
    "            if number%3 == 0:\n",
    "                sum.append(number)\n",
    "            if number%5 == 0:\n",
    "                sum.append(number)\n",
    "print(sum)\n",
    "\n",
    "sum_of_multiples(int(input(\"enter the limit: \")))"
   ]
  },
  {
   "cell_type": "code",
   "execution_count": null,
   "id": "7ad07818",
   "metadata": {},
   "outputs": [],
   "source": [
    "#Question 3\n",
    "#Write a function called show_stars(rows). If rows is 5, it should print the following:***"
   ]
  },
  {
   "cell_type": "code",
   "execution_count": 21,
   "id": "9e7d80aa",
   "metadata": {},
   "outputs": [
    {
     "name": "stdout",
     "output_type": "stream",
     "text": [
      "Enter the number of rows: 5\n",
      "*\n",
      "**\n",
      "***\n",
      "****\n",
      "*****\n"
     ]
    }
   ],
   "source": [
    "def print_stars(count):\n",
    "    for i in range(1, count+1):\n",
    "        print('*' * i)\n",
    "\n",
    "n=int(input(\"Enter the number of rows: \"))\n",
    "print_stars(n)"
   ]
  },
  {
   "cell_type": "code",
   "execution_count": null,
   "id": "bec059d5",
   "metadata": {},
   "outputs": [],
   "source": [
    "#Question 4\n",
    "#Write a function that prints all the prime numbers between 0 and limit where limit is a parameter."
   ]
  },
  {
   "cell_type": "code",
   "execution_count": 30,
   "id": "1a0a18e4",
   "metadata": {},
   "outputs": [
    {
     "name": "stdout",
     "output_type": "stream",
     "text": [
      "Please input a number: 25\n",
      "2  is a prime number\n",
      "3  is a prime number\n",
      "5  is a prime number\n",
      "7  is a prime number\n",
      "11  is a prime number\n",
      "13  is a prime number\n",
      "17  is a prime number\n",
      "19  is a prime number\n",
      "23  is a prime number\n"
     ]
    }
   ],
   "source": [
    "def prime_number (limit):\n",
    "    for number in range(0, limit+1):\n",
    "        if number > 1:\n",
    "            for i in range(2, number):\n",
    "                if number % i ==0:\n",
    "                    break\n",
    "            else:\n",
    "                print (number, ' is a prime number')\n",
    "\n",
    "\n",
    "\n",
    "limit= int(input('Please input a number: '))\n",
    "prime_number(limit)"
   ]
  },
  {
   "cell_type": "code",
   "execution_count": null,
   "id": "6e93e009",
   "metadata": {},
   "outputs": [],
   "source": [
    "#Question 5\n",
    "#Write a program (function!) that takes a list and returns a new list that contains all the elements of the first list minus \n",
    "#all the duplicates."
   ]
  },
  {
   "cell_type": "code",
   "execution_count": 32,
   "id": "166a854e",
   "metadata": {},
   "outputs": [
    {
     "data": {
      "text/plain": [
       "{2, 3, 4, 5, 6, 7, 8, 9}"
      ]
     },
     "execution_count": 32,
     "metadata": {},
     "output_type": "execute_result"
    }
   ],
   "source": [
    "def unique_list(list):\n",
    "    new_list= []\n",
    "    for items in list:\n",
    "        if items not in new_list:\n",
    "            new_list.append(items)\n",
    "    return set(new_list)\n",
    "unique_list([2,3,4,5,6,8,2,3,4,9,5,7])"
   ]
  },
  {
   "cell_type": "code",
   "execution_count": null,
   "id": "7144b9a0",
   "metadata": {},
   "outputs": [],
   "source": [
    "#Question 6\n",
    "#Write a function to ask the user for a number and determine whether the number is prime or not."
   ]
  },
  {
   "cell_type": "code",
   "execution_count": 36,
   "id": "fc8cc602",
   "metadata": {},
   "outputs": [
    {
     "name": "stdout",
     "output_type": "stream",
     "text": [
      "Please input number10\n",
      "10  is not a prime number\n"
     ]
    }
   ],
   "source": [
    "def prime(n):\n",
    "    if n > 1:\n",
    "        for i in range(2, n):\n",
    "            if (n%i) == 0:\n",
    "                print(n, ' is not a prime number')\n",
    "                break\n",
    "            else:\n",
    "                print(n, 'is a prime number' )\n",
    "\n",
    "\n",
    "\n",
    "n= int(input('Please input number'))\n",
    "prime(n)"
   ]
  },
  {
   "cell_type": "code",
   "execution_count": null,
   "id": "7d6e569e",
   "metadata": {},
   "outputs": [],
   "source": [
    "#Question 7\n",
    "#Write a program that asks the user how many Fibonnaci numbers to generate and then generates them"
   ]
  },
  {
   "cell_type": "code",
   "execution_count": 37,
   "id": "0c1e67fe",
   "metadata": {},
   "outputs": [
    {
     "name": "stdout",
     "output_type": "stream",
     "text": [
      "How many Fibonacci numbers should I generate 15\n",
      "The first 15 Fibonacci numbers are: [1, 1, 2, 3, 5, 8, 13, 21, 34, 55, 89, 144, 233, 377, 610]\n"
     ]
    }
   ],
   "source": [
    "def fib(a,b):\n",
    "    return a + b\n",
    "number = int(input('How many Fibonacci numbers should I generate '))\n",
    "\n",
    "\n",
    "\n",
    "fibonacci_list =[]\n",
    "for n in range(number):\n",
    "    if n in [0,1]:\n",
    "        fibonacci_list += [1]\n",
    "    else:\n",
    "        fibonacci_list += [fib(fibonacci_list[n-2], fibonacci_list[n-1])]\n",
    "print('The first', number, 'Fibonacci numbers are:', fibonacci_list)"
   ]
  },
  {
   "cell_type": "code",
   "execution_count": null,
   "id": "004eb5a2",
   "metadata": {},
   "outputs": [],
   "source": [
    "#Question 8\n",
    "#Write a function that ask the user for a string and print out whether this string is a palindrome or not."
   ]
  },
  {
   "cell_type": "code",
   "execution_count": 40,
   "id": "805e5d1f",
   "metadata": {},
   "outputs": [
    {
     "name": "stdout",
     "output_type": "stream",
     "text": [
      "input your stringmadam\n",
      "madam  is a palindrome\n"
     ]
    }
   ],
   "source": [
    "def pal(n):\n",
    "    if n[::1] == n[::-1]:\n",
    "        print(n, ' is a palindrome')\n",
    "    else:\n",
    "        print(n, ' is not a palindrome')\n",
    "        \n",
    "string= str(input('input your string'))\n",
    "pal(string)"
   ]
  },
  {
   "cell_type": "code",
   "execution_count": null,
   "id": "141c13c8",
   "metadata": {},
   "outputs": [],
   "source": [
    "#Question 9\n",
    "#Write a function that takes an ordered list of numbers (a list where the elements are in order from smallest to largest) and \n",
    "#another number."
   ]
  },
  {
   "cell_type": "code",
   "execution_count": 43,
   "id": "9095bd7d",
   "metadata": {},
   "outputs": [
    {
     "name": "stdout",
     "output_type": "stream",
     "text": [
      "It is in thelist\n",
      "It is in thelist\n",
      "It is in thelist\n",
      "It is in thelist\n",
      "None\n"
     ]
    }
   ],
   "source": [
    "def order (x):\n",
    "    thelist = [4,6,8,10]\n",
    "    for i in thelist:\n",
    "        if x in thelist:\n",
    "            print(\"It is in thelist\")\n",
    "        else:\n",
    "            print(\"It is not in thelist\")\n",
    "print(order(8))"
   ]
  },
  {
   "cell_type": "code",
   "execution_count": null,
   "id": "1735550c",
   "metadata": {},
   "outputs": [],
   "source": [
    "#Question 10\n",
    "#Create a program that asks the user to enter their name and their age. Print out a message addressed to them that tells them \n",
    "#the year that they will turn 100 years old"
   ]
  },
  {
   "cell_type": "code",
   "execution_count": 44,
   "id": "acdf9acc",
   "metadata": {},
   "outputs": [
    {
     "name": "stdout",
     "output_type": "stream",
     "text": [
      "2022-09-29 08:51:33.834346\n"
     ]
    }
   ],
   "source": [
    "import datetime\n",
    "\n",
    "x = datetime.datetime.now()\n",
    "\n",
    "print(x)"
   ]
  },
  {
   "cell_type": "code",
   "execution_count": 50,
   "id": "41cb7633",
   "metadata": {},
   "outputs": [
    {
     "name": "stdout",
     "output_type": "stream",
     "text": [
      "Enter your name: Bukunmi\n",
      "Enter your age: 18\n"
     ]
    },
    {
     "ename": "TypeError",
     "evalue": "unsupported operand type(s) for -: 'datetime.datetime' and 'int'",
     "output_type": "error",
     "traceback": [
      "\u001b[1;31m---------------------------------------------------------------------------\u001b[0m",
      "\u001b[1;31mTypeError\u001b[0m                                 Traceback (most recent call last)",
      "Input \u001b[1;32mIn [50]\u001b[0m, in \u001b[0;36m<cell line: 4>\u001b[1;34m()\u001b[0m\n\u001b[0;32m      1\u001b[0m Name \u001b[38;5;241m=\u001b[39m \u001b[38;5;28minput\u001b[39m(\u001b[38;5;124m\"\u001b[39m\u001b[38;5;124mEnter your name: \u001b[39m\u001b[38;5;124m\"\u001b[39m)\n\u001b[0;32m      2\u001b[0m Age \u001b[38;5;241m=\u001b[39m \u001b[38;5;28mint\u001b[39m(\u001b[38;5;28minput\u001b[39m(\u001b[38;5;124m\"\u001b[39m\u001b[38;5;124mEnter your age: \u001b[39m\u001b[38;5;124m\"\u001b[39m))\n\u001b[1;32m----> 4\u001b[0m \u001b[38;5;28mprint\u001b[39m(Name\u001b[38;5;241m+\u001b[39m\u001b[38;5;124m\"\u001b[39m\u001b[38;5;124m will turn 100 in \u001b[39m\u001b[38;5;124m\"\u001b[39m \u001b[38;5;241m+\u001b[39m\u001b[38;5;28mstr\u001b[39m(\u001b[43mx\u001b[49m\u001b[43m \u001b[49m\u001b[38;5;241;43m-\u001b[39;49m\u001b[43m \u001b[49m\u001b[43mAge\u001b[49m \u001b[38;5;241m+\u001b[39m \u001b[38;5;241m100\u001b[39m))\n",
      "\u001b[1;31mTypeError\u001b[0m: unsupported operand type(s) for -: 'datetime.datetime' and 'int'"
     ]
    }
   ],
   "source": [
    "Name = input(\"Enter your name: \")\n",
    "Age = int(input(\"Enter your age: \"))\n",
    "\n",
    "print(Name+\" will turn 100 in \" +str(x - Age + 100))"
   ]
  },
  {
   "cell_type": "code",
   "execution_count": null,
   "id": "c3d0ed28",
   "metadata": {},
   "outputs": [],
   "source": []
  }
 ],
 "metadata": {
  "kernelspec": {
   "display_name": "Python 3 (ipykernel)",
   "language": "python",
   "name": "python3"
  },
  "language_info": {
   "codemirror_mode": {
    "name": "ipython",
    "version": 3
   },
   "file_extension": ".py",
   "mimetype": "text/x-python",
   "name": "python",
   "nbconvert_exporter": "python",
   "pygments_lexer": "ipython3",
   "version": "3.9.12"
  }
 },
 "nbformat": 4,
 "nbformat_minor": 5
}
