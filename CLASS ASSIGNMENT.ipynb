{
 "cells": [
  {
   "cell_type": "markdown",
   "id": "8a55b81d",
   "metadata": {},
   "source": [
    "1.Write a function to calculate a multiplication table and sum of two numbers"
   ]
  },
  {
   "cell_type": "code",
   "execution_count": 1,
   "id": "3ee7c752",
   "metadata": {},
   "outputs": [
    {
     "name": "stdout",
     "output_type": "stream",
     "text": [
      "The product of two numbers is 90 \n",
      "The sum of the two number is 19\n"
     ]
    }
   ],
   "source": [
    "def mult_or_sum(m,n):\n",
    "    product = m * n\n",
    "    sum = m + n\n",
    "    print(\"The product of two numbers is\",product,\"\\n\" \"The sum of the two number is\",sum)\n",
    "mult_or_sum(9,10)   "
   ]
  },
  {
   "cell_type": "markdown",
   "id": "e62e909e",
   "metadata": {},
   "source": [
    "2.Write a function to print the sum of the current number and previous number"
   ]
  },
  {
   "cell_type": "code",
   "execution_count": 2,
   "id": "1d9a6100",
   "metadata": {},
   "outputs": [
    {
     "name": "stdout",
     "output_type": "stream",
     "text": [
      "Current Number  1 Previous Number 0 sum = 1\n",
      "Current Number  2 Previous Number 0 sum = 2\n",
      "Current Number  3 Previous Number 0 sum = 3\n",
      "Current Number  4 Previous Number 0 sum = 4\n",
      "Current Number  5 Previous Number 0 sum = 5\n",
      "Current Number  6 Previous Number 0 sum = 6\n",
      "Current Number  7 Previous Number 0 sum = 7\n",
      "Current Number  8 Previous Number 0 sum = 8\n",
      "Current Number  9 Previous Number 0 sum = 9\n"
     ]
    }
   ],
   "source": [
    "previous_number = 0\n",
    "def sum_of_current_and_previous(previous_number):\n",
    "    for i in range(1,10):\n",
    "        sum_of_number = i + previous_number\n",
    "        print(\"Current Number \",i,\"Previous Number\",previous_number,\"sum =\", sum_of_number)\n",
    "sum_of_current_and_previous(previous_number)"
   ]
  },
  {
   "cell_type": "markdown",
   "id": "8f169cdd",
   "metadata": {},
   "source": [
    "3.Write a function to print characters from a string that are present at an even index number"
   ]
  },
  {
   "cell_type": "code",
   "execution_count": 3,
   "id": "238dd030",
   "metadata": {},
   "outputs": [
    {
     "name": "stdout",
     "output_type": "stream",
     "text": [
      "N\n",
      "n\n",
      "y\n",
      "e\n"
     ]
    }
   ],
   "source": [
    "str = \"Nancyper\"\n",
    "def even_index_num(str):\n",
    "    x =list(str)\n",
    "    for i in x[0::2]:\n",
    "        print(i)\n",
    "even_index_num(str)"
   ]
  },
  {
   "cell_type": "markdown",
   "id": "d6f502ac",
   "metadata": {},
   "source": [
    "4.Write a function to remove the first characters from a string"
   ]
  },
  {
   "cell_type": "code",
   "execution_count": 4,
   "id": "f8208716",
   "metadata": {},
   "outputs": [
    {
     "name": "stdout",
     "output_type": "stream",
     "text": [
      "Nancy\n"
     ]
    }
   ],
   "source": [
    "str = \"NNancy\"\n",
    "def remove_first_character(str):\n",
    "    print(str[1:])\n",
    "remove_first_character(str)"
   ]
  },
  {
   "cell_type": "code",
   "execution_count": null,
   "id": "e0be7601",
   "metadata": {},
   "outputs": [],
   "source": [
    "5.Write a function to check if the first and last number of a list is the same"
   ]
  },
  {
   "cell_type": "code",
   "execution_count": 5,
   "id": "771a9352",
   "metadata": {},
   "outputs": [
    {
     "name": "stdout",
     "output_type": "stream",
     "text": [
      "True\n"
     ]
    }
   ],
   "source": [
    "list = [12,13,14,15,16,12]\n",
    "def first_last_same(list):\n",
    "    if list[0] == list[-1]:\n",
    "        print(True)\n",
    "    else:\n",
    "        print(False) \n",
    "first_last_same(list)"
   ]
  },
  {
   "cell_type": "markdown",
   "id": "73aba88e",
   "metadata": {},
   "source": [
    "6.Given a two list of numbers,write a function to create a new list such that the new list should contain odd numbers from the first list and even numbers from the second list"
   ]
  },
  {
   "cell_type": "code",
   "execution_count": 6,
   "id": "76c7b93e",
   "metadata": {},
   "outputs": [
    {
     "data": {
      "text/plain": [
       "[25, 35, 50, 60, 70]"
      ]
     },
     "execution_count": 6,
     "metadata": {},
     "output_type": "execute_result"
    }
   ],
   "source": [
    "list1 = [10,20,25,30,35,40]\n",
    "list2 = [45,50,60,65,70,75]\n",
    "def add_list(list1,list2):\n",
    "    result_list=[]\n",
    "    for i in list1:\n",
    "        if i % 2 != 0:\n",
    "            result_list.append(i)\n",
    "    for i in list2:\n",
    "        if i % 2 == 0:\n",
    "            result_list.append(i)\n",
    "    return result_list\n",
    "add_list(list1,list2)"
   ]
  },
  {
   "cell_type": "markdown",
   "id": "80a9087b",
   "metadata": {},
   "source": [
    "7.Write a function to print multiplication table from 1 to 10"
   ]
  },
  {
   "cell_type": "code",
   "execution_count": 7,
   "id": "d70005e3",
   "metadata": {},
   "outputs": [
    {
     "name": "stdout",
     "output_type": "stream",
     "text": [
      "1\t2\t3\t4\t5\t6\t7\t8\t9\t10\t2\t4\t6\t8\t10\t12\t14\t16\t18\t20\t3\t6\t9\t12\t15\t18\t21\t24\t27\t30\t4\t8\t12\t16\t20\t24\t28\t32\t36\t40\t5\t10\t15\t20\t25\t30\t35\t40\t45\t50\t6\t12\t18\t24\t30\t36\t42\t48\t54\t60\t7\t14\t21\t28\t35\t42\t49\t56\t63\t70\t8\t16\t24\t32\t40\t48\t56\t64\t72\t80\t9\t18\t27\t36\t45\t54\t63\t72\t81\t90\t10\t20\t30\t40\t50\t60\t70\t80\t90\t100\t"
     ]
    }
   ],
   "source": [
    "def mult_table(num):\n",
    "    for i in range(1, num+1):\n",
    "        for n in range(1,num+1):\n",
    "            print(i * n, end=\"\\t\")\n",
    "        \n",
    "mult_table(10)\n",
    "        "
   ]
  },
  {
   "cell_type": "code",
   "execution_count": null,
   "id": "a91e80aa",
   "metadata": {},
   "outputs": [],
   "source": []
  }
 ],
 "metadata": {
  "kernelspec": {
   "display_name": "Python 3 (ipykernel)",
   "language": "python",
   "name": "python3"
  },
  "language_info": {
   "codemirror_mode": {
    "name": "ipython",
    "version": 3
   },
   "file_extension": ".py",
   "mimetype": "text/x-python",
   "name": "python",
   "nbconvert_exporter": "python",
   "pygments_lexer": "ipython3",
   "version": "3.9.7"
  }
 },
 "nbformat": 4,
 "nbformat_minor": 5
}
