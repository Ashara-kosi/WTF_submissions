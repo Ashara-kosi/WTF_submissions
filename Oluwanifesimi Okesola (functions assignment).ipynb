{
 "cells": [
  {
   "cell_type": "markdown",
   "id": "fea59c67",
   "metadata": {},
   "source": [
    "#1.\tWrite a function to calculate the multiplication and sum of two numbers."
   ]
  },
  {
   "cell_type": "code",
   "execution_count": 1,
   "id": "c9b9e8ab",
   "metadata": {},
   "outputs": [],
   "source": [
    "def multiplication_sum(a,b):\n",
    "        print(a * b, a + b)"
   ]
  },
  {
   "cell_type": "code",
   "execution_count": 2,
   "id": "f05f42bb",
   "metadata": {},
   "outputs": [
    {
     "name": "stdout",
     "output_type": "stream",
     "text": [
      "35 12\n"
     ]
    }
   ],
   "source": [
    "multiplication_sum(7,5)"
   ]
  },
  {
   "cell_type": "markdown",
   "id": "28f1271f",
   "metadata": {},
   "source": [
    "#2.\tWrite a function to print the sum of the current number and the previous number"
   ]
  },
  {
   "cell_type": "code",
   "execution_count": 13,
   "id": "291bb055",
   "metadata": {},
   "outputs": [],
   "source": [
    "def sum_cur_pre(a):\n",
    "    pre = (a-1)\n",
    "    print(int(pre) + int(a))"
   ]
  },
  {
   "cell_type": "code",
   "execution_count": 14,
   "id": "020f1780",
   "metadata": {},
   "outputs": [
    {
     "name": "stdout",
     "output_type": "stream",
     "text": [
      "13\n"
     ]
    }
   ],
   "source": [
    "sum_cur_pre(7)"
   ]
  },
  {
   "cell_type": "markdown",
   "id": "e5b05266",
   "metadata": {},
   "source": [
    "#3.\tWrite a function to print characters from a string that are present at an even index number"
   ]
  },
  {
   "cell_type": "code",
   "execution_count": 15,
   "id": "ab9142d0",
   "metadata": {},
   "outputs": [],
   "source": [
    "def char_str(x):\n",
    "    i = 0\n",
    "    while i < (len(x)):\n",
    "        print(x[i])\n",
    "        i=i+2\n",
    "        "
   ]
  },
  {
   "cell_type": "code",
   "execution_count": 16,
   "id": "3ecd6b4c",
   "metadata": {},
   "outputs": [
    {
     "name": "stdout",
     "output_type": "stream",
     "text": [
      "O\n",
      "u\n",
      "a\n",
      "i\n",
      "e\n",
      "i\n",
      "i\n"
     ]
    }
   ],
   "source": [
    "char_str(x)\n",
    "x = \"Oluwanifesimi\""
   ]
  },
  {
   "cell_type": "markdown",
   "id": "467af155",
   "metadata": {},
   "source": [
    "4.#Write a function to remove first characters from a string"
   ]
  },
  {
   "cell_type": "code",
   "execution_count": 165,
   "id": "9e938a84",
   "metadata": {},
   "outputs": [],
   "source": [
    "def remove_first_character(x):\n",
    "    print(x.replace(x[0],''))\n",
    "    "
   ]
  },
  {
   "cell_type": "code",
   "execution_count": 171,
   "id": "6e30f0d4",
   "metadata": {},
   "outputs": [
    {
     "name": "stdout",
     "output_type": "stream",
     "text": [
      "luwanifesimi\n"
     ]
    }
   ],
   "source": [
    "x = 'Oluwanifesimi'\n",
    "remove_first_character(x)\n"
   ]
  },
  {
   "cell_type": "markdown",
   "id": "472926ec",
   "metadata": {},
   "source": [
    "5.#Write a function to check if the first and last number of a list is the same"
   ]
  },
  {
   "cell_type": "code",
   "execution_count": 23,
   "id": "e6b06e1c",
   "metadata": {},
   "outputs": [],
   "source": [
    "def check_first_last(x):\n",
    "    if x[0] == x[-1]:\n",
    "        print(True)\n",
    "    else:\n",
    "        print(False)"
   ]
  },
  {
   "cell_type": "code",
   "execution_count": 24,
   "id": "a313c3b6",
   "metadata": {},
   "outputs": [
    {
     "name": "stdout",
     "output_type": "stream",
     "text": [
      "False\n"
     ]
    }
   ],
   "source": [
    "check_first_last(x)\n",
    "x=[15,23,45,23,'sola']"
   ]
  },
  {
   "cell_type": "markdown",
   "id": "6da40bf4",
   "metadata": {},
   "source": [
    "6# Write a function to print multiplication table from 1 to 10"
   ]
  },
  {
   "cell_type": "code",
   "execution_count": 175,
   "id": "cb9c8898",
   "metadata": {},
   "outputs": [
    {
     "name": "stdout",
     "output_type": "stream",
     "text": [
      "1 \t  2 \t  3 \t  4 \t  5 \t  6 \t  7 \t  8 \t  9 \t  10 \t  2 \t  4 \t  6 \t  8 \t  10 \t  12 \t  14 \t  16 \t  18 \t  20 \t  3 \t  6 \t  9 \t  12 \t  15 \t  18 \t  21 \t  24 \t  27 \t  30 \t  4 \t  8 \t  12 \t  16 \t  20 \t  24 \t  28 \t  32 \t  36 \t  40 \t  5 \t  10 \t  15 \t  20 \t  25 \t  30 \t  35 \t  40 \t  45 \t  50 \t  6 \t  12 \t  18 \t  24 \t  30 \t  36 \t  42 \t  48 \t  54 \t  60 \t  7 \t  14 \t  21 \t  28 \t  35 \t  42 \t  49 \t  56 \t  63 \t  70 \t  8 \t  16 \t  24 \t  32 \t  40 \t  48 \t  56 \t  64 \t  72 \t  80 \t  9 \t  18 \t  27 \t  36 \t  45 \t  54 \t  63 \t  72 \t  81 \t  90 \t  10 \t  20 \t  30 \t  40 \t  50 \t  60 \t  70 \t  80 \t  90 \t  100 \t  "
     ]
    }
   ],
   "source": [
    " for i in range (1,11):\n",
    "        for j in range (1,11):\n",
    "            z=i*j\n",
    "            print(z,end=\" \\t  \")\n",
    "        "
   ]
  },
  {
   "cell_type": "markdown",
   "id": "76d1f44c",
   "metadata": {},
   "source": [
    "#7. write a function to print the odd and even number from a list"
   ]
  },
  {
   "cell_type": "code",
   "execution_count": 99,
   "id": "2426dafe",
   "metadata": {},
   "outputs": [],
   "source": [
    "def odd_even_num():\n",
    "    a=[2,7,9,2,4,5]\n",
    "    b=[4,6,4,5,8,3,1]\n",
    "    c= [n for n in a if n%2] + [n for n in b if not n%2]\n",
    "    print(c)"
   ]
  },
  {
   "cell_type": "code",
   "execution_count": 100,
   "id": "8d8920a8",
   "metadata": {},
   "outputs": [
    {
     "name": "stdout",
     "output_type": "stream",
     "text": [
      "[7, 9, 5, 4, 6, 4, 8]\n"
     ]
    }
   ],
   "source": [
    "odd_even_num()\n"
   ]
  },
  {
   "cell_type": "code",
   "execution_count": null,
   "id": "2d62fe1c",
   "metadata": {},
   "outputs": [],
   "source": []
  }
 ],
 "metadata": {
  "kernelspec": {
   "display_name": "Python 3 (ipykernel)",
   "language": "python",
   "name": "python3"
  },
  "language_info": {
   "codemirror_mode": {
    "name": "ipython",
    "version": 3
   },
   "file_extension": ".py",
   "mimetype": "text/x-python",
   "name": "python",
   "nbconvert_exporter": "python",
   "pygments_lexer": "ipython3",
   "version": "3.9.7"
  }
 },
 "nbformat": 4,
 "nbformat_minor": 5
}
