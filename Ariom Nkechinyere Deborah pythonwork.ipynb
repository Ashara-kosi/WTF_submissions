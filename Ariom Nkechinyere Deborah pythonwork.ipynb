{
 "cells": [
  {
   "cell_type": "code",
   "execution_count": 1,
   "id": "b9ed853d",
   "metadata": {},
   "outputs": [
    {
     "name": "stdout",
     "output_type": "stream",
     "text": [
      "201\n",
      "240\n"
     ]
    }
   ],
   "source": [
    "#1.Write a function to calculate the multiplication and sum of two numbers.\n",
    "def sum_1(x,y):\n",
    "    return x+y\n",
    "def multi(x,y):\n",
    "    return x*y\n",
    "print (sum_1(100,101))\n",
    "print (multi(15,16))"
   ]
  },
  {
   "cell_type": "code",
   "execution_count": 12,
   "id": "62ef4895",
   "metadata": {},
   "outputs": [
    {
     "name": "stdout",
     "output_type": "stream",
     "text": [
      "2\n",
      "6\n",
      "10\n",
      "14\n",
      "18\n",
      "22\n"
     ]
    }
   ],
   "source": [
    "#2.Write a function to print the sum of the current number and the previous numberr\n",
    "def current (list):\n",
    "    for i in range(len(list)):\n",
    "        if i == 0:\n",
    "            print (list[i])\n",
    "        else:\n",
    "            print(list[i-1] + list[i])\n",
    "\n",
    "\n",
    "\n",
    "x= [2, 4, 6, 8, 10, 12]\n",
    "current(x)"
   ]
  },
  {
   "cell_type": "code",
   "execution_count": 3,
   "id": "38c38e92",
   "metadata": {},
   "outputs": [
    {
     "name": "stdout",
     "output_type": "stream",
     "text": [
      "Please type in word of choice: Nkechinyere\n",
      "N\n",
      "e\n",
      "h\n",
      "n\n",
      "e\n",
      "e\n"
     ]
    }
   ],
   "source": [
    "#3.Write a function to print characters from a string that are present at an even index number\n",
    "def even_index(x):\n",
    "    for i in range(len(x)):\n",
    "     if i%2 ==0:\n",
    "            print(x[i])\n",
    "word= str(input('Please type in word of choice: '))\n",
    "even_index(word)"
   ]
  },
  {
   "cell_type": "code",
   "execution_count": 4,
   "id": "da6f90d0",
   "metadata": {},
   "outputs": [
    {
     "name": "stdout",
     "output_type": "stream",
     "text": [
      "please input your stringdeborah\n"
     ]
    },
    {
     "data": {
      "text/plain": [
       "'eborah'"
      ]
     },
     "execution_count": 4,
     "metadata": {},
     "output_type": "execute_result"
    }
   ],
   "source": [
    "#4.Write a function to remove first characters from a string\n",
    "def removal(s):\n",
    "    new_string = s[1:]\n",
    "    return new_string\n",
    "value= str(input(\"please input your string\"))\n",
    "removal(value)"
   ]
  },
  {
   "cell_type": "code",
   "execution_count": 6,
   "id": "ec70e0dc",
   "metadata": {},
   "outputs": [
    {
     "name": "stdout",
     "output_type": "stream",
     "text": [
      "true\n"
     ]
    }
   ],
   "source": [
    "#5. Write a function to check if the first and last number of a list is the same\n",
    "def first_last(numbers):\n",
    "    if numbers[0]==numbers[-1]:\n",
    "        print(\"true\")\n",
    "    else:\n",
    "        print(\"false\")\n",
    "numbers= [9,20,7,6,9]\n",
    "first_last (numbers)"
   ]
  },
  {
   "cell_type": "code",
   "execution_count": 9,
   "id": "ecbdae2f",
   "metadata": {},
   "outputs": [
    {
     "name": "stdout",
     "output_type": "stream",
     "text": [
      "no10\n",
      "10 x 1 = 10\n",
      "10 x 2 = 20\n",
      "10 x 3 = 30\n",
      "10 x 4 = 40\n",
      "10 x 5 = 50\n",
      "10 x 6 = 60\n",
      "10 x 7 = 70\n",
      "10 x 8 = 80\n",
      "10 x 9 = 90\n",
      "10 x 10 = 100\n"
     ]
    }
   ],
   "source": [
    "#Write a function to print multiplication table from 1 to 10\n",
    "def times_table(num):\n",
    "    for i in range(1, 11):\n",
    "        print(num, 'x', i, '=', num*i)\n",
    "\n",
    "\n",
    "#input the number that the user want to print\n",
    "n= int(input('no'))\n",
    "times_table(n)"
   ]
  },
  {
   "cell_type": "code",
   "execution_count": 11,
   "id": "d64f580b",
   "metadata": {},
   "outputs": [
    {
     "data": {
      "text/plain": [
       "[1, 3, 5, 6, 8, 10]"
      ]
     },
     "execution_count": 11,
     "metadata": {},
     "output_type": "execute_result"
    }
   ],
   "source": [
    "#write a function to create a new list such that the new list\n",
    "#should contain odd numbers from the first list and even numbers from the second list.\n",
    "def create(list1, list2):\n",
    "    new_list = []\n",
    "    \n",
    "    for num in list1:\n",
    "        if num % 2 != 0:\n",
    "            new_list.append(num)\n",
    "    \n",
    "    for num in list2:\n",
    "        if num % 2 == 0:\n",
    "            new_list.append(num)\n",
    "    return new_list\n",
    "\n",
    "\n",
    "\n",
    "x= [1,2,3,4,5]\n",
    "y= [6,7,8,9,10]\n",
    "create(x,y)"
   ]
  },
  {
   "cell_type": "code",
   "execution_count": null,
   "id": "e41586ef",
   "metadata": {},
   "outputs": [],
   "source": []
  }
 ],
 "metadata": {
  "kernelspec": {
   "display_name": "Python 3 (ipykernel)",
   "language": "python",
   "name": "python3"
  },
  "language_info": {
   "codemirror_mode": {
    "name": "ipython",
    "version": 3
   },
   "file_extension": ".py",
   "mimetype": "text/x-python",
   "name": "python",
   "nbconvert_exporter": "python",
   "pygments_lexer": "ipython3",
   "version": "3.9.7"
  }
 },
 "nbformat": 4,
 "nbformat_minor": 5
}
