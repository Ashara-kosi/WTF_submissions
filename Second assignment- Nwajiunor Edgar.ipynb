{
 "cells": [
  {
   "cell_type": "code",
   "execution_count": 25,
   "id": "5fa1d62b",
   "metadata": {},
   "outputs": [
    {
     "name": "stdout",
     "output_type": "stream",
     "text": [
      "Enter Limit here:10\n",
      "0 Even\n",
      "1 Odd\n",
      "2 Even\n",
      "3 Odd\n",
      "4 Even\n",
      "5 Odd\n",
      "6 Even\n",
      "7 Odd\n",
      "8 Even\n",
      "9 Odd\n"
     ]
    }
   ],
   "source": [
    "#1.Write a function called showNumbers that takes a parameter called limit. It should print\n",
    "all the numbers between 0 and limit with a label to identify the even and odd numbers.\n",
    "For example, if the limit is 3, it should print:0 EVEN 1 ODD 2 EVEN 3 ODD\n",
    "def showNumbers():\n",
    "    limit = int(input('Enter Limit here:'))\n",
    "    for i in range(0,limit):\n",
    "        if (i%2 == 0):\n",
    "            print(str(i), 'Even')\n",
    "        else:\n",
    "            print(str(i), 'Odd')\n",
    "showNumbers()"
   ]
  },
  {
   "cell_type": "code",
   "execution_count": 26,
   "id": "006c95bf",
   "metadata": {},
   "outputs": [
    {
     "name": "stdout",
     "output_type": "stream",
     "text": [
      "Enter Limit here:25\n",
      "168\n"
     ]
    }
   ],
   "source": [
    "#2. Write a function that returns the sum of multiples of 3 and 5 between 0 and limit (parameter). For example, if limit is 20, it should return the sum of 3, 5, 6, 9, 10, 12, 15, 18, 20.\n",
    "def sumMultiples():\n",
    "    limit = int(input('Enter Limit here:'))\n",
    "    sum = 0\n",
    "    for i in range(0,limit+1):\n",
    "        if (i%3 == 0):\n",
    "            sum = sum + i\n",
    "        elif (i%5 == 0):\n",
    "            sum = sum + i\n",
    "    print(sum)\n",
    "    \n",
    "sumMultiples()"
   ]
  },
  {
   "cell_type": "code",
   "execution_count": 32,
   "id": "dc1bc53f",
   "metadata": {},
   "outputs": [
    {
     "name": "stdout",
     "output_type": "stream",
     "text": [
      "Enter the number of rows: 5\n",
      "***************\n"
     ]
    }
   ],
   "source": [
    "#3. Write a function called show_stars(rows). If rows is 5, it should print the following:***************\n",
    "def show_stars(rows):\n",
    "    rows = int(input(\"Enter the number of rows: \")) \n",
    "    print(\"***\" *rows)       \n",
    "show_stars(5)"
   ]
  },
  {
   "cell_type": "code",
   "execution_count": 33,
   "id": "00274b5b",
   "metadata": {},
   "outputs": [
    {
     "name": "stdout",
     "output_type": "stream",
     "text": [
      "Enter Limit here:29\n",
      "The Prime Numbers in this limit are: \n",
      "2\n",
      "3\n",
      "5\n",
      "7\n",
      "11\n",
      "13\n",
      "17\n",
      "19\n",
      "23\n",
      "29\n"
     ]
    }
   ],
   "source": [
    "#4. Write a function that prints all the prime numbers between 0 and limit where limit is a parameter.\n",
    "def primenumber():\n",
    "    limit = int(input('Enter Limit here:'))\n",
    "  \n",
    "    print (\"The Prime Numbers in this limit are: \")  \n",
    "    for number in range (0, limit+1):\n",
    "        if number > 1:  \n",
    "            for i in range (2, number):  \n",
    "                if (number % i) == 0:  \n",
    "                    break  \n",
    "            else:  \n",
    "                    print (number)\n",
    "primenumber()"
   ]
  },
  {
   "cell_type": "code",
   "execution_count": 35,
   "id": "27189776",
   "metadata": {},
   "outputs": [
    {
     "name": "stdout",
     "output_type": "stream",
     "text": [
      "[2, 4, 5, 7, 8, 9]\n"
     ]
    }
   ],
   "source": [
    "#5. Write a program (function!) that takes a list and returns a new list that contains all the elements of the first list minus all the duplicates.\n",
    "def uniq(num_list):\n",
    "    print (list(set(num_list)))\n",
    "num_list= [2,4,5,5,7,7,8,9]\n",
    "uniq(num_list)"
   ]
  },
  {
   "cell_type": "code",
   "execution_count": 36,
   "id": "bf961aa7",
   "metadata": {},
   "outputs": [
    {
     "name": "stdout",
     "output_type": "stream",
     "text": [
      "Enter a number:16\n",
      "16 is not a prime number\n"
     ]
    }
   ],
   "source": [
    "#6. Write a function to ask the user for a number and determine whether the number is prime or not.\n",
    "def askprimenumber():\n",
    "    number = int(input('Enter a number:'))\n",
    "    if number > 1:  \n",
    "        for i in range (2, number):  \n",
    "            if (number % i) == 0:\n",
    "                print (str(number), 'is not a prime number')\n",
    "                break  \n",
    "        else:  \n",
    "            print (str(number), 'is a prime number')\n",
    "askprimenumber()"
   ]
  },
  {
   "cell_type": "code",
   "execution_count": 37,
   "id": "b8040bfa",
   "metadata": {},
   "outputs": [
    {
     "name": "stdout",
     "output_type": "stream",
     "text": [
      "Here is your ordered list [1, 3, 4, 4, 5, 7, 9]\n",
      "Enter number to add:10\n",
      "[1, 3, 4, 4, 5, 7, 9, 10]\n"
     ]
    }
   ],
   "source": [
    "#9. Write a function that takes an ordered list of numbers (a list where the elements are in order from smallest to largest) and another number.\n",
    "lst=[1,5,4,7,4,9,3]\n",
    "def orderlist(lst):\n",
    "    lst.sort()\n",
    "    print('Here is your ordered list', lst)\n",
    "    num=int(input('Enter number to add:'))\n",
    "    lst.append(num)\n",
    "    print(lst)\n",
    "orderlist(lst)"
   ]
  },
  {
   "cell_type": "code",
   "execution_count": 39,
   "id": "6e76d4c0",
   "metadata": {},
   "outputs": [
    {
     "name": "stdout",
     "output_type": "stream",
     "text": [
      "Temitope is not a palindrome string\n"
     ]
    }
   ],
   "source": [
    "#8. Write a function that ask the user for a string and print out whether this string is a palindrome or not\n",
    "def palindrome_str(obj):\n",
    "    a= obj[: :]\n",
    "    b= obj[: : -1]\n",
    "    if a==b:\n",
    "        print (f'{obj} is a palindrome string')\n",
    "    else:\n",
    "        print (f'{obj} is not a palindrome string' )\n",
    "palindrome_str('Temitope')"
   ]
  },
  {
   "cell_type": "code",
   "execution_count": 41,
   "id": "78dc4f2e",
   "metadata": {},
   "outputs": [
    {
     "name": "stdout",
     "output_type": "stream",
     "text": [
      "Ener your name: Dare\n",
      "Enter your age: 56\n",
      "Dare, you will be 100 years old in the year 2066\n"
     ]
    }
   ],
   "source": [
    "#10. Create a program that asks the user to enter their name and their age. Print out a message addressed to them that tells them the year that they will turn 100 years old.\n",
    "def timecalculator():\n",
    "    name = input(\"Ener your name: \")\n",
    "    age = int(input(\"Enter your age: \"))\n",
    "    year = 2022 - age + 100\n",
    "    print(name + \", you will be 100 years old in the year \" + str(year))\n",
    "timecalculator()"
   ]
  },
  {
   "cell_type": "code",
   "execution_count": 46,
   "id": "cca633a9",
   "metadata": {},
   "outputs": [
    {
     "name": "stdout",
     "output_type": "stream",
     "text": [
      "How many Fibonnaci numbers would you like in your Fibonacci sequence: 6\n"
     ]
    },
    {
     "data": {
      "text/plain": [
       "[1, 1, 2, 3, 5, 8]"
      ]
     },
     "execution_count": 46,
     "metadata": {},
     "output_type": "execute_result"
    }
   ],
   "source": [
    "#7. Write a program that asks the user how many Fibonnaci numbers to generate and then generates them.\n",
    "def fibonacci():\n",
    "    num = int(input(\"How many Fibonnaci numbers would you like in your Fibonacci sequence: \"))\n",
    "    i = 1\n",
    "    if num == 0:\n",
    "        fib = []\n",
    "    elif num == 1:\n",
    "        fib = [1]\n",
    "    elif num == 2:\n",
    "        fib = [1,1]\n",
    "    elif num > 2:\n",
    "        fib = [1,1]\n",
    "        while i < (num - 1):\n",
    "            fib.append(fib[i] + fib[i-1])\n",
    "            i += 1\n",
    "    return fib\n",
    "fibonacci()"
   ]
  },
  {
   "cell_type": "code",
   "execution_count": null,
   "id": "91ade729",
   "metadata": {},
   "outputs": [],
   "source": []
  },
  {
   "cell_type": "code",
   "execution_count": null,
   "id": "d2b5b07a",
   "metadata": {},
   "outputs": [],
   "source": []
  }
 ],
 "metadata": {
  "kernelspec": {
   "display_name": "Python 3 (ipykernel)",
   "language": "python",
   "name": "python3"
  },
  "language_info": {
   "codemirror_mode": {
    "name": "ipython",
    "version": 3
   },
   "file_extension": ".py",
   "mimetype": "text/x-python",
   "name": "python",
   "nbconvert_exporter": "python",
   "pygments_lexer": "ipython3",
   "version": "3.9.12"
  }
 },
 "nbformat": 4,
 "nbformat_minor": 5
}
