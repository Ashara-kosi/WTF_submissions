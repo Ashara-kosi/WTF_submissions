{
 "cells": [
  {
   "cell_type": "code",
   "execution_count": null,
   "id": "50778031",
   "metadata": {},
   "outputs": [],
   "source": [
    "#Question 1 \n",
    "Write a function called showNumbers that takes a parameter called limit. It should print all the numbers between 0 and limit with a label to identify the even and odd numbers. For example, if the limit is 3, it should print:0 EVEN 1 ODD 2 EVEN 3 ODD"
   ]
  },
  {
   "cell_type": "code",
   "execution_count": 1,
   "id": "61dc4284",
   "metadata": {},
   "outputs": [
    {
     "name": "stdout",
     "output_type": "stream",
     "text": [
      "1 odd\n",
      "2 even\n",
      "3 odd\n",
      "4 even\n",
      "5 odd\n",
      "6 even\n",
      "7 odd\n",
      "8 even\n",
      "9 odd\n",
      "10 even\n",
      "11 odd\n",
      "12 even\n",
      "13 odd\n",
      "14 even\n",
      "15 odd\n",
      "16 even\n",
      "17 odd\n",
      "18 even\n",
      "19 odd\n",
      "20 even\n"
     ]
    }
   ],
   "source": [
    "def showNumbers(limit):\n",
    "    for i in range(1,limit+1):\n",
    "        if i % 2 == 0:\n",
    "            print(str(i) + \" even\")\n",
    "        else:\n",
    "            print(str(i) + \" odd\")\n",
    "            \n",
    "            \n",
    "showNumbers(20)"
   ]
  },
  {
   "cell_type": "code",
   "execution_count": null,
   "id": "16489aa8",
   "metadata": {},
   "outputs": [],
   "source": [
    "#Question 2 \n",
    "Write a function that returns the sum of multiples of 3 and 5 between 0 and limit (parameter). For example, if limit is 20, it should return the sum of 3, 5, 6, 9, 10, 12, 15, 18, 20."
   ]
  },
  {
   "cell_type": "code",
   "execution_count": 2,
   "id": "41a879a6",
   "metadata": {
    "collapsed": true
   },
   "outputs": [
    {
     "name": "stdout",
     "output_type": "stream",
     "text": [
      "[0]\n",
      "[0]\n",
      "[0]\n",
      "[0, 3]\n",
      "[0, 3]\n",
      "[0, 3, 5]\n",
      "[0, 3, 5, 6]\n",
      "[0, 3, 5, 6]\n",
      "[0, 3, 5, 6]\n",
      "[0, 3, 5, 6, 9]\n",
      "[0, 3, 5, 6, 9, 10]\n",
      "[0, 3, 5, 6, 9, 10]\n",
      "[0, 3, 5, 6, 9, 10, 12]\n",
      "[0, 3, 5, 6, 9, 10, 12]\n",
      "[0, 3, 5, 6, 9, 10, 12]\n",
      "[0, 3, 5, 6, 9, 10, 12, 15]\n",
      "[0, 3, 5, 6, 9, 10, 12, 15]\n",
      "[0, 3, 5, 6, 9, 10, 12, 15]\n",
      "[0, 3, 5, 6, 9, 10, 12, 15, 18]\n",
      "[0, 3, 5, 6, 9, 10, 12, 15, 18]\n"
     ]
    }
   ],
   "source": [
    "def multiple(limit):\n",
    "    i = 0\n",
    "    multiples = []\n",
    "    while i<limit:\n",
    "        if i%3==0:\n",
    "            multiples.append(i)\n",
    "        elif i%5==0:\n",
    "            multiples.append(i)\n",
    "            \n",
    "        i+=1\n",
    "        \n",
    "        print(multiples)\n",
    "        \n",
    "multiple(20)"
   ]
  },
  {
   "cell_type": "code",
   "execution_count": null,
   "id": "3c37d1cf",
   "metadata": {},
   "outputs": [],
   "source": [
    "#Question 3 \n",
    "Write a function called show_stars(rows). If rows is 5, it should print the following:***************"
   ]
  },
  {
   "cell_type": "code",
   "execution_count": null,
   "id": "d194682a",
   "metadata": {},
   "outputs": [],
   "source": [
    "def show_stars(rows):\n",
    "    i = 1\n",
    "    while i <=10:\n",
    "        print(i * '*')"
   ]
  },
  {
   "cell_type": "code",
   "execution_count": null,
   "id": "7170056d",
   "metadata": {},
   "outputs": [],
   "source": [
    "#Question 4 \n",
    "Write a function that prints all the prime numbers between 0 and limit where limit is a parameter."
   ]
  },
  {
   "cell_type": "code",
   "execution_count": 91,
   "id": "5409fb9b",
   "metadata": {},
   "outputs": [
    {
     "name": "stdout",
     "output_type": "stream",
     "text": [
      "1prime number\n",
      "3prime number\n",
      "5prime number\n",
      "7prime number\n",
      "9prime number\n",
      "11prime number\n",
      "13prime number\n",
      "15prime number\n",
      "17prime number\n"
     ]
    }
   ],
   "source": [
    "def showNumbers(num):\n",
    "    for i in range(1,num-1):\n",
    "        if i % 2-1 == 0:\n",
    "            print(str(i)  +  \"prime number\")\n",
    "            \n",
    "showNumbers(20)"
   ]
  },
  {
   "cell_type": "code",
   "execution_count": 90,
   "id": "d0a0f87e",
   "metadata": {},
   "outputs": [],
   "source": [
    "#Queston 5 \n",
    "#Write a program (function!) that takes a list and returns a new list that contains all the elements of the first list minus all the duplicates."
   ]
  },
  {
   "cell_type": "code",
   "execution_count": 66,
   "id": "810ea6cb",
   "metadata": {},
   "outputs": [
    {
     "name": "stdout",
     "output_type": "stream",
     "text": [
      "[1, 2, 4, 5, 6, 8, 7, 9]\n"
     ]
    }
   ],
   "source": [
    "def remove_duplicates(arr):\n",
    "    newlist = list(dict.fromkeys(arr))\n",
    "    print(newlist)\n",
    "\n",
    "remove_duplicates([1,2,4,5,5,5,6,8,7,7,7,7,])"
   ]
  },
  {
   "cell_type": "code",
   "execution_count": null,
   "id": "fef05b5a",
   "metadata": {},
   "outputs": [],
   "source": [
    "#Question 6 \n",
    "Write a function to ask the user for a number and determine whether the number is prime or not. "
   ]
  },
  {
   "cell_type": "code",
   "execution_count": 38,
   "id": "2b037058",
   "metadata": {},
   "outputs": [
    {
     "name": "stdout",
     "output_type": "stream",
     "text": [
      "Enter a number6\n",
      "6 is not a prime number\n"
     ]
    }
   ],
   "source": [
    "def checkifisprime():\n",
    "    num=int(input(\"Enter a number\"))\n",
    "    if num <=1:\n",
    "        print (num, \"is a prime number\")\n",
    "        return\n",
    "    else:\n",
    "        for i in range(2,int(num/2)+1):\n",
    "              if num%i==0:\n",
    "                print(num, \"is not a prime number\")\n",
    "                return\n",
    "                print (num, \"is a prime number\")\n",
    "checkifisprime()"
   ]
  },
  {
   "cell_type": "code",
   "execution_count": 83,
   "id": "31f07e21",
   "metadata": {},
   "outputs": [],
   "source": [
    "#Question 7 \n",
    "#Write a program that asks the user how many Fibonnaci numbers to generate and then generates them. "
   ]
  },
  {
   "cell_type": "code",
   "execution_count": null,
   "id": "9ac32708",
   "metadata": {},
   "outputs": [],
   "source": []
  },
  {
   "cell_type": "code",
   "execution_count": null,
   "id": "5f1c3a1c",
   "metadata": {},
   "outputs": [],
   "source": [
    "#Question 8 \n",
    "Write a function that ask the user for a string and print out whether this string is a palindrome or not."
   ]
  },
  {
   "cell_type": "code",
   "execution_count": 2,
   "id": "f3c2a7c4",
   "metadata": {},
   "outputs": [
    {
     "name": "stdout",
     "output_type": "stream",
     "text": [
      "enter a wordjoy\n",
      "yoj\n",
      "the word does is not a palindrome\n"
     ]
    }
   ],
   "source": [
    "def string (word):\n",
    "    word=input(\"enter a word\")\n",
    "    word=str(word)\n",
    "    reverse=word[::-1]\n",
    "    print(reverse)\n",
    "    if word==reverse:\n",
    "        print(\"the word is a palindrome\")\n",
    "    else:\n",
    "        print(\"the word does is not a palindrome\")\n",
    "        \n",
    "string(\"Oluchukwu\")"
   ]
  },
  {
   "cell_type": "code",
   "execution_count": null,
   "id": "9808d396",
   "metadata": {},
   "outputs": [],
   "source": [
    "#Question 9\n",
    "Write a function that takes an ordered list of numbers (a list where the elements are in order from smallest to largest) and another number."
   ]
  },
  {
   "cell_type": "code",
   "execution_count": null,
   "id": "68e838a0",
   "metadata": {},
   "outputs": [],
   "source": []
  },
  {
   "cell_type": "code",
   "execution_count": null,
   "id": "8b2d4b30",
   "metadata": {},
   "outputs": [],
   "source": [
    "#Question 10\n",
    "Create a program that asks the user to enter their name and their age. Print out a message addressed to them that tells them the year that they will turn 100 years old. \n"
   ]
  },
  {
   "cell_type": "code",
   "execution_count": 65,
   "id": "58639426",
   "metadata": {},
   "outputs": [
    {
     "name": "stdout",
     "output_type": "stream",
     "text": [
      "Enter your name:Oluchukwu\n",
      "Enter your age:24\n",
      "You will turn 100 by the year2098\n"
     ]
    }
   ],
   "source": [
    "def year_to_100():\n",
    "    name=str(input(\"Enter your name:\"))\n",
    "    age=int(input(\"Enter your age:\"))\n",
    "    current_year=2022 \n",
    "    user_birth_year= 2022-age \n",
    "    year_till_100=user_birth_year+100\n",
    "    print(\"You will turn 100 by the year\" + str(year_till_100))\n",
    "    \n",
    "year_to_100()"
   ]
  },
  {
   "cell_type": "code",
   "execution_count": null,
   "id": "85a43aee",
   "metadata": {},
   "outputs": [],
   "source": []
  }
 ],
 "metadata": {
  "kernelspec": {
   "display_name": "Python 3 (ipykernel)",
   "language": "python",
   "name": "python3"
  },
  "language_info": {
   "codemirror_mode": {
    "name": "ipython",
    "version": 3
   },
   "file_extension": ".py",
   "mimetype": "text/x-python",
   "name": "python",
   "nbconvert_exporter": "python",
   "pygments_lexer": "ipython3",
   "version": "3.9.12"
  }
 },
 "nbformat": 4,
 "nbformat_minor": 5
}
