{
 "cells": [
  {
   "cell_type": "code",
   "execution_count": 6,
   "id": "c1f94019",
   "metadata": {},
   "outputs": [],
   "source": [
    "##Question 1\n",
    "def sum_of_numbers(limit):\n",
    "    total = 0\n",
    "    for i in range(limit):\n",
    "        if i % 3 == 0 or i % 5 == 0:\n",
    "            total = total +i\n",
    "            i = i + 1\n",
    "            return total"
   ]
  },
  {
   "cell_type": "code",
   "execution_count": 7,
   "id": "54d19ada",
   "metadata": {},
   "outputs": [
    {
     "name": "stdout",
     "output_type": "stream",
     "text": [
      "Enter limiting number: 10\n",
      "0\n"
     ]
    }
   ],
   "source": [
    "userinput = int(input(\"Enter limiting number: \"))\n",
    "plusOne = userinput + 1\n",
    "print(sum_of_numbers(plusOne))"
   ]
  },
  {
   "cell_type": "code",
   "execution_count": 20,
   "id": "eb25b626",
   "metadata": {},
   "outputs": [],
   "source": [
    "##Question 2\n",
    "def calculate_sum(a, N): \n",
    "  \n",
    "    # Number of multiples \n",
    "    m = N / a \n",
    "  \n",
    "    # sum of first m natural numbers \n",
    "    sum = m * (m + 1) / 2\n",
    "  \n",
    "    # sum of multiples \n",
    "    ans = a * sum\n",
    "  \n",
    "    print(\"Sum of multiples of \", a, \n",
    "          \" up to \", N, \" = \", ans)"
   ]
  },
  {
   "cell_type": "code",
   "execution_count": 21,
   "id": "9ba98bd7",
   "metadata": {},
   "outputs": [
    {
     "name": "stdout",
     "output_type": "stream",
     "text": [
      "Sum of multiples of  7  up to  49  =  196.0\n"
     ]
    }
   ],
   "source": [
    "calculate_sum(7, 49)"
   ]
  },
  {
   "cell_type": "code",
   "execution_count": null,
   "id": "e0a0f620",
   "metadata": {},
   "outputs": [],
   "source": [
    "##Question 3"
   ]
  },
  {
   "cell_type": "code",
   "execution_count": 8,
   "id": "c9a6ccf3",
   "metadata": {},
   "outputs": [
    {
     "name": "stdout",
     "output_type": "stream",
     "text": [
      "Enter the number till you want to check: 7\n",
      "[2, 3, 5, 7]\n"
     ]
    }
   ],
   "source": [
    "##Question 4\n",
    "n=int(input(\"Enter the number till you want to check: \"))\n",
    "primes = []\n",
    "for i in range (2, n+1):\n",
    "    for j in range(2, i):\n",
    "        if i%j == 0:\n",
    "            break\n",
    "            \n",
    "    else:\n",
    "        primes.append(i)\n",
    "print(primes)"
   ]
  },
  {
   "cell_type": "code",
   "execution_count": 9,
   "id": "ef6c83b0",
   "metadata": {},
   "outputs": [
    {
     "name": "stdout",
     "output_type": "stream",
     "text": [
      "[1]\n",
      "[1, 2]\n",
      "[1, 2, 4]\n",
      "[1, 2, 4, 5]\n",
      "[1, 2, 4, 5, 6]\n",
      "[1, 2, 4, 5, 6, 7]\n",
      "[1, 2, 4, 5, 6, 7, 8]\n",
      "[1, 2, 4, 5, 6, 7, 8, 9]\n"
     ]
    }
   ],
   "source": [
    "##Question 5\n",
    "a=[1,1,2,4,5,5,6,6,6,6,7,8,9,9]\n",
    "b=[]\n",
    "for num in a:\n",
    "    if num not in b:\n",
    "        b.append(num)\n",
    "        print(b)"
   ]
  },
  {
   "cell_type": "code",
   "execution_count": 11,
   "id": "d6ae1fd6",
   "metadata": {},
   "outputs": [
    {
     "name": "stdout",
     "output_type": "stream",
     "text": [
      "15 is not a prime number\n"
     ]
    }
   ],
   "source": [
    "##Question 6\n",
    "num = 15\n",
    "\n",
    "# To take input from the user\n",
    "#num = int(input(\"Enter a number: \"))\n",
    "\n",
    "# define a flag variable\n",
    "flag = False\n",
    "\n",
    "# prime numbers are greater than 1\n",
    "if num > 1:\n",
    "    # check for factors\n",
    "    for i in range(2, num):\n",
    "        if (num % i) == 0:\n",
    "            # if factor is found, set flag to True\n",
    "            flag = True\n",
    "            # break out of loop\n",
    "            break\n",
    "\n",
    "# check if flag is True\n",
    "if flag:\n",
    "    print(num, \"is not a prime number\")\n",
    "else:\n",
    "    print(num, \"is a prime number\")"
   ]
  },
  {
   "cell_type": "code",
   "execution_count": null,
   "id": "a08dab3c",
   "metadata": {},
   "outputs": [],
   "source": [
    "##Question 7"
   ]
  },
  {
   "cell_type": "code",
   "execution_count": null,
   "id": "ee50b645",
   "metadata": {},
   "outputs": [],
   "source": [
    "##Question 8"
   ]
  },
  {
   "cell_type": "code",
   "execution_count": 22,
   "id": "84891ab5",
   "metadata": {},
   "outputs": [
    {
     "name": "stdout",
     "output_type": "stream",
     "text": [
      "[-23]\n",
      "[-23, -6]\n",
      "[-23, -6, -5]\n",
      "[-23, -6, -5, 0]\n",
      "[-23, -6, -5, 0, 5]\n",
      "[-23, -6, -5, 0, 5, 23]\n",
      "[-23, -6, -5, 0, 5, 23, 23]\n",
      "[-23, -6, -5, 0, 5, 23, 23, 67]\n"
     ]
    }
   ],
   "source": [
    "##Question 9\n",
    "data_list = [-5, -23, 5, 0, 23, -6, 23, 67]\n",
    "new_list = []\n",
    "\n",
    "while data_list:\n",
    "    minimum = data_list[0]  # arbitrary number in list \n",
    "    for x in data_list: \n",
    "        if x < minimum:\n",
    "            minimum = x\n",
    "    new_list.append(minimum)\n",
    "    data_list.remove(minimum)\n",
    "    print(new_list)"
   ]
  },
  {
   "cell_type": "code",
   "execution_count": 12,
   "id": "009cb9ce",
   "metadata": {},
   "outputs": [
    {
     "name": "stdout",
     "output_type": "stream",
     "text": [
      "Enter your name: Olayemi Olive\n",
      "Enter your age: 34\n",
      "Olayemi Olive will turn 100 in 2088\n"
     ]
    }
   ],
   "source": [
    "##Question 10\n",
    "import datetime\n",
    "Name = input(\"Enter your name: \")\n",
    "Age = int(input(\"Enter your age: \"))\n",
    "print(Name+\" will turn 100 in \" +str(datetime.datetime. today().year - Age + 100))"
   ]
  },
  {
   "cell_type": "code",
   "execution_count": null,
   "id": "23262be9",
   "metadata": {},
   "outputs": [],
   "source": []
  }
 ],
 "metadata": {
  "kernelspec": {
   "display_name": "Python 3 (ipykernel)",
   "language": "python",
   "name": "python3"
  },
  "language_info": {
   "codemirror_mode": {
    "name": "ipython",
    "version": 3
   },
   "file_extension": ".py",
   "mimetype": "text/x-python",
   "name": "python",
   "nbconvert_exporter": "python",
   "pygments_lexer": "ipython3",
   "version": "3.9.12"
  }
 },
 "nbformat": 4,
 "nbformat_minor": 5
}
