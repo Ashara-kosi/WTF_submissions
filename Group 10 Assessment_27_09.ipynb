{
 "cells": [
  {
   "cell_type": "markdown",
   "metadata": {},
   "source": [
    "#### Third Assessment(Group10)"
   ]
  },
  {
   "cell_type": "markdown",
   "metadata": {},
   "source": [
    "### 1. Write a function to calculate the multiplication and sum of two numbers"
   ]
  },
  {
   "cell_type": "code",
   "execution_count": 4,
   "metadata": {},
   "outputs": [],
   "source": [
    "def sum_mult(num1, num2):\n",
    "    # Add two numbers\n",
    "    sum = float(num1) + float(num2)\n",
    "\n",
    "    #multiply two numbers\n",
    "    product = float(num1) * float(num2)\n",
    "\n",
    "    # Display the sum\n",
    "    print('The sum of {0} and {1} is {2}'.format(num1, num2, sum))\n",
    "\n",
    "    #Display the product\n",
    "    print('The product of {0} and {1} is {2}'.format(num1, num2, product))"
   ]
  },
  {
   "cell_type": "code",
   "execution_count": 5,
   "metadata": {},
   "outputs": [
    {
     "name": "stdout",
     "output_type": "stream",
     "text": [
      "The sum of 3 and 4 is 7.0\n",
      "The product of 3 and 4 is 12.0\n"
     ]
    }
   ],
   "source": [
    "sum_mult(3,4)"
   ]
  },
  {
   "cell_type": "markdown",
   "metadata": {},
   "source": [
    "### 2. \tWrite a function to print the sum of the current number and the previous number"
   ]
  },
  {
   "cell_type": "code",
   "execution_count": 6,
   "metadata": {},
   "outputs": [],
   "source": [
    "numbers = [3, 6, 10, 15, 25, 33, 25]\n",
    "def accumulatee(listy):\n",
    "    for i in range(len(numbers)):\n",
    "        if i == 0:\n",
    "            print(numbers[i])\n",
    "        else:\n",
    "            print(numbers[i - 1] + numbers[i])"
   ]
  },
  {
   "cell_type": "code",
   "execution_count": 7,
   "metadata": {},
   "outputs": [
    {
     "name": "stdout",
     "output_type": "stream",
     "text": [
      "3\n",
      "9\n",
      "16\n",
      "25\n",
      "40\n",
      "58\n",
      "58\n"
     ]
    }
   ],
   "source": [
    "accumulatee(numbers)"
   ]
  },
  {
   "cell_type": "markdown",
   "metadata": {},
   "source": [
    "### 3.\tWrite a function to print characters from a string that are present at an even index number"
   ]
  },
  {
   "cell_type": "code",
   "execution_count": 9,
   "metadata": {},
   "outputs": [],
   "source": [
    "def even_index(given_string):\n",
    "    even_chars = []\n",
    "\n",
    "\n",
    "    for i in range(len(given_string)):\n",
    "        if i % 2 == 0:\n",
    "            even_chars.append(given_string[i])\n",
    "        \n",
    "    #we want to see only characters at even index number, so we print just that\n",
    "\n",
    "    print('Even characters: {}'.format(even_chars))"
   ]
  },
  {
   "cell_type": "code",
   "execution_count": 10,
   "metadata": {},
   "outputs": [
    {
     "name": "stdout",
     "output_type": "stream",
     "text": [
      "Even characters: ['A', 'm', 'n', 's', 'r', 't', 'o']\n"
     ]
    }
   ],
   "source": [
    "even_index('Administration')"
   ]
  },
  {
   "cell_type": "markdown",
   "metadata": {},
   "source": [
    "### 4.\tWrite a function to rremove first characters from a string"
   ]
  },
  {
   "cell_type": "code",
   "execution_count": 11,
   "metadata": {},
   "outputs": [],
   "source": [
    "def rem(string):\n",
    "    #using the slicer method\n",
    "    new_string= string[1:]\n",
    "    print(new_string)"
   ]
  },
  {
   "cell_type": "code",
   "execution_count": 12,
   "metadata": {},
   "outputs": [
    {
     "name": "stdout",
     "output_type": "stream",
     "text": [
      "uliet\n"
     ]
    }
   ],
   "source": [
    "rem('Juliet')"
   ]
  },
  {
   "cell_type": "markdown",
   "metadata": {},
   "source": [
    "### 5.\tWrite a function to check if the first and last number of a list is the same"
   ]
  },
  {
   "cell_type": "code",
   "execution_count": 17,
   "metadata": {},
   "outputs": [],
   "source": [
    "num = [12,2,4,35,12]\n",
    "def compare(y):\n",
    "    if y[0] == y[-1]:\n",
    "        print('First and Last numbers are the Same')\n",
    "    else:\n",
    "        print('First and Last numbers are not the Same') "
   ]
  },
  {
   "cell_type": "code",
   "execution_count": 18,
   "metadata": {},
   "outputs": [
    {
     "name": "stdout",
     "output_type": "stream",
     "text": [
      "First and Last numbers are the Same\n"
     ]
    }
   ],
   "source": [
    "compare(num)"
   ]
  },
  {
   "cell_type": "markdown",
   "metadata": {},
   "source": [
    "### 6. Write a function to print multiplication table from 1 to 10"
   ]
  },
  {
   "cell_type": "code",
   "execution_count": 28,
   "metadata": {},
   "outputs": [],
   "source": [
    "def mult_table():\n",
    "    for i in range(1, 13):\n",
    "        for j in range(i, (i*10)+1, i):\n",
    "            print(j, end=\"\\t\")\n",
    "        print()"
   ]
  },
  {
   "cell_type": "code",
   "execution_count": 29,
   "metadata": {},
   "outputs": [
    {
     "name": "stdout",
     "output_type": "stream",
     "text": [
      "1\t2\t3\t4\t5\t6\t7\t8\t9\t10\t\n",
      "2\t4\t6\t8\t10\t12\t14\t16\t18\t20\t\n",
      "3\t6\t9\t12\t15\t18\t21\t24\t27\t30\t\n",
      "4\t8\t12\t16\t20\t24\t28\t32\t36\t40\t\n",
      "5\t10\t15\t20\t25\t30\t35\t40\t45\t50\t\n",
      "6\t12\t18\t24\t30\t36\t42\t48\t54\t60\t\n",
      "7\t14\t21\t28\t35\t42\t49\t56\t63\t70\t\n",
      "8\t16\t24\t32\t40\t48\t56\t64\t72\t80\t\n",
      "9\t18\t27\t36\t45\t54\t63\t72\t81\t90\t\n",
      "10\t20\t30\t40\t50\t60\t70\t80\t90\t100\t\n",
      "11\t22\t33\t44\t55\t66\t77\t88\t99\t110\t\n",
      "12\t24\t36\t48\t60\t72\t84\t96\t108\t120\t\n"
     ]
    }
   ],
   "source": [
    "mult_table()"
   ]
  },
  {
   "cell_type": "markdown",
   "metadata": {},
   "source": [
    "### 7.\tGiven a two list of numbers, write a function to create a new list such that the new list should contain odd numbers from the first list and even numbers from the second list."
   ]
  },
  {
   "cell_type": "code",
   "execution_count": 30,
   "metadata": {},
   "outputs": [],
   "source": [
    "list1 = [20,3,45,10,7,17,8,39,15,4,77]\n",
    "list2= [2,5,8,12,6,87,32,65]\n",
    "\n",
    "def add_list(first_list, second_list):\n",
    "    #odd numbers will be extracted from first_list, while even numbers will be extracted from second_list.\n",
    "    #extracted numbers in both lists will be joined together\n",
    "\n",
    "    new_list = [n for n in first_list if n%2]+[n for n in second_list if not n%2]\n",
    "    print(new_list)"
   ]
  },
  {
   "cell_type": "code",
   "execution_count": 31,
   "metadata": {},
   "outputs": [
    {
     "name": "stdout",
     "output_type": "stream",
     "text": [
      "[3, 45, 7, 17, 39, 15, 77, 2, 8, 12, 6, 32]\n"
     ]
    }
   ],
   "source": [
    "add_list(list1,list2)"
   ]
  },
  {
   "cell_type": "code",
   "execution_count": null,
   "metadata": {},
   "outputs": [],
   "source": []
  }
 ],
 "metadata": {
  "kernelspec": {
   "display_name": "Python 3.10.6 64-bit (microsoft store)",
   "language": "python",
   "name": "python3"
  },
  "language_info": {
   "codemirror_mode": {
    "name": "ipython",
    "version": 3
   },
   "file_extension": ".py",
   "mimetype": "text/x-python",
   "name": "python",
   "nbconvert_exporter": "python",
   "pygments_lexer": "ipython3",
   "version": "3.10.7"
  },
  "vscode": {
   "interpreter": {
    "hash": "66eba28a75a64fbe1a9b9c30d27f7c856726c51cbbef86297708eae4ce175db0"
   }
  }
 },
 "nbformat": 4,
 "nbformat_minor": 4
}
