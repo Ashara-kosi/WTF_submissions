{
 "cells": [
  {
   "cell_type": "code",
   "execution_count": null,
   "id": "d2ddd374",
   "metadata": {},
   "outputs": [],
   "source": [
    "## 1.Write a function called showNumbers that takes a parameter called limit. It should printall the numbers between 0 and limit with a label to identify the even and odd numbers.For example, if the limit is 3, it should print:0 EVEN 1 ODD 2 EVEN 3 ODD\n",
    "##2.Write a function that returns the sum of multiples of 3 and 5 between 0and limit (parameter). For example, if limit is 20, it should return the sum of 3, 5, 6, 9, 10,12, 15, 18, 20.\n",
    "##3.Write a function called show_stars(rows). If rows is 5, it should print thefollowing:***************\n",
    "##4.Write a function that prints all the prime numbers between 0 and limit where limit is aparameter.\n",
    "##5.Write a program (function!) that takes a list and returns a new list that contains all theelements of the first list minus all the duplicates.\n",
    "##6.Write a function to ask the user for a number and determine whether the number isprime or not. \n",
    "##7.Write a program that asks the user how many Fibonnaci numbers to generate and thengenerates them. \n",
    "##8.Write a function that ask the user for a string and print out whether this string is apalindrome or not.\n",
    "##9.Write a function that takes an ordered list of numbers (a list where the elements are inorder from smallest to largest) and another number.\n",
    "##10.Create a program that asks the user to enter their name and their age. Print out amessage addressed to them that tells them the year that they will turn 100 years old. "
   ]
  },
  {
   "cell_type": "code",
   "execution_count": 1,
   "id": "e908d165",
   "metadata": {},
   "outputs": [],
   "source": [
    "##1 1.Write a function called showNumbers that takes a parameter called limit. It should printall the numbers between 0 and limit with a label to identify the even and odd numbers.For example, if the limit is 3, it should print:0 EVEN 1 ODD 2 EVEN 3 ODD\n",
    "def Show_numbers (limit):\n",
    "    limit = [11, 12, 13,14, 15, 16, 17, 18, 19, 20]\n",
    "    \n",
    "    if (limit % 2) == 0:\n",
    "        print('The number is even')\n",
    "    else:\n",
    "        print('The number is odd')\n",
    "    \n",
    "Show_numbers: 20\n",
    "    "
   ]
  },
  {
   "cell_type": "code",
   "execution_count": 3,
   "id": "9e234f9a",
   "metadata": {},
   "outputs": [],
   "source": [
    "Show_numbers: 20"
   ]
  },
  {
   "cell_type": "code",
   "execution_count": 1,
   "id": "ce9eef52",
   "metadata": {},
   "outputs": [
    {
     "name": "stdout",
     "output_type": "stream",
     "text": [
      "Enter a number: 13\n",
      "13 is Odd\n"
     ]
    }
   ],
   "source": [
    " ##1\n",
    "    Show_num = int(input(\"Enter a number: \"))\n",
    "if (Show_num % 2) == 0:\n",
    "   print(\"{0} is Even\".format(Show_num))\n",
    "else:\n",
    "   print(\"{0} is Odd\".format(Show_num))"
   ]
  },
  {
   "cell_type": "code",
   "execution_count": 4,
   "id": "f91b5349",
   "metadata": {},
   "outputs": [],
   "source": [
    "##1 \n",
    "number = range(0,11)\n",
    "def showNumber(limit):\n",
    "    for i in limit:\n",
    "        if i%2 == 0:\n",
    "            print (i, 'Even')\n",
    "        else:\n",
    "            print (i, 'Odd')"
   ]
  },
  {
   "cell_type": "code",
   "execution_count": 6,
   "id": "82ce3050",
   "metadata": {},
   "outputs": [
    {
     "name": "stdout",
     "output_type": "stream",
     "text": [
      "0 Even\n",
      "1 Odd\n",
      "2 Even\n",
      "3 Odd\n",
      "4 Even\n",
      "5 Odd\n",
      "6 Even\n",
      "7 Odd\n",
      "8 Even\n",
      "9 Odd\n",
      "10 Even\n"
     ]
    }
   ],
   "source": [
    "showNumber(number)"
   ]
  },
  {
   "cell_type": "code",
   "execution_count": 5,
   "id": "a167ac12",
   "metadata": {},
   "outputs": [],
   "source": [
    "##2\n",
    "limit = range(0,21)\n",
    "def sum_multiples(start):\n",
    "    for i in start:\n",
    "        if i%3 ==0:\n",
    "            print(i)\n",
    "        if i%5 == 0:\n",
    "            print(i)\n",
    "            \n"
   ]
  },
  {
   "cell_type": "code",
   "execution_count": 14,
   "id": "22b464ff",
   "metadata": {},
   "outputs": [
    {
     "name": "stdout",
     "output_type": "stream",
     "text": [
      "<built-in function sum>\n"
     ]
    }
   ],
   "source": []
  },
  {
   "cell_type": "code",
   "execution_count": 17,
   "id": "eec5b140",
   "metadata": {},
   "outputs": [
    {
     "name": "stdout",
     "output_type": "stream",
     "text": [
      "enter the limit:  15\n",
      "[]\n",
      "[]\n",
      "[3]\n",
      "[3]\n",
      "[3, 5]\n",
      "[3, 5, 6]\n",
      "[3, 5, 6]\n",
      "[3, 5, 6]\n",
      "[3, 5, 6, 9]\n",
      "[3, 5, 6, 9, 10]\n",
      "[3, 5, 6, 9, 10]\n",
      "[3, 5, 6, 9, 10, 12]\n",
      "[3, 5, 6, 9, 10, 12]\n",
      "[3, 5, 6, 9, 10, 12]\n"
     ]
    }
   ],
   "source": [
    "##2\n",
    "def sum_of_multiples(limit):\n",
    "    sum=[]\n",
    "    for number in range(1, limit):\n",
    "        if number%3 == 0:\n",
    "            sum.append(number)\n",
    "        if number%5 == 0:\n",
    "            sum.append(number)\n",
    "        print(sum)\n",
    "\n",
    "\n",
    "\n",
    "sum_of_multiples(int(input(\"enter the limit:  \")))"
   ]
  },
  {
   "cell_type": "code",
   "execution_count": null,
   "id": "173128bf",
   "metadata": {},
   "outputs": [],
   "source": []
  },
  {
   "cell_type": "code",
   "execution_count": null,
   "id": "450f0c02",
   "metadata": {},
   "outputs": [],
   "source": []
  },
  {
   "cell_type": "code",
   "execution_count": 8,
   "id": "7b765002",
   "metadata": {},
   "outputs": [
    {
     "name": "stdout",
     "output_type": "stream",
     "text": [
      "* \r\n",
      "* * \r\n",
      "* * * \r\n",
      "* * * * \r\n",
      "* * * * * \r\n"
     ]
    }
   ],
   "source": [
    "##3\n",
    "def pypart(n):   # Function to demonstrate printing pattern\n",
    "    \n",
    "    for i in range(0, n):\n",
    "     \n",
    "        for j in range(0, i+1):\n",
    "         \n",
    "            print(\"* \",end=\"\")\n",
    "      \n",
    "        print(\"\\r\")\n",
    " \n",
    "n = 5\n",
    "pypart(n)"
   ]
  },
  {
   "cell_type": "code",
   "execution_count": null,
   "id": "6deb4258",
   "metadata": {},
   "outputs": [],
   "source": []
  },
  {
   "cell_type": "code",
   "execution_count": 9,
   "id": "0bcadee8",
   "metadata": {},
   "outputs": [
    {
     "name": "stdout",
     "output_type": "stream",
     "text": [
      "Number: 50\n",
      "[2, 3, 5, 7, 11, 13, 17, 19, 23, 29, 31, 37, 41, 43, 47]\n"
     ]
    }
   ],
   "source": [
    "##4\n",
    "def primenum(primes):\n",
    "n=int(input(\"Number: \"))\n",
    "primes = []\n",
    "for i in range (2, n+1):\n",
    "    for j in range(2, i):\n",
    "        if i%j == 0:\n",
    "            break\n",
    "    else:\n",
    "        primes.append(i)\n",
    "print(primes)"
   ]
  },
  {
   "cell_type": "code",
   "execution_count": 10,
   "id": "810cfe31",
   "metadata": {},
   "outputs": [
    {
     "name": "stdout",
     "output_type": "stream",
     "text": [
      "[1, 2, 3, 4]\n"
     ]
    }
   ],
   "source": [
    "##5\n",
    "def removeDuplicates(l):\n",
    "    return list(set(l))\n",
    "\n",
    "\n",
    "mylist = [1, 2, 3, 4, 2, 3, 4, 2, 3, 4]\n",
    "\n",
    "newList = removeDuplicates(mylist)\n",
    "\n",
    "print(newList)"
   ]
  },
  {
   "cell_type": "code",
   "execution_count": 11,
   "id": "1998d023",
   "metadata": {},
   "outputs": [
    {
     "name": "stdout",
     "output_type": "stream",
     "text": [
      "5  is a prime number\n"
     ]
    }
   ],
   "source": [
    "##6\n",
    "def number(r):\n",
    "  for x in range(2, r):\n",
    "    if (r % x) == 0:\n",
    "      print(r, \" is not a prime number\")\n",
    "  else:\n",
    "      print(r, \" is a prime number\")\n",
    "number(5)"
   ]
  },
  {
   "cell_type": "code",
   "execution_count": null,
   "id": "483c703d",
   "metadata": {},
   "outputs": [
    {
     "name": "stdout",
     "output_type": "stream",
     "text": [
      "Please enter how many numbers would you like in your Fibonacci sequence: 10\n",
      "[1, 1, 2, 3, 5, 8, 13, 21, 34, 55]\n"
     ]
    }
   ],
   "source": [
    "##7\n",
    "def fibonacci():\n",
    "    num = int(input(\"Please enter how many numbers would you like in your Fibonacci sequence: \"))\n",
    "    i = 1\n",
    "    if num == 0:\n",
    "        fib = []\n",
    "    elif num == 1:\n",
    "        fib = [1]\n",
    "    elif num == 2:\n",
    "        fib = [1,1]\n",
    "    elif num > 2:\n",
    "        fib = [1,1]\n",
    "        while i < (num - 1):\n",
    "            fib.append(fib[i] + fib[i-1])\n",
    "            i += 1\n",
    "    return fib\n",
    "print (fibonacci())\n",
    "input()\n"
   ]
  },
  {
   "cell_type": "code",
   "execution_count": 1,
   "id": "5433acf1",
   "metadata": {},
   "outputs": [
    {
     "name": "stdout",
     "output_type": "stream",
     "text": [
      "Yes\n"
     ]
    }
   ],
   "source": [
    "##8\n",
    "def isPalindrome(s):\n",
    "    return s == s[::-1]\n",
    " \n",
    "s = \"redivider\"\n",
    "ans = isPalindrome(s)\n",
    " \n",
    "if ans:\n",
    "    print(\"Yes\")\n",
    "else:\n",
    "    print(\"No\")"
   ]
  },
  {
   "cell_type": "code",
   "execution_count": 3,
   "id": "a715feb7",
   "metadata": {},
   "outputs": [
    {
     "name": "stdout",
     "output_type": "stream",
     "text": [
      "[10, 30, 40, 50, 60, 70, 80]\n"
     ]
    }
   ],
   "source": [
    "##9\n",
    "def order(lists):\n",
    "  newlist = []\n",
    "  for b in lists:\n",
    "    if b not in newlist:\n",
    "      newlist.append(b)\n",
    "      newlist.sort()\n",
    "  print(newlist)\n",
    "lists = [10, 30, 40, 80, 60, 70, 50]\n",
    "order(lists)"
   ]
  },
  {
   "cell_type": "code",
   "execution_count": null,
   "id": "0afa2a6e",
   "metadata": {},
   "outputs": [],
   "source": [
    "##7 Write a program that asks the user how many Fibonnaci numbers to generate and then generates them.\n",
    "\n",
    "def fib (a, b):\n",
    "    return a + b\n",
    "\n",
    "number = int(input(\"How many Fibonacci numbers should I generate? \"))\n",
    "\n",
    "fibonacci_list = []\n",
    "for n in range(number):\n",
    "    if n in [0, 1]:\n",
    "        fibonacci_list += [1]\n",
    "    else:\n",
    "        fibonacci_list += [fib(fibonacci_list[n-2], fibonacci_list[n-1])]\n",
    "\n",
    "print(\"The first\", number, \"Fibonacci numbers are:\", fibonacci_list)\n"
   ]
  },
  {
   "cell_type": "code",
   "execution_count": null,
   "id": "02b0e292",
   "metadata": {},
   "outputs": [],
   "source": []
  },
  {
   "cell_type": "code",
   "execution_count": null,
   "id": "1c67b1d7",
   "metadata": {},
   "outputs": [],
   "source": []
  }
 ],
 "metadata": {
  "kernelspec": {
   "display_name": "Python 3 (ipykernel)",
   "language": "python",
   "name": "python3"
  },
  "language_info": {
   "codemirror_mode": {
    "name": "ipython",
    "version": 3
   },
   "file_extension": ".py",
   "mimetype": "text/x-python",
   "name": "python",
   "nbconvert_exporter": "python",
   "pygments_lexer": "ipython3",
   "version": "3.9.12"
  }
 },
 "nbformat": 4,
 "nbformat_minor": 5
}
