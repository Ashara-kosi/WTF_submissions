{
 "cells": [
  {
   "cell_type": "markdown",
   "id": "0a356bb3",
   "metadata": {},
   "source": [
    "# 1.  Write a function to calculate the multiplication and sum of two numbers"
   ]
  },
  {
   "cell_type": "code",
   "execution_count": 1,
   "id": "712d4465",
   "metadata": {},
   "outputs": [],
   "source": [
    "def sum_mul(a,b):\n",
    "    sum_= a+b\n",
    "    mul= a*b\n",
    "    print (f'{a} + {b} = {sum_}: {a} * {b} = {mul}')"
   ]
  },
  {
   "cell_type": "code",
   "execution_count": 2,
   "id": "a9cdec7d",
   "metadata": {},
   "outputs": [
    {
     "name": "stdout",
     "output_type": "stream",
     "text": [
      "10 + 19 = 29: 10 * 19 = 190\n"
     ]
    }
   ],
   "source": [
    "# ANS 1\n",
    "sum_mul(10,19)"
   ]
  },
  {
   "cell_type": "markdown",
   "id": "ebeca4b8",
   "metadata": {},
   "source": [
    "# 2. Write a function to print the sum of the current number and the previous number"
   ]
  },
  {
   "cell_type": "code",
   "execution_count": 3,
   "id": "129a49c0",
   "metadata": {},
   "outputs": [],
   "source": [
    "def sum_cur(num):\n",
    "    prev= num-1\n",
    "    sum_= num+prev\n",
    "    print (f'sum of current and previous number of {num} is {sum_}')"
   ]
  },
  {
   "cell_type": "code",
   "execution_count": 4,
   "id": "e797b464",
   "metadata": {},
   "outputs": [
    {
     "name": "stdout",
     "output_type": "stream",
     "text": [
      "sum of current and previous number of 23 is 45\n"
     ]
    }
   ],
   "source": [
    "# ANS 2\n",
    "sum_cur(23)"
   ]
  },
  {
   "cell_type": "markdown",
   "id": "0edcaa33",
   "metadata": {},
   "source": [
    "# 3. Write a function to print characters from a str that are present at an even index number"
   ]
  },
  {
   "cell_type": "code",
   "execution_count": 5,
   "id": "a65314d7",
   "metadata": {},
   "outputs": [],
   "source": [
    "def even_char(obj):\n",
    "    even_index= obj[: : 2]\n",
    "    print(even_index)"
   ]
  },
  {
   "cell_type": "code",
   "execution_count": 6,
   "id": "cb5d07e5",
   "metadata": {},
   "outputs": [
    {
     "name": "stdout",
     "output_type": "stream",
     "text": [
      "ia ngopoe\n"
     ]
    }
   ],
   "source": [
    "# ANS 3\n",
    "even_char('i am in group one')"
   ]
  },
  {
   "cell_type": "markdown",
   "id": "e10d17a3",
   "metadata": {},
   "source": [
    "# 4. Write a function to remove first characters from a string"
   ]
  },
  {
   "cell_type": "code",
   "execution_count": 7,
   "id": "4f38ae9e",
   "metadata": {},
   "outputs": [],
   "source": [
    "def rem_fir(obj):\n",
    "    char= obj[1 :]\n",
    "    print (char)"
   ]
  },
  {
   "cell_type": "code",
   "execution_count": 8,
   "id": "2c15c93f",
   "metadata": {},
   "outputs": [
    {
     "name": "stdout",
     "output_type": "stream",
     "text": [
      "y name is monsurat\n"
     ]
    }
   ],
   "source": [
    "# ANS 4\n",
    "rem_fir('my name is monsurat')"
   ]
  },
  {
   "cell_type": "markdown",
   "id": "a6305ab2",
   "metadata": {},
   "source": [
    "# 5. Write a function to check if the first and last number of a string is the same"
   ]
  },
  {
   "cell_type": "code",
   "execution_count": 9,
   "id": "4c73ced1",
   "metadata": {},
   "outputs": [],
   "source": [
    "def check(obj):\n",
    "    first= obj[:]\n",
    "    last= obj[-1]\n",
    "    if first==last:\n",
    "        print ('The first and last character of {obj} are the same')\n",
    "    else:\n",
    "        print (f'The first and last character of \"{obj}\" are not the same')"
   ]
  },
  {
   "cell_type": "code",
   "execution_count": 10,
   "id": "d3e4f4d8",
   "metadata": {},
   "outputs": [
    {
     "name": "stdout",
     "output_type": "stream",
     "text": [
      "The first and last character of \"i love my school\" are not the same\n"
     ]
    }
   ],
   "source": [
    "# ANS 5\n",
    "check('i love my school')"
   ]
  },
  {
   "cell_type": "markdown",
   "id": "31ea5e0c",
   "metadata": {},
   "source": [
    "# 6. Write a function to print multiplication table from 1 to 10"
   ]
  },
  {
   "cell_type": "code",
   "execution_count": 11,
   "id": "fd9fecec",
   "metadata": {},
   "outputs": [],
   "source": [
    "def mult(number):\n",
    "    for items in range(1,11):\n",
    "        print (f'{items} * {number} = {items*number}')"
   ]
  },
  {
   "cell_type": "code",
   "execution_count": 12,
   "id": "d819d43f",
   "metadata": {},
   "outputs": [
    {
     "name": "stdout",
     "output_type": "stream",
     "text": [
      "1 * 14 = 14\n",
      "2 * 14 = 28\n",
      "3 * 14 = 42\n",
      "4 * 14 = 56\n",
      "5 * 14 = 70\n",
      "6 * 14 = 84\n",
      "7 * 14 = 98\n",
      "8 * 14 = 112\n",
      "9 * 14 = 126\n",
      "10 * 14 = 140\n"
     ]
    }
   ],
   "source": [
    "# ANS 6\n",
    "mult(14)"
   ]
  },
  {
   "cell_type": "markdown",
   "id": "142b2f44",
   "metadata": {},
   "source": [
    "# 7. Given two list of numbers, write a function to create a new list such that the new list should contain odd numbers numbers from the first list and even numbers from the second list"
   ]
  },
  {
   "cell_type": "code",
   "execution_count": 13,
   "id": "45f7ebf4",
   "metadata": {},
   "outputs": [],
   "source": [
    "def odd_even(list1, list2):\n",
    "    odd= [a for a in list1 if a%2==1]\n",
    "    even= [b for b in list2 if b%2==0]\n",
    "    list3= odd+even\n",
    "    return list3"
   ]
  },
  {
   "cell_type": "code",
   "execution_count": 14,
   "id": "4f85861c",
   "metadata": {},
   "outputs": [
    {
     "data": {
      "text/plain": [
       "[1, 3, 5, 8, 10, 12]"
      ]
     },
     "execution_count": 14,
     "metadata": {},
     "output_type": "execute_result"
    }
   ],
   "source": [
    "# ANS 7\n",
    "list1= [1,2,3,4,5,6]\n",
    "list2= [7,8,9,10,11,12]\n",
    "odd_even(list1,list2)"
   ]
  }
 ],
 "metadata": {
  "kernelspec": {
   "display_name": "Python 3 (ipykernel)",
   "language": "python",
   "name": "python3"
  },
  "language_info": {
   "codemirror_mode": {
    "name": "ipython",
    "version": 3
   },
   "file_extension": ".py",
   "mimetype": "text/x-python",
   "name": "python",
   "nbconvert_exporter": "python",
   "pygments_lexer": "ipython3",
   "version": "3.9.12"
  }
 },
 "nbformat": 4,
 "nbformat_minor": 5
}
