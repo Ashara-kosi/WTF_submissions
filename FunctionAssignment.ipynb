{
 "cells": [
  {
   "cell_type": "markdown",
   "id": "07a9a0c6",
   "metadata": {},
   "source": [
    "1.\tWrite a function to calculate the multiplication and sum of two numbers"
   ]
  },
  {
   "cell_type": "code",
   "execution_count": 19,
   "id": "900598e5",
   "metadata": {},
   "outputs": [
    {
     "name": "stdout",
     "output_type": "stream",
     "text": [
      "The sum of 4 and 9 = 13\n",
      "The multiplicaltion of 4 and 9 = 36\n"
     ]
    }
   ],
   "source": [
    "def sum_mult(x,y):\n",
    "    print(\"The sum of {} and {} = {}\\nThe multiplicaltion of {} and {} = {}\".format(x, y, x+y,x,y, x*y))\n",
    "\n",
    "#testing the function\n",
    "sum_mult(4,9)"
   ]
  },
  {
   "cell_type": "markdown",
   "id": "4350911b",
   "metadata": {},
   "source": [
    "2.\tWrite a function to print the sum of the current number and the previous number"
   ]
  },
  {
   "cell_type": "code",
   "execution_count": 87,
   "id": "fd9c69c6",
   "metadata": {},
   "outputs": [
    {
     "name": "stdout",
     "output_type": "stream",
     "text": [
      "1\n",
      "3\n",
      "5\n",
      "7\n",
      "9\n"
     ]
    }
   ],
   "source": [
    "def add_prev(num):\n",
    "    prev_num = 0\n",
    "    for i in range(1, num + 1):\n",
    "        print(i + prev_num)\n",
    "        prev_num = i\n",
    "\n",
    "#testing the function\n",
    "add_prev(5)"
   ]
  },
  {
   "cell_type": "markdown",
   "id": "8324a8e5",
   "metadata": {},
   "source": [
    "3.\tWrite a function to print characters from a string that are present at an even index number"
   ]
  },
  {
   "cell_type": "code",
   "execution_count": 39,
   "id": "862d2c62",
   "metadata": {},
   "outputs": [
    {
     "name": "stdout",
     "output_type": "stream",
     "text": [
      "l\n",
      "i\n"
     ]
    }
   ],
   "source": [
    "def even_index(string):\n",
    "    for i in string:\n",
    "        n = string.index(i)\n",
    "        if n > 0 and n % 2 == 0:\n",
    "            print(i)\n",
    "\n",
    "#testing the function\n",
    "even_index(\"multi\")"
   ]
  },
  {
   "cell_type": "markdown",
   "id": "00b5f60d",
   "metadata": {},
   "source": [
    "4.\tWrite a function to remove first characters from a string"
   ]
  },
  {
   "cell_type": "code",
   "execution_count": 41,
   "id": "42647ac4",
   "metadata": {},
   "outputs": [
    {
     "data": {
      "text/plain": [
       "'ehinde'"
      ]
     },
     "execution_count": 41,
     "metadata": {},
     "output_type": "execute_result"
    }
   ],
   "source": [
    "def rem_first(string):\n",
    "    for i in string:\n",
    "        return string[1:]\n",
    "    \n",
    "#testing the function\n",
    "rem_first(\"Kehinde\")"
   ]
  },
  {
   "cell_type": "markdown",
   "id": "4e22e605",
   "metadata": {},
   "source": [
    "5.\tWrite a function to check if the first and last number of a list is the same"
   ]
  },
  {
   "cell_type": "code",
   "execution_count": 44,
   "id": "7047ebc2",
   "metadata": {},
   "outputs": [
    {
     "name": "stdout",
     "output_type": "stream",
     "text": [
      "The first and last characters are the same\n"
     ]
    }
   ],
   "source": [
    "def is_same(list):\n",
    "    for i in [list]:\n",
    "        if i[0] == i[-1]:\n",
    "            print(\"The first and last characters are the same\")\n",
    "        else:\n",
    "            print(\"The first and last characters are different\")\n",
    "            \n",
    "#testing the function\n",
    "is_same(\"remember\")"
   ]
  },
  {
   "cell_type": "markdown",
   "id": "2b4d7f3c",
   "metadata": {},
   "source": [
    "Write a function to print multiplication table from 1 to 10"
   ]
  },
  {
   "cell_type": "code",
   "execution_count": 58,
   "id": "09ae297b",
   "metadata": {},
   "outputs": [
    {
     "name": "stdout",
     "output_type": "stream",
     "text": [
      "5 * 1 = 5\n",
      "5 * 2 = 10\n",
      "5 * 3 = 15\n",
      "5 * 4 = 20\n",
      "5 * 5 = 25\n",
      "5 * 6 = 30\n",
      "5 * 7 = 35\n",
      "5 * 8 = 40\n",
      "5 * 9 = 45\n",
      "5 * 10 = 50\n"
     ]
    }
   ],
   "source": [
    "def mult_table(num):\n",
    "    for i in range(1,11):\n",
    "        print(\"{} * {} = {}\". format(num, i, i * num))\n",
    "       \n",
    "        \n",
    "#testing the function\n",
    "mult_table(5)"
   ]
  },
  {
   "cell_type": "markdown",
   "id": "8790142e",
   "metadata": {},
   "source": [
    "7.\tGiven a two list of numbers, write a function to create a new list such that the new list should contain odd numbers from the first list and even numbers from the second list."
   ]
  },
  {
   "cell_type": "code",
   "execution_count": 89,
   "id": "6a18ed0f",
   "metadata": {},
   "outputs": [
    {
     "name": "stdout",
     "output_type": "stream",
     "text": [
      "[1, 3, 5, 6, 8, 10]\n"
     ]
    }
   ],
   "source": [
    "def append_list(list_a, list_b):\n",
    "    new_list = []\n",
    "    for i in list_a: \n",
    "        if i % 2 == 1:\n",
    "            new_list.append(i) \n",
    "    for j in list_b:\n",
    "        if j % 2 == 0:\n",
    "            new_list.append(j)\n",
    "    print(new_list)\n",
    "\n",
    "#testing the function\n",
    "\n",
    "test = [1,2,3,4, 5]\n",
    "test_2 = [6,7,8,9,10]\n",
    "\n",
    "append_list(test, test_2)"
   ]
  }
 ],
 "metadata": {
  "kernelspec": {
   "display_name": "Python 3 (ipykernel)",
   "language": "python",
   "name": "python3"
  },
  "language_info": {
   "codemirror_mode": {
    "name": "ipython",
    "version": 3
   },
   "file_extension": ".py",
   "mimetype": "text/x-python",
   "name": "python",
   "nbconvert_exporter": "python",
   "pygments_lexer": "ipython3",
   "version": "3.9.7"
  }
 },
 "nbformat": 4,
 "nbformat_minor": 5
}
