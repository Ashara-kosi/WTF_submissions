{
 "cells": [
  {
   "cell_type": "code",
   "execution_count": 1,
   "id": "99866b88",
   "metadata": {},
   "outputs": [],
   "source": [
    "# 1. Write a function to calculate the multiplication and sum of two numbers.\n",
    "\n",
    "def multiplication_sum(x, y):\n",
    "        if x * y and x + y:  \n",
    "            print(x * y)\n",
    "        print(x + y)"
   ]
  },
  {
   "cell_type": "code",
   "execution_count": 2,
   "id": "89b86d61",
   "metadata": {},
   "outputs": [
    {
     "name": "stdout",
     "output_type": "stream",
     "text": [
      "20\n",
      "12\n"
     ]
    }
   ],
   "source": [
    "multiplication_sum(2, 10)"
   ]
  },
  {
   "cell_type": "code",
   "execution_count": 3,
   "id": "6fc016a2",
   "metadata": {},
   "outputs": [],
   "source": [
    "# 2. Write a function to print the sum of the current number and the previous number\n",
    "\n",
    "\n",
    "def current_previous(l):\n",
    "    previous = l -1 \n",
    "    print(previous + l)"
   ]
  },
  {
   "cell_type": "code",
   "execution_count": 4,
   "id": "b22fdb3c",
   "metadata": {},
   "outputs": [
    {
     "name": "stdout",
     "output_type": "stream",
     "text": [
      "39\n"
     ]
    }
   ],
   "source": [
    "current_previous(20)"
   ]
  },
  {
   "cell_type": "code",
   "execution_count": 4,
   "id": "697ae59b",
   "metadata": {},
   "outputs": [],
   "source": [
    "#3. Write a function to print characters from a string that are present at an even index number \n",
    "\n",
    "def character_strings(x=\" \"):\n",
    "    i = 0\n",
    "    print('Character present at even index:')\n",
    "    \n",
    "    while i < len(x):\n",
    "        print(x[i], end=\" \")\n",
    "        i = i + 2"
   ]
  },
  {
   "cell_type": "code",
   "execution_count": 5,
   "id": "fafaa933",
   "metadata": {},
   "outputs": [
    {
     "name": "stdout",
     "output_type": "stream",
     "text": [
      "Character present at even index:\n",
      "C a a t r s i s "
     ]
    }
   ],
   "source": [
    "character_strings('Characteristics')"
   ]
  },
  {
   "cell_type": "code",
   "execution_count": 9,
   "id": "1e7d59c4",
   "metadata": {},
   "outputs": [],
   "source": [
    "#4.\tWrite a function to remove first characters from a string\n",
    "\n",
    "\n",
    "def removefirstchar(x):\n",
    "    print(x.replace(x[0], ' '))\n",
    "    "
   ]
  },
  {
   "cell_type": "code",
   "execution_count": 10,
   "id": "55c1651c",
   "metadata": {},
   "outputs": [
    {
     "name": "stdout",
     "output_type": "stream",
     "text": [
      " bianujunwa\n"
     ]
    }
   ],
   "source": [
    "removefirstchar('Obianujunwa')"
   ]
  },
  {
   "cell_type": "code",
   "execution_count": 11,
   "id": "104b1cc3",
   "metadata": {},
   "outputs": [],
   "source": [
    "#5.\tWrite a function to check if the first and last number of a list is the same\n",
    "\n",
    "def checknumber():\n",
    "    if s[0] == s[-1]:\n",
    "        print(True)\n",
    "    else:\n",
    "        print(False)"
   ]
  },
  {
   "cell_type": "code",
   "execution_count": 12,
   "id": "56b4201b",
   "metadata": {},
   "outputs": [
    {
     "name": "stdout",
     "output_type": "stream",
     "text": [
      "True\n"
     ]
    }
   ],
   "source": [
    "s =[ 2, 3, 7, 9, 4, 2]\n",
    "checknumber()"
   ]
  },
  {
   "cell_type": "code",
   "execution_count": 13,
   "id": "1eff80ae",
   "metadata": {},
   "outputs": [],
   "source": [
    "#6.Write a function to print multiplication table from 1 to 10\n",
    "\n",
    "def multiTable():\n",
    "    for i in range(1, 11):\n",
    "        print(\" \")\n",
    "        for f in range(1, 11):\n",
    "            print(i * f, end=\" \")\n",
    "    "
   ]
  },
  {
   "cell_type": "code",
   "execution_count": 14,
   "id": "1b75a52e",
   "metadata": {},
   "outputs": [
    {
     "name": "stdout",
     "output_type": "stream",
     "text": [
      " \n",
      "1 2 3 4 5 6 7 8 9 10  \n",
      "2 4 6 8 10 12 14 16 18 20  \n",
      "3 6 9 12 15 18 21 24 27 30  \n",
      "4 8 12 16 20 24 28 32 36 40  \n",
      "5 10 15 20 25 30 35 40 45 50  \n",
      "6 12 18 24 30 36 42 48 54 60  \n",
      "7 14 21 28 35 42 49 56 63 70  \n",
      "8 16 24 32 40 48 56 64 72 80  \n",
      "9 18 27 36 45 54 63 72 81 90  \n",
      "10 20 30 40 50 60 70 80 90 100 "
     ]
    }
   ],
   "source": [
    "multiTable()"
   ]
  },
  {
   "cell_type": "code",
   "execution_count": 15,
   "id": "9bbc9bd9",
   "metadata": {},
   "outputs": [],
   "source": [
    "#7.\tGiven a two list of numbers, write a function to create a new list such that the new list should contain odd numbers\n",
    "#from the first list and even numbers from the second list.\n",
    "\n",
    "def listodd_even():\n",
    "    new_list =[]\n",
    "           \n",
    "    for i in x:\n",
    "         if i % 2 > 0:\n",
    "            new_list.append(i)    #for even number \n",
    "    for f in y:\n",
    "        if f % 2 == 0:\n",
    "            new_list.append(f)   #for odd number \n",
    "    print(new_list)\n",
    "        \n",
    "x = [10, 2, 35, 4, 56, 6, 70, 82, 9, 30]\n",
    "y = [1, 24, 3, 4, 5, 6, 7, 8, 9, 10] "
   ]
  },
  {
   "cell_type": "code",
   "execution_count": 16,
   "id": "f8014958",
   "metadata": {},
   "outputs": [
    {
     "name": "stdout",
     "output_type": "stream",
     "text": [
      "[35, 9, 24, 4, 6, 8, 10]\n"
     ]
    }
   ],
   "source": [
    "listodd_even()"
   ]
  },
  {
   "cell_type": "code",
   "execution_count": null,
   "id": "e78b75da",
   "metadata": {},
   "outputs": [],
   "source": []
  }
 ],
 "metadata": {
  "kernelspec": {
   "display_name": "Python 3 (ipykernel)",
   "language": "python",
   "name": "python3"
  },
  "language_info": {
   "codemirror_mode": {
    "name": "ipython",
    "version": 3
   },
   "file_extension": ".py",
   "mimetype": "text/x-python",
   "name": "python",
   "nbconvert_exporter": "python",
   "pygments_lexer": "ipython3",
   "version": "3.9.12"
  }
 },
 "nbformat": 4,
 "nbformat_minor": 5
}
