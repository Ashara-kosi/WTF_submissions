{
 "cells": [
  {
   "cell_type": "code",
   "execution_count": 1,
   "id": "fc6b6df8",
   "metadata": {},
   "outputs": [],
   "source": [
    "#Question 1 \n",
    "Write a function to calculate the multiplication and sum of two numbers "
   ]
  },
  {
   "cell_type": "code",
   "execution_count": 90,
   "id": "857200a8",
   "metadata": {
    "scrolled": true
   },
   "outputs": [
    {
     "name": "stdout",
     "output_type": "stream",
     "text": [
      "6 8\n"
     ]
    }
   ],
   "source": [
    "def multi_sum(a,b):\n",
    "        sum=(a+b)\n",
    "        multi=(a*b)\n",
    "        print(sum, multi)\n",
    "    \n",
    "multi_sum(2,4)"
   ]
  },
  {
   "cell_type": "code",
   "execution_count": null,
   "id": "9510bc5e",
   "metadata": {},
   "outputs": [],
   "source": [
    "#Question 2\n",
    "#Write a function to print the sum of the current number and the previous number"
   ]
  },
  {
   "cell_type": "code",
   "execution_count": 11,
   "id": "da129168",
   "metadata": {},
   "outputs": [
    {
     "name": "stdout",
     "output_type": "stream",
     "text": [
      "9\n"
     ]
    }
   ],
   "source": [
    "def my_function(current_number):\n",
    "    previous_number=current_number-1\n",
    "    sum_num2=current_number+previous_number\n",
    "    print(sum_num2)\n",
    "    \n",
    "my_function(5)"
   ]
  },
  {
   "cell_type": "code",
   "execution_count": 87,
   "id": "79a9afc3",
   "metadata": {},
   "outputs": [],
   "source": [
    "#Question 3 \n",
    "#Write a function to print characters from a string that are present at an even index number "
   ]
  },
  {
   "cell_type": "code",
   "execution_count": 39,
   "id": "f99dbe08",
   "metadata": {},
   "outputs": [
    {
     "name": "stdout",
     "output_type": "stream",
     "text": [
      "Ouhku"
     ]
    }
   ],
   "source": [
    "def string(x):\n",
    "    for i in range(len(str)):\n",
    "        if i%2==0:\n",
    "            print(str[i], end='')\n",
    "str=\"Oluchukwu\"\n",
    "string(str)"
   ]
  },
  {
   "cell_type": "code",
   "execution_count": 33,
   "id": "b8a0241f",
   "metadata": {},
   "outputs": [],
   "source": [
    "#Question 4 \n",
    "Write a function to remove first characters from a string"
   ]
  },
  {
   "cell_type": "code",
   "execution_count": 41,
   "id": "074d2a69",
   "metadata": {
    "scrolled": true
   },
   "outputs": [
    {
     "name": "stdout",
     "output_type": "stream",
     "text": [
      "ipopotamus\n"
     ]
    }
   ],
   "source": [
    "def del_string(text):\n",
    "    final_text=''\n",
    "    for i in range (len(text)):\n",
    "        if i!=0:\n",
    "            final_text=final_text+text[i]\n",
    "    print(final_text)\n",
    "    \n",
    "del_string('hipopotamus')\n"
   ]
  },
  {
   "cell_type": "code",
   "execution_count": 53,
   "id": "2133c442",
   "metadata": {},
   "outputs": [
    {
     "data": {
      "text/plain": [
       "'ipopotamus'"
      ]
     },
     "execution_count": 53,
     "metadata": {},
     "output_type": "execute_result"
    }
   ],
   "source": [
    "def mystr (string):\n",
    "    return (string[1:])\n",
    "    print(string, end='')\n",
    "mystr ('Hipopotamus')"
   ]
  },
  {
   "cell_type": "code",
   "execution_count": 54,
   "id": "fb17bbdc",
   "metadata": {},
   "outputs": [],
   "source": [
    "#Question 5 \n",
    "#Write a function to check if the first and last number of a list is the same "
   ]
  },
  {
   "cell_type": "code",
   "execution_count": 63,
   "id": "c51f65d6",
   "metadata": {
    "collapsed": true
   },
   "outputs": [
    {
     "data": {
      "text/plain": [
       "False"
      ]
     },
     "execution_count": 63,
     "metadata": {},
     "output_type": "execute_result"
    }
   ],
   "source": [
    "def list(l):\n",
    "     \n",
    "    for i in l:\n",
    "        if l [0] == l[-1]:\n",
    "            return (True)\n",
    "        else: \n",
    "            return (False)\n",
    "list ([1,2,3,4,5])"
   ]
  },
  {
   "cell_type": "code",
   "execution_count": null,
   "id": "2e713f42",
   "metadata": {},
   "outputs": [],
   "source": [
    "#Question 6 \n",
    "# This function produce the multiplication tables for all the numbers betten start and end"
   ]
  },
  {
   "cell_type": "code",
   "execution_count": 70,
   "id": "0e278787",
   "metadata": {
    "collapsed": true
   },
   "outputs": [
    {
     "name": "stdout",
     "output_type": "stream",
     "text": [
      "Multiplication table for  1\n",
      "1 * 1 = 1\n",
      "2 * 1 = 2\n",
      "3 * 1 = 3\n",
      "4 * 1 = 4\n",
      "5 * 1 = 5\n",
      "6 * 1 = 6\n",
      "7 * 1 = 7\n",
      "8 * 1 = 8\n",
      "9 * 1 = 9\n",
      "Multiplication table for  2\n",
      "1 * 2 = 2\n",
      "2 * 2 = 4\n",
      "3 * 2 = 6\n",
      "4 * 2 = 8\n",
      "5 * 2 = 10\n",
      "6 * 2 = 12\n",
      "7 * 2 = 14\n",
      "8 * 2 = 16\n",
      "9 * 2 = 18\n",
      "Multiplication table for  3\n",
      "1 * 3 = 3\n",
      "2 * 3 = 6\n",
      "3 * 3 = 9\n",
      "4 * 3 = 12\n",
      "5 * 3 = 15\n",
      "6 * 3 = 18\n",
      "7 * 3 = 21\n",
      "8 * 3 = 24\n",
      "9 * 3 = 27\n",
      "Multiplication table for  4\n",
      "1 * 4 = 4\n",
      "2 * 4 = 8\n",
      "3 * 4 = 12\n",
      "4 * 4 = 16\n",
      "5 * 4 = 20\n",
      "6 * 4 = 24\n",
      "7 * 4 = 28\n",
      "8 * 4 = 32\n",
      "9 * 4 = 36\n",
      "Multiplication table for  5\n",
      "1 * 5 = 5\n",
      "2 * 5 = 10\n",
      "3 * 5 = 15\n",
      "4 * 5 = 20\n",
      "5 * 5 = 25\n",
      "6 * 5 = 30\n",
      "7 * 5 = 35\n",
      "8 * 5 = 40\n",
      "9 * 5 = 45\n",
      "Multiplication table for  6\n",
      "1 * 6 = 6\n",
      "2 * 6 = 12\n",
      "3 * 6 = 18\n",
      "4 * 6 = 24\n",
      "5 * 6 = 30\n",
      "6 * 6 = 36\n",
      "7 * 6 = 42\n",
      "8 * 6 = 48\n",
      "9 * 6 = 54\n",
      "Multiplication table for  7\n",
      "1 * 7 = 7\n",
      "2 * 7 = 14\n",
      "3 * 7 = 21\n",
      "4 * 7 = 28\n",
      "5 * 7 = 35\n",
      "6 * 7 = 42\n",
      "7 * 7 = 49\n",
      "8 * 7 = 56\n",
      "9 * 7 = 63\n",
      "Multiplication table for  8\n",
      "1 * 8 = 8\n",
      "2 * 8 = 16\n",
      "3 * 8 = 24\n",
      "4 * 8 = 32\n",
      "5 * 8 = 40\n",
      "6 * 8 = 48\n",
      "7 * 8 = 56\n",
      "8 * 8 = 64\n",
      "9 * 8 = 72\n",
      "Multiplication table for  9\n",
      "1 * 9 = 9\n",
      "2 * 9 = 18\n",
      "3 * 9 = 27\n",
      "4 * 9 = 36\n",
      "5 * 9 = 45\n",
      "6 * 9 = 54\n",
      "7 * 9 = 63\n",
      "8 * 9 = 72\n",
      "9 * 9 = 81\n",
      "Multiplication table for  10\n",
      "1 * 10 = 10\n",
      "2 * 10 = 20\n",
      "3 * 10 = 30\n",
      "4 * 10 = 40\n",
      "5 * 10 = 50\n",
      "6 * 10 = 60\n",
      "7 * 10 = 70\n",
      "8 * 10 = 80\n",
      "9 * 10 = 90\n"
     ]
    }
   ],
   "source": [
    "def multiplication_table(x,y):\n",
    "    for item in range(x, (y+1)):\n",
    "        print ('Multiplication table for ', item)\n",
    "        for i in range (1,10):\n",
    "            multiplication=i*item\n",
    "            print( i, '*', item, '=', multiplication)\n",
    "multiplication_table(1,10)"
   ]
  },
  {
   "cell_type": "code",
   "execution_count": null,
   "id": "42b2858c",
   "metadata": {},
   "outputs": [],
   "source": [
    "#Question 7 \n",
    "Given a two list of numbers, write a function to create a new list such that the new list should contain odd numbers from the first list and even numbers from the second list. "
   ]
  },
  {
   "cell_type": "code",
   "execution_count": 4,
   "id": "81bdce93",
   "metadata": {},
   "outputs": [
    {
     "name": "stdout",
     "output_type": "stream",
     "text": [
      "[2, 4, 6, 3, 5, 7]\n"
     ]
    }
   ],
   "source": [
    "def my_function(list1,list2):\n",
    "    new_list=[]\n",
    "    for i in (list1):\n",
    "        if i%2==0:\n",
    "            new_list.append(i)\n",
    "    for i in list2:\n",
    "        if i%2==1:\n",
    "            new_list.append(i)\n",
    "    print(new_list)\n",
    "    \n",
    "my_function([2,3,4,5,6],[3,4,5,6,7])"
   ]
  }
 ],
 "metadata": {
  "kernelspec": {
   "display_name": "Python 3 (ipykernel)",
   "language": "python",
   "name": "python3"
  },
  "language_info": {
   "codemirror_mode": {
    "name": "ipython",
    "version": 3
   },
   "file_extension": ".py",
   "mimetype": "text/x-python",
   "name": "python",
   "nbconvert_exporter": "python",
   "pygments_lexer": "ipython3",
   "version": "3.9.12"
  }
 },
 "nbformat": 4,
 "nbformat_minor": 5
}
