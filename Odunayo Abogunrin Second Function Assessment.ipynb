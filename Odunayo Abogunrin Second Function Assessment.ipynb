{
 "cells": [
  {
   "cell_type": "code",
   "execution_count": 9,
   "id": "2f852e6a",
   "metadata": {
    "scrolled": false
   },
   "outputs": [
    {
     "name": "stdout",
     "output_type": "stream",
     "text": [
      "0 EVEN\n",
      "1 ODD\n",
      "2 EVEN\n",
      "3 ODD\n",
      "4 EVEN\n",
      "5 ODD\n",
      "6 EVEN\n",
      "7 ODD\n",
      "8 EVEN\n",
      "9 ODD\n",
      "10 EVEN\n",
      "11 ODD\n",
      "12 EVEN\n",
      "13 ODD\n",
      "14 EVEN\n",
      "15 ODD\n",
      "16 EVEN\n",
      "17 ODD\n",
      "18 EVEN\n",
      "19 ODD\n",
      "20 EVEN\n",
      "21 ODD\n",
      "22 EVEN\n"
     ]
    }
   ],
   "source": [
    "#1. Write a function called showNumbers that takes a parameter called limit. It should print\n",
    "#all the numbers between 0 and limit with a label to identify the even and odd numbers.\n",
    "#For example, if the limit is 3, it should print:0 EVEN 1 ODD 2 EVEN 3 ODD\n",
    "\n",
    "def showNumbers(limit):\n",
    "    for i in range (0, limit):\n",
    "        if i % 2 != 0:\n",
    "            print (i, \"ODD\")\n",
    "        else:\n",
    "            print(i, \"EVEN\")\n",
    "showNumbers(23)\n"
   ]
  },
  {
   "cell_type": "code",
   "execution_count": null,
   "id": "bc981999",
   "metadata": {},
   "outputs": [],
   "source": [
    "#2. Write a function that returns the sum of multiples of 3 and 5 between 0\n",
    "#and limit (parameter). For example, if limit is 20, it should return the sum of 3, 5, 6, 9, 10,\n",
    "#12, 15, 18, 20.\n",
    "\n",
    "def multiples(limit):\n",
    "  for i in range (0,limit+1):\n",
    "    if i % 3 ==0 and i % 5==0:\n",
    "      print (sum (i))\n",
    "multiples(20)"
   ]
  },
  {
   "cell_type": "code",
   "execution_count": 10,
   "id": "02a2a108",
   "metadata": {},
   "outputs": [
    {
     "name": "stdout",
     "output_type": "stream",
     "text": [
      "Kindly enter the number of rows: 5\n",
      "*\n",
      "**\n",
      "***\n",
      "****\n",
      "*****\n"
     ]
    }
   ],
   "source": [
    "#3. Write a function called show_stars(rows). If rows is 5, it should print the following:***************\n",
    "def show_stars(rows):\n",
    "    for i in range(1, rows+1):\n",
    "        print('*' * i)\n",
    "r=int(input(\"Kindly enter the number of rows: \"))\n",
    "show_stars(r)\n",
    "\n"
   ]
  },
  {
   "cell_type": "code",
   "execution_count": 11,
   "id": "3fc30bfc",
   "metadata": {},
   "outputs": [
    {
     "name": "stdout",
     "output_type": "stream",
     "text": [
      "Please input a number: 4\n",
      "2  is a prime number\n",
      "3  is a prime number\n"
     ]
    }
   ],
   "source": [
    "#4. Write a function that prints all the prime numbers between 0 and limit where limit is a parameter.\n",
    "def prime_number (limit):\n",
    "    for number in range(0, limit+1):\n",
    "        if number > 1:\n",
    "            for i in range(2, number):\n",
    "                if number % i ==0:\n",
    "                    break\n",
    "            else:\n",
    "                print (number, ' is a prime number')\n",
    "limit= int(input('Please input a number: '))\n",
    "prime_number(limit)"
   ]
  },
  {
   "cell_type": "code",
   "execution_count": 3,
   "id": "09813485",
   "metadata": {},
   "outputs": [
    {
     "name": "stdout",
     "output_type": "stream",
     "text": [
      "The unique numbers in this list are {1, 2, 3, 4, 5, 6}\n"
     ]
    }
   ],
   "source": [
    "#5. Write a program (function!) that takes a list and returns a new list that contains all the\n",
    "#elements of the first list minus all the duplicates.\n",
    "def no_duplicate(list):\n",
    "    new_list = []\n",
    "    for i in list:\n",
    "        if i not in new_list:\n",
    "            new_list.append(i)\n",
    "    print('The unique numbers in this list are', set(new_list))\n",
    "no_duplicate ([1,2,3,1,3,4,5,6])"
   ]
  },
  {
   "cell_type": "code",
   "execution_count": 19,
   "id": "a49cfc69",
   "metadata": {},
   "outputs": [
    {
     "name": "stdout",
     "output_type": "stream",
     "text": [
      "Please input any number5\n",
      "5 is a prime number\n",
      "5 is a prime number\n",
      "5 is a prime number\n"
     ]
    }
   ],
   "source": [
    "#6. Write a function to ask the user for a number and determine whether the number is prime or not.\n",
    "def prime_number(y):\n",
    "    if y > 1:\n",
    "        for i in range(2, y):\n",
    "            if (y%i) == 0:\n",
    "                print(y, ' is not a prime number')\n",
    "                break\n",
    "            else:\n",
    "                print(y, 'is a prime number' )\n",
    "\n",
    "y= int(input('Please input any number'))\n",
    "prime_number (y)"
   ]
  },
  {
   "cell_type": "code",
   "execution_count": 41,
   "id": "852d4671",
   "metadata": {},
   "outputs": [
    {
     "name": "stdout",
     "output_type": "stream",
     "text": [
      "How many Fibonacci numbers should I generate? 5\n",
      "The first 5 Fibonacci numbers are: [1, 1, 2, 3, 5]\n"
     ]
    }
   ],
   "source": [
    "#7. Write a program that asks the user how many Fibonnaci numbers to generate and then generates them.\n",
    "def fibo(a,b):\n",
    "    return a + b\n",
    "number = int(input('How many Fibonacci numbers should I generate? '))\n",
    "fibonacci_list =[]\n",
    "for n in range(number):\n",
    "    if n in [0,1]:\n",
    "        fibonacci_list += [1]\n",
    "    else:\n",
    "        fibonacci_list += [fibo(fibonacci_list[n-2], fibonacci_list[n-1])]\n",
    "print('The first', number, 'Fibonacci numbers are:', fibonacci_list)"
   ]
  },
  {
   "cell_type": "code",
   "execution_count": 40,
   "id": "64dd61d9",
   "metadata": {},
   "outputs": [
    {
     "name": "stdout",
     "output_type": "stream",
     "text": [
      "Kindly input any string of your choice madam\n",
      "The string you inputted is a palindrome\n"
     ]
    }
   ],
   "source": [
    "#8. Write a function that ask the user for a string and print out whether this string is a palindrome or not.\n",
    "def string(name):\n",
    "    if name [::1]== name [::-1]:\n",
    "        print ('The string you inputted is a palindrome')\n",
    "    else:\n",
    "        print('The string you inputted is not a palindrome')\n",
    "name = str(input('Kindly input any string of your choice '))\n",
    "string (name)"
   ]
  },
  {
   "cell_type": "code",
   "execution_count": null,
   "id": "62dcc312",
   "metadata": {},
   "outputs": [],
   "source": [
    "#9. Write a function that takes an ordered list of numbers (a list where the elements are in \n",
    "#order from smallest to largest) and another number.\n",
    "def order(n):\n",
    "    my_list= [1, 2, 3, 4, 5, 6]\n",
    "    for i in list:\n",
    "        return( new_list, \",\", n)\n",
    "n=int(input(\"kindly input any integer of your choice\"))\n",
    "order(11)"
   ]
  },
  {
   "cell_type": "code",
   "execution_count": 52,
   "id": "5057c17c",
   "metadata": {},
   "outputs": [
    {
     "name": "stdout",
     "output_type": "stream",
     "text": [
      "2022-09-29 17:01:31.751121\n"
     ]
    }
   ],
   "source": [
    "#10. Create a program that asks the user to enter their name and their age. Print out a\n",
    "#message addressed to them that tells them the year that they will turn 100 years old.\n",
    "import datetime\n",
    "\n",
    "x = datetime.datetime.now()\n",
    "\n",
    "print(x)"
   ]
  },
  {
   "cell_type": "code",
   "execution_count": 53,
   "id": "c4512d3e",
   "metadata": {},
   "outputs": [
    {
     "name": "stdout",
     "output_type": "stream",
     "text": [
      "Enter your name: Jessica\n",
      "Enter your age: 2\n"
     ]
    },
    {
     "ename": "TypeError",
     "evalue": "unsupported operand type(s) for -: 'datetime.datetime' and 'int'",
     "output_type": "error",
     "traceback": [
      "\u001b[1;31m---------------------------------------------------------------------------\u001b[0m",
      "\u001b[1;31mTypeError\u001b[0m                                 Traceback (most recent call last)",
      "\u001b[1;32m~\\AppData\\Local\\Temp/ipykernel_10812/3733142505.py\u001b[0m in \u001b[0;36m<module>\u001b[1;34m\u001b[0m\n\u001b[0;32m      2\u001b[0m \u001b[0mAge\u001b[0m \u001b[1;33m=\u001b[0m \u001b[0mint\u001b[0m\u001b[1;33m(\u001b[0m\u001b[0minput\u001b[0m\u001b[1;33m(\u001b[0m\u001b[1;34m\"Enter your age: \"\u001b[0m\u001b[1;33m)\u001b[0m\u001b[1;33m)\u001b[0m\u001b[1;33m\u001b[0m\u001b[1;33m\u001b[0m\u001b[0m\n\u001b[0;32m      3\u001b[0m \u001b[1;33m\u001b[0m\u001b[0m\n\u001b[1;32m----> 4\u001b[1;33m \u001b[0mprint\u001b[0m\u001b[1;33m(\u001b[0m\u001b[0mName\u001b[0m\u001b[1;33m+\u001b[0m\u001b[1;34m\" will turn 100 in \"\u001b[0m \u001b[1;33m+\u001b[0m\u001b[0mstr\u001b[0m\u001b[1;33m(\u001b[0m\u001b[0mx\u001b[0m \u001b[1;33m-\u001b[0m \u001b[0mAge\u001b[0m \u001b[1;33m+\u001b[0m \u001b[1;36m100\u001b[0m\u001b[1;33m)\u001b[0m\u001b[1;33m)\u001b[0m\u001b[1;33m\u001b[0m\u001b[1;33m\u001b[0m\u001b[0m\n\u001b[0m",
      "\u001b[1;31mTypeError\u001b[0m: unsupported operand type(s) for -: 'datetime.datetime' and 'int'"
     ]
    }
   ],
   "source": []
  }
 ],
 "metadata": {
  "kernelspec": {
   "display_name": "Python 3 (ipykernel)",
   "language": "python",
   "name": "python3"
  },
  "language_info": {
   "codemirror_mode": {
    "name": "ipython",
    "version": 3
   },
   "file_extension": ".py",
   "mimetype": "text/x-python",
   "name": "python",
   "nbconvert_exporter": "python",
   "pygments_lexer": "ipython3",
   "version": "3.9.7"
  }
 },
 "nbformat": 4,
 "nbformat_minor": 5
}
