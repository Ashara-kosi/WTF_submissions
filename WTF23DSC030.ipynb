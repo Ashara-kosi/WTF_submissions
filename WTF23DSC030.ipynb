{
 "cells": [
  {
   "cell_type": "markdown",
   "id": "b10090dc",
   "metadata": {},
   "source": [
    "# WTFC2023 DATA SCIENCE AND AI GROUP C SUB GROUP1- MARGARET OLUWADARE(WTF/23/DS/C/030)"
   ]
  },
  {
   "cell_type": "markdown",
   "id": "7bf384bb",
   "metadata": {},
   "source": [
    "QUESTION ONE: Write a function to calculate the multiplication and sum of two numbers."
   ]
  },
  {
   "cell_type": "code",
   "execution_count": 1,
   "id": "b3a00d52",
   "metadata": {},
   "outputs": [
    {
     "name": "stdout",
     "output_type": "stream",
     "text": [
      "Enter first number: 7\n",
      "Enter second number: 8\n",
      "Product is:  56\n",
      "7\n",
      "15\n",
      "Sum is:  15\n"
     ]
    }
   ],
   "source": [
    "def product(a,b):\n",
    "    if(a<b):\n",
    "        return product(b,a)\n",
    "    elif(b!=0):\n",
    "        return(a+product(a,b-1))\n",
    "    else:\n",
    "        return 0\n",
    "    \n",
    "def summing(numbers):\n",
    "    total = 0\n",
    "    for x in numbers:\n",
    "        total = total + x\n",
    "        print(total)\n",
    "    return total\n",
    "\n",
    "a=int(input(\"Enter first number: \"))\n",
    "b=int(input(\"Enter second number: \"))\n",
    "numbers= [a, b]\n",
    "print(\"Product is: \",product(a,b))\n",
    "print(\"Sum is: \", summing(numbers))"
   ]
  },
  {
   "cell_type": "markdown",
   "id": "7e1ba2ac",
   "metadata": {},
   "source": [
    "QUESTION 2: Write a function to print the sum of the current number and the previous number"
   ]
  },
  {
   "cell_type": "code",
   "execution_count": 2,
   "id": "481d732a",
   "metadata": {},
   "outputs": [
    {
     "name": "stdout",
     "output_type": "stream",
     "text": [
      "Enter first number: 9\n",
      "45\n"
     ]
    }
   ],
   "source": [
    "def recurSum(m):\n",
    "    if m <= 0:\n",
    "        return m\n",
    "    return recurSum(m - 1) + m\n",
    " \n",
    "m = int(input(\"Enter first number: \"))\n",
    "\n",
    "print(recurSum(m))"
   ]
  },
  {
   "cell_type": "markdown",
   "id": "b562987c",
   "metadata": {},
   "source": [
    "QUESTION:Write a function to print characters from a string that are present at an even index number"
   ]
  },
  {
   "cell_type": "code",
   "execution_count": 3,
   "id": "2f7e7f04",
   "metadata": {},
   "outputs": [
    {
     "name": "stdout",
     "output_type": "stream",
     "text": [
      "Current character I position at 0\n",
      "Current character i position at 2\n",
      "Current character s position at 4\n",
      "Current character n position at 6\n",
      "Current character r position at 8\n",
      "Current character c position at 10\n"
     ]
    }
   ],
   "source": [
    "a= []\n",
    "def evenstr(str1):\n",
    "    for index, char in enumerate(str1):\n",
    "        if index %2==0:\n",
    "            a.append(index)\n",
    "            print(\"Current character\", char, \"position at\", index )\n",
    "\n",
    "evenstr(\"Idiosyncracy\")"
   ]
  },
  {
   "cell_type": "markdown",
   "id": "ca270fa0",
   "metadata": {},
   "source": [
    "QUESTION 4: Write a function to rremove first characters from a string"
   ]
  },
  {
   "cell_type": "code",
   "execution_count": 4,
   "id": "e8b0b1e7",
   "metadata": {},
   "outputs": [
    {
     "name": "stdout",
     "output_type": "stream",
     "text": [
      "Enter the string:Kosisochukwu\n",
      "index to be remove:0\n",
      "New string:\n",
      "osisochukwu\n"
     ]
    }
   ],
   "source": [
    "def erase(string, n):\n",
    "     for index, char in enumerate(string):\n",
    "            return string[1: ]\n",
    "    \n",
    "string=input(\"Enter the string:\")\n",
    "n = int(input(\"index to be remove:\"))\n",
    "print(\"New string:\" )\n",
    "print(erase(string, n))   \n",
    "\n",
    "#Control code"
   ]
  },
  {
   "cell_type": "markdown",
   "id": "9e30401c",
   "metadata": {},
   "source": [
    "QUESTION 5: Write a function to check if the first and last number of a list is the same"
   ]
  },
  {
   "cell_type": "code",
   "execution_count": null,
   "id": "5a888726",
   "metadata": {},
   "outputs": [],
   "source": []
  }
 ],
 "metadata": {
  "kernelspec": {
   "display_name": "Python 3 (ipykernel)",
   "language": "python",
   "name": "python3"
  },
  "language_info": {
   "codemirror_mode": {
    "name": "ipython",
    "version": 3
   },
   "file_extension": ".py",
   "mimetype": "text/x-python",
   "name": "python",
   "nbconvert_exporter": "python",
   "pygments_lexer": "ipython3",
   "version": "3.9.12"
  }
 },
 "nbformat": 4,
 "nbformat_minor": 5
}
