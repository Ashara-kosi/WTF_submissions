{
 "cells": [
  {
   "cell_type": "markdown",
   "id": "3a8f5170",
   "metadata": {},
   "source": [
    "# WTFC2023 DATA SCIENCE AND AI GROUP C SUB GROUP1- MARGARET OLUWADARE(WTF/23/DS/C/030)"
   ]
  },
  {
   "cell_type": "markdown",
   "id": "0d4da94f",
   "metadata": {},
   "source": [
    "QUESTION ONE: Write a function to calculate the multiplication and sum of two numbers."
   ]
  },
  {
   "cell_type": "code",
   "execution_count": 1,
   "id": "44d2a36b",
   "metadata": {},
   "outputs": [
    {
     "name": "stdout",
     "output_type": "stream",
     "text": [
      "Enter first number: 3\n",
      "Enter second number: 2\n",
      "Product is:  6\n",
      "3\n",
      "5\n",
      "Sum is:  5\n"
     ]
    }
   ],
   "source": [
    "##Q1 SOLUTION\n",
    "def product(a,b):\n",
    "    if(a<b):\n",
    "        return product(b,a)\n",
    "    elif(b!=0):\n",
    "        return(a+product(a,b-1))\n",
    "    else:\n",
    "        return 0\n",
    "    \n",
    "def summing(numbers):\n",
    "    total = 0\n",
    "    for x in numbers:\n",
    "        total = total + x\n",
    "        print(total)\n",
    "    return total\n",
    "\n",
    "a=int(input(\"Enter first number: \"))\n",
    "b=int(input(\"Enter second number: \"))\n",
    "numbers= [a, b]\n",
    "print(\"Product is: \",product(a,b))\n",
    "print(\"Sum is: \", summing(numbers))"
   ]
  },
  {
   "cell_type": "markdown",
   "id": "11986eaa",
   "metadata": {},
   "source": [
    "QUESTION 2: Write a function to print the sum of the current number and the previous number"
   ]
  },
  {
   "cell_type": "code",
   "execution_count": 2,
   "id": "5e07a2d1",
   "metadata": {},
   "outputs": [
    {
     "name": "stdout",
     "output_type": "stream",
     "text": [
      "Enter first number: 45\n",
      "1035\n"
     ]
    }
   ],
   "source": [
    "##Q2 SOLUTION\n",
    "def recurSum(m):\n",
    "    if m <= 0:\n",
    "        return m\n",
    "    return recurSum(m - 1) + m\n",
    " \n",
    "m = int(input(\"Enter first number: \"))\n",
    "\n",
    "print(recurSum(m))"
   ]
  },
  {
   "cell_type": "markdown",
   "id": "1b8c00a9",
   "metadata": {},
   "source": [
    "QUESTION:Write a function to print characters from a string that are present at an even index number"
   ]
  },
  {
   "cell_type": "code",
   "execution_count": 3,
   "id": "f8209653",
   "metadata": {},
   "outputs": [
    {
     "name": "stdout",
     "output_type": "stream",
     "text": [
      "Current character I position at 0\n",
      "Current character i position at 2\n",
      "Current character s position at 4\n",
      "Current character n position at 6\n",
      "Current character r position at 8\n",
      "Current character c position at 10\n"
     ]
    }
   ],
   "source": [
    "##Q3 SOLUTION\n",
    "a= []\n",
    "def evenstr(str1):\n",
    "    for index, char in enumerate(str1):\n",
    "        if index %2==0:\n",
    "            a.append(index)\n",
    "            print(\"Current character\", char, \"position at\", index )\n",
    "\n",
    "evenstr(\"Idiosyncracy\")"
   ]
  },
  {
   "cell_type": "markdown",
   "id": "6e6a3328",
   "metadata": {},
   "source": [
    "QUESTION 4: Write a function to rremove first characters from a string"
   ]
  },
  {
   "cell_type": "code",
   "execution_count": 4,
   "id": "0dbbafbb",
   "metadata": {},
   "outputs": [
    {
     "name": "stdout",
     "output_type": "stream",
     "text": [
      "Enter the string:Kosisochukwu \n",
      "index to be remove:0\n",
      "New string:\n",
      "osisochukwu \n"
     ]
    }
   ],
   "source": [
    "##Q4 SOLUTION\n",
    "def erase(string, n):\n",
    "     for index, char in enumerate(string):\n",
    "            return string[1: ]\n",
    "    \n",
    "string=input(\"Enter the string:\")\n",
    "n = int(input(\"index to be remove:\"))\n",
    "print(\"New string:\" )\n",
    "print(erase(string, n))   \n",
    "\n",
    "#Control code"
   ]
  },
  {
   "cell_type": "markdown",
   "id": "08b7fc60",
   "metadata": {},
   "source": [
    "QUESTION 5: Write a function to check if the first and last number of a list is the same"
   ]
  },
  {
   "cell_type": "code",
   "execution_count": 5,
   "id": "bb1dd405",
   "metadata": {},
   "outputs": [
    {
     "name": "stdout",
     "output_type": "stream",
     "text": [
      "Enter the size of the List ::7\n",
      "Enter the Element of List ::\n",
      "23\n",
      "4\n",
      "2\n",
      "4\n",
      "65\n",
      "75\n",
      "3\n",
      "Result is False\n"
     ]
    }
   ],
   "source": [
    "##Q5 SOLUTION\n",
    "def check(num):\n",
    "    if num[0] == num[-1]:\n",
    "        print('Result is True')\n",
    "    else:\n",
    "        print('Result is False')\n",
    "    \n",
    "num = [ ]\n",
    "nums = int(input(\"Enter the size of the List ::\"))\n",
    "print(\"Enter the Element of List ::\")\n",
    "for j in range(int(nums)):\n",
    "    l=int(input(\"\"))\n",
    "    num.append(l)\n",
    "check(num)"
   ]
  },
  {
   "cell_type": "markdown",
   "id": "d30601ee",
   "metadata": {},
   "source": [
    "QUESTION 6: Write a function to print multiplication table from 1 to 10"
   ]
  },
  {
   "cell_type": "code",
   "execution_count": 6,
   "id": "aca40fe1",
   "metadata": {},
   "outputs": [
    {
     "name": "stdout",
     "output_type": "stream",
     "text": [
      "Desired number: 10\n",
      "Start at:1\n",
      "End at:12\n",
      "\n",
      " 1  2  3  4  5  6  7  8  9 \n",
      "\n",
      " 2  4  6  8 10 12 14 16 18 \n",
      "\n",
      " 3  6  9 12 15 18 21 24 27 \n",
      "\n",
      " 4  8 12 16 20 24 28 32 36 \n",
      "\n",
      " 5 10 15 20 25 30 35 40 45 \n",
      "\n",
      " 6 12 18 24 30 36 42 48 54 \n",
      "\n",
      " 7 14 21 28 35 42 49 56 63 \n",
      "\n",
      " 8 16 24 32 40 48 56 64 72 \n",
      "\n",
      " 9 18 27 36 45 54 63 72 81 \n",
      "\n",
      "10 20 30 40 50 60 70 80 90 \n",
      "\n",
      "11 22 33 44 55 66 77 88 99 \n",
      "\n",
      "12 24 36 48 60 72 84 96 108 \n",
      "\n"
     ]
    }
   ],
   "source": [
    "##Q6 SOLUTION\n",
    "def multtable(num, num1):\n",
    "     for i in range(start, end + 1):\n",
    "        for j in range(1, num1):\n",
    "            k = i*j\n",
    "            #num2 = int(input('Desired number:'))\n",
    "            #print('Multiplication table of', num1)\n",
    "            #print(j, 'x', i, '=', k)\n",
    "            print(\"{:2d} \".format(k),end='')\n",
    "        print(\"\\n\")  # line break\n",
    "            \n",
    "num1 = int(input('Desired number: '))\n",
    "start = int(input('Start at:'))\n",
    "end= int(input('End at:'))\n",
    "print()\n",
    "\n",
    "##Control code\n",
    "multtable(1, num1)"
   ]
  },
  {
   "cell_type": "markdown",
   "id": "faf0affb",
   "metadata": {},
   "source": [
    "QUESTION 7:Given a two list of numbers, write a function to create a new list such that the new list should contain odd numbers from the first list and even numbers from the second list."
   ]
  },
  {
   "cell_type": "code",
   "execution_count": 7,
   "id": "82d2da80",
   "metadata": {},
   "outputs": [
    {
     "name": "stdout",
     "output_type": "stream",
     "text": [
      "Enter the size of the First List ::6\n",
      "Enter the Element of First  List ::\n",
      "12\n",
      "3\n",
      "4\n",
      "65\n",
      "7\n",
      "5\n",
      "Enter the size of the second List ::5\n",
      "Enter the Element of second  List ::\n",
      "12\n",
      "34\n",
      "54\n",
      "6\n",
      "54\n",
      "Even lists: [12, 34, 54, 6, 54, 12, 34, 54, 6, 54, 12, 34, 54, 6, 54, 12, 34, 54, 6, 54, 12, 34, 54, 6, 54, 12, 34, 54, 6, 54]\n",
      "Odd lists: []\n"
     ]
    }
   ],
   "source": [
    "##Q7 SOLUTION\n",
    "even = [] \n",
    "odd = [] \n",
    "def evenodd(A,B):\n",
    "    for i in A:\n",
    "        for i in B:\n",
    "            if (i % 2 == 0):\n",
    "                even.append(i)\n",
    "            else:\n",
    "                odd.append(i)\n",
    "    print(\"Even lists:\", even)\n",
    "    print(\"Odd lists:\", odd) \n",
    "  \n",
    "# Driver Code \n",
    "A=[ ]\n",
    "n=int(input(\"Enter the size of the First List ::\"))\n",
    "print(\"Enter the Element of First  List ::\")\n",
    "for i in range(int(n)):\n",
    "    k=int(input(\"\"))\n",
    "    A.append(k)\n",
    "    \n",
    "B=[ ]\n",
    "m=int(input(\"Enter the size of the second List ::\"))\n",
    "print(\"Enter the Element of second  List ::\")\n",
    "for j in range(int(m)):\n",
    "    l=int(input(\"\"))\n",
    "    B.append(l)\n",
    "    \n",
    "evenodd(A,B)"
   ]
  },
  {
   "cell_type": "code",
   "execution_count": null,
   "id": "a41df44e",
   "metadata": {},
   "outputs": [],
   "source": []
  }
 ],
 "metadata": {
  "kernelspec": {
   "display_name": "Python 3 (ipykernel)",
   "language": "python",
   "name": "python3"
  },
  "language_info": {
   "codemirror_mode": {
    "name": "ipython",
    "version": 3
   },
   "file_extension": ".py",
   "mimetype": "text/x-python",
   "name": "python",
   "nbconvert_exporter": "python",
   "pygments_lexer": "ipython3",
   "version": "3.9.12"
  }
 },
 "nbformat": 4,
 "nbformat_minor": 5
}
