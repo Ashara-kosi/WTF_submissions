{
 "cells": [
  {
   "cell_type": "markdown",
   "id": "43bebb16",
   "metadata": {},
   "source": [
    "# 1. Write a function called showNumbers that takes a parameter called limit. It should print all the numbers between 0 and limit with a label to identify the even and odd numbers.For example, if the limit is 3, it should print:0 EVEN 1 ODD 2 EVEN 3 ODD"
   ]
  },
  {
   "cell_type": "code",
   "execution_count": 1,
   "id": "4fa28d4b",
   "metadata": {},
   "outputs": [],
   "source": [
    "def showNumbers(limit):\n",
    "    for item in range(0,limit+1):\n",
    "        if item%2==1:\n",
    "            print (f'{item} ODD')\n",
    "        else:\n",
    "            print (f'{item} EVEN')\n",
    "        "
   ]
  },
  {
   "cell_type": "code",
   "execution_count": 2,
   "id": "f6443b8f",
   "metadata": {},
   "outputs": [
    {
     "name": "stdout",
     "output_type": "stream",
     "text": [
      "0 EVEN\n",
      "1 ODD\n",
      "2 EVEN\n",
      "3 ODD\n",
      "4 EVEN\n"
     ]
    }
   ],
   "source": [
    "# ans 1\n",
    "showNumbers(4)"
   ]
  },
  {
   "cell_type": "markdown",
   "id": "c167c730",
   "metadata": {},
   "source": [
    "# 2. Write a function that returns the sum of multiples of 3 and 5 between 0 and limit (parameter). For example, if limit is 20, it should return the sum of 3, 5, 6, 9, 10,12, 15, 18, 20."
   ]
  },
  {
   "cell_type": "code",
   "execution_count": 3,
   "id": "046711de",
   "metadata": {},
   "outputs": [],
   "source": [
    "def sum_multiples(limit):\n",
    "    a= 0\n",
    "    for item in range(0, limit+1):\n",
    "        if item%3==0 or item%5==0:\n",
    "            a= a + item\n",
    "    print (a)"
   ]
  },
  {
   "cell_type": "code",
   "execution_count": 4,
   "id": "a10976ba",
   "metadata": {},
   "outputs": [
    {
     "name": "stdout",
     "output_type": "stream",
     "text": [
      "60\n"
     ]
    }
   ],
   "source": [
    "# ans 2\n",
    "sum_multiples(15)"
   ]
  },
  {
   "cell_type": "markdown",
   "id": "a838668e",
   "metadata": {},
   "source": [
    "# 3. Write a function called show_stars(rows). If rows is 5, it should print the following:***************"
   ]
  },
  {
   "cell_type": "code",
   "execution_count": 5,
   "id": "9bc8b33d",
   "metadata": {},
   "outputs": [],
   "source": [
    "def show_stars(rows):\n",
    "    a= rows * 3\n",
    "    a = '*' * a\n",
    "    print (a)"
   ]
  },
  {
   "cell_type": "code",
   "execution_count": 6,
   "id": "d6a96ae4",
   "metadata": {},
   "outputs": [
    {
     "name": "stdout",
     "output_type": "stream",
     "text": [
      "***************\n"
     ]
    }
   ],
   "source": [
    "# ans 3\n",
    "show_stars(5)"
   ]
  },
  {
   "cell_type": "markdown",
   "id": "52a6bfa7",
   "metadata": {},
   "source": [
    "# 4. Write a function that prints all the prime numbers between 0 and limit where limit is a parameter."
   ]
  },
  {
   "cell_type": "code",
   "execution_count": 9,
   "id": "5991d8ee",
   "metadata": {},
   "outputs": [],
   "source": [
    "def prime_no(limit):\n",
    "    for item in range(0,limit+1):\n",
    "        if item > 1:\n",
    "            for num in range(2, item):\n",
    "                if (item % num) == 0:\n",
    "                    break\n",
    "            else:\n",
    "                print(item)\n"
   ]
  },
  {
   "cell_type": "code",
   "execution_count": 10,
   "id": "c1f5cdf7",
   "metadata": {},
   "outputs": [
    {
     "name": "stdout",
     "output_type": "stream",
     "text": [
      "2\n",
      "3\n",
      "5\n",
      "7\n",
      "11\n",
      "13\n",
      "17\n",
      "19\n"
     ]
    }
   ],
   "source": [
    "# ans 4\n",
    "prime_no(20)"
   ]
  },
  {
   "cell_type": "markdown",
   "id": "ccfc3fa7",
   "metadata": {},
   "source": [
    "# 5. Write a program (function!) that takes a list and returns a new list that contains all the elements of the first list minus all the duplicates."
   ]
  },
  {
   "cell_type": "code",
   "execution_count": 11,
   "id": "21657ca8",
   "metadata": {},
   "outputs": [],
   "source": [
    "def no_duplicates(list_):\n",
    "    a= []\n",
    "    for item in list_:\n",
    "        if item not in a:\n",
    "            a.append(item)\n",
    "    print (a)"
   ]
  },
  {
   "cell_type": "code",
   "execution_count": 12,
   "id": "4eefbec1",
   "metadata": {},
   "outputs": [
    {
     "name": "stdout",
     "output_type": "stream",
     "text": [
      "[1, 8, 4, 3, 2]\n"
     ]
    }
   ],
   "source": [
    "# ans 5\n",
    "no_duplicates([1,8,4,3,3,2,8])"
   ]
  },
  {
   "cell_type": "markdown",
   "id": "99485e26",
   "metadata": {},
   "source": [
    "# 6.Write a function to ask the user for a number and determine whether the number is prime or not. "
   ]
  },
  {
   "cell_type": "code",
   "execution_count": 13,
   "id": "e5835f2c",
   "metadata": {},
   "outputs": [],
   "source": [
    "def prime_checker(number):\n",
    "    if number > 1:\n",
    "        for num in range(2, number):\n",
    "            if number%num == 0:\n",
    "                print (f'{number} is not a prime number')\n",
    "                break\n",
    "        else:\n",
    "            print (f'{number} is a prime number')\n",
    "        \n",
    "                "
   ]
  },
  {
   "cell_type": "code",
   "execution_count": 14,
   "id": "c637c164",
   "metadata": {},
   "outputs": [
    {
     "name": "stdout",
     "output_type": "stream",
     "text": [
      "input a number: 7\n",
      "7 is a prime number\n"
     ]
    }
   ],
   "source": [
    "# ans 6\n",
    "number= int(input('input a number: '))\n",
    "prime_checker(number)"
   ]
  },
  {
   "cell_type": "markdown",
   "id": "822d8096",
   "metadata": {},
   "source": [
    "# 7. Write a program that asks the user how many Fibonnaci numbers to generate and then generates them. "
   ]
  },
  {
   "cell_type": "code",
   "execution_count": 15,
   "id": "8477b524",
   "metadata": {},
   "outputs": [],
   "source": [
    "def fibonnacci_no(number):\n",
    "    a= 0\n",
    "    b= 1\n",
    "    count= 0\n",
    "    while count < number:\n",
    "        print (a)\n",
    "        next_= a+b\n",
    "        a= b\n",
    "        b= next_\n",
    "        count += 1\n",
    "        "
   ]
  },
  {
   "cell_type": "code",
   "execution_count": 16,
   "id": "57fbc700",
   "metadata": {},
   "outputs": [
    {
     "name": "stdout",
     "output_type": "stream",
     "text": [
      "How many fibonacci number sequence do you want to generate?: 7\n",
      "0\n",
      "1\n",
      "1\n",
      "2\n",
      "3\n",
      "5\n",
      "8\n"
     ]
    }
   ],
   "source": [
    "sequence = int(input('How many fibonacci number sequence do you want to generate?: '))\n",
    "fibonnacci_no(sequence)"
   ]
  },
  {
   "cell_type": "markdown",
   "id": "b7851caf",
   "metadata": {},
   "source": [
    "# 8. Write a function that ask the user for a string and print out whether this string is a palindrome or not."
   ]
  },
  {
   "cell_type": "code",
   "execution_count": 17,
   "id": "7e62210d",
   "metadata": {},
   "outputs": [],
   "source": [
    "def palindrome_str(obj):\n",
    "    a= obj[: :]\n",
    "    b= obj[: : -1]\n",
    "    if a==b:\n",
    "        print (f'{obj} is a palindrome string')\n",
    "    else:\n",
    "        print (f'{obj} is not a palindrome string' )"
   ]
  },
  {
   "cell_type": "code",
   "execution_count": 18,
   "id": "2e381c72",
   "metadata": {},
   "outputs": [
    {
     "name": "stdout",
     "output_type": "stream",
     "text": [
      "What string do you want to check?: lawal\n",
      "lawal is a palindrome string\n"
     ]
    }
   ],
   "source": [
    "string= input('What string do you want to check?: ')\n",
    "palindrome_str(string)"
   ]
  },
  {
   "cell_type": "markdown",
   "id": "2a33a908",
   "metadata": {},
   "source": [
    "# 9. Write a function that takes an ordered list of numbers (a list where the elements are in order from smallest to largest) and another number."
   ]
  },
  {
   "cell_type": "code",
   "execution_count": 19,
   "id": "765d3ed0",
   "metadata": {},
   "outputs": [],
   "source": [
    "def order_list(list_, number):\n",
    "    a= sorted(list_)\n",
    "    b= number\n",
    "    print (a,b)"
   ]
  },
  {
   "cell_type": "code",
   "execution_count": 20,
   "id": "abac0f29",
   "metadata": {},
   "outputs": [
    {
     "name": "stdout",
     "output_type": "stream",
     "text": [
      "[1, 2, 3, 4, 5, 6] 5\n"
     ]
    }
   ],
   "source": [
    "list_= [2,4,5,6,3,1]\n",
    "number= 5\n",
    "order_list(list_, number)"
   ]
  },
  {
   "cell_type": "markdown",
   "id": "06be6c48",
   "metadata": {},
   "source": [
    "# 10.Create a program that asks the user to enter their name and their age. Print out a message addressed to them that tells them the year that they will turn 100 years old. "
   ]
  },
  {
   "cell_type": "code",
   "execution_count": 21,
   "id": "8df86d8f",
   "metadata": {},
   "outputs": [],
   "source": [
    "def name_age(name, age):\n",
    "    year_born= 2022- age\n",
    "    year_100= year_born+ 100\n",
    "    print (f'Hello {name}, You will be 100 years old in the year {year_100}')"
   ]
  },
  {
   "cell_type": "code",
   "execution_count": 22,
   "id": "0264c2a6",
   "metadata": {},
   "outputs": [
    {
     "name": "stdout",
     "output_type": "stream",
     "text": [
      "What is your name?: Monsurat\n",
      "How old are you?: 23\n",
      "Hello Monsurat, You will be 100 years old in the year 2099\n"
     ]
    }
   ],
   "source": [
    "name= input('What is your name?: ')\n",
    "age= int(input('How old are you?: '))\n",
    "name_age(name, age)"
   ]
  }
 ],
 "metadata": {
  "kernelspec": {
   "display_name": "Python 3 (ipykernel)",
   "language": "python",
   "name": "python3"
  },
  "language_info": {
   "codemirror_mode": {
    "name": "ipython",
    "version": 3
   },
   "file_extension": ".py",
   "mimetype": "text/x-python",
   "name": "python",
   "nbconvert_exporter": "python",
   "pygments_lexer": "ipython3",
   "version": "3.9.12"
  }
 },
 "nbformat": 4,
 "nbformat_minor": 5
}
