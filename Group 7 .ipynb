{
 "cells": [
  {
   "cell_type": "markdown",
   "id": "b882be78",
   "metadata": {},
   "source": [
    "# Names of Group 7 members\n",
    "## Nitaranda Yargawa Alexander(team 7)\n",
    "## Latifa Abubakar\n",
    "## Olajumoke Deborah Falowo \n",
    "## Oluchukwu Chiadika \n",
    "## Famakinde Kehinde Oladunni\n",
    "## Akinwola Mary \n",
    "## Linda Iwiyisi Owolabi\n",
    "## Juliana Tula Talai\n",
    "##"
   ]
  },
  {
   "cell_type": "markdown",
   "id": "cb5a0eff",
   "metadata": {},
   "source": [
    "# QUESTION 1"
   ]
  },
  {
   "cell_type": "code",
   "execution_count": 12,
   "id": "a0df3e8b",
   "metadata": {},
   "outputs": [
    {
     "name": "stdout",
     "output_type": "stream",
     "text": [
      "These are the first 10 natural numbers\n",
      "1\n",
      "2\n",
      "3\n",
      "4\n",
      "5\n",
      "6\n",
      "7\n",
      "8\n",
      "9\n",
      "10\n"
     ]
    }
   ],
   "source": [
    "print ('These are the first 10 natural numbers')\n",
    "i=1\n",
    "\n",
    "while i<=10:\n",
    "    print (i)\n",
    "    i+=1"
   ]
  },
  {
   "cell_type": "markdown",
   "id": "4b534684",
   "metadata": {},
   "source": [
    "# QUESTION 2"
   ]
  },
  {
   "cell_type": "code",
   "execution_count": 17,
   "id": "ebf4bdc6",
   "metadata": {},
   "outputs": [
    {
     "name": "stdout",
     "output_type": "stream",
     "text": [
      "This is the sum of the list x \n",
      "36\n"
     ]
    }
   ],
   "source": [
    "print ('This is the sum of the list x ')\n",
    "x=[1,2,3,4,5,6,7,8]\n",
    "y=0\n",
    "\n",
    "for i in x:\n",
    "    y=y+i\n",
    "    i+=1\n",
    "print (y)"
   ]
  },
  {
   "cell_type": "markdown",
   "id": "65c05be5",
   "metadata": {},
   "source": [
    "# QUESTION 3"
   ]
  },
  {
   "cell_type": "code",
   "execution_count": 14,
   "id": "c292550e",
   "metadata": {},
   "outputs": [
    {
     "name": "stdout",
     "output_type": "stream",
     "text": [
      "This is the muliplication table of the number 2\n",
      "2\n",
      "4\n",
      "6\n",
      "8\n",
      "10\n",
      "12\n",
      "14\n",
      "16\n",
      "18\n",
      "20\n",
      "22\n",
      "24\n"
     ]
    }
   ],
   "source": [
    "print ('This is the muliplication table of the number 2')\n",
    "x=2\n",
    "y=1\n",
    "z=0\n",
    "\n",
    "while y<=12:\n",
    "    \n",
    "    z=x*y\n",
    "    print (z)\n",
    "    y+=1"
   ]
  },
  {
   "cell_type": "markdown",
   "id": "1200fd26",
   "metadata": {},
   "source": [
    "# QUESTION 4"
   ]
  },
  {
   "cell_type": "code",
   "execution_count": 16,
   "id": "37a2921f",
   "metadata": {},
   "outputs": [
    {
     "name": "stdout",
     "output_type": "stream",
     "text": [
      "This is the printed element of the list\n",
      "10\n",
      "22\n",
      "34\n",
      "41\n",
      "59\n",
      "64\n",
      "76\n",
      "81\n",
      "90\n",
      "100\n"
     ]
    }
   ],
   "source": [
    "print ('This is the printed element of the list')\n",
    "lists=[10,22,34,41,59,64,76,81,90,100]\n",
    "\n",
    "for num in lists:\n",
    "    print (num)\n",
    "    num+=1"
   ]
  },
  {
   "cell_type": "markdown",
   "id": "9c79a2e7",
   "metadata": {},
   "source": [
    "# QUESTION 5"
   ]
  },
  {
   "cell_type": "code",
   "execution_count": 19,
   "id": "f635cf60",
   "metadata": {},
   "outputs": [
    {
     "name": "stdout",
     "output_type": "stream",
     "text": [
      "This is the count of the digits in the number 7653369 \n",
      "1\n",
      "2\n",
      "3\n",
      "4\n",
      "5\n",
      "6\n",
      "7\n"
     ]
    }
   ],
   "source": [
    "print ('This is the count of the digits in the number 7653369 ')\n",
    "g='7653369'\n",
    "num_dig= 0\n",
    "for dig in range(len(g)):\n",
    "    num_dig+= 1\n",
    "    print(num_dig)"
   ]
  },
  {
   "cell_type": "markdown",
   "id": "a222cdfa",
   "metadata": {},
   "source": [
    "# QUESTION 6"
   ]
  },
  {
   "cell_type": "code",
   "execution_count": 11,
   "id": "2faabbf8",
   "metadata": {},
   "outputs": [
    {
     "name": "stdout",
     "output_type": "stream",
     "text": [
      "Prime numbers between 2 and 30 are:\n",
      "2\n",
      "3\n",
      "5\n",
      "7\n",
      "11\n",
      "13\n",
      "17\n",
      "19\n",
      "23\n",
      "29\n"
     ]
    }
   ],
   "source": [
    "lower = 2\n",
    "upper = 30\n",
    "\n",
    "print(\"Prime numbers between\", lower, \"and\", upper, \"are:\")\n",
    "\n",
    "for num in range(lower, upper + 1):\n",
    "\n",
    "   if num > 1:\n",
    "       for i in range(2, num):\n",
    "           if (num % i) == 0:\n",
    "               break\n",
    "       else:\n",
    "           print(num)"
   ]
  }
 ],
 "metadata": {
  "kernelspec": {
   "display_name": "Python 3",
   "language": "python",
   "name": "python3"
  },
  "language_info": {
   "codemirror_mode": {
    "name": "ipython",
    "version": 3
   },
   "file_extension": ".py",
   "mimetype": "text/x-python",
   "name": "python",
   "nbconvert_exporter": "python",
   "pygments_lexer": "ipython3",
   "version": "3.8.8"
  }
 },
 "nbformat": 4,
 "nbformat_minor": 5
}
