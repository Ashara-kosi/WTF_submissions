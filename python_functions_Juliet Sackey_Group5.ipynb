{
 "cells": [
  {
   "cell_type": "code",
   "execution_count": null,
   "id": "dede31f5",
   "metadata": {},
   "outputs": [],
   "source": [
    "#1.\tWrite a function to calculate the multiplication and sum of two numbers.\n",
    "\n",
    "def multi_Suming():\n",
    "    num1=int(input('enter num1:'))\n",
    "    num2=int(input('enter num2:'))\n",
    "    print('multiplication of the two numbers is:',num1*num2) \n",
    "    print('sumation of the two numbers is:',num1+num2)\n",
    "multi_Suming()\n"
   ]
  },
  {
   "cell_type": "code",
   "execution_count": null,
   "id": "3fd9327d",
   "metadata": {},
   "outputs": [],
   "source": [
    "#2.\tWrite a function to print the sum of the current number and the previous numberr\n",
    "def prev_curr_num():\n",
    "    previous_num = 3\n",
    "    for current_num in range(1, 5):\n",
    "        suming = previous_num + current_num\n",
    "        print(suming)\n",
    "        previous_num = current_num\n",
    "prev_curr_num()"
   ]
  },
  {
   "cell_type": "code",
   "execution_count": null,
   "id": "2f447d41",
   "metadata": {},
   "outputs": [],
   "source": [
    "#3.\tWrite a function to print characters from a string that are present at an even index numbercharacters = input('Enter a string: ')\n",
    "def characters():\n",
    "    characters = input('Enter a string: ')\n",
    "    print('characters present at even index:', characters[0::2])\n",
    "characters()"
   ]
  },
  {
   "cell_type": "code",
   "execution_count": null,
   "id": "071ef261",
   "metadata": {},
   "outputs": [],
   "source": [
    "#4.\tWrite a function to rremove first characters from a string\n",
    "def remove_first():\n",
    "    remove_first=input('Enter a string:')\n",
    "    print(remove_first[1:])\n",
    "remove_first()"
   ]
  },
  {
   "cell_type": "code",
   "execution_count": null,
   "id": "b305dbc1",
   "metadata": {},
   "outputs": [],
   "source": [
    "#5.\tWrite a function to check if the first and last number of a list is the same\n",
    "def first_last(list):\n",
    "    list_1=[2,8,9,2]\n",
    "    if list_1[0]==list_1[-1]:\n",
    "        return True\n",
    "    else:\n",
    "        return False\n",
    "print('result is', first_last(list_1))"
   ]
  },
  {
   "cell_type": "code",
   "execution_count": null,
   "id": "d10cecea",
   "metadata": {},
   "outputs": [],
   "source": [
    "#6 Write a function to print multiplication table from 1 to 10\n",
    "def multi_table():\n",
    "    for num1 in range(1,11):\n",
    "        print('multplication table of %d is....'%num1)\n",
    "\n",
    "        for num2 in range(1,11):\n",
    "            print(num1,'*' ,num2,'=',num1*num2 )\n",
    "multi_table()"
   ]
  },
  {
   "cell_type": "code",
   "execution_count": null,
   "id": "3d43c256",
   "metadata": {},
   "outputs": [],
   "source": [
    "#7.\tGiven a two list of numbers, write a function to create a new list such that the new list should contain odd numbers from the first list and even numbers from the second list.\n",
    "def total_list(list1, list2):\n",
    "    new_list = []\n",
    "    \n",
    "    list1 = [180, 210, 5, 0, 95,89,50,68]\n",
    "    list2 = [70, 7, 88, 78, 90,56,80,44]\n",
    "    \n",
    "    for num in list1:\n",
    "        if num % 2 != 0:\n",
    "            new_list.append(num)\n",
    "    \n",
    "    for i in list2:\n",
    "        if i % 2 == 0:\n",
    "            new_list.append(i)\n",
    "    return new_list\n",
    "\n",
    "\n",
    "print(\"new list:\", total_list(list1, list2))"
   ]
  }
 ],
 "metadata": {
  "kernelspec": {
   "display_name": "Python 3 (ipykernel)",
   "language": "python",
   "name": "python3"
  },
  "language_info": {
   "codemirror_mode": {
    "name": "ipython",
    "version": 3
   },
   "file_extension": ".py",
   "mimetype": "text/x-python",
   "name": "python",
   "nbconvert_exporter": "python",
   "pygments_lexer": "ipython3",
   "version": "3.9.12"
  }
 },
 "nbformat": 4,
 "nbformat_minor": 5
}
