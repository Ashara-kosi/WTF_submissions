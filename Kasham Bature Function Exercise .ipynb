{
 "cells": [
  {
   "cell_type": "markdown",
   "id": "2cb4629a",
   "metadata": {},
   "source": [
    "1. Write a function called showNumbers that takes a parameter called limit. It should print all the numbers between 0 and limit with a label to identify the even and odd numbers.For example, if the limit is 3, it should print:0 EVEN 1 ODD 2 EVEN 3 ODD "
   ]
  },
  {
   "cell_type": "code",
   "execution_count": 30,
   "id": "f0c4483b",
   "metadata": {},
   "outputs": [
    {
     "name": "stdout",
     "output_type": "stream",
     "text": [
      "0 EVEN\n",
      "1 ODD\n",
      "2 EVEN\n",
      "3 ODD\n",
      "4 EVEN\n",
      "5 ODD\n",
      "6 EVEN\n",
      "7 ODD\n",
      "8 EVEN\n",
      "9 ODD\n",
      "10 EVEN\n"
     ]
    }
   ],
   "source": [
    "def showNumbers(limit):\n",
    "    for i in range(0,limit+1):\n",
    "        if i%2==0:\n",
    "            print(i, \"EVEN\")\n",
    "        else:\n",
    "                print(i, \"ODD\") \n",
    "                end=' '\n",
    "showNumbers(10)"
   ]
  },
  {
   "cell_type": "markdown",
   "id": "16ee1184",
   "metadata": {},
   "source": [
    "2. Write a function that returns the sum of multiples of 3 and 5 between 0 and limit (parameter). For example, if limit is 20, it should return the sum of 3, 5, 6, 9, 10,12, 15, 18, 20."
   ]
  },
  {
   "cell_type": "code",
   "execution_count": 67,
   "id": "849af1f9",
   "metadata": {},
   "outputs": [
    {
     "data": {
      "text/plain": [
       "93"
      ]
     },
     "execution_count": 67,
     "metadata": {},
     "output_type": "execute_result"
    }
   ],
   "source": [
    "def multiples_sum(limit):\n",
    "    sum1 = 0\n",
    "    for i in range(0,limit):\n",
    "        if i % 3 == 0:\n",
    "            sum1 = sum1 + i\n",
    "        if i % 5 == 0:\n",
    "            sum1 = sum1 + i\n",
    "    return sum1\n",
    "multiples_sum(20)"
   ]
  },
  {
   "cell_type": "markdown",
   "id": "ad975d23",
   "metadata": {},
   "source": [
    "3. Write a function called show_stars(rows). If rows is 5, it should print the following:***"
   ]
  },
  {
   "cell_type": "code",
   "execution_count": 33,
   "id": "dec9cf27",
   "metadata": {},
   "outputs": [
    {
     "name": "stdout",
     "output_type": "stream",
     "text": [
      "Enter the number of rows: 6\n",
      "*\n",
      "**\n",
      "***\n",
      "****\n",
      "*****\n",
      "******\n"
     ]
    }
   ],
   "source": [
    "def print_stars(count):\n",
    "    for i in range(1, count+1):\n",
    "        print('*' * i)\n",
    "\n",
    "n=int(input(\"Enter the number of rows: \"))\n",
    "print_stars(n)\n"
   ]
  },
  {
   "cell_type": "markdown",
   "id": "d1c9b342",
   "metadata": {},
   "source": [
    "4. Write a function that prints all the prime numbers between 0 and limit where limit is a parameter."
   ]
  },
  {
   "cell_type": "code",
   "execution_count": 35,
   "id": "5db05437",
   "metadata": {},
   "outputs": [
    {
     "name": "stdout",
     "output_type": "stream",
     "text": [
      "Please input a number: 15\n",
      "2  is a prime number\n",
      "3  is a prime number\n",
      "5  is a prime number\n",
      "7  is a prime number\n",
      "11  is a prime number\n",
      "13  is a prime number\n"
     ]
    }
   ],
   "source": [
    "def prime_number (limit):\n",
    "    for number in range(0, limit+1):\n",
    "        if number > 1:\n",
    "            for i in range(2, number):\n",
    "                if number % i ==0:\n",
    "                    break\n",
    "            else:\n",
    "                print (number, ' is a prime number')\n",
    "\n",
    "\n",
    "\n",
    "limit= int(input('Please input a number: '))\n",
    "prime_number(limit)"
   ]
  },
  {
   "cell_type": "markdown",
   "id": "f9e2a1b5",
   "metadata": {},
   "source": [
    "5.Write a program (function!) that takes a list and returns a new list that contains all the elements of the first list minus all the duplicates"
   ]
  },
  {
   "cell_type": "code",
   "execution_count": 37,
   "id": "e8b6b445",
   "metadata": {},
   "outputs": [
    {
     "data": {
      "text/plain": [
       "{2, 3, 4, 5, 7}"
      ]
     },
     "execution_count": 37,
     "metadata": {},
     "output_type": "execute_result"
    }
   ],
   "source": [
    "def unique_list(list):\n",
    "    new_list= []\n",
    "    for items in list:\n",
    "        if items not in new_list:\n",
    "            new_list.append(items)\n",
    "    return set(new_list)\n",
    "unique_list([2,3,4,5,2,3,4,5,7])"
   ]
  },
  {
   "cell_type": "markdown",
   "id": "8b87fe1c",
   "metadata": {},
   "source": [
    "6. Write a function to ask the user for a number and determine whether the number is prime or not."
   ]
  },
  {
   "cell_type": "code",
   "execution_count": 41,
   "id": "840d0daf",
   "metadata": {},
   "outputs": [
    {
     "name": "stdout",
     "output_type": "stream",
     "text": [
      "Please input number5\n",
      "5 is a prime number\n"
     ]
    }
   ],
   "source": [
    "def prime(n):\n",
    "    if n > 1:\n",
    "        for i in range(2, n):\n",
    "            if (n%i) == 0:\n",
    "                print(n, ' is not a prime number')\n",
    "                break\n",
    "        else:\n",
    "                print(n, 'is a prime number' )\n",
    "\n",
    "\n",
    "\n",
    "n= int(input('Please input number'))\n",
    "prime(n)"
   ]
  },
  {
   "cell_type": "markdown",
   "id": "4720842e",
   "metadata": {},
   "source": [
    "7. Write a program that asks the user how many Fibonnaci numbers to generate and then generates them."
   ]
  },
  {
   "cell_type": "code",
   "execution_count": 43,
   "id": "f31f3c8d",
   "metadata": {},
   "outputs": [
    {
     "name": "stdout",
     "output_type": "stream",
     "text": [
      "How many Fibonacci numbers should I generate 15\n",
      "The first 15 Fibonacci numbers are: [1, 1, 2, 3, 5, 8, 13, 21, 34, 55, 89, 144, 233, 377, 610]\n"
     ]
    }
   ],
   "source": [
    "def fib(a,b):\n",
    "    return a + b\n",
    "number = int(input('How many Fibonacci numbers should I generate '))\n",
    "\n",
    "\n",
    "\n",
    "fibonacci_list =[]\n",
    "for n in range(number):\n",
    "    if n in [0,1]:\n",
    "        fibonacci_list += [1]\n",
    "    else:\n",
    "        fibonacci_list += [fib(fibonacci_list[n-2], fibonacci_list[n-1])]\n",
    "print('The first', number, 'Fibonacci numbers are:', fibonacci_list)"
   ]
  },
  {
   "cell_type": "markdown",
   "id": "68ac4e33",
   "metadata": {},
   "source": [
    "8. Write a function that ask the user for a string and print out whether this string is a palindrome or not."
   ]
  },
  {
   "cell_type": "code",
   "execution_count": 45,
   "id": "7563ed91",
   "metadata": {},
   "outputs": [
    {
     "name": "stdout",
     "output_type": "stream",
     "text": [
      "please input your string: madam\n",
      "madam  is a palindrome\n"
     ]
    }
   ],
   "source": [
    "def pal(x):\n",
    "    if x[::1] == x[::-1]:\n",
    "        print(x, ' is a palindrome')\n",
    "    else:\n",
    "        print(x, ' is not a palindrome')\n",
    "        \n",
    "string= str(input('please input your string: '))\n",
    "pal(string)"
   ]
  },
  {
   "cell_type": "markdown",
   "id": "2326c972",
   "metadata": {},
   "source": [
    "9. Write a function that takes an ordered list of numbers (a list where the elements are in order from smallest to largest) and another number."
   ]
  },
  {
   "cell_type": "code",
   "execution_count": 47,
   "id": "7f934722",
   "metadata": {},
   "outputs": [
    {
     "name": "stdout",
     "output_type": "stream",
     "text": [
      "Please input your number: 5\n",
      "True\n"
     ]
    }
   ],
   "source": [
    "def order(x):\n",
    "    my_list= [1, 2, 3, 4, 5, 6]\n",
    "    if x in my_list:\n",
    "        print ('True')\n",
    "    else:\n",
    "        print('False')\n",
    "x=int(input('Please input your number: '))\n",
    "            \n",
    "order(x)"
   ]
  },
  {
   "cell_type": "markdown",
   "id": "98895273",
   "metadata": {},
   "source": [
    "10.Create a program that asks the user to enter their name and their age. Print out a message addressed to them that tells them the year that they will turn 100 years old"
   ]
  },
  {
   "cell_type": "code",
   "execution_count": 68,
   "id": "da4257a9",
   "metadata": {},
   "outputs": [
    {
     "name": "stdout",
     "output_type": "stream",
     "text": [
      "Enter your name: Abigail\n",
      "Enter your age: 30\n",
      "Abigail will turn 100 in 2092\n"
     ]
    }
   ],
   "source": [
    "import datetime\n",
    "Name = input(\"Enter your name: \")\n",
    "Age = int(input(\"Enter your age: \"))\n",
    "print(Name+\" will turn 100 in \" +str(datetime.datetime. today().year - Age + 100))"
   ]
  },
  {
   "cell_type": "code",
   "execution_count": null,
   "id": "fab9f419",
   "metadata": {},
   "outputs": [],
   "source": []
  }
 ],
 "metadata": {
  "kernelspec": {
   "display_name": "Python 3 (ipykernel)",
   "language": "python",
   "name": "python3"
  },
  "language_info": {
   "codemirror_mode": {
    "name": "ipython",
    "version": 3
   },
   "file_extension": ".py",
   "mimetype": "text/x-python",
   "name": "python",
   "nbconvert_exporter": "python",
   "pygments_lexer": "ipython3",
   "version": "3.9.12"
  }
 },
 "nbformat": 4,
 "nbformat_minor": 5
}
