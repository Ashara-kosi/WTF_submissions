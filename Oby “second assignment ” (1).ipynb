{
 "cells": [
  {
   "cell_type": "markdown",
   "id": "d255e15c",
   "metadata": {},
   "source": [
    "#### 1.Write a function called showNumbers that takes a parameter called limit. It should printall the numbers between 0 and limit with a label to identify the even and odd numbers.For example, if the limit is 3, it should print:0 EVEN 1 ODD 2 EVEN 3 ODD"
   ]
  },
  {
   "cell_type": "code",
   "execution_count": 1,
   "id": "4426e1b3",
   "metadata": {},
   "outputs": [
    {
     "name": "stdout",
     "output_type": "stream",
     "text": [
      "0 Even\n",
      "1 Odd\n",
      "2 Even\n",
      "3 Odd\n",
      "4 Even\n",
      "5 Odd\n",
      "6 Even\n",
      "7 Odd\n",
      "8 Even\n",
      "9 Odd\n",
      "10 Even\n"
     ]
    }
   ],
   "source": [
    "def showNumbers(limit):\n",
    "    for i in range(0,limit+1):\n",
    "        if i % 2 ==0:\n",
    "            print (i,'Even')\n",
    "        else:\n",
    "            print (i,'Odd')\n",
    "showNumbers(10)"
   ]
  },
  {
   "cell_type": "markdown",
   "id": "c5afb5af",
   "metadata": {},
   "source": [
    " #### 2.Write a function that returns the sum of multiples of 3 and 5 between 0and limit (parameter). For example, if limit is 20, it should return the sum of 3, 5, 6, 9, 10,12, 15, 18, 20."
   ]
  },
  {
   "cell_type": "code",
   "execution_count": 1,
   "id": "9ec18255",
   "metadata": {},
   "outputs": [
    {
     "name": "stdout",
     "output_type": "stream",
     "text": [
      "multiples of 3 - [0, 3, 6, 9, 12, 15]\n",
      "multiples of 5 - [0, 5, 10, 15]\n"
     ]
    },
    {
     "data": {
      "text/plain": [
       "75"
      ]
     },
     "execution_count": 1,
     "metadata": {},
     "output_type": "execute_result"
    }
   ],
   "source": [
    "def sum_multiples(limit):\n",
    "    mul_list_3 =[]\n",
    "    mul_list_5 =[]\n",
    "    for i in range(0,limit+1):\n",
    "        if i % 3 == 0:\n",
    "            mul_list_3.append(i)\n",
    "    print ('multiples of 3 -',mul_list_3)\n",
    "    for a in range(0,limit+1):\n",
    "        if a % 5 == 0:\n",
    "            mul_list_5.append(a)  \n",
    "    print ('multiples of 5 -',mul_list_5)\n",
    "    n_list = mul_list_3 + mul_list_5\n",
    "    return sum(n_list)\n",
    "sum_multiples(15)      "
   ]
  },
  {
   "cell_type": "markdown",
   "id": "fffedd12",
   "metadata": {},
   "source": [
    "#### 3.Write a function called show_stars(rows). If rows is 5, it should print the following:***************"
   ]
  },
  {
   "cell_type": "code",
   "execution_count": 3,
   "id": "eec8f293",
   "metadata": {},
   "outputs": [
    {
     "name": "stdout",
     "output_type": "stream",
     "text": [
      "***************\n"
     ]
    }
   ],
   "source": [
    "def show_stars(rows):\n",
    "        print ('*' * rows*3)\n",
    "show_stars(5)"
   ]
  },
  {
   "cell_type": "markdown",
   "id": "8c35d988",
   "metadata": {},
   "source": [
    "#### 4.Write a function that prints all the prime numbers between 0 and limit where limit is aparameter."
   ]
  },
  {
   "cell_type": "code",
   "execution_count": 16,
   "id": "b1c1b971",
   "metadata": {},
   "outputs": [
    {
     "name": "stdout",
     "output_type": "stream",
     "text": [
      "Enter the number till you want to check: 25\n",
      "[2, 3, 5, 7, 11, 13, 17, 19, 23]\n"
     ]
    }
   ],
   "source": [
    "n=int(input(\"Enter the number till you want to check: \"))\n",
    "primes = []\n",
    "for i in range (2, n+1):\n",
    "    for j in range(2, i):\n",
    "        if i%j == 0:\n",
    "            break\n",
    "    else:\n",
    "        primes.append(i)\n",
    "print(primes)"
   ]
  },
  {
   "cell_type": "markdown",
   "id": "05c3254d",
   "metadata": {},
   "source": [
    "#### 5.Write a program (function!) that takes a list and returns a new list that contains all theelements of the first list minus all the duplicates."
   ]
  },
  {
   "cell_type": "code",
   "execution_count": 12,
   "id": "06406c40",
   "metadata": {},
   "outputs": [
    {
     "name": "stdout",
     "output_type": "stream",
     "text": [
      "[1, 2, 3, 4, 5]\n"
     ]
    }
   ],
   "source": [
    "def function(lists):\n",
    "    lists = set(lists)\n",
    "    convert_list = list(lists)\n",
    "    print (convert_list)\n",
    "function([5,2,1,1,2,3,4])"
   ]
  },
  {
   "cell_type": "markdown",
   "id": "2ff16d1b",
   "metadata": {},
   "source": [
    "#### 6.Write a function to ask the user for a number and determine whether the number isprime or not. "
   ]
  },
  {
   "cell_type": "code",
   "execution_count": 29,
   "id": "94e2d800",
   "metadata": {},
   "outputs": [
    {
     "name": "stdout",
     "output_type": "stream",
     "text": [
      "Please enter num- 67\n",
      "67 is a prime number\n"
     ]
    }
   ],
   "source": [
    "num = int(input(\"Please enter num- \"))\n",
    "def prime_num(num):\n",
    "    \n",
    "    if num % 2 == 1:\n",
    "        print (num,'is a prime number')\n",
    "    else:\n",
    "        print (num,'is not a prime number') \n",
    "prime_num(num)"
   ]
  },
  {
   "cell_type": "markdown",
   "id": "774c51ec",
   "metadata": {},
   "source": [
    "#### 7.Write a program that asks the user how many Fibonnaci numbers to generate and then generates them."
   ]
  },
  {
   "cell_type": "code",
   "execution_count": 7,
   "id": "ca19f140",
   "metadata": {},
   "outputs": [
    {
     "name": "stdout",
     "output_type": "stream",
     "text": [
      "Please enter how many numbers would you like in your Fibonacci sequence: 10\n",
      "[1, 1, 2, 3, 5, 8, 13, 21, 34, 55]\n"
     ]
    }
   ],
   "source": [
    "def fibonacci():\n",
    "    num = int(input(\"Please enter how many numbers would you like in your Fibonacci sequence: \"))\n",
    "    i = 1\n",
    "    if num == 0:\n",
    "        fib = [0]\n",
    "    elif num == 1:\n",
    "        fib = [1]\n",
    "    elif num == 2:\n",
    "        fib = [1,1]\n",
    "    elif num > 2:\n",
    "        fib = [1,1]\n",
    "        while i < (num - 1):\n",
    "            fib.append(fib[i] + fib[i-1])\n",
    "            i += 1\n",
    "    return fib\n",
    "print (fibonacci())"
   ]
  },
  {
   "cell_type": "markdown",
   "id": "1e70d47f",
   "metadata": {},
   "source": [
    "### 8.Write a function that ask the user for a string and print out whether this string is apalindrome or not."
   ]
  },
  {
   "cell_type": "code",
   "execution_count": 9,
   "id": "7335d4fd",
   "metadata": {},
   "outputs": [
    {
     "name": "stdout",
     "output_type": "stream",
     "text": [
      "Please enter any string- reverse\n",
      "reverse is not a palindrome\n"
     ]
    }
   ],
   "source": [
    "def palindrome(string):\n",
    "    string = input(\"Please enter any string- \")\n",
    "    if string  == string[::-1]:\n",
    "        print(string, 'is a palindrome') \n",
    "    else:\n",
    "        print(string, 'is not a palindrome')\n",
    "palindrome('string')"
   ]
  },
  {
   "cell_type": "markdown",
   "id": "83026723",
   "metadata": {},
   "source": [
    " #### 9.Write a function that takes an ordered list of numbers (a list where the elements are inorder from smallest to largest) and another number. "
   ]
  },
  {
   "cell_type": "code",
   "execution_count": 17,
   "id": "21307201",
   "metadata": {},
   "outputs": [
    {
     "name": "stdout",
     "output_type": "stream",
     "text": [
      "[1, 2, 3, 5]\n"
     ]
    }
   ],
   "source": [
    "set_1 = {}\n",
    "set_2 = {}\n",
    "def function(set_1,set_2):\n",
    "    new_list = list(set_1 | set_2)\n",
    "    print (new_list)\n",
    "function({3,2,1},{5})\n"
   ]
  },
  {
   "cell_type": "markdown",
   "id": "80ad4962",
   "metadata": {},
   "source": [
    "#### 10.Create a program that asks the user to enter their name and their age. Print out amessage addressed to them that tells them the year that they will turn 100 years old."
   ]
  },
  {
   "cell_type": "code",
   "execution_count": 19,
   "id": "efc7777e",
   "metadata": {},
   "outputs": [
    {
     "name": "stdout",
     "output_type": "stream",
     "text": [
      "What is your name? oby\n",
      "How old are you? 32\n",
      "Hello oby You will be 100 years old in 2090\n"
     ]
    }
   ],
   "source": [
    "name = input(\"What is your name? \")\n",
    "age = int(input(\"How old are you? \"))\n",
    "year = (2022 - age) + 100     \n",
    "print ('Hello',name, 'You will be 100 years old in', str(int(year)))\n"
   ]
  },
  {
   "cell_type": "code",
   "execution_count": null,
   "id": "dc17982b",
   "metadata": {},
   "outputs": [],
   "source": []
  }
 ],
 "metadata": {
  "kernelspec": {
   "display_name": "Python 3 (ipykernel)",
   "language": "python",
   "name": "python3"
  },
  "language_info": {
   "codemirror_mode": {
    "name": "ipython",
    "version": 3
   },
   "file_extension": ".py",
   "mimetype": "text/x-python",
   "name": "python",
   "nbconvert_exporter": "python",
   "pygments_lexer": "ipython3",
   "version": "3.9.12"
  }
 },
 "nbformat": 4,
 "nbformat_minor": 5
}
