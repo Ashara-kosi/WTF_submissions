{
 "cells": [
  {
   "cell_type": "markdown",
   "id": "741fd296",
   "metadata": {},
   "source": [
    "#### More Functions Exercise\n",
    "#### Oluwatosin George\n",
    "Group 4"
   ]
  },
  {
   "cell_type": "markdown",
   "id": "6d1d5c18",
   "metadata": {},
   "source": [
    "##### 1. Write a function to calculate the multiplication and sum of two numbers."
   ]
  },
  {
   "cell_type": "code",
   "execution_count": 2,
   "id": "43042303",
   "metadata": {},
   "outputs": [
    {
     "name": "stdout",
     "output_type": "stream",
     "text": [
      "The product a and b is  6 ,The sum of a and b is  5\n"
     ]
    }
   ],
   "source": [
    "def Mul_Sum(a,b):\n",
    "    Multiply = a * b\n",
    "    Sum = a + b\n",
    "    print('The product a and b is ',Multiply,',The sum of a and b is ',Sum)\n",
    "Mul_Sum(2,3)"
   ]
  },
  {
   "cell_type": "markdown",
   "id": "99238fd0",
   "metadata": {},
   "source": [
    " ##### 2. Write a function to print the sum of the current number and the previous number"
   ]
  },
  {
   "cell_type": "code",
   "execution_count": 8,
   "id": "16ca7be2",
   "metadata": {},
   "outputs": [
    {
     "name": "stdout",
     "output_type": "stream",
     "text": [
      "Cur_num  1 + Pre_num  0 = 1\n",
      "Cur_num  2 + Pre_num  1 = 3\n",
      "Cur_num  3 + Pre_num  2 = 5\n"
     ]
    }
   ],
   "source": [
    "pre_num = 0\n",
    "def SumofNum(pre_num):\n",
    "    for i in range(1, 4):\n",
    "        sum_num = pre_num + i\n",
    "        print(\"Cur_num \", i, '+', \"Pre_num \", pre_num, \"=\",sum_num)\n",
    "        pre_num = i\n",
    "SumofNum(pre_num)"
   ]
  },
  {
   "cell_type": "markdown",
   "id": "4b833753",
   "metadata": {},
   "source": [
    "##### 3. Write a function to print characters from a string that are present at an even index number"
   ]
  },
  {
   "cell_type": "code",
   "execution_count": 10,
   "id": "e375fa46",
   "metadata": {},
   "outputs": [
    {
     "name": "stdout",
     "output_type": "stream",
     "text": [
      "['P', 't', 'o', 'e', 's']\n"
     ]
    }
   ],
   "source": [
    "def even_index(string):\n",
    "    even=[]\n",
    "    for i in range(len(string)):\n",
    "        if i % 2 == 0:\n",
    "            even.append(string[i])\n",
    "    print (even)\n",
    "even_index('Pythoness')"
   ]
  },
  {
   "cell_type": "markdown",
   "id": "35ce2a27",
   "metadata": {},
   "source": [
    "##### 4. Write a function to remove first characters from a string"
   ]
  },
  {
   "cell_type": "code",
   "execution_count": 12,
   "id": "090cf3c8",
   "metadata": {},
   "outputs": [
    {
     "name": "stdout",
     "output_type": "stream",
     "text": [
      "xtreme\n"
     ]
    }
   ],
   "source": [
    "def del_char(string):\n",
    "    print(string[1:])\n",
    "del_char('Extreme')"
   ]
  },
  {
   "cell_type": "markdown",
   "id": "fbbd66a6",
   "metadata": {},
   "source": [
    "##### 5. Write a function to check if the first and last number of a list is the same"
   ]
  },
  {
   "cell_type": "code",
   "execution_count": 13,
   "id": "73aef3b1",
   "metadata": {},
   "outputs": [
    {
     "name": "stdout",
     "output_type": "stream",
     "text": [
      "False\n"
     ]
    }
   ],
   "source": [
    "lists=[23,24,25,36,27,25]\n",
    "def first_last(lists):\n",
    "    if lists[0]==lists[-1]:\n",
    "        print (True)\n",
    "    else:\n",
    "        print (False)\n",
    "first_last(lists)"
   ]
  },
  {
   "cell_type": "markdown",
   "id": "731c3f73",
   "metadata": {},
   "source": [
    "##### 6. Write a function to print multiplication table from 1 to 10"
   ]
  },
  {
   "cell_type": "code",
   "execution_count": 50,
   "id": "c9703ec1",
   "metadata": {
    "scrolled": true
   },
   "outputs": [
    {
     "name": "stdout",
     "output_type": "stream",
     "text": [
      "1 x 1 = 1\n",
      "1 x 2 = 2\n",
      "1 x 3 = 3\n",
      "1 x 4 = 4\n",
      "1 x 5 = 5\n",
      "1 x 6 = 6\n",
      "1 x 7 = 7\n",
      "1 x 8 = 8\n",
      "1 x 9 = 9\n",
      "1 x 10 = 10\n",
      "1 x 11 = 11\n",
      "1 x 12 = 12\n",
      "\n",
      "\n",
      "2 x 1 = 2\n",
      "2 x 2 = 4\n",
      "2 x 3 = 6\n",
      "2 x 4 = 8\n",
      "2 x 5 = 10\n",
      "2 x 6 = 12\n",
      "2 x 7 = 14\n",
      "2 x 8 = 16\n",
      "2 x 9 = 18\n",
      "2 x 10 = 20\n",
      "2 x 11 = 22\n",
      "2 x 12 = 24\n",
      "\n",
      "\n",
      "3 x 1 = 3\n",
      "3 x 2 = 6\n",
      "3 x 3 = 9\n",
      "3 x 4 = 12\n",
      "3 x 5 = 15\n",
      "3 x 6 = 18\n",
      "3 x 7 = 21\n",
      "3 x 8 = 24\n",
      "3 x 9 = 27\n",
      "3 x 10 = 30\n",
      "3 x 11 = 33\n",
      "3 x 12 = 36\n",
      "\n",
      "\n",
      "4 x 1 = 4\n",
      "4 x 2 = 8\n",
      "4 x 3 = 12\n",
      "4 x 4 = 16\n",
      "4 x 5 = 20\n",
      "4 x 6 = 24\n",
      "4 x 7 = 28\n",
      "4 x 8 = 32\n",
      "4 x 9 = 36\n",
      "4 x 10 = 40\n",
      "4 x 11 = 44\n",
      "4 x 12 = 48\n",
      "\n",
      "\n",
      "5 x 1 = 5\n",
      "5 x 2 = 10\n",
      "5 x 3 = 15\n",
      "5 x 4 = 20\n",
      "5 x 5 = 25\n",
      "5 x 6 = 30\n",
      "5 x 7 = 35\n",
      "5 x 8 = 40\n",
      "5 x 9 = 45\n",
      "5 x 10 = 50\n",
      "5 x 11 = 55\n",
      "5 x 12 = 60\n",
      "\n",
      "\n",
      "6 x 1 = 6\n",
      "6 x 2 = 12\n",
      "6 x 3 = 18\n",
      "6 x 4 = 24\n",
      "6 x 5 = 30\n",
      "6 x 6 = 36\n",
      "6 x 7 = 42\n",
      "6 x 8 = 48\n",
      "6 x 9 = 54\n",
      "6 x 10 = 60\n",
      "6 x 11 = 66\n",
      "6 x 12 = 72\n",
      "\n",
      "\n",
      "7 x 1 = 7\n",
      "7 x 2 = 14\n",
      "7 x 3 = 21\n",
      "7 x 4 = 28\n",
      "7 x 5 = 35\n",
      "7 x 6 = 42\n",
      "7 x 7 = 49\n",
      "7 x 8 = 56\n",
      "7 x 9 = 63\n",
      "7 x 10 = 70\n",
      "7 x 11 = 77\n",
      "7 x 12 = 84\n",
      "\n",
      "\n",
      "8 x 1 = 8\n",
      "8 x 2 = 16\n",
      "8 x 3 = 24\n",
      "8 x 4 = 32\n",
      "8 x 5 = 40\n",
      "8 x 6 = 48\n",
      "8 x 7 = 56\n",
      "8 x 8 = 64\n",
      "8 x 9 = 72\n",
      "8 x 10 = 80\n",
      "8 x 11 = 88\n",
      "8 x 12 = 96\n",
      "\n",
      "\n",
      "9 x 1 = 9\n",
      "9 x 2 = 18\n",
      "9 x 3 = 27\n",
      "9 x 4 = 36\n",
      "9 x 5 = 45\n",
      "9 x 6 = 54\n",
      "9 x 7 = 63\n",
      "9 x 8 = 72\n",
      "9 x 9 = 81\n",
      "9 x 10 = 90\n",
      "9 x 11 = 99\n",
      "9 x 12 = 108\n",
      "\n",
      "\n",
      "10 x 1 = 10\n",
      "10 x 2 = 20\n",
      "10 x 3 = 30\n",
      "10 x 4 = 40\n",
      "10 x 5 = 50\n",
      "10 x 6 = 60\n",
      "10 x 7 = 70\n",
      "10 x 8 = 80\n",
      "10 x 9 = 90\n",
      "10 x 10 = 100\n",
      "10 x 11 = 110\n",
      "10 x 12 = 120\n",
      "\n",
      "\n"
     ]
    }
   ],
   "source": [
    "def Mul_Table(num):\n",
    "    for i in range(1,num+1):\n",
    "        for p in range(1,13):\n",
    "            print(i,'x',p,'=',i*p)\n",
    "        print('\\n')\n",
    "Mul_Table(10)"
   ]
  },
  {
   "cell_type": "markdown",
   "id": "389424b5",
   "metadata": {},
   "source": [
    "##### 7. Given a two list of numbers, write a function to create a new list such that the new list should contain odd numbers from the first list and even numbers from the second list."
   ]
  },
  {
   "cell_type": "code",
   "execution_count": 51,
   "id": "0a4b53e7",
   "metadata": {},
   "outputs": [
    {
     "data": {
      "text/plain": [
       "[1, 3, 5, 2, 8, 10]"
      ]
     },
     "execution_count": 51,
     "metadata": {},
     "output_type": "execute_result"
    }
   ],
   "source": [
    "list_1=[]\n",
    "list_2=[]\n",
    "def new_list(list_1,list_2):\n",
    "    n_list=[]\n",
    "    for i in list_1:\n",
    "        if i % 2 != 0:\n",
    "            n_list.append(i)\n",
    "    for i in list_2:\n",
    "        if i % 2 == 0:\n",
    "            n_list.append(i)\n",
    "    return n_list\n",
    "new_list([1,2,3,4,5],[2,7,8,9,10])"
   ]
  },
  {
   "cell_type": "code",
   "execution_count": null,
   "id": "133c25c5",
   "metadata": {},
   "outputs": [],
   "source": []
  }
 ],
 "metadata": {
  "kernelspec": {
   "display_name": "Python 3 (ipykernel)",
   "language": "python",
   "name": "python3"
  },
  "language_info": {
   "codemirror_mode": {
    "name": "ipython",
    "version": 3
   },
   "file_extension": ".py",
   "mimetype": "text/x-python",
   "name": "python",
   "nbconvert_exporter": "python",
   "pygments_lexer": "ipython3",
   "version": "3.9.12"
  }
 },
 "nbformat": 4,
 "nbformat_minor": 5
}
