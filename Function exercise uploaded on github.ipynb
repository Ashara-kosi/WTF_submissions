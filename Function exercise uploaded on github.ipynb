{
 "cells": [
  {
   "cell_type": "code",
   "execution_count": 24,
   "id": "671be9d9",
   "metadata": {},
   "outputs": [
    {
     "name": "stdout",
     "output_type": "stream",
     "text": [
      "Enter first number: 5\n",
      "Enter second number: 10\n",
      "Sum of two numbers is 15\n",
      "Product of two numbers is 50\n"
     ]
    }
   ],
   "source": [
    "# 1. Write a function to calculate the multiplication and sum of two numbers\n",
    "\n",
    "def sum_product(x,y):\n",
    "       return a+b, a*b\n",
    "x = int(input(\"Enter first number: \"))\n",
    "y = int(input(\"Enter second number: \"))\n",
    "\n",
    "#sum, product = sum_product(x,y)\n",
    "print(\"Sum of two numbers is\", sum)\n",
    "print(\"Product of two numbers is\", product)"
   ]
  },
  {
   "cell_type": "code",
   "execution_count": 28,
   "id": "47389255",
   "metadata": {},
   "outputs": [
    {
     "name": "stdout",
     "output_type": "stream",
     "text": [
      "1 is the sum of the current number 1 and the previous number 0\n",
      "3 is the sum of the current number 2 and the previous number 1\n",
      "5 is the sum of the current number 3 and the previous number 2\n",
      "7 is the sum of the current number 4 and the previous number 3\n",
      "9 is the sum of the current number 5 and the previous number 4\n",
      "11 is the sum of the current number 6 and the previous number 5\n",
      "13 is the sum of the current number 7 and the previous number 6\n",
      "15 is the sum of the current number 8 and the previous number 7\n",
      "17 is the sum of the current number 9 and the previous number 8\n",
      "19 is the sum of the current number 10 and the previous number 9\n"
     ]
    }
   ],
   "source": [
    "# 2:Write a function to print the sum of the current number and the previous number\n",
    "def previous_current(number):\n",
    "    previous_number = 0\n",
    "    for i in range(1,number +  1):\n",
    "        summ = previous_number + i\n",
    "        print(summ,f\"is the sum of the current number {i} and the previous number {previous_number}\")\n",
    "        previous_number = i\n",
    "previous_current(10)"
   ]
  },
  {
   "cell_type": "code",
   "execution_count": 9,
   "id": "b99ca253",
   "metadata": {},
   "outputs": [
    {
     "name": "stdout",
     "output_type": "stream",
     "text": [
      "Please Enter your prefered word: kasham\n",
      "k\n",
      "s\n",
      "a\n"
     ]
    }
   ],
   "source": [
    "#3.\tWrite a function to print characters from a string that are present at an even index number\n",
    "def string_word(x):\n",
    "    for i in range(len(x)):\n",
    "        if i % 2 == 0:\n",
    "            print(x[i])\n",
    "            \n",
    "x = str(input(\"Please Enter your prefered word: \"))\n",
    "string_word(x)\n",
    "    "
   ]
  },
  {
   "cell_type": "code",
   "execution_count": 34,
   "id": "9c0b6ad8",
   "metadata": {},
   "outputs": [
    {
     "name": "stdout",
     "output_type": "stream",
     "text": [
      "Enter any string: Goodness\n"
     ]
    },
    {
     "data": {
      "text/plain": [
       "'oodness'"
      ]
     },
     "execution_count": 34,
     "metadata": {},
     "output_type": "execute_result"
    }
   ],
   "source": [
    "#4.\tWrite a function to remove first characters from a string\n",
    "\n",
    "def removal(s):\n",
    "    new_string = s[1:]\n",
    "    return new_string\n",
    "value = str(input(\"Enter any string: \"))\n",
    "removal(value)"
   ]
  },
  {
   "cell_type": "code",
   "execution_count": 17,
   "id": "0c277363",
   "metadata": {},
   "outputs": [
    {
     "name": "stdout",
     "output_type": "stream",
     "text": [
      "The first and last numbers are the same\n"
     ]
    }
   ],
   "source": [
    "#5.\tWrite a function to check if the first and last number of a list is the same\n",
    "\n",
    "def first_last(numbers):\n",
    "    if numbers[0] == numbers[-1]:\n",
    "        print(\"The first and last numbers are the same\")\n",
    "    else:\n",
    "        print(\"The first and last numbers are not the same\")\n",
    "numbers = [1,2,10,12,\"girl\",1]\n",
    "first_last(numbers)"
   ]
  },
  {
   "cell_type": "code",
   "execution_count": 47,
   "id": "a0312b2d",
   "metadata": {},
   "outputs": [
    {
     "name": "stdout",
     "output_type": "stream",
     "text": [
      "Multiplication Table of 1 is .....\n",
      "1 * 1 = 1\n",
      "1 * 2 = 2\n",
      "1 * 3 = 3\n",
      "1 * 4 = 4\n",
      "1 * 5 = 5\n",
      "1 * 6 = 6\n",
      "1 * 7 = 7\n",
      "1 * 8 = 8\n",
      "1 * 9 = 9\n",
      "1 * 10 = 10\n",
      "Multiplication Table of 2 is .....\n",
      "2 * 1 = 2\n",
      "2 * 2 = 4\n",
      "2 * 3 = 6\n",
      "2 * 4 = 8\n",
      "2 * 5 = 10\n",
      "2 * 6 = 12\n",
      "2 * 7 = 14\n",
      "2 * 8 = 16\n",
      "2 * 9 = 18\n",
      "2 * 10 = 20\n"
     ]
    }
   ],
   "source": [
    "#6: Write a function to print multiplication table from 1 to 10\n",
    "for x in range(1,3):\n",
    "    print(\"Multiplication Table of %d is .....\"%x)\n",
    "    for y in range(1,11):\n",
    "        print(x, \"*\",y,\"=\",x*y)"
   ]
  },
  {
   "cell_type": "code",
   "execution_count": 52,
   "id": "7a6a0332",
   "metadata": {},
   "outputs": [
    {
     "data": {
      "text/plain": [
       "[3, 5, 7, 8, 12, 18]"
      ]
     },
     "execution_count": 52,
     "metadata": {},
     "output_type": "execute_result"
    }
   ],
   "source": [
    "#7 \tGiven a two list of numbers, write a function to create a new list such that the new list should contain\n",
    "# odd numbers from the first list and even numbers from the second list.\n",
    "def create(list1, list2):\n",
    "    new_list = []\n",
    "    \n",
    "    for num in list1:\n",
    "        if num % 2 != 0: #odd number\n",
    "            new_list.append(num)\n",
    "    \n",
    "    for num in list2:\n",
    "        if num % 2 == 0: #even number\n",
    "            new_list.append(num)\n",
    "    return new_list\n",
    "\n",
    "\n",
    "\n",
    "x= [3,5,7,10,12,20]\n",
    "y= [8,12,5,9,18,1]\n",
    "create(x,y)"
   ]
  },
  {
   "cell_type": "code",
   "execution_count": null,
   "id": "74439e59",
   "metadata": {},
   "outputs": [],
   "source": []
  }
 ],
 "metadata": {
  "kernelspec": {
   "display_name": "Python 3 (ipykernel)",
   "language": "python",
   "name": "python3"
  },
  "language_info": {
   "codemirror_mode": {
    "name": "ipython",
    "version": 3
   },
   "file_extension": ".py",
   "mimetype": "text/x-python",
   "name": "python",
   "nbconvert_exporter": "python",
   "pygments_lexer": "ipython3",
   "version": "3.9.12"
  }
 },
 "nbformat": 4,
 "nbformat_minor": 5
}
