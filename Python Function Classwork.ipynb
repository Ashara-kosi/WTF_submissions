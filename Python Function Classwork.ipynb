{
 "cells": [
  {
   "cell_type": "code",
   "execution_count": 5,
   "id": "f7d905e0-6d84-4a40-a625-28580e997939",
   "metadata": {},
   "outputs": [
    {
     "name": "stdout",
     "output_type": "stream",
     "text": [
      "Sum = 32 and Product = 60\n"
     ]
    }
   ],
   "source": [
    "#Write a function to calculate the multiplication and sum of two numbers. \n",
    "def multiply_or_sum(num1, num2):\n",
    "    product = num1 * num2\n",
    "    sum = num1 + num2     \n",
    "    print(\"Sum =\", + sum, \"and Product =\", + product)\n",
    "    \n",
    "multiply_or_sum(2,30)"
   ]
  },
  {
   "cell_type": "code",
   "execution_count": 32,
   "id": "643f99e8-ba3c-46d9-b19b-83716d3f3221",
   "metadata": {},
   "outputs": [
    {
     "data": {
      "text/plain": [
       "[2, 6, 10]"
      ]
     },
     "execution_count": 32,
     "metadata": {},
     "output_type": "execute_result"
    }
   ],
   "source": [
    "#Write a function to print the sum of the current number and the previous number.\n",
    "def curr_add_prev(*numbers):\n",
    "    prev_no = 0\n",
    "    result = []\n",
    "    for i in numbers:\n",
    "        sum = prev_no + i\n",
    "        result.append(sum)\n",
    "        prev_no = i\n",
    "    return result\n",
    "        \n",
    "curr_add_prev(2,4,6)   "
   ]
  },
  {
   "cell_type": "code",
   "execution_count": 64,
   "id": "dea3b538-1423-4a6a-af7d-757ddaf6cdcb",
   "metadata": {},
   "outputs": [
    {
     "name": "stdin",
     "output_type": "stream",
     "text": [
      "Enter a string:  dcjnjd\n"
     ]
    },
    {
     "data": {
      "text/plain": [
       "['d', 'j', 'j']"
      ]
     },
     "execution_count": 64,
     "metadata": {},
     "output_type": "execute_result"
    }
   ],
   "source": [
    "#Write a function to print characters from a string that are present at an even index number.\n",
    "string = input(\"Enter a string: \")\n",
    "def even_index(string):\n",
    "    even_index = []\n",
    "    for i in range (len(string)):\n",
    "        if i % 2 == 0:\n",
    "            even_index.append(string[i])\n",
    "    return even_index\n",
    "\n",
    "even_index(string)"
   ]
  },
  {
   "cell_type": "code",
   "execution_count": 77,
   "id": "ac836fce-658c-46d4-8368-c2a1139165f8",
   "metadata": {},
   "outputs": [
    {
     "name": "stdin",
     "output_type": "stream",
     "text": [
      "Enter a String:  mariam\n"
     ]
    },
    {
     "data": {
      "text/plain": [
       "'a r i a m'"
      ]
     },
     "execution_count": 77,
     "metadata": {},
     "output_type": "execute_result"
    }
   ],
   "source": [
    "#Write a function to rremove first characters from a string\n",
    "string = input(\"Enter a String: \")\n",
    "def remove_first(string):\n",
    "    removed = []\n",
    "    for i in range (len(string)):\n",
    "        if i != 0:\n",
    "            removed.append(string[i])\n",
    "    return \" \".join(removed)\n",
    "\n",
    "remove_first(string)"
   ]
  },
  {
   "cell_type": "code",
   "execution_count": 83,
   "id": "0217a3ea-79ff-4ba3-b722-72efbbc24a75",
   "metadata": {},
   "outputs": [
    {
     "data": {
      "text/plain": [
       "'First and Last number are the same'"
      ]
     },
     "execution_count": 83,
     "metadata": {},
     "output_type": "execute_result"
    }
   ],
   "source": [
    "#Write a function to check if the first and last number of a list is the same\n",
    "list = [2,4,6,8,2]\n",
    "def check_f_l(list):\n",
    "    for i in list:\n",
    "        if list[0] == list[-1]:\n",
    "            result = \"First and Last number are the same\"\n",
    "        else:\n",
    "            result = \"The numbers are not equal\"\n",
    "    return result\n",
    "\n",
    "check_f_l(list)"
   ]
  },
  {
   "cell_type": "code",
   "execution_count": 89,
   "id": "44144c04-7f0c-4f17-ae9b-dd64dd273a2d",
   "metadata": {},
   "outputs": [
    {
     "name": "stdout",
     "output_type": "stream",
     "text": [
      "The Multiplication table of  1\n",
      "1 X 1  =  1\n",
      "1 X 2  =  2\n",
      "1 X 3  =  3\n",
      "1 X 4  =  4\n",
      "1 X 5  =  5\n",
      "1 X 6  =  6\n",
      "1 X 7  =  7\n",
      "1 X 8  =  8\n",
      "1 X 9  =  9\n",
      "1 X 10  =  10\n",
      "The Multiplication table of  2\n",
      "2 X 1  =  2\n",
      "2 X 2  =  4\n",
      "2 X 3  =  6\n",
      "2 X 4  =  8\n",
      "2 X 5  =  10\n",
      "2 X 6  =  12\n",
      "2 X 7  =  14\n",
      "2 X 8  =  16\n",
      "2 X 9  =  18\n",
      "2 X 10  =  20\n",
      "The Multiplication table of  3\n",
      "3 X 1  =  3\n",
      "3 X 2  =  6\n",
      "3 X 3  =  9\n",
      "3 X 4  =  12\n",
      "3 X 5  =  15\n",
      "3 X 6  =  18\n",
      "3 X 7  =  21\n",
      "3 X 8  =  24\n",
      "3 X 9  =  27\n",
      "3 X 10  =  30\n",
      "The Multiplication table of  4\n",
      "4 X 1  =  4\n",
      "4 X 2  =  8\n",
      "4 X 3  =  12\n",
      "4 X 4  =  16\n",
      "4 X 5  =  20\n",
      "4 X 6  =  24\n",
      "4 X 7  =  28\n",
      "4 X 8  =  32\n",
      "4 X 9  =  36\n",
      "4 X 10  =  40\n",
      "The Multiplication table of  5\n",
      "5 X 1  =  5\n",
      "5 X 2  =  10\n",
      "5 X 3  =  15\n",
      "5 X 4  =  20\n",
      "5 X 5  =  25\n",
      "5 X 6  =  30\n",
      "5 X 7  =  35\n",
      "5 X 8  =  40\n",
      "5 X 9  =  45\n",
      "5 X 10  =  50\n",
      "The Multiplication table of  6\n",
      "6 X 1  =  6\n",
      "6 X 2  =  12\n",
      "6 X 3  =  18\n",
      "6 X 4  =  24\n",
      "6 X 5  =  30\n",
      "6 X 6  =  36\n",
      "6 X 7  =  42\n",
      "6 X 8  =  48\n",
      "6 X 9  =  54\n",
      "6 X 10  =  60\n",
      "The Multiplication table of  7\n",
      "7 X 1  =  7\n",
      "7 X 2  =  14\n",
      "7 X 3  =  21\n",
      "7 X 4  =  28\n",
      "7 X 5  =  35\n",
      "7 X 6  =  42\n",
      "7 X 7  =  49\n",
      "7 X 8  =  56\n",
      "7 X 9  =  63\n",
      "7 X 10  =  70\n",
      "The Multiplication table of  8\n",
      "8 X 1  =  8\n",
      "8 X 2  =  16\n",
      "8 X 3  =  24\n",
      "8 X 4  =  32\n",
      "8 X 5  =  40\n",
      "8 X 6  =  48\n",
      "8 X 7  =  56\n",
      "8 X 8  =  64\n",
      "8 X 9  =  72\n",
      "8 X 10  =  80\n",
      "The Multiplication table of  9\n",
      "9 X 1  =  9\n",
      "9 X 2  =  18\n",
      "9 X 3  =  27\n",
      "9 X 4  =  36\n",
      "9 X 5  =  45\n",
      "9 X 6  =  54\n",
      "9 X 7  =  63\n",
      "9 X 8  =  72\n",
      "9 X 9  =  81\n",
      "9 X 10  =  90\n",
      "The Multiplication table of  10\n",
      "10 X 1  =  10\n",
      "10 X 2  =  20\n",
      "10 X 3  =  30\n",
      "10 X 4  =  40\n",
      "10 X 5  =  50\n",
      "10 X 6  =  60\n",
      "10 X 7  =  70\n",
      "10 X 8  =  80\n",
      "10 X 9  =  90\n",
      "10 X 10  =  100\n"
     ]
    }
   ],
   "source": [
    "#Write a function to print multiplication table from 1 to 10\n",
    "def multiplication_table(num):\n",
    "    for i in range (1,11):\n",
    "        print(\"The Multiplication table of \", i)\n",
    "        for j in range (1,11):\n",
    "                  print(i, \"X\", j, \" = \", i*j)\n",
    "                \n",
    "multiplication_table(1)"
   ]
  },
  {
   "cell_type": "code",
   "execution_count": 100,
   "id": "2c6eac43-3e23-40d8-af84-1013ecdeb4aa",
   "metadata": {},
   "outputs": [
    {
     "data": {
      "text/plain": [
       "[[2, 3, 6, 8, 5, 13]]"
      ]
     },
     "execution_count": 100,
     "metadata": {},
     "output_type": "execute_result"
    }
   ],
   "source": [
    "#Given a two list of numbers, write a function to create a new list such that \n",
    "#the new list should contain odd numbers from the first list and even numbers from the second list.\n",
    "list1 = [2,3,6,8,5,13]\n",
    "list2 = [1,4,2,6,8,16]\n",
    "def odd_even(list1, list2):\n",
    "    for i in list1:\n",
    "        new_list1 = []\n",
    "        if i % 2 != 0:\n",
    "            new_list1.append(list1)\n",
    "    return new_list1\n",
    "\n",
    "    for j in list2:\n",
    "        new_list2 = []\n",
    "        if j % 2 == 0:\n",
    "            new_list2.append(list2)\n",
    "    return new_list1 + new_list2\n",
    "\n",
    "odd_even(list1, list2)"
   ]
  },
  {
   "cell_type": "code",
   "execution_count": null,
   "id": "9b88b85c-89b0-44d6-9154-6a99f96b23e7",
   "metadata": {},
   "outputs": [],
   "source": []
  }
 ],
 "metadata": {
  "kernelspec": {
   "display_name": "Python 3 (ipykernel)",
   "language": "python",
   "name": "python3"
  },
  "language_info": {
   "codemirror_mode": {
    "name": "ipython",
    "version": 3
   },
   "file_extension": ".py",
   "mimetype": "text/x-python",
   "name": "python",
   "nbconvert_exporter": "python",
   "pygments_lexer": "ipython3",
   "version": "3.10.7"
  }
 },
 "nbformat": 4,
 "nbformat_minor": 5
}
