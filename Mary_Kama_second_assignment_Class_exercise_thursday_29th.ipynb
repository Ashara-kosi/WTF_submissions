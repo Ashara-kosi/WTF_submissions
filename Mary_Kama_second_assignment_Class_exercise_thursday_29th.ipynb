{
 "cells": [
  {
   "cell_type": "markdown",
   "metadata": {},
   "source": [
    "MARY OFURU KAMA"
   ]
  },
  {
   "cell_type": "markdown",
   "metadata": {},
   "source": [
    "1.Write a function called showNumbers that takes a parameter called limit. It should printall the numbers between 0 and limit with a label to identify the even and odd numbers.For example, if the limit is 3, it should print:0 EVEN 1 ODD 2 EVEN 3 ODD"
   ]
  },
  {
   "cell_type": "code",
   "execution_count": 1,
   "metadata": {},
   "outputs": [
    {
     "name": "stdout",
     "output_type": "stream",
     "text": [
      "0 Even\n",
      "1 Odd\n",
      "2 Even\n",
      "3 Odd\n",
      "4 Even\n",
      "5 Odd\n",
      "6 Even\n",
      "7 Odd\n",
      "8 Even\n",
      "9 Odd\n",
      "10 Even\n"
     ]
    }
   ],
   "source": [
    "def showNumbers(limit):\n",
    "    for i in range(0,limit+1):\n",
    "        if i % 2 ==0:\n",
    "            print (i,'Even')\n",
    "        else:\n",
    "            print (i,'Odd')\n",
    "showNumbers(10)"
   ]
  },
  {
   "cell_type": "markdown",
   "metadata": {},
   "source": [
    " 2.Write a function that returns the sum of multiples of 3 and 5 between 0and limit (parameter). For example, if limit is 20, it should return the sum of 3, 5, 6, 9, 10,12, 15, 18, 20."
   ]
  },
  {
   "cell_type": "code",
   "execution_count": 2,
   "metadata": {},
   "outputs": [
    {
     "name": "stdout",
     "output_type": "stream",
     "text": [
      "multiples of 3 - [0, 3, 6, 9, 12]\n",
      "multiples of 5 - [0, 5, 10]\n"
     ]
    },
    {
     "data": {
      "text/plain": [
       "45"
      ]
     },
     "execution_count": 2,
     "metadata": {},
     "output_type": "execute_result"
    }
   ],
   "source": [
    "def sum_multiples(limit):\n",
    "    mul_list_3 =[]\n",
    "    mul_list_5 =[]\n",
    "    for i in range(0,limit+1):\n",
    "        if i % 3 == 0:\n",
    "            mul_list_3.append(i)\n",
    "    print ('multiples of 3 -',mul_list_3)\n",
    "    for a in range(0,limit+1):\n",
    "        if a % 5 == 0:\n",
    "            mul_list_5.append(a)  \n",
    "    print ('multiples of 5 -',mul_list_5)\n",
    "    n_list = mul_list_3 + mul_list_5\n",
    "    return sum(n_list)\n",
    "sum_multiples(14)      "
   ]
  },
  {
   "cell_type": "markdown",
   "metadata": {},
   "source": [
    "3.Write a function called show_stars(rows). If rows is 5, it should print the following:***************"
   ]
  },
  {
   "cell_type": "code",
   "execution_count": 3,
   "metadata": {},
   "outputs": [
    {
     "name": "stdout",
     "output_type": "stream",
     "text": [
      "***************\n"
     ]
    }
   ],
   "source": [
    "def show_stars(rows):\n",
    "        print ('*' * rows*3)\n",
    "show_stars(5)"
   ]
  },
  {
   "cell_type": "markdown",
   "metadata": {},
   "source": [
    "4.Write a function that prints all the prime numbers between 0 and limit where limit is aparameter."
   ]
  },
  {
   "cell_type": "code",
   "execution_count": 4,
   "metadata": {},
   "outputs": [
    {
     "name": "stdout",
     "output_type": "stream",
     "text": [
      "[1, 3, 5]\n"
     ]
    }
   ],
   "source": [
    "def prime_num(limit):\n",
    "    num_list =[]\n",
    "    for i in range(0,limit+1):\n",
    "        if i % 2 == 1:\n",
    "            num_list.append(i)\n",
    "    print (num_list)\n",
    "prime_num(5)\n",
    "            "
   ]
  },
  {
   "cell_type": "markdown",
   "metadata": {},
   "source": [
    "5.Write a program (function!) that takes a list and returns a new list that contains all theelements of the first list minus all the duplicates."
   ]
  },
  {
   "cell_type": "code",
   "execution_count": 12,
   "metadata": {},
   "outputs": [
    {
     "name": "stdout",
     "output_type": "stream",
     "text": [
      "[1, 2, 3, 4, 5]\n"
     ]
    }
   ],
   "source": [
    "def function(lists):\n",
    "    lists = set(lists)\n",
    "    convert_list = list(lists)\n",
    "    print (convert_list)\n",
    "function([5,2,1,1,2,3,4])"
   ]
  },
  {
   "cell_type": "markdown",
   "metadata": {},
   "source": [
    "6.Write a function to ask the user for a number and determine whether the number isprime or not. "
   ]
  },
  {
   "cell_type": "code",
   "execution_count": 29,
   "metadata": {},
   "outputs": [
    {
     "name": "stdout",
     "output_type": "stream",
     "text": [
      "Please enter num- 67\n",
      "67 is a prime number\n"
     ]
    }
   ],
   "source": [
    "num = int(input(\"Please enter num: \"))\n",
    "def prime_num(num):\n",
    "    \n",
    "    if num % 2 == 1:\n",
    "        print (num,'is a prime number')\n",
    "    else:\n",
    "        print (num,'is not a prime number') \n",
    "prime_num(num)"
   ]
  },
  {
   "cell_type": "markdown",
   "metadata": {},
   "source": [
    "7.Write a program that asks the user how many Fibonnaci numbers to generate and then generates them."
   ]
  },
  {
   "cell_type": "code",
   "execution_count": 2,
   "metadata": {},
   "outputs": [
    {
     "name": "stdout",
     "output_type": "stream",
     "text": [
      "How many Fibonacci numbers do you want to generate? 5\n",
      "The first 5 Fibonacci numbers are: [1, 1, 2, 3, 5]\n"
     ]
    }
   ],
   "source": [
    "def fib (a, b):\n",
    "    return a + b\n",
    "\n",
    "number = int(input(\"How many Fibonacci numbers do you want to generate? \"))\n",
    "\n",
    "fibonacci_list = []\n",
    "for n in range(number):\n",
    "    if n in [0, 1]:\n",
    "        fibonacci_list += [1]\n",
    "    else:\n",
    "        fibonacci_list += [fib(fibonacci_list[n-2], fibonacci_list[n-1])]\n",
    "\n",
    "print(\"The first\", number, \"Fibonacci numbers are:\", fibonacci_list)\n"
   ]
  },
  {
   "cell_type": "markdown",
   "metadata": {},
   "source": [
    "8.Write a function that ask the user for a string and print out whether this string is apalindrome or not."
   ]
  },
  {
   "cell_type": "code",
   "execution_count": 4,
   "metadata": {},
   "outputs": [
    {
     "name": "stdout",
     "output_type": "stream",
     "text": [
      "Please enter any word: Grace\n",
      "Grace is not a palindrome\n"
     ]
    }
   ],
   "source": [
    "def palindrome(string):\n",
    "    string = input(\"Please enter any word: \")\n",
    "    if string  == string[::-1]:\n",
    "        print(string, 'is a palindrome') \n",
    "    else:\n",
    "        print(string, 'is not a palindrome')\n",
    "palindrome('string')"
   ]
  },
  {
   "cell_type": "markdown",
   "metadata": {},
   "source": [
    " 9.Write a function that takes an ordered list of numbers (a list where the elements are inorder from smallest to largest) and another number. "
   ]
  },
  {
   "cell_type": "code",
   "execution_count": 17,
   "metadata": {},
   "outputs": [
    {
     "name": "stdout",
     "output_type": "stream",
     "text": [
      "[1, 2, 3, 5]\n"
     ]
    }
   ],
   "source": [
    "set_1 = {}\n",
    "set_2 = {}\n",
    "def function(set_1,set_2):\n",
    "    new_list = list(set_1 | set_2)\n",
    "    print (new_list)\n",
    "function({3,2,1},{5})\n"
   ]
  },
  {
   "cell_type": "markdown",
   "metadata": {},
   "source": [
    "10.Create a program that asks the user to enter their name and their age. Print out amessage addressed to them that tells them the year that they will turn 100 years old."
   ]
  },
  {
   "cell_type": "code",
   "execution_count": 5,
   "metadata": {},
   "outputs": [],
   "source": [
    "from datetime import datetime"
   ]
  },
  {
   "cell_type": "code",
   "execution_count": 6,
   "metadata": {},
   "outputs": [
    {
     "name": "stdout",
     "output_type": "stream",
     "text": [
      "What is your name? \n",
      "Mary\n",
      "How old are you? \n",
      "12\n",
      "Hello Mary. You are 12 years old. You will turn 100 years old in 2110.\n",
      "Select a random number: \n",
      "2\n",
      "Hello Mary. You are 12 years old. You will turn 100 years old in 2110. \n",
      "Hello Mary. You are 12 years old. You will turn 100 years old in 2110. \n",
      "\n"
     ]
    }
   ],
   "source": [
    "name = input('What is your name? \\n')\n",
    "age = int(input('How old are you? \\n'))\n",
    "hundred = int((100-age) + datetime.now().year)\n",
    "print ('Hello %s. You are %s years old. You will turn 100 years old in %s.' % (name, age, hundred))\n",
    "\n",
    "#----selecting a random number to generate your output as many times as you want it----#\n",
    "repeat = int(input('Select a random number: \\n'))\n",
    "stmt = ('Hello %s. You are %s years old. You will turn 100 years old in %s. \\n' % (name, age, hundred))\n",
    "print (stmt*repeat)"
   ]
  },
  {
   "cell_type": "code",
   "execution_count": null,
   "metadata": {},
   "outputs": [],
   "source": []
  }
 ],
 "metadata": {
  "kernelspec": {
   "display_name": "Python 3",
   "language": "python",
   "name": "python3"
  },
  "language_info": {
   "codemirror_mode": {
    "name": "ipython",
    "version": 3
   },
   "file_extension": ".py",
   "mimetype": "text/x-python",
   "name": "python",
   "nbconvert_exporter": "python",
   "pygments_lexer": "ipython3",
   "version": "3.7.6"
  }
 },
 "nbformat": 4,
 "nbformat_minor": 5
}
