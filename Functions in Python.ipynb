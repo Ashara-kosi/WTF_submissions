{
 "cells": [
  {
   "cell_type": "code",
   "execution_count": 2,
   "metadata": {},
   "outputs": [
    {
     "name": "stdout",
     "output_type": "stream",
     "text": [
      "enter first number5\n",
      "enter second number12\n",
      "sum of the two numbers is 17\n",
      "product of the two numbers is 60\n"
     ]
    }
   ],
   "source": [
    "#1.Write a function to calculate the multiplication and sum of two numbers\n",
    "\n",
    "def sum_product(a,b):\n",
    "    return a+b, a*b\n",
    "\n",
    "a = int(input(\"enter first number\"))\n",
    "b = int(input(\"enter second number\"))\n",
    "sum, product = sum_product(a,b)\n",
    "print(\"sum of the two numbers is\", sum)\n",
    "print(\"product of the two numbers is\", product)"
   ]
  },
  {
   "cell_type": "code",
   "execution_count": 8,
   "metadata": {},
   "outputs": [
    {
     "name": "stdout",
     "output_type": "stream",
     "text": [
      "current and previous number and their sum in a range of (10)\n",
      "current_number 1 previous_number 2 sum 3\n",
      "current_number 2 previous_number 1 sum 3\n",
      "current_number 3 previous_number 2 sum 5\n",
      "current_number 4 previous_number 3 sum 7\n",
      "current_number 5 previous_number 4 sum 9\n",
      "current_number 6 previous_number 5 sum 11\n",
      "current_number 7 previous_number 6 sum 13\n",
      "current_number 8 previous_number 7 sum 15\n",
      "current_number 9 previous_number 8 sum 17\n",
      "current_number 10 previous_number 9 sum 19\n"
     ]
    }
   ],
   "source": [
    "#2.Write a function to print the sum of the current number and the previous number\n",
    "print(\"current and previous number and their sum in a range of (10)\")\n",
    "previous_number = 2\n",
    "for i in range(1,11):\n",
    "    sum = previous_number + i\n",
    "    print(\"current_number\", i, \"previous_number\", previous_number, \"sum\", previous_number + i)\n",
    "    previous_number = i"
   ]
  },
  {
   "cell_type": "code",
   "execution_count": 15,
   "metadata": {},
   "outputs": [
    {
     "name": "stdout",
     "output_type": "stream",
     "text": [
      "put a string:education\n",
      "charaters present at even index: euain\n"
     ]
    }
   ],
   "source": [
    "#3.Write a function to print characters from a string that are present at an even index number\n",
    "def characters():\n",
    "    characters = input(\"put a string:\")\n",
    "    print(\"charaters present at even index:\", characters[0::2])\n",
    "characters()"
   ]
  },
  {
   "cell_type": "code",
   "execution_count": 16,
   "metadata": {},
   "outputs": [
    {
     "name": "stdout",
     "output_type": "stream",
     "text": [
      "put a string:excellent\n",
      "xcellent\n"
     ]
    }
   ],
   "source": [
    "#4.Write a function to rremove first characters from a string\n",
    "def remove_first():\n",
    "    remove_first = input(\"put a string:\")\n",
    "    print(remove_first[1:])\n",
    "remove_first()"
   ]
  },
  {
   "cell_type": "code",
   "execution_count": 25,
   "metadata": {},
   "outputs": [
    {
     "name": "stdout",
     "output_type": "stream",
     "text": [
      "the original list is:[1, 4, 2, 8, 0, 9, 1]\n",
      "the first and last element of list are:[1, 1]\n"
     ]
    }
   ],
   "source": [
    "#5.Write a function to check if the first and last number of a list is the same\n",
    "check = [1,4,2,8,0,9,1]\n",
    "print(\"the original list is:\" + str(check))\n",
    "res = [check[0], check[-1]]\n",
    "print(\"the first and last element of list are:\" + str(res))"
   ]
  },
  {
   "cell_type": "code",
   "execution_count": 28,
   "metadata": {},
   "outputs": [
    {
     "name": "stdout",
     "output_type": "stream",
     "text": [
      "result is True\n"
     ]
    }
   ],
   "source": [
    "#Alternatively\n",
    "list = [1,4,2,8,0,9,1]\n",
    "if list[0] == list[-1]:\n",
    "        print('result is True')\n",
    "else:\n",
    "        print('result is False')"
   ]
  },
  {
   "cell_type": "code",
   "execution_count": 45,
   "metadata": {},
   "outputs": [
    {
     "name": "stdout",
     "output_type": "stream",
     "text": [
      "1\t2\t3\t4\t5\t6\t7\t8\t9\t10\t\n",
      "2\t4\t6\t8\t10\t12\t14\t16\t18\t20\t\n",
      "3\t6\t9\t12\t15\t18\t21\t24\t27\t30\t\n",
      "4\t8\t12\t16\t20\t24\t28\t32\t36\t40\t\n",
      "5\t10\t15\t20\t25\t30\t35\t40\t45\t50\t\n",
      "6\t12\t18\t24\t30\t36\t42\t48\t54\t60\t\n",
      "7\t14\t21\t28\t35\t42\t49\t56\t63\t70\t\n",
      "8\t16\t24\t32\t40\t48\t56\t64\t72\t80\t\n",
      "9\t18\t27\t36\t45\t54\t63\t72\t81\t90\t\n",
      "10\t20\t30\t40\t50\t60\t70\t80\t90\t100\t\n"
     ]
    }
   ],
   "source": [
    "#6.Write a function to print multiplication table from 1 to 10\n",
    "for i in range(1, 11):\n",
    "    for x in range(i, (i*11)):\n",
    "        if (x % i == 0):\n",
    "            print(x, end= \"\\t\")\n",
    "    print()"
   ]
  },
  {
   "cell_type": "code",
   "execution_count": 50,
   "metadata": {},
   "outputs": [
    {
     "name": "stdout",
     "output_type": "stream",
     "text": [
      "c [1, 3, 5, 7, 9, 12, 10, 14, 16, 18, 20]\n"
     ]
    }
   ],
   "source": [
    "#7.Given a two list of numbers, \n",
    "#write a function to create a new list \n",
    "#such that the new list should contain odd numbers from the first list and even numbers from the second list\n",
    "a = [1,2,3,4,5,6,7,8,9]\n",
    "b = [11,12,10,14,13,16,18,17,20]\n",
    "def merge_list(a,b):\n",
    "    c = []\n",
    "    for num in a:\n",
    "        if num % 2 != 0:\n",
    "            c.append(num)\n",
    "    for num in b:\n",
    "        if num % 2 ==0:\n",
    "            c.append(num)\n",
    "    return c\n",
    "print('c', merge_list(a,b))"
   ]
  },
  {
   "cell_type": "code",
   "execution_count": null,
   "metadata": {},
   "outputs": [],
   "source": []
  }
 ],
 "metadata": {
  "kernelspec": {
   "display_name": "Python 3",
   "language": "python",
   "name": "python3"
  },
  "language_info": {
   "codemirror_mode": {
    "name": "ipython",
    "version": 3
   },
   "file_extension": ".py",
   "mimetype": "text/x-python",
   "name": "python",
   "nbconvert_exporter": "python",
   "pygments_lexer": "ipython3",
   "version": "3.8.5"
  }
 },
 "nbformat": 4,
 "nbformat_minor": 4
}
