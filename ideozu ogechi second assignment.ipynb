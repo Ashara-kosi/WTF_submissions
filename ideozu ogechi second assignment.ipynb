{
 "cells": [
  {
   "cell_type": "code",
   "execution_count": 4,
   "id": "c80661c1",
   "metadata": {},
   "outputs": [],
   "source": [
    "#1Write a function called showNumbers that takes a parameter called limit. It should print\n",
    "all the numbers between 0 and limit with a label to identify the even and odd numbers.\n",
    "For example, if the limit is 3, it should print:0 EVEN 1 ODD 2 EVEN 3 ODD\n",
    "  \n",
    "def show_numbers(limit):\n",
    "    for i in range(0,limit):\n",
    "        if i % 2 == 0:\n",
    "            print(i, \"EVEN\")\n",
    "        if i % 2 > 0:\n",
    "            print(i, \"ODD\")"
   ]
  },
  {
   "cell_type": "code",
   "execution_count": 5,
   "id": "d6cb208d",
   "metadata": {},
   "outputs": [
    {
     "name": "stdout",
     "output_type": "stream",
     "text": [
      "0 EVEN\n",
      "1 ODD\n",
      "2 EVEN\n",
      "3 ODD\n",
      "4 EVEN\n",
      "5 ODD\n",
      "6 EVEN\n",
      "7 ODD\n",
      "8 EVEN\n",
      "9 ODD\n",
      "10 EVEN\n",
      "11 ODD\n"
     ]
    }
   ],
   "source": [
    "show_numbers(12)"
   ]
  },
  {
   "cell_type": "code",
   "execution_count": 14,
   "id": "012ad342",
   "metadata": {},
   "outputs": [],
   "source": [
    "#2 Write a function that returns the sum of multiples of 3 and 5 between 0\n",
    "and limit (parameter). For example, if limit is 20, it should return the sum of 3, 5, 6, 9, 10,\n",
    "12, 15, 18, 20\n",
    "\n",
    "def sum_of_multiplies(limit):\n",
    "    for i in range(0, limit):\n",
    "        if i % 3 == 0 or i % 5 == 0:\n",
    "            print(i)"
   ]
  },
  {
   "cell_type": "code",
   "execution_count": 15,
   "id": "b5439bdc",
   "metadata": {},
   "outputs": [
    {
     "name": "stdout",
     "output_type": "stream",
     "text": [
      "0\n",
      "3\n",
      "5\n",
      "6\n",
      "9\n",
      "10\n",
      "12\n",
      "15\n",
      "18\n",
      "20\n",
      "21\n",
      "24\n",
      "25\n"
     ]
    }
   ],
   "source": [
    "sum_of_multiplies(26)"
   ]
  },
  {
   "cell_type": "code",
   "execution_count": 28,
   "id": "fea2ef02",
   "metadata": {},
   "outputs": [],
   "source": [
    "#3 Write a function called show_stars(rows). If rows is 5, it should print the\n",
    "following:***************\n",
    "    \n",
    "def show_star(row):\n",
    "    if row == 4:\n",
    "        print(12* \"*\")\n",
    "    else:\n",
    "        print(\"Invalid Number! \")"
   ]
  },
  {
   "cell_type": "code",
   "execution_count": 29,
   "id": "6a2d884e",
   "metadata": {},
   "outputs": [
    {
     "name": "stdout",
     "output_type": "stream",
     "text": [
      "************\n"
     ]
    }
   ],
   "source": [
    "show_star(4)"
   ]
  },
  {
   "cell_type": "code",
   "execution_count": 35,
   "id": "f4070cb4",
   "metadata": {},
   "outputs": [],
   "source": [
    "#4 Write a function that prints all the prime numbers between 0 and limit where limit is a\n",
    "parameter.\n",
    "\n",
    "def prime_number(limit):\n",
    "    for i in range(0,limit):\n",
    "        if i % 2 > 0:\n",
    "            print(i)"
   ]
  },
  {
   "cell_type": "code",
   "execution_count": 37,
   "id": "7d732aba",
   "metadata": {},
   "outputs": [
    {
     "name": "stdout",
     "output_type": "stream",
     "text": [
      "1\n",
      "3\n",
      "5\n",
      "7\n",
      "9\n",
      "11\n",
      "13\n",
      "15\n",
      "17\n",
      "19\n"
     ]
    }
   ],
   "source": [
    "prime_number(20)"
   ]
  },
  {
   "cell_type": "code",
   "execution_count": 38,
   "id": "d3be91ad",
   "metadata": {},
   "outputs": [],
   "source": [
    "#5 Write a program (function!) that takes a list and returns a new list that contains all the\n",
    "elements of the first list minus all the duplicates.\n",
    "\n",
    "def return_list():\n",
    "    A = [\"Oge, John, Peniel, Joy, Abel, Ame\"]\n",
    "    print(list(set(A)))"
   ]
  },
  {
   "cell_type": "code",
   "execution_count": 39,
   "id": "6c28d863",
   "metadata": {},
   "outputs": [
    {
     "name": "stdout",
     "output_type": "stream",
     "text": [
      "['Oge, John, Peniel, Joy, Abel, Ame']\n"
     ]
    }
   ],
   "source": [
    "return_list()"
   ]
  },
  {
   "cell_type": "code",
   "execution_count": 41,
   "id": "83bad030",
   "metadata": {},
   "outputs": [],
   "source": [
    "#6 Write a function to ask the user for a number and determine whether the number is\n",
    "prime or not.\n",
    "\n",
    "def prime_or_not_prime():\n",
    "    num = int(input(\"what is your number? \"))\n",
    "    if num % 2 > 0:\n",
    "        print(\"it is a prime num\")\n",
    "    else:\n",
    "        print(\"it is not a prime num\")"
   ]
  },
  {
   "cell_type": "code",
   "execution_count": 44,
   "id": "94aa93fd",
   "metadata": {},
   "outputs": [
    {
     "name": "stdout",
     "output_type": "stream",
     "text": [
      "what is your number? 7\n",
      "it is a prime num\n"
     ]
    }
   ],
   "source": [
    "prime_or_not_prime()"
   ]
  },
  {
   "cell_type": "code",
   "execution_count": 48,
   "id": "8499cb31",
   "metadata": {},
   "outputs": [
    {
     "name": "stdout",
     "output_type": "stream",
     "text": [
      "how many fibonnaci num do you want? 6\n",
      "0 1\n",
      "1 2\n",
      "2 3\n",
      "3 4\n",
      "4 5\n",
      "5 6\n"
     ]
    }
   ],
   "source": [
    "#7 Write a program that asks the user how many Fibonnaci numbers to generate and then\n",
    "generates them\n",
    "\n",
    "A =int(input(\"how many fibonnaci num do you want? \"))\n",
    "for i in range(0, A):\n",
    "    B = i + 1\n",
    "    print(i,B)"
   ]
  },
  {
   "cell_type": "code",
   "execution_count": 50,
   "id": "91f2bed7",
   "metadata": {},
   "outputs": [],
   "source": [
    "#8 Write a function that ask the user for a string and print out whether this string is a\n",
    "palindrome or not.\n",
    "\n",
    "def palin_string():\n",
    "    word = input(\"type word... \").lower()\n",
    "    if word[0:] == word[::-1]:\n",
    "        print(\"it is a palindrone\")\n",
    "    else:\n",
    "        print(\"it is not a palindrone\")"
   ]
  },
  {
   "cell_type": "code",
   "execution_count": 51,
   "id": "d6013832",
   "metadata": {},
   "outputs": [
    {
     "name": "stdout",
     "output_type": "stream",
     "text": [
      "type word... how \n",
      "it is not a palindrone\n"
     ]
    }
   ],
   "source": [
    "palin_string()"
   ]
  },
  {
   "cell_type": "code",
   "execution_count": 54,
   "id": "db51982c",
   "metadata": {},
   "outputs": [],
   "source": [
    "#9 Write a function that takes an ordered list of numbers (a list where the elements are in\n",
    "order from smallest to largest) and another number.\n",
    " \n",
    "def ordered_list_num():\n",
    "    A = [1,2,4,5,6,2,10,5,7,8,4,3,9,10]\n",
    "    B = list(set(A))\n",
    "    B.append(11)\n",
    "    print(B)"
   ]
  },
  {
   "cell_type": "code",
   "execution_count": 55,
   "id": "963ecb72",
   "metadata": {},
   "outputs": [
    {
     "name": "stdout",
     "output_type": "stream",
     "text": [
      "[1, 2, 3, 4, 5, 6, 7, 8, 9, 10, 11]\n"
     ]
    }
   ],
   "source": [
    "ordered_list_num()"
   ]
  },
  {
   "cell_type": "code",
   "execution_count": 6,
   "id": "a4d25b14",
   "metadata": {},
   "outputs": [
    {
     "name": "stdout",
     "output_type": "stream",
     "text": [
      "enter your nameogechi\n",
      "what is your age26\n",
      "hi, you will be 100 years old by year 2096\n"
     ]
    }
   ],
   "source": [
    "#10 . Create a program that asks the user to enter their name and their age. Print out a\n",
    "message addressed to them that tells them the year that they will turn 100 years old\n",
    "\n",
    "name = input('enter your name')\n",
    "age = int(input('what is your age'))\n",
    "K = 100 - age\n",
    "year = 2022 - int(age) + 100\n",
    "print('hi, you will be 100 years old by year {}'.format(year))\n",
    "\n",
    "def primenumber_or_not(num):\n",
    "    num = int(input(\"what's your number? \"))\n",
    "    if (num % 2) == 0 and num % num >= 1:\n",
    "        print ('it is not a prime number')\n",
    "    else:\n",
    "        print('it is a prime number')\n",
    "\n"
   ]
  },
  {
   "cell_type": "code",
   "execution_count": null,
   "id": "17895161",
   "metadata": {},
   "outputs": [],
   "source": []
  }
 ],
 "metadata": {
  "kernelspec": {
   "display_name": "Python 3 (ipykernel)",
   "language": "python",
   "name": "python3"
  },
  "language_info": {
   "codemirror_mode": {
    "name": "ipython",
    "version": 3
   },
   "file_extension": ".py",
   "mimetype": "text/x-python",
   "name": "python",
   "nbconvert_exporter": "python",
   "pygments_lexer": "ipython3",
   "version": "3.9.12"
  }
 },
 "nbformat": 4,
 "nbformat_minor": 5
}
