{
 "cells": [
  {
   "cell_type": "markdown",
   "id": "169e93bf",
   "metadata": {},
   "source": [
    "1. Write a function called showNumbers that takes a parameter called limit. It should print\n",
    "all the numbers between 0 and limit with a label to identify the even and odd numbers.\n",
    "For example, if the limit is 3, it should print:0 EVEN 1 ODD 2 EVEN 3 ODDb"
   ]
  },
  {
   "cell_type": "code",
   "execution_count": 24,
   "id": "2233955f",
   "metadata": {},
   "outputs": [
    {
     "name": "stdout",
     "output_type": "stream",
     "text": [
      "Enter Limit here:13\n",
      "0 Even\n",
      "1 Odd\n",
      "2 Even\n",
      "3 Odd\n",
      "4 Even\n",
      "5 Odd\n",
      "6 Even\n",
      "7 Odd\n",
      "8 Even\n",
      "9 Odd\n",
      "10 Even\n",
      "11 Odd\n",
      "12 Even\n"
     ]
    }
   ],
   "source": [
    "def showNumbers():\n",
    "    limit = int(input('Enter Limit here:'))\n",
    "    for i in range(0,limit):\n",
    "        if (i%2 == 0):\n",
    "            print(str(i), 'Even')\n",
    "        else:\n",
    "            print(str(i), 'Odd')\n",
    "showNumbers()"
   ]
  },
  {
   "cell_type": "markdown",
   "id": "7b8e101b",
   "metadata": {},
   "source": [
    "2.Write a function that returns the sum of multiples of 3 and 5 between 0\n",
    "and limit (parameter). For example, if limit is 20, it should return the sum of 3, 5, 6, 9, 10,\n",
    "12, 15, 18, 20."
   ]
  },
  {
   "cell_type": "code",
   "execution_count": 56,
   "id": "757c3b7c",
   "metadata": {},
   "outputs": [
    {
     "name": "stdout",
     "output_type": "stream",
     "text": [
      "Enter Limit here:20\n",
      "98\n"
     ]
    }
   ],
   "source": [
    "def sumMultiples():\n",
    "    limit = int(input('Enter Limit here:'))\n",
    "    sum = 0\n",
    "    for i in range(0,limit+1):\n",
    "        if (i%3 == 0):\n",
    "            sum = sum + i\n",
    "        elif (i%5 == 0):\n",
    "            sum = sum + i\n",
    "    print(sum)\n",
    "    \n",
    "sumMultiples()"
   ]
  },
  {
   "cell_type": "markdown",
   "id": "94cb3695",
   "metadata": {},
   "source": [
    "3.Write a function called show_stars(rows). If rows is 5, it should print the\n",
    "following:***************"
   ]
  },
  {
   "cell_type": "code",
   "execution_count": 54,
   "id": "d2dd1524",
   "metadata": {},
   "outputs": [
    {
     "name": "stdout",
     "output_type": "stream",
     "text": [
      "Enter the number of rows: 3\n",
      "*********\n"
     ]
    }
   ],
   "source": [
    "def show_stars(rows):\n",
    "    rows = int(input(\"Enter the number of rows: \")) \n",
    "    print(\"***\" *rows)       \n",
    "show_stars(rows)"
   ]
  },
  {
   "cell_type": "markdown",
   "id": "239ce823",
   "metadata": {},
   "source": [
    "4.Write a function that prints all the prime numbers between 0 and limit where limit is a\n",
    "parameter."
   ]
  },
  {
   "cell_type": "code",
   "execution_count": 64,
   "id": "7ce6ad2e",
   "metadata": {},
   "outputs": [
    {
     "name": "stdout",
     "output_type": "stream",
     "text": [
      "Enter Limit here:25\n",
      "The Prime Numbers in this limit are: \n",
      "2\n",
      "3\n",
      "5\n",
      "7\n",
      "11\n",
      "13\n",
      "17\n",
      "19\n",
      "23\n"
     ]
    }
   ],
   "source": [
    "def primenumber():\n",
    "    limit = int(input('Enter Limit here:'))\n",
    "  \n",
    "    print (\"The Prime Numbers in this limit are: \")  \n",
    "    for number in range (0, limit+1):\n",
    "        if number > 1:  \n",
    "            for i in range (2, number):  \n",
    "                if (number % i) == 0:  \n",
    "                    break  \n",
    "            else:  \n",
    "                    print (number)\n",
    "primenumber()"
   ]
  },
  {
   "cell_type": "markdown",
   "id": "9dba986b",
   "metadata": {},
   "source": [
    "5. Write a program (function!) that takes a list and returns a new list that contains all the\n",
    "elements of the first list minus all the duplicates."
   ]
  },
  {
   "cell_type": "code",
   "execution_count": 69,
   "id": "9805dfa0",
   "metadata": {},
   "outputs": [
    {
     "name": "stdout",
     "output_type": "stream",
     "text": [
      "[4, 5, 6, 7, 8, 9]\n"
     ]
    }
   ],
   "source": [
    "def uniq(num_list):\n",
    "    print (list(set(num_list)))\n",
    "num_list= [5,8,9,4,6,6,7,7]\n",
    "uniq(num_list)"
   ]
  },
  {
   "cell_type": "markdown",
   "id": "889153e4",
   "metadata": {},
   "source": [
    "6.Write a function to ask the user for a number and determine whether the number is\n",
    "prime or not."
   ]
  },
  {
   "cell_type": "code",
   "execution_count": 79,
   "id": "f2179e65",
   "metadata": {},
   "outputs": [
    {
     "name": "stdout",
     "output_type": "stream",
     "text": [
      "Enter a number:4\n",
      "4 is not a prime number\n"
     ]
    }
   ],
   "source": [
    "def askprimenumber():\n",
    "    number = int(input('Enter a number:'))\n",
    "    if number > 1:  \n",
    "        for i in range (2, number):  \n",
    "            if (number % i) == 0:\n",
    "                print (str(number), 'is not a prime number')\n",
    "                break  \n",
    "        else:  \n",
    "            print (str(number), 'is a prime number')\n",
    "askprimenumber()"
   ]
  },
  {
   "cell_type": "markdown",
   "id": "60a9f745",
   "metadata": {},
   "source": [
    "7. Write a program that asks the user how many Fibonnaci numbers to generate and then\n",
    "generates them."
   ]
  },
  {
   "cell_type": "code",
   "execution_count": 82,
   "id": "73ad8ea8",
   "metadata": {},
   "outputs": [
    {
     "name": "stdout",
     "output_type": "stream",
     "text": [
      "How many numbers would you like in your Fibonacci sequence: 5\n"
     ]
    },
    {
     "data": {
      "text/plain": [
       "[1, 1, 2, 3, 5]"
      ]
     },
     "execution_count": 82,
     "metadata": {},
     "output_type": "execute_result"
    }
   ],
   "source": [
    "def fibonacci():\n",
    "    num = int(input(\"How many numbers would you like in your Fibonacci sequence: \"))\n",
    "    i = 1\n",
    "    if num == 0:\n",
    "        fib = []\n",
    "    elif num == 1:\n",
    "        fib = [1]\n",
    "    elif num == 2:\n",
    "        fib = [1,1]\n",
    "    elif num > 2:\n",
    "        fib = [1,1]\n",
    "        while i < (num - 1):\n",
    "            fib.append(fib[i] + fib[i-1])\n",
    "            i += 1\n",
    "    return fib\n",
    "fibonacci()"
   ]
  },
  {
   "cell_type": "markdown",
   "id": "e3e5035a",
   "metadata": {},
   "source": [
    "8. Write a function that ask the user for a string and print out whether this string is a\n",
    "palindrome or not."
   ]
  },
  {
   "cell_type": "code",
   "execution_count": 85,
   "id": "99d0a992",
   "metadata": {},
   "outputs": [
    {
     "name": "stdout",
     "output_type": "stream",
     "text": [
      "hannah is a palindrome string\n"
     ]
    }
   ],
   "source": [
    "def palindrome_str(obj):\n",
    "    a= obj[: :]\n",
    "    b= obj[: : -1]\n",
    "    if a==b:\n",
    "        print (f'{obj} is a palindrome string')\n",
    "    else:\n",
    "        print (f'{obj} is not a palindrome string' )\n",
    "palindrome_str('hannah')"
   ]
  },
  {
   "cell_type": "markdown",
   "id": "38ab1f54",
   "metadata": {},
   "source": [
    "9. Write a function that takes an ordered list of numbers (a list where the elements are in\n",
    "order from smallest to largest) and another number."
   ]
  },
  {
   "cell_type": "code",
   "execution_count": 97,
   "id": "a6cba879",
   "metadata": {},
   "outputs": [
    {
     "name": "stdout",
     "output_type": "stream",
     "text": [
      "Here is your ordered list [0, 2, 4, 6, 7, 7, 9]\n",
      "Enter number to add:18\n",
      "[0, 2, 4, 6, 7, 7, 9, 18]\n"
     ]
    }
   ],
   "source": [
    "lst=[2,7,6,7,4,9,0]\n",
    "def orderlist(lst):\n",
    "    lst.sort()\n",
    "    print('Here is your ordered list', lst)\n",
    "    num=int(input('Enter number to add:'))\n",
    "    lst.append(num)\n",
    "    print(lst)\n",
    "orderlist(lst)"
   ]
  },
  {
   "cell_type": "markdown",
   "id": "1f938cf7",
   "metadata": {},
   "source": [
    "10.Create a program that asks the user to enter their name and their age. Print out a\n",
    "message addressed to them that tells them the year that they will turn 100 years old."
   ]
  },
  {
   "cell_type": "code",
   "execution_count": 89,
   "id": "b8a93a8f",
   "metadata": {},
   "outputs": [
    {
     "name": "stdout",
     "output_type": "stream",
     "text": [
      "What is your name: simi\n",
      "How old are you: 24\n",
      "simi, you will be 100 years old in the year 2098\n"
     ]
    }
   ],
   "source": [
    "def timecalculator():\n",
    "    name = input(\"What is your name: \")\n",
    "    age = int(input(\"How old are you: \"))\n",
    "    year = 2022 - age + 100\n",
    "    print(name + \", you will be 100 years old in the year \" + str(year))\n",
    "timecalculator()"
   ]
  }
 ],
 "metadata": {
  "kernelspec": {
   "display_name": "Python 3 (ipykernel)",
   "language": "python",
   "name": "python3"
  },
  "language_info": {
   "codemirror_mode": {
    "name": "ipython",
    "version": 3
   },
   "file_extension": ".py",
   "mimetype": "text/x-python",
   "name": "python",
   "nbconvert_exporter": "python",
   "pygments_lexer": "ipython3",
   "version": "3.9.12"
  }
 },
 "nbformat": 4,
 "nbformat_minor": 5
}
