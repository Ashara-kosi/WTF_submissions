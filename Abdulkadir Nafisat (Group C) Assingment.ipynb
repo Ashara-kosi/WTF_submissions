{
 "cells": [
  {
   "cell_type": "markdown",
   "id": "da5cdb83",
   "metadata": {},
   "source": [
    "### question one: function to calculate the multiplication and sum of two numbers"
   ]
  },
  {
   "cell_type": "code",
   "execution_count": 56,
   "id": "b88758f9",
   "metadata": {},
   "outputs": [
    {
     "name": "stdout",
     "output_type": "stream",
     "text": [
      "The summation is: 11 while the mulpiplication is: 28 \n"
     ]
    }
   ],
   "source": [
    "#function for multiplication\n",
    "def mult_sum(a,b):\n",
    "    multiply=a*b;\n",
    "    Addition =a+b;\n",
    "    \n",
    "    #num1=int(input(\"input the first number: \"))#input from user for num1\n",
    "    #num2=int(input(\"input the second number: \"))#input from user for num2\n",
    "    print(\"The summation is: {0} while the mulpiplication is: {1} \".format(Addition, multiply))\n",
    "    \n",
    "mult_sum(4,7)    \n"
   ]
  },
  {
   "cell_type": "markdown",
   "id": "3bc921b9",
   "metadata": {},
   "source": [
    "### Question 2: Write a function to print the sum of the current number and the previous number"
   ]
  },
  {
   "cell_type": "code",
   "execution_count": 43,
   "id": "d0c2a6f7",
   "metadata": {},
   "outputs": [
    {
     "name": "stdout",
     "output_type": "stream",
     "text": [
      "Current Number 0 Previous Number  0  Sum:  0\n",
      "Current Number 1 Previous Number  0  Sum:  1\n",
      "Current Number 2 Previous Number  1  Sum:  3\n",
      "Current Number 3 Previous Number  2  Sum:  5\n",
      "Current Number 4 Previous Number  3  Sum:  7\n",
      "None\n"
     ]
    }
   ],
   "source": [
    "def prev_num(x):\n",
    "   \n",
    "    previous_num = 0\n",
    "\n",
    "    # loop from 1 to 10\n",
    "    for i in range(x):\n",
    "        x_sum = previous_num + i\n",
    "        print(\"Current Number\", i, \"Previous Number \", previous_num, \" Sum: \", x_sum)\n",
    "        # modify previous number\n",
    "        # set it to the current number\n",
    "        previous_num = i\n",
    "       \n",
    "print(prev_num(5))\n"
   ]
  },
  {
   "cell_type": "markdown",
   "id": "a349d5f4",
   "metadata": {},
   "source": [
    "### Question 3:\tWrite a function to print characters from a string that are present at an even index number"
   ]
  },
  {
   "cell_type": "code",
   "execution_count": 64,
   "id": "9d75f079",
   "metadata": {},
   "outputs": [
    {
     "name": "stdout",
     "output_type": "stream",
     "text": [
      "Enter wordthelamb\n",
      "Even Numbers: ['t', 'e', 'a', 'b']\n"
     ]
    }
   ],
   "source": [
    "# accept input string from a user\n",
    "def even_pos():\n",
    "    word = input('Enter word')\n",
    "    \n",
    "    x =[]\n",
    "    for i in range(len(word)):\n",
    "        if i % 2 == 0:\n",
    "            x.append(word[i])\n",
    "    print(\"Even Numbers: {0}\".format(x)) \n",
    "even_pos()    "
   ]
  },
  {
   "cell_type": "markdown",
   "id": "e5102bd0",
   "metadata": {},
   "source": [
    "### Question 4:\tWrite a function to rremove first characters from a string"
   ]
  },
  {
   "cell_type": "code",
   "execution_count": 74,
   "id": "e9a68103",
   "metadata": {},
   "outputs": [
    {
     "name": "stdout",
     "output_type": "stream",
     "text": [
      "Enter word: thrift\n"
     ]
    },
    {
     "data": {
      "text/plain": [
       "'hrift'"
      ]
     },
     "execution_count": 74,
     "metadata": {},
     "output_type": "execute_result"
    }
   ],
   "source": [
    "def del_firstchar():\n",
    "    word = input('Enter word: ')\n",
    "    \n",
    "    return word[1:]\n",
    "       \n",
    "    \n",
    "del_firstchar()"
   ]
  },
  {
   "cell_type": "markdown",
   "id": "b5fd07ef",
   "metadata": {},
   "source": [
    "### Question 5:\tWrite a function to check if the first and last number of a list is the same"
   ]
  },
  {
   "cell_type": "code",
   "execution_count": 81,
   "id": "c3f19b45",
   "metadata": {},
   "outputs": [
    {
     "name": "stdout",
     "output_type": "stream",
     "text": [
      "Enter list: 2,3,4,5,6,2\n"
     ]
    },
    {
     "data": {
      "text/plain": [
       "'they are thesame'"
      ]
     },
     "execution_count": 81,
     "metadata": {},
     "output_type": "execute_result"
    }
   ],
   "source": [
    "def first_last():\n",
    "    List = input('Enter list: ')\n",
    "    if List[0] == List [-1]:\n",
    "        return('they are thesame')\n",
    "    else:\n",
    "        return('they are not thesame')\n",
    "first_last()"
   ]
  },
  {
   "cell_type": "markdown",
   "id": "576a5169",
   "metadata": {},
   "source": [
    "### Question 6:\tWrite a function to print multiplication table from 1 to 10"
   ]
  },
  {
   "cell_type": "code",
   "execution_count": 115,
   "id": "7d47b307",
   "metadata": {},
   "outputs": [
    {
     "name": "stdout",
     "output_type": "stream",
     "text": [
      "\n",
      "1 TIMES MULTIPLICATION TABLE\n",
      "\n",
      "1 x 1 = 1\n",
      "1 x 2 = 2\n",
      "1 x 3 = 3\n",
      "1 x 4 = 4\n",
      "1 x 5 = 5\n",
      "1 x 6 = 6\n",
      "1 x 7 = 7\n",
      "1 x 8 = 8\n",
      "1 x 9 = 9\n",
      "1 x 10 = 10\n",
      "\n",
      "2 TIMES MULTIPLICATION TABLE\n",
      "\n",
      "2 x 1 = 2\n",
      "2 x 2 = 4\n",
      "2 x 3 = 6\n",
      "2 x 4 = 8\n",
      "2 x 5 = 10\n",
      "2 x 6 = 12\n",
      "2 x 7 = 14\n",
      "2 x 8 = 16\n",
      "2 x 9 = 18\n",
      "2 x 10 = 20\n",
      "\n",
      "3 TIMES MULTIPLICATION TABLE\n",
      "\n",
      "3 x 1 = 3\n",
      "3 x 2 = 6\n",
      "3 x 3 = 9\n",
      "3 x 4 = 12\n",
      "3 x 5 = 15\n",
      "3 x 6 = 18\n",
      "3 x 7 = 21\n",
      "3 x 8 = 24\n",
      "3 x 9 = 27\n",
      "3 x 10 = 30\n",
      "\n",
      "4 TIMES MULTIPLICATION TABLE\n",
      "\n",
      "4 x 1 = 4\n",
      "4 x 2 = 8\n",
      "4 x 3 = 12\n",
      "4 x 4 = 16\n",
      "4 x 5 = 20\n",
      "4 x 6 = 24\n",
      "4 x 7 = 28\n",
      "4 x 8 = 32\n",
      "4 x 9 = 36\n",
      "4 x 10 = 40\n",
      "\n",
      "5 TIMES MULTIPLICATION TABLE\n",
      "\n",
      "5 x 1 = 5\n",
      "5 x 2 = 10\n",
      "5 x 3 = 15\n",
      "5 x 4 = 20\n",
      "5 x 5 = 25\n",
      "5 x 6 = 30\n",
      "5 x 7 = 35\n",
      "5 x 8 = 40\n",
      "5 x 9 = 45\n",
      "5 x 10 = 50\n",
      "\n",
      "6 TIMES MULTIPLICATION TABLE\n",
      "\n",
      "6 x 1 = 6\n",
      "6 x 2 = 12\n",
      "6 x 3 = 18\n",
      "6 x 4 = 24\n",
      "6 x 5 = 30\n",
      "6 x 6 = 36\n",
      "6 x 7 = 42\n",
      "6 x 8 = 48\n",
      "6 x 9 = 54\n",
      "6 x 10 = 60\n",
      "\n",
      "7 TIMES MULTIPLICATION TABLE\n",
      "\n",
      "7 x 1 = 7\n",
      "7 x 2 = 14\n",
      "7 x 3 = 21\n",
      "7 x 4 = 28\n",
      "7 x 5 = 35\n",
      "7 x 6 = 42\n",
      "7 x 7 = 49\n",
      "7 x 8 = 56\n",
      "7 x 9 = 63\n",
      "7 x 10 = 70\n",
      "\n",
      "8 TIMES MULTIPLICATION TABLE\n",
      "\n",
      "8 x 1 = 8\n",
      "8 x 2 = 16\n",
      "8 x 3 = 24\n",
      "8 x 4 = 32\n",
      "8 x 5 = 40\n",
      "8 x 6 = 48\n",
      "8 x 7 = 56\n",
      "8 x 8 = 64\n",
      "8 x 9 = 72\n",
      "8 x 10 = 80\n",
      "\n",
      "9 TIMES MULTIPLICATION TABLE\n",
      "\n",
      "9 x 1 = 9\n",
      "9 x 2 = 18\n",
      "9 x 3 = 27\n",
      "9 x 4 = 36\n",
      "9 x 5 = 45\n",
      "9 x 6 = 54\n",
      "9 x 7 = 63\n",
      "9 x 8 = 72\n",
      "9 x 9 = 81\n",
      "9 x 10 = 90\n",
      "\n",
      "10 TIMES MULTIPLICATION TABLE\n",
      "\n",
      "10 x 1 = 10\n",
      "10 x 2 = 20\n",
      "10 x 3 = 30\n",
      "10 x 4 = 40\n",
      "10 x 5 = 50\n",
      "10 x 6 = 60\n",
      "10 x 7 = 70\n",
      "10 x 8 = 80\n",
      "10 x 9 = 90\n",
      "10 x 10 = 100\n"
     ]
    }
   ],
   "source": [
    "def mult_table():\n",
    "    for i in range(1,11):\n",
    "        #print(k,'x', i, '=', k*i )\n",
    "            print('\\n{0} TIMES MULTIPLICATION TABLE\\n'.format(i))\n",
    "            for n in range(1,11):\n",
    "                   #print((i,'*', n, '=', i*n) )\n",
    "                    print('{0} x {1} = {2}'.format(i,n, i*n)) \n",
    "mult_table()               \n",
    "#mult_table(range(1,10))     "
   ]
  },
  {
   "cell_type": "markdown",
   "id": "599e0311",
   "metadata": {},
   "source": [
    "### Question 7:\tGiven a two list of numbers, write a function to create a new list such that the new list should contain odd numbers from the first list and even numbers from the second list"
   ]
  },
  {
   "cell_type": "code",
   "execution_count": 87,
   "id": "d702d3a5",
   "metadata": {},
   "outputs": [
    {
     "name": "stdout",
     "output_type": "stream",
     "text": [
      "[1, 3, 5, 7, 9, 11, 13, 15, 17, 19, 2, 4, 6, 8, 10, 12, 14, 16, 18, 20]\n"
     ]
    }
   ],
   "source": [
    "List1 = [1,2,3,4,5,6,7,8,9,10,11,12,13,14,15,16,17,18,19,20]\n",
    "List2 = [1,2,3,4,5,6,7,8,9,10,11,12,13,14,15,16,17,18,19,20]\n",
    "\n",
    "res =[]\n",
    "def full_list():\n",
    "    for i in List1:\n",
    "        if i % 2 == 1:\n",
    "            res.append(i)\n",
    "    for n in List2:\n",
    "        if n % 2 == 0:\n",
    "            res.append(n) \n",
    "    print(res)\n",
    "full_list()\n"
   ]
  },
  {
   "cell_type": "code",
   "execution_count": null,
   "id": "32cdf5e9",
   "metadata": {},
   "outputs": [],
   "source": []
  }
 ],
 "metadata": {
  "kernelspec": {
   "display_name": "Python 3 (ipykernel)",
   "language": "python",
   "name": "python3"
  },
  "language_info": {
   "codemirror_mode": {
    "name": "ipython",
    "version": 3
   },
   "file_extension": ".py",
   "mimetype": "text/x-python",
   "name": "python",
   "nbconvert_exporter": "python",
   "pygments_lexer": "ipython3",
   "version": "3.9.12"
  }
 },
 "nbformat": 4,
 "nbformat_minor": 5
}
