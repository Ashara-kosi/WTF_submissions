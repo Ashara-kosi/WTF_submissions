{
 "cells": [
  {
   "cell_type": "markdown",
   "id": "0b4214a1",
   "metadata": {},
   "source": [
    "1. Write a function called showNumbers that takes a parameter called limit. It should print\n",
    "all the numbers between 0 and limit with a label to identify the even and odd numbers.\n",
    "For example, if the limit is 3, it should print:0 EVEN 1 ODD 2 EVEN 3 ODD\n",
    "2. Write a function that returns the sum of multiples of 3 and 5 between 0\n",
    "and limit (parameter). For example, if limit is 20, it should return the sum of 3, 5, 6, 9, 10,\n",
    "12, 15, 18, 20.\n",
    "3. Write a function called show_stars(rows). If rows is 5, it should print the\n",
    "following:***************\n",
    "4. Write a function that prints all the prime numbers between 0 and limit where limit is a\n",
    "parameter.\n",
    "5. Write a program (function!) that takes a list and returns a new list that contains all the\n",
    "elements of the first list minus all the duplicates.\n",
    "6. Write a function to ask the user for a number and determine whether the number is\n",
    "prime or not.\n",
    "7. Write a program that asks the user how many Fibonnaci numbers to generate and then\n",
    "generates them.\n",
    "8. Write a function that ask the user for a string and print out whether this string is a\n",
    "palindrome or not.\n",
    "9. Write a function that takes an ordered list of numbers (a list where the elements are in\n",
    "order from smallest to largest) and another number.\n",
    "10. Create a program that asks the user to enter their name and their age. Print out a\n",
    "message addressed to them that tells them the year that they will turn 100 years old."
   ]
  },
  {
   "cell_type": "code",
   "execution_count": 94,
   "id": "d10749f9",
   "metadata": {},
   "outputs": [
    {
     "name": "stdout",
     "output_type": "stream",
     "text": [
      "Please input a number limit10\n",
      "0 EVEN\n",
      "1 ODD\n",
      "2 EVEN\n",
      "3 ODD\n",
      "4 EVEN\n",
      "5 ODD\n",
      "6 EVEN\n",
      "7 ODD\n",
      "8 EVEN\n",
      "9 ODD\n",
      "10 EVEN\n"
     ]
    }
   ],
   "source": [
    "#Question 1Write a function called showNumbers that takes a parameter called limit. It should print all the numbers between 0 and limit with a label to identify the even and odd numbers. For example, if the limit is 3, it should print:0 EVEN 1 ODD 2 EVEN 3 ODD\n",
    "def show_numbers(limit):\n",
    "     for i in range(0,limit+1):\n",
    "        if i%2==0:\n",
    "            print(i, \"EVEN\")\n",
    "        else:\n",
    "                print(i, \"ODD\") \n",
    "                end=' '\n",
    "show_numbers(int(input('Please input a number limit')))"
   ]
  },
  {
   "cell_type": "code",
   "execution_count": 100,
   "id": "3efeadb1",
   "metadata": {},
   "outputs": [
    {
     "name": "stdout",
     "output_type": "stream",
     "text": [
      "Please input a number limit: 20\n",
      "98\n"
     ]
    }
   ],
   "source": [
    "#Question 2Write a function that returns the sum of multiples of 3 and 5 between 0 and limit (parameter). For example, if limit is 20, it should return the sum of 3, 5, 6, 9, 10, 12, 15, 18, 20.\n",
    "def sum_of_multiples(limit):\n",
    "  n = 0\n",
    "  for i in range(1, limit+1):\n",
    "    if i % 5==0  or i % 3==0:\n",
    "         n = n + i\n",
    "  print(n)\n",
    "\n",
    "  \n",
    "limit= int(input('Please input a number limit: '))\n",
    "sum_of_multiples(limit)"
   ]
  },
  {
   "cell_type": "code",
   "execution_count": 101,
   "id": "357c70e9",
   "metadata": {},
   "outputs": [
    {
     "name": "stdout",
     "output_type": "stream",
     "text": [
      "Enter the number of rows: 10\n",
      "*\n",
      "**\n",
      "***\n",
      "****\n",
      "*****\n",
      "******\n",
      "*******\n",
      "********\n",
      "*********\n",
      "**********\n"
     ]
    }
   ],
   "source": [
    "#Question 3: Write a function called show_stars(rows). If rows is 5, it should print the following:***\n",
    "def show_stars(rows):\n",
    "    for i in range(1, rows+1):\n",
    "        print('*' * i)\n",
    "\n",
    "rows=int(input(\"Enter the number of rows: \"))\n",
    "show_stars(rows)\n"
   ]
  },
  {
   "cell_type": "code",
   "execution_count": 105,
   "id": "c1608fce",
   "metadata": {},
   "outputs": [
    {
     "name": "stdout",
     "output_type": "stream",
     "text": [
      "Please input a number: 5\n",
      "2  is a prime number\n",
      "3  is a prime number\n",
      "5  is a prime number\n"
     ]
    }
   ],
   "source": [
    "#Question 4: Write a function that prints all the prime numbers between 0 and limit where limit is a parameter.\n",
    "def print_prime (limit):\n",
    "    for number in range(0, limit+1):\n",
    "        if number > 1:\n",
    "            for i in range(2, number):\n",
    "                if number % i ==0:\n",
    "                    break\n",
    "            else:\n",
    "                 print (number, ' is a prime number')\n",
    "\n",
    "x= int(input('Please input a number: '))\n",
    "print_prime(x)\n"
   ]
  },
  {
   "cell_type": "markdown",
   "id": "7777a75c",
   "metadata": {},
   "source": [
    "#Question 5: Write a program (function!) that takes a list and returns a new list that contains all the elements of the first list minus all the duplicates."
   ]
  },
  {
   "cell_type": "code",
   "execution_count": 115,
   "id": "b92bc264",
   "metadata": {},
   "outputs": [
    {
     "data": {
      "text/plain": [
       "{'a', 'h', 'j', 'l', 'o', 's'}"
      ]
     },
     "execution_count": 115,
     "metadata": {},
     "output_type": "execute_result"
    }
   ],
   "source": [
    "def unique(list):\n",
    "    my_list= []\n",
    "    for items in list:\n",
    "        if items not in my_list:\n",
    "            my_list.append(items)\n",
    "    return set(my_list)\n",
    "unique(['a', 's', 'a', 'l', 'o', 'j', 'h', 'a'])"
   ]
  },
  {
   "cell_type": "code",
   "execution_count": 124,
   "id": "78f12d7a",
   "metadata": {},
   "outputs": [
    {
     "name": "stdout",
     "output_type": "stream",
     "text": [
      "Please input number: 3\n",
      "3 is a prime number\n"
     ]
    }
   ],
   "source": [
    "#Question 6\n",
    "def prime_numbers(n):\n",
    "    if n > 1:\n",
    "        for i in range(2, n):\n",
    "            if (n%i) == 0:\n",
    "                print(n, ' is not a prime number')\n",
    "                break\n",
    "            else:\n",
    "                print(n, 'is a prime number' )\n",
    "\n",
    "\n",
    "n= int(input('Please input number: '))\n",
    "prime_numbers(n)"
   ]
  },
  {
   "cell_type": "code",
   "execution_count": 126,
   "id": "5eea4f68",
   "metadata": {},
   "outputs": [
    {
     "name": "stdout",
     "output_type": "stream",
     "text": [
      "How many Fibonacci numbers do you want to generate?:  10\n",
      "The first 10 Fibonacci numbers are: [1, 1, 2, 3, 5, 8, 13, 21, 34, 55]\n"
     ]
    }
   ],
   "source": [
    "#Question 7\n",
    "def fibronacci(a,b):\n",
    "    return a + b\n",
    "number = int(input('How many Fibonacci numbers do you want to generate?:  '))\n",
    "\n",
    "\n",
    "\n",
    "fibonacci_list =[]\n",
    "for n in range(number):\n",
    "    if n in [0,1]:\n",
    "        fibonacci_list += [1]\n",
    "    else:\n",
    "        fibonacci_list += [fib(fibonacci_list[n-2], fibonacci_list[n-1])]\n",
    "print('The first', number, 'Fibonacci numbers are:', fibonacci_list)"
   ]
  },
  {
   "cell_type": "code",
   "execution_count": 127,
   "id": "a9035689",
   "metadata": {},
   "outputs": [
    {
     "name": "stdout",
     "output_type": "stream",
     "text": [
      "please input your stringebube\n",
      "ebube  is a palindrome\n"
     ]
    }
   ],
   "source": [
    "#Question 8 Write a function that ask the user for a string and print out whether this string is a palindrome or not\n",
    "def pal(x):\n",
    "    if x[::1] == x[::-1]:\n",
    "        print(x, ' is a palindrome')\n",
    "    else:\n",
    "        print(x, ' is not a palindrome')\n",
    "        \n",
    "string= str(input('please input your string'))\n",
    "pal(string)\n"
   ]
  },
  {
   "cell_type": "markdown",
   "id": "f210d9f0",
   "metadata": {},
   "source": [
    "9. Write a function that takes an ordered list of numbers (a list where the elements are in order from smallest to largest) and another number."
   ]
  },
  {
   "cell_type": "code",
   "execution_count": 128,
   "id": "8a174c03",
   "metadata": {},
   "outputs": [
    {
     "name": "stdout",
     "output_type": "stream",
     "text": [
      "False\n"
     ]
    }
   ],
   "source": [
    "\n",
    "def order(x):\n",
    "    my_list= [1, 2, 3, 4, 5, 6]\n",
    "    if x in my_list:\n",
    "        print ('True')\n",
    "    else:\n",
    "        print('False')\n",
    "            \n",
    "order(15)"
   ]
  },
  {
   "cell_type": "markdown",
   "id": "e654b0b2",
   "metadata": {},
   "source": [
    "10. Create a program that asks the user to enter their name and their age. Print out a message addressed to them that tells them the year that they will turn 100 years old\n"
   ]
  },
  {
   "cell_type": "code",
   "execution_count": 141,
   "id": "7a30b47c",
   "metadata": {},
   "outputs": [
    {
     "name": "stdout",
     "output_type": "stream",
     "text": [
      "Enter your name: Cynthia Ojiba\n",
      "Enter your age: 22\n",
      "Cynthia Ojiba will turn 100 in the year, 2100\n"
     ]
    }
   ],
   "source": [
    "Name = input(\"Enter your name: \")\n",
    "Age = int(input(\"Enter your age: \"))\n",
    "Year= 2022\n",
    "print(Name+\" will turn 100 in the year, \" +str(Year - Age + 100))"
   ]
  }
 ],
 "metadata": {
  "kernelspec": {
   "display_name": "Python 3 (ipykernel)",
   "language": "python",
   "name": "python3"
  },
  "language_info": {
   "codemirror_mode": {
    "name": "ipython",
    "version": 3
   },
   "file_extension": ".py",
   "mimetype": "text/x-python",
   "name": "python",
   "nbconvert_exporter": "python",
   "pygments_lexer": "ipython3",
   "version": "3.9.12"
  }
 },
 "nbformat": 4,
 "nbformat_minor": 5
}
