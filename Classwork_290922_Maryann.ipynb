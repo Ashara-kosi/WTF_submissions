{
 "cells": [
  {
   "cell_type": "markdown",
   "metadata": {},
   "source": [
    "### Question 1\n",
    "\n",
    "Write a function called showNumbers that takes a parameter called limit. It should print\n",
    "all the numbers between 0 and limit with a label to identify the even and odd number\n",
    "For example, if the limit is 3, it should print:0 EVEN 1 ODD 2 EVEN 3 ODD"
   ]
  },
  {
   "cell_type": "code",
   "execution_count": 1,
   "metadata": {},
   "outputs": [
    {
     "name": "stdout",
     "output_type": "stream",
     "text": [
      "Enter number: 5\n",
      "0 EVEN \n",
      "1 ODD \n",
      "2 EVEN \n",
      "3 ODD \n",
      "4 EVEN \n",
      "5 ODD \n"
     ]
    }
   ],
   "source": [
    "#function that prints numbers between 0 and limit, with a label to identify odd and even numbers\n",
    "def showNumbers(limit):\n",
    "    for i in range(limit+1):\n",
    "        if i % 2 == 0:\n",
    "            print(i,'EVEN','\\n',end='')\n",
    "        else:\n",
    "            print(i,'ODD','\\n',end='')\n",
    "            \n",
    "showNumbers(int(input('Enter number: ')))"
   ]
  },
  {
   "cell_type": "markdown",
   "metadata": {},
   "source": [
    "### Question2\n",
    "Write a function that returns the sum of multiples of 3 and 5 between 0\n",
    "and limit (parameter). For example, if limit is 20, it should return the sum of 3, 5, 6, 9, 10,\n",
    "12, 15, 18, 20."
   ]
  },
  {
   "cell_type": "code",
   "execution_count": 2,
   "metadata": {},
   "outputs": [
    {
     "name": "stdout",
     "output_type": "stream",
     "text": [
      "Enter limit:25\n"
     ]
    },
    {
     "data": {
      "text/plain": [
       "168"
      ]
     },
     "execution_count": 2,
     "metadata": {},
     "output_type": "execute_result"
    }
   ],
   "source": [
    "def multiples(limit):\n",
    "    sum = 0\n",
    "    for i in range(limit+1):\n",
    "        if i % 3 == 0:\n",
    "            sum+=i\n",
    "        elif i % 5 == 0:\n",
    "            sum+=i\n",
    "    return sum\n",
    "multiples(int(input('Enter limit:')))"
   ]
  },
  {
   "cell_type": "markdown",
   "metadata": {},
   "source": [
    "### Question 3\n",
    "Write a function called show_stars(rows). If rows is 5, it should print the\n",
    "following:***************"
   ]
  },
  {
   "cell_type": "code",
   "execution_count": 3,
   "metadata": {},
   "outputs": [
    {
     "name": "stdout",
     "output_type": "stream",
     "text": [
      "enter number of rows: 5\n",
      "* \n",
      "* * \n",
      "* * * \n",
      "* * * * \n",
      "* * * * * \n"
     ]
    }
   ],
   "source": [
    "#function that prints *** if rows is 5\n",
    "def show_stars(rows):\n",
    "    \n",
    "    for i in range(0,rows):\n",
    "        for j in range(0,i+1):\n",
    "            print(\"* \", end=\"\")\n",
    "            \n",
    "        print()\n",
    "show_stars(int(input('enter number of rows: ')))"
   ]
  },
  {
   "cell_type": "markdown",
   "metadata": {},
   "source": [
    "### Question 4\n",
    "Write a function that prints all the prime numbers between 0 and limit where limit is a\n",
    "parameter."
   ]
  },
  {
   "cell_type": "code",
   "execution_count": 4,
   "metadata": {},
   "outputs": [
    {
     "name": "stdout",
     "output_type": "stream",
     "text": [
      "Enter limit: 20\n"
     ]
    },
    {
     "data": {
      "text/plain": [
       "[2, 3, 5, 7, 11, 13, 17, 19]"
      ]
     },
     "execution_count": 4,
     "metadata": {},
     "output_type": "execute_result"
    }
   ],
   "source": [
    "#function that prints all prime numbers between 0 and a limit\n",
    "def prime_numbers(limit):\n",
    "    prime = []\n",
    "    for i in range(2, limit+1):\n",
    "        for j in range(2, i):\n",
    "            if i % j == 0:\n",
    "                break\n",
    "        else:\n",
    "            prime.append(i)\n",
    "    return(prime)\n",
    "prime_numbers(int(input('Enter limit: ')))"
   ]
  },
  {
   "cell_type": "markdown",
   "metadata": {},
   "source": [
    "### Question 5\n",
    "Write a program (function!) that takes a list and returns a new list that contains all the\n",
    "elements of the first list minus all the duplicates."
   ]
  },
  {
   "cell_type": "code",
   "execution_count": 5,
   "metadata": {},
   "outputs": [
    {
     "data": {
      "text/plain": [
       "[4, 2, 6, 8, 10, 3, 12, 9, 7, 15, 22, 25, 30, 26, 13]"
      ]
     },
     "execution_count": 5,
     "metadata": {},
     "output_type": "execute_result"
    }
   ],
   "source": [
    "#function that takes a list and returns a new list minus duplicates\n",
    "def remove_duplicate(listx):\n",
    "    n = []\n",
    "    for i in listx:\n",
    "        if i not in n:\n",
    "            n.append(i)\n",
    "    return n\n",
    "remove_duplicate([4,2,6,4,6,8,2,10,3,6,12,9,7,15,22,25,22,30,26,26,30,13])\n",
    "    "
   ]
  },
  {
   "cell_type": "markdown",
   "metadata": {},
   "source": [
    "### Question 6\n",
    "Write a function to ask the user for a number and determine whether the number is\n",
    "prime or not"
   ]
  },
  {
   "cell_type": "code",
   "execution_count": 6,
   "metadata": {},
   "outputs": [
    {
     "name": "stdout",
     "output_type": "stream",
     "text": [
      "Enter number: 7\n",
      "7 is a prime number\n"
     ]
    }
   ],
   "source": [
    "def prime_number(a):\n",
    "    \n",
    "        for i in range(2, a//2):\n",
    "            if a % i ==0:\n",
    "                print(a,'is not a prime number')\n",
    "                break\n",
    "        else:\n",
    "            print(a,'is a prime number')\n",
    "                \n",
    "prime_number(int(input('Enter number: ')))"
   ]
  },
  {
   "cell_type": "markdown",
   "metadata": {},
   "source": [
    "### Question 7\n",
    "Write a program that asks the user how many Fibonnaci numbers to generate and then\n",
    "generates them."
   ]
  },
  {
   "cell_type": "code",
   "execution_count": 7,
   "metadata": {},
   "outputs": [
    {
     "name": "stdout",
     "output_type": "stream",
     "text": [
      "0 1 1 2 3 5 8 13 21 34 "
     ]
    }
   ],
   "source": [
    "def PrintFibonacci(first, second, length):\n",
    "    \n",
    "    if length == 0: #stops the printing if length reaches the end\n",
    "        return\n",
    "    \n",
    "    print(first+second, end=\" \") #prints the next Fibonacci number\n",
    "    \n",
    "    PrintFibonacci(second, first+second, length-1) #calling the function recursively and decrementing the length\n",
    "    \n",
    "print(0,1,end=\" \") #print initial two values\n",
    "    \n",
    "PrintFibonacci(0,1,10-2) #calling the function to print the remaining length\n",
    "    "
   ]
  },
  {
   "cell_type": "markdown",
   "metadata": {},
   "source": [
    "### Question 8\n",
    "Write a function that ask the user for a string and print out whether this string is a\n",
    "palindrome or not."
   ]
  },
  {
   "cell_type": "code",
   "execution_count": 8,
   "metadata": {},
   "outputs": [
    {
     "name": "stdout",
     "output_type": "stream",
     "text": [
      "input a string: madam\n",
      "the string is a Palindrome\n"
     ]
    }
   ],
   "source": [
    "def IsPalindrome(n):\n",
    "    #reverse string\n",
    "    return n == n[::-1]\n",
    "\n",
    "n = str(input('input a string: ')) #user inputs a string\n",
    "value = IsPalindrome(n)\n",
    "\n",
    "if value:\n",
    "    print('the string is a Palindrome')\n",
    "else:\n",
    "    print('the string is not a Palindrome')"
   ]
  },
  {
   "cell_type": "markdown",
   "metadata": {},
   "source": [
    "### Question 9\n",
    "Write a function that takes an ordered list of numbers (a list where the elements are in\n",
    "order from smallest to largest) and another number"
   ]
  },
  {
   "cell_type": "code",
   "execution_count": 9,
   "metadata": {},
   "outputs": [
    {
     "name": "stdout",
     "output_type": "stream",
     "text": [
      "Number to find: 6\n",
      "False\n"
     ]
    }
   ],
   "source": [
    "def find(ordered_list,element_to_find):\n",
    "    for element in ordered_list:\n",
    "        if element == element_to_find:\n",
    "            print(True)\n",
    "    else:\n",
    "        print(False)\n",
    "n = [5,10,15,20,25,30,35,40,45,50]\n",
    "find(n,int(input('Number to find: ')))"
   ]
  },
  {
   "cell_type": "markdown",
   "metadata": {},
   "source": [
    "### Question 10\n",
    "Create a program that asks the user to enter their name and their age. Print out a\n",
    "message addressed to them that tells them the year that they will turn 100 years old."
   ]
  },
  {
   "cell_type": "code",
   "execution_count": 10,
   "metadata": {},
   "outputs": [
    {
     "name": "stdout",
     "output_type": "stream",
     "text": [
      "Enter your name: Ann\n",
      "Enter your age: 25\n",
      "Ann will be 100 years old in the year 2097.\n"
     ]
    }
   ],
   "source": [
    "def hundreth_year():\n",
    "    name = input(\"Enter your name: \") #user inputs name\n",
    "    current_age = int(input(\"Enter your age: \")) #user inputs age\n",
    "    \n",
    "    hundred_year = (100 - current_age) + 2022 #calculate 100th year with 2022 as current year\n",
    "    print(f'{name} will be 100 years old in the year {hundred_year}.')\n",
    "hundreth_year()"
   ]
  },
  {
   "cell_type": "code",
   "execution_count": null,
   "metadata": {},
   "outputs": [],
   "source": []
  }
 ],
 "metadata": {
  "kernelspec": {
   "display_name": "Python 3",
   "language": "python",
   "name": "python3"
  },
  "language_info": {
   "codemirror_mode": {
    "name": "ipython",
    "version": 3
   },
   "file_extension": ".py",
   "mimetype": "text/x-python",
   "name": "python",
   "nbconvert_exporter": "python",
   "pygments_lexer": "ipython3",
   "version": "3.7.3"
  }
 },
 "nbformat": 4,
 "nbformat_minor": 2
}
