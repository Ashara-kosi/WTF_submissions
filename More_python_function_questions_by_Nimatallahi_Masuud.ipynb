{
  "nbformat": 4,
  "nbformat_minor": 0,
  "metadata": {
    "colab": {
      "provenance": [],
      "collapsed_sections": []
    },
    "kernelspec": {
      "name": "python3",
      "display_name": "Python 3"
    },
    "language_info": {
      "name": "python"
    }
  },
  "cells": [
    {
      "cell_type": "code",
      "execution_count": 1,
      "metadata": {
        "id": "r88SJdk4ojkn"
      },
      "outputs": [],
      "source": [
        "#1.\tWrite a function to calculate the multiplication and sum of two numbers.\n",
        "def multi_sum(x,y):\n",
        "  multi_sum = x*y\n",
        "  multi_sum1 = x+y\n",
        "  if multi_sum <= multi_sum1:\n",
        "    return multi_sum\n",
        "  else:\n",
        "    return multi_sum1"
      ]
    },
    {
      "cell_type": "code",
      "source": [
        "multi_sum(4,5)\n"
      ],
      "metadata": {
        "colab": {
          "base_uri": "https://localhost:8080/"
        },
        "id": "AthB2zm9qTGd",
        "outputId": "8011192b-8d06-4ad8-bfd0-008a5faae763"
      },
      "execution_count": 2,
      "outputs": [
        {
          "output_type": "execute_result",
          "data": {
            "text/plain": [
              "9"
            ]
          },
          "metadata": {},
          "execution_count": 2
        }
      ]
    },
    {
      "cell_type": "code",
      "source": [
        "# or this method\n",
        "def multi_or_sum(x,y):\n",
        "  a = int(input(\"Enter first number\"))\n",
        "  b = int(input(\"Enter second number\"))\n",
        "  \n",
        "  print(\"\\n\")\n",
        "  print(\"First Number: \", a)\n",
        "  print(\"Second Number: \", b)\n",
        "  multi1 = a * b\n",
        "  sum1 = a +b\n",
        "  print(\"Multiplication of two numbers is: \", multi1)\n",
        "  print(\"Addition of two numbers is: \", sum1)"
      ],
      "metadata": {
        "id": "m20RJndatD-g"
      },
      "execution_count": 3,
      "outputs": []
    },
    {
      "cell_type": "code",
      "source": [
        "multi_or_sum(4,5)"
      ],
      "metadata": {
        "colab": {
          "base_uri": "https://localhost:8080/"
        },
        "id": "NEmpNhCIvYpz",
        "outputId": "e422fc1c-8724-488c-b528-d7f254f0ce0a"
      },
      "execution_count": 4,
      "outputs": [
        {
          "output_type": "stream",
          "name": "stdout",
          "text": [
            "Enter first number4\n",
            "Enter second number5\n",
            "\n",
            "\n",
            "First Number:  4\n",
            "Second Number:  5\n",
            "Multiplication of two numbers is:  20\n",
            "Addition of two numbers is:  9\n"
          ]
        }
      ]
    },
    {
      "cell_type": "code",
      "source": [
        "# 2.\tWrite a function to print the sum of the current number and the previous numberr\n",
        "def sumof_current_previous(numbers):\n",
        "  previous_number = 0\n",
        "  for i in range(1, 20):\n",
        "    current_number = previous_number + i\n",
        "    \n",
        "  print(\"\\n\")\n",
        "  print(\"Previous Number: \", previous_number)\n",
        "  print(\"Current Number: \", current_number)\n",
        "  sum_num = range(previous_number + current_number)\n",
        "  print(sum_num)\n",
        "  print(\"Addition of two numbers is: \", sum(sum_num))\n",
        "  "
      ],
      "metadata": {
        "id": "Vd9hBa5_xocN"
      },
      "execution_count": 5,
      "outputs": []
    },
    {
      "cell_type": "code",
      "source": [
        "numbers= range(1, 20)\n",
        "sumof_current_previous(numbers)"
      ],
      "metadata": {
        "colab": {
          "base_uri": "https://localhost:8080/"
        },
        "id": "niR_NenJp-40",
        "outputId": "02494abf-9ec4-438c-8ab6-e29643b62824"
      },
      "execution_count": 6,
      "outputs": [
        {
          "output_type": "stream",
          "name": "stdout",
          "text": [
            "\n",
            "\n",
            "Previous Number:  0\n",
            "Current Number:  19\n",
            "range(0, 19)\n",
            "Addition of two numbers is:  171\n"
          ]
        }
      ]
    },
    {
      "cell_type": "code",
      "source": [
        "3.# Write a function to print characters from a string that are present at an even index number\n",
        "def char(string):\n",
        "    for x in string:\n",
        "        print(x)"
      ],
      "metadata": {
        "id": "cC6Fhgi1_jTJ"
      },
      "execution_count": 7,
      "outputs": []
    },
    {
      "cell_type": "code",
      "source": [
        "string = 'Nimah'\n",
        "char(string[0::2])"
      ],
      "metadata": {
        "colab": {
          "base_uri": "https://localhost:8080/"
        },
        "id": "c_LhX9r0Fy9w",
        "outputId": "362911b5-b6ed-4650-a2eb-ee00b0813e82"
      },
      "execution_count": 8,
      "outputs": [
        {
          "output_type": "stream",
          "name": "stdout",
          "text": [
            "N\n",
            "m\n",
            "h\n"
          ]
        }
      ]
    },
    {
      "cell_type": "code",
      "source": [
        "# or this method\n",
        "def even_char(a):\n",
        "  b = 0\n",
        "  print('display even index')\n",
        "  for i in range(len(a)):\n",
        "    #i = i + b\n",
        "    print(a[0::2])\n",
        "a = \"Nimatallahi\"\n",
        "even_char(a)\n",
        "\n"
      ],
      "metadata": {
        "colab": {
          "base_uri": "https://localhost:8080/"
        },
        "id": "hkRCttTLk1k_",
        "outputId": "de1e4c74-bc40-42d9-d032-81b783fa8932"
      },
      "execution_count": 10,
      "outputs": [
        {
          "output_type": "stream",
          "name": "stdout",
          "text": [
            "display even index\n",
            "Nmtlai\n",
            "Nmtlai\n",
            "Nmtlai\n",
            "Nmtlai\n",
            "Nmtlai\n",
            "Nmtlai\n",
            "Nmtlai\n",
            "Nmtlai\n",
            "Nmtlai\n",
            "Nmtlai\n",
            "Nmtlai\n"
          ]
        }
      ]
    },
    {
      "cell_type": "code",
      "source": [
        "#4.\tWrite a function to rremove first characters from a string\n",
        "def char(string):\n",
        "    for x in string:\n",
        "        print(x)"
      ],
      "metadata": {
        "id": "r-JOK-3jxdRO"
      },
      "execution_count": 11,
      "outputs": []
    },
    {
      "cell_type": "code",
      "source": [
        "string = 'Nimatallahi'\n",
        "char(string[1::])"
      ],
      "metadata": {
        "colab": {
          "base_uri": "https://localhost:8080/"
        },
        "id": "XZVPj68-x7IU",
        "outputId": "11639274-7457-4b4c-9d36-3bd1b4204207"
      },
      "execution_count": 12,
      "outputs": [
        {
          "output_type": "stream",
          "name": "stdout",
          "text": [
            "i\n",
            "m\n",
            "a\n",
            "t\n",
            "a\n",
            "l\n",
            "l\n",
            "a\n",
            "h\n",
            "i\n"
          ]
        }
      ]
    },
    {
      "cell_type": "code",
      "source": [
        "#5.\tWrite a function to check if the first and last number of a list is the same\n",
        "def first_last(numbers):\n",
        "    first = numbers[0]\n",
        "    last = numbers[-1]\n",
        "    if first ==last:\n",
        "        return True\n",
        "    else:\n",
        "        return False"
      ],
      "metadata": {
        "id": "njXNntjazYxF"
      },
      "execution_count": 13,
      "outputs": []
    },
    {
      "cell_type": "code",
      "source": [
        "numbers = [2,4,6,8,10]\n",
        "print(first_last(numbers))        \n",
        "numbers = [2,4,6,8,10,2]\n",
        "print(first_last(numbers))"
      ],
      "metadata": {
        "colab": {
          "base_uri": "https://localhost:8080/"
        },
        "id": "w6yJUC_x1rck",
        "outputId": "2e59fe9b-3c8f-4963-eeb6-ee9ded363f3b"
      },
      "execution_count": 14,
      "outputs": [
        {
          "output_type": "stream",
          "name": "stdout",
          "text": [
            "False\n",
            "True\n"
          ]
        }
      ]
    },
    {
      "cell_type": "code",
      "source": [
        "#6Write a function to print multiplication table from 1 to 10\n",
        "def multiplication():\n",
        "    for a in range(1, 11):\n",
        "        for b in range(1, 11):\n",
        "          x = a*b\n",
        "          i = \"=\"\n",
        "          print(a,\"*\",b,i,x,end=\"\\t\\n\")\n",
        "        print(\"\\t\")\n",
        "multiplication()"
      ],
      "metadata": {
        "colab": {
          "base_uri": "https://localhost:8080/"
        },
        "id": "rOADzIXSAduV",
        "outputId": "6b81bf85-e1a2-470a-e7bb-8bff68e3e350"
      },
      "execution_count": 15,
      "outputs": [
        {
          "output_type": "stream",
          "name": "stdout",
          "text": [
            "1 * 1 = 1\t\n",
            "1 * 2 = 2\t\n",
            "1 * 3 = 3\t\n",
            "1 * 4 = 4\t\n",
            "1 * 5 = 5\t\n",
            "1 * 6 = 6\t\n",
            "1 * 7 = 7\t\n",
            "1 * 8 = 8\t\n",
            "1 * 9 = 9\t\n",
            "1 * 10 = 10\t\n",
            "\t\n",
            "2 * 1 = 2\t\n",
            "2 * 2 = 4\t\n",
            "2 * 3 = 6\t\n",
            "2 * 4 = 8\t\n",
            "2 * 5 = 10\t\n",
            "2 * 6 = 12\t\n",
            "2 * 7 = 14\t\n",
            "2 * 8 = 16\t\n",
            "2 * 9 = 18\t\n",
            "2 * 10 = 20\t\n",
            "\t\n",
            "3 * 1 = 3\t\n",
            "3 * 2 = 6\t\n",
            "3 * 3 = 9\t\n",
            "3 * 4 = 12\t\n",
            "3 * 5 = 15\t\n",
            "3 * 6 = 18\t\n",
            "3 * 7 = 21\t\n",
            "3 * 8 = 24\t\n",
            "3 * 9 = 27\t\n",
            "3 * 10 = 30\t\n",
            "\t\n",
            "4 * 1 = 4\t\n",
            "4 * 2 = 8\t\n",
            "4 * 3 = 12\t\n",
            "4 * 4 = 16\t\n",
            "4 * 5 = 20\t\n",
            "4 * 6 = 24\t\n",
            "4 * 7 = 28\t\n",
            "4 * 8 = 32\t\n",
            "4 * 9 = 36\t\n",
            "4 * 10 = 40\t\n",
            "\t\n",
            "5 * 1 = 5\t\n",
            "5 * 2 = 10\t\n",
            "5 * 3 = 15\t\n",
            "5 * 4 = 20\t\n",
            "5 * 5 = 25\t\n",
            "5 * 6 = 30\t\n",
            "5 * 7 = 35\t\n",
            "5 * 8 = 40\t\n",
            "5 * 9 = 45\t\n",
            "5 * 10 = 50\t\n",
            "\t\n",
            "6 * 1 = 6\t\n",
            "6 * 2 = 12\t\n",
            "6 * 3 = 18\t\n",
            "6 * 4 = 24\t\n",
            "6 * 5 = 30\t\n",
            "6 * 6 = 36\t\n",
            "6 * 7 = 42\t\n",
            "6 * 8 = 48\t\n",
            "6 * 9 = 54\t\n",
            "6 * 10 = 60\t\n",
            "\t\n",
            "7 * 1 = 7\t\n",
            "7 * 2 = 14\t\n",
            "7 * 3 = 21\t\n",
            "7 * 4 = 28\t\n",
            "7 * 5 = 35\t\n",
            "7 * 6 = 42\t\n",
            "7 * 7 = 49\t\n",
            "7 * 8 = 56\t\n",
            "7 * 9 = 63\t\n",
            "7 * 10 = 70\t\n",
            "\t\n",
            "8 * 1 = 8\t\n",
            "8 * 2 = 16\t\n",
            "8 * 3 = 24\t\n",
            "8 * 4 = 32\t\n",
            "8 * 5 = 40\t\n",
            "8 * 6 = 48\t\n",
            "8 * 7 = 56\t\n",
            "8 * 8 = 64\t\n",
            "8 * 9 = 72\t\n",
            "8 * 10 = 80\t\n",
            "\t\n",
            "9 * 1 = 9\t\n",
            "9 * 2 = 18\t\n",
            "9 * 3 = 27\t\n",
            "9 * 4 = 36\t\n",
            "9 * 5 = 45\t\n",
            "9 * 6 = 54\t\n",
            "9 * 7 = 63\t\n",
            "9 * 8 = 72\t\n",
            "9 * 9 = 81\t\n",
            "9 * 10 = 90\t\n",
            "\t\n",
            "10 * 1 = 10\t\n",
            "10 * 2 = 20\t\n",
            "10 * 3 = 30\t\n",
            "10 * 4 = 40\t\n",
            "10 * 5 = 50\t\n",
            "10 * 6 = 60\t\n",
            "10 * 7 = 70\t\n",
            "10 * 8 = 80\t\n",
            "10 * 9 = 90\t\n",
            "10 * 10 = 100\t\n",
            "\t\n"
          ]
        }
      ]
    },
    {
      "cell_type": "code",
      "source": [
        "#7\tGiven a two list of numbers, write a function to create a new list such that the new list should contain \n",
        "# odd numbers from the first list and even numbers from the second list.\n",
        "def even_odd(list1,list2):\n",
        "  new_list = []\n",
        "  #list1 = [6,7,8,9,10,11]\n",
        "  #list2 = [15,16,17,18,19]\n",
        "  for i in list1:\n",
        "    if i % 2 ==0:\n",
        "      new_list.append(i)\n",
        "  for a in list2:\n",
        "    if a % 2 !=0:\n",
        "      new_list.append(a)\n",
        "  return new_list\n",
        "list1 = [6,7,8,9,10,11]\n",
        "list2 = [15,16,17,18,19,20]\n",
        "\n"
      ],
      "metadata": {
        "id": "n0R90hF5J3ON"
      },
      "execution_count": 22,
      "outputs": []
    },
    {
      "cell_type": "code",
      "source": [
        "even_odd(list1,list2)\n"
      ],
      "metadata": {
        "colab": {
          "base_uri": "https://localhost:8080/"
        },
        "id": "yAAl8QjYL5eo",
        "outputId": "215b6817-7be6-47d8-ac74-23da90fb8a6a"
      },
      "execution_count": 23,
      "outputs": [
        {
          "output_type": "execute_result",
          "data": {
            "text/plain": [
              "[6, 8, 10, 15, 17, 19]"
            ]
          },
          "metadata": {},
          "execution_count": 23
        }
      ]
    }
  ]
}