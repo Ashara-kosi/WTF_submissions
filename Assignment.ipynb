{
 "cells": [
  {
   "cell_type": "markdown",
   "metadata": {},
   "source": [
    "##### 1. Write a function called showNumbers that takes a parameter called limit. It should print all the numbers between 0 and the limit with a label to identify the even and odd numbers. For example, if the limit is 3, it should print:0 EVEN 1 ODD 2 EVEN 3 ODD"
   ]
  },
  {
   "cell_type": "code",
   "execution_count": 6,
   "metadata": {},
   "outputs": [
    {
     "name": "stdout",
     "output_type": "stream",
     "text": [
      "0 EVEN\n",
      "1 ODD\n",
      "2 EVEN\n",
      "3 ODD\n",
      "4 EVEN\n",
      "5 ODD\n",
      "6 EVEN\n",
      "7 ODD\n",
      "8 EVEN\n",
      "9 ODD\n",
      "10 EVEN\n"
     ]
    }
   ],
   "source": [
    "def showNumbers(limit):\n",
    "    for num in range(0, limit + 1):\n",
    "        if (num % 2) == 0:\n",
    "            print(num, \"EVEN\")\n",
    "        else:\n",
    "            print(num, \"ODD\")\n",
    "\n",
    "\n",
    "showNumbers(10)"
   ]
  },
  {
   "cell_type": "markdown",
   "metadata": {},
   "source": [
    "##### 2. Write a function that returns the sum of multiples of 3 and 5 between 0 and limit (parameter). For example, if limit is 20, it should return the sum of 3, 5, 6, 9, 10, 12, 15, 18, 20"
   ]
  },
  {
   "cell_type": "code",
   "execution_count": 7,
   "metadata": {},
   "outputs": [
    {
     "name": "stdout",
     "output_type": "stream",
     "text": [
      "Multiples of 3 and 5 within range 0 and 20 includes:\n",
      "0\n",
      "3\n",
      "5\n",
      "6\n",
      "9\n",
      "10\n",
      "12\n",
      "15\n",
      "18\n",
      "20\n",
      "The sum total of multiples of 3 and 5 within the given range is 98\n"
     ]
    }
   ],
   "source": [
    "def sum_multiples(limit):\n",
    "    sum = 0\n",
    "    print(\"Multiples of 3 and 5 within range 0 and\", limit, \"includes:\")\n",
    "    for num in range(0, limit + 1):\n",
    "        if (num % 3) == 0 or (num % 5) == 0:\n",
    "            print(num)\n",
    "            sum = sum + num\n",
    "    print(\"The sum total of multiples of 3 and 5 within the given range is\", sum)\n",
    "\n",
    "\n",
    "sum_multiples(20)"
   ]
  },
  {
   "cell_type": "markdown",
   "metadata": {},
   "source": [
    "##### 3. Write a function called show_stars(rows). If the rows is 5, it should print the following:***************"
   ]
  },
  {
   "cell_type": "code",
   "execution_count": 23,
   "metadata": {},
   "outputs": [
    {
     "name": "stdout",
     "output_type": "stream",
     "text": [
      "    ***\n",
      "   ******\n",
      "  *********\n",
      " ************\n",
      "***************\n"
     ]
    }
   ],
   "source": [
    "def show_stars(rows):\n",
    "    k = rows - 1\n",
    "    for i in range(0, rows):\n",
    "        for j in range(0, k):\n",
    "            print(end=\" \")\n",
    "\n",
    "        k = k - 1\n",
    "\n",
    "        for j in range(0, i + 1):\n",
    "            print(\"***\", end=\"\")\n",
    "\n",
    "        print(\"\\r\")\n",
    "\n",
    "\n",
    "rows = 5\n",
    "show_stars(rows)"
   ]
  },
  {
   "cell_type": "markdown",
   "metadata": {},
   "source": [
    "##### 4. Write a function that prints out all the prime numbers between 0 and limit where limit is a parameter."
   ]
  },
  {
   "cell_type": "code",
   "execution_count": 3,
   "metadata": {},
   "outputs": [
    {
     "name": "stdout",
     "output_type": "stream",
     "text": [
      "2\n",
      "3\n",
      "5\n",
      "7\n",
      "11\n",
      "13\n",
      "17\n",
      "19\n",
      "23\n",
      "29\n",
      "31\n",
      "37\n"
     ]
    }
   ],
   "source": [
    "def prime(limit):\n",
    "    for num in range(0, limit + 1):\n",
    "        if num > 1:\n",
    "            for item in range(2, num):\n",
    "                if (num % item) == 0:\n",
    "                    break\n",
    "            else:\n",
    "                print(num)\n",
    "\n",
    "                    \n",
    "upper_range = int(input(\"Enter the upper range number:\"))\n",
    "\n",
    "prime(upper_range)"
   ]
  },
  {
   "cell_type": "markdown",
   "metadata": {},
   "source": [
    "##### 5. Write a program (function!) that takes a list and returns a new list that contains all the elements of the first list minus all the duplicates."
   ]
  },
  {
   "cell_type": "code",
   "execution_count": 2,
   "metadata": {},
   "outputs": [
    {
     "name": "stdout",
     "output_type": "stream",
     "text": [
      "[48, 15, 23]\n"
     ]
    }
   ],
   "source": [
    "def dupli_lst(obj):\n",
    "    new = list(set(obj))\n",
    "    print(new)\n",
    "\n",
    "num = [23, 48, 15, 48, 23, 15]\n",
    "dupli_lst(num)"
   ]
  },
  {
   "cell_type": "markdown",
   "metadata": {},
   "source": [
    "##### 6. Write a function to ask the user for a number and determine whether the number is prime or not."
   ]
  },
  {
   "cell_type": "code",
   "execution_count": 5,
   "metadata": {},
   "outputs": [
    {
     "name": "stdout",
     "output_type": "stream",
     "text": [
      "5 is a prime number\n"
     ]
    }
   ],
   "source": [
    "def prime_no(num):\n",
    "    if num > 1:\n",
    "        for i in range(2, int(num / 2) + 1):\n",
    "            if num % i == 0:\n",
    "                print(num, \"is not a prime number\")\n",
    "                break\n",
    "        else:\n",
    "            print(num, \"is a prime number\")\n",
    "    else:\n",
    "        print(num,\"is not a prime number\")\n",
    "\n",
    "number = int(input(\"Enter a number you like:\"))\n",
    "prime_no(number)"
   ]
  },
  {
   "cell_type": "markdown",
   "metadata": {},
   "source": [
    "##### 7. Write a program that asks the user how many Fibonacci numbers to generate and then generates them."
   ]
  },
  {
   "cell_type": "code",
   "execution_count": 31,
   "metadata": {},
   "outputs": [
    {
     "ename": "TypeError",
     "evalue": "int() argument must be a string, a bytes-like object or a real number, not 'list'",
     "output_type": "error",
     "traceback": [
      "\u001b[1;31m---------------------------------------------------------------------------\u001b[0m",
      "\u001b[1;31mTypeError\u001b[0m                                 Traceback (most recent call last)",
      "Cell \u001b[1;32mIn [31], line 8\u001b[0m\n\u001b[0;32m      5\u001b[0m     \u001b[38;5;28;01mreturn\u001b[39;00m fibonacci(num \u001b[38;5;241m-\u001b[39m \u001b[38;5;241m1\u001b[39m) \u001b[38;5;241m+\u001b[39m fibonacci(num \u001b[38;5;241m-\u001b[39m \u001b[38;5;241m2\u001b[39m)\n\u001b[0;32m      7\u001b[0m number \u001b[38;5;241m=\u001b[39m \u001b[38;5;28mint\u001b[39m(\u001b[38;5;28minput\u001b[39m(\u001b[38;5;124m\"\u001b[39m\u001b[38;5;124mHow many fibonacci numbers do you want\u001b[39m\u001b[38;5;124m\"\u001b[39m))\n\u001b[1;32m----> 8\u001b[0m [fibonacci(number) \u001b[38;5;28;01mfor\u001b[39;00m i \u001b[38;5;129;01min\u001b[39;00m \u001b[38;5;28mrange\u001b[39m(\u001b[38;5;28;43mint\u001b[39;49m\u001b[43m(\u001b[49m\u001b[43mnum\u001b[49m\u001b[43m)\u001b[49m)]\n",
      "\u001b[1;31mTypeError\u001b[0m: int() argument must be a string, a bytes-like object or a real number, not 'list'"
     ]
    }
   ],
   "source": [
    "def fibonacci(num):\n",
    "    if num in {0, 1}:\n",
    "        return num\n",
    "    \n",
    "    return fibonacci(num - 1) + fibonacci(num - 2)\n",
    "\n",
    "number = int(input(\"How many fibonacci numbers do you want\"))\n",
    "[fibonacci(number) for i in range(num)]"
   ]
  },
  {
   "cell_type": "markdown",
   "metadata": {},
   "source": [
    "##### 8. Write a function that asks the user for a string and print out whether this string is a palindrome or not."
   ]
  },
  {
   "cell_type": "code",
   "execution_count": 29,
   "metadata": {},
   "outputs": [
    {
     "data": {
      "text/plain": [
       "'This is a palindrome'"
      ]
     },
     "execution_count": 29,
     "metadata": {},
     "output_type": "execute_result"
    }
   ],
   "source": [
    "def palindrome(obj):\n",
    "    left_pos = 0\n",
    "    right_pos = len(obj) - 1\n",
    "    while right_pos >= left_pos:\n",
    "        if not obj[left_pos] == obj[right_pos]:\n",
    "            return(\"This is not a palindrome\")\n",
    "\n",
    "        left_pos += 1\n",
    "        right_pos -= 1\n",
    "    return(\"This is a palindrome\")\n",
    "\n",
    "obj = str(input(\"Give me a string: \"))\n",
    "palindrome(obj)"
   ]
  },
  {
   "cell_type": "markdown",
   "metadata": {},
   "source": [
    "##### 9. Write a function that takes an ordered list of numbers (a list where the elements are in order from smallest to largest) and another number"
   ]
  },
  {
   "cell_type": "code",
   "execution_count": null,
   "metadata": {},
   "outputs": [],
   "source": [
    "def order_list(x):\n",
    "    num = int(input(\"Which number do you want to look for: \"))\n",
    "\n",
    "    while x != []:\n",
    "        mid = int(len(x)/2)\n",
    "        if num == x[mid]:\n",
    "            print(\"The list contains %d.\" % num)\n",
    "            \n",
    "\n",
    "        elif num > x[mid]:\n",
    "            del x[:mid+1]\n",
    "\n",
    "\n",
    "        elif num < x[mid]:\n",
    "            del x[mid:]\n",
    "    break\n",
    "\n",
    "\n",
    "    print('''The list doesn't contain %d.''' % num)\n",
    "\n",
    "x = [1, 2, 3, 20, 25, 40, 43, 56, 72]\n",
    "order_list(x)\n",
    "        "
   ]
  },
  {
   "cell_type": "markdown",
   "metadata": {},
   "source": [
    "##### 10. Create a program that asks the user to enter their name and their age. Print out a message addressed to them that tells them the year that they will turn 100 years old."
   ]
  },
  {
   "cell_type": "code",
   "execution_count": 3,
   "metadata": {},
   "outputs": [
    {
     "name": "stdout",
     "output_type": "stream",
     "text": [
      "Hi Blossom \n",
      "You will be a hundred years in 2105\n"
     ]
    }
   ],
   "source": [
    "from datetime import date\n",
    "def hundredthyear(name, age):\n",
    "    today = date.today()\n",
    "    birth_year = today.year - age\n",
    "\n",
    "    year_100 = birth_year + 100\n",
    "    print(\"Hi\", name, \"\\nYou will be a hundred years in\", year_100)\n",
    "\n",
    "\n",
    "name = str(input(\"What is your name? \"))\n",
    "age = int(input(\"How old are you? \"))\n",
    "hundredthyear(name, age)"
   ]
  }
 ],
 "metadata": {
  "kernelspec": {
   "display_name": "Python 3.10.0 64-bit",
   "language": "python",
   "name": "python3"
  },
  "language_info": {
   "codemirror_mode": {
    "name": "ipython",
    "version": 3
   },
   "file_extension": ".py",
   "mimetype": "text/x-python",
   "name": "python",
   "nbconvert_exporter": "python",
   "pygments_lexer": "ipython3",
   "version": "3.10.0"
  },
  "orig_nbformat": 4,
  "vscode": {
   "interpreter": {
    "hash": "72a83d04c20f409be1f488a663638cb27b0b56e95f53a045b7ad8e835d33d064"
   }
  }
 },
 "nbformat": 4,
 "nbformat_minor": 2
}
