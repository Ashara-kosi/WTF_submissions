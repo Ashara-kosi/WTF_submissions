{
 "cells": [
  {
   "cell_type": "markdown",
   "id": "c5110a7c",
   "metadata": {},
   "source": [
    "Write a function to calculate the multiplication and sum of two numbers. \n",
    "\n",
    "Write a function to print the sum of the current number and the previous numberr \n",
    "\n",
    "Write a function to print characters from a string that are present at an even index number \n",
    "\n",
    "Write a function to rremove first characters from a string \n",
    "\n",
    "Write a function to check if the first and last number of a list is the same \n",
    "\n",
    " Write a function to print multiplication table from 1 to 10 \n",
    "\n",
    "Given a two list of numbers, write a function to create a new list such that the new list should contain odd numbers from the first list and even numbers from the second list. \n",
    "\n",
    " "
   ]
  },
  {
   "cell_type": "code",
   "execution_count": 21,
   "id": "a9babf4c",
   "metadata": {},
   "outputs": [
    {
     "name": "stdout",
     "output_type": "stream",
     "text": [
      "please input the first number: 3\n",
      "please input the second number: 4\n",
      "The product of 3 and 4 is : 12\n",
      "Please input the first number to sum: 50\n",
      "Please input the second number to sum: 39\n",
      "The sum of  50 and 39 is : 89\n"
     ]
    }
   ],
   "source": [
    "#Question 1: Write a function to calculate the multiplication and sum of two numbers\n",
    "def multiply (x, y):\n",
    "    return (x*y)\n",
    "num1 = int(input('please input the first number: '))\n",
    "num2 = int(input('please input the second number: '))\n",
    "print('The product of', num1, 'and', num2, 'is', ':', multiply(num1, num2))\n",
    "\n",
    "#function for sum of two numbers\n",
    "def sum (a,b):\n",
    "    return(a + b)\n",
    "numb1= int(input('Please input the first number to sum: '))\n",
    "numb2= int(input('Please input the second number to sum: '))\n",
    "print('The sum of ', numb1, 'and', numb2, 'is', ':', sum(numb1, numb2))"
   ]
  },
  {
   "cell_type": "code",
   "execution_count": 105,
   "id": "29fed6be",
   "metadata": {},
   "outputs": [
    {
     "name": "stdout",
     "output_type": "stream",
     "text": [
      "1\n",
      "7\n",
      "13\n",
      "96\n",
      "145\n",
      "134\n",
      "168\n",
      "124\n",
      "90\n",
      "102\n"
     ]
    }
   ],
   "source": [
    "#Question 2 def previous_current (list):\n",
    "    for i in range(len(list)):\n",
    "        if i == 0:\n",
    "            print (list[i])\n",
    "        else:\n",
    "            print(list[i-1] + list[i])\n",
    "\n",
    "k= [1,6, 7, 89, 56, 78, 90, 34, 56, 46]\n",
    "previous_current(k)"
   ]
  },
  {
   "cell_type": "code",
   "execution_count": 48,
   "id": "12be5fdc",
   "metadata": {},
   "outputs": [
    {
     "name": "stdout",
     "output_type": "stream",
     "text": [
      "Please type in word of choice: photosynthesis\n",
      "o\n",
      "o\n",
      "y\n",
      "t\n",
      "e\n",
      "i\n"
     ]
    }
   ],
   "source": [
    "#Question 3: write a function to print characters from a string that are present at an even index number\n",
    "def even_index(x):\n",
    "    for i in range(len(x)):\n",
    "     if i> 0 and i%2 ==0:\n",
    "            print(x[i])\n",
    "word= str(input('Please type in word of choice: '))\n",
    "even_index(word)"
   ]
  },
  {
   "cell_type": "code",
   "execution_count": 70,
   "id": "0277b954",
   "metadata": {},
   "outputs": [
    {
     "name": "stdout",
     "output_type": "stream",
     "text": [
      "Please input string :destiny\n"
     ]
    },
    {
     "data": {
      "text/plain": [
       "'estiny'"
      ]
     },
     "execution_count": 70,
     "metadata": {},
     "output_type": "execute_result"
    }
   ],
   "source": [
    "#Question 4 Write a function to rremove first characters from a string\n",
    "def removal(x):\n",
    "    new_string= x[1:]\n",
    "    return(new_string)\n",
    "string = str(input('Please input string :'))\n",
    "removal(string)\n"
   ]
  },
  {
   "cell_type": "code",
   "execution_count": 88,
   "id": "7eb31b6e",
   "metadata": {},
   "outputs": [
    {
     "name": "stdout",
     "output_type": "stream",
     "text": [
      "The first and last numbers are not equal\n"
     ]
    }
   ],
   "source": [
    "#Question 5 Write a function to check if the first and last number of a list is the same\n",
    "def similar(list):\n",
    "    if list[0] == list[-1]:\n",
    "        print ('The first and last number is the same')\n",
    "    else:\n",
    "        print('The first and last numbers are not equal')\n",
    "\n",
    "similar([2,4,5,6,7,8,9, 2, 33])"
   ]
  },
  {
   "cell_type": "code",
   "execution_count": 89,
   "id": "d5705c72",
   "metadata": {},
   "outputs": [
    {
     "name": "stdout",
     "output_type": "stream",
     "text": [
      "Please enter a number to print multiplication table: 66\n",
      "66 x 1 = 66\n",
      "66 x 2 = 132\n",
      "66 x 3 = 198\n",
      "66 x 4 = 264\n",
      "66 x 5 = 330\n",
      "66 x 6 = 396\n",
      "66 x 7 = 462\n",
      "66 x 8 = 528\n",
      "66 x 9 = 594\n",
      "66 x 10 = 660\n"
     ]
    }
   ],
   "source": [
    "#Question 6: Write a function to print the multiplication table for numbers from 1 to 10\n",
    "def times_table(num):\n",
    "    for i in range(1, 11):\n",
    "        print(num, 'x', i, '=', num*i)\n",
    "\n",
    "n= int(input('Please enter a number to print multiplication table: '))\n",
    "times_table(n)"
   ]
  },
  {
   "cell_type": "code",
   "execution_count": 103,
   "id": "be2bec1b",
   "metadata": {},
   "outputs": [
    {
     "data": {
      "text/plain": [
       "[5, 7, 5, 5, 59, 16, 54, 80, 68, 90]"
      ]
     },
     "execution_count": 103,
     "metadata": {},
     "output_type": "execute_result"
    }
   ],
   "source": [
    "#Question 7 write a function to create a new list such that the new list should contain odd numbers from the first list and even numbers from the second list.\n",
    "def create(list1, list2):\n",
    "    new_list = []\n",
    "    \n",
    "    for num in list1:\n",
    "        if num % 2 != 0:\n",
    "            new_list.append(num)\n",
    "    \n",
    "    for num in list2:\n",
    "        if num % 2 == 0:\n",
    "            new_list.append(num)\n",
    "    return new_list\n",
    "\n",
    "x= [2,5,7,18,5,4,5,6, 56, 34, 59]\n",
    "y= [5,9,16,54,67,80, 45, 68, 90]\n",
    "create(x, y)"
   ]
  }
 ],
 "metadata": {
  "kernelspec": {
   "display_name": "Python 3 (ipykernel)",
   "language": "python",
   "name": "python3"
  },
  "language_info": {
   "codemirror_mode": {
    "name": "ipython",
    "version": 3
   },
   "file_extension": ".py",
   "mimetype": "text/x-python",
   "name": "python",
   "nbconvert_exporter": "python",
   "pygments_lexer": "ipython3",
   "version": "3.9.12"
  }
 },
 "nbformat": 4,
 "nbformat_minor": 5
}
