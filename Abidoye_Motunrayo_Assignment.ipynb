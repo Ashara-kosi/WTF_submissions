{
 "cells": [
  {
   "cell_type": "markdown",
   "id": "62571ad7",
   "metadata": {},
   "source": [
    "### 1. Write a function to calculate the multiplication and sum of two numbers."
   ]
  },
  {
   "cell_type": "code",
   "execution_count": 1,
   "id": "38db4bff",
   "metadata": {},
   "outputs": [],
   "source": [
    "def mul_add(a,b):\n",
    "    multi =  a * b\n",
    "    while multi <= 100:\n",
    "        return multi\n",
    "    else:\n",
    "        return a + b"
   ]
  },
  {
   "cell_type": "code",
   "execution_count": 2,
   "id": "6460e658",
   "metadata": {},
   "outputs": [
    {
     "name": "stdout",
     "output_type": "stream",
     "text": [
      "The result is:  20\n",
      "The result is:  105\n"
     ]
    }
   ],
   "source": [
    "\n",
    "multi_add = mul_add(4,5)\n",
    "print('The result is: ', multi_add)\n",
    "\n",
    "multi_add = mul_add(100,5)\n",
    "print('The result is: ', multi_add)\n"
   ]
  },
  {
   "cell_type": "markdown",
   "id": "b3b8bbed",
   "metadata": {},
   "source": [
    "### 2. Write a function to print the sum of the current number and the previous numberr"
   ]
  },
  {
   "cell_type": "code",
   "execution_count": 3,
   "id": "12f1cb87",
   "metadata": {},
   "outputs": [],
   "source": [
    "def sumof_current_previous(numbers):\n",
    "\n",
    "  previous_number = 0\n",
    "\n",
    "  for i in range(1, 20):\n",
    "\n",
    "    current_number = i + previous_number   \n",
    "  print(\"\\n\")\n",
    "\n",
    "  print(\"Previous Number: \", previous_number)\n",
    "\n",
    "  print(\"Current Number: \", current_number)\n",
    "\n",
    "  sum1 = range(previous_number+current_number)\n",
    "  print(sum1)\n",
    "\n",
    "  print(\"Addition of two numbers is: \", sum(sum1))\n"
   ]
  },
  {
   "cell_type": "code",
   "execution_count": 4,
   "id": "d8eb5fe8",
   "metadata": {
    "scrolled": true
   },
   "outputs": [
    {
     "name": "stdout",
     "output_type": "stream",
     "text": [
      "\n",
      "\n",
      "Previous Number:  0\n",
      "Current Number:  19\n",
      "range(0, 19)\n",
      "Addition of two numbers is:  171\n"
     ]
    }
   ],
   "source": [
    "numbers= range(1, 20)\n",
    "sumof_current_previous(numbers)"
   ]
  },
  {
   "cell_type": "markdown",
   "id": "9ae049c2",
   "metadata": {},
   "source": [
    "### 3. Write a function to print characters from a string that are present at an even index number"
   ]
  },
  {
   "cell_type": "code",
   "execution_count": 5,
   "id": "c06afd06",
   "metadata": {},
   "outputs": [],
   "source": [
    "def info(string):\n",
    "    for i in string:\n",
    "        print(i)\n"
   ]
  },
  {
   "cell_type": "code",
   "execution_count": 6,
   "id": "a9871ce5",
   "metadata": {
    "scrolled": true
   },
   "outputs": [
    {
     "name": "stdout",
     "output_type": "stream",
     "text": [
      "M\n",
      "t\n",
      "n\n",
      "a\n",
      "o\n"
     ]
    }
   ],
   "source": [
    "string = 'Motunrayo'\n",
    "info(string[0::2])"
   ]
  },
  {
   "cell_type": "markdown",
   "id": "c8bdc73b",
   "metadata": {},
   "source": [
    "### 4. Write a function to rremove first characters from a string"
   ]
  },
  {
   "cell_type": "code",
   "execution_count": 7,
   "id": "d0ea211f",
   "metadata": {},
   "outputs": [],
   "source": [
    "def info(string):\n",
    "    for i in string:\n",
    "        print(i)"
   ]
  },
  {
   "cell_type": "code",
   "execution_count": 8,
   "id": "480f8e43",
   "metadata": {},
   "outputs": [
    {
     "name": "stdout",
     "output_type": "stream",
     "text": [
      "y\n",
      "t\n",
      "h\n",
      "o\n",
      "n\n"
     ]
    }
   ],
   "source": [
    "string = 'python'\n",
    "info(string[1::])"
   ]
  },
  {
   "cell_type": "markdown",
   "id": "98849b9f",
   "metadata": {},
   "source": [
    "### 5. Write a function to check if the first and last number of a list is the same"
   ]
  },
  {
   "cell_type": "code",
   "execution_count": 9,
   "id": "4dbc8098",
   "metadata": {},
   "outputs": [],
   "source": [
    "def check(numbers):\n",
    "    first_number = numbers[0]\n",
    "    last_number = numbers[-1]\n",
    "    if first_number==last_number:\n",
    "        return True\n",
    "    else:\n",
    "        return False\n",
    "    \n",
    "    "
   ]
  },
  {
   "cell_type": "code",
   "execution_count": 10,
   "id": "7ef9bedf",
   "metadata": {},
   "outputs": [
    {
     "name": "stdout",
     "output_type": "stream",
     "text": [
      "False\n",
      "        \n",
      "True\n"
     ]
    }
   ],
   "source": [
    "numbers = [1,2,3,4,5,6]\n",
    "print(check(numbers))\n",
    "print('        ')\n",
    "numbers = [1,2,3,4,5,1]\n",
    "print(check(numbers))"
   ]
  },
  {
   "cell_type": "markdown",
   "id": "f655d7f8",
   "metadata": {},
   "source": [
    "### 6. Write a function to print multiplication table from 1 to 10"
   ]
  },
  {
   "cell_type": "code",
   "execution_count": 11,
   "id": "4eeffc67",
   "metadata": {},
   "outputs": [],
   "source": [
    "def multiplication():\n",
    "    for i in range(1, 11):\n",
    "        for j in range(1, 11):\n",
    "            print(i,\"*\",j,\"=\",i*j,end=\"\\t\\n\")\n",
    "        print(\"\\t\")"
   ]
  },
  {
   "cell_type": "code",
   "execution_count": 12,
   "id": "b1d9ddac",
   "metadata": {
    "scrolled": true
   },
   "outputs": [
    {
     "name": "stdout",
     "output_type": "stream",
     "text": [
      "1 * 1 = 1\t\n",
      "1 * 2 = 2\t\n",
      "1 * 3 = 3\t\n",
      "1 * 4 = 4\t\n",
      "1 * 5 = 5\t\n",
      "1 * 6 = 6\t\n",
      "1 * 7 = 7\t\n",
      "1 * 8 = 8\t\n",
      "1 * 9 = 9\t\n",
      "1 * 10 = 10\t\n",
      "\t\n",
      "2 * 1 = 2\t\n",
      "2 * 2 = 4\t\n",
      "2 * 3 = 6\t\n",
      "2 * 4 = 8\t\n",
      "2 * 5 = 10\t\n",
      "2 * 6 = 12\t\n",
      "2 * 7 = 14\t\n",
      "2 * 8 = 16\t\n",
      "2 * 9 = 18\t\n",
      "2 * 10 = 20\t\n",
      "\t\n",
      "3 * 1 = 3\t\n",
      "3 * 2 = 6\t\n",
      "3 * 3 = 9\t\n",
      "3 * 4 = 12\t\n",
      "3 * 5 = 15\t\n",
      "3 * 6 = 18\t\n",
      "3 * 7 = 21\t\n",
      "3 * 8 = 24\t\n",
      "3 * 9 = 27\t\n",
      "3 * 10 = 30\t\n",
      "\t\n",
      "4 * 1 = 4\t\n",
      "4 * 2 = 8\t\n",
      "4 * 3 = 12\t\n",
      "4 * 4 = 16\t\n",
      "4 * 5 = 20\t\n",
      "4 * 6 = 24\t\n",
      "4 * 7 = 28\t\n",
      "4 * 8 = 32\t\n",
      "4 * 9 = 36\t\n",
      "4 * 10 = 40\t\n",
      "\t\n",
      "5 * 1 = 5\t\n",
      "5 * 2 = 10\t\n",
      "5 * 3 = 15\t\n",
      "5 * 4 = 20\t\n",
      "5 * 5 = 25\t\n",
      "5 * 6 = 30\t\n",
      "5 * 7 = 35\t\n",
      "5 * 8 = 40\t\n",
      "5 * 9 = 45\t\n",
      "5 * 10 = 50\t\n",
      "\t\n",
      "6 * 1 = 6\t\n",
      "6 * 2 = 12\t\n",
      "6 * 3 = 18\t\n",
      "6 * 4 = 24\t\n",
      "6 * 5 = 30\t\n",
      "6 * 6 = 36\t\n",
      "6 * 7 = 42\t\n",
      "6 * 8 = 48\t\n",
      "6 * 9 = 54\t\n",
      "6 * 10 = 60\t\n",
      "\t\n",
      "7 * 1 = 7\t\n",
      "7 * 2 = 14\t\n",
      "7 * 3 = 21\t\n",
      "7 * 4 = 28\t\n",
      "7 * 5 = 35\t\n",
      "7 * 6 = 42\t\n",
      "7 * 7 = 49\t\n",
      "7 * 8 = 56\t\n",
      "7 * 9 = 63\t\n",
      "7 * 10 = 70\t\n",
      "\t\n",
      "8 * 1 = 8\t\n",
      "8 * 2 = 16\t\n",
      "8 * 3 = 24\t\n",
      "8 * 4 = 32\t\n",
      "8 * 5 = 40\t\n",
      "8 * 6 = 48\t\n",
      "8 * 7 = 56\t\n",
      "8 * 8 = 64\t\n",
      "8 * 9 = 72\t\n",
      "8 * 10 = 80\t\n",
      "\t\n",
      "9 * 1 = 9\t\n",
      "9 * 2 = 18\t\n",
      "9 * 3 = 27\t\n",
      "9 * 4 = 36\t\n",
      "9 * 5 = 45\t\n",
      "9 * 6 = 54\t\n",
      "9 * 7 = 63\t\n",
      "9 * 8 = 72\t\n",
      "9 * 9 = 81\t\n",
      "9 * 10 = 90\t\n",
      "\t\n",
      "10 * 1 = 10\t\n",
      "10 * 2 = 20\t\n",
      "10 * 3 = 30\t\n",
      "10 * 4 = 40\t\n",
      "10 * 5 = 50\t\n",
      "10 * 6 = 60\t\n",
      "10 * 7 = 70\t\n",
      "10 * 8 = 80\t\n",
      "10 * 9 = 90\t\n",
      "10 * 10 = 100\t\n",
      "\t\n"
     ]
    }
   ],
   "source": [
    "multiplication()"
   ]
  },
  {
   "cell_type": "markdown",
   "id": "60ac75eb",
   "metadata": {},
   "source": [
    "### 7. Given a two list of numbers, write a function to create a new list such that the new list should contain odd numbers from the first list and even numbers from the second list."
   ]
  },
  {
   "cell_type": "code",
   "execution_count": 13,
   "id": "7d027513",
   "metadata": {},
   "outputs": [],
   "source": [
    "def odd_even(list_A, list_B):\n",
    "    New_list = []\n",
    "    for i in list_A:\n",
    "        if i % 2 == 0:\n",
    "            New_list.append(i)\n",
    "    for u in list_B:\n",
    "        if u % 2 != 0:\n",
    "            New_list.append(u)\n",
    "    return New_list\n",
    "list_1 = [1, 2, 3, 5, 6, 8, 11]\n",
    "list_2 = [11, 12, 13, 14, 15, 17, 18,]"
   ]
  },
  {
   "cell_type": "code",
   "execution_count": 14,
   "id": "d8bfaf68",
   "metadata": {},
   "outputs": [
    {
     "name": "stdout",
     "output_type": "stream",
     "text": [
      "[2, 6, 8, 11, 13, 15, 17]\n"
     ]
    }
   ],
   "source": [
    "print(odd_even(list_1, list_2))"
   ]
  },
  {
   "cell_type": "code",
   "execution_count": null,
   "id": "120577ec",
   "metadata": {},
   "outputs": [],
   "source": []
  }
 ],
 "metadata": {
  "kernelspec": {
   "display_name": "Python 3 (ipykernel)",
   "language": "python",
   "name": "python3"
  },
  "language_info": {
   "codemirror_mode": {
    "name": "ipython",
    "version": 3
   },
   "file_extension": ".py",
   "mimetype": "text/x-python",
   "name": "python",
   "nbconvert_exporter": "python",
   "pygments_lexer": "ipython3",
   "version": "3.9.12"
  }
 },
 "nbformat": 4,
 "nbformat_minor": 5
}
